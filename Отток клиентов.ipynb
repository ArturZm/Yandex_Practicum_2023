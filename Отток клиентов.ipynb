{
 "cells": [
  {
   "cell_type": "markdown",
   "metadata": {},
   "source": [
    "<div class=\"alert alert-success\">\n",
    "<h2> Комментарий ревьюера v3 ✔️ <a class=\"tocSkip\"> </h2>\n",
    "\n",
    "Спасибо тебе, за классный проект! Надеюсь ты учтешь мои комментарии в последующих работах. Благодарю за старания и интерес и желаю успехов в дальнейших проектах 😊\n",
    "\n",
    "</div>"
   ]
  },
  {
   "cell_type": "markdown",
   "metadata": {},
   "source": [
    "<div style=\"border:solid purple 2px; padding: 20px\"> \n",
    "\n",
    "Привет Артур! 👋\n",
    "\n",
    "Меня зовут Рустам Муртазин, и я буду делать ревью твоей работы. Давай будем общаться на **«ты»**. Если это неприемлемо, обязательно напиши мне в комментариях — мы перейдем на **«вы»**.\n",
    "\n",
    "Сейчас сложилась такая ситуация, что очень схожий проект я уже проверял. Передал информацию куратору. Просьба связаться с ним\n",
    "    \n",
    "    \n",
    "    \n",
    "    \n",
    "    !!! Куратор кто? Это мой проект. К кому мне обратиться?"
   ]
  },
  {
   "cell_type": "markdown",
   "metadata": {},
   "source": [
    "<div style=\"border:solid purple 2px; padding: 20px\">\n",
    "    \n",
    "Куратор твоей когорты Свинцова Любовь, обратись к ней\n",
    "    \n",
    "Мы с ней обсудили мои замечания, готов исправиться.\n",
    "    \n",
    "Поправил, все ответы нашёл в теории, у меня получилось. Спасибо большое!"
   ]
  },
  {
   "cell_type": "markdown",
   "metadata": {},
   "source": [
    "<div style=\"border:solid purple 2px; padding: 20px\"> \n",
    "\n",
    "Давай смотреть) Теперь по оформлению...\n",
    "\n",
    "Обрати внимание в первую очередь на те, что помечаны <span style=\"color:red\">красным цветом</span>. После их доработки проект будет принят. <span style=\"color:green\">Зеленым цветом</span> отмечены удачные и элегантные решения, на которые можно опираться в будущих проектах. <span style=\"color:orange\">Оранжевым цветом</span> выделено то, что в следующий раз можно сделать по-другому. Ты можешь учесть эти комментарии при выполнении будущих заданий или доработать проект сейчас (однако это не обязательно). Также в проекте могут быть небольшие «лайфхаки» по Python, не относящиеся к проекту, их я выделил фиолетовым цветом)\n",
    "\n",
    "Давай работать над проектом в диалоге: если ты **что-то меняешь** в проекте по моим рекомендациям — **пиши об этом**. Выбери для своих комментариев какой-то заметный цвет, так мне будет легче отследить изменения. Пожалуйста, **не перемещай, не изменяй и не удаляй мои комментарии**. Всё это поможет выполнить повторную проверку твоего проекта оперативнее».\n",
    "\n",
    "---\n",
    "    \n",
    "К сожалению, основные ошибки с первоисточника не были исправлены. Я добавил комментария на их исправления, но просьба в дальнейшем пробовать реализовать все самому, ведь только так мы сможем набить руку и стать профессионалом) Буду ждать работу на повторное ревью"
   ]
  },
  {
   "cell_type": "markdown",
   "metadata": {
    "toc": true
   },
   "source": [
    "<h1>Содержание<span class=\"tocSkip\"></span></h1>\n",
    "<div class=\"toc\"><ul class=\"toc-item\"><li><span><a href=\"#Подготовка-данных\" data-toc-modified-id=\"Подготовка-данных-1\"><span class=\"toc-item-num\">1&nbsp;&nbsp;</span>Подготовка данных</a></span></li><li><span><a href=\"#Исследование-задачи\" data-toc-modified-id=\"Исследование-задачи-2\"><span class=\"toc-item-num\">2&nbsp;&nbsp;</span>Исследование задачи</a></span></li><li><span><a href=\"#Борьба-с-дисбалансом\" data-toc-modified-id=\"Борьба-с-дисбалансом-3\"><span class=\"toc-item-num\">3&nbsp;&nbsp;</span>Борьба с дисбалансом</a></span></li><li><span><a href=\"#Тестирование-модели\" data-toc-modified-id=\"Тестирование-модели-4\"><span class=\"toc-item-num\">4&nbsp;&nbsp;</span>Тестирование модели</a></span></li><li><span><a href=\"#Чек-лист-готовности-проекта\" data-toc-modified-id=\"Чек-лист-готовности-проекта-5\"><span class=\"toc-item-num\">5&nbsp;&nbsp;</span>Чек-лист готовности проекта</a></span></li></ul></div>"
   ]
  },
  {
   "cell_type": "markdown",
   "metadata": {},
   "source": [
    "# Отток клиентов"
   ]
  },
  {
   "cell_type": "markdown",
   "metadata": {},
   "source": [
    "Из «Бета-Банка» стали уходить клиенты. Каждый месяц. Немного, но заметно. Банковские маркетологи посчитали: сохранять текущих клиентов дешевле, чем привлекать новых.\n",
    "\n",
    "Нужно спрогнозировать, уйдёт клиент из банка в ближайшее время или нет. Вам предоставлены исторические данные о поведении клиентов и расторжении договоров с банком. \n",
    "\n",
    "Постройте модель с предельно большим значением *F1*-меры. Чтобы сдать проект успешно, нужно довести метрику до 0.59. Проверьте *F1*-меру на тестовой выборке самостоятельно.\n",
    "\n",
    "Дополнительно измеряйте *AUC-ROC*, сравнивайте её значение с *F1*-мерой.\n",
    "\n",
    "Источник данных: [https://www.kaggle.com/barelydedicated/bank-customer-churn-modeling](https://www.kaggle.com/barelydedicated/bank-customer-churn-modeling)"
   ]
  },
  {
   "cell_type": "markdown",
   "metadata": {},
   "source": [
    "## Подготовка данных"
   ]
  },
  {
   "cell_type": "code",
   "execution_count": 1,
   "metadata": {},
   "outputs": [],
   "source": [
    "import pandas as pd \n",
    "from sklearn.model_selection import train_test_split\n",
    "from sklearn.tree import DecisionTreeClassifier\n",
    "from sklearn.preprocessing import StandardScaler\n",
    "from sklearn.ensemble import RandomForestClassifier\n",
    "from sklearn.linear_model import LogisticRegression\n",
    "from sklearn.metrics import confusion_matrix\n",
    "from sklearn.metrics import recall_score\n",
    "from sklearn.metrics import precision_score\n",
    "from sklearn.metrics import accuracy_score\n",
    "from sklearn.metrics import f1_score\n",
    "from sklearn import metrics\n",
    "from sklearn.utils import shuffle\n",
    "from sklearn.metrics import roc_curve\n",
    "import time\n",
    "from tqdm import tqdm"
   ]
  },
  {
   "cell_type": "code",
   "execution_count": 2,
   "metadata": {},
   "outputs": [
    {
     "name": "stdout",
     "output_type": "stream",
     "text": [
      "<class 'pandas.core.frame.DataFrame'>\n",
      "RangeIndex: 10000 entries, 0 to 9999\n",
      "Data columns (total 14 columns):\n",
      " #   Column           Non-Null Count  Dtype  \n",
      "---  ------           --------------  -----  \n",
      " 0   RowNumber        10000 non-null  int64  \n",
      " 1   CustomerId       10000 non-null  int64  \n",
      " 2   Surname          10000 non-null  object \n",
      " 3   CreditScore      10000 non-null  int64  \n",
      " 4   Geography        10000 non-null  object \n",
      " 5   Gender           10000 non-null  object \n",
      " 6   Age              10000 non-null  int64  \n",
      " 7   Tenure           9091 non-null   float64\n",
      " 8   Balance          10000 non-null  float64\n",
      " 9   NumOfProducts    10000 non-null  int64  \n",
      " 10  HasCrCard        10000 non-null  int64  \n",
      " 11  IsActiveMember   10000 non-null  int64  \n",
      " 12  EstimatedSalary  10000 non-null  float64\n",
      " 13  Exited           10000 non-null  int64  \n",
      "dtypes: float64(3), int64(8), object(3)\n",
      "memory usage: 1.1+ MB\n"
     ]
    },
    {
     "data": {
      "text/html": [
       "<div>\n",
       "<style scoped>\n",
       "    .dataframe tbody tr th:only-of-type {\n",
       "        vertical-align: middle;\n",
       "    }\n",
       "\n",
       "    .dataframe tbody tr th {\n",
       "        vertical-align: top;\n",
       "    }\n",
       "\n",
       "    .dataframe thead th {\n",
       "        text-align: right;\n",
       "    }\n",
       "</style>\n",
       "<table border=\"1\" class=\"dataframe\">\n",
       "  <thead>\n",
       "    <tr style=\"text-align: right;\">\n",
       "      <th></th>\n",
       "      <th>RowNumber</th>\n",
       "      <th>CustomerId</th>\n",
       "      <th>Surname</th>\n",
       "      <th>CreditScore</th>\n",
       "      <th>Geography</th>\n",
       "      <th>Gender</th>\n",
       "      <th>Age</th>\n",
       "      <th>Tenure</th>\n",
       "      <th>Balance</th>\n",
       "      <th>NumOfProducts</th>\n",
       "      <th>HasCrCard</th>\n",
       "      <th>IsActiveMember</th>\n",
       "      <th>EstimatedSalary</th>\n",
       "      <th>Exited</th>\n",
       "    </tr>\n",
       "  </thead>\n",
       "  <tbody>\n",
       "    <tr>\n",
       "      <th>9995</th>\n",
       "      <td>9996</td>\n",
       "      <td>15606229</td>\n",
       "      <td>Obijiaku</td>\n",
       "      <td>771</td>\n",
       "      <td>France</td>\n",
       "      <td>Male</td>\n",
       "      <td>39</td>\n",
       "      <td>5.0</td>\n",
       "      <td>0.00</td>\n",
       "      <td>2</td>\n",
       "      <td>1</td>\n",
       "      <td>0</td>\n",
       "      <td>96270.64</td>\n",
       "      <td>0</td>\n",
       "    </tr>\n",
       "    <tr>\n",
       "      <th>9996</th>\n",
       "      <td>9997</td>\n",
       "      <td>15569892</td>\n",
       "      <td>Johnstone</td>\n",
       "      <td>516</td>\n",
       "      <td>France</td>\n",
       "      <td>Male</td>\n",
       "      <td>35</td>\n",
       "      <td>10.0</td>\n",
       "      <td>57369.61</td>\n",
       "      <td>1</td>\n",
       "      <td>1</td>\n",
       "      <td>1</td>\n",
       "      <td>101699.77</td>\n",
       "      <td>0</td>\n",
       "    </tr>\n",
       "    <tr>\n",
       "      <th>9997</th>\n",
       "      <td>9998</td>\n",
       "      <td>15584532</td>\n",
       "      <td>Liu</td>\n",
       "      <td>709</td>\n",
       "      <td>France</td>\n",
       "      <td>Female</td>\n",
       "      <td>36</td>\n",
       "      <td>7.0</td>\n",
       "      <td>0.00</td>\n",
       "      <td>1</td>\n",
       "      <td>0</td>\n",
       "      <td>1</td>\n",
       "      <td>42085.58</td>\n",
       "      <td>1</td>\n",
       "    </tr>\n",
       "    <tr>\n",
       "      <th>9998</th>\n",
       "      <td>9999</td>\n",
       "      <td>15682355</td>\n",
       "      <td>Sabbatini</td>\n",
       "      <td>772</td>\n",
       "      <td>Germany</td>\n",
       "      <td>Male</td>\n",
       "      <td>42</td>\n",
       "      <td>3.0</td>\n",
       "      <td>75075.31</td>\n",
       "      <td>2</td>\n",
       "      <td>1</td>\n",
       "      <td>0</td>\n",
       "      <td>92888.52</td>\n",
       "      <td>1</td>\n",
       "    </tr>\n",
       "    <tr>\n",
       "      <th>9999</th>\n",
       "      <td>10000</td>\n",
       "      <td>15628319</td>\n",
       "      <td>Walker</td>\n",
       "      <td>792</td>\n",
       "      <td>France</td>\n",
       "      <td>Female</td>\n",
       "      <td>28</td>\n",
       "      <td>NaN</td>\n",
       "      <td>130142.79</td>\n",
       "      <td>1</td>\n",
       "      <td>1</td>\n",
       "      <td>0</td>\n",
       "      <td>38190.78</td>\n",
       "      <td>0</td>\n",
       "    </tr>\n",
       "  </tbody>\n",
       "</table>\n",
       "</div>"
      ],
      "text/plain": [
       "      RowNumber  CustomerId    Surname  CreditScore Geography  Gender  Age  \\\n",
       "9995       9996    15606229   Obijiaku          771    France    Male   39   \n",
       "9996       9997    15569892  Johnstone          516    France    Male   35   \n",
       "9997       9998    15584532        Liu          709    France  Female   36   \n",
       "9998       9999    15682355  Sabbatini          772   Germany    Male   42   \n",
       "9999      10000    15628319     Walker          792    France  Female   28   \n",
       "\n",
       "      Tenure    Balance  NumOfProducts  HasCrCard  IsActiveMember  \\\n",
       "9995     5.0       0.00              2          1               0   \n",
       "9996    10.0   57369.61              1          1               1   \n",
       "9997     7.0       0.00              1          0               1   \n",
       "9998     3.0   75075.31              2          1               0   \n",
       "9999     NaN  130142.79              1          1               0   \n",
       "\n",
       "      EstimatedSalary  Exited  \n",
       "9995         96270.64       0  \n",
       "9996        101699.77       0  \n",
       "9997         42085.58       1  \n",
       "9998         92888.52       1  \n",
       "9999         38190.78       0  "
      ]
     },
     "execution_count": 2,
     "metadata": {},
     "output_type": "execute_result"
    }
   ],
   "source": [
    "df = pd.read_csv('/datasets/Churn.csv')\n",
    "\n",
    "df.info()\n",
    "df.head()\n",
    "df.tail()"
   ]
  },
  {
   "cell_type": "markdown",
   "metadata": {},
   "source": [
    " Описание данных:\n",
    " 1. RowNumber — индекс строки в данных\n",
    " 2. CustomerId — уникальный идентификатор клиента\n",
    " 3. Surname — фамилия\n",
    " 4. CreditScore — кредитный рейтинг\n",
    " 5. Geography — страна проживания\n",
    " 6. Gender — пол\n",
    " 7. Age — возраст\n",
    " 8. Tenure — сколько лет человек является клиентом банка\n",
    " 9. Balance — баланс на счёте\n",
    " 10. NumOfProducts — количество продуктов банка, используемых клиентом\n",
    " 11. HasCrCard — наличие кредитной карты\n",
    " 12. IsActiveMember — активность клиента\n",
    " 13. EstimatedSalary — предполагаемая зарплата\n",
    " 14. Exited — факт ухода клиента"
   ]
  },
  {
   "cell_type": "code",
   "execution_count": 3,
   "metadata": {},
   "outputs": [],
   "source": [
    "#df = df.dropna()\n",
    "#df.isna().sum()\n",
    "# df['Tenure'].astype(object)\n",
    "# df['Tenure'] = df['Tenure'].fillna(value=-1)\n",
    "# df_ohe = pd.get_dummies(df, drop_first=True)\n",
    "# target = df_ohe['Tenure']\n",
    "# features = df_ohe.drop('Tenure', axis=1)\n",
    "\n",
    "# код ревьюера\n",
    "df['Tenure'] = df['Tenure'].fillna(value=-1)\n",
    "df['Tenure'] = df['Tenure'].astype(object)"
   ]
  },
  {
   "cell_type": "markdown",
   "metadata": {},
   "source": [
    "<div class=\"alert alert-danger\">\n",
    "<h2> Комментарий ревьюера ❌ <a class=\"tocSkip\"> </h2>\n",
    "\n",
    "Все же удалить 9% данных, это очень много, теряем довольно большую часть данных. Как можно было поступить:\n",
    "    \n",
    "- распределение по `Tenure` ровномерное, если сейчас заменить почти 900 пропусков (9% данных) средним или медианой, то мы значительно исказим распределение. В таком случае можно заполнить пропуски случайными значениями в интервале от минимального до максимального значения по данному столбцу.\n",
    "\n",
    "- Так как значений в этом признаке ограниченное количество, можно сделать его категориальным признаком. Пропуски можно считать как за отдельную категорию (заполнить значением -1). Затем заменить тип данных `Tenure` на `object` и применить технику [OHE](https://scikit-learn.org/stable/modules/generated/sklearn.preprocessing.OneHotEncoder.html).\n",
    "    \n",
    "- Можно попробовать определить данный параметр с помощью ML, т.е попробовать спрогнозировать его на основании других парметров"
   ]
  },
  {
   "cell_type": "markdown",
   "metadata": {},
   "source": [
    "<div class=\"alert alert-danger\">\n",
    "<h2> Комментарий ревьюера v2 ❌ <a class=\"tocSkip\"> </h2>\n",
    "\n",
    "Да, но удалять - решение тоже не обоснованное. Я привел еще два варианта, может попробовать их?"
   ]
  },
  {
   "cell_type": "markdown",
   "metadata": {},
   "source": [
    "<div class=\"alert alert-warning\">\n",
    "<h2> Комментарий ревьюера v3 ⚠️ <a class=\"tocSkip\"> </h2>\n",
    "\n",
    "ТОлько порядок не тот, сначала нам нужно заполнить пропуски, а потом менять тип данных. При этом ты забыл прописать `df['Tenure'] = ...`, поэтому тип данных не поменялся. Я исправил, но будь внимательнее. Проверяй, что ты сделал"
   ]
  },
  {
   "cell_type": "markdown",
   "metadata": {},
   "source": [
    "<div style=\"border:solid purple 2px; padding: 20px\">\n",
    "<h2> Комментарий студента v2  <a class=\"tocSkip\"> </h2>\n",
    "    \n",
    "Зманил пропуски на -1, переделал тип на object и применил OHE."
   ]
  },
  {
   "cell_type": "code",
   "execution_count": 4,
   "metadata": {},
   "outputs": [
    {
     "data": {
      "text/html": [
       "<div>\n",
       "<style scoped>\n",
       "    .dataframe tbody tr th:only-of-type {\n",
       "        vertical-align: middle;\n",
       "    }\n",
       "\n",
       "    .dataframe tbody tr th {\n",
       "        vertical-align: top;\n",
       "    }\n",
       "\n",
       "    .dataframe thead th {\n",
       "        text-align: right;\n",
       "    }\n",
       "</style>\n",
       "<table border=\"1\" class=\"dataframe\">\n",
       "  <thead>\n",
       "    <tr style=\"text-align: right;\">\n",
       "      <th></th>\n",
       "      <th>RowNumber</th>\n",
       "      <th>CustomerId</th>\n",
       "      <th>Surname</th>\n",
       "      <th>CreditScore</th>\n",
       "      <th>Geography</th>\n",
       "      <th>Gender</th>\n",
       "      <th>Age</th>\n",
       "      <th>Tenure</th>\n",
       "      <th>Balance</th>\n",
       "      <th>NumOfProducts</th>\n",
       "      <th>HasCrCard</th>\n",
       "      <th>IsActiveMember</th>\n",
       "      <th>EstimatedSalary</th>\n",
       "      <th>Exited</th>\n",
       "    </tr>\n",
       "  </thead>\n",
       "  <tbody>\n",
       "    <tr>\n",
       "      <th>0</th>\n",
       "      <td>1</td>\n",
       "      <td>15634602</td>\n",
       "      <td>Hargrave</td>\n",
       "      <td>619</td>\n",
       "      <td>France</td>\n",
       "      <td>Female</td>\n",
       "      <td>42</td>\n",
       "      <td>2.0</td>\n",
       "      <td>0.00</td>\n",
       "      <td>1</td>\n",
       "      <td>1</td>\n",
       "      <td>1</td>\n",
       "      <td>101348.88</td>\n",
       "      <td>1</td>\n",
       "    </tr>\n",
       "    <tr>\n",
       "      <th>1</th>\n",
       "      <td>2</td>\n",
       "      <td>15647311</td>\n",
       "      <td>Hill</td>\n",
       "      <td>608</td>\n",
       "      <td>Spain</td>\n",
       "      <td>Female</td>\n",
       "      <td>41</td>\n",
       "      <td>1.0</td>\n",
       "      <td>83807.86</td>\n",
       "      <td>1</td>\n",
       "      <td>0</td>\n",
       "      <td>1</td>\n",
       "      <td>112542.58</td>\n",
       "      <td>0</td>\n",
       "    </tr>\n",
       "    <tr>\n",
       "      <th>2</th>\n",
       "      <td>3</td>\n",
       "      <td>15619304</td>\n",
       "      <td>Onio</td>\n",
       "      <td>502</td>\n",
       "      <td>France</td>\n",
       "      <td>Female</td>\n",
       "      <td>42</td>\n",
       "      <td>8.0</td>\n",
       "      <td>159660.80</td>\n",
       "      <td>3</td>\n",
       "      <td>1</td>\n",
       "      <td>0</td>\n",
       "      <td>113931.57</td>\n",
       "      <td>1</td>\n",
       "    </tr>\n",
       "    <tr>\n",
       "      <th>3</th>\n",
       "      <td>4</td>\n",
       "      <td>15701354</td>\n",
       "      <td>Boni</td>\n",
       "      <td>699</td>\n",
       "      <td>France</td>\n",
       "      <td>Female</td>\n",
       "      <td>39</td>\n",
       "      <td>1.0</td>\n",
       "      <td>0.00</td>\n",
       "      <td>2</td>\n",
       "      <td>0</td>\n",
       "      <td>0</td>\n",
       "      <td>93826.63</td>\n",
       "      <td>0</td>\n",
       "    </tr>\n",
       "    <tr>\n",
       "      <th>4</th>\n",
       "      <td>5</td>\n",
       "      <td>15737888</td>\n",
       "      <td>Mitchell</td>\n",
       "      <td>850</td>\n",
       "      <td>Spain</td>\n",
       "      <td>Female</td>\n",
       "      <td>43</td>\n",
       "      <td>2.0</td>\n",
       "      <td>125510.82</td>\n",
       "      <td>1</td>\n",
       "      <td>1</td>\n",
       "      <td>1</td>\n",
       "      <td>79084.10</td>\n",
       "      <td>0</td>\n",
       "    </tr>\n",
       "    <tr>\n",
       "      <th>...</th>\n",
       "      <td>...</td>\n",
       "      <td>...</td>\n",
       "      <td>...</td>\n",
       "      <td>...</td>\n",
       "      <td>...</td>\n",
       "      <td>...</td>\n",
       "      <td>...</td>\n",
       "      <td>...</td>\n",
       "      <td>...</td>\n",
       "      <td>...</td>\n",
       "      <td>...</td>\n",
       "      <td>...</td>\n",
       "      <td>...</td>\n",
       "      <td>...</td>\n",
       "    </tr>\n",
       "    <tr>\n",
       "      <th>9995</th>\n",
       "      <td>9996</td>\n",
       "      <td>15606229</td>\n",
       "      <td>Obijiaku</td>\n",
       "      <td>771</td>\n",
       "      <td>France</td>\n",
       "      <td>Male</td>\n",
       "      <td>39</td>\n",
       "      <td>5.0</td>\n",
       "      <td>0.00</td>\n",
       "      <td>2</td>\n",
       "      <td>1</td>\n",
       "      <td>0</td>\n",
       "      <td>96270.64</td>\n",
       "      <td>0</td>\n",
       "    </tr>\n",
       "    <tr>\n",
       "      <th>9996</th>\n",
       "      <td>9997</td>\n",
       "      <td>15569892</td>\n",
       "      <td>Johnstone</td>\n",
       "      <td>516</td>\n",
       "      <td>France</td>\n",
       "      <td>Male</td>\n",
       "      <td>35</td>\n",
       "      <td>10.0</td>\n",
       "      <td>57369.61</td>\n",
       "      <td>1</td>\n",
       "      <td>1</td>\n",
       "      <td>1</td>\n",
       "      <td>101699.77</td>\n",
       "      <td>0</td>\n",
       "    </tr>\n",
       "    <tr>\n",
       "      <th>9997</th>\n",
       "      <td>9998</td>\n",
       "      <td>15584532</td>\n",
       "      <td>Liu</td>\n",
       "      <td>709</td>\n",
       "      <td>France</td>\n",
       "      <td>Female</td>\n",
       "      <td>36</td>\n",
       "      <td>7.0</td>\n",
       "      <td>0.00</td>\n",
       "      <td>1</td>\n",
       "      <td>0</td>\n",
       "      <td>1</td>\n",
       "      <td>42085.58</td>\n",
       "      <td>1</td>\n",
       "    </tr>\n",
       "    <tr>\n",
       "      <th>9998</th>\n",
       "      <td>9999</td>\n",
       "      <td>15682355</td>\n",
       "      <td>Sabbatini</td>\n",
       "      <td>772</td>\n",
       "      <td>Germany</td>\n",
       "      <td>Male</td>\n",
       "      <td>42</td>\n",
       "      <td>3.0</td>\n",
       "      <td>75075.31</td>\n",
       "      <td>2</td>\n",
       "      <td>1</td>\n",
       "      <td>0</td>\n",
       "      <td>92888.52</td>\n",
       "      <td>1</td>\n",
       "    </tr>\n",
       "    <tr>\n",
       "      <th>9999</th>\n",
       "      <td>10000</td>\n",
       "      <td>15628319</td>\n",
       "      <td>Walker</td>\n",
       "      <td>792</td>\n",
       "      <td>France</td>\n",
       "      <td>Female</td>\n",
       "      <td>28</td>\n",
       "      <td>-1.0</td>\n",
       "      <td>130142.79</td>\n",
       "      <td>1</td>\n",
       "      <td>1</td>\n",
       "      <td>0</td>\n",
       "      <td>38190.78</td>\n",
       "      <td>0</td>\n",
       "    </tr>\n",
       "  </tbody>\n",
       "</table>\n",
       "<p>10000 rows × 14 columns</p>\n",
       "</div>"
      ],
      "text/plain": [
       "      RowNumber  CustomerId    Surname  CreditScore Geography  Gender  Age  \\\n",
       "0             1    15634602   Hargrave          619    France  Female   42   \n",
       "1             2    15647311       Hill          608     Spain  Female   41   \n",
       "2             3    15619304       Onio          502    France  Female   42   \n",
       "3             4    15701354       Boni          699    France  Female   39   \n",
       "4             5    15737888   Mitchell          850     Spain  Female   43   \n",
       "...         ...         ...        ...          ...       ...     ...  ...   \n",
       "9995       9996    15606229   Obijiaku          771    France    Male   39   \n",
       "9996       9997    15569892  Johnstone          516    France    Male   35   \n",
       "9997       9998    15584532        Liu          709    France  Female   36   \n",
       "9998       9999    15682355  Sabbatini          772   Germany    Male   42   \n",
       "9999      10000    15628319     Walker          792    France  Female   28   \n",
       "\n",
       "     Tenure    Balance  NumOfProducts  HasCrCard  IsActiveMember  \\\n",
       "0       2.0       0.00              1          1               1   \n",
       "1       1.0   83807.86              1          0               1   \n",
       "2       8.0  159660.80              3          1               0   \n",
       "3       1.0       0.00              2          0               0   \n",
       "4       2.0  125510.82              1          1               1   \n",
       "...     ...        ...            ...        ...             ...   \n",
       "9995    5.0       0.00              2          1               0   \n",
       "9996   10.0   57369.61              1          1               1   \n",
       "9997    7.0       0.00              1          0               1   \n",
       "9998    3.0   75075.31              2          1               0   \n",
       "9999   -1.0  130142.79              1          1               0   \n",
       "\n",
       "      EstimatedSalary  Exited  \n",
       "0           101348.88       1  \n",
       "1           112542.58       0  \n",
       "2           113931.57       1  \n",
       "3            93826.63       0  \n",
       "4            79084.10       0  \n",
       "...               ...     ...  \n",
       "9995         96270.64       0  \n",
       "9996        101699.77       0  \n",
       "9997         42085.58       1  \n",
       "9998         92888.52       1  \n",
       "9999         38190.78       0  \n",
       "\n",
       "[10000 rows x 14 columns]"
      ]
     },
     "execution_count": 4,
     "metadata": {},
     "output_type": "execute_result"
    }
   ],
   "source": [
    "df"
   ]
  },
  {
   "cell_type": "code",
   "execution_count": 5,
   "metadata": {},
   "outputs": [],
   "source": [
    "# Удалим столбцы, которые не будут участвовать.\n",
    "df = df.drop(columns=['RowNumber', 'CustomerId', 'Surname'])"
   ]
  },
  {
   "cell_type": "markdown",
   "metadata": {},
   "source": [
    "Закодируем датасет, чтобы столбцы с категориальными признаками, стали численными и потом разделим датасет на три выборки обучающая - 60%, валидационная - 20% и тестовая - 20%."
   ]
  },
  {
   "cell_type": "code",
   "execution_count": 6,
   "metadata": {},
   "outputs": [],
   "source": [
    "df_ohe = pd.get_dummies(df, drop_first=True)\n",
    "target = df_ohe['Exited']\n",
    "features = df_ohe.drop('Exited', axis=1)\n",
    "\n",
    "features_train, features_valid, target_train, target_valid = train_test_split(features, target, test_size=0.25, random_state=12345)\n",
    "features_valid, features_test, target_valid, target_test = train_test_split(features_valid, target_valid, test_size=0.5, random_state=12345)"
   ]
  },
  {
   "cell_type": "markdown",
   "metadata": {},
   "source": [
    "<div style=\"border:solid purple 2px; padding: 20px\">\n",
    "<h2> Комментарий студента <a class=\"tocSkip\"> </h2>\n",
    "    \n",
    "Порядок изменил, сначала удалил  столбцы, следом - категоризация."
   ]
  },
  {
   "cell_type": "markdown",
   "metadata": {},
   "source": [
    "## Исследование задачи"
   ]
  },
  {
   "cell_type": "code",
   "execution_count": 7,
   "metadata": {},
   "outputs": [
    {
     "data": {
      "text/plain": [
       "0    7963\n",
       "1    2037\n",
       "Name: Exited, dtype: int64"
      ]
     },
     "execution_count": 7,
     "metadata": {},
     "output_type": "execute_result"
    }
   ],
   "source": [
    "df['Exited'].value_counts()"
   ]
  },
  {
   "cell_type": "markdown",
   "metadata": {},
   "source": [
    "Классы разные, соотношение далеко не 1:1.Примерное распределение это 80 и 20%.\n",
    "\n",
    "Построим модели случайного леса и решающего дерева на основе несбалансированных данных и выстроим гиперпараметры. Оценим значения метрики F1 и auc roc score."
   ]
  },
  {
   "cell_type": "code",
   "execution_count": 8,
   "metadata": {},
   "outputs": [
    {
     "name": "stdout",
     "output_type": "stream",
     "text": [
      "max_depth: 19 F1: 0.5792079207920792\n",
      "CPU times: user 3min 17s, sys: 930 ms, total: 3min 18s\n",
      "Wall time: 3min 18s\n"
     ]
    }
   ],
   "source": [
    "%%time\n",
    "# случайный лес\n",
    "best_model = None\n",
    "best_result = 0\n",
    "for est in range(5, 150, 5):\n",
    "    for depth in range(3, 20):\n",
    "        model = RandomForestClassifier(max_depth=depth, n_estimators=est\n",
    "                                       , random_state=1234).fit(features_train, target_train)\n",
    "        predicted_valid = model.predict(features_valid)\n",
    "        f1 = f1_score(target_valid, predicted_valid)\n",
    "        if f1 > best_result:\n",
    "            best_model = model # сохраните наилучшую модель\n",
    "            best_result = f1 #  сохраните наилучшее значение метрики accuracy на валидационных данных\n",
    "\n",
    "print('max_depth:', depth,'F1:', f1)"
   ]
  },
  {
   "cell_type": "markdown",
   "metadata": {},
   "source": [
    "<div style=\"border:solid purple 2px; padding: 20px\">\n",
    "<h2> Комментарий студента  <a class=\"tocSkip\"> </h2>\n",
    "    \n",
    "max_depth: 19 F1: 0.5927710843373494 - лучшее значение!"
   ]
  },
  {
   "cell_type": "markdown",
   "metadata": {},
   "source": [
    "<div class=\"alert alert-danger\">\n",
    "<h2> Комментарий ревьюера ❌ <a class=\"tocSkip\"> </h2>\n",
    "\n",
    "А почему max_depth именно такой? Может его тоже стоит подобрать, в таком случае можно использовать вложенные циклы\n",
    "    \n",
    "    for est in range(5, 150, 5):\n",
    "        for depth in range(3, 20):"
   ]
  },
  {
   "cell_type": "markdown",
   "metadata": {},
   "source": [
    "<div class=\"alert alert-danger\">\n",
    "<h2> Комментарий ревьюера v2 ❌ <a class=\"tocSkip\"> </h2>\n",
    "\n",
    "Да, но при этом не факт, что другая комбинация параметров не будет лучше. Подбирай их вместе, используй вложенные циклы как я показал выше"
   ]
  },
  {
   "cell_type": "markdown",
   "metadata": {},
   "source": [
    "<div style=\"border:solid purple 2px; padding: 20px\">\n",
    "<h2> Комментарий студента V2 <a class=\"tocSkip\"> </h2>\n",
    "    \n",
    "Да, супер, у меня получилось!"
   ]
  },
  {
   "cell_type": "code",
   "execution_count": 9,
   "metadata": {},
   "outputs": [
    {
     "name": "stdout",
     "output_type": "stream",
     "text": [
      "0.8607544465889259\n"
     ]
    }
   ],
   "source": [
    "from sklearn.metrics import roc_auc_score\n",
    "probabilities_valid1 = model.predict_proba(features_valid)\n",
    "probabilities_one_valid1 = probabilities_valid1[:, 1]\n",
    "auc_roc1 = roc_auc_score(target_valid, probabilities_one_valid1)\n",
    "print(auc_roc1)"
   ]
  },
  {
   "cell_type": "markdown",
   "metadata": {},
   "source": [
    "F1 оптималтно при n_estimators=100 и глубине дерева 10."
   ]
  },
  {
   "cell_type": "code",
   "execution_count": 10,
   "metadata": {},
   "outputs": [
    {
     "name": "stdout",
     "output_type": "stream",
     "text": [
      "n_depth = 2 : 0.5431034482758621\n",
      "n_depth = 3 : 0.4552845528455285\n",
      "n_depth = 4 : 0.4893617021276596\n",
      "n_depth = 5 : 0.5714285714285715\n",
      "n_depth = 6 : 0.5435897435897437\n",
      "n_depth = 7 : 0.5418719211822659\n",
      "n_depth = 8 : 0.515970515970516\n",
      "n_depth = 9 : 0.5379310344827586\n",
      "n_depth = 10 : 0.5434782608695652\n",
      "n_depth = 11 : 0.5496828752642706\n",
      "n_depth = 12 : 0.5093167701863355\n",
      "n_depth = 13 : 0.5060728744939271\n",
      "n_depth = 14 : 0.5107212475633529\n",
      "CPU times: user 345 ms, sys: 8 ms, total: 353 ms\n",
      "Wall time: 359 ms\n"
     ]
    }
   ],
   "source": [
    "%%time\n",
    "\n",
    "# решающее дерево\n",
    "for depth in range(2, 15):\n",
    "    model = DecisionTreeClassifier(random_state=12345, max_depth=depth)\n",
    "    model.fit(features_train, target_train)\n",
    "    predicted_valid = model.predict(features_valid)\n",
    "    f1_2 = f1_score(target_valid, predicted_valid)\n",
    "    print(\"n_depth =\", depth, \":\", f1_2)"
   ]
  },
  {
   "cell_type": "markdown",
   "metadata": {},
   "source": [
    "<div style=\"border:solid purple 5px; padding: 20px\"> \n",
    "<h2 align=\"center\"> Рубрика «Питонячий лайфхакер» <a class=\"tocSkip\"> </h2>\n",
    "\n",
    "<h3> Индикаторы состояния: progress и tqdm <a class=\"tocSkip\"> </h3>\n",
    "\n",
    "Как перестать беспокоиться о том, не завис ли скрипт? Вы можете создавать свои индикаторы состояния. Это весьма увлекательное занятие. Но делать то же самое с [progress](https://pypi.org/project/progress/) (ее обычно используют для работы из консоли) или [tqdm](https://pypi.org/project/tqdm/) (отлично подойдет для тетрадок) куда быстрее и надежнее.\n",
    "\n",
    "Обычно я использую эти две библиотеки, но вот [здесь](https://habr.com/ru/post/483400/) ты можешь почитать про альтернативные варианты\n",
    "\n",
    "![](https://i.ibb.co/B4SDm8Y/68747470733a2f2f7261772e6769746875622e636f6d2f7665726967616b2f70726f67726573732f6d61737465722f64656d.gif)"
   ]
  },
  {
   "cell_type": "code",
   "execution_count": 11,
   "metadata": {},
   "outputs": [
    {
     "name": "stdout",
     "output_type": "stream",
     "text": [
      "0.693038011256602\n"
     ]
    }
   ],
   "source": [
    "probabilities_valid = model.predict_proba(features_valid)\n",
    "probabilities_one_valid = probabilities_valid[:, 1]\n",
    "\n",
    "\n",
    "auc_roc = roc_auc_score(target_valid, probabilities_one_valid)\n",
    "print(auc_roc)"
   ]
  },
  {
   "cell_type": "markdown",
   "metadata": {},
   "source": [
    "Dыберем модель случайного леса, так как метрики F1 и roc_auc_score имеют наибольшие значения"
   ]
  },
  {
   "cell_type": "markdown",
   "metadata": {},
   "source": [
    "## Борьба с дисбалансом"
   ]
  },
  {
   "cell_type": "markdown",
   "metadata": {},
   "source": [
    "Примеим атрибут class_weight."
   ]
  },
  {
   "cell_type": "code",
   "execution_count": 12,
   "metadata": {},
   "outputs": [
    {
     "name": "stdout",
     "output_type": "stream",
     "text": [
      "              precision    recall  f1-score   support\n",
      "\n",
      "           0       0.90      0.68      0.78       987\n",
      "           1       0.38      0.72      0.49       263\n",
      "\n",
      "    accuracy                           0.69      1250\n",
      "   macro avg       0.64      0.70      0.64      1250\n",
      "weighted avg       0.79      0.69      0.72      1250\n",
      "\n",
      "\n"
     ]
    }
   ],
   "source": [
    "model_LogReg = LogisticRegression(random_state=12345, solver='liblinear', class_weight='balanced')\n",
    "model_LogReg.fit(features_train, target_train)\n",
    "predicted_LogReg = model_LogReg.predict(features_valid)\n",
    "print(metrics.classification_report(target_valid, predicted_LogReg))\n",
    "print()"
   ]
  },
  {
   "cell_type": "code",
   "execution_count": 13,
   "metadata": {},
   "outputs": [
    {
     "name": "stdout",
     "output_type": "stream",
     "text": [
      "F1: 0.44714459295261244\n"
     ]
    }
   ],
   "source": [
    "def upsample(features, target, repeat):\n",
    "    features_zeros = features[target == 0]\n",
    "    features_ones = features[target == 1]\n",
    "    target_zeros = target[target == 0]\n",
    "    target_ones = target[target == 1]\n",
    "\n",
    "    features_upsampled = pd.concat([features_zeros] + [features_ones] * repeat)\n",
    "    target_upsampled = pd.concat([target_zeros] + [target_ones] * repeat)\n",
    "    \n",
    "    features_upsampled, target_upsampled = shuffle(\n",
    "        features_upsampled, target_upsampled, random_state=12345)\n",
    "    \n",
    "    return features_upsampled, target_upsampled\n",
    "\n",
    "features_upsampled, target_upsampled = upsample(features_train, target_train, 4)\n",
    "\n",
    "model = LogisticRegression(random_state=12345, solver='liblinear')\n",
    "model.fit(features_upsampled, target_upsampled)\n",
    "predicted_valid = model.predict(features_valid)\n",
    "print(\"F1:\", f1_score(target_valid, predicted_valid))"
   ]
  },
  {
   "cell_type": "code",
   "execution_count": 14,
   "metadata": {},
   "outputs": [
    {
     "name": "stdout",
     "output_type": "stream",
     "text": [
      "(12006, 21) (12006,)\n"
     ]
    }
   ],
   "source": [
    "print(features_upsampled.shape, target_upsampled.shape)"
   ]
  },
  {
   "cell_type": "code",
   "execution_count": 15,
   "metadata": {},
   "outputs": [
    {
     "name": "stdout",
     "output_type": "stream",
     "text": [
      "[[611 376]\n",
      " [ 79 184]]\n"
     ]
    }
   ],
   "source": [
    "print(metrics.confusion_matrix(target_valid, predicted_valid))"
   ]
  },
  {
   "cell_type": "code",
   "execution_count": 16,
   "metadata": {},
   "outputs": [
    {
     "name": "stdout",
     "output_type": "stream",
     "text": [
      "F1: 0.4326530612244899\n"
     ]
    }
   ],
   "source": [
    "def downsample(features, target, fraction):\n",
    "    features_zeros = features[target == 0]\n",
    "    features_ones = features[target == 1]\n",
    "    target_zeros = target[target == 0]\n",
    "    target_ones = target[target == 1]\n",
    "\n",
    "    features_downsampled = pd.concat(\n",
    "        [features_zeros.sample(frac=fraction, random_state=12345)] + [features_ones])\n",
    "    target_downsampled = pd.concat(\n",
    "        [target_zeros.sample(frac=fraction, random_state=12345)] + [target_ones])\n",
    "    \n",
    "    features_downsampled, target_downsampled = shuffle(\n",
    "        features_downsampled, target_downsampled, random_state=12345)\n",
    "    \n",
    "    return features_downsampled, target_downsampled\n",
    "\n",
    "features_downsampled, target_downsampled = downsample(features_train, target_train, 0.2)\n",
    "\n",
    "model = LogisticRegression(random_state=12345, solver='liblinear')\n",
    "model.fit(features_downsampled, target_downsampled)\n",
    "predicted_valid = model.predict(features_valid)\n",
    "\n",
    "print(\"F1:\", f1_score(target_valid, predicted_valid))"
   ]
  },
  {
   "cell_type": "code",
   "execution_count": 17,
   "metadata": {},
   "outputs": [
    {
     "name": "stdout",
     "output_type": "stream",
     "text": [
      "              precision    recall  f1-score   support\n",
      "\n",
      "           0       0.94      0.70      0.80       987\n",
      "           1       0.42      0.83      0.56       263\n",
      "\n",
      "    accuracy                           0.72      1250\n",
      "   macro avg       0.68      0.76      0.68      1250\n",
      "weighted avg       0.83      0.72      0.75      1250\n",
      "\n",
      "\n"
     ]
    }
   ],
   "source": [
    "model_DTC = DecisionTreeClassifier(random_state=12345, max_depth=5)\n",
    "model_DTC.fit(features_downsampled, target_downsampled)\n",
    "predicted_DTC = model_DTC.predict(features_valid)\n",
    "print(metrics.classification_report(target_valid, predicted_DTC))\n",
    "print()"
   ]
  },
  {
   "cell_type": "code",
   "execution_count": 18,
   "metadata": {},
   "outputs": [
    {
     "name": "stdout",
     "output_type": "stream",
     "text": [
      "[[686 301]\n",
      " [ 44 219]]\n"
     ]
    }
   ],
   "source": [
    "print(metrics.confusion_matrix(target_valid, predicted_DTC))"
   ]
  },
  {
   "cell_type": "markdown",
   "metadata": {},
   "source": [
    "Всё еще наблюдается дисбаланс классов."
   ]
  },
  {
   "cell_type": "code",
   "execution_count": 19,
   "metadata": {},
   "outputs": [
    {
     "name": "stdout",
     "output_type": "stream",
     "text": [
      "Accuracy наилучшей модели на валидационной выборке: 0.7928\n",
      "CPU times: user 1min 42s, sys: 388 ms, total: 1min 42s\n",
      "Wall time: 1min 43s\n"
     ]
    }
   ],
   "source": [
    "%%time\n",
    "best_model = None\n",
    "best_result = 0\n",
    "\n",
    "#for depth in range(2, 22, 2):\n",
    "#    for est in range(50, 351, 50):\n",
    "for depth in range(3, 20):\n",
    "    for est in range(5, 150, 5):\n",
    "        model_RFC = RandomForestClassifier(max_depth=depth, n_estimators=est, random_state=22, class_weight='balanced')\n",
    "        model_RFC.fit(features_downsampled,target_downsampled) \n",
    "        result = model_RFC.score(features_valid,target_valid)\n",
    "        if result > best_result:\n",
    "            best_model = model_RFC\n",
    "            best_result = result\n",
    "\n",
    "print(\"Accuracy наилучшей модели на валидационной выборке:\", best_result)"
   ]
  },
  {
   "cell_type": "code",
   "execution_count": 20,
   "metadata": {},
   "outputs": [
    {
     "name": "stdout",
     "output_type": "stream",
     "text": [
      "              precision    recall  f1-score   support\n",
      "\n",
      "           0       0.93      0.80      0.86       987\n",
      "           1       0.50      0.78      0.61       263\n",
      "\n",
      "    accuracy                           0.79      1250\n",
      "   macro avg       0.72      0.79      0.74      1250\n",
      "weighted avg       0.84      0.79      0.81      1250\n",
      "\n",
      "\n",
      "[[785 202]\n",
      " [ 57 206]]\n"
     ]
    }
   ],
   "source": [
    "predicted_RFC = best_model.predict(features_valid)\n",
    "print(metrics.classification_report(target_valid, predicted_RFC))\n",
    "print()\n",
    "print(metrics.confusion_matrix(target_valid, predicted_RFC))"
   ]
  },
  {
   "cell_type": "markdown",
   "metadata": {},
   "source": [
    "У случайного леса самые лучшие результаты, буду проверять на тестовой выборкке."
   ]
  },
  {
   "cell_type": "markdown",
   "metadata": {},
   "source": [
    "## Тестирование модели"
   ]
  },
  {
   "cell_type": "code",
   "execution_count": 21,
   "metadata": {},
   "outputs": [
    {
     "name": "stdout",
     "output_type": "stream",
     "text": [
      "Auc_roc 0.8600822094066977\n"
     ]
    }
   ],
   "source": [
    "probabilities_valid = model_RFC.predict_proba(features_valid)\n",
    "probabilities_one_valid = probabilities_valid[:, 1]\n",
    "\n",
    "auc_roc = roc_auc_score(target_valid, probabilities_one_valid)\n",
    "\n",
    "print('Auc_roc', auc_roc)"
   ]
  },
  {
   "cell_type": "code",
   "execution_count": 22,
   "metadata": {},
   "outputs": [
    {
     "data": {
      "image/png": "[encoded data removed]",
      "text/plain": [
       "<Figure size 432x288 with 1 Axes>"
      ]
     },
     "metadata": {
      "needs_background": "light"
     },
     "output_type": "display_data"
    }
   ],
   "source": [
    "import matplotlib.pyplot as plt\n",
    "fpr, tpr, thresholds = roc_curve(target_valid, probabilities_one_valid) \n",
    "\n",
    "plt.figure()\n",
    "plt.plot([0, 1], [0, 1], linestyle='-')\n",
    "\n",
    "#plt.figure()\n",
    "plt.plot(fpr, tpr)\n",
    "plt.xlim([0.0, 1.0])\n",
    "plt.ylim([0.0, 1.0])\n",
    "plt.xlabel('False Positive Rate')\n",
    "plt.ylabel('True Positive Rate')\n",
    "plt.title('ROC-кривая')\n",
    "plt.show() "
   ]
  },
  {
   "cell_type": "markdown",
   "metadata": {},
   "source": [
    "<div class=\"alert alert-danger\">\n",
    "<h2> Комментарий ревьюера v2 ❌ <a class=\"tocSkip\"> </h2>\n",
    "\n",
    "Кривую для рандомной модели (прямая) хорошо бы поместить с нашей моделью на одном графике"
   ]
  },
  {
   "cell_type": "markdown",
   "metadata": {},
   "source": [
    "<div style=\"border:solid purple 2px; padding: 20px\">\n",
    "<h2> Комментарий студента V2 <a class=\"tocSkip\"> </h2>\n",
    "    \n",
    "Как-то вот так!"
   ]
  },
  {
   "cell_type": "markdown",
   "metadata": {},
   "source": [
    "<div class=\"alert alert-success\">\n",
    "<h2> Комментарий ревьюера v3 ✔️ <a class=\"tocSkip\"> </h2>\n",
    "\n",
    "Да, то что нужно"
   ]
  },
  {
   "cell_type": "code",
   "execution_count": 23,
   "metadata": {},
   "outputs": [
    {
     "name": "stdout",
     "output_type": "stream",
     "text": [
      "              precision    recall  f1-score   support\n",
      "\n",
      "           0       0.92      0.78      0.84       978\n",
      "           1       0.49      0.76      0.59       272\n",
      "\n",
      "    accuracy                           0.77      1250\n",
      "   macro avg       0.70      0.77      0.72      1250\n",
      "weighted avg       0.83      0.77      0.79      1250\n",
      "\n",
      "\n",
      "[[760 218]\n",
      " [ 65 207]]\n"
     ]
    }
   ],
   "source": [
    "predicted_RFC_test = best_model.predict(features_test)\n",
    "print(metrics.classification_report(target_test, predicted_RFC_test))\n",
    "print()\n",
    "print(metrics.confusion_matrix(target_test, predicted_RFC_test))"
   ]
  },
  {
   "cell_type": "code",
   "execution_count": 24,
   "metadata": {},
   "outputs": [
    {
     "data": {
      "text/plain": [
       "RandomForestClassifier(class_weight='balanced', max_depth=7, n_estimators=15,\n",
       "                       random_state=22)"
      ]
     },
     "execution_count": 24,
     "metadata": {},
     "output_type": "execute_result"
    }
   ],
   "source": [
    "best_model"
   ]
  },
  {
   "cell_type": "markdown",
   "metadata": {},
   "source": [
    "<div class=\"alert alert-danger\">\n",
    "<h2> Комментарий ревьюера ❌ <a class=\"tocSkip\"> </h2>\n",
    "\n",
    "По условию задачи, на тестовой выборке F1 должен быть не меньше 0.59, без выполнения данного условия, к сожалению, мы дальше пойти не можем"
   ]
  },
  {
   "cell_type": "markdown",
   "metadata": {},
   "source": [
    "<div class=\"alert alert-danger\">\n",
    "<h2> Комментарий ревьюера v2 ❌ <a class=\"tocSkip\"> </h2>\n",
    "\n",
    "К сожалению, условие задачи здесь пока не выполняется. Попробуй подобрать параметры как в ячейке 21 для увеличенной выборки, результат должен быть лучше"
   ]
  },
  {
   "cell_type": "markdown",
   "metadata": {},
   "source": [
    "<div style=\"border:solid purple 2px; padding: 20px\">\n",
    "<h2> Комментарий студента V2 <a class=\"tocSkip\"> </h2>\n",
    "    \n",
    "Если я вас правильно понял, на валидационной выборке поправил параметры EST и  DEPTH. Если что, прошу меня поправить! Попрпвил ячейку номер 19!"
   ]
  },
  {
   "cell_type": "markdown",
   "metadata": {},
   "source": [
    "<div class=\"alert alert-success\">\n",
    "<h2> Комментарий ревьюера v3 ✔️ <a class=\"tocSkip\"> </h2>\n",
    "\n",
    "Отлично! По метрике прошли"
   ]
  },
  {
   "cell_type": "markdown",
   "metadata": {},
   "source": [
    "<div class=\"alert alert-success\">\n",
    "<h2> Комментарий студента ✔️ <a class=\"tocSkip\"> </h2>\n",
    "    \n",
    "ОБЩИЙ ВЫВОД:\n",
    "    \n",
    "AUC-ROC высокое - это говорит о хорошем качестве модели. ROC-CURVE говорит о большем значении TRP. На тестовой выборке у нас F1 больше 0,59. В результате работы создали модель машинного обучения, которая дает достаточный уровень F1. Для этого в первичном датасете были найдены пропуски и обработаны. Были удалены столбцы, не участвующие в работе модели. Затем данные были закодированы для того, чтобы столбцы с категориальными данными стали числовыми. И потом весь исходный датасет был разделен на обучающую - 60%, валидационную - 20% и тестовую - 20% выборки. Решено было создать две модели: дерева решений и случайного леса. В начале создаем модель и обучаем ее на обучающей выборке, далее настраиваем гиперпараметры и проверяем точность на валидационной. После оценки дисбаланса было выявлено, что он присутствует, примерно в соотношении 80 на 20%. Далее провели тестирование моделей с выбранными гиперпараметрами и с проведенным балансом классов двумя способами : увеличением выборки и class_weight. На основе всех полученных значений метрик выбрали модел для тестирования на тестовой выборке. Для проверки на тестовой выборке я решила использовать модель случайного леса, так как на ней в заданном мной диапазоне гиперпараметров значения метрик были больше, чем у другой модели. Результаты проверки модели на тестовой выборке показали, что модель обладает значением F1 0.52, что соответствует заявленным пороговым значениям в задании, а так же метрика auc_roc имеет значение 0.85, что близко к значению этой же метрики при проверке на валидационной выборке."
   ]
  },
  {
   "cell_type": "markdown",
   "metadata": {},
   "source": [
    "## Чек-лист готовности проекта"
   ]
  },
  {
   "cell_type": "markdown",
   "metadata": {},
   "source": [
    "Поставьте 'x' в выполненных пунктах. Далее нажмите Shift+Enter."
   ]
  },
  {
   "cell_type": "markdown",
   "metadata": {},
   "source": [
    "- [x]  Jupyter Notebook открыт\n",
    "- [x]  Весь код выполняется без ошибок\n",
    "- [x]  Ячейки с кодом расположены в порядке исполнения\n",
    "- [x]  Выполнен шаг 1: данные подготовлены\n",
    "- [x]  Выполнен шаг 2: задача исследована\n",
    "    - [x]  Исследован баланс классов\n",
    "    - [x]  Изучены модели без учёта дисбаланса\n",
    "    - [x]  Написаны выводы по результатам исследования\n",
    "- [x]  Выполнен шаг 3: учтён дисбаланс\n",
    "    - [x]  Применено несколько способов борьбы с дисбалансом\n",
    "    - [x]  Написаны выводы по результатам исследования\n",
    "- [x]  Выполнен шаг 4: проведено тестирование\n",
    "- [x]  Удалось достичь *F1*-меры не менее 0.59\n",
    "- [x]  Исследована метрика *AUC-ROC*"
   ]
  }
 ],
 "metadata": {
  "ExecuteTimeLog": [
   {
    "duration": 1229,
    "start_time": "2022-11-18T16:32:55.538Z"
   },
   {
    "duration": 64,
    "start_time": "2022-11-18T16:33:44.679Z"
   },
   {
    "duration": 58,
    "start_time": "2022-11-18T16:33:51.257Z"
   },
   {
    "duration": 8,
    "start_time": "2022-11-18T16:34:15.024Z"
   },
   {
    "duration": 7,
    "start_time": "2022-11-18T16:34:17.208Z"
   },
   {
    "duration": 5,
    "start_time": "2022-11-18T16:34:26.969Z"
   },
   {
    "duration": 18,
    "start_time": "2022-11-18T16:34:37.472Z"
   },
   {
    "duration": 3,
    "start_time": "2022-11-18T16:34:59.961Z"
   },
   {
    "duration": 120,
    "start_time": "2022-11-18T16:35:08.744Z"
   },
   {
    "duration": 12,
    "start_time": "2022-11-18T16:35:19.281Z"
   },
   {
    "duration": 60,
    "start_time": "2022-11-18T16:35:24.253Z"
   },
   {
    "duration": 7,
    "start_time": "2022-11-18T16:35:24.315Z"
   },
   {
    "duration": 24,
    "start_time": "2022-11-18T16:35:24.323Z"
   },
   {
    "duration": 36,
    "start_time": "2022-11-18T16:35:24.349Z"
   },
   {
    "duration": 19,
    "start_time": "2022-11-18T16:35:24.387Z"
   },
   {
    "duration": 16,
    "start_time": "2022-11-18T16:35:50.754Z"
   },
   {
    "duration": 5,
    "start_time": "2022-11-18T16:36:07.426Z"
   },
   {
    "duration": 5,
    "start_time": "2022-11-18T16:36:21.522Z"
   },
   {
    "duration": 64,
    "start_time": "2022-11-18T16:36:23.402Z"
   },
   {
    "duration": 3391,
    "start_time": "2022-11-18T16:36:39.155Z"
   },
   {
    "duration": 36,
    "start_time": "2022-11-18T16:36:49.426Z"
   },
   {
    "duration": 46,
    "start_time": "2022-11-18T16:36:58.108Z"
   },
   {
    "duration": 308,
    "start_time": "2022-11-18T16:37:13.516Z"
   },
   {
    "duration": 329,
    "start_time": "2022-11-18T16:37:16.076Z"
   },
   {
    "duration": 7,
    "start_time": "2022-11-18T16:37:36.156Z"
   },
   {
    "duration": 7,
    "start_time": "2022-11-18T16:37:37.716Z"
   },
   {
    "duration": 13,
    "start_time": "2022-11-18T16:38:24.453Z"
   },
   {
    "duration": 485,
    "start_time": "2022-11-18T16:38:32.877Z"
   },
   {
    "duration": 14,
    "start_time": "2022-11-18T16:38:55.108Z"
   },
   {
    "duration": 37,
    "start_time": "2022-11-18T16:39:01.766Z"
   },
   {
    "duration": 2080,
    "start_time": "2022-11-18T16:39:09.494Z"
   },
   {
    "duration": 638,
    "start_time": "2022-11-18T16:39:37.974Z"
   },
   {
    "duration": 34,
    "start_time": "2022-11-18T16:39:47.160Z"
   },
   {
    "duration": 1315,
    "start_time": "2022-11-21T18:15:41.028Z"
   },
   {
    "duration": 58,
    "start_time": "2022-11-21T18:16:03.856Z"
   },
   {
    "duration": 59,
    "start_time": "2022-11-21T18:16:11.405Z"
   },
   {
    "duration": 61,
    "start_time": "2022-11-21T18:16:24.249Z"
   },
   {
    "duration": 124,
    "start_time": "2022-11-21T18:16:27.786Z"
   },
   {
    "duration": 93,
    "start_time": "2022-11-21T18:16:31.018Z"
   },
   {
    "duration": 81,
    "start_time": "2022-11-21T18:16:34.595Z"
   },
   {
    "duration": 82,
    "start_time": "2022-11-21T18:16:40.729Z"
   },
   {
    "duration": 79,
    "start_time": "2022-11-21T18:16:48.043Z"
   },
   {
    "duration": 81,
    "start_time": "2022-11-21T18:16:58.082Z"
   },
   {
    "duration": 82,
    "start_time": "2022-11-21T18:17:10.914Z"
   },
   {
    "duration": 3,
    "start_time": "2022-11-21T18:17:23.699Z"
   },
   {
    "duration": 81,
    "start_time": "2022-11-21T18:17:25.514Z"
   },
   {
    "duration": 325,
    "start_time": "2022-11-21T18:25:29.612Z"
   },
   {
    "duration": 318,
    "start_time": "2022-11-21T18:25:37.652Z"
   },
   {
    "duration": 23,
    "start_time": "2022-11-21T18:25:41.356Z"
   },
   {
    "duration": 150,
    "start_time": "2022-11-21T18:26:22.275Z"
   },
   {
    "duration": 1111,
    "start_time": "2022-11-21T18:26:47.323Z"
   },
   {
    "duration": 64,
    "start_time": "2022-11-21T18:26:48.436Z"
   },
   {
    "duration": 326,
    "start_time": "2022-11-21T18:26:48.502Z"
   },
   {
    "duration": 6,
    "start_time": "2022-11-21T18:26:48.830Z"
   },
   {
    "duration": 255,
    "start_time": "2022-11-21T18:26:48.837Z"
   },
   {
    "duration": 0,
    "start_time": "2022-11-21T18:26:49.094Z"
   },
   {
    "duration": 0,
    "start_time": "2022-11-21T18:26:49.095Z"
   },
   {
    "duration": 0,
    "start_time": "2022-11-21T18:26:49.096Z"
   },
   {
    "duration": 0,
    "start_time": "2022-11-21T18:26:49.098Z"
   },
   {
    "duration": 0,
    "start_time": "2022-11-21T18:26:49.099Z"
   },
   {
    "duration": 0,
    "start_time": "2022-11-21T18:26:49.100Z"
   },
   {
    "duration": 0,
    "start_time": "2022-11-21T18:26:49.101Z"
   },
   {
    "duration": 0,
    "start_time": "2022-11-21T18:26:49.102Z"
   },
   {
    "duration": 0,
    "start_time": "2022-11-21T18:26:49.104Z"
   },
   {
    "duration": 0,
    "start_time": "2022-11-21T18:26:49.105Z"
   },
   {
    "duration": 59,
    "start_time": "2022-11-21T18:28:57.313Z"
   },
   {
    "duration": 99,
    "start_time": "2022-11-21T18:29:58.796Z"
   },
   {
    "duration": 7,
    "start_time": "2022-11-21T18:30:12.034Z"
   },
   {
    "duration": 8,
    "start_time": "2022-11-21T18:30:20.882Z"
   },
   {
    "duration": 23,
    "start_time": "2022-11-21T18:30:24.594Z"
   },
   {
    "duration": 19,
    "start_time": "2022-11-21T18:30:41.472Z"
   },
   {
    "duration": 7,
    "start_time": "2022-11-21T18:30:50.370Z"
   },
   {
    "duration": 5,
    "start_time": "2022-11-21T18:31:47.556Z"
   },
   {
    "duration": 17,
    "start_time": "2022-11-21T18:32:07.628Z"
   },
   {
    "duration": 12,
    "start_time": "2022-11-21T18:32:17.877Z"
   },
   {
    "duration": 17,
    "start_time": "2022-11-21T18:32:20.884Z"
   },
   {
    "duration": 4,
    "start_time": "2022-11-21T18:32:26.793Z"
   },
   {
    "duration": 103,
    "start_time": "2022-11-21T18:32:26.799Z"
   },
   {
    "duration": 7,
    "start_time": "2022-11-21T18:32:26.904Z"
   },
   {
    "duration": 45,
    "start_time": "2022-11-21T18:32:26.913Z"
   },
   {
    "duration": 25,
    "start_time": "2022-11-21T18:32:26.959Z"
   },
   {
    "duration": 241,
    "start_time": "2022-11-21T18:32:26.986Z"
   },
   {
    "duration": 3,
    "start_time": "2022-11-21T18:32:27.229Z"
   },
   {
    "duration": 27,
    "start_time": "2022-11-21T18:32:27.234Z"
   },
   {
    "duration": 6307,
    "start_time": "2022-11-21T18:32:27.262Z"
   },
   {
    "duration": 46,
    "start_time": "2022-11-21T18:32:33.572Z"
   },
   {
    "duration": 5368,
    "start_time": "2022-11-21T18:32:33.620Z"
   },
   {
    "duration": 29,
    "start_time": "2022-11-21T18:32:38.990Z"
   },
   {
    "duration": 87,
    "start_time": "2022-11-21T18:32:39.021Z"
   },
   {
    "duration": 751,
    "start_time": "2022-11-21T18:32:39.110Z"
   },
   {
    "duration": 93,
    "start_time": "2022-11-21T18:32:39.863Z"
   },
   {
    "duration": 640,
    "start_time": "2022-11-21T18:32:39.959Z"
   },
   {
    "duration": 4309,
    "start_time": "2022-11-21T18:32:40.600Z"
   },
   {
    "duration": 1113,
    "start_time": "2022-11-21T18:32:44.911Z"
   },
   {
    "duration": 52,
    "start_time": "2022-11-21T18:32:46.026Z"
   },
   {
    "duration": 6,
    "start_time": "2022-11-21T18:32:56.652Z"
   },
   {
    "duration": 69,
    "start_time": "2022-11-21T18:33:17.430Z"
   },
   {
    "duration": 71,
    "start_time": "2022-11-21T18:33:35.222Z"
   },
   {
    "duration": 15,
    "start_time": "2022-11-21T18:33:43.527Z"
   },
   {
    "duration": 4,
    "start_time": "2022-11-21T18:35:28.592Z"
   },
   {
    "duration": 5,
    "start_time": "2022-11-21T18:35:32.344Z"
   },
   {
    "duration": 3236,
    "start_time": "2022-11-21T18:35:40.572Z"
   },
   {
    "duration": 3804,
    "start_time": "2022-11-21T18:35:52.832Z"
   },
   {
    "duration": 2756,
    "start_time": "2022-11-21T18:36:13.530Z"
   },
   {
    "duration": 8084,
    "start_time": "2022-11-21T18:36:24.965Z"
   },
   {
    "duration": 6636,
    "start_time": "2022-11-21T18:37:13.448Z"
   },
   {
    "duration": 3338,
    "start_time": "2022-11-21T18:37:28.045Z"
   },
   {
    "duration": 35,
    "start_time": "2022-11-21T18:37:42.301Z"
   },
   {
    "duration": 285,
    "start_time": "2022-11-21T18:37:56.568Z"
   },
   {
    "duration": 282,
    "start_time": "2022-11-21T18:38:05.372Z"
   },
   {
    "duration": 13,
    "start_time": "2022-11-21T18:39:34.874Z"
   },
   {
    "duration": 470,
    "start_time": "2022-11-21T18:39:37.673Z"
   },
   {
    "duration": 13,
    "start_time": "2022-11-21T18:40:27.502Z"
   },
   {
    "duration": 20,
    "start_time": "2022-11-21T18:40:32.272Z"
   },
   {
    "duration": 36,
    "start_time": "2022-11-21T18:40:33.486Z"
   },
   {
    "duration": 13,
    "start_time": "2022-11-21T18:40:37.790Z"
   },
   {
    "duration": 33,
    "start_time": "2022-11-21T18:40:38.294Z"
   },
   {
    "duration": 17,
    "start_time": "2022-11-21T18:40:42.953Z"
   },
   {
    "duration": 37,
    "start_time": "2022-11-21T18:40:43.374Z"
   },
   {
    "duration": 2556,
    "start_time": "2022-11-21T18:40:45.302Z"
   },
   {
    "duration": 1417,
    "start_time": "2022-11-21T18:41:33.056Z"
   },
   {
    "duration": 74,
    "start_time": "2022-11-21T18:41:52.584Z"
   },
   {
    "duration": 52,
    "start_time": "2022-11-22T18:06:02.486Z"
   },
   {
    "duration": 1307,
    "start_time": "2022-11-22T18:06:07.172Z"
   },
   {
    "duration": 163,
    "start_time": "2022-11-22T18:06:08.481Z"
   },
   {
    "duration": 7,
    "start_time": "2022-11-22T18:06:11.667Z"
   },
   {
    "duration": 69,
    "start_time": "2022-11-22T18:06:28.484Z"
   },
   {
    "duration": 978,
    "start_time": "2022-11-22T18:06:33.628Z"
   },
   {
    "duration": 7,
    "start_time": "2022-11-22T18:06:43.367Z"
   },
   {
    "duration": 8,
    "start_time": "2022-11-22T18:07:08.101Z"
   },
   {
    "duration": 8,
    "start_time": "2022-11-22T18:07:37.423Z"
   },
   {
    "duration": 18,
    "start_time": "2022-11-22T18:08:19.134Z"
   },
   {
    "duration": 16,
    "start_time": "2022-11-22T18:08:37.863Z"
   },
   {
    "duration": 14,
    "start_time": "2022-11-22T18:08:40.704Z"
   },
   {
    "duration": 14,
    "start_time": "2022-11-22T18:08:44.119Z"
   },
   {
    "duration": 8,
    "start_time": "2022-11-22T18:08:47.503Z"
   },
   {
    "duration": 24,
    "start_time": "2022-11-22T18:11:43.377Z"
   },
   {
    "duration": 12,
    "start_time": "2022-11-22T18:11:58.979Z"
   },
   {
    "duration": 6,
    "start_time": "2022-11-22T18:12:04.028Z"
   },
   {
    "duration": 1118,
    "start_time": "2022-11-22T18:12:15.366Z"
   },
   {
    "duration": 70,
    "start_time": "2022-11-22T18:12:16.486Z"
   },
   {
    "duration": 9,
    "start_time": "2022-11-22T18:12:16.558Z"
   },
   {
    "duration": 45,
    "start_time": "2022-11-22T18:12:16.569Z"
   },
   {
    "duration": 29,
    "start_time": "2022-11-22T18:12:16.616Z"
   },
   {
    "duration": 358,
    "start_time": "2022-11-22T18:12:16.647Z"
   },
   {
    "duration": 5,
    "start_time": "2022-11-22T18:12:17.006Z"
   },
   {
    "duration": 54,
    "start_time": "2022-11-22T18:12:17.013Z"
   },
   {
    "duration": 8218,
    "start_time": "2022-11-22T18:12:17.068Z"
   },
   {
    "duration": 54,
    "start_time": "2022-11-22T18:12:25.289Z"
   },
   {
    "duration": 7103,
    "start_time": "2022-11-22T18:12:25.345Z"
   },
   {
    "duration": 41,
    "start_time": "2022-11-22T18:12:32.451Z"
   },
   {
    "duration": 93,
    "start_time": "2022-11-22T18:12:32.494Z"
   },
   {
    "duration": 751,
    "start_time": "2022-11-22T18:12:32.589Z"
   },
   {
    "duration": 131,
    "start_time": "2022-11-22T18:12:33.342Z"
   },
   {
    "duration": 1302,
    "start_time": "2022-11-22T18:12:33.474Z"
   },
   {
    "duration": 8042,
    "start_time": "2022-11-22T18:12:34.778Z"
   },
   {
    "duration": 5445,
    "start_time": "2022-11-22T18:12:42.821Z"
   },
   {
    "duration": 141,
    "start_time": "2022-11-22T18:12:48.268Z"
   },
   {
    "duration": 10,
    "start_time": "2022-11-22T18:27:24.246Z"
   },
   {
    "duration": 107,
    "start_time": "2022-11-22T18:27:32.158Z"
   },
   {
    "duration": 8,
    "start_time": "2022-11-22T18:27:38.294Z"
   },
   {
    "duration": 8,
    "start_time": "2022-11-22T18:27:42.894Z"
   },
   {
    "duration": 11,
    "start_time": "2022-11-22T18:42:58.387Z"
   },
   {
    "duration": 9,
    "start_time": "2022-11-22T18:43:06.083Z"
   },
   {
    "duration": 11,
    "start_time": "2022-11-22T18:43:12.123Z"
   },
   {
    "duration": 9,
    "start_time": "2022-11-22T18:44:56.270Z"
   },
   {
    "duration": 11,
    "start_time": "2022-11-22T18:45:01.877Z"
   },
   {
    "duration": 19,
    "start_time": "2022-11-22T18:45:09.053Z"
   },
   {
    "duration": 1164,
    "start_time": "2022-11-22T18:45:17.569Z"
   },
   {
    "duration": 68,
    "start_time": "2022-11-22T18:45:18.735Z"
   },
   {
    "duration": 13,
    "start_time": "2022-11-22T18:45:18.805Z"
   },
   {
    "duration": 22,
    "start_time": "2022-11-22T18:45:18.820Z"
   },
   {
    "duration": 5,
    "start_time": "2022-11-22T18:45:18.844Z"
   },
   {
    "duration": 42,
    "start_time": "2022-11-22T18:45:18.851Z"
   },
   {
    "duration": 132,
    "start_time": "2022-11-22T18:45:18.894Z"
   },
   {
    "duration": 0,
    "start_time": "2022-11-22T18:45:19.028Z"
   },
   {
    "duration": 0,
    "start_time": "2022-11-22T18:45:19.029Z"
   },
   {
    "duration": 0,
    "start_time": "2022-11-22T18:45:19.030Z"
   },
   {
    "duration": 0,
    "start_time": "2022-11-22T18:45:19.032Z"
   },
   {
    "duration": 0,
    "start_time": "2022-11-22T18:45:19.032Z"
   },
   {
    "duration": 0,
    "start_time": "2022-11-22T18:45:19.034Z"
   },
   {
    "duration": 0,
    "start_time": "2022-11-22T18:45:19.035Z"
   },
   {
    "duration": 0,
    "start_time": "2022-11-22T18:45:19.037Z"
   },
   {
    "duration": 0,
    "start_time": "2022-11-22T18:45:19.038Z"
   },
   {
    "duration": 0,
    "start_time": "2022-11-22T18:45:19.041Z"
   },
   {
    "duration": 0,
    "start_time": "2022-11-22T18:45:19.042Z"
   },
   {
    "duration": 0,
    "start_time": "2022-11-22T18:45:19.044Z"
   },
   {
    "duration": 18,
    "start_time": "2022-11-22T18:45:45.527Z"
   },
   {
    "duration": 1109,
    "start_time": "2022-11-22T18:45:52.072Z"
   },
   {
    "duration": 66,
    "start_time": "2022-11-22T18:45:53.183Z"
   },
   {
    "duration": 12,
    "start_time": "2022-11-22T18:45:53.251Z"
   },
   {
    "duration": 21,
    "start_time": "2022-11-22T18:45:53.266Z"
   },
   {
    "duration": 314,
    "start_time": "2022-11-22T18:45:53.289Z"
   },
   {
    "duration": 4,
    "start_time": "2022-11-22T18:45:53.605Z"
   },
   {
    "duration": 8,
    "start_time": "2022-11-22T18:45:53.611Z"
   },
   {
    "duration": 7098,
    "start_time": "2022-11-22T18:45:53.621Z"
   },
   {
    "duration": 57,
    "start_time": "2022-11-22T18:46:00.721Z"
   },
   {
    "duration": 5762,
    "start_time": "2022-11-22T18:46:00.780Z"
   },
   {
    "duration": 34,
    "start_time": "2022-11-22T18:46:06.544Z"
   },
   {
    "duration": 70,
    "start_time": "2022-11-22T18:46:06.580Z"
   },
   {
    "duration": 693,
    "start_time": "2022-11-22T18:46:06.652Z"
   },
   {
    "duration": 113,
    "start_time": "2022-11-22T18:46:07.347Z"
   },
   {
    "duration": 1132,
    "start_time": "2022-11-22T18:46:07.462Z"
   },
   {
    "duration": 7038,
    "start_time": "2022-11-22T18:46:08.596Z"
   },
   {
    "duration": 4792,
    "start_time": "2022-11-22T18:46:15.636Z"
   },
   {
    "duration": 98,
    "start_time": "2022-11-22T18:46:20.430Z"
   },
   {
    "duration": 19,
    "start_time": "2022-11-22T18:47:22.674Z"
   },
   {
    "duration": 1059,
    "start_time": "2022-11-22T18:48:43.741Z"
   },
   {
    "duration": 70,
    "start_time": "2022-11-22T18:48:44.802Z"
   },
   {
    "duration": 15,
    "start_time": "2022-11-22T18:48:44.874Z"
   },
   {
    "duration": 32,
    "start_time": "2022-11-22T18:48:44.892Z"
   },
   {
    "duration": 5,
    "start_time": "2022-11-22T18:48:44.926Z"
   },
   {
    "duration": 20,
    "start_time": "2022-11-22T18:48:44.932Z"
   },
   {
    "duration": 27,
    "start_time": "2022-11-22T18:48:44.953Z"
   },
   {
    "duration": 3467,
    "start_time": "2022-11-22T18:48:44.982Z"
   },
   {
    "duration": 44,
    "start_time": "2022-11-22T18:48:48.451Z"
   },
   {
    "duration": 352,
    "start_time": "2022-11-22T18:48:48.498Z"
   },
   {
    "duration": 8,
    "start_time": "2022-11-22T18:48:48.851Z"
   },
   {
    "duration": 28,
    "start_time": "2022-11-22T18:48:48.861Z"
   },
   {
    "duration": 546,
    "start_time": "2022-11-22T18:48:48.891Z"
   },
   {
    "duration": 21,
    "start_time": "2022-11-22T18:48:49.439Z"
   },
   {
    "duration": 58,
    "start_time": "2022-11-22T18:48:49.462Z"
   },
   {
    "duration": 2905,
    "start_time": "2022-11-22T18:48:49.522Z"
   },
   {
    "duration": 1567,
    "start_time": "2022-11-22T18:48:52.429Z"
   },
   {
    "duration": 99,
    "start_time": "2022-11-22T18:48:53.998Z"
   },
   {
    "duration": 0,
    "start_time": "2022-11-22T18:51:07.992Z"
   },
   {
    "duration": 107,
    "start_time": "2022-11-22T18:51:16.715Z"
   },
   {
    "duration": 0,
    "start_time": "2022-11-22T18:51:33.740Z"
   },
   {
    "duration": 3873,
    "start_time": "2022-11-22T18:51:39.944Z"
   },
   {
    "duration": 22517,
    "start_time": "2022-11-22T18:55:14.172Z"
   },
   {
    "duration": 99797,
    "start_time": "2022-11-22T18:58:28.039Z"
   },
   {
    "duration": 0,
    "start_time": "2022-11-22T19:01:50.835Z"
   },
   {
    "duration": 30600,
    "start_time": "2022-11-22T19:01:51.593Z"
   },
   {
    "duration": 50,
    "start_time": "2022-11-22T19:02:37.669Z"
   },
   {
    "duration": 2738,
    "start_time": "2022-11-22T19:02:47.615Z"
   },
   {
    "duration": 3784,
    "start_time": "2022-11-22T19:03:09.141Z"
   },
   {
    "duration": 46,
    "start_time": "2022-11-22T19:03:19.632Z"
   },
   {
    "duration": 60,
    "start_time": "2022-11-22T19:03:27.389Z"
   },
   {
    "duration": 4,
    "start_time": "2022-11-22T19:04:44.067Z"
   },
   {
    "duration": 1147,
    "start_time": "2022-11-22T19:04:55.360Z"
   },
   {
    "duration": 68,
    "start_time": "2022-11-22T19:04:56.509Z"
   },
   {
    "duration": 11,
    "start_time": "2022-11-22T19:04:56.578Z"
   },
   {
    "duration": 20,
    "start_time": "2022-11-22T19:04:56.591Z"
   },
   {
    "duration": 6,
    "start_time": "2022-11-22T19:04:56.612Z"
   },
   {
    "duration": 22,
    "start_time": "2022-11-22T19:04:56.619Z"
   },
   {
    "duration": 7,
    "start_time": "2022-11-22T19:04:56.643Z"
   },
   {
    "duration": 27,
    "start_time": "2022-11-22T19:04:56.652Z"
   },
   {
    "duration": 59,
    "start_time": "2022-11-22T19:04:56.681Z"
   },
   {
    "duration": 0,
    "start_time": "2022-11-22T19:04:56.742Z"
   },
   {
    "duration": 0,
    "start_time": "2022-11-22T19:04:56.744Z"
   },
   {
    "duration": 0,
    "start_time": "2022-11-22T19:04:56.745Z"
   },
   {
    "duration": 0,
    "start_time": "2022-11-22T19:04:56.746Z"
   },
   {
    "duration": 0,
    "start_time": "2022-11-22T19:04:56.747Z"
   },
   {
    "duration": 0,
    "start_time": "2022-11-22T19:04:56.748Z"
   },
   {
    "duration": 0,
    "start_time": "2022-11-22T19:04:56.749Z"
   },
   {
    "duration": 0,
    "start_time": "2022-11-22T19:04:56.751Z"
   },
   {
    "duration": 0,
    "start_time": "2022-11-22T19:04:56.752Z"
   },
   {
    "duration": 106,
    "start_time": "2022-11-22T19:05:17.735Z"
   },
   {
    "duration": 5,
    "start_time": "2022-11-22T19:05:37.864Z"
   },
   {
    "duration": 6,
    "start_time": "2022-11-22T19:05:51.241Z"
   },
   {
    "duration": 4,
    "start_time": "2022-11-22T19:05:52.112Z"
   },
   {
    "duration": 12,
    "start_time": "2022-11-22T19:05:59.272Z"
   },
   {
    "duration": 3,
    "start_time": "2022-11-22T19:06:04.873Z"
   },
   {
    "duration": 4,
    "start_time": "2022-11-22T19:06:11.377Z"
   },
   {
    "duration": 163,
    "start_time": "2022-11-22T19:06:34.810Z"
   },
   {
    "duration": 11519,
    "start_time": "2022-11-22T19:06:40.337Z"
   },
   {
    "duration": 196904,
    "start_time": "2022-11-22T19:07:18.347Z"
   },
   {
    "duration": 51,
    "start_time": "2022-11-22T19:10:35.253Z"
   },
   {
    "duration": 10,
    "start_time": "2022-11-22T19:16:04.319Z"
   },
   {
    "duration": 0,
    "start_time": "2022-11-22T19:18:08.324Z"
   },
   {
    "duration": 87807,
    "start_time": "2022-11-22T19:18:08.874Z"
   },
   {
    "duration": 0,
    "start_time": "2022-11-22T19:23:08.857Z"
   },
   {
    "duration": 40,
    "start_time": "2022-11-22T19:23:53.832Z"
   },
   {
    "duration": 0,
    "start_time": "2022-11-22T19:26:10.010Z"
   },
   {
    "duration": 10347,
    "start_time": "2022-11-22T19:26:15.900Z"
   },
   {
    "duration": 15220,
    "start_time": "2022-11-22T19:27:00.358Z"
   },
   {
    "duration": 10995,
    "start_time": "2022-11-22T19:27:54.725Z"
   },
   {
    "duration": 10836,
    "start_time": "2022-11-22T19:28:52.638Z"
   },
   {
    "duration": 54,
    "start_time": "2022-11-22T19:29:53.271Z"
   },
   {
    "duration": 1473,
    "start_time": "2022-11-22T19:32:14.731Z"
   },
   {
    "duration": 1434,
    "start_time": "2022-11-22T19:32:43.451Z"
   },
   {
    "duration": 1473,
    "start_time": "2022-11-22T19:34:36.503Z"
   },
   {
    "duration": 1505,
    "start_time": "2022-11-22T19:35:01.318Z"
   },
   {
    "duration": 1454,
    "start_time": "2022-11-22T19:35:06.261Z"
   },
   {
    "duration": 15,
    "start_time": "2022-11-22T19:35:31.575Z"
   },
   {
    "duration": 16,
    "start_time": "2022-11-22T19:36:07.632Z"
   },
   {
    "duration": 309,
    "start_time": "2022-11-22T19:36:09.168Z"
   },
   {
    "duration": 494,
    "start_time": "2022-11-22T19:37:34.042Z"
   },
   {
    "duration": 9,
    "start_time": "2022-11-22T19:39:35.061Z"
   },
   {
    "duration": 16,
    "start_time": "2022-11-22T19:44:07.842Z"
   },
   {
    "duration": 26,
    "start_time": "2022-11-22T19:46:13.277Z"
   },
   {
    "duration": 54,
    "start_time": "2022-11-22T19:50:26.851Z"
   },
   {
    "duration": 4,
    "start_time": "2022-11-22T19:50:49.629Z"
   },
   {
    "duration": 61,
    "start_time": "2022-11-22T19:50:50.651Z"
   },
   {
    "duration": 14,
    "start_time": "2022-11-22T19:50:51.842Z"
   },
   {
    "duration": 21,
    "start_time": "2022-11-22T19:50:53.162Z"
   },
   {
    "duration": 4,
    "start_time": "2022-11-22T19:50:53.626Z"
   },
   {
    "duration": 17,
    "start_time": "2022-11-22T19:50:54.259Z"
   },
   {
    "duration": 6,
    "start_time": "2022-11-22T19:50:55.498Z"
   },
   {
    "duration": 10772,
    "start_time": "2022-11-22T19:50:56.298Z"
   },
   {
    "duration": 1493,
    "start_time": "2022-11-22T19:51:07.072Z"
   },
   {
    "duration": 23,
    "start_time": "2022-11-22T19:51:08.567Z"
   },
   {
    "duration": 327,
    "start_time": "2022-11-22T19:51:08.593Z"
   },
   {
    "duration": 7,
    "start_time": "2022-11-22T19:51:08.922Z"
   },
   {
    "duration": 70,
    "start_time": "2022-11-22T19:51:08.931Z"
   },
   {
    "duration": 122,
    "start_time": "2022-11-22T19:51:35.859Z"
   },
   {
    "duration": 61,
    "start_time": "2022-11-22T19:51:43.218Z"
   },
   {
    "duration": 61,
    "start_time": "2022-11-22T19:51:51.828Z"
   },
   {
    "duration": 4,
    "start_time": "2022-11-22T19:51:59.861Z"
   },
   {
    "duration": 3,
    "start_time": "2022-11-22T19:52:06.853Z"
   },
   {
    "duration": 6,
    "start_time": "2022-11-22T19:52:11.093Z"
   },
   {
    "duration": 9,
    "start_time": "2022-11-22T19:52:14.853Z"
   },
   {
    "duration": 35,
    "start_time": "2022-11-22T19:52:19.869Z"
   },
   {
    "duration": 32,
    "start_time": "2022-11-22T19:52:26.437Z"
   },
   {
    "duration": 19,
    "start_time": "2022-11-22T19:52:32.492Z"
   },
   {
    "duration": 19,
    "start_time": "2022-11-22T19:52:39.029Z"
   },
   {
    "duration": 5,
    "start_time": "2022-11-22T19:52:53.093Z"
   },
   {
    "duration": 6,
    "start_time": "2022-11-22T19:53:04.262Z"
   },
   {
    "duration": 43808,
    "start_time": "2022-11-22T19:53:33.311Z"
   },
   {
    "duration": 42212,
    "start_time": "2022-11-22T19:54:20.776Z"
   },
   {
    "duration": 68,
    "start_time": "2022-11-22T19:55:03.048Z"
   },
   {
    "duration": 3,
    "start_time": "2022-11-22T19:55:20.492Z"
   },
   {
    "duration": 65,
    "start_time": "2022-11-22T19:56:20.496Z"
   },
   {
    "duration": 1606,
    "start_time": "2022-11-22T19:58:39.819Z"
   },
   {
    "duration": 200,
    "start_time": "2022-11-22T19:59:38.238Z"
   },
   {
    "duration": 166,
    "start_time": "2022-11-22T19:59:53.758Z"
   },
   {
    "duration": 184,
    "start_time": "2022-11-22T20:00:41.960Z"
   },
   {
    "duration": 118,
    "start_time": "2022-11-22T20:01:17.967Z"
   },
   {
    "duration": 588,
    "start_time": "2022-11-22T20:01:22.929Z"
   },
   {
    "duration": 221,
    "start_time": "2022-11-22T20:01:41.148Z"
   },
   {
    "duration": 44,
    "start_time": "2022-11-22T20:02:25.482Z"
   },
   {
    "duration": 7,
    "start_time": "2022-11-22T20:10:49.340Z"
   },
   {
    "duration": 22,
    "start_time": "2022-11-22T20:11:10.741Z"
   },
   {
    "duration": 16,
    "start_time": "2022-11-22T20:11:41.206Z"
   },
   {
    "duration": 1063,
    "start_time": "2022-11-22T20:11:48.102Z"
   },
   {
    "duration": 678,
    "start_time": "2022-11-22T20:12:13.855Z"
   },
   {
    "duration": 1093,
    "start_time": "2022-11-22T20:13:19.492Z"
   },
   {
    "duration": 68,
    "start_time": "2022-11-22T20:13:20.588Z"
   },
   {
    "duration": 13,
    "start_time": "2022-11-22T20:13:20.658Z"
   },
   {
    "duration": 22,
    "start_time": "2022-11-22T20:13:20.672Z"
   },
   {
    "duration": 5,
    "start_time": "2022-11-22T20:13:20.696Z"
   },
   {
    "duration": 20,
    "start_time": "2022-11-22T20:13:20.703Z"
   },
   {
    "duration": 6,
    "start_time": "2022-11-22T20:13:20.724Z"
   },
   {
    "duration": 11017,
    "start_time": "2022-11-22T20:13:20.732Z"
   },
   {
    "duration": 1465,
    "start_time": "2022-11-22T20:13:31.751Z"
   },
   {
    "duration": 117,
    "start_time": "2022-11-22T20:13:33.217Z"
   },
   {
    "duration": 0,
    "start_time": "2022-11-22T20:13:33.336Z"
   },
   {
    "duration": 0,
    "start_time": "2022-11-22T20:13:33.338Z"
   },
   {
    "duration": 0,
    "start_time": "2022-11-22T20:13:33.339Z"
   },
   {
    "duration": 0,
    "start_time": "2022-11-22T20:13:33.340Z"
   },
   {
    "duration": 0,
    "start_time": "2022-11-22T20:13:33.342Z"
   },
   {
    "duration": 0,
    "start_time": "2022-11-22T20:13:33.343Z"
   },
   {
    "duration": 0,
    "start_time": "2022-11-22T20:13:33.344Z"
   },
   {
    "duration": 0,
    "start_time": "2022-11-22T20:13:33.345Z"
   },
   {
    "duration": 0,
    "start_time": "2022-11-22T20:13:33.346Z"
   },
   {
    "duration": 0,
    "start_time": "2022-11-22T20:13:33.348Z"
   },
   {
    "duration": 0,
    "start_time": "2022-11-22T20:13:33.349Z"
   },
   {
    "duration": 0,
    "start_time": "2022-11-22T20:13:33.350Z"
   },
   {
    "duration": 0,
    "start_time": "2022-11-22T20:13:33.351Z"
   },
   {
    "duration": 16,
    "start_time": "2022-11-22T20:16:58.693Z"
   },
   {
    "duration": 10,
    "start_time": "2022-11-22T20:17:00.420Z"
   },
   {
    "duration": 12,
    "start_time": "2022-11-22T20:17:10.228Z"
   },
   {
    "duration": 15,
    "start_time": "2022-11-22T20:17:28.453Z"
   },
   {
    "duration": 879,
    "start_time": "2022-11-22T20:17:41.774Z"
   },
   {
    "duration": 1121,
    "start_time": "2022-11-22T20:17:57.688Z"
   },
   {
    "duration": 65,
    "start_time": "2022-11-22T20:17:58.811Z"
   },
   {
    "duration": 11,
    "start_time": "2022-11-22T20:17:58.878Z"
   },
   {
    "duration": 20,
    "start_time": "2022-11-22T20:17:58.891Z"
   },
   {
    "duration": 7,
    "start_time": "2022-11-22T20:17:58.913Z"
   },
   {
    "duration": 18,
    "start_time": "2022-11-22T20:17:58.922Z"
   },
   {
    "duration": 5,
    "start_time": "2022-11-22T20:17:58.941Z"
   },
   {
    "duration": 10904,
    "start_time": "2022-11-22T20:17:58.978Z"
   },
   {
    "duration": 1497,
    "start_time": "2022-11-22T20:18:09.883Z"
   },
   {
    "duration": 118,
    "start_time": "2022-11-22T20:18:11.382Z"
   },
   {
    "duration": 0,
    "start_time": "2022-11-22T20:18:11.502Z"
   },
   {
    "duration": 0,
    "start_time": "2022-11-22T20:18:11.504Z"
   },
   {
    "duration": 0,
    "start_time": "2022-11-22T20:18:11.505Z"
   },
   {
    "duration": 0,
    "start_time": "2022-11-22T20:18:11.506Z"
   },
   {
    "duration": 0,
    "start_time": "2022-11-22T20:18:11.507Z"
   },
   {
    "duration": 0,
    "start_time": "2022-11-22T20:18:11.508Z"
   },
   {
    "duration": 0,
    "start_time": "2022-11-22T20:18:11.509Z"
   },
   {
    "duration": 0,
    "start_time": "2022-11-22T20:18:11.510Z"
   },
   {
    "duration": 0,
    "start_time": "2022-11-22T20:18:11.511Z"
   },
   {
    "duration": 0,
    "start_time": "2022-11-22T20:18:11.512Z"
   },
   {
    "duration": 0,
    "start_time": "2022-11-22T20:18:11.513Z"
   },
   {
    "duration": 0,
    "start_time": "2022-11-22T20:18:11.514Z"
   },
   {
    "duration": 0,
    "start_time": "2022-11-22T20:18:11.515Z"
   },
   {
    "duration": 15,
    "start_time": "2022-11-22T20:19:29.937Z"
   },
   {
    "duration": 313,
    "start_time": "2022-11-22T20:19:33.588Z"
   },
   {
    "duration": 8,
    "start_time": "2022-11-22T20:19:35.872Z"
   },
   {
    "duration": 136,
    "start_time": "2022-11-22T20:19:37.041Z"
   },
   {
    "duration": 83,
    "start_time": "2022-11-22T20:19:37.297Z"
   },
   {
    "duration": 4,
    "start_time": "2022-11-22T20:19:37.543Z"
   },
   {
    "duration": 5,
    "start_time": "2022-11-22T20:19:37.807Z"
   },
   {
    "duration": 32,
    "start_time": "2022-11-22T20:19:38.071Z"
   },
   {
    "duration": 22,
    "start_time": "2022-11-22T20:19:38.343Z"
   },
   {
    "duration": 6,
    "start_time": "2022-11-22T20:19:38.596Z"
   },
   {
    "duration": 42788,
    "start_time": "2022-11-22T20:19:39.095Z"
   },
   {
    "duration": 52,
    "start_time": "2022-11-22T20:20:21.885Z"
   },
   {
    "duration": 128,
    "start_time": "2022-11-22T20:20:21.939Z"
   },
   {
    "duration": 495,
    "start_time": "2022-11-22T20:20:22.069Z"
   },
   {
    "duration": 226,
    "start_time": "2022-11-22T20:21:10.451Z"
   },
   {
    "duration": 55,
    "start_time": "2022-11-22T20:21:14.066Z"
   },
   {
    "duration": 8339,
    "start_time": "2022-11-22T20:24:31.793Z"
   },
   {
    "duration": 22,
    "start_time": "2022-11-22T20:25:21.864Z"
   },
   {
    "duration": 1457,
    "start_time": "2022-11-22T20:25:32.712Z"
   },
   {
    "duration": 11,
    "start_time": "2022-11-22T20:25:51.137Z"
   },
   {
    "duration": 1565,
    "start_time": "2022-11-22T20:26:01.017Z"
   },
   {
    "duration": 12,
    "start_time": "2022-11-22T20:26:23.896Z"
   },
   {
    "duration": 12,
    "start_time": "2022-11-22T20:26:29.225Z"
   },
   {
    "duration": 11,
    "start_time": "2022-11-22T20:26:32.145Z"
   },
   {
    "duration": 4,
    "start_time": "2022-11-22T20:26:35.986Z"
   },
   {
    "duration": 4,
    "start_time": "2022-11-22T20:26:52.058Z"
   },
   {
    "duration": 18914,
    "start_time": "2022-11-22T20:27:05.034Z"
   },
   {
    "duration": 12,
    "start_time": "2022-11-22T20:27:55.179Z"
   },
   {
    "duration": 4,
    "start_time": "2022-11-22T20:27:59.785Z"
   },
   {
    "duration": 0,
    "start_time": "2022-11-22T20:28:28.607Z"
   },
   {
    "duration": 18916,
    "start_time": "2022-11-22T20:28:29.037Z"
   },
   {
    "duration": 9482,
    "start_time": "2022-11-22T20:28:47.954Z"
   },
   {
    "duration": 12,
    "start_time": "2022-11-22T20:29:41.910Z"
   },
   {
    "duration": 16,
    "start_time": "2022-11-22T20:29:47.101Z"
   },
   {
    "duration": 314,
    "start_time": "2022-11-22T20:29:58.830Z"
   },
   {
    "duration": 1307,
    "start_time": "2022-11-22T20:30:07.653Z"
   },
   {
    "duration": 46,
    "start_time": "2022-11-22T20:30:18.350Z"
   },
   {
    "duration": 1318,
    "start_time": "2022-11-22T20:30:23.494Z"
   },
   {
    "duration": 1317,
    "start_time": "2022-11-22T20:30:28.078Z"
   },
   {
    "duration": 1325,
    "start_time": "2022-11-22T20:30:32.789Z"
   },
   {
    "duration": 1321,
    "start_time": "2022-11-22T20:30:38.222Z"
   },
   {
    "duration": 1308,
    "start_time": "2022-11-22T20:30:43.430Z"
   },
   {
    "duration": 315,
    "start_time": "2022-11-22T20:30:47.734Z"
   },
   {
    "duration": 1338,
    "start_time": "2022-11-22T20:30:57.039Z"
   },
   {
    "duration": 2316,
    "start_time": "2022-11-22T20:31:05.767Z"
   },
   {
    "duration": 9331,
    "start_time": "2022-11-22T20:31:12.704Z"
   },
   {
    "duration": 12,
    "start_time": "2022-11-22T20:31:44.377Z"
   },
   {
    "duration": 1154,
    "start_time": "2022-11-22T20:31:53.166Z"
   },
   {
    "duration": 71,
    "start_time": "2022-11-22T20:31:54.322Z"
   },
   {
    "duration": 13,
    "start_time": "2022-11-22T20:31:54.394Z"
   },
   {
    "duration": 21,
    "start_time": "2022-11-22T20:31:54.409Z"
   },
   {
    "duration": 6,
    "start_time": "2022-11-22T20:31:54.432Z"
   },
   {
    "duration": 43,
    "start_time": "2022-11-22T20:31:54.439Z"
   },
   {
    "duration": 5,
    "start_time": "2022-11-22T20:31:54.484Z"
   },
   {
    "duration": 18874,
    "start_time": "2022-11-22T20:31:54.491Z"
   },
   {
    "duration": 9480,
    "start_time": "2022-11-22T20:32:13.366Z"
   },
   {
    "duration": 15,
    "start_time": "2022-11-22T20:32:22.849Z"
   },
   {
    "duration": 9323,
    "start_time": "2022-11-22T20:32:22.877Z"
   },
   {
    "duration": 7,
    "start_time": "2022-11-22T20:32:32.202Z"
   },
   {
    "duration": 70,
    "start_time": "2022-11-22T20:32:32.211Z"
   },
   {
    "duration": 238,
    "start_time": "2022-11-22T20:32:32.283Z"
   },
   {
    "duration": 4,
    "start_time": "2022-11-22T20:32:32.579Z"
   },
   {
    "duration": 99,
    "start_time": "2022-11-22T20:32:32.584Z"
   },
   {
    "duration": 33,
    "start_time": "2022-11-22T20:32:32.685Z"
   },
   {
    "duration": 165,
    "start_time": "2022-11-22T20:32:32.719Z"
   },
   {
    "duration": 5,
    "start_time": "2022-11-22T20:32:32.885Z"
   },
   {
    "duration": 37886,
    "start_time": "2022-11-22T20:32:32.892Z"
   },
   {
    "duration": 0,
    "start_time": "2022-11-22T20:33:10.780Z"
   },
   {
    "duration": 0,
    "start_time": "2022-11-22T20:33:10.781Z"
   },
   {
    "duration": 0,
    "start_time": "2022-11-22T20:33:10.782Z"
   },
   {
    "duration": 0,
    "start_time": "2022-11-22T20:33:10.783Z"
   },
   {
    "duration": 41989,
    "start_time": "2022-11-22T20:33:11.845Z"
   },
   {
    "duration": 55,
    "start_time": "2022-11-22T20:34:07.187Z"
   },
   {
    "duration": 122,
    "start_time": "2022-11-22T20:34:10.139Z"
   },
   {
    "duration": 512,
    "start_time": "2022-11-22T20:34:11.267Z"
   },
   {
    "duration": 56,
    "start_time": "2022-11-22T20:34:11.781Z"
   },
   {
    "duration": 55,
    "start_time": "2022-11-23T17:29:46.138Z"
   },
   {
    "duration": 1603,
    "start_time": "2022-11-23T17:29:50.712Z"
   },
   {
    "duration": 187,
    "start_time": "2022-11-23T17:29:53.015Z"
   },
   {
    "duration": 67,
    "start_time": "2022-11-23T17:29:56.351Z"
   },
   {
    "duration": 269,
    "start_time": "2022-11-23T17:32:24.026Z"
   },
   {
    "duration": 230,
    "start_time": "2022-11-23T17:32:28.411Z"
   },
   {
    "duration": 14,
    "start_time": "2022-11-23T17:32:36.699Z"
   },
   {
    "duration": 10,
    "start_time": "2022-11-23T17:32:39.971Z"
   },
   {
    "duration": 238,
    "start_time": "2022-11-23T17:34:42.070Z"
   },
   {
    "duration": 224,
    "start_time": "2022-11-23T17:35:04.247Z"
   },
   {
    "duration": 5,
    "start_time": "2022-11-23T17:35:19.294Z"
   },
   {
    "duration": 55,
    "start_time": "2022-11-23T17:35:19.830Z"
   },
   {
    "duration": 201,
    "start_time": "2022-11-23T17:35:21.062Z"
   },
   {
    "duration": 211,
    "start_time": "2022-11-23T17:35:25.774Z"
   },
   {
    "duration": 237,
    "start_time": "2022-11-23T17:35:28.494Z"
   },
   {
    "duration": 70,
    "start_time": "2022-11-23T17:36:33.184Z"
   },
   {
    "duration": 243,
    "start_time": "2022-11-23T17:36:37.041Z"
   },
   {
    "duration": 236,
    "start_time": "2022-11-23T17:38:19.122Z"
   },
   {
    "duration": 227,
    "start_time": "2022-11-23T17:38:25.251Z"
   },
   {
    "duration": 217,
    "start_time": "2022-11-23T17:38:44.322Z"
   },
   {
    "duration": 373,
    "start_time": "2022-11-23T17:39:45.716Z"
   },
   {
    "duration": 221,
    "start_time": "2022-11-23T17:39:58.204Z"
   },
   {
    "duration": 214,
    "start_time": "2022-11-23T17:40:10.917Z"
   },
   {
    "duration": 9,
    "start_time": "2022-11-23T17:40:14.629Z"
   },
   {
    "duration": 9,
    "start_time": "2022-11-23T17:40:21.436Z"
   },
   {
    "duration": 218,
    "start_time": "2022-11-23T17:40:30.325Z"
   },
   {
    "duration": 234,
    "start_time": "2022-11-23T17:41:01.693Z"
   },
   {
    "duration": 219,
    "start_time": "2022-11-23T17:41:12.110Z"
   },
   {
    "duration": 219,
    "start_time": "2022-11-23T17:41:26.502Z"
   },
   {
    "duration": 223,
    "start_time": "2022-11-23T17:41:45.671Z"
   },
   {
    "duration": 232,
    "start_time": "2022-11-23T17:42:09.319Z"
   },
   {
    "duration": 222,
    "start_time": "2022-11-23T17:42:21.520Z"
   },
   {
    "duration": 215,
    "start_time": "2022-11-23T17:42:30.384Z"
   },
   {
    "duration": 217,
    "start_time": "2022-11-23T17:42:49.312Z"
   },
   {
    "duration": 220,
    "start_time": "2022-11-23T17:42:58.032Z"
   },
   {
    "duration": 216,
    "start_time": "2022-11-23T17:43:03.881Z"
   },
   {
    "duration": 242,
    "start_time": "2022-11-23T17:43:26.241Z"
   },
   {
    "duration": 239,
    "start_time": "2022-11-23T17:44:01.098Z"
   },
   {
    "duration": 238,
    "start_time": "2022-11-23T17:44:19.914Z"
   },
   {
    "duration": 232,
    "start_time": "2022-11-23T17:44:24.394Z"
   },
   {
    "duration": 239,
    "start_time": "2022-11-23T17:44:50.603Z"
   },
   {
    "duration": 230,
    "start_time": "2022-11-23T17:45:03.667Z"
   },
   {
    "duration": 13,
    "start_time": "2022-11-23T17:45:13.314Z"
   },
   {
    "duration": 239,
    "start_time": "2022-11-23T17:45:20.091Z"
   },
   {
    "duration": 29,
    "start_time": "2022-11-23T17:45:36.876Z"
   },
   {
    "duration": 29,
    "start_time": "2022-11-23T17:46:33.630Z"
   },
   {
    "duration": 30,
    "start_time": "2022-11-23T17:46:40.021Z"
   },
   {
    "duration": 28,
    "start_time": "2022-11-23T17:48:03.352Z"
   },
   {
    "duration": 230,
    "start_time": "2022-11-23T17:48:07.110Z"
   },
   {
    "duration": 243,
    "start_time": "2022-11-23T17:48:20.528Z"
   },
   {
    "duration": 23,
    "start_time": "2022-11-23T17:50:55.914Z"
   },
   {
    "duration": 5,
    "start_time": "2022-11-23T17:51:02.306Z"
   },
   {
    "duration": 19,
    "start_time": "2022-11-23T17:51:03.707Z"
   },
   {
    "duration": 78,
    "start_time": "2022-11-23T17:53:23.734Z"
   },
   {
    "duration": 276148,
    "start_time": "2022-11-23T17:53:33.318Z"
   },
   {
    "duration": 8072,
    "start_time": "2022-11-23T18:07:11.609Z"
   },
   {
    "duration": 15127,
    "start_time": "2022-11-23T18:07:58.346Z"
   },
   {
    "duration": 264525,
    "start_time": "2022-11-23T18:08:32.979Z"
   },
   {
    "duration": 1704,
    "start_time": "2022-11-23T18:15:53.918Z"
   },
   {
    "duration": 17,
    "start_time": "2022-11-23T18:17:53.391Z"
   },
   {
    "duration": 8378,
    "start_time": "2022-11-23T18:18:09.431Z"
   },
   {
    "duration": 383,
    "start_time": "2022-11-23T18:18:32.303Z"
   },
   {
    "duration": 9,
    "start_time": "2022-11-23T18:18:49.960Z"
   },
   {
    "duration": 7,
    "start_time": "2022-11-23T18:18:55.615Z"
   },
   {
    "duration": 99,
    "start_time": "2022-11-23T18:19:07.553Z"
   },
   {
    "duration": 64,
    "start_time": "2022-11-23T18:19:08.607Z"
   },
   {
    "duration": 4,
    "start_time": "2022-11-23T18:19:09.656Z"
   },
   {
    "duration": 6,
    "start_time": "2022-11-23T18:19:10.088Z"
   },
   {
    "duration": 33,
    "start_time": "2022-11-23T18:19:10.496Z"
   },
   {
    "duration": 20,
    "start_time": "2022-11-23T18:19:11.255Z"
   },
   {
    "duration": 5,
    "start_time": "2022-11-23T18:19:12.688Z"
   },
   {
    "duration": 45215,
    "start_time": "2022-11-23T18:19:13.816Z"
   },
   {
    "duration": 43,
    "start_time": "2022-11-23T18:19:59.033Z"
   },
   {
    "duration": 137,
    "start_time": "2022-11-23T18:19:59.078Z"
   },
   {
    "duration": 750,
    "start_time": "2022-11-23T18:19:59.218Z"
   },
   {
    "duration": 166,
    "start_time": "2022-11-23T18:24:53.329Z"
   },
   {
    "duration": 40,
    "start_time": "2022-11-23T18:28:28.301Z"
   },
   {
    "duration": 123,
    "start_time": "2022-11-23T18:30:46.992Z"
   },
   {
    "duration": 148,
    "start_time": "2022-11-23T18:30:53.576Z"
   },
   {
    "duration": 1135,
    "start_time": "2022-11-23T18:34:21.958Z"
   },
   {
    "duration": 68,
    "start_time": "2022-11-23T18:34:23.095Z"
   },
   {
    "duration": 297,
    "start_time": "2022-11-23T18:34:23.165Z"
   },
   {
    "duration": 37,
    "start_time": "2022-11-23T18:34:23.465Z"
   },
   {
    "duration": 5,
    "start_time": "2022-11-23T18:34:23.504Z"
   },
   {
    "duration": 40,
    "start_time": "2022-11-23T18:34:23.511Z"
   },
   {
    "duration": 7,
    "start_time": "2022-11-23T18:34:23.553Z"
   },
   {
    "duration": 261584,
    "start_time": "2022-11-23T18:34:23.562Z"
   },
   {
    "duration": 64,
    "start_time": "2022-11-23T18:38:45.147Z"
   },
   {
    "duration": 367,
    "start_time": "2022-11-23T18:38:45.214Z"
   },
   {
    "duration": 8,
    "start_time": "2022-11-23T18:38:45.583Z"
   },
   {
    "duration": 77,
    "start_time": "2022-11-23T18:38:45.593Z"
   },
   {
    "duration": 153,
    "start_time": "2022-11-23T18:38:45.752Z"
   },
   {
    "duration": 5,
    "start_time": "2022-11-23T18:38:45.953Z"
   },
   {
    "duration": 105,
    "start_time": "2022-11-23T18:38:45.961Z"
   },
   {
    "duration": 42,
    "start_time": "2022-11-23T18:38:46.068Z"
   },
   {
    "duration": 104,
    "start_time": "2022-11-23T18:38:46.166Z"
   },
   {
    "duration": 6,
    "start_time": "2022-11-23T18:38:46.272Z"
   },
   {
    "duration": 47215,
    "start_time": "2022-11-23T18:38:46.280Z"
   },
   {
    "duration": 34,
    "start_time": "2022-11-23T18:39:33.496Z"
   },
   {
    "duration": 143,
    "start_time": "2022-11-23T18:39:33.532Z"
   },
   {
    "duration": 420,
    "start_time": "2022-11-23T18:39:33.677Z"
   },
   {
    "duration": 36,
    "start_time": "2022-11-23T18:39:34.099Z"
   },
   {
    "duration": 127229,
    "start_time": "2022-11-23T18:40:39.831Z"
   },
   {
    "duration": 28,
    "start_time": "2022-11-23T18:44:18.042Z"
   },
   {
    "duration": 56,
    "start_time": "2022-11-23T18:44:21.449Z"
   },
   {
    "duration": 118,
    "start_time": "2022-11-23T18:44:23.124Z"
   },
   {
    "duration": 23,
    "start_time": "2022-11-23T18:44:26.932Z"
   },
   {
    "duration": 9,
    "start_time": "2022-11-23T18:46:33.566Z"
   },
   {
    "duration": 11,
    "start_time": "2022-11-23T18:46:37.946Z"
   },
   {
    "duration": 9,
    "start_time": "2022-11-23T18:46:53.238Z"
   },
   {
    "duration": 104,
    "start_time": "2022-11-23T18:47:07.453Z"
   },
   {
    "duration": 3,
    "start_time": "2022-11-23T18:47:10.342Z"
   },
   {
    "duration": 5,
    "start_time": "2022-11-23T18:47:11.173Z"
   },
   {
    "duration": 108,
    "start_time": "2022-11-23T18:47:12.347Z"
   },
   {
    "duration": 19,
    "start_time": "2022-11-23T18:47:14.326Z"
   },
   {
    "duration": 6,
    "start_time": "2022-11-23T18:47:15.485Z"
   },
   {
    "duration": 22,
    "start_time": "2022-11-23T18:47:21.031Z"
   },
   {
    "duration": 58,
    "start_time": "2022-11-23T18:47:23.269Z"
   },
   {
    "duration": 123,
    "start_time": "2022-11-23T18:47:25.294Z"
   },
   {
    "duration": 27,
    "start_time": "2022-11-23T18:47:28.819Z"
   },
   {
    "duration": 1199,
    "start_time": "2022-11-23T18:47:43.128Z"
   },
   {
    "duration": 95,
    "start_time": "2022-11-23T18:47:44.329Z"
   },
   {
    "duration": 289,
    "start_time": "2022-11-23T18:47:44.426Z"
   },
   {
    "duration": 38,
    "start_time": "2022-11-23T18:47:44.717Z"
   },
   {
    "duration": 8,
    "start_time": "2022-11-23T18:47:44.757Z"
   },
   {
    "duration": 29,
    "start_time": "2022-11-23T18:47:44.768Z"
   },
   {
    "duration": 7,
    "start_time": "2022-11-23T18:47:44.800Z"
   },
   {
    "duration": 253496,
    "start_time": "2022-11-23T18:47:44.809Z"
   },
   {
    "duration": 73,
    "start_time": "2022-11-23T18:51:58.307Z"
   },
   {
    "duration": 363,
    "start_time": "2022-11-23T18:51:58.382Z"
   },
   {
    "duration": 8,
    "start_time": "2022-11-23T18:51:58.750Z"
   },
   {
    "duration": 94,
    "start_time": "2022-11-23T18:51:58.760Z"
   },
   {
    "duration": 195,
    "start_time": "2022-11-23T18:51:58.855Z"
   },
   {
    "duration": 5,
    "start_time": "2022-11-23T18:51:59.053Z"
   },
   {
    "duration": 103,
    "start_time": "2022-11-23T18:51:59.060Z"
   },
   {
    "duration": 31,
    "start_time": "2022-11-23T18:51:59.166Z"
   },
   {
    "duration": 107,
    "start_time": "2022-11-23T18:51:59.251Z"
   },
   {
    "duration": 6,
    "start_time": "2022-11-23T18:51:59.360Z"
   },
   {
    "duration": 128068,
    "start_time": "2022-11-23T18:51:59.367Z"
   },
   {
    "duration": 30,
    "start_time": "2022-11-23T18:54:07.437Z"
   },
   {
    "duration": 59,
    "start_time": "2022-11-23T18:54:07.469Z"
   },
   {
    "duration": 440,
    "start_time": "2022-11-23T18:54:07.531Z"
   },
   {
    "duration": 23,
    "start_time": "2022-11-23T18:54:07.973Z"
   },
   {
    "duration": 145,
    "start_time": "2022-11-23T18:55:10.794Z"
   },
   {
    "duration": 138,
    "start_time": "2022-11-23T18:55:34.387Z"
   },
   {
    "duration": 173,
    "start_time": "2022-11-23T18:55:42.881Z"
   },
   {
    "duration": 129,
    "start_time": "2022-11-23T18:55:52.122Z"
   },
   {
    "duration": 124,
    "start_time": "2022-11-23T18:56:07.090Z"
   },
   {
    "duration": 1595,
    "start_time": "2022-11-24T20:19:06.139Z"
   },
   {
    "duration": 201,
    "start_time": "2022-11-24T20:19:07.736Z"
   },
   {
    "duration": 254,
    "start_time": "2022-11-24T20:19:08.491Z"
   },
   {
    "duration": 21,
    "start_time": "2022-11-24T20:19:14.229Z"
   },
   {
    "duration": 22,
    "start_time": "2022-11-24T20:19:24.462Z"
   },
   {
    "duration": 4,
    "start_time": "2022-11-24T20:19:49.590Z"
   },
   {
    "duration": 15,
    "start_time": "2022-11-24T20:19:50.854Z"
   },
   {
    "duration": 17,
    "start_time": "2022-11-24T20:19:57.620Z"
   },
   {
    "duration": 53,
    "start_time": "2022-11-24T20:22:13.439Z"
   },
   {
    "duration": 233,
    "start_time": "2022-11-24T20:22:15.434Z"
   },
   {
    "duration": 4,
    "start_time": "2022-11-24T20:22:18.154Z"
   },
   {
    "duration": 17,
    "start_time": "2022-11-24T20:22:19.459Z"
   },
   {
    "duration": 17,
    "start_time": "2022-11-24T20:22:20.000Z"
   },
   {
    "duration": 17,
    "start_time": "2022-11-24T20:22:41.206Z"
   },
   {
    "duration": 12,
    "start_time": "2022-11-24T20:22:51.055Z"
   },
   {
    "duration": 4,
    "start_time": "2022-11-24T20:25:22.991Z"
   },
   {
    "duration": 99,
    "start_time": "2022-11-24T20:25:26.684Z"
   },
   {
    "duration": 54,
    "start_time": "2022-11-24T20:25:31.710Z"
   },
   {
    "duration": 5,
    "start_time": "2022-11-24T20:25:34.335Z"
   },
   {
    "duration": 5,
    "start_time": "2022-11-24T20:25:37.280Z"
   },
   {
    "duration": 16,
    "start_time": "2022-11-24T20:25:38.774Z"
   },
   {
    "duration": 12,
    "start_time": "2022-11-24T20:25:39.263Z"
   },
   {
    "duration": 23,
    "start_time": "2022-11-24T20:25:47.620Z"
   },
   {
    "duration": 1630,
    "start_time": "2022-11-24T20:26:01.752Z"
   },
   {
    "duration": 63,
    "start_time": "2022-11-24T20:26:03.384Z"
   },
   {
    "duration": 4,
    "start_time": "2022-11-24T20:26:03.448Z"
   },
   {
    "duration": 51,
    "start_time": "2022-11-24T20:26:03.455Z"
   },
   {
    "duration": 17,
    "start_time": "2022-11-24T20:26:03.508Z"
   },
   {
    "duration": 42,
    "start_time": "2022-11-24T20:26:03.527Z"
   },
   {
    "duration": 6,
    "start_time": "2022-11-24T20:26:03.571Z"
   },
   {
    "duration": 198523,
    "start_time": "2022-11-24T20:26:03.578Z"
   },
   {
    "duration": 64,
    "start_time": "2022-11-24T20:29:22.102Z"
   },
   {
    "duration": 363,
    "start_time": "2022-11-24T20:29:22.168Z"
   },
   {
    "duration": 23,
    "start_time": "2022-11-24T20:29:22.533Z"
   },
   {
    "duration": 97,
    "start_time": "2022-11-24T20:29:22.558Z"
   },
   {
    "duration": 148,
    "start_time": "2022-11-24T20:29:22.656Z"
   },
   {
    "duration": 48,
    "start_time": "2022-11-24T20:29:22.806Z"
   },
   {
    "duration": 100,
    "start_time": "2022-11-24T20:29:22.856Z"
   },
   {
    "duration": 94,
    "start_time": "2022-11-24T20:29:22.957Z"
   },
   {
    "duration": 107,
    "start_time": "2022-11-24T20:29:23.054Z"
   },
   {
    "duration": 5,
    "start_time": "2022-11-24T20:29:23.162Z"
   },
   {
    "duration": 103033,
    "start_time": "2022-11-24T20:29:23.169Z"
   },
   {
    "duration": 14,
    "start_time": "2022-11-24T20:31:06.204Z"
   },
   {
    "duration": 87,
    "start_time": "2022-11-24T20:31:06.220Z"
   },
   {
    "duration": 528,
    "start_time": "2022-11-24T20:31:06.309Z"
   },
   {
    "duration": 26,
    "start_time": "2022-11-24T20:31:06.839Z"
   },
   {
    "duration": 5,
    "start_time": "2022-11-24T20:32:51.119Z"
   }
  ],
  "kernelspec": {
   "display_name": "Python 3 (ipykernel)",
   "language": "python",
   "name": "python3"
  },
  "language_info": {
   "codemirror_mode": {
    "name": "ipython",
    "version": 3
   },
   "file_extension": ".py",
   "mimetype": "text/x-python",
   "name": "python",
   "nbconvert_exporter": "python",
   "pygments_lexer": "ipython3",
   "version": "3.9.5"
  },
  "toc": {
   "base_numbering": 1,
   "nav_menu": {},
   "number_sections": true,
   "sideBar": true,
   "skip_h1_title": true,
   "title_cell": "Содержание",
   "title_sidebar": "Contents",
   "toc_cell": true,
   "toc_position": {},
   "toc_section_display": true,
   "toc_window_display": false
  }
 },
 "nbformat": 4,
 "nbformat_minor": 2
}
