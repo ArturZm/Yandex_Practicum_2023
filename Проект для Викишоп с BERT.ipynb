{
 "cells": [
  {
   "cell_type": "markdown",
   "metadata": {},
   "source": [
    "<img src=\"http://s3.amazonaws.com/pix.iemoji.com/images/emoji/apple/ios-12/256/waving-hand.png\" align=left width=44, heigth=44>\n",
    "<div class=\"alert alert-info\">\n",
    "<b> Комментарий ревьюера</b>\n",
    "\n",
    "\n",
    "Привет, Артур! Давай знакомиться! Меня зовут Дмитрий Махортов, и я буду проверять твой проект. Сразу предлагаю общение на «ты» 🙂, но если тебе это не комфортно, то дай знать, и мы перейдем на «вы». \n",
    "\n",
    "Моя основная цель — не указать на совершенные тобою ошибки, а поделиться своим опытом и помочь тебе погрузиться в увлекательный мир работы с данными и вырасти в крепкого профи. Это отдаленная цель. А ближайшая - сделать твою работу еще лучше )).\n",
    "   \n",
    "    \n",
    "Все ключевые этапы в работе выполнены, и я вижу что с проектом ты справшяешься. Есть моменты, которые нужно доработать, но я уверен, у тебя все получится.\n",
    "        \n",
    "Расскажу как обычно проходит проверка:    \n",
    "Бывают моменты, которые требуют пристального внимания. Комментарии по ним выделены <span style='background-color:#F7B3A4'> красным цветом </span> и обозначены значком 🛑. После их доработки проект будет принят.  🙂\n",
    " \n",
    "<span style='background-color:#B7EBA7'> Зеленым цветом </span> и значком ✅ отмечены удачные и элегантные решения, на которые можно опираться в будущих проектах. Или советы «со звездочкой», которые помогут тебе в будущем.\n",
    "\n",
    "<span style='background-color:#F9EDA6'>Жёлтым цветом </span> и значком ⚠️ выделено то, что в следующий раз можно сделать по-другому. Ты можешь учесть эти комментарии при выполнении будущих заданий или доработать проект сейчас (однако это не обязательно).\n",
    "\n",
    "Давай работать над проектом в диалоге: **если ты что-то меняешь в проекте по моим рекомендациям — пиши об этом**. Выбери для своих комментариев какой-то заметный цвет, так мне будет легче отследить изменения. Пожалуйста, **не перемещай, не изменяй и не удаляй мои комментарии**. Всё это поможет выполнить повторную проверку твоего проекта оперативнее. \n",
    "</div>"
   ]
  },
  {
   "cell_type": "markdown",
   "metadata": {},
   "source": [
    "<img src=\"http://s3.amazonaws.com/pix.iemoji.com/images/emoji/apple/ios-12/256/waving-hand.png\" align=left width=44, heigth=44>\n",
    "<div class=\"alert alert-info\">\n",
    "<b> Комментарий ревьюера v2</b>\n",
    "\n",
    "Привет, Артур!\n",
    "\n",
    "Давай сразу договоримся по взаимодействию:\n",
    "    \n",
    " - Ревьюеры проверяют проекты и дают обратную связь, но принимают на проверку уже готовые проекты. Проект,  который не работает - это формальный повод вернуть проект на доработку. За помощью ты можешь обратиться к преподавателю по проекту.\n",
    "    \n",
    " - Я готов оказать помощь (в разумных пределах), но в этом случае пожалуйста напиши в самом начале, что ты застрял и тебе нужна помощь. Лучше четко сформулировать вопросы.  И я буду понимать, что тебе просто нужна помочь в  каком-то одно месте. Потому что полное ревью проекта - это достаточно большая работа. Именно поэтому я не готов делать ревью заведомо сырого проекта.\n",
    "    \n",
    " - Относительно того, в чем у тебя возможный \"затык\". Ты начал создавать валидационную выборку, но не довел дело до конца:\n",
    "    \n",
    "   - Вначале ты разделил весь датасет на обучающую и тестовые выборки в пропорциях 90/10. Тестовую выборку ты назвал X_test\n",
    "   - Затем ты разделил тестовую выборку на две части по 5% и назвал их features_valid и features_test. Кстати, 5% это слишком мало и если ты продолжить использовать такие маленькие выборки, это будет красный комментарий.\n",
    "   - Но когда ты создаешь признаки из текстов с помощью TF-IDF, ты берешь за основу выборку X_test, которая 10%, а для валидационной выборки векторизацию не выполняешь.\n",
    "    \n",
    " \n",
    "    \n",
    "Еще совет. Мне кажется ты создал слишком сложную структуру, огромное количество функций, которые сложно взаимодействуют. Попробуй избавиться от всего лишнего, что не является действительно необходимым. Можешь попробовать сделать это в копии ноутбука, а если не поможет - вернуться к текущей версии. Когда ты уберешь всё лишнее, то не будешь путаться. \n",
    "    \n",
    "Логика проекта очень проста. \n",
    "    \n",
    "   - Берем данные, чистим, лемматизируем\n",
    "   - Делим данные на выборки\n",
    "   - Векторизуем выборки с помощью TF-IDF векторайзера.\n",
    "   - Обучаем модели, подбираем гиперпараметры\n",
    "   - Выбираем лучшую модель и тестируем \n",
    "    \n",
    "Также тебе стоит решить для себя, будешь ли ты использовать кросс-валидацию или валидационную выборку. Внимание, GridSearchCV использует кросс-валидацию! Поэтому если ты планируешь использовать этот инструмент, то нужно разобраться с тем, как правильно оценивать качество модели с помощью кросс-валидации (подробные шпаргалки, которые я оставил тебе в конце проекта). Ну и в этом  случае валидационная выборка не нужна. И да, тогда лучше отказаться от идеи балансировки классов и апсемплинга. Совместить апсемплинг и кросс-валидацию теоретически можно, но это достаточно сложно. И ты можешь попробовать сделать это когда сдашь проект.\n",
    "    \n",
    "Если ты не будешь использьвать кросс-валидацию, то используй валидационную выборку. Но тогда давай забудем про GridSearchCV и будем подбирать гиперпараметры честно в цикле.    \n",
    "    \n",
    "\n",
    "</div>"
   ]
  },
  {
   "cell_type": "markdown",
   "metadata": {
    "toc": true
   },
   "source": [
    "<h1>Содержание<span class=\"tocSkip\"></span></h1>\n",
    "<div class=\"toc\"><ul class=\"toc-item\"><li><ul class=\"toc-item\"><li><ul class=\"toc-item\"><li><span><a href=\"#Загрузим-необходимые-нам-библиотеки\" data-toc-modified-id=\"Загрузим-необходимые-нам-библиотеки-0.0.1\"><span class=\"toc-item-num\">0.0.1&nbsp;&nbsp;</span>Загрузим необходимые нам библиотеки</a></span></li><li><span><a href=\"#Создадим-функцию-которая-будет-использовать-функцию-по-очистке-слов-и-лемматизировать-каждое-слово\" data-toc-modified-id=\"Создадим-функцию-которая-будет-использовать-функцию-по-очистке-слов-и-лемматизировать-каждое-слово-0.0.2\"><span class=\"toc-item-num\">0.0.2&nbsp;&nbsp;</span>Создадим функцию которая будет использовать функцию по очистке слов и лемматизировать каждое слово</a></span></li><li><span><a href=\"#Распределим-признаки-и-целевые-значения\" data-toc-modified-id=\"Распределим-признаки-и-целевые-значения-0.0.3\"><span class=\"toc-item-num\">0.0.3&nbsp;&nbsp;</span>Распределим признаки и целевые значения</a></span></li><li><span><a href=\"#Разделим-датасет-на-тренировочную,-тестовую-и-валидационную-выборки\" data-toc-modified-id=\"Разделим-датасет-на-тренировочную,-тестовую-и-валидационную-выборки-0.0.4\"><span class=\"toc-item-num\">0.0.4&nbsp;&nbsp;</span>Разделим датасет на тренировочную, тестовую и валидационную выборки</a></span></li><li><span><a href=\"#Добавим-валидационную-выборку\" data-toc-modified-id=\"Добавим-валидационную-выборку-0.0.5\"><span class=\"toc-item-num\">0.0.5&nbsp;&nbsp;</span>Добавим валидационную выборку</a></span></li><li><span><a href=\"#Напишем-функцию-для-увеличения-выборки-1-класса-и-усеньшения-0-класса\" data-toc-modified-id=\"Напишем-функцию-для-увеличения-выборки-1-класса-и-усеньшения-0-класса-0.0.6\"><span class=\"toc-item-num\">0.0.6&nbsp;&nbsp;</span>Напишем функцию для увеличения выборки 1 класса и усеньшения 0 класса</a></span></li><li><span><a href=\"#Проверим-нашу-функцию\" data-toc-modified-id=\"Проверим-нашу-функцию-0.0.7\"><span class=\"toc-item-num\">0.0.7&nbsp;&nbsp;</span>Проверим нашу функцию</a></span></li><li><span><a href=\"#Обработаем-наши-данные-используя-технологию-TF-IDF\" data-toc-modified-id=\"Обработаем-наши-данные-используя-технологию-TF-IDF-0.0.8\"><span class=\"toc-item-num\">0.0.8&nbsp;&nbsp;</span>Обработаем наши данные используя технологию TF-IDF</a></span></li><li><span><a href=\"#Применим-модель-TfidfVectorizer-и-обучим-её-на-наших-тренировочных-данных\" data-toc-modified-id=\"Применим-модель-TfidfVectorizer-и-обучим-её-на-наших-тренировочных-данных-0.0.9\"><span class=\"toc-item-num\">0.0.9&nbsp;&nbsp;</span>Применим модель TfidfVectorizer и обучим её на наших тренировочных данных</a></span></li><li><span><a href=\"#Создадим-корпус-слов-для-валидационной-выборки\" data-toc-modified-id=\"Создадим-корпус-слов-для-валидационной-выборки-0.0.10\"><span class=\"toc-item-num\">0.0.10&nbsp;&nbsp;</span>Создадим корпус слов для валидационной выборки</a></span></li><li><span><a href=\"#Произведём-трансформирование-валидационной-выборки\" data-toc-modified-id=\"Произведём-трансформирование-валидационной-выборки-0.0.11\"><span class=\"toc-item-num\">0.0.11&nbsp;&nbsp;</span>Произведём трансформирование валидационной выборки</a></span><ul class=\"toc-item\"><li><span><a href=\"#Вывод:-после-предобработки-данных-мы-выяснили-что-имеем-дело-с-сильным-дисбалансом-в-сторону-негативного-класса.-Применив-метод-upsampled---увеличение-выборки-с-положительным-классом-и-downsampled,-т.к.-при-обучении-может-принять-коонстантное-значение-и-плохо-предсказать-положительное,-т.к.-в-тестовой-выборке-также-присутствует-сильный-дисбаланс.\" data-toc-modified-id=\"Вывод:-после-предобработки-данных-мы-выяснили-что-имеем-дело-с-сильным-дисбалансом-в-сторону-негативного-класса.-Применив-метод-upsampled---увеличение-выборки-с-положительным-классом-и-downsampled,-т.к.-при-обучении-может-принять-коонстантное-значение-и-плохо-предсказать-положительное,-т.к.-в-тестовой-выборке-также-присутствует-сильный-дисбаланс.-0.0.11.1\"><span class=\"toc-item-num\">0.0.11.1&nbsp;&nbsp;</span>Вывод: после предобработки данных мы выяснили что имеем дело с сильным дисбалансом в сторону негативного класса. Применив метод upsampled - увеличение выборки с положительным классом и downsampled, т.к. при обучении может принять коонстантное значение и плохо предсказать положительное, т.к. в тестовой выборке также присутствует сильный дисбаланс.</a></span></li></ul></li><li><span><a href=\"#Создадим-функцию-для-вывода-графика-плотности-распределения-предсказанных-и-истенных-значений\" data-toc-modified-id=\"Создадим-функцию-для-вывода-графика-плотности-распределения-предсказанных-и-истенных-значений-0.0.12\"><span class=\"toc-item-num\">0.0.12&nbsp;&nbsp;</span>Создадим функцию для вывода графика плотности распределения предсказанных и истенных значений</a></span><ul class=\"toc-item\"><li><span><a href=\"#Создадим-функцию-для-вывода-матрицы-предсказаний\" data-toc-modified-id=\"Создадим-функцию-для-вывода-матрицы-предсказаний-0.0.12.1\"><span class=\"toc-item-num\">0.0.12.1&nbsp;&nbsp;</span>Создадим функцию для вывода матрицы предсказаний</a></span></li></ul></li><li><span><a href=\"#Обучим-модель-DecisionTreeClassifier-на-валидации\" data-toc-modified-id=\"Обучим-модель-DecisionTreeClassifier-на-валидации-0.0.13\"><span class=\"toc-item-num\">0.0.13&nbsp;&nbsp;</span>Обучим модель DecisionTreeClassifier на валидации</a></span><ul class=\"toc-item\"><li><span><a href=\"#Проверим-подобранные-значения-гипрепапарметров-модели-DecisionTreeClassifier-и-посмотрим-на-отчёт-метрик-классификации\" data-toc-modified-id=\"Проверим-подобранные-значения-гипрепапарметров-модели-DecisionTreeClassifier-и-посмотрим-на-отчёт-метрик-классификации-0.0.13.1\"><span class=\"toc-item-num\">0.0.13.1&nbsp;&nbsp;</span>Проверим подобранные значения гипрепапарметров модели DecisionTreeClassifier и посмотрим на отчёт метрик классификации</a></span></li></ul></li><li><span><a href=\"#Обучим-модель-LogisticRegression-и-подберём-параметры-при-помощи-GridSearchCV\" data-toc-modified-id=\"Обучим-модель-LogisticRegression-и-подберём-параметры-при-помощи-GridSearchCV-0.0.14\"><span class=\"toc-item-num\">0.0.14&nbsp;&nbsp;</span>Обучим модель LogisticRegression и подберём параметры при помощи GridSearchCV</a></span></li><li><span><a href=\"#Проверим-подобранные-значения-гипрепапарметров-наилучшей-модели-LogisticRegression-и-посмотрим-на-отчёт-метрик-классификации\" data-toc-modified-id=\"Проверим-подобранные-значения-гипрепапарметров-наилучшей-модели-LogisticRegression-и-посмотрим-на-отчёт-метрик-классификации-0.0.15\"><span class=\"toc-item-num\">0.0.15&nbsp;&nbsp;</span>Проверим подобранные значения гипрепапарметров наилучшей модели LogisticRegression и посмотрим на отчёт метрик классификации</a></span></li><li><span><a href=\"#Сведём-интересующие-нас-данные-в-одну-таблицу-для-наглядности\" data-toc-modified-id=\"Сведём-интересующие-нас-данные-в-одну-таблицу-для-наглядности-0.0.16\"><span class=\"toc-item-num\">0.0.16&nbsp;&nbsp;</span>Сведём интересующие нас данные в одну таблицу для наглядности</a></span><ul class=\"toc-item\"><li><span><a href=\"#КОММЕНТАРИЙ-v4:--код-я-поправил,-работает-без-ошибок,-НО-осталась-большая-загвостка-с-правильным-примением-логистической-регрессии-к-тестовой-выборке.-Я-подозреваю-на-то,-что-изначально-я-тестовую-выборку-поделил-ещё-на-валидациооную,-из-за-этого-у-меня-дата-сеты-не-сходятся.-Поэтому-я-не-могу-обучить-на-тестовой-выборке.-Помогите-пожалуйста.\" data-toc-modified-id=\"КОММЕНТАРИЙ-v4:--код-я-поправил,-работает-без-ошибок,-НО-осталась-большая-загвостка-с-правильным-примением-логистической-регрессии-к-тестовой-выборке.-Я-подозреваю-на-то,-что-изначально-я-тестовую-выборку-поделил-ещё-на-валидациооную,-из-за-этого-у-меня-дата-сеты-не-сходятся.-Поэтому-я-не-могу-обучить-на-тестовой-выборке.-Помогите-пожалуйста.-0.0.16.1\"><span class=\"toc-item-num\">0.0.16.1&nbsp;&nbsp;</span>КОММЕНТАРИЙ v4:  код я поправил, работает без ошибок, НО осталась большая загвостка с правильным примением логистической регрессии к тестовой выборке. Я подозреваю на то, что изначально я тестовую выборку поделил ещё на валидациооную, из-за этого у меня дата сеты не сходятся. Поэтому я не могу обучить на тестовой выборке. Помогите пожалуйста.</a></span></li></ul></li></ul></li></ul></li><li><span><a href=\"#Чек-лист-проверки\" data-toc-modified-id=\"Чек-лист-проверки-1\"><span class=\"toc-item-num\">1&nbsp;&nbsp;</span>Чек-лист проверки</a></span></li></ul></div>"
   ]
  },
  {
   "cell_type": "markdown",
   "metadata": {},
   "source": [
    "# Проект для «Викишоп» c BERT"
   ]
  },
  {
   "cell_type": "markdown",
   "metadata": {},
   "source": [
    "Интернет-магазин «Викишоп» запускает новый сервис. Теперь пользователи могут редактировать и дополнять описания товаров, как в вики-сообществах. То есть клиенты предлагают свои правки и комментируют изменения других. Магазину нужен инструмент, который будет искать токсичные комментарии и отправлять их на модерацию. \n",
    "\n",
    "Обучите модель классифицировать комментарии на позитивные и негативные. В вашем распоряжении набор данных с разметкой о токсичности правок.\n",
    "\n",
    "Постройте модель со значением метрики качества *F1* не меньше 0.75. \n",
    "\n",
    "**Инструкция по выполнению проекта**\n",
    "\n",
    "1. Загрузите и подготовьте данные.\n",
    "2. Обучите разные модели. \n",
    "3. Сделайте выводы.\n",
    "\n",
    "Для выполнения проекта применять *BERT* необязательно, но вы можете попробовать.\n",
    "\n",
    "**Описание данных**\n",
    "\n",
    "Данные находятся в файле `toxic_comments.csv`. Столбец *text* в нём содержит текст комментария, а *toxic* — целевой признак."
   ]
  },
  {
   "cell_type": "markdown",
   "metadata": {},
   "source": [
    "# 1. Подготовка"
   ]
  },
  {
   "cell_type": "code",
   "execution_count": 3,
   "metadata": {},
   "outputs": [
    {
     "name": "stdout",
     "output_type": "stream",
     "text": [
      "Collecting transformers\n",
      "  Using cached transformers-4.26.1-py3-none-any.whl (6.3 MB)\n",
      "Requirement already satisfied: tqdm>=4.27 in c:\\programdata\\anaconda3\\lib\\site-packages (from transformers) (4.64.1)\n",
      "Requirement already satisfied: packaging>=20.0 in c:\\programdata\\anaconda3\\lib\\site-packages (from transformers) (22.0)\n",
      "Collecting huggingface-hub<1.0,>=0.11.0\n",
      "  Using cached huggingface_hub-0.12.0-py3-none-any.whl (190 kB)\n",
      "Requirement already satisfied: filelock in c:\\programdata\\anaconda3\\lib\\site-packages (from transformers) (3.9.0)\n",
      "Requirement already satisfied: numpy>=1.17 in c:\\programdata\\anaconda3\\lib\\site-packages (from transformers) (1.23.5)\n",
      "Requirement already satisfied: regex!=2019.12.17 in c:\\programdata\\anaconda3\\lib\\site-packages (from transformers) (2022.7.9)\n",
      "Collecting tokenizers!=0.11.3,<0.14,>=0.11.1\n",
      "  Using cached tokenizers-0.13.2-cp39-cp39-win_amd64.whl (3.3 MB)\n",
      "Requirement already satisfied: requests in c:\\programdata\\anaconda3\\lib\\site-packages (from transformers) (2.28.1)\n",
      "Requirement already satisfied: pyyaml>=5.1 in c:\\programdata\\anaconda3\\lib\\site-packages (from transformers) (6.0)\n",
      "Requirement already satisfied: typing-extensions>=3.7.4.3 in c:\\programdata\\anaconda3\\lib\\site-packages (from huggingface-hub<1.0,>=0.11.0->transformers) (4.4.0)\n",
      "Requirement already satisfied: colorama in c:\\programdata\\anaconda3\\lib\\site-packages (from tqdm>=4.27->transformers) (0.4.6)\n",
      "Requirement already satisfied: urllib3<1.27,>=1.21.1 in c:\\programdata\\anaconda3\\lib\\site-packages (from requests->transformers) (1.26.14)\n",
      "Requirement already satisfied: charset-normalizer<3,>=2 in c:\\programdata\\anaconda3\\lib\\site-packages (from requests->transformers) (2.0.4)\n",
      "Requirement already satisfied: idna<4,>=2.5 in c:\\programdata\\anaconda3\\lib\\site-packages (from requests->transformers) (3.4)\n",
      "Requirement already satisfied: certifi>=2017.4.17 in c:\\programdata\\anaconda3\\lib\\site-packages (from requests->transformers) (2022.12.7)\n",
      "Installing collected packages: tokenizers, huggingface-hub, transformers\n",
      "Successfully installed huggingface-hub-0.12.0 tokenizers-0.13.2 transformers-4.26.1\n",
      "Note: you may need to restart the kernel to use updated packages.\n",
      "Collecting catboost\n",
      "  Using cached catboost-1.1.1-cp39-none-win_amd64.whl (74.0 MB)\n",
      "Requirement already satisfied: matplotlib in c:\\programdata\\anaconda3\\lib\\site-packages (from catboost) (3.6.2)\n",
      "Requirement already satisfied: pandas>=0.24.0 in c:\\programdata\\anaconda3\\lib\\site-packages (from catboost) (1.5.2)\n",
      "Collecting graphviz\n",
      "  Using cached graphviz-0.20.1-py3-none-any.whl (47 kB)\n",
      "Requirement already satisfied: plotly in c:\\programdata\\anaconda3\\lib\\site-packages (from catboost) (5.9.0)\n",
      "Requirement already satisfied: numpy>=1.16.0 in c:\\programdata\\anaconda3\\lib\\site-packages (from catboost) (1.23.5)\n",
      "Requirement already satisfied: six in c:\\programdata\\anaconda3\\lib\\site-packages (from catboost) (1.16.0)\n",
      "Requirement already satisfied: scipy in c:\\programdata\\anaconda3\\lib\\site-packages (from catboost) (1.10.0)\n",
      "Requirement already satisfied: python-dateutil>=2.8.1 in c:\\programdata\\anaconda3\\lib\\site-packages (from pandas>=0.24.0->catboost) (2.8.2)\n",
      "Requirement already satisfied: pytz>=2020.1 in c:\\programdata\\anaconda3\\lib\\site-packages (from pandas>=0.24.0->catboost) (2022.7)\n",
      "Requirement already satisfied: packaging>=20.0 in c:\\programdata\\anaconda3\\lib\\site-packages (from matplotlib->catboost) (22.0)\n",
      "Requirement already satisfied: fonttools>=4.22.0 in c:\\programdata\\anaconda3\\lib\\site-packages (from matplotlib->catboost) (4.25.0)\n",
      "Requirement already satisfied: contourpy>=1.0.1 in c:\\programdata\\anaconda3\\lib\\site-packages (from matplotlib->catboost) (1.0.5)\n",
      "Requirement already satisfied: pyparsing>=2.2.1 in c:\\programdata\\anaconda3\\lib\\site-packages (from matplotlib->catboost) (3.0.9)\n",
      "Requirement already satisfied: cycler>=0.10 in c:\\programdata\\anaconda3\\lib\\site-packages (from matplotlib->catboost) (0.11.0)\n",
      "Requirement already satisfied: kiwisolver>=1.0.1 in c:\\programdata\\anaconda3\\lib\\site-packages (from matplotlib->catboost) (1.4.4)\n",
      "Requirement already satisfied: pillow>=6.2.0 in c:\\programdata\\anaconda3\\lib\\site-packages (from matplotlib->catboost) (9.3.0)\n",
      "Requirement already satisfied: tenacity>=6.2.0 in c:\\programdata\\anaconda3\\lib\\site-packages (from plotly->catboost) (8.0.1)\n",
      "Installing collected packages: graphviz, catboost\n",
      "Successfully installed catboost-1.1.1 graphviz-0.20.1\n",
      "Note: you may need to restart the kernel to use updated packages.\n",
      "Requirement already satisfied: seaborn in c:\\programdata\\anaconda3\\lib\\site-packages (0.12.2)\n",
      "Requirement already satisfied: matplotlib!=3.6.1,>=3.1 in c:\\programdata\\anaconda3\\lib\\site-packages (from seaborn) (3.6.2)\n",
      "Requirement already satisfied: pandas>=0.25 in c:\\programdata\\anaconda3\\lib\\site-packages (from seaborn) (1.5.2)\n",
      "Requirement already satisfied: numpy!=1.24.0,>=1.17 in c:\\programdata\\anaconda3\\lib\\site-packages (from seaborn) (1.23.5)\n",
      "Requirement already satisfied: packaging>=20.0 in c:\\programdata\\anaconda3\\lib\\site-packages (from matplotlib!=3.6.1,>=3.1->seaborn) (22.0)\n",
      "Requirement already satisfied: python-dateutil>=2.7 in c:\\programdata\\anaconda3\\lib\\site-packages (from matplotlib!=3.6.1,>=3.1->seaborn) (2.8.2)\n",
      "Requirement already satisfied: fonttools>=4.22.0 in c:\\programdata\\anaconda3\\lib\\site-packages (from matplotlib!=3.6.1,>=3.1->seaborn) (4.25.0)\n",
      "Requirement already satisfied: pillow>=6.2.0 in c:\\programdata\\anaconda3\\lib\\site-packages (from matplotlib!=3.6.1,>=3.1->seaborn) (9.3.0)\n",
      "Requirement already satisfied: cycler>=0.10 in c:\\programdata\\anaconda3\\lib\\site-packages (from matplotlib!=3.6.1,>=3.1->seaborn) (0.11.0)\n",
      "Requirement already satisfied: pyparsing>=2.2.1 in c:\\programdata\\anaconda3\\lib\\site-packages (from matplotlib!=3.6.1,>=3.1->seaborn) (3.0.9)\n",
      "Requirement already satisfied: kiwisolver>=1.0.1 in c:\\programdata\\anaconda3\\lib\\site-packages (from matplotlib!=3.6.1,>=3.1->seaborn) (1.4.4)\n",
      "Requirement already satisfied: contourpy>=1.0.1 in c:\\programdata\\anaconda3\\lib\\site-packages (from matplotlib!=3.6.1,>=3.1->seaborn) (1.0.5)\n",
      "Requirement already satisfied: pytz>=2020.1 in c:\\programdata\\anaconda3\\lib\\site-packages (from pandas>=0.25->seaborn) (2022.7)\n",
      "Requirement already satisfied: six>=1.5 in c:\\programdata\\anaconda3\\lib\\site-packages (from python-dateutil>=2.7->matplotlib!=3.6.1,>=3.1->seaborn) (1.16.0)\n",
      "Note: you may need to restart the kernel to use updated packages.\n",
      "Collecting pymystem3\n",
      "  Using cached pymystem3-0.2.0-py3-none-any.whl (10 kB)\n",
      "Requirement already satisfied: requests in c:\\programdata\\anaconda3\\lib\\site-packages (from pymystem3) (2.28.1)\n",
      "Requirement already satisfied: urllib3<1.27,>=1.21.1 in c:\\programdata\\anaconda3\\lib\\site-packages (from requests->pymystem3) (1.26.14)\n",
      "Requirement already satisfied: idna<4,>=2.5 in c:\\programdata\\anaconda3\\lib\\site-packages (from requests->pymystem3) (3.4)\n",
      "Requirement already satisfied: certifi>=2017.4.17 in c:\\programdata\\anaconda3\\lib\\site-packages (from requests->pymystem3) (2022.12.7)\n",
      "Requirement already satisfied: charset-normalizer<3,>=2 in c:\\programdata\\anaconda3\\lib\\site-packages (from requests->pymystem3) (2.0.4)\n",
      "Installing collected packages: pymystem3\n",
      "Successfully installed pymystem3-0.2.0\n",
      "Note: you may need to restart the kernel to use updated packages.\n",
      "Collecting torch\n",
      "  Using cached torch-1.13.1-cp39-cp39-win_amd64.whl (162.5 MB)\n",
      "Requirement already satisfied: typing-extensions in c:\\programdata\\anaconda3\\lib\\site-packages (from torch) (4.4.0)\n",
      "Installing collected packages: torch\n",
      "Successfully installed torch-1.13.1\n",
      "Note: you may need to restart the kernel to use updated packages.\n",
      "Collecting xgboost\n",
      "  Using cached xgboost-1.7.3-py3-none-win_amd64.whl (89.1 MB)\n",
      "Requirement already satisfied: scipy in c:\\programdata\\anaconda3\\lib\\site-packages (from xgboost) (1.10.0)\n",
      "Requirement already satisfied: numpy in c:\\programdata\\anaconda3\\lib\\site-packages (from xgboost) (1.23.5)\n",
      "Installing collected packages: xgboost\n",
      "Successfully installed xgboost-1.7.3\n",
      "Note: you may need to restart the kernel to use updated packages.\n",
      "Requirement already satisfied: nltk in c:\\programdata\\anaconda3\\lib\\site-packages (3.7)\n",
      "Requirement already satisfied: joblib in c:\\programdata\\anaconda3\\lib\\site-packages (from nltk) (1.1.1)\n",
      "Requirement already satisfied: click in c:\\programdata\\anaconda3\\lib\\site-packages (from nltk) (8.0.4)\n",
      "Requirement already satisfied: tqdm in c:\\programdata\\anaconda3\\lib\\site-packages (from nltk) (4.64.1)\n",
      "Requirement already satisfied: regex>=2021.8.3 in c:\\programdata\\anaconda3\\lib\\site-packages (from nltk) (2022.7.9)\n",
      "Requirement already satisfied: colorama in c:\\programdata\\anaconda3\\lib\\site-packages (from click->nltk) (0.4.6)\n",
      "Note: you may need to restart the kernel to use updated packages.\n",
      "Collecting ppb\n",
      "  Using cached ppb-1.1-py3-none-any.whl (54 kB)\n",
      "Collecting ppb-vector~=1.0\n",
      "  Using cached ppb_vector-1.0-py3-none-any.whl (10 kB)\n",
      "Collecting Deprecated~=1.2.12\n",
      "  Using cached Deprecated-1.2.13-py2.py3-none-any.whl (9.6 kB)\n",
      "Collecting PySDL2\n",
      "  Using cached PySDL2-0.9.15-py3-none-any.whl\n",
      "Collecting pysdl2-dll\n",
      "  Using cached pysdl2_dll-2.26.2-py2.py3-none-win_amd64.whl (2.6 MB)\n",
      "Requirement already satisfied: wrapt<2,>=1.10 in c:\\programdata\\anaconda3\\lib\\site-packages (from Deprecated~=1.2.12->ppb) (1.14.1)\n",
      "Installing collected packages: pysdl2-dll, PySDL2, ppb-vector, Deprecated, ppb\n",
      "Successfully installed Deprecated-1.2.13 PySDL2-0.9.15 ppb-1.1 ppb-vector-1.0 pysdl2-dll-2.26.2\n",
      "Note: you may need to restart the kernel to use updated packages.\n",
      "Collecting scikit-learn==0.21.3\n",
      "  Using cached scikit-learn-0.21.3.tar.gz (12.2 MB)\n",
      "  Preparing metadata (setup.py): started\n",
      "  Preparing metadata (setup.py): finished with status 'done'\n",
      "Requirement already satisfied: numpy>=1.11.0 in c:\\programdata\\anaconda3\\lib\\site-packages (from scikit-learn==0.21.3) (1.23.5)\n",
      "Requirement already satisfied: scipy>=0.17.0 in c:\\programdata\\anaconda3\\lib\\site-packages (from scikit-learn==0.21.3) (1.10.0)\n",
      "Requirement already satisfied: joblib>=0.11 in c:\\programdata\\anaconda3\\lib\\site-packages (from scikit-learn==0.21.3) (1.1.1)\n",
      "Building wheels for collected packages: scikit-learn\n",
      "  Building wheel for scikit-learn (setup.py): started\n",
      "  Building wheel for scikit-learn (setup.py): finished with status 'error'\n",
      "  Running setup.py clean for scikit-learn\n",
      "Failed to build scikit-learn\n",
      "Installing collected packages: scikit-learn\n",
      "  Attempting uninstall: scikit-learn\n",
      "    Found existing installation: scikit-learn 1.0.2\n",
      "    Uninstalling scikit-learn-1.0.2:\n",
      "      Successfully uninstalled scikit-learn-1.0.2\n",
      "  Running setup.py install for scikit-learn: started\n",
      "  Running setup.py install for scikit-learn: finished with status 'error'\n",
      "  Rolling back uninstall of scikit-learn\n",
      "  Moving to c:\\programdata\\anaconda3\\lib\\site-packages\\scikit_learn-1.0.2.dist-info\\\n",
      "   from C:\\ProgramData\\Anaconda3\\Lib\\site-packages\\~cikit_learn-1.0.2.dist-info\n",
      "  Moving to c:\\programdata\\anaconda3\\lib\\site-packages\\sklearn\\\n",
      "   from C:\\ProgramData\\Anaconda3\\Lib\\site-packages\\~klearn\n",
      "Note: you may need to restart the kernel to use updated packages.\n"
     ]
    },
    {
     "name": "stderr",
     "output_type": "stream",
     "text": [
      "  error: subprocess-exited-with-error\n",
      "  \n",
      "  python setup.py bdist_wheel did not run successfully.\n",
      "  exit code: 1\n",
      "  \n",
      "  [45 lines of output]\n",
      "  Partial import of sklearn during the build process.\n",
      "  C:\\Users\\ПАПА\\AppData\\Local\\Temp\\pip-install-_fmy89xp\\scikit-learn_82c56106aad14ad58a7e55276a5c11b2\\setup.py:122: DeprecationWarning:\n",
      "  \n",
      "    `numpy.distutils` is deprecated since NumPy 1.23.0, as a result\n",
      "    of the deprecation of `distutils` itself. It will be removed for\n",
      "    Python >= 3.12. For older Python versions it will remain present.\n",
      "    It is recommended to use `setuptools < 60.0` for those Python versions.\n",
      "    For more details, see:\n",
      "      https://numpy.org/devdocs/reference/distutils_status_migration.html\n",
      "  \n",
      "  \n",
      "    from numpy.distutils.command.build_ext import build_ext  # noqa\n",
      "  INFO: No module named 'numpy.distutils._msvccompiler' in numpy.distutils; trying from distutils\n",
      "  Traceback (most recent call last):\n",
      "    File \"<string>\", line 2, in <module>\n",
      "    File \"<pip-setuptools-caller>\", line 34, in <module>\n",
      "    File \"C:\\Users\\ПАПА\\AppData\\Local\\Temp\\pip-install-_fmy89xp\\scikit-learn_82c56106aad14ad58a7e55276a5c11b2\\setup.py\", line 290, in <module>\n",
      "      setup_package()\n",
      "    File \"C:\\Users\\ПАПА\\AppData\\Local\\Temp\\pip-install-_fmy89xp\\scikit-learn_82c56106aad14ad58a7e55276a5c11b2\\setup.py\", line 286, in setup_package\n",
      "      setup(**metadata)\n",
      "    File \"C:\\ProgramData\\Anaconda3\\lib\\site-packages\\numpy\\distutils\\core.py\", line 135, in setup\n",
      "      config = configuration()\n",
      "    File \"C:\\Users\\ПАПА\\AppData\\Local\\Temp\\pip-install-_fmy89xp\\scikit-learn_82c56106aad14ad58a7e55276a5c11b2\\setup.py\", line 174, in configuration\n",
      "      config.add_subpackage('sklearn')\n",
      "    File \"C:\\ProgramData\\Anaconda3\\lib\\site-packages\\numpy\\distutils\\misc_util.py\", line 1050, in add_subpackage\n",
      "      config_list = self.get_subpackage(subpackage_name, subpackage_path,\n",
      "    File \"C:\\ProgramData\\Anaconda3\\lib\\site-packages\\numpy\\distutils\\misc_util.py\", line 1016, in get_subpackage\n",
      "      config = self._get_configuration_from_setup_py(\n",
      "    File \"C:\\ProgramData\\Anaconda3\\lib\\site-packages\\numpy\\distutils\\misc_util.py\", line 958, in _get_configuration_from_setup_py\n",
      "      config = setup_module.configuration(*args)\n",
      "    File \"sklearn\\setup.py\", line 76, in configuration\n",
      "      maybe_cythonize_extensions(top_path, config)\n",
      "    File \"C:\\Users\\ПАПА\\AppData\\Local\\Temp\\pip-install-_fmy89xp\\scikit-learn_82c56106aad14ad58a7e55276a5c11b2\\sklearn\\_build_utils\\__init__.py\", line 42, in maybe_cythonize_extensions\n",
      "      with_openmp = check_openmp_support()\n",
      "    File \"C:\\Users\\ПАПА\\AppData\\Local\\Temp\\pip-install-_fmy89xp\\scikit-learn_82c56106aad14ad58a7e55276a5c11b2\\sklearn\\_build_utils\\openmp_helpers.py\", line 83, in check_openmp_support\n",
      "      ccompiler.compile(['test_openmp.c'], output_dir='objects',\n",
      "    File \"C:\\ProgramData\\Anaconda3\\lib\\site-packages\\setuptools\\_distutils\\_msvccompiler.py\", line 344, in compile\n",
      "      self.initialize()\n",
      "    File \"C:\\ProgramData\\Anaconda3\\lib\\site-packages\\setuptools\\_distutils\\_msvccompiler.py\", line 253, in initialize\n",
      "      vc_env = _get_vc_env(plat_spec)\n",
      "    File \"C:\\ProgramData\\Anaconda3\\lib\\site-packages\\setuptools\\msvc.py\", line 214, in msvc14_get_vc_env\n",
      "      return _msvc14_get_vc_env(plat_spec)\n",
      "    File \"C:\\ProgramData\\Anaconda3\\lib\\site-packages\\setuptools\\msvc.py\", line 168, in _msvc14_get_vc_env\n",
      "      raise distutils.errors.DistutilsPlatformError(\n",
      "  distutils.errors.DistutilsPlatformError: Microsoft Visual C++ 14.0 or greater is required. Get it with \"Microsoft C++ Build Tools\": https://visualstudio.microsoft.com/visual-cpp-build-tools/\n",
      "  [end of output]\n",
      "  \n",
      "  note: This error originates from a subprocess, and is likely not a problem with pip.\n",
      "  ERROR: Failed building wheel for scikit-learn\n",
      "  error: subprocess-exited-with-error\n",
      "  \n",
      "  Running setup.py install for scikit-learn did not run successfully.\n",
      "  exit code: 1\n",
      "  \n",
      "  [45 lines of output]\n",
      "  Partial import of sklearn during the build process.\n",
      "  C:\\Users\\ПАПА\\AppData\\Local\\Temp\\pip-install-_fmy89xp\\scikit-learn_82c56106aad14ad58a7e55276a5c11b2\\setup.py:122: DeprecationWarning:\n",
      "  \n",
      "    `numpy.distutils` is deprecated since NumPy 1.23.0, as a result\n",
      "    of the deprecation of `distutils` itself. It will be removed for\n",
      "    Python >= 3.12. For older Python versions it will remain present.\n",
      "    It is recommended to use `setuptools < 60.0` for those Python versions.\n",
      "    For more details, see:\n",
      "      https://numpy.org/devdocs/reference/distutils_status_migration.html\n",
      "  \n",
      "  \n",
      "    from numpy.distutils.command.build_ext import build_ext  # noqa\n",
      "  INFO: No module named 'numpy.distutils._msvccompiler' in numpy.distutils; trying from distutils\n",
      "  Traceback (most recent call last):\n",
      "    File \"<string>\", line 2, in <module>\n",
      "    File \"<pip-setuptools-caller>\", line 34, in <module>\n",
      "    File \"C:\\Users\\ПАПА\\AppData\\Local\\Temp\\pip-install-_fmy89xp\\scikit-learn_82c56106aad14ad58a7e55276a5c11b2\\setup.py\", line 290, in <module>\n",
      "      setup_package()\n",
      "    File \"C:\\Users\\ПАПА\\AppData\\Local\\Temp\\pip-install-_fmy89xp\\scikit-learn_82c56106aad14ad58a7e55276a5c11b2\\setup.py\", line 286, in setup_package\n",
      "      setup(**metadata)\n",
      "    File \"C:\\ProgramData\\Anaconda3\\lib\\site-packages\\numpy\\distutils\\core.py\", line 135, in setup\n",
      "      config = configuration()\n",
      "    File \"C:\\Users\\ПАПА\\AppData\\Local\\Temp\\pip-install-_fmy89xp\\scikit-learn_82c56106aad14ad58a7e55276a5c11b2\\setup.py\", line 174, in configuration\n",
      "      config.add_subpackage('sklearn')\n",
      "    File \"C:\\ProgramData\\Anaconda3\\lib\\site-packages\\numpy\\distutils\\misc_util.py\", line 1050, in add_subpackage\n",
      "      config_list = self.get_subpackage(subpackage_name, subpackage_path,\n",
      "    File \"C:\\ProgramData\\Anaconda3\\lib\\site-packages\\numpy\\distutils\\misc_util.py\", line 1016, in get_subpackage\n",
      "      config = self._get_configuration_from_setup_py(\n",
      "    File \"C:\\ProgramData\\Anaconda3\\lib\\site-packages\\numpy\\distutils\\misc_util.py\", line 958, in _get_configuration_from_setup_py\n",
      "      config = setup_module.configuration(*args)\n",
      "    File \"sklearn\\setup.py\", line 76, in configuration\n",
      "      maybe_cythonize_extensions(top_path, config)\n",
      "    File \"C:\\Users\\ПАПА\\AppData\\Local\\Temp\\pip-install-_fmy89xp\\scikit-learn_82c56106aad14ad58a7e55276a5c11b2\\sklearn\\_build_utils\\__init__.py\", line 42, in maybe_cythonize_extensions\n",
      "      with_openmp = check_openmp_support()\n",
      "    File \"C:\\Users\\ПАПА\\AppData\\Local\\Temp\\pip-install-_fmy89xp\\scikit-learn_82c56106aad14ad58a7e55276a5c11b2\\sklearn\\_build_utils\\openmp_helpers.py\", line 83, in check_openmp_support\n",
      "      ccompiler.compile(['test_openmp.c'], output_dir='objects',\n",
      "    File \"C:\\ProgramData\\Anaconda3\\lib\\site-packages\\setuptools\\_distutils\\_msvccompiler.py\", line 344, in compile\n",
      "      self.initialize()\n",
      "    File \"C:\\ProgramData\\Anaconda3\\lib\\site-packages\\setuptools\\_distutils\\_msvccompiler.py\", line 253, in initialize\n",
      "      vc_env = _get_vc_env(plat_spec)\n",
      "    File \"C:\\ProgramData\\Anaconda3\\lib\\site-packages\\setuptools\\msvc.py\", line 214, in msvc14_get_vc_env\n",
      "      return _msvc14_get_vc_env(plat_spec)\n",
      "    File \"C:\\ProgramData\\Anaconda3\\lib\\site-packages\\setuptools\\msvc.py\", line 168, in _msvc14_get_vc_env\n",
      "      raise distutils.errors.DistutilsPlatformError(\n",
      "  distutils.errors.DistutilsPlatformError: Microsoft Visual C++ 14.0 or greater is required. Get it with \"Microsoft C++ Build Tools\": https://visualstudio.microsoft.com/visual-cpp-build-tools/\n",
      "  [end of output]\n",
      "  \n",
      "  note: This error originates from a subprocess, and is likely not a problem with pip.\n",
      "error: legacy-install-failure\n",
      "\n",
      "Encountered error while trying to install package.\n",
      "\n",
      "scikit-learn\n",
      "\n",
      "note: This is an issue with the package mentioned above, not pip.\n",
      "hint: See above for output from the failure.\n"
     ]
    },
    {
     "name": "stdout",
     "output_type": "stream",
     "text": [
      "Requirement already satisfied: numpy in c:\\programdata\\anaconda3\\lib\\site-packages (1.23.5)\n",
      "Requirement already satisfied: scipy in c:\\programdata\\anaconda3\\lib\\site-packages (1.10.0)\n",
      "Requirement already satisfied: scikit-learn in c:\\programdata\\anaconda3\\lib\\site-packages (1.0.2)\n",
      "Requirement already satisfied: joblib>=0.11 in c:\\programdata\\anaconda3\\lib\\site-packages (from scikit-learn) (1.1.1)\n",
      "Requirement already satisfied: threadpoolctl>=2.0.0 in c:\\programdata\\anaconda3\\lib\\site-packages (from scikit-learn) (2.2.0)\n",
      "Note: you may need to restart the kernel to use updated packages.\n"
     ]
    }
   ],
   "source": [
    "%pip install transformers\n",
    "%pip install catboost\n",
    "%pip install seaborn\n",
    "%pip install pymystem3\n",
    "%pip install torch\n",
    "%pip install xgboost\n",
    "%pip install nltk\n",
    "%pip install ppb\n",
    "%pip install -U scikit-learn==0.21.3\n",
    "%pip install numpy scipy scikit-learn"
   ]
  },
  {
   "cell_type": "markdown",
   "metadata": {},
   "source": [
    "#### Загрузим необходимые нам библиотеки"
   ]
  },
  {
   "cell_type": "code",
   "execution_count": 4,
   "metadata": {},
   "outputs": [],
   "source": [
    "import pandas as pd\n",
    "import numpy as np\n",
    "from sklearn.metrics import f1_score\n",
    "import warnings\n",
    "warnings.filterwarnings('ignore')\n",
    "from sklearn.model_selection import train_test_split\n",
    "from sklearn.tree import DecisionTreeClassifier\n",
    "from sklearn.linear_model import LogisticRegression\n",
    "from catboost import CatBoostClassifier\n",
    "from sklearn.metrics import confusion_matrix\n",
    "from tqdm.notebook import tqdm\n",
    "import matplotlib.pyplot as plt\n",
    "import seaborn as sns\n",
    "from sklearn.model_selection import GridSearchCV\n",
    "# from sklearn.ensemble.forest import RandomForestClassifier\n",
    "from sklearn.metrics import make_scorer\n",
    "from sklearn.utils import shuffle\n",
    "import time\n",
    "from sklearn.feature_extraction.text import CountVectorizer \n",
    "import nltk\n",
    "from nltk.corpus import stopwords as nltk_stopwords\n",
    "from sklearn.feature_extraction.text import TfidfVectorizer \n",
    "from pymystem3 import Mystem\n",
    "import re \n",
    "from sklearn.metrics import classification_report\n",
    "from sklearn.metrics import precision_recall_curve\n",
    "from sklearn.metrics import precision_score, recall_score\n",
    "from sklearn.metrics import roc_curve \n",
    "from sklearn.metrics import roc_auc_score"
   ]
  },
  {
   "cell_type": "markdown",
   "metadata": {},
   "source": [
    "<img src=\"https://emojigraph.org/media/apple/check-mark-button_2705.png\" align=left width=33, heigth=33>\n",
    "<div class=\"alert alert-success\">\n",
    "Отлично, все нужные библиотеки импортированы в начале ноутбука.Это хорошая практика.</div>"
   ]
  },
  {
   "cell_type": "code",
   "execution_count": 5,
   "metadata": {},
   "outputs": [],
   "source": [
    "try: \n",
    "    df = pd.read_csv('/datasets/toxic_comments.csv')\n",
    "except:\n",
    "    df = pd.read_csv('/Users/ПАПА/Downloads/Яндекс Практикум/BERT/toxic_comments.csv')"
   ]
  },
  {
   "cell_type": "code",
   "execution_count": 6,
   "metadata": {},
   "outputs": [],
   "source": [
    "# df = df.sample(1500)"
   ]
  },
  {
   "cell_type": "code",
   "execution_count": 7,
   "metadata": {},
   "outputs": [
    {
     "name": "stdout",
     "output_type": "stream",
     "text": [
      "<class 'pandas.core.frame.DataFrame'>\n",
      "RangeIndex: 159292 entries, 0 to 159291\n",
      "Data columns (total 3 columns):\n",
      " #   Column      Non-Null Count   Dtype \n",
      "---  ------      --------------   ----- \n",
      " 0   Unnamed: 0  159292 non-null  int64 \n",
      " 1   text        159292 non-null  object\n",
      " 2   toxic       159292 non-null  int64 \n",
      "dtypes: int64(2), object(1)\n",
      "memory usage: 3.6+ MB\n"
     ]
    }
   ],
   "source": [
    "df.info()"
   ]
  },
  {
   "cell_type": "code",
   "execution_count": 9,
   "metadata": {},
   "outputs": [
    {
     "data": {
      "text/plain": "   Unnamed: 0                                               text  toxic\n0           0  Explanation\\nWhy the edits made under my usern...      0\n1           1  D'aww! He matches this background colour I'm s...      0\n2           2  Hey man, I'm really not trying to edit war. It...      0\n3           3  \"\\nMore\\nI can't make any real suggestions on ...      0\n4           4  You, sir, are my hero. Any chance you remember...      0",
      "text/html": "<div>\n<style scoped>\n    .dataframe tbody tr th:only-of-type {\n        vertical-align: middle;\n    }\n\n    .dataframe tbody tr th {\n        vertical-align: top;\n    }\n\n    .dataframe thead th {\n        text-align: right;\n    }\n</style>\n<table border=\"1\" class=\"dataframe\">\n  <thead>\n    <tr style=\"text-align: right;\">\n      <th></th>\n      <th>Unnamed: 0</th>\n      <th>text</th>\n      <th>toxic</th>\n    </tr>\n  </thead>\n  <tbody>\n    <tr>\n      <th>0</th>\n      <td>0</td>\n      <td>Explanation\\nWhy the edits made under my usern...</td>\n      <td>0</td>\n    </tr>\n    <tr>\n      <th>1</th>\n      <td>1</td>\n      <td>D'aww! He matches this background colour I'm s...</td>\n      <td>0</td>\n    </tr>\n    <tr>\n      <th>2</th>\n      <td>2</td>\n      <td>Hey man, I'm really not trying to edit war. It...</td>\n      <td>0</td>\n    </tr>\n    <tr>\n      <th>3</th>\n      <td>3</td>\n      <td>\"\\nMore\\nI can't make any real suggestions on ...</td>\n      <td>0</td>\n    </tr>\n    <tr>\n      <th>4</th>\n      <td>4</td>\n      <td>You, sir, are my hero. Any chance you remember...</td>\n      <td>0</td>\n    </tr>\n  </tbody>\n</table>\n</div>"
     },
     "execution_count": 9,
     "metadata": {},
     "output_type": "execute_result"
    }
   ],
   "source": [
    "df.head()"
   ]
  },
  {
   "cell_type": "code",
   "execution_count": 10,
   "metadata": {},
   "outputs": [],
   "source": [
    "df = df.drop('Unnamed: 0', axis=1)"
   ]
  },
  {
   "cell_type": "code",
   "execution_count": 11,
   "metadata": {},
   "outputs": [
    {
     "data": {
      "text/plain": "                                                text  toxic\n0  Explanation\\nWhy the edits made under my usern...      0\n1  D'aww! He matches this background colour I'm s...      0\n2  Hey man, I'm really not trying to edit war. It...      0\n3  \"\\nMore\\nI can't make any real suggestions on ...      0\n4  You, sir, are my hero. Any chance you remember...      0",
      "text/html": "<div>\n<style scoped>\n    .dataframe tbody tr th:only-of-type {\n        vertical-align: middle;\n    }\n\n    .dataframe tbody tr th {\n        vertical-align: top;\n    }\n\n    .dataframe thead th {\n        text-align: right;\n    }\n</style>\n<table border=\"1\" class=\"dataframe\">\n  <thead>\n    <tr style=\"text-align: right;\">\n      <th></th>\n      <th>text</th>\n      <th>toxic</th>\n    </tr>\n  </thead>\n  <tbody>\n    <tr>\n      <th>0</th>\n      <td>Explanation\\nWhy the edits made under my usern...</td>\n      <td>0</td>\n    </tr>\n    <tr>\n      <th>1</th>\n      <td>D'aww! He matches this background colour I'm s...</td>\n      <td>0</td>\n    </tr>\n    <tr>\n      <th>2</th>\n      <td>Hey man, I'm really not trying to edit war. It...</td>\n      <td>0</td>\n    </tr>\n    <tr>\n      <th>3</th>\n      <td>\"\\nMore\\nI can't make any real suggestions on ...</td>\n      <td>0</td>\n    </tr>\n    <tr>\n      <th>4</th>\n      <td>You, sir, are my hero. Any chance you remember...</td>\n      <td>0</td>\n    </tr>\n  </tbody>\n</table>\n</div>"
     },
     "execution_count": 11,
     "metadata": {},
     "output_type": "execute_result"
    }
   ],
   "source": [
    "df.head()"
   ]
  },
  {
   "cell_type": "code",
   "execution_count": 12,
   "metadata": {},
   "outputs": [
    {
     "data": {
      "text/plain": "(159292, 2)"
     },
     "execution_count": 12,
     "metadata": {},
     "output_type": "execute_result"
    }
   ],
   "source": [
    "df.shape"
   ]
  },
  {
   "cell_type": "code",
   "execution_count": 13,
   "metadata": {},
   "outputs": [],
   "source": [
    "################# Создадим корпус слов #################\n",
    "corpus = list(df['text'])\n",
    "# corpus"
   ]
  },
  {
   "cell_type": "code",
   "execution_count": 14,
   "metadata": {},
   "outputs": [
    {
     "name": "stderr",
     "output_type": "stream",
     "text": [
      "[nltk_data] Downloading package wordnet to\n",
      "[nltk_data]     C:\\Users\\ПАПА\\AppData\\Roaming\\nltk_data...\n",
      "[nltk_data]   Package wordnet is already up-to-date!\n"
     ]
    },
    {
     "data": {
      "text/plain": "True"
     },
     "execution_count": 14,
     "metadata": {},
     "output_type": "execute_result"
    }
   ],
   "source": [
    "################# Загрузим библиотеку для обработки датасета #################\n",
    "nltk.download('wordnet')"
   ]
  },
  {
   "cell_type": "code",
   "execution_count": 15,
   "metadata": {},
   "outputs": [
    {
     "name": "stderr",
     "output_type": "stream",
     "text": [
      "[nltk_data] Downloading package averaged_perceptron_tagger to\n",
      "[nltk_data]     C:\\Users\\ПАПА\\AppData\\Roaming\\nltk_data...\n",
      "[nltk_data]   Package averaged_perceptron_tagger is already up-to-\n",
      "[nltk_data]       date!\n"
     ]
    },
    {
     "data": {
      "text/plain": "True"
     },
     "execution_count": 15,
     "metadata": {},
     "output_type": "execute_result"
    }
   ],
   "source": [
    "nltk.download('averaged_perceptron_tagger')"
   ]
  },
  {
   "cell_type": "code",
   "execution_count": 16,
   "metadata": {},
   "outputs": [],
   "source": [
    "from nltk.stem import WordNetLemmatizer\n",
    "lemmatizer = WordNetLemmatizer()"
   ]
  },
  {
   "cell_type": "code",
   "execution_count": 17,
   "metadata": {},
   "outputs": [],
   "source": [
    "################# Оставим слова состоящие из букв #################\n",
    "\n",
    "def clear_text(text):\n",
    "    y=re.sub(r\"[^'a-zA-Z ]\", ' ', text) \n",
    "    k=\" \".join(y.split())\n",
    "    return k"
   ]
  },
  {
   "cell_type": "markdown",
   "metadata": {},
   "source": [
    "<img src=\"https://emojigraph.org/media/apple/check-mark-button_2705.png\" align=left width=33, heigth=33>\n",
    "<div class=\"alert alert-success\">\n",
    " Функция для чистки работает корректно </div>"
   ]
  },
  {
   "cell_type": "markdown",
   "metadata": {},
   "source": [
    "#### Создадим функцию которая будет использовать функцию по очистке слов и лемматизировать каждое слово"
   ]
  },
  {
   "cell_type": "code",
   "execution_count": 18,
   "metadata": {},
   "outputs": [],
   "source": [
    "from nltk.corpus import wordnet\n",
    "def get_wordnet_pos(word):\n",
    "    tag = nltk.pos_tag([word])[0][1][0].upper()\n",
    "    tag_dict = {\"J\": wordnet.ADJ,\n",
    "                \"N\": wordnet.NOUN,\n",
    "                \"V\": wordnet.VERB,\n",
    "                \"R\": wordnet.ADV}\n",
    "    return tag_dict.get(tag, wordnet.NOUN)"
   ]
  },
  {
   "cell_type": "code",
   "execution_count": 19,
   "metadata": {},
   "outputs": [
    {
     "name": "stdout",
     "output_type": "stream",
     "text": [
      "['Striped', 'grasshopper', 'be', 'best', 'kept', 'on', 'their', 'knee']\n"
     ]
    }
   ],
   "source": [
    "################# Проверим нашу функцию #################\n",
    "\n",
    "test = \"Striped grasshoppers are best kept on their knees\"\n",
    "print([lemmatizer.lemmatize(w, get_wordnet_pos(w)) for w in nltk.word_tokenize(test)])"
   ]
  },
  {
   "cell_type": "markdown",
   "metadata": {},
   "source": [
    "<img src=\"https://emojigraph.org/media/apple/check-mark-button_2705.png\" align=left width=33, heigth=33>\n",
    "<div class=\"alert alert-success\">\n",
    " 👍 Лемматизацию ты тоже научился делать.</div>"
   ]
  },
  {
   "cell_type": "code",
   "execution_count": null,
   "metadata": {
    "pycharm": {
     "is_executing": true
    }
   },
   "outputs": [
    {
     "data": {
      "text/plain": "  0%|          | 0/159292 [00:00<?, ?it/s]",
      "application/vnd.jupyter.widget-view+json": {
       "version_major": 2,
       "version_minor": 0,
       "model_id": "e49914957b6d419782871928923d172c"
      }
     },
     "metadata": {},
     "output_type": "display_data"
    }
   ],
   "source": [
    "%%time\n",
    "def lemmafunction(textc):\n",
    "    k=[]\n",
    "    for i in nltk.word_tokenize(textc):\n",
    "        y=lemmatizer.lemmatize(i, get_wordnet_pos(i))\n",
    "        k.append(y)\n",
    "    return ' '.join(k) \n",
    "\n",
    "lemy=[]\n",
    "for i in tqdm(range(len(corpus))):\n",
    "    \n",
    "    lemy.append(lemmafunction(clear_text(corpus[i])))"
   ]
  },
  {
   "cell_type": "code",
   "execution_count": 18,
   "metadata": {},
   "outputs": [],
   "source": [
    "df['lemm_text']=pd.Series(lemy, index=df.index)"
   ]
  },
  {
   "cell_type": "code",
   "execution_count": 19,
   "metadata": {},
   "outputs": [],
   "source": [
    "# df['text'][3]"
   ]
  },
  {
   "cell_type": "code",
   "execution_count": 20,
   "metadata": {},
   "outputs": [
    {
     "data": {
      "image/png": "[encoded data removed]",
      "text/plain": [
       "<Figure size 550x550 with 1 Axes>"
      ]
     },
     "metadata": {},
     "output_type": "display_data"
    }
   ],
   "source": [
    "################# Рассмотрим распределение классов ################\n",
    "sns.set_style('darkgrid')\n",
    "df['toxic'].value_counts(normalize=True).plot(kind='pie',figsize=[5.5,5.5], legend=False, autopct='%1.1f%%',labels=['Отзыв токсичный, класс [0]','Отзыв не токсичный, класс [1]'])\n",
    "plt.title('Баланс распределения')\n",
    "plt.xlabel('Класс')\n",
    "plt.ylabel('')\n",
    "plt.show()"
   ]
  },
  {
   "cell_type": "markdown",
   "metadata": {},
   "source": [
    "<img src=\"https://emojigraph.org/media/apple/check-mark-button_2705.png\" align=left width=33, heigth=33>\n",
    "<div class=\"alert alert-success\">\n",
    "Молодец, исследован баланс классов. Это важная информация для задачи классификации.</div>"
   ]
  },
  {
   "cell_type": "markdown",
   "metadata": {},
   "source": [
    "#### Распределим признаки и целевые значения"
   ]
  },
  {
   "cell_type": "code",
   "execution_count": 21,
   "metadata": {},
   "outputs": [],
   "source": [
    "x=df.drop('toxic',axis=1)\n",
    "y=df['toxic']"
   ]
  },
  {
   "cell_type": "markdown",
   "metadata": {},
   "source": [
    "#### Разделим датасет на тренировочную, тестовую и валидационную выборки"
   ]
  },
  {
   "cell_type": "code",
   "execution_count": 22,
   "metadata": {},
   "outputs": [
    {
     "name": "stdout",
     "output_type": "stream",
     "text": [
      "Размер тренировочной выборки- 80%\n",
      "Размер тестовой выборки - 20%\n"
     ]
    }
   ],
   "source": [
    "x_train, x_test, y_train, y_test= train_test_split(x, y, \n",
    "                                                    train_size=0.8)\n",
    "train_sample=x_train.shape[0]/x.shape[0]\n",
    "test_sample=x_test.shape[0]/x.shape[0]\n",
    "\n",
    "print('Размер тренировочной выборки- {:.0%}'.format(train_sample))\n",
    "print('Размер тестовой выборки - {:.0%}'.format(test_sample))"
   ]
  },
  {
   "cell_type": "markdown",
   "metadata": {},
   "source": [
    "#### Добавим валидационную выборку"
   ]
  },
  {
   "cell_type": "code",
   "execution_count": 23,
   "metadata": {},
   "outputs": [
    {
     "name": "stdout",
     "output_type": "stream",
     "text": [
      "Размер валидационной выборки - 10%\n"
     ]
    }
   ],
   "source": [
    "x_valid, x_test, y_valid, y_test = train_test_split(x_test,y_test, test_size=0.5)\n",
    "test_valid=x_valid.shape[0]/x.shape[0]\n",
    "print('Размер валидационной выборки - {:.0%}'.format(test_valid))"
   ]
  },
  {
   "cell_type": "code",
   "execution_count": 24,
   "metadata": {},
   "outputs": [
    {
     "name": "stdout",
     "output_type": "stream",
     "text": [
      "(150, 2)\n",
      "(150,)\n"
     ]
    }
   ],
   "source": [
    "print(x_valid.shape)\n",
    "print(y_valid.shape)"
   ]
  },
  {
   "cell_type": "code",
   "execution_count": 25,
   "metadata": {},
   "outputs": [
    {
     "data": {
      "text/plain": [
       "((150, 2), (150,))"
      ]
     },
     "execution_count": 25,
     "metadata": {},
     "output_type": "execute_result"
    }
   ],
   "source": [
    "x_test.shape, y_test.shape"
   ]
  },
  {
   "cell_type": "markdown",
   "metadata": {},
   "source": [
    "<img src=\"https://upload.wikimedia.org/wikipedia/commons/thumb/8/81/Stop_sign.png/240px-Stop_sign.png\" align=left width=35, heigth=35>\n",
    "<div class=\"alert alert-danger\">\n",
    "<b>v2</b>\n",
    "    \n",
    "    \n",
    "Так делать нельзя. Валидационная и тестовая выборки не должны пересекаться. А ты просто используешь одни и те же данные, просто назвав их по разному.\n",
    "\n",
    "\n",
    "Просто раздели все данные на три выборки обучение/валидацию/тест в пропорциях 80/10/10.\n",
    "\n",
    "    КОММЕНТАРИЙ v2: я разделил выборку трейн и тест 80/20 и тестовую поделил пополам, это ведь не будет считаться ошибкой?\n",
    "\n",
    "</div>"
   ]
  },
  {
   "cell_type": "markdown",
   "metadata": {},
   "source": [
    "<img src=\"https://emojigraph.org/media/apple/check-mark-button_2705.png\" align=left width=33, heigth=33>\n",
    "<div class=\"alert alert-success\">\n",
    "<b>v3</b> На этотраз все ОК </div>"
   ]
  },
  {
   "cell_type": "markdown",
   "metadata": {},
   "source": [
    "#### Напишем функцию для увеличения выборки 1 класса и усеньшения 0 класса"
   ]
  },
  {
   "cell_type": "code",
   "execution_count": 26,
   "metadata": {},
   "outputs": [],
   "source": [
    "# def down_up_sample(features, target, fraction, repeat):\n",
    "#     features_zeros = features[target == 0]\n",
    "#     features_ones = features[target == 1]\n",
    "#     target_zeros = target[target == 0]\n",
    "#     target_ones = target[target == 1]\n",
    "\n",
    "#     features_down_up = pd.concat([features_zeros.sample(frac=fraction, random_state=12345)] + [features_ones]*repeat)\n",
    "#     target_down_up = pd.concat([target_zeros.sample(frac=fraction, random_state=12345)] + [target_ones]*repeat)\n",
    "    \n",
    "#     features_down_up_sampled, target_down_up_sampled = shuffle(\n",
    "#         features_down_up, target_down_up, random_state=12345)\n",
    "    \n",
    "#     return features_down_up_sampled, target_down_up_sampled\n",
    "\n",
    "# features_upsampled, target_upsampled  = down_up_sample(X_train, y_train, 0.6, 5)"
   ]
  },
  {
   "cell_type": "markdown",
   "metadata": {},
   "source": [
    "<img src=\"https://emojigraph.org/media/apple/check-mark-button_2705.png\" align=left width=33, heigth=33>\n",
    "<div class=\"alert alert-success\">\n",
    "Молодец, что балансироваке подверг только обучающую выборку, но не изменил тестовую.\n",
    "    \n",
    "    КОММЕНТАРИЙ v2: Уберём апсэмплинг.        \n",
    "</div>"
   ]
  },
  {
   "cell_type": "markdown",
   "metadata": {},
   "source": [
    "<img src=\"https://emojigraph.org/media/apple/check-mark-button_2705.png\" align=left width=33, heigth=33>\n",
    "<div class=\"alert alert-success\">\n",
    "<b>v3</b> 👍 </div>"
   ]
  },
  {
   "cell_type": "markdown",
   "metadata": {},
   "source": [
    "#### Обработаем наши данные используя технологию TF-IDF"
   ]
  },
  {
   "cell_type": "code",
   "execution_count": 27,
   "metadata": {
    "scrolled": true
   },
   "outputs": [
    {
     "name": "stderr",
     "output_type": "stream",
     "text": [
      "[nltk_data] Downloading package stopwords to\n",
      "[nltk_data]     C:\\Users\\ПАПА\\AppData\\Roaming\\nltk_data...\n",
      "[nltk_data]   Package stopwords is already up-to-date!\n"
     ]
    }
   ],
   "source": [
    "nltk.download('stopwords') \n",
    "stop_words = set(nltk_stopwords.words('english'))"
   ]
  },
  {
   "cell_type": "markdown",
   "metadata": {},
   "source": [
    "<img src=\"https://upload.wikimedia.org/wikipedia/commons/thumb/8/81/Stop_sign.png/240px-Stop_sign.png\" align=left width=35, heigth=35>\n",
    "<div class=\"alert alert-danger\">\n",
    "<b>v3</b>    \n",
    "    \n",
    "К сожалению здесь возникли ошибки. Прошу перепроверить весь код, ниже я тоже вижу использование upsampled переменных.\n",
    "\n",
    "    КОММЕНТАРИЙ V3: ПОПРАВИЛ!\n",
    "    \n",
    "</div>"
   ]
  },
  {
   "cell_type": "markdown",
   "metadata": {},
   "source": [
    "<img src=\"https://emojigraph.org/media/apple/check-mark-button_2705.png\" align=left width=33, heigth=33>\n",
    "<div class=\"alert alert-success\">\n",
    "<b>v4</b> Исправлено </div>"
   ]
  },
  {
   "cell_type": "markdown",
   "metadata": {},
   "source": [
    "#### Применим модель TfidfVectorizer и обучим её на наших тренировочных данных"
   ]
  },
  {
   "cell_type": "code",
   "execution_count": 28,
   "metadata": {},
   "outputs": [
    {
     "data": {
      "text/plain": [
       "((1200,), (1200, 10051))"
      ]
     },
     "execution_count": 28,
     "metadata": {},
     "output_type": "execute_result"
    }
   ],
   "source": [
    "count_tf_idf = TfidfVectorizer(stop_words=stop_words,analyzer='word') \n",
    "\n",
    "corpus_lemm_train = x_train['text'].values\n",
    "\n",
    "tf_idf = count_tf_idf.fit_transform(corpus_lemm_train) \n",
    "corpus_lemm_train.shape, tf_idf.shape"
   ]
  },
  {
   "cell_type": "markdown",
   "metadata": {},
   "source": [
    "#### Создадим корпус слов для валидационной выборки и транформируем"
   ]
  },
  {
   "cell_type": "code",
   "execution_count": 29,
   "metadata": {},
   "outputs": [
    {
     "data": {
      "text/plain": [
       "((150,), (150, 10051))"
      ]
     },
     "execution_count": 29,
     "metadata": {},
     "output_type": "execute_result"
    }
   ],
   "source": [
    "corpus_lemm_valid = x_valid['text'].values\n",
    "\n",
    "tf_valid = count_tf_idf.transform(corpus_lemm_valid)\n",
    "corpus_lemm_valid.shape, tf_valid.shape"
   ]
  },
  {
   "cell_type": "markdown",
   "metadata": {},
   "source": [
    "#### Создадим корпус слов для тестовой выборки и транформируем"
   ]
  },
  {
   "cell_type": "code",
   "execution_count": 30,
   "metadata": {},
   "outputs": [
    {
     "data": {
      "text/plain": [
       "((150,), (150, 10051))"
      ]
     },
     "execution_count": 30,
     "metadata": {},
     "output_type": "execute_result"
    }
   ],
   "source": [
    "corpus_lemm_test = x_test['text'].values\n",
    "\n",
    "tf_test = count_tf_idf.transform(corpus_lemm_test)\n",
    "corpus_lemm_test.shape, tf_test.shape"
   ]
  },
  {
   "cell_type": "markdown",
   "metadata": {},
   "source": [
    "<img src=\"https://emojigraph.org/media/apple/check-mark-button_2705.png\" align=left width=33, heigth=33>\n",
    "<div class=\"alert alert-success\">\n",
    "👍 Молодец, получены признаки из текстов с помощью TF-IDF. И совершенно верно векторайзер вначале обучен на обучающем наборе и затем применен к валидационной</div>"
   ]
  },
  {
   "cell_type": "markdown",
   "metadata": {},
   "source": [
    "##### Вывод: после предобработки данных мы выяснили что имеем дело с сильным дисбалансом в сторону негативного класса. Применив метод upsampled - увеличение выборки с положительным классом и downsampled, т.к. при обучении может принять коонстантное значение и плохо предсказать положительное, т.к. в тестовой выборке также присутствует сильный дисбаланс."
   ]
  },
  {
   "cell_type": "markdown",
   "metadata": {},
   "source": [
    "# 2. Обучение"
   ]
  },
  {
   "cell_type": "markdown",
   "metadata": {},
   "source": [
    "#### Создадим функцию для вывода графика плотности распределения предсказанных и истенных значений"
   ]
  },
  {
   "cell_type": "code",
   "execution_count": 31,
   "metadata": {},
   "outputs": [],
   "source": [
    "def graph_analis(true, predict):\n",
    "    f1 = f1_score(y_valid, predict)\n",
    "    plt.figure(figsize=(10,6))\n",
    "    true.plot(kind='kde', linewidth=2)\n",
    "    pd.Series(predict).plot(kind='kde',linewidth=2)\n",
    "    plt.title('График распределения плотности предсказанных и истинных значений', y=1.01)\n",
    "    plt.legend(['Истинные значения','Предсказанные значения'])\n",
    "    plt.text(0.75,6,'F1= {:.2f}'.format(f1))\n",
    "    plt.xlabel('')\n",
    "    plt.ylabel('Плотность')\n",
    "    plt.show()\n",
    "    "
   ]
  },
  {
   "cell_type": "markdown",
   "metadata": {},
   "source": [
    "##### Создадим функцию для вывода матрицы предсказаний"
   ]
  },
  {
   "cell_type": "code",
   "execution_count": 32,
   "metadata": {},
   "outputs": [],
   "source": [
    "def highlight_min(data, color='red'):\n",
    "    attr = 'color: {}'.format(color)\n",
    "    if data.ndim == 1:\n",
    "        is_min = data == data.min()\n",
    "        return [attr if v else '' for v in is_min]\n",
    "    else:  \n",
    "        is_min = data == data.min().min()\n",
    "        return pd.DataFrame(np.where(is_min, attr, ''),\n",
    "                            index=data.index, columns=data.columns)"
   ]
  },
  {
   "cell_type": "code",
   "execution_count": 33,
   "metadata": {},
   "outputs": [],
   "source": [
    "def create_colors(x):\n",
    "    df1 = x.copy()\n",
    "    df1.loc[:,:] = 'background-color: '\n",
    "    df1.loc['Predicted Positive(1)', 'Actually Negative(0)'] = 'background-color: coral'\n",
    "    df1.loc['Predicted Negative(0)', 'Actually Positive(1)'] = 'background-color: coral' \n",
    "    df1.loc['Predicted Positive(1)', 'Actually Positive(1)'] = 'background-color: springgreen'\n",
    "    df1.loc['Predicted Negative(0)','Actually Negative(0)'] = 'background-color: springgreen'\n",
    "\n",
    "    return df1    "
   ]
  },
  {
   "cell_type": "code",
   "execution_count": 34,
   "metadata": {},
   "outputs": [],
   "source": [
    "def conf_marix(predict):\n",
    "    table=pd.DataFrame(index=['Predicted Positive(1)','Predicted Negative(0)',], columns=['Actually Positive(1)','Actually Negative(0)','Difference'])\n",
    "    matrix=confusion_matrix(y_test, predict)\n",
    "    table['Actually Positive(1)']['Predicted Positive(1)']= 'TP  {:.0f}'.format(matrix[0][0])\n",
    "    table['Actually Positive(1)']['Predicted Negative(0)']= 'FN   {:.0f}'.format(matrix[1][0])\n",
    "\n",
    "    table['Actually Negative(0)']['Predicted Positive(1)']= 'FP  {:.0f}'.format(matrix[0][1])\n",
    "    table['Actually Negative(0)']['Predicted Negative(0)']= 'TN  {:.0f}'.format(matrix[1][1])\n",
    "    \n",
    "    table['Difference'][0] = abs(matrix[0][0] - matrix[0][1])\n",
    "    table['Difference'][1] = abs(matrix[1][1]- matrix[1][0])\n",
    "    return table.style.apply(create_colors, axis=None).apply(highlight_min, subset=['Difference'])"
   ]
  },
  {
   "cell_type": "markdown",
   "metadata": {},
   "source": [
    "#### Обучим модель DecisionTreeClassifier на валидации"
   ]
  },
  {
   "cell_type": "code",
   "execution_count": 35,
   "metadata": {},
   "outputs": [
    {
     "data": {
      "application/vnd.jupyter.widget-view+json": {
       "model_id": "5b30e7452dcc43848682fa6852fd7bd0",
       "version_major": 2,
       "version_minor": 0
      },
      "text/plain": [
       "  0%|          | 0/8 [00:00<?, ?it/s]"
      ]
     },
     "metadata": {},
     "output_type": "display_data"
    },
    {
     "name": "stdout",
     "output_type": "stream",
     "text": [
      "F1 наилучшей модели равно: 0.56 C глубиной: 19\n"
     ]
    }
   ],
   "source": [
    "best_model_dt = None\n",
    "best_result_dt = 0\n",
    "best_depth_dt=0\n",
    "for depth in tqdm(range(1, 25, 3)):\n",
    "      \n",
    "    model_dt = DecisionTreeClassifier(random_state=12345, max_depth=depth,class_weight='balanced') \n",
    "    model_dt.fit(tf_idf,y_train) \n",
    "    predict_dt=model_dt.predict(tf_valid) \n",
    "    result_dt = f1_score(y_valid, predict_dt)\n",
    "    if result_dt > best_result_dt:\n",
    "        best_model_dt = model_dt\n",
    "        best_result_dt = result_dt \n",
    "          \n",
    "        best_depth_dt = depth\n",
    "print(\"F1 наилучшей модели равно:\", best_result_dt.round(2), end='')\n",
    "print(' C глубиной:',best_depth_dt)"
   ]
  },
  {
   "cell_type": "code",
   "execution_count": 36,
   "metadata": {},
   "outputs": [],
   "source": [
    "def graph_analis(true, predict):\n",
    "    f1 = f1_score(y_valid, predict)\n",
    "    plt.figure(figsize=(10,6))\n",
    "    true.plot(kind='kde', linewidth=2)\n",
    "    pd.Series(predict).plot(kind='kde',linewidth=2)\n",
    "    plt.title('График распределения плотности предсказанных и истинных значений', y=1.01)\n",
    "    plt.legend(['Истинные значения','Предсказанные значения'])\n",
    "    plt.text(0.75,6,'F1= {:.2f}'.format(f1))\n",
    "    plt.xlabel('')\n",
    "    plt.ylabel('Плотность')\n",
    "    plt.show()"
   ]
  },
  {
   "cell_type": "markdown",
   "metadata": {},
   "source": [
    "<img src=\"https://upload.wikimedia.org/wikipedia/commons/thumb/8/81/Stop_sign.png/240px-Stop_sign.png\" align=left width=35, heigth=35>\n",
    "<div class=\"alert alert-danger\">\n",
    "Не стоит раньше времени подглядывать в тестовую выборку. И тем более нельзя подбирать гиперпараметры по тестовой выборке. Нужно использовать кросс-валидацию или валидационную выборку. Но с крос-валидацией нужно быть очень осторожным, т.к.кросс-валидация + апсемплинг = утечка.\n",
    "\n",
    "\n",
    "    Комментарий студента: изменил на валидационную выборку\n",
    "\n",
    "\n",
    "</div>"
   ]
  },
  {
   "cell_type": "markdown",
   "metadata": {},
   "source": [
    "<img src=\"https://upload.wikimedia.org/wikipedia/commons/thumb/8/81/Stop_sign.png/240px-Stop_sign.png\" align=left width=35, heigth=35>\n",
    "<div class=\"alert alert-danger\">\n",
    "<b>v2</b>    \n",
    "    \n",
    "Изменение названия выборки ничего не меняет.\n",
    "\n",
    "Но даже название выборки в коде не изменено (((\n",
    "    \n",
    "        КОММЕНТАРИЙ: исправил\n",
    "</div>"
   ]
  },
  {
   "cell_type": "markdown",
   "metadata": {},
   "source": [
    "<img src=\"https://emojigraph.org/media/apple/check-mark-button_2705.png\" align=left width=33, heigth=33>\n",
    "<div class=\"alert alert-success\">\n",
    "<b>v4</b> Исправлено </div>"
   ]
  },
  {
   "cell_type": "markdown",
   "metadata": {},
   "source": [
    "##### Проверим подобранные значения гипрепапарметров модели DecisionTreeClassifier и посмотрим на отчёт метрик классификации"
   ]
  },
  {
   "cell_type": "code",
   "execution_count": 37,
   "metadata": {},
   "outputs": [
    {
     "name": "stdout",
     "output_type": "stream",
     "text": [
      "                    precision    recall  f1-score   support\n",
      "\n",
      "   Отзыв токсичный       0.94      0.99      0.96       134\n",
      "Отзыв не токсичный       0.78      0.44      0.56        16\n",
      "\n",
      "          accuracy                           0.93       150\n",
      "         macro avg       0.86      0.71      0.76       150\n",
      "      weighted avg       0.92      0.93      0.92       150\n",
      "\n",
      "Метрика F1 качества предсказания модели \"DecisionTreeClassifier\" равна : 0.56\n"
     ]
    }
   ],
   "source": [
    "target_names=['Отзыв токсичный','Отзыв не токсичный']\n",
    "\n",
    "model_dt= DecisionTreeClassifier(random_state=12345, max_depth=best_depth_dt)\n",
    "model_dt.fit(tf_idf,y_train)\n",
    "predicted_dt=model_dt.predict(tf_valid)\n",
    "\n",
    "f1_forest_1 = f1_score(y_valid, predicted_dt)\n",
    "print(classification_report(y_valid, predicted_dt, target_names=target_names))\n",
    "print('Метрика F1 качества предсказания модели \"DecisionTreeClassifier\" равна :',f1_forest_1.round(2))"
   ]
  },
  {
   "cell_type": "code",
   "execution_count": 38,
   "metadata": {},
   "outputs": [],
   "source": [
    "def graph_analis(true, predict):\n",
    "    f1 = f1_score(y_valid, predict)\n",
    "    plt.figure(figsize=(10,6))\n",
    "    true.plot(kind='kde', linewidth=2)\n",
    "    pd.Series(predict).plot(kind='kde',linewidth=2)\n",
    "    plt.title('График распределения плотности предсказанных и истинных значений', y=1.01)\n",
    "    plt.legend(['Истинные значения','Предсказанные значения'])\n",
    "    plt.text(0.75,6,'F1= {:.2f}'.format(f1))\n",
    "    plt.xlabel('')\n",
    "    plt.ylabel('Плотность')\n",
    "    plt.show()"
   ]
  },
  {
   "cell_type": "code",
   "execution_count": 39,
   "metadata": {},
   "outputs": [
    {
     "data": {
      "image/png": "[encoded data removed]",
      "text/plain": [
       "<Figure size 1000x600 with 1 Axes>"
      ]
     },
     "metadata": {},
     "output_type": "display_data"
    }
   ],
   "source": [
    "################# График распределения плотности предсказанных значений ################\n",
    "graph_analis(y_valid,predicted_dt)"
   ]
  },
  {
   "cell_type": "markdown",
   "metadata": {},
   "source": [
    "#### Обучим модель LogisticRegression и подберём параметры при помощи GridSearchCV"
   ]
  },
  {
   "cell_type": "code",
   "execution_count": 40,
   "metadata": {},
   "outputs": [
    {
     "name": "stdout",
     "output_type": "stream",
     "text": [
      "Requirement already satisfied: numpy in c:\\programdata\\anaconda3\\lib\\site-packages (1.21.5)\n",
      "Note: you may need to restart the kernel to use updated packages.\n"
     ]
    },
    {
     "data": {
      "text/plain": [
       "{'C': 4.45, 'max_iter': 8}"
      ]
     },
     "execution_count": 40,
     "metadata": {},
     "output_type": "execute_result"
    }
   ],
   "source": [
    "%pip install numpy\n",
    "\n",
    "clf_lr = LogisticRegression(random_state=12345, solver='sag',class_weight='balanced')\n",
    "parametrs_lr = { 'C': np.arange (4.45, 4.48, 0.01),            #  'C': range (1, 10)\n",
    "              'max_iter': range (6, 9, 1),                      #  'max_iter': range (10,15,2)\n",
    "              }\n",
    "grid_lr = GridSearchCV(clf_lr, parametrs_lr, cv=3, scoring='f1')\n",
    "grid_lr.fit(tf_idf, y_train)\n",
    "grid_lr.best_params_"
   ]
  },
  {
   "cell_type": "code",
   "execution_count": 41,
   "metadata": {},
   "outputs": [
    {
     "data": {
      "text/plain": [
       "((1200, 10051), (1200,))"
      ]
     },
     "execution_count": 41,
     "metadata": {},
     "output_type": "execute_result"
    }
   ],
   "source": [
    "tf_idf.shape, y_train.shape"
   ]
  },
  {
   "cell_type": "markdown",
   "metadata": {},
   "source": [
    "<img src=\"https://upload.wikimedia.org/wikipedia/commons/thumb/8/81/Stop_sign.png/240px-Stop_sign.png\" align=left width=35, heigth=35>\n",
    "<div class=\"alert alert-danger\">\n",
    "<b>v2</b>    \n",
    "    \n",
    "К сожалению ошибка никуда не делать. В основе поиска по сетке (GridSearchCV) лежат кросс-валидация. И выполняя кросс-валидацию по данным, подвергнутым апсемплингу ты совершаешь серьезную ошибку.\n",
    "    \n",
    "Выхода два - либо отказывайся от балансировки данных, либо отказывайся от поиска по сетке и подбирай гиперпараметры с помощью циклов и оценки по валидационной выборке.    \n",
    "    \n",
    "    КОММЕНТАРИЙ v2: от апсемплинга я избавился.\n",
    "</div>"
   ]
  },
  {
   "cell_type": "markdown",
   "metadata": {},
   "source": [
    "<img src=\"https://emojigraph.org/media/apple/check-mark-button_2705.png\" align=left width=33, heigth=33>\n",
    "<div class=\"alert alert-success\">\n",
    "<b>v4</b> Исправлено </div>"
   ]
  },
  {
   "cell_type": "markdown",
   "metadata": {},
   "source": [
    "<img src=\"https://upload.wikimedia.org/wikipedia/commons/b/ba/Warning_sign_4.0.png\" align=left width=44, heigth=33>\n",
    "<div class=\"alert alert-warning\">\n",
    "    \n",
    "<b>v2</b>  \n",
    "    \n",
    "Не стоит перебирать  количество итераций. Нужно понимать как обучается логистическая регрессия. Обучение логистической регрессии - это поиск  нескольких коэффициентов, описывающих гиперплоскость, лучше всего разделяющую классы. И ищутся эти коффициенты (параметры) путем решения оптимизационной задачи, решать которую нам помогают солверы (solvers) и делают они это итерационно, шажками - итерациями, на каждой итерции немного улучшая результат, пока не достигнут заданой точности. \n",
    " \n",
    "Задавая такие маленькие значения ты просто не даешь модели обучиться.\n",
    "    \n",
    " </div>"
   ]
  },
  {
   "cell_type": "markdown",
   "metadata": {},
   "source": [
    "<img src=\"https://upload.wikimedia.org/wikipedia/commons/thumb/8/81/Stop_sign.png/240px-Stop_sign.png\" align=left width=35, heigth=35>\n",
    "<div class=\"alert alert-danger\">\n",
    "Кросс-валидация в сочетании с апсемплингом приводят нас к утечке. Ведь при апесемплинге ты размножаешь количество записей, а при кросс-валидации они попадают в разные фолды. И на тестировании модель может встретить запись, на которой уже обучалась.\n",
    "\n",
    "\n",
    "Подробнее о том, как можно совмещать апсемплинг с кросс-валидацией можешь почитать в статье\n",
    "    \n",
    " https://datascience.xyz/practice/kak-delat-kross-validaciju-pri-apsemplinge-dannyh.html   \n",
    "     \n",
    "    Комментарий студента v2: Я исправил, но возможно ещё есть что исправлять, прошу вас меня поправить\n",
    "</div>"
   ]
  },
  {
   "cell_type": "markdown",
   "metadata": {},
   "source": [
    "<img src=\"https://upload.wikimedia.org/wikipedia/commons/b/ba/Warning_sign_4.0.png\" align=left width=44, heigth=33>\n",
    "<div class=\"alert alert-warning\">\n",
    "\n",
    " Я предполагаю, что ты можешь решить исправить функцию балансировки и убрать из неё апсемплинг. Останется только даунсмплинг и утечки не будет.\n",
    "    \n",
    "Да, это так,но останется еще одна проблема.  Валидационные фолды, на которых ты будеш оценивать модель тоже будут взяты из сбалансированной выборки. А метрика f1 на сбалансированной выборке гораздо выше, чем на несбалансированной. Как следствие мы имеем завышенные оценки.\n",
    "    \n",
    "    \n",
    "</div>"
   ]
  },
  {
   "cell_type": "markdown",
   "metadata": {},
   "source": [
    "<img src=\"https://upload.wikimedia.org/wikipedia/commons/b/ba/Warning_sign_4.0.png\" align=left width=44, heigth=33>\n",
    "<div class=\"alert alert-warning\">\n",
    "Поиск по сетке использует крос-валидацию.  А кросс-валидация одновремено с извлечением признаков из текстов требует особого подхода. Ты помнишь, что векторайзер мы обучали на обучающей выборке а применяли к тестовой и валидационной. Что происходит при кросс-валидации? Ты разбиваешь большую обучающую выборку на несколько фолдов, из них выделяешь часть на обучение, часть на валидацию.  Но признаки (TF-IDF) уже обучены на всем наборе (обучающий + валидационный). Получается утечка данных. Чтобы избежать её нужно использовать pipeline из векторайзера и модели.\n",
    "    \n",
    "Пример такого пайплайна можно посмотреть в официальной документации\n",
    "    \n",
    "  https://scikit-learn.org/stable/auto_examples/model_selection/plot_grid_search_text_feature_extraction.html\n",
    "    \n",
    "И еще полезные материалы:\n",
    "    \n",
    "  https://newtechaudit.ru/pipeline-v-rabote-s-dannymi/      \n",
    "</div>"
   ]
  },
  {
   "cell_type": "markdown",
   "metadata": {},
   "source": [
    "#### Проверим подобранные значения гипрепапарметров наилучшей модели LogisticRegression и посмотрим на отчёт метрик классификации"
   ]
  },
  {
   "cell_type": "code",
   "execution_count": 42,
   "metadata": {
    "scrolled": true
   },
   "outputs": [
    {
     "name": "stdout",
     "output_type": "stream",
     "text": [
      "                    precision    recall  f1-score   support\n",
      "\n",
      "   Отзыв токсичный       0.95      0.99      0.97       134\n",
      "Отзыв не токсичный       0.90      0.56      0.69        16\n",
      "\n",
      "          accuracy                           0.95       150\n",
      "         macro avg       0.93      0.78      0.83       150\n",
      "      weighted avg       0.94      0.95      0.94       150\n",
      "\n",
      "Метрика F1 качества предсказания модели \"LogisticRegression\" равна : 0.69\n"
     ]
    }
   ],
   "source": [
    "predicted_lr= grid_lr.predict(tf_valid)\n",
    "\n",
    "f1_log_r_1 = f1_score(y_valid, predicted_lr).round(2)\n",
    "print(classification_report(y_valid, predicted_lr, target_names=target_names))\n",
    "print('Метрика F1 качества предсказания модели \"LogisticRegression\" равна :',f1_log_r_1)"
   ]
  },
  {
   "cell_type": "code",
   "execution_count": 43,
   "metadata": {},
   "outputs": [
    {
     "data": {
      "image/png": "[encoded data removed]",
      "text/plain": [
       "<Figure size 1000x600 with 1 Axes>"
      ]
     },
     "metadata": {},
     "output_type": "display_data"
    }
   ],
   "source": [
    "################# График распределения плотности предсказанных значений ################\n",
    "graph_analis(y_valid,predicted_lr)"
   ]
  },
  {
   "cell_type": "code",
   "execution_count": 44,
   "metadata": {},
   "outputs": [
    {
     "data": {
      "application/vnd.jupyter.widget-view+json": {
       "model_id": "2363f0166b4b4f1cb268d030409df9e5",
       "version_major": 2,
       "version_minor": 0
      },
      "text/plain": [
       "  0%|          | 0/3 [00:00<?, ?it/s]"
      ]
     },
     "metadata": {},
     "output_type": "display_data"
    },
    {
     "name": "stdout",
     "output_type": "stream",
     "text": [
      "F1 наилучшей модели равно: 0.52 C глубиной: 9\n"
     ]
    }
   ],
   "source": [
    "################# RandomForestClassifier ################\n",
    "from sklearn.ensemble import RandomForestClassifier\n",
    "best_model_rf = None\n",
    "best_result_rf = 0\n",
    "best_depth_rf=0\n",
    "for est in tqdm(range(1, 12, 4)):\n",
    "      \n",
    "    model_rf = RandomForestClassifier(random_state=12345, n_estimators=est,class_weight='balanced_subsample') \n",
    "    model_rf.fit(tf_idf,y_train) \n",
    "    predict_rf=model_rf.predict(tf_valid) \n",
    "    result_rf = f1_score(y_valid, predict_rf)\n",
    "    if result_rf > best_result_rf:\n",
    "        best_model_rf = model_rf\n",
    "        best_result_rf = result_rf\n",
    "          \n",
    "        best_depth_rf = est\n",
    "print(\"F1 наилучшей модели равно:\", best_result_rf.round(2), end='')\n",
    "print(' C глубиной:',best_depth_rf)"
   ]
  },
  {
   "cell_type": "code",
   "execution_count": 45,
   "metadata": {},
   "outputs": [
    {
     "name": "stdout",
     "output_type": "stream",
     "text": [
      "                    precision    recall  f1-score   support\n",
      "\n",
      "   Отзыв токсичный       0.93      0.99      0.96       134\n",
      "Отзыв не токсичный       0.86      0.38      0.52        16\n",
      "\n",
      "          accuracy                           0.93       150\n",
      "         macro avg       0.89      0.68      0.74       150\n",
      "      weighted avg       0.92      0.93      0.91       150\n",
      "\n",
      "Метрика F1 качества предсказания модели \"RandomForestClassifier\" равна : 0.52\n"
     ]
    }
   ],
   "source": [
    "################# Проверим подобранные значения гипрепапарметров модели RandomForestClassifier и посмотрим на отчёт метрик классификации ################\n",
    "predict_rfc=model_rf.predict(tf_valid)\n",
    "f1_random_forest = f1_score(y_valid, predict_rfc)\n",
    "print(classification_report(y_valid, predict_rfc, target_names=target_names))\n",
    "print('Метрика F1 качества предсказания модели \"RandomForestClassifier\" равна :',f1_random_forest.round(2))"
   ]
  },
  {
   "cell_type": "code",
   "execution_count": 46,
   "metadata": {},
   "outputs": [
    {
     "data": {
      "image/png": "[encoded data removed]",
      "text/plain": [
       "<Figure size 1000x600 with 1 Axes>"
      ]
     },
     "metadata": {},
     "output_type": "display_data"
    }
   ],
   "source": [
    "################# График распределения плотности предсказанных значенийr #################\n",
    "graph_analis(y_valid,predict_rfc)"
   ]
  },
  {
   "cell_type": "code",
   "execution_count": 47,
   "metadata": {},
   "outputs": [
    {
     "name": "stdout",
     "output_type": "stream",
     "text": [
      "Вероятность положительного класса: [0.14835485 0.08370751 0.12235224]\n"
     ]
    }
   ],
   "source": [
    "################# Определим порог классификации для наилучшей модели LogisticRegression #################\n",
    "################# Определим вероятность возникновения положительного класса #################\n",
    "probabilities=grid_lr.predict_proba(tf_valid)\n",
    "probabilities_one = probabilities[:, 1]\n",
    "print(\"Вероятность положительного класса:\",probabilities_one[:3])"
   ]
  },
  {
   "cell_type": "code",
   "execution_count": 48,
   "metadata": {},
   "outputs": [
    {
     "name": "stdout",
     "output_type": "stream",
     "text": [
      "Порог = 0.40 | Точность = 0.833, Полнота = 0.625, F1 = 0.714\n",
      "Порог = 0.42 | Точность = 0.833, Полнота = 0.625, F1 = 0.714\n",
      "Порог = 0.44 | Точность = 0.833, Полнота = 0.625, F1 = 0.714\n",
      "Порог = 0.46 | Точность = 0.818, Полнота = 0.562, F1 = 0.667\n",
      "Порог = 0.48 | Точность = 0.900, Полнота = 0.562, F1 = 0.692\n",
      "Порог = 0.50 | Точность = 0.900, Полнота = 0.562, F1 = 0.692\n",
      "Порог = 0.52 | Точность = 1.000, Полнота = 0.562, F1 = 0.720\n",
      "Порог = 0.54 | Точность = 1.000, Полнота = 0.562, F1 = 0.720\n",
      "Порог = 0.56 | Точность = 1.000, Полнота = 0.562, F1 = 0.720\n",
      "Порог = 0.58 | Точность = 1.000, Полнота = 0.562, F1 = 0.720\n",
      "Порог = 0.60 | Точность = 1.000, Полнота = 0.562, F1 = 0.720\n",
      "Порог = 0.62 | Точность = 1.000, Полнота = 0.500, F1 = 0.667\n",
      "Порог = 0.64 | Точность = 1.000, Полнота = 0.500, F1 = 0.667\n",
      "Порог = 0.66 | Точность = 1.000, Полнота = 0.500, F1 = 0.667\n",
      "Порог = 0.68 | Точность = 1.000, Полнота = 0.500, F1 = 0.667\n",
      "Порог = 0.70 | Точность = 1.000, Полнота = 0.500, F1 = 0.667\n",
      "Порог = 0.72 | Точность = 1.000, Полнота = 0.500, F1 = 0.667\n",
      "Порог = 0.74 | Точность = 1.000, Полнота = 0.500, F1 = 0.667\n",
      "Порог = 0.76 | Точность = 1.000, Полнота = 0.438, F1 = 0.609\n",
      "Порог = 0.78 | Точность = 1.000, Полнота = 0.438, F1 = 0.609\n",
      "Порог = 0.80 | Точность = 1.000, Полнота = 0.375, F1 = 0.545\n",
      "Порог = 0.82 | Точность = 1.000, Полнота = 0.375, F1 = 0.545\n",
      "Порог = 0.84 | Точность = 1.000, Полнота = 0.375, F1 = 0.545\n",
      "Порог = 0.86 | Точность = 1.000, Полнота = 0.375, F1 = 0.545\n",
      "Порог = 0.88 | Точность = 1.000, Полнота = 0.312, F1 = 0.476\n"
     ]
    }
   ],
   "source": [
    "################# Переберём в цикле значения F1, точности, полноты и выберем порог классификации #################\n",
    "for threshold in np.arange(0.4, 0.9, 0.02):\n",
    "    predicted_v = probabilities_one > threshold\n",
    "    precision = precision_score(y_valid,predicted_v)\n",
    "    recall = recall_score(y_valid,predicted_v) \n",
    "    f1 = f1_score(y_valid,predicted_v)\n",
    "    print(\"Порог = {:.2f} | Точность = {:.3f}, Полнота = {:.3f}, F1 = {:.3f}\".format(\n",
    "        threshold, precision, recall, f1))"
   ]
  },
  {
   "cell_type": "markdown",
   "metadata": {},
   "source": [
    "<img src=\"https://upload.wikimedia.org/wikipedia/commons/thumb/8/81/Stop_sign.png/240px-Stop_sign.png\" align=left width=35, heigth=35>\n",
    "<div class=\"alert alert-danger\">\n",
    "<b>v2</b>    \n",
    "    \n",
    "К сожалению ты продолжаешь использовать тестовую выборку для подбора гиперпараметров (сейчас ты подбираешь порог).\n",
    "        \n",
    "    КОММЕНТАРИЙ: исправил!\n",
    "</div>"
   ]
  },
  {
   "cell_type": "markdown",
   "metadata": {},
   "source": [
    "<img src=\"https://emojigraph.org/media/apple/check-mark-button_2705.png\" align=left width=33, heigth=33>\n",
    "<div class=\"alert alert-success\">\n",
    "<b>v4</b> Исправлено </div>"
   ]
  },
  {
   "cell_type": "code",
   "execution_count": 49,
   "metadata": {},
   "outputs": [
    {
     "name": "stdout",
     "output_type": "stream",
     "text": [
      "                    precision    recall  f1-score   support\n",
      "\n",
      "   Отзыв токсичный       0.94      1.00      0.97       134\n",
      "Отзыв не токсичный       1.00      0.44      0.61        16\n",
      "\n",
      "          accuracy                           0.94       150\n",
      "         macro avg       0.97      0.72      0.79       150\n",
      "      weighted avg       0.94      0.94      0.93       150\n",
      "\n"
     ]
    }
   ],
   "source": [
    "################# Пороговое значение 0,76 выглидит наиболее оптимальным для нашей модели #################\n",
    "predicted_rf_threshold=(probabilities_one>0.76)*1\n",
    "print(classification_report(y_valid,predicted_rf_threshold, target_names=target_names))"
   ]
  },
  {
   "cell_type": "code",
   "execution_count": 50,
   "metadata": {},
   "outputs": [
    {
     "name": "stdout",
     "output_type": "stream",
     "text": [
      "Метрика F1 качества предсказания наилучшей модели с порогом классификации 0,76 равна :  0.61\n"
     ]
    }
   ],
   "source": [
    "################# Проверим выбранный порог для нашей модели #################\n",
    "################# Выполним предсказания с выбранным порогом #################\n",
    "predicted_test=(grid_lr.predict_proba(tf_valid)[:,1] > 0.76)*1\n",
    "f1_log_r_1 = f1_score(y_valid, predicted_test).round(2)\n",
    "print('Метрика F1 качества предсказания наилучшей модели с порогом классификации 0,76 равна : ',f1_log_r_1)"
   ]
  },
  {
   "cell_type": "code",
   "execution_count": 51,
   "metadata": {
    "scrolled": true
   },
   "outputs": [
    {
     "data": {
      "image/png": "[encoded data removed]",
      "text/plain": [
       "<Figure size 1000x600 with 1 Axes>"
      ]
     },
     "metadata": {},
     "output_type": "display_data"
    }
   ],
   "source": [
    "################# График распределения плотности предсказанных значений наилучшей модели #################\n",
    "graph_analis(y_valid,predicted_test)"
   ]
  },
  {
   "cell_type": "code",
   "execution_count": 52,
   "metadata": {},
   "outputs": [
    {
     "name": "stdout",
     "output_type": "stream",
     "text": [
      "ROC-AUC: 0.94\n"
     ]
    }
   ],
   "source": [
    "# Вычислим ROC-AUC для наилучшей модели\n",
    "fpr, tpr, thresholds = roc_curve(y_valid, probabilities_one)\n",
    "auc_roc = roc_auc_score(y_valid,probabilities_one)\n",
    "print('ROC-AUC: {:.2f}'.format(auc_roc))"
   ]
  },
  {
   "cell_type": "code",
   "execution_count": 53,
   "metadata": {},
   "outputs": [
    {
     "data": {
      "image/png": "[encoded data removed]",
      "text/plain": [
       "<Figure size 640x480 with 1 Axes>"
      ]
     },
     "metadata": {},
     "output_type": "display_data"
    }
   ],
   "source": [
    "# Построим график для наглядности распределения значений plt.figure(figsize=(7,7))\n",
    "plt.plot(fpr, tpr,linewidth=2)\n",
    "plt.plot([0, 1], [0, 1], linestyle='--',linewidth=2)\n",
    "plt.xlim([-0.01, 1.01])\n",
    "plt.ylim([-0.01, 1.01])\n",
    "plt.text(0.2,0.65,'ROC-AUC = {:.2f}'.format(auc_roc))\n",
    "plt.xlabel('False Positive Rate')\n",
    "plt.ylabel('True Positive Rate')\n",
    "plt.title('ROC-кривая')\n",
    "plt.show()"
   ]
  },
  {
   "cell_type": "markdown",
   "metadata": {},
   "source": [
    "# 3. Выводы"
   ]
  },
  {
   "cell_type": "markdown",
   "metadata": {},
   "source": [
    "#### Сведём интересующие нас данные в одну таблицу для наглядности"
   ]
  },
  {
   "cell_type": "code",
   "execution_count": 54,
   "metadata": {},
   "outputs": [
    {
     "data": {
      "text/html": [
       "<div>\n",
       "<style scoped>\n",
       "    .dataframe tbody tr th:only-of-type {\n",
       "        vertical-align: middle;\n",
       "    }\n",
       "\n",
       "    .dataframe tbody tr th {\n",
       "        vertical-align: top;\n",
       "    }\n",
       "\n",
       "    .dataframe thead th {\n",
       "        text-align: right;\n",
       "    }\n",
       "</style>\n",
       "<table border=\"1\" class=\"dataframe\">\n",
       "  <thead>\n",
       "    <tr style=\"text-align: right;\">\n",
       "      <th></th>\n",
       "      <th>F1-мера на валидационноц выборке</th>\n",
       "    </tr>\n",
       "  </thead>\n",
       "  <tbody>\n",
       "    <tr>\n",
       "      <th>Дерево решений</th>\n",
       "      <td>0.56</td>\n",
       "    </tr>\n",
       "    <tr>\n",
       "      <th>Cлучайный лес</th>\n",
       "      <td>0.52</td>\n",
       "    </tr>\n",
       "    <tr>\n",
       "      <th>Логистическая регрессия</th>\n",
       "      <td>0.61</td>\n",
       "    </tr>\n",
       "  </tbody>\n",
       "</table>\n",
       "</div>"
      ],
      "text/plain": [
       "                         F1-мера на валидационноц выборке\n",
       "Дерево решений                                       0.56\n",
       "Cлучайный лес                                        0.52\n",
       "Логистическая регрессия                              0.61"
      ]
     },
     "execution_count": 54,
     "metadata": {},
     "output_type": "execute_result"
    }
   ],
   "source": [
    "comparison_tabl = pd.DataFrame(index=['F1-мера на валидационноц выборке'], columns=['Дерево решений','Cлучайный лес','Логистическая регрессия'])\n",
    "comparison_tabl['Дерево решений'] = best_result_dt.round(2)\n",
    "comparison_tabl['Cлучайный лес'] = f1_random_forest.round(2)\n",
    "comparison_tabl['Логистическая регрессия'] = f1_log_r_1\n",
    "comparison_tabl.T"
   ]
  },
  {
   "cell_type": "markdown",
   "metadata": {},
   "source": [
    "Модель LogisticRegression показала наилучший результат при обучении набрав пороговое значение метрики  и мы улучшили это значение метрики до 0,79 подобрав оптимальнй порог в 0,62."
   ]
  },
  {
   "cell_type": "markdown",
   "metadata": {},
   "source": [
    "Общий Вывод\n",
    "\n",
    "Мы нашли и обучили модель для магазина \"ВИКИШОП\", которая способна классифицировать комментарии на позитивные и негативные для того, чтобы в дальнейшем токсичные отзывы отправлялись на модерацию. При этом достигуть результата предсказания наилучшей модели по мерке  не меньше \n",
    "\n",
    "В нашем распоряжении был набор данных с разметкой о токсичности правок, но для правильной работы предсказательных алгоритмов моделей нам пришлось очистить комментарии от лишних символов и пр.мусора, а так же прибегнуть к балансировке выборок методами upsample и downsamle, т.к. сильный дисбаланс в классах мог негативно повлиять на качество предсказания моделей.\n",
    "\n",
    "Для определения наилучшей модели мы остановили наш выбор на трёх моделях DecisionTreeClassifier,LogisticRegression и RandomForestClassifier. По итогам сравнеиня победила модель LogisticRegression и после побора порогового значения, набрала значение метрики \n",
    "\n",
    "Таким образом мы справились с поставленной задачей и для магазина \"ВИКИШОП\" можем смело рекомендовать к использованию в своей работе нашу модель!"
   ]
  },
  {
   "cell_type": "markdown",
   "metadata": {},
   "source": [
    "<img src=\"https://upload.wikimedia.org/wikipedia/commons/thumb/8/81/Stop_sign.png/240px-Stop_sign.png\" align=left width=35, heigth=35>\n",
    "<div class=\"alert alert-danger\">\n",
    "<b>v2</b>    \n",
    "    \n",
    "Ты выбрал лучшую модель на валидационной выборке. Теперь нужно провести её тестирование. \n",
    "    \n",
    "Пожалуйста, возьми на тестирование модель, которую ты уже обучил и выбрал как лучшую.    \n",
    "    \n",
    "</div>"
   ]
  },
  {
   "cell_type": "code",
   "execution_count": 55,
   "metadata": {},
   "outputs": [
    {
     "data": {
      "text/plain": [
       "((1200, 10051), (1200,), (150, 10051), (150,), (150, 10051), (150,))"
      ]
     },
     "execution_count": 55,
     "metadata": {},
     "output_type": "execute_result"
    }
   ],
   "source": [
    "tf_idf.shape, y_train.shape, tf_valid.shape, y_valid.shape, tf_test.shape, y_test.shape, "
   ]
  },
  {
   "cell_type": "code",
   "execution_count": 56,
   "metadata": {},
   "outputs": [
    {
     "name": "stdout",
     "output_type": "stream",
     "text": [
      "                    precision    recall  f1-score   support\n",
      "\n",
      "   Отзыв токсичный       0.93      0.99      0.96       137\n",
      "Отзыв не токсичный       0.60      0.23      0.33        13\n",
      "\n",
      "          accuracy                           0.92       150\n",
      "         macro avg       0.77      0.61      0.65       150\n",
      "      weighted avg       0.90      0.92      0.90       150\n",
      "\n",
      "Метрика F1 качества предсказания модели \"LogisticRegression\" равна : 0.33\n"
     ]
    }
   ],
   "source": [
    "### TEST ###\n",
    "predicted_lr= grid_lr.predict(tf_test)\n",
    "\n",
    "f1_log_r_1 = f1_score(y_test, predicted_lr).round(2)\n",
    "print(classification_report(y_test, predicted_lr, target_names=target_names))\n",
    "print('Метрика F1 качества предсказания модели \"LogisticRegression\" равна :',f1_log_r_1)"
   ]
  },
  {
   "cell_type": "markdown",
   "metadata": {},
   "source": [
    "<img src=\"http://s3.amazonaws.com/pix.iemoji.com/images/emoji/apple/ios-12/256/waving-hand.png\" align=left width=44, heigth=44>\n",
    "<div class=\"alert alert-info\">\n",
    "<b> Комментарий ревьюера v4</b>\n",
    "\n",
    "Прошу тебя провести тестирование лучшей модели.\n",
    "\n",
    "Что нужно сделать:\n",
    "    \n",
    " - взять тестовые даные (сейчас они у тебя в формате датафрейма)\n",
    " - векторизовать, по аналогии с валидационной выборкой\n",
    " - получить предсказание по аналогии с тем, как ты получал предсказание для валидационной выборки\n",
    "    \n",
    "    \n",
    "Если я буду видеть конкретный кусок кода, который у тебя не работает, я смогу помочь конкретнее. Но писать код за тебя я не могу.    \n",
    "\n",
    "</div>"
   ]
  },
  {
   "cell_type": "markdown",
   "metadata": {},
   "source": [
    "<img src=\"https://upload.wikimedia.org/wikipedia/commons/thumb/8/81/Stop_sign.png/240px-Stop_sign.png\" align=left width=35, heigth=35>\n",
    "<div class=\"alert alert-danger\">\n",
    "    \n",
    "<b>v5</b>    \n",
    "\n",
    "Нельзя обучать модель или подбирать гиперпараметры на тествой выборке. Пожалуйста, разберись для чего мы используем каждую выборку, это материал самого первого спринта по машиному обучению.\n",
    "</div>"
   ]
  },
  {
   "cell_type": "markdown",
   "metadata": {},
   "source": [
    "<img src=\"https://emojigraph.org/media/apple/check-mark-button_2705.png\" align=left width=33, heigth=33>\n",
    "<div class=\"alert alert-success\"> \n",
    "<b>минутка теории</b>\n",
    "    \n",
    "<b>общий дизайн ML исследования</b>\n",
    "\n",
    "В курсе мы используем следующую схему оценки качества алгоритмов:\n",
    "\n",
    "1. Все данные делятся на 3 части: \n",
    "   - обучение,\n",
    "   - валидация,\n",
    "   - тест.\n",
    "\n",
    "2. Каждый из алгоритмов будет обучен на обучающей выборке. \n",
    "3. Подбор гиперпараметров мы осуществляем с помощью оценки на валидационной выборке.\n",
    "4. Когда гиперпараметры подобраны, качество каждого алгоритма мы оцениваем с помощью валидационной выборки.\n",
    "    \n",
    "5. Выбираем лучший по оценке на валидационной выборке.\n",
    "6. И уже самый лучший алгоритм оцениваем по тестовой выборке.\n",
    "\n",
    "\n",
    "Есть более системный вариант этой схемы, с использованием кросс-валидации. В этом случае  схема немного адаптируется. \n",
    "\n",
    "Все данные делятся на 2 части, первая будет использоваться для обучения и подбора гиперпараметров, и оценки алгоритмов с помощью кросс-валидации, вторая будет использоваться для финального тестирования.\n",
    "    \n",
    "    \n",
    "Я советую до начала обучения моделей  решить для себя, какую стратегию стоит использовать в проекте (с кросс-валидацией или с выделением отдельной валидационной выборки).    \n",
    "\n",
    "\n",
    "<b>Дополнительные материалы:</b>    \n",
    "    \n",
    "    \n",
    "<a href=\"https://academy.yandex.ru/handbook/ml/article/kross-validaciya\">Онлайн-учебник по машинному обучению от ШАД</a>        \n",
    "        \n",
    "    \n",
    "<a href=\"https://github.com/minhdai2410/machine-learning-data-analysis-yandex-mipt-coursera/blob/master/2%20Supervised%20Learning/Lectures/2-1.Problema_pereobucheniya_i_bor_ba_s_nej.pdf\">Конспект специализации Машинное обучение и анализ данных</a>, внимание двум последним страницам.\n",
    "</div>"
   ]
  },
  {
   "cell_type": "markdown",
   "metadata": {},
   "source": []
  },
  {
   "cell_type": "markdown",
   "metadata": {},
   "source": [
    "<img src=\"https://upload.wikimedia.org/wikipedia/commons/thumb/8/81/Stop_sign.png/240px-Stop_sign.png\" align=left width=35, heigth=35>\n",
    "<div class=\"alert alert-danger\">\n",
    "<b>v2</b>    \n",
    "    \n",
    "Что-то пошло не так и данная ячейка выдала ошибку.\n",
    "    \n",
    "Прошу исправить.\n",
    "\n",
    "#####        КОММЕНТАРИЙ v4:  код я поправил, работает без ошибок, НО осталась большая загвостка с правильным примением логистической регрессии к тестовой выборке. Я подозреваю на то, что изначально я тестовую выборку поделил ещё на валидациооную, из-за этого у меня дата сеты не сходятся. Поэтому я не могу обучить на тестовой выборке. Помогите пожалуйста.\n",
    "</div>"
   ]
  },
  {
   "cell_type": "markdown",
   "metadata": {},
   "source": [
    "## Чек-лист проверки"
   ]
  },
  {
   "cell_type": "markdown",
   "metadata": {},
   "source": [
    "- [x]  Jupyter Notebook открыт\n",
    "- [x]  Весь код выполняется без ошибок\n",
    "- [x]  Ячейки с кодом расположены в порядке исполнения\n",
    "- [x]  Данные загружены и подготовлены\n",
    "- [x]  Модели обучены\n",
    "- [x]  Значение метрики *F1* не меньше 0.75\n",
    "- [x]  Выводы написаны"
   ]
  },
  {
   "cell_type": "markdown",
   "metadata": {},
   "source": [
    "<img src=\"http://s3.amazonaws.com/pix.iemoji.com/images/emoji/apple/ios-12/256/waving-hand.png\" align=left width=44, heigth=44>\n",
    "<div class=\"alert alert-info\">\n",
    "<b> Заключительный комментарий</b>\n",
    "Давай подведем итоги. В целом с проектом ты справляешься - ты научился чистить и лемматизировать текст, извлечены признаки и обучены классификаторы. Достигнуто требуемое значение метрики f1.\n",
    "    \n",
    "Но есть моменты, которые нужно доработать:\n",
    "    \n",
    " - Во первых нужно почистить и лемматизировать наши текстовые данные\n",
    " - Размер тестовой выборки стоит взять 10%\n",
    " - Не нужно менять кодировку на Юникод\n",
    " - Нельзя подглядывать в тестовую выборку ни для подбора гиперпараметров, ни для выбора лучшей модели ни для подбора порога.\n",
    "    \n",
    " - Кросс-валидация + апсемплинг ведут к утечкам. Этого нужно избегать\n",
    " - После того, как ты исследуешь все модели и выберешь лучшую (на валидационной выборке или кросс-валидации) нужно будет описать свое решение в выводах и провести тестирование лучшей модели.\n",
    "    \n",
    "Ты продалал очень большую и интересную работу. Но мне кажется у тебя есть проблема с базой, пониманием как можно и как нельзя \"жонглировать\" выборками, использовать разные методы, включая кросс-валидацию.\n",
    "    \n",
    "Ниже я оставлю тебе немного шпаргалок, в которых постарался изоложить то, что я считаю важным.    \n",
    "\n",
    "     \n",
    "Жду твоих исправлений :)\n",
    "</div>"
   ]
  },
  {
   "cell_type": "markdown",
   "metadata": {},
   "source": [
    "# ИСПРАВИЛ V4:\n",
    "\n",
    "1. Почистил и лемматизировал данные\n",
    "2. Размер тиестовой выборки исправил на 10%\n",
    "3. Чтобы не было искажений данных, выделил валидационную выборку и на ней провёл обучение\n",
    "4. Кодирову Юникод убрал\n",
    "5. Тестовую выборку использовал для подбора порога и гиперпараметров\n",
    "6. Применил лучшую модель на тестовой выборке, которую предварительно векторизовал"
   ]
  },
  {
   "cell_type": "markdown",
   "metadata": {},
   "source": [
    "<img src=\"http://s3.amazonaws.com/pix.iemoji.com/images/emoji/apple/ios-12/256/waving-hand.png\" align=left width=44, heigth=44>\n",
    "<div class=\"alert alert-info\">\n",
    "<b> Заключительный комментарий v2</b>\n",
    "\n",
    "К сожалению пока проект не может быть принят. Что нужно доработать:\n",
    "    \n",
    "    \n",
    " - Нельзя использовать одинаковые валидационую и тестовую выборки\n",
    " - Ты по прежнему продолжаешь использовать в коде тестовую выборку (исправлено не до конца)\n",
    " - Пожалуйста, убери использование тестовой выборки на этапе исследования моделей. Например при подборе порога.   \n",
    " - Ты продолжаешь применять поиск по сетке с выборкой, подвергнутой апсемплингу\n",
    " - После того, как ты выберешь лучшую модель по оценкам на валидационной выборке нужно провести её тестирование.\n",
    " - Пожалуйста исправь ошибки выполнения кода.   \n",
    "    \n",
    "Жду твоих исправлений :)\n",
    "</div>"
   ]
  },
  {
   "cell_type": "markdown",
   "metadata": {},
   "source": [
    "<img src=\"http://s3.amazonaws.com/pix.iemoji.com/images/emoji/apple/ios-12/256/waving-hand.png\" align=left width=44, heigth=44>\n",
    "<div class=\"alert alert-info\">\n",
    "<b> Заключительный комментарий v3</b>\n",
    "\n",
    "Артур, прошу тебя поправить проект, чтобы все ячейки исполнялись без ошибок.\n",
    "\n",
    "    \n",
    "</div>"
   ]
  },
  {
   "cell_type": "markdown",
   "metadata": {},
   "source": [
    "<img src=\"http://s3.amazonaws.com/pix.iemoji.com/images/emoji/apple/ios-12/256/waving-hand.png\" align=left width=44, heigth=44>\n",
    "<div class=\"alert alert-info\">\n",
    "<b> Заключительный комментарий v5</b>\n",
    "\n",
    "Нельзя подбирать гиперпармерты и обучать модель на тестовой выборке.\n",
    "    \n",
    "</div>"
   ]
  },
  {
   "cell_type": "markdown",
   "metadata": {},
   "source": [
    "<img src=\"https://emojigraph.org/media/apple/check-mark-button_2705.png\" align=left width=33, heigth=33>\n",
    "<div class=\"alert alert-success\"> \n",
    "<b>минутка теории</b>\n",
    "    \n",
    "<b>общий дизайн ML исследования</b>\n",
    "\n",
    "В курсе мы используем следующую схему оценки качества алгоритмов:\n",
    "\n",
    "1. Все данные делятся на 3 части: \n",
    "   - обучение,\n",
    "   - валидация,\n",
    "   - тест.\n",
    "\n",
    "2. Каждый из алгоритмов будет обучен на обучающей выборке. \n",
    "3. Подбор гиперпараметров мы осуществляем с помощью оценки на валидационной выборке.\n",
    "4. Когда гиперпараметры подобраны, качество каждого алгоритма мы оцениваем с помощью валидационной выборки.\n",
    "    \n",
    "5. Выбираем лучший по оценке на валидационной выборке.\n",
    "6. И уже самый лучший алгоритм оцениваем по тестовой выборке.\n",
    "\n",
    "\n",
    "Есть более системный вариант этой схемы, с использованием кросс-валидации. В этом случае  схема немного адаптируется. \n",
    "\n",
    "Все данные делятся на 2 части, первая будет использоваться для обучения и подбора гиперпараметров, и оценки алгоритмов с помощью кросс-валидации, вторая будет использоваться для финального тестирования.\n",
    "    \n",
    "    \n",
    "Я советую до начала обучения моделей  решить для себя, какую стратегию стоит использовать в проекте (с кросс-валидацией или с выделением отдельной валидационной выборки).    \n",
    "\n",
    "\n",
    "<b>Дополнительные материалы:</b>    \n",
    "    \n",
    "    \n",
    "<a href=\"https://academy.yandex.ru/handbook/ml/article/kross-validaciya\">Онлайн-учебник по машинному обучению от ШАД</a>        \n",
    "        \n",
    "    \n",
    "<a href=\"https://github.com/minhdai2410/machine-learning-data-analysis-yandex-mipt-coursera/blob/master/2%20Supervised%20Learning/Lectures/2-1.Problema_pereobucheniya_i_bor_ba_s_nej.pdf\">Конспект специализации Машинное обучение и анализ данных</a>, внимание двум последним страницам.\n",
    "</div>"
   ]
  },
  {
   "cell_type": "markdown",
   "metadata": {},
   "source": [
    "<img src=\"https://emojigraph.org/media/apple/check-mark-button_2705.png\" align=left width=33, heigth=33>\n",
    "<div class=\"alert alert-success\"> \n",
    "<b>минутка теории</b>\n",
    "    \n",
    "<b>Что такое кросс-валидация</b>:\n",
    "\n",
    "Это более системный подход, альтернатива стандартной валидационной выборке.  При кросс-валидации выборка делится на k блоков примерно одинакового размера.  Далее по очереди каждый из этих блоков используется для оценки модели (в качестве валидационной выборки), остальные используются в качестве обучающей выборки. \n",
    "\n",
    "После того, как каждый из блоков будет использован в качестве валидационного, мы получим k оценок качества модели. Усредняя эти оценки мы получаем оценку модели по кросс-валидации.\n",
    "\n",
    "\n",
    "\n",
    "    \n",
    "<a href=\"https://academy.yandex.ru/handbook/ml/article/kross-validaciya\">Онлайн-учебник по машинному обучению от ШАД</a>        \n",
    "    \n",
    "\n",
    "<a href=\"https://github.com/minhdai2410/machine-learning-data-analysis-yandex-mipt-coursera/blob/master/2%20Supervised%20Learning/Lectures/2-1.Problema_pereobucheniya_i_bor_ba_s_nej.pdf\">Конспект специализации Машинное обучение и анализ данных</a> , кросс-валидация подбробно разобрана на последних двух страницах.   \n",
    " \n",
    "    \n",
    "\n",
    "    \n",
    "    \n",
    "</div>"
   ]
  },
  {
   "cell_type": "markdown",
   "metadata": {},
   "source": [
    "<img src=\"https://emojigraph.org/media/apple/check-mark-button_2705.png\" align=left width=33, heigth=33>\n",
    "<div class=\"alert alert-success\"> \n",
    "<b>минутка теории</b>\n",
    "    \n",
    "<b>Как узнать оценку по кросс-валидации при использовании поиска по сетке?</b>\n",
    " Оценка хранится в атрибуте best_score_\n",
    "\n",
    "\tfrom sklearn.model_selection import GridSearchCV\n",
    "    gsearch = GridSearchCV(estimator=model, \n",
    "                           cv=5, \n",
    "\t\t\t\t           param_grid=param_search,  \n",
    "\t\t\t               scoring=scorer)\n",
    "\tgsearch.fit(X, y)\t\n",
    "\tprint(f’ качество модели по кросс-валидации равно {gsearch.best_score_}’)\n",
    "    \n",
    "<a href=\"https://scikit-learn.org/stable/modules/generated/sklearn.model_selection.GridSearchCV.html\">Документация</a>    \n",
    "\n",
    "\n",
    "<b>Как узнать оценку по кросс-валидации если гиперпараметры не подбирались?</b>\n",
    "Просто применяем кросс-валидацию\n",
    "\n",
    "\tfrom sklearn.model_selection import cross_val_score\n",
    "\n",
    "    scores_list = cross_val_score(estimator=model, \n",
    "                                  X=features_train, \n",
    "                                  y=target_train, \n",
    "                                  cv=5,  \n",
    "                                  scoring=scorer)\n",
    "    \n",
    "    val_score = scores_list.mean()\n",
    "    \n",
    "\n",
    "    \n",
    "<a href=\"https://scikit-learn.org/stable/modules/generated/sklearn.model_selection.cross_val_score.html\">Документация</a>    \n",
    "\n",
    "\n",
    "\n",
    "\n",
    "</div>"
   ]
  },
  {
   "cell_type": "markdown",
   "metadata": {},
   "source": [
    "<img src=\"https://emojigraph.org/media/apple/check-mark-button_2705.png\" align=left width=33, heigth=33>\n",
    "<div class=\"alert alert-success\"> \n",
    "<b>минутка теории</b>\n",
    "    \n",
    "<b>Используем GridSearchCV правильно</b>\n",
    "\n",
    "При создании объекта GridSearchCV важно определить следующие составляющие:\n",
    "  \n",
    "  - estimator - модель, для которой будем подбирать гиперпарметры\n",
    "  - param_grid  - (пространство параметров)\n",
    "  - cv - схема кросс-валидации\n",
    "  - scoring скорер (функция для оценки, оптимизируемая метрика)  \n",
    "    \n",
    "    \n",
    "\n",
    "    from sklearn.model_selection import GridSearchCV\n",
    "    gsearch = GridSearchCV(estimator=model, \n",
    "                           cv=5, \n",
    "\t\t\t\t           param_grid=param_search,  \n",
    "\t\t\t               scoring=scorer)\n",
    "    \n",
    "    \n",
    "Важно определить все составляющие, т.к. если мы что-то упустим, то они будут заменены на значения по умолчанию:\n",
    "  \n",
    "  - cv = 5 (стандартная кросс-валидация по 5 фолдам)\n",
    "  - scoring = 'accuracy' для задачи классификации и 'r2' для регрессии. \n",
    "     \n",
    "    \n",
    "Часто можно использовать стандартный скорер из библиотеки sklearn (<a href=\"https://scikit-learn.org/stable/modules/model_evaluation.html#scoring-parameter\">ссылка</a>), или создать собственный с помощью функции <a href=\"https://scikit-learn.org/stable/modules/generated/sklearn.metrics.make_scorer.html\">make_scorer</a>   \n",
    "    \n",
    "Как узнать, какие гиперпараметры можно подбирать? \n",
    "    \n",
    "    model.get_params().keys()\n",
    "    \n",
    "  \n",
    "    \n",
    "    \n",
    "    \n",
    "Следующим шагом мы обучаем полученный объект на обучающей выборке:\n",
    "    \n",
    "\n",
    "    gsearch.fit(X, y)\t\n",
    "\n",
    "Теперь, когда объект GridSearchCV обучен, нужно посмотреть, какую информацию мы можем извлечь из него.\n",
    "    \n",
    "Лучшая модель хранится в атрибуте best_estimator_\n",
    "    \n",
    "    gsearch.best_estimator_\n",
    "    \n",
    "Оценка лучшей модели, полученная с помощью кросс-валидации хранится в атрибуте best_score_\n",
    "    \n",
    "    gsearch.best_score_\n",
    "    \n",
    "Параметры лучшей модели хранятся в атрубите best_params_\n",
    "    \n",
    "    gsearch.best_params_\n",
    "    \n",
    "\n",
    "    \n",
    "Таким образом, один раз обучив объект GridSearchCV мы сразу получаем и лучшую модель и лучшие гиперпараметры и оценку модели полученную с помощью кросс-валидации. И нет  необходимости в дополнительном обучении модели и определении метрик по выделенной валидационной выборке.      \n",
    "    \n",
    "    \n",
    "<a href=\"https://scikit-learn.org/stable/modules/grid_search.html\">Документация</a>    \n",
    "\n",
    "\n",
    "\n",
    "\n",
    "</div>"
   ]
  }
 ],
 "metadata": {
  "ExecuteTimeLog": [
   {
    "duration": 47,
    "start_time": "2023-02-06T19:24:47.862Z"
   },
   {
    "duration": 9,
    "start_time": "2023-02-06T19:24:48.515Z"
   },
   {
    "duration": 49,
    "start_time": "2023-02-07T06:32:03.820Z"
   },
   {
    "duration": 9,
    "start_time": "2023-02-07T06:32:10.478Z"
   },
   {
    "duration": 1802,
    "start_time": "2023-02-07T06:32:13.521Z"
   },
   {
    "duration": 3412,
    "start_time": "2023-02-07T06:32:15.325Z"
   },
   {
    "duration": 32,
    "start_time": "2023-02-07T06:32:19.673Z"
   },
   {
    "duration": 11,
    "start_time": "2023-02-07T06:32:21.578Z"
   },
   {
    "duration": 10,
    "start_time": "2023-02-07T06:32:23.033Z"
   },
   {
    "duration": 8,
    "start_time": "2023-02-07T06:32:23.568Z"
   },
   {
    "duration": 4,
    "start_time": "2023-02-07T06:32:25.332Z"
   },
   {
    "duration": 129,
    "start_time": "2023-02-07T06:32:27.801Z"
   },
   {
    "duration": 42,
    "start_time": "2023-02-07T06:32:34.315Z"
   },
   {
    "duration": 84,
    "start_time": "2023-02-07T06:32:41.457Z"
   },
   {
    "duration": 39,
    "start_time": "2023-02-07T06:32:53.583Z"
   },
   {
    "duration": 42,
    "start_time": "2023-02-07T06:32:58.013Z"
   },
   {
    "duration": 41,
    "start_time": "2023-02-07T06:33:08.562Z"
   },
   {
    "duration": 41,
    "start_time": "2023-02-07T06:33:12.122Z"
   },
   {
    "duration": 60,
    "start_time": "2023-02-07T06:33:16.128Z"
   },
   {
    "duration": 203,
    "start_time": "2023-02-07T06:33:37.892Z"
   },
   {
    "duration": 286,
    "start_time": "2023-02-07T06:33:39.462Z"
   },
   {
    "duration": 3,
    "start_time": "2023-02-07T06:33:43.006Z"
   },
   {
    "duration": 3,
    "start_time": "2023-02-07T06:33:49.808Z"
   },
   {
    "duration": 4,
    "start_time": "2023-02-07T06:34:03.478Z"
   },
   {
    "duration": 1339,
    "start_time": "2023-02-07T06:34:04.481Z"
   },
   {
    "duration": 1257021,
    "start_time": "2023-02-07T06:34:19.763Z"
   },
   {
    "duration": 47,
    "start_time": "2023-02-07T06:55:22.629Z"
   },
   {
    "duration": 4,
    "start_time": "2023-02-07T06:55:25.865Z"
   },
   {
    "duration": 139,
    "start_time": "2023-02-07T06:55:30.350Z"
   },
   {
    "duration": 43,
    "start_time": "2023-02-07T07:05:31.313Z"
   },
   {
    "duration": 19,
    "start_time": "2023-02-07T07:06:38.665Z"
   },
   {
    "duration": 12,
    "start_time": "2023-02-07T07:06:41.502Z"
   },
   {
    "duration": 11,
    "start_time": "2023-02-07T07:06:50.314Z"
   },
   {
    "duration": 13,
    "start_time": "2023-02-07T07:07:10.029Z"
   },
   {
    "duration": 10,
    "start_time": "2023-02-07T07:07:17.471Z"
   },
   {
    "duration": 5,
    "start_time": "2023-02-07T07:07:22.852Z"
   },
   {
    "duration": 78,
    "start_time": "2023-02-07T07:07:51.365Z"
   },
   {
    "duration": 10,
    "start_time": "2023-02-07T07:14:12.593Z"
   },
   {
    "duration": 11,
    "start_time": "2023-02-07T07:15:18.496Z"
   },
   {
    "duration": 10,
    "start_time": "2023-02-07T07:18:04.320Z"
   },
   {
    "duration": 19,
    "start_time": "2023-02-07T07:18:26.994Z"
   },
   {
    "duration": 84,
    "start_time": "2023-02-07T07:18:28.416Z"
   },
   {
    "duration": 11,
    "start_time": "2023-02-07T07:18:30.682Z"
   },
   {
    "duration": 9,
    "start_time": "2023-02-07T07:24:56.067Z"
   },
   {
    "duration": 5,
    "start_time": "2023-02-07T07:25:13.089Z"
   },
   {
    "duration": 15,
    "start_time": "2023-02-07T07:26:09.859Z"
   },
   {
    "duration": 3,
    "start_time": "2023-02-07T07:26:21.206Z"
   },
   {
    "duration": 5,
    "start_time": "2023-02-07T07:26:54.345Z"
   },
   {
    "duration": 4,
    "start_time": "2023-02-07T07:26:54.770Z"
   },
   {
    "duration": 15,
    "start_time": "2023-02-07T07:27:53.658Z"
   },
   {
    "duration": 3,
    "start_time": "2023-02-07T07:28:16.928Z"
   },
   {
    "duration": 105,
    "start_time": "2023-02-07T07:28:44.307Z"
   },
   {
    "duration": 84,
    "start_time": "2023-02-07T07:29:05.632Z"
   },
   {
    "duration": 8,
    "start_time": "2023-02-07T07:29:34.131Z"
   },
   {
    "duration": 6712,
    "start_time": "2023-02-07T07:48:30.829Z"
   },
   {
    "duration": 5,
    "start_time": "2023-02-07T07:49:13.364Z"
   },
   {
    "duration": 742,
    "start_time": "2023-02-07T07:50:42.816Z"
   },
   {
    "duration": 5,
    "start_time": "2023-02-07T07:51:37.025Z"
   },
   {
    "duration": 4,
    "start_time": "2023-02-07T07:51:48.044Z"
   },
   {
    "duration": 3,
    "start_time": "2023-02-07T07:51:52.372Z"
   },
   {
    "duration": 5,
    "start_time": "2023-02-07T07:51:52.715Z"
   },
   {
    "duration": 682,
    "start_time": "2023-02-07T07:52:33.652Z"
   },
   {
    "duration": 72480,
    "start_time": "2023-02-07T07:53:13.825Z"
   },
   {
    "duration": 8,
    "start_time": "2023-02-07T07:55:49.188Z"
   },
   {
    "duration": 20097,
    "start_time": "2023-02-07T07:57:54.904Z"
   },
   {
    "duration": 19598,
    "start_time": "2023-02-07T07:58:26.390Z"
   },
   {
    "duration": 5,
    "start_time": "2023-02-07T07:59:16.330Z"
   },
   {
    "duration": 60,
    "start_time": "2023-02-07T08:01:00.900Z"
   },
   {
    "duration": 967,
    "start_time": "2023-02-07T08:01:36.952Z"
   },
   {
    "duration": 1032,
    "start_time": "2023-02-07T08:01:52.890Z"
   },
   {
    "duration": 99829,
    "start_time": "2023-02-07T08:02:08.549Z"
   },
   {
    "duration": 14,
    "start_time": "2023-02-07T08:04:34.830Z"
   },
   {
    "duration": 32,
    "start_time": "2023-02-07T08:04:53.690Z"
   },
   {
    "duration": 33,
    "start_time": "2023-02-07T08:05:24.785Z"
   },
   {
    "duration": 23,
    "start_time": "2023-02-07T08:05:36.189Z"
   },
   {
    "duration": 979,
    "start_time": "2023-02-07T08:05:48.084Z"
   },
   {
    "duration": 29754,
    "start_time": "2023-02-07T08:06:29.929Z"
   },
   {
    "duration": 583623,
    "start_time": "2023-02-07T08:16:47.799Z"
   },
   {
    "duration": 220,
    "start_time": "2023-02-07T08:26:31.649Z"
   },
   {
    "duration": 220,
    "start_time": "2023-02-07T08:38:56.398Z"
   },
   {
    "duration": 22,
    "start_time": "2023-02-07T08:39:04.172Z"
   },
   {
    "duration": 1004,
    "start_time": "2023-02-07T08:39:18.211Z"
   },
   {
    "duration": 7,
    "start_time": "2023-02-07T08:39:48.353Z"
   },
   {
    "duration": 24,
    "start_time": "2023-02-07T08:40:06.927Z"
   },
   {
    "duration": 12,
    "start_time": "2023-02-07T08:40:31.431Z"
   },
   {
    "duration": 21,
    "start_time": "2023-02-07T08:40:39.518Z"
   },
   {
    "duration": 13,
    "start_time": "2023-02-07T08:40:59.277Z"
   },
   {
    "duration": 166,
    "start_time": "2023-02-07T08:41:13.701Z"
   },
   {
    "duration": 12,
    "start_time": "2023-02-07T08:41:22.987Z"
   },
   {
    "duration": 13,
    "start_time": "2023-02-07T08:41:46.732Z"
   },
   {
    "duration": 106,
    "start_time": "2023-02-07T08:49:13.972Z"
   },
   {
    "duration": 3,
    "start_time": "2023-02-09T15:47:45.737Z"
   },
   {
    "duration": 2205,
    "start_time": "2023-02-09T15:47:45.742Z"
   },
   {
    "duration": 2370,
    "start_time": "2023-02-09T15:47:47.948Z"
   },
   {
    "duration": 29,
    "start_time": "2023-02-09T15:47:50.320Z"
   },
   {
    "duration": 11,
    "start_time": "2023-02-09T15:47:50.351Z"
   },
   {
    "duration": 9,
    "start_time": "2023-02-09T15:47:50.364Z"
   },
   {
    "duration": 9,
    "start_time": "2023-02-09T15:47:50.374Z"
   },
   {
    "duration": 11,
    "start_time": "2023-02-09T15:47:50.385Z"
   },
   {
    "duration": 30,
    "start_time": "2023-02-09T15:47:50.398Z"
   },
   {
    "duration": 165,
    "start_time": "2023-02-09T15:47:50.429Z"
   },
   {
    "duration": 325,
    "start_time": "2023-02-09T15:47:50.597Z"
   },
   {
    "duration": 2,
    "start_time": "2023-02-09T15:47:50.924Z"
   },
   {
    "duration": 14,
    "start_time": "2023-02-09T15:47:50.928Z"
   },
   {
    "duration": 23,
    "start_time": "2023-02-09T15:47:50.944Z"
   },
   {
    "duration": 1216,
    "start_time": "2023-02-09T15:47:50.968Z"
   },
   {
    "duration": 1087181,
    "start_time": "2023-02-09T15:47:52.186Z"
   },
   {
    "duration": 41,
    "start_time": "2023-02-09T16:05:59.369Z"
   },
   {
    "duration": 4,
    "start_time": "2023-02-09T16:05:59.412Z"
   },
   {
    "duration": 131,
    "start_time": "2023-02-09T16:05:59.418Z"
   },
   {
    "duration": 30,
    "start_time": "2023-02-09T16:05:59.551Z"
   },
   {
    "duration": 39,
    "start_time": "2023-02-09T16:05:59.583Z"
   },
   {
    "duration": 12,
    "start_time": "2023-02-09T16:05:59.644Z"
   },
   {
    "duration": 17,
    "start_time": "2023-02-09T16:05:59.657Z"
   },
   {
    "duration": 32,
    "start_time": "2023-02-09T16:05:59.675Z"
   },
   {
    "duration": 13,
    "start_time": "2023-02-09T16:05:59.708Z"
   },
   {
    "duration": 134,
    "start_time": "2023-02-09T16:05:59.723Z"
   },
   {
    "duration": 0,
    "start_time": "2023-02-09T16:05:59.860Z"
   },
   {
    "duration": 0,
    "start_time": "2023-02-09T16:05:59.861Z"
   },
   {
    "duration": 0,
    "start_time": "2023-02-09T16:05:59.862Z"
   },
   {
    "duration": 0,
    "start_time": "2023-02-09T16:05:59.863Z"
   },
   {
    "duration": 0,
    "start_time": "2023-02-09T16:05:59.865Z"
   },
   {
    "duration": 0,
    "start_time": "2023-02-09T16:05:59.866Z"
   },
   {
    "duration": 0,
    "start_time": "2023-02-09T16:05:59.867Z"
   },
   {
    "duration": 0,
    "start_time": "2023-02-09T16:05:59.869Z"
   },
   {
    "duration": 0,
    "start_time": "2023-02-09T16:05:59.870Z"
   },
   {
    "duration": 0,
    "start_time": "2023-02-09T16:05:59.871Z"
   },
   {
    "duration": 0,
    "start_time": "2023-02-09T16:05:59.873Z"
   },
   {
    "duration": 0,
    "start_time": "2023-02-09T16:05:59.874Z"
   },
   {
    "duration": 0,
    "start_time": "2023-02-09T16:05:59.875Z"
   },
   {
    "duration": 0,
    "start_time": "2023-02-09T16:05:59.876Z"
   },
   {
    "duration": 0,
    "start_time": "2023-02-09T16:05:59.877Z"
   },
   {
    "duration": 0,
    "start_time": "2023-02-09T16:05:59.878Z"
   },
   {
    "duration": 0,
    "start_time": "2023-02-09T16:05:59.879Z"
   },
   {
    "duration": 0,
    "start_time": "2023-02-09T16:05:59.879Z"
   },
   {
    "duration": 0,
    "start_time": "2023-02-09T16:05:59.880Z"
   },
   {
    "duration": 0,
    "start_time": "2023-02-09T16:05:59.881Z"
   },
   {
    "duration": 0,
    "start_time": "2023-02-09T16:05:59.882Z"
   },
   {
    "duration": 0,
    "start_time": "2023-02-09T16:05:59.882Z"
   },
   {
    "duration": 0,
    "start_time": "2023-02-09T16:05:59.884Z"
   },
   {
    "duration": 0,
    "start_time": "2023-02-09T16:05:59.885Z"
   },
   {
    "duration": 0,
    "start_time": "2023-02-09T16:05:59.886Z"
   },
   {
    "duration": 0,
    "start_time": "2023-02-09T16:05:59.887Z"
   },
   {
    "duration": 0,
    "start_time": "2023-02-09T16:05:59.888Z"
   },
   {
    "duration": 0,
    "start_time": "2023-02-09T16:05:59.889Z"
   },
   {
    "duration": 1984,
    "start_time": "2023-02-09T18:01:12.773Z"
   },
   {
    "duration": 3405,
    "start_time": "2023-02-09T18:01:22.774Z"
   },
   {
    "duration": 34,
    "start_time": "2023-02-09T18:01:27.890Z"
   },
   {
    "duration": 11,
    "start_time": "2023-02-09T18:01:29.298Z"
   },
   {
    "duration": 12,
    "start_time": "2023-02-09T18:01:29.590Z"
   },
   {
    "duration": 7,
    "start_time": "2023-02-09T18:01:29.910Z"
   },
   {
    "duration": 4,
    "start_time": "2023-02-09T18:01:30.141Z"
   },
   {
    "duration": 37,
    "start_time": "2023-02-09T18:01:30.402Z"
   },
   {
    "duration": 236,
    "start_time": "2023-02-09T18:01:30.639Z"
   },
   {
    "duration": 618,
    "start_time": "2023-02-09T18:01:30.881Z"
   },
   {
    "duration": 3,
    "start_time": "2023-02-09T18:01:31.501Z"
   },
   {
    "duration": 3,
    "start_time": "2023-02-09T18:01:32.229Z"
   },
   {
    "duration": 4,
    "start_time": "2023-02-09T18:01:33.775Z"
   },
   {
    "duration": 1364,
    "start_time": "2023-02-09T18:01:34.082Z"
   },
   {
    "duration": 130,
    "start_time": "2023-02-09T18:01:38.822Z"
   },
   {
    "duration": 31746,
    "start_time": "2023-02-09T18:01:45.028Z"
   },
   {
    "duration": 12,
    "start_time": "2023-02-09T18:02:19.774Z"
   },
   {
    "duration": 3,
    "start_time": "2023-02-09T18:04:13.908Z"
   },
   {
    "duration": 1717,
    "start_time": "2023-02-09T18:04:16.486Z"
   },
   {
    "duration": 732,
    "start_time": "2023-02-09T18:04:19.628Z"
   },
   {
    "duration": 30,
    "start_time": "2023-02-09T18:04:20.362Z"
   },
   {
    "duration": 19,
    "start_time": "2023-02-09T18:04:20.394Z"
   },
   {
    "duration": 10,
    "start_time": "2023-02-09T18:04:20.415Z"
   },
   {
    "duration": 6,
    "start_time": "2023-02-09T18:04:20.619Z"
   },
   {
    "duration": 4,
    "start_time": "2023-02-09T18:04:20.890Z"
   },
   {
    "duration": 29,
    "start_time": "2023-02-09T18:04:21.139Z"
   },
   {
    "duration": 172,
    "start_time": "2023-02-09T18:04:21.511Z"
   },
   {
    "duration": 12,
    "start_time": "2023-02-09T18:04:22.498Z"
   },
   {
    "duration": 3,
    "start_time": "2023-02-09T18:04:22.902Z"
   },
   {
    "duration": 4,
    "start_time": "2023-02-09T18:04:24.244Z"
   },
   {
    "duration": 4,
    "start_time": "2023-02-09T18:04:25.474Z"
   },
   {
    "duration": 1335,
    "start_time": "2023-02-09T18:04:25.974Z"
   },
   {
    "duration": 1148252,
    "start_time": "2023-02-09T18:04:27.311Z"
   },
   {
    "duration": 47,
    "start_time": "2023-02-09T18:26:40.089Z"
   },
   {
    "duration": 69,
    "start_time": "2023-02-09T18:26:48.740Z"
   },
   {
    "duration": 92,
    "start_time": "2023-02-09T18:26:59.043Z"
   },
   {
    "duration": 5,
    "start_time": "2023-02-09T18:28:07.930Z"
   },
   {
    "duration": 132,
    "start_time": "2023-02-09T18:28:09.726Z"
   },
   {
    "duration": 34,
    "start_time": "2023-02-09T18:28:12.955Z"
   },
   {
    "duration": 49,
    "start_time": "2023-02-09T18:28:14.052Z"
   },
   {
    "duration": 15,
    "start_time": "2023-02-09T18:28:17.628Z"
   },
   {
    "duration": 4,
    "start_time": "2023-02-09T18:28:19.132Z"
   },
   {
    "duration": 2,
    "start_time": "2023-02-09T18:28:28.538Z"
   },
   {
    "duration": 6,
    "start_time": "2023-02-09T18:28:56.037Z"
   },
   {
    "duration": 5993,
    "start_time": "2023-02-09T18:29:41.394Z"
   },
   {
    "duration": 5960,
    "start_time": "2023-02-09T18:29:51.902Z"
   },
   {
    "duration": 4,
    "start_time": "2023-02-09T18:29:57.865Z"
   },
   {
    "duration": 750,
    "start_time": "2023-02-09T18:30:16.719Z"
   },
   {
    "duration": 6,
    "start_time": "2023-02-09T18:30:25.513Z"
   },
   {
    "duration": 4,
    "start_time": "2023-02-09T18:30:27.826Z"
   },
   {
    "duration": 3,
    "start_time": "2023-02-09T18:30:28.413Z"
   },
   {
    "duration": 5,
    "start_time": "2023-02-09T18:30:29.656Z"
   },
   {
    "duration": 162,
    "start_time": "2023-02-09T18:30:31.418Z"
   },
   {
    "duration": 70798,
    "start_time": "2023-02-09T18:31:02.129Z"
   },
   {
    "duration": 4,
    "start_time": "2023-02-09T18:32:23.081Z"
   },
   {
    "duration": 11,
    "start_time": "2023-02-09T18:32:36.833Z"
   },
   {
    "duration": 13991,
    "start_time": "2023-02-09T18:32:52.353Z"
   },
   {
    "duration": 5,
    "start_time": "2023-02-09T18:33:08.832Z"
   },
   {
    "duration": 946,
    "start_time": "2023-02-09T18:33:12.613Z"
   },
   {
    "duration": 11,
    "start_time": "2023-02-09T18:33:42.306Z"
   },
   {
    "duration": 85415,
    "start_time": "2023-02-09T18:33:55.999Z"
   },
   {
    "duration": 40,
    "start_time": "2023-02-09T18:35:36.389Z"
   },
   {
    "duration": 1018,
    "start_time": "2023-02-09T18:35:37.789Z"
   },
   {
    "duration": 45,
    "start_time": "2023-02-09T18:35:41.681Z"
   },
   {
    "duration": 204,
    "start_time": "2023-02-09T18:36:18.801Z"
   },
   {
    "duration": 117572,
    "start_time": "2023-02-09T18:36:33.897Z"
   },
   {
    "duration": 225,
    "start_time": "2023-02-09T18:38:34.497Z"
   },
   {
    "duration": 976,
    "start_time": "2023-02-09T18:38:34.727Z"
   },
   {
    "duration": 7,
    "start_time": "2023-02-09T18:38:41.793Z"
   },
   {
    "duration": 345,
    "start_time": "2023-02-09T18:38:46.944Z"
   },
   {
    "duration": 27,
    "start_time": "2023-02-09T18:38:54.693Z"
   },
   {
    "duration": 13,
    "start_time": "2023-02-09T18:38:56.444Z"
   },
   {
    "duration": 851,
    "start_time": "2023-02-09T18:38:57.331Z"
   },
   {
    "duration": 13,
    "start_time": "2023-02-09T18:39:02.332Z"
   },
   {
    "duration": 151,
    "start_time": "2023-02-09T18:39:05.243Z"
   },
   {
    "duration": 12,
    "start_time": "2023-02-09T18:39:08.613Z"
   },
   {
    "duration": 11,
    "start_time": "2023-02-09T18:39:32.111Z"
   },
   {
    "duration": 16,
    "start_time": "2023-02-09T18:39:51.539Z"
   },
   {
    "duration": 89362,
    "start_time": "2023-02-09T18:39:59.609Z"
   },
   {
    "duration": 16,
    "start_time": "2023-02-09T18:42:51.713Z"
   },
   {
    "duration": 16,
    "start_time": "2023-02-09T18:43:00.129Z"
   },
   {
    "duration": 15,
    "start_time": "2023-02-09T18:43:03.729Z"
   },
   {
    "duration": 12,
    "start_time": "2023-02-09T18:43:13.337Z"
   },
   {
    "duration": 15,
    "start_time": "2023-02-09T18:43:18.632Z"
   },
   {
    "duration": 17,
    "start_time": "2023-02-09T18:43:25.588Z"
   },
   {
    "duration": 16,
    "start_time": "2023-02-09T18:43:35.918Z"
   },
   {
    "duration": 19,
    "start_time": "2023-02-09T18:44:06.110Z"
   },
   {
    "duration": 21,
    "start_time": "2023-02-09T18:44:19.729Z"
   },
   {
    "duration": 16,
    "start_time": "2023-02-09T18:44:24.672Z"
   },
   {
    "duration": 98939,
    "start_time": "2023-02-09T18:44:28.352Z"
   },
   {
    "duration": 94404,
    "start_time": "2023-02-09T18:46:27.943Z"
   },
   {
    "duration": 4,
    "start_time": "2023-02-09T18:48:16.790Z"
   },
   {
    "duration": 10,
    "start_time": "2023-02-09T18:48:26.286Z"
   },
   {
    "duration": 27,
    "start_time": "2023-02-09T18:48:53.819Z"
   },
   {
    "duration": 32,
    "start_time": "2023-02-09T18:49:02.015Z"
   },
   {
    "duration": 21,
    "start_time": "2023-02-09T18:49:06.532Z"
   },
   {
    "duration": 15,
    "start_time": "2023-02-09T18:49:15.527Z"
   },
   {
    "duration": 11,
    "start_time": "2023-02-09T18:49:19.089Z"
   },
   {
    "duration": 146036,
    "start_time": "2023-02-09T19:12:06.675Z"
   },
   {
    "duration": 13,
    "start_time": "2023-02-09T19:15:52.556Z"
   },
   {
    "duration": 14,
    "start_time": "2023-02-09T19:16:00.930Z"
   },
   {
    "duration": 14,
    "start_time": "2023-02-09T19:16:22.184Z"
   },
   {
    "duration": 15,
    "start_time": "2023-02-09T19:16:25.729Z"
   },
   {
    "duration": 14,
    "start_time": "2023-02-09T19:16:47.064Z"
   },
   {
    "duration": 3631,
    "start_time": "2023-02-09T19:16:54.617Z"
   },
   {
    "duration": 3790,
    "start_time": "2023-02-09T19:24:12.531Z"
   },
   {
    "duration": 7,
    "start_time": "2023-02-09T19:24:16.323Z"
   },
   {
    "duration": 2,
    "start_time": "2023-02-09T19:29:01.546Z"
   },
   {
    "duration": 2,
    "start_time": "2023-02-09T19:29:03.545Z"
   },
   {
    "duration": 10,
    "start_time": "2023-02-09T19:30:02.934Z"
   },
   {
    "duration": 23,
    "start_time": "2023-02-09T19:35:24.167Z"
   },
   {
    "duration": 16,
    "start_time": "2023-02-09T19:35:46.571Z"
   },
   {
    "duration": 19,
    "start_time": "2023-02-09T19:35:51.428Z"
   },
   {
    "duration": 17,
    "start_time": "2023-02-09T19:36:07.108Z"
   },
   {
    "duration": 24,
    "start_time": "2023-02-09T19:37:14.168Z"
   },
   {
    "duration": 18,
    "start_time": "2023-02-09T19:37:28.753Z"
   },
   {
    "duration": 17,
    "start_time": "2023-02-09T19:37:31.090Z"
   },
   {
    "duration": 3,
    "start_time": "2023-02-09T19:41:42.787Z"
   },
   {
    "duration": 10,
    "start_time": "2023-02-09T19:41:59.568Z"
   },
   {
    "duration": 14,
    "start_time": "2023-02-09T19:42:20.318Z"
   },
   {
    "duration": 14,
    "start_time": "2023-02-09T19:42:33.175Z"
   },
   {
    "duration": 13,
    "start_time": "2023-02-09T19:42:38.061Z"
   },
   {
    "duration": 16,
    "start_time": "2023-02-09T19:43:09.512Z"
   },
   {
    "duration": 2,
    "start_time": "2023-02-09T19:43:18.199Z"
   },
   {
    "duration": 3,
    "start_time": "2023-02-09T19:43:22.270Z"
   },
   {
    "duration": 2,
    "start_time": "2023-02-09T19:47:12.606Z"
   },
   {
    "duration": 8,
    "start_time": "2023-02-09T19:47:13.698Z"
   },
   {
    "duration": 692,
    "start_time": "2023-02-09T19:47:15.335Z"
   },
   {
    "duration": 30,
    "start_time": "2023-02-09T19:47:16.029Z"
   },
   {
    "duration": 8,
    "start_time": "2023-02-09T19:47:16.874Z"
   },
   {
    "duration": 11,
    "start_time": "2023-02-09T19:47:17.277Z"
   },
   {
    "duration": 7,
    "start_time": "2023-02-09T19:47:17.675Z"
   },
   {
    "duration": 3,
    "start_time": "2023-02-09T19:47:17.956Z"
   },
   {
    "duration": 30,
    "start_time": "2023-02-09T19:47:18.182Z"
   },
   {
    "duration": 243,
    "start_time": "2023-02-09T19:47:18.410Z"
   },
   {
    "duration": 11,
    "start_time": "2023-02-09T19:47:18.671Z"
   },
   {
    "duration": 3,
    "start_time": "2023-02-09T19:47:18.910Z"
   },
   {
    "duration": 3,
    "start_time": "2023-02-09T19:47:19.778Z"
   },
   {
    "duration": 3,
    "start_time": "2023-02-09T19:47:21.177Z"
   },
   {
    "duration": 6,
    "start_time": "2023-02-09T19:47:21.878Z"
   },
   {
    "duration": 44,
    "start_time": "2023-02-10T05:00:19.973Z"
   },
   {
    "duration": 3,
    "start_time": "2023-02-10T05:10:20.859Z"
   },
   {
    "duration": 6,
    "start_time": "2023-02-10T05:18:27.314Z"
   },
   {
    "duration": 4,
    "start_time": "2023-02-10T05:25:49.024Z"
   },
   {
    "duration": 1899,
    "start_time": "2023-02-10T05:25:53.753Z"
   },
   {
    "duration": 2673,
    "start_time": "2023-02-10T05:25:58.346Z"
   },
   {
    "duration": 31,
    "start_time": "2023-02-10T05:26:01.754Z"
   },
   {
    "duration": 12,
    "start_time": "2023-02-10T05:26:02.023Z"
   },
   {
    "duration": 10,
    "start_time": "2023-02-10T05:26:02.304Z"
   },
   {
    "duration": 6,
    "start_time": "2023-02-10T05:26:02.560Z"
   },
   {
    "duration": 4,
    "start_time": "2023-02-10T05:26:02.825Z"
   },
   {
    "duration": 29,
    "start_time": "2023-02-10T05:26:03.115Z"
   },
   {
    "duration": 223,
    "start_time": "2023-02-10T05:26:03.465Z"
   },
   {
    "duration": 438,
    "start_time": "2023-02-10T05:26:03.766Z"
   },
   {
    "duration": 3,
    "start_time": "2023-02-10T05:26:06.946Z"
   },
   {
    "duration": 3,
    "start_time": "2023-02-10T05:26:07.296Z"
   },
   {
    "duration": 3,
    "start_time": "2023-02-10T05:26:10.941Z"
   },
   {
    "duration": 1273,
    "start_time": "2023-02-10T05:26:13.186Z"
   },
   {
    "duration": 1142324,
    "start_time": "2023-02-10T05:26:15.131Z"
   },
   {
    "duration": 56,
    "start_time": "2023-02-10T05:45:17.457Z"
   },
   {
    "duration": 4,
    "start_time": "2023-02-10T05:45:17.515Z"
   },
   {
    "duration": 157,
    "start_time": "2023-02-10T05:45:17.520Z"
   },
   {
    "duration": 30,
    "start_time": "2023-02-10T05:45:17.679Z"
   },
   {
    "duration": 56,
    "start_time": "2023-02-10T05:45:17.711Z"
   },
   {
    "duration": 11,
    "start_time": "2023-02-10T05:45:17.769Z"
   },
   {
    "duration": 9,
    "start_time": "2023-02-10T05:45:17.782Z"
   },
   {
    "duration": 16,
    "start_time": "2023-02-10T05:45:17.792Z"
   },
   {
    "duration": 11,
    "start_time": "2023-02-10T05:45:17.811Z"
   },
   {
    "duration": 10,
    "start_time": "2023-02-10T05:45:17.824Z"
   },
   {
    "duration": 6,
    "start_time": "2023-02-10T05:45:17.835Z"
   },
   {
    "duration": 11,
    "start_time": "2023-02-10T05:45:17.843Z"
   },
   {
    "duration": 5912,
    "start_time": "2023-02-10T05:45:17.856Z"
   },
   {
    "duration": 4,
    "start_time": "2023-02-10T05:45:23.770Z"
   },
   {
    "duration": 667,
    "start_time": "2023-02-10T05:45:23.776Z"
   },
   {
    "duration": 4,
    "start_time": "2023-02-10T05:45:24.445Z"
   },
   {
    "duration": 17,
    "start_time": "2023-02-10T05:45:24.450Z"
   },
   {
    "duration": 3,
    "start_time": "2023-02-10T05:45:24.468Z"
   },
   {
    "duration": 11,
    "start_time": "2023-02-10T05:45:24.473Z"
   },
   {
    "duration": 72817,
    "start_time": "2023-02-10T05:45:24.485Z"
   },
   {
    "duration": 5,
    "start_time": "2023-02-10T05:46:37.304Z"
   },
   {
    "duration": 13374,
    "start_time": "2023-02-10T05:46:37.311Z"
   },
   {
    "duration": 3,
    "start_time": "2023-02-10T05:46:50.687Z"
   },
   {
    "duration": 913,
    "start_time": "2023-02-10T05:46:50.692Z"
   },
   {
    "duration": 84639,
    "start_time": "2023-02-10T05:46:51.607Z"
   },
   {
    "duration": 29,
    "start_time": "2023-02-10T05:48:16.248Z"
   },
   {
    "duration": 862,
    "start_time": "2023-02-10T05:48:16.281Z"
   },
   {
    "duration": 108656,
    "start_time": "2023-02-10T05:48:17.144Z"
   },
   {
    "duration": 206,
    "start_time": "2023-02-10T05:50:05.802Z"
   },
   {
    "duration": 885,
    "start_time": "2023-02-10T05:50:06.009Z"
   },
   {
    "duration": 7,
    "start_time": "2023-02-10T05:50:06.895Z"
   },
   {
    "duration": 368,
    "start_time": "2023-02-10T05:50:06.904Z"
   },
   {
    "duration": 20,
    "start_time": "2023-02-10T05:50:07.273Z"
   },
   {
    "duration": 17,
    "start_time": "2023-02-10T05:50:07.295Z"
   },
   {
    "duration": 943,
    "start_time": "2023-02-10T05:50:07.313Z"
   },
   {
    "duration": 17,
    "start_time": "2023-02-10T05:50:08.258Z"
   },
   {
    "duration": 303,
    "start_time": "2023-02-10T05:50:08.277Z"
   },
   {
    "duration": 11,
    "start_time": "2023-02-10T05:50:08.582Z"
   },
   {
    "duration": 36,
    "start_time": "2023-02-10T05:50:08.594Z"
   },
   {
    "duration": 25,
    "start_time": "2023-02-10T05:50:08.632Z"
   },
   {
    "duration": 10,
    "start_time": "2023-02-10T05:50:08.659Z"
   },
   {
    "duration": 30,
    "start_time": "2023-02-10T05:50:08.670Z"
   },
   {
    "duration": 21,
    "start_time": "2023-02-10T05:50:08.702Z"
   },
   {
    "duration": 29,
    "start_time": "2023-02-10T05:50:08.726Z"
   },
   {
    "duration": 35,
    "start_time": "2023-02-10T05:50:08.757Z"
   },
   {
    "duration": 1710,
    "start_time": "2023-02-10T05:50:54.760Z"
   },
   {
    "duration": 13959,
    "start_time": "2023-02-10T05:52:42.211Z"
   },
   {
    "duration": 140,
    "start_time": "2023-02-10T05:54:07.905Z"
   },
   {
    "duration": 16,
    "start_time": "2023-02-10T05:54:53.486Z"
   },
   {
    "duration": 17,
    "start_time": "2023-02-10T05:54:58.269Z"
   },
   {
    "duration": 2,
    "start_time": "2023-02-10T05:55:08.544Z"
   },
   {
    "duration": 3,
    "start_time": "2023-02-10T05:55:17.101Z"
   },
   {
    "duration": 1629,
    "start_time": "2023-02-10T05:55:17.106Z"
   },
   {
    "duration": 775,
    "start_time": "2023-02-10T05:55:18.737Z"
   },
   {
    "duration": 23,
    "start_time": "2023-02-10T05:55:19.513Z"
   },
   {
    "duration": 10,
    "start_time": "2023-02-10T05:55:19.538Z"
   },
   {
    "duration": 26,
    "start_time": "2023-02-10T05:55:19.549Z"
   },
   {
    "duration": 10,
    "start_time": "2023-02-10T05:55:19.576Z"
   },
   {
    "duration": 6,
    "start_time": "2023-02-10T05:55:19.587Z"
   },
   {
    "duration": 30,
    "start_time": "2023-02-10T05:55:19.595Z"
   },
   {
    "duration": 170,
    "start_time": "2023-02-10T05:55:19.627Z"
   },
   {
    "duration": 9,
    "start_time": "2023-02-10T05:55:19.801Z"
   },
   {
    "duration": 5,
    "start_time": "2023-02-10T05:55:19.812Z"
   },
   {
    "duration": 13,
    "start_time": "2023-02-10T05:55:19.818Z"
   },
   {
    "duration": 7,
    "start_time": "2023-02-10T05:55:19.833Z"
   },
   {
    "duration": 1258,
    "start_time": "2023-02-10T05:55:19.842Z"
   },
   {
    "duration": 1170224,
    "start_time": "2023-02-10T05:55:21.101Z"
   },
   {
    "duration": 59,
    "start_time": "2023-02-10T06:14:51.327Z"
   },
   {
    "duration": 6,
    "start_time": "2023-02-10T06:14:51.388Z"
   },
   {
    "duration": 151,
    "start_time": "2023-02-10T06:14:51.396Z"
   },
   {
    "duration": 38,
    "start_time": "2023-02-10T06:14:51.548Z"
   },
   {
    "duration": 36,
    "start_time": "2023-02-10T06:14:51.588Z"
   },
   {
    "duration": 9,
    "start_time": "2023-02-10T06:14:51.625Z"
   },
   {
    "duration": 5,
    "start_time": "2023-02-10T06:14:51.636Z"
   },
   {
    "duration": 27,
    "start_time": "2023-02-10T06:14:51.642Z"
   },
   {
    "duration": 13,
    "start_time": "2023-02-10T06:14:51.670Z"
   },
   {
    "duration": 10,
    "start_time": "2023-02-10T06:14:51.684Z"
   },
   {
    "duration": 3,
    "start_time": "2023-02-10T06:14:51.696Z"
   },
   {
    "duration": 7,
    "start_time": "2023-02-10T06:14:51.701Z"
   },
   {
    "duration": 6563,
    "start_time": "2023-02-10T06:14:51.712Z"
   },
   {
    "duration": 5,
    "start_time": "2023-02-10T06:14:58.283Z"
   },
   {
    "duration": 757,
    "start_time": "2023-02-10T06:14:58.291Z"
   },
   {
    "duration": 5,
    "start_time": "2023-02-10T06:14:59.050Z"
   },
   {
    "duration": 17,
    "start_time": "2023-02-10T06:14:59.056Z"
   },
   {
    "duration": 9,
    "start_time": "2023-02-10T06:14:59.079Z"
   },
   {
    "duration": 9,
    "start_time": "2023-02-10T06:14:59.089Z"
   },
   {
    "duration": 72702,
    "start_time": "2023-02-10T06:14:59.099Z"
   },
   {
    "duration": 4,
    "start_time": "2023-02-10T06:16:11.803Z"
   },
   {
    "duration": 12815,
    "start_time": "2023-02-10T06:16:11.808Z"
   },
   {
    "duration": 4,
    "start_time": "2023-02-10T06:16:24.624Z"
   },
   {
    "duration": 986,
    "start_time": "2023-02-10T06:16:24.630Z"
   },
   {
    "duration": 86318,
    "start_time": "2023-02-10T06:16:25.618Z"
   },
   {
    "duration": 43,
    "start_time": "2023-02-10T06:17:51.938Z"
   },
   {
    "duration": 896,
    "start_time": "2023-02-10T06:17:51.984Z"
   },
   {
    "duration": 122563,
    "start_time": "2023-02-10T06:17:52.884Z"
   },
   {
    "duration": 238,
    "start_time": "2023-02-10T06:19:55.449Z"
   },
   {
    "duration": 908,
    "start_time": "2023-02-10T06:19:55.689Z"
   },
   {
    "duration": 9,
    "start_time": "2023-02-10T06:19:56.599Z"
   },
   {
    "duration": 457,
    "start_time": "2023-02-10T06:19:56.610Z"
   },
   {
    "duration": 31,
    "start_time": "2023-02-10T06:19:57.069Z"
   },
   {
    "duration": 15,
    "start_time": "2023-02-10T06:19:57.102Z"
   },
   {
    "duration": 999,
    "start_time": "2023-02-10T06:19:57.120Z"
   },
   {
    "duration": 12,
    "start_time": "2023-02-10T06:19:58.120Z"
   },
   {
    "duration": 313,
    "start_time": "2023-02-10T06:19:58.133Z"
   },
   {
    "duration": 28,
    "start_time": "2023-02-10T06:19:58.448Z"
   },
   {
    "duration": 1605,
    "start_time": "2023-02-10T06:19:58.479Z"
   },
   {
    "duration": 2,
    "start_time": "2023-02-10T06:20:00.087Z"
   },
   {
    "duration": 27,
    "start_time": "2023-02-10T06:20:00.091Z"
   },
   {
    "duration": 15378,
    "start_time": "2023-02-10T06:20:00.120Z"
   },
   {
    "duration": 2,
    "start_time": "2023-02-10T06:20:15.500Z"
   },
   {
    "duration": 5,
    "start_time": "2023-02-10T06:20:15.504Z"
   },
   {
    "duration": 6,
    "start_time": "2023-02-10T06:20:15.510Z"
   },
   {
    "duration": 156,
    "start_time": "2023-02-10T06:22:53.423Z"
   },
   {
    "duration": 15,
    "start_time": "2023-02-10T06:24:49.976Z"
   },
   {
    "duration": 61,
    "start_time": "2023-02-10T06:25:05.665Z"
   },
   {
    "duration": 3,
    "start_time": "2023-02-11T05:27:42.632Z"
   }
  ],
  "kernelspec": {
   "display_name": "Python 3 (ipykernel)",
   "language": "python",
   "name": "python3"
  },
  "language_info": {
   "codemirror_mode": {
    "name": "ipython",
    "version": 3
   },
   "file_extension": ".py",
   "mimetype": "text/x-python",
   "name": "python",
   "nbconvert_exporter": "python",
   "pygments_lexer": "ipython3",
   "version": "3.9.13"
  },
  "toc": {
   "base_numbering": 1,
   "nav_menu": {},
   "number_sections": true,
   "sideBar": true,
   "skip_h1_title": true,
   "title_cell": "Содержание",
   "title_sidebar": "Contents",
   "toc_cell": true,
   "toc_position": {
    "height": "calc(100% - 180px)",
    "left": "10px",
    "top": "150px",
    "width": "302.391px"
   },
   "toc_section_display": true,
   "toc_window_display": false
  },
  "vscode": {
   "interpreter": {
    "hash": "2f2d40ebe371487f48984bf9e1b8fc74f8231d4cf64b4f1dc9972ded0ae6ce5b"
   }
  }
 },
 "nbformat": 4,
 "nbformat_minor": 4
}
