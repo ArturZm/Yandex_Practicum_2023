{
 "cells": [
  {
   "cell_type": "markdown",
   "metadata": {
    "toc": true
   },
   "source": [
    "<h1>Содержание<span class=\"tocSkip\"></span></h1>\n",
    "<div class=\"toc\"><ul class=\"toc-item\"><li><span><a href=\"#Подготовка-данных\" data-toc-modified-id=\"Подготовка-данных-1\"><span class=\"toc-item-num\">1&nbsp;&nbsp;</span>Подготовка данных</a></span><ul class=\"toc-item\"><li><span><a href=\"#Откроем-файлы-и-изучим-их\" data-toc-modified-id=\"Откроем-файлы-и-изучим-их-1.1\"><span class=\"toc-item-num\">1.1&nbsp;&nbsp;</span>Откроем файлы и изучим их</a></span></li><li><span><a href=\"#Проверить,-что-эффективность-обогощения-расcчитана-правильно.-Вычислим-её-на-обучающей-выборке-для-признака-rougher.output.recovery.-Найдём-MAE-между-нашими-расчётами-и-значением-признака.-Опишем-выводы.\" data-toc-modified-id=\"Проверить,-что-эффективность-обогощения-расcчитана-правильно.-Вычислим-её-на-обучающей-выборке-для-признака-rougher.output.recovery.-Найдём-MAE-между-нашими-расчётами-и-значением-признака.-Опишем-выводы.-1.2\"><span class=\"toc-item-num\">1.2&nbsp;&nbsp;</span>Проверить, что эффективность обогощения расcчитана правильно. Вычислим её на обучающей выборке для признака rougher.output.recovery. Найдём MAE между нашими расчётами и значением признака. Опишем выводы.</a></span></li><li><span><a href=\"#Проанализируем-признаки,-недоступные-в-тестовой-выборке.-Что-это-за-параметры?-К-какому-типу-относятся?\" data-toc-modified-id=\"Проанализируем-признаки,-недоступные-в-тестовой-выборке.-Что-это-за-параметры?-К-какому-типу-относятся?-1.3\"><span class=\"toc-item-num\">1.3&nbsp;&nbsp;</span>Проанализируем признаки, недоступные в тестовой выборке. Что это за параметры? К какому типу относятся?</a></span></li><li><span><a href=\"#Проведём-предобработку-данных\" data-toc-modified-id=\"Проведём-предобработку-данных-1.4\"><span class=\"toc-item-num\">1.4&nbsp;&nbsp;</span>Проведём предобработку данных</a></span></li></ul></li><li><span><a href=\"#Анализ-данных\" data-toc-modified-id=\"Анализ-данных-2\"><span class=\"toc-item-num\">2&nbsp;&nbsp;</span>Анализ данных</a></span><ul class=\"toc-item\"><li><span><a href=\"#Посмотрим,-как-меняется-концентрация-металлов-(Au,-Ag,-Pb)-на-различных-этапах-очитки.-Опишим-выводы.\" data-toc-modified-id=\"Посмотрим,-как-меняется-концентрация-металлов-(Au,-Ag,-Pb)-на-различных-этапах-очитки.-Опишим-выводы.-2.1\"><span class=\"toc-item-num\">2.1&nbsp;&nbsp;</span>Посмотрим, как меняется концентрация металлов (Au, Ag, Pb) на различных этапах очитки. Опишим выводы.</a></span></li><li><span><a href=\"#Сравним-распределения-размеров-гранул-сырья-на-обучающей-и-тестовой-выборках.-Если-распределения-будут-сильно-отличаются-друг-от-друга,-то-оценка-модели-будет-неправильной.\" data-toc-modified-id=\"Сравним-распределения-размеров-гранул-сырья-на-обучающей-и-тестовой-выборках.-Если-распределения-будут-сильно-отличаются-друг-от-друга,-то-оценка-модели-будет-неправильной.-2.2\"><span class=\"toc-item-num\">2.2&nbsp;&nbsp;</span>Сравним распределения размеров гранул сырья на обучающей и тестовой выборках. Если распределения будут сильно отличаются друг от друга, то оценка модели будет неправильной.</a></span></li><li><span><a href=\"#Исследуем-суммарную-концентрацию-всех-веществ-на-разных-стадиях:-в-сырье,-в-черновом-и-финальном-концентратах.\" data-toc-modified-id=\"Исследуем-суммарную-концентрацию-всех-веществ-на-разных-стадиях:-в-сырье,-в-черновом-и-финальном-концентратах.-2.3\"><span class=\"toc-item-num\">2.3&nbsp;&nbsp;</span>Исследуем суммарную концентрацию всех веществ на разных стадиях: в сырье, в черновом и финальном концентратах.</a></span><ul class=\"toc-item\"><li><span><a href=\"#Посчитаем-сумму-концентраций-металлов-в-сырье-на-исходных-данных\" data-toc-modified-id=\"Посчитаем-сумму-концентраций-металлов-в-сырье-на-исходных-данных-2.3.1\"><span class=\"toc-item-num\">2.3.1&nbsp;&nbsp;</span>Посчитаем сумму концентраций металлов в сырье на исходных данных</a></span></li><li><span><a href=\"#Посчитаем-сумму-концентраций-металлов-в-черновом-концентрате-на-исходных-данных\" data-toc-modified-id=\"Посчитаем-сумму-концентраций-металлов-в-черновом-концентрате-на-исходных-данных-2.3.2\"><span class=\"toc-item-num\">2.3.2&nbsp;&nbsp;</span>Посчитаем сумму концентраций металлов в черновом концентрате на исходных данных</a></span></li><li><span><a href=\"#Посчитаем-сумму-концентраций-металлов-после-финальной-очистки-на-исходных-данных\" data-toc-modified-id=\"Посчитаем-сумму-концентраций-металлов-после-финальной-очистки-на-исходных-данных-2.3.3\"><span class=\"toc-item-num\">2.3.3&nbsp;&nbsp;</span>Посчитаем сумму концентраций металлов после финальной очистки на исходных данных</a></span></li><li><span><a href=\"#Посчитаем-сумму-концентраций-металлов-после-флотации-на-обучающих-данных\" data-toc-modified-id=\"Посчитаем-сумму-концентраций-металлов-после-флотации-на-обучающих-данных-2.3.4\"><span class=\"toc-item-num\">2.3.4&nbsp;&nbsp;</span>Посчитаем сумму концентраций металлов после флотации на обучающих данных</a></span></li><li><span><a href=\"#Посчитаем-сумму-концентраций-металлов-после-первичной-очистки-на-обучающих-данных\" data-toc-modified-id=\"Посчитаем-сумму-концентраций-металлов-после-первичной-очистки-на-обучающих-данных-2.3.5\"><span class=\"toc-item-num\">2.3.5&nbsp;&nbsp;</span>Посчитаем сумму концентраций металлов после первичной очистки на обучающих данных</a></span></li><li><span><a href=\"#Посчитаем-сумму-концентраций-металлов-после-финальной-очистки-на-обучающих-данных\" data-toc-modified-id=\"Посчитаем-сумму-концентраций-металлов-после-финальной-очистки-на-обучающих-данных-2.3.6\"><span class=\"toc-item-num\">2.3.6&nbsp;&nbsp;</span>Посчитаем сумму концентраций металлов после финальной очистки на обучающих данных</a></span></li><li><span><a href=\"#Удалим-выбросы-на-обучающей-выборке\" data-toc-modified-id=\"Удалим-выбросы-на-обучающей-выборке-2.3.7\"><span class=\"toc-item-num\">2.3.7&nbsp;&nbsp;</span>Удалим выбросы на обучающей выборке</a></span></li></ul></li></ul></li><li><span><a href=\"#Построим-модель\" data-toc-modified-id=\"Построим-модель-3\"><span class=\"toc-item-num\">3&nbsp;&nbsp;</span>Построим модель</a></span><ul class=\"toc-item\"><li><span><a href=\"#Напишем-функцию-для-вычисления-итоговой-sMAPE\" data-toc-modified-id=\"Напишем-функцию-для-вычисления-итоговой-sMAPE-3.1\"><span class=\"toc-item-num\">3.1&nbsp;&nbsp;</span>Напишем функцию для вычисления итоговой sMAPE</a></span></li><li><span><a href=\"#Обучим-разные-модели-и-оценим-их-качество-кросс-валидаций.-Выберим-лучшую-модель-и-проверим-её-на-тестовой-выборке.-Напишем-выводы.\" data-toc-modified-id=\"Обучим-разные-модели-и-оценим-их-качество-кросс-валидаций.-Выберим-лучшую-модель-и-проверим-её-на-тестовой-выборке.-Напишем-выводы.-3.2\"><span class=\"toc-item-num\">3.2&nbsp;&nbsp;</span>Обучим разные модели и оценим их качество кросс-валидаций. Выберим лучшую модель и проверим её на тестовой выборке. Напишем выводы.</a></span><ul class=\"toc-item\"><li><span><a href=\"#Линейная-регрессия\" data-toc-modified-id=\"Линейная-регрессия-3.2.1\"><span class=\"toc-item-num\">3.2.1&nbsp;&nbsp;</span>Линейная регрессия</a></span></li><li><span><a href=\"#Случайный-лес\" data-toc-modified-id=\"Случайный-лес-3.2.2\"><span class=\"toc-item-num\">3.2.2&nbsp;&nbsp;</span>Случайный лес</a></span></li><li><span><a href=\"#Фиктивный-регрессор\" data-toc-modified-id=\"Фиктивный-регрессор-3.2.3\"><span class=\"toc-item-num\">3.2.3&nbsp;&nbsp;</span>Фиктивный регрессор</a></span></li><li><span><a href=\"#Выберим-лучшую-модель-и-проверим-её-на-тестовой-выборке.-Напишим-выводы.\" data-toc-modified-id=\"Выберим-лучшую-модель-и-проверим-её-на-тестовой-выборке.-Напишим-выводы.-3.2.4\"><span class=\"toc-item-num\">3.2.4&nbsp;&nbsp;</span>Выберим лучшую модель и проверим её на тестовой выборке. Напишим выводы.</a></span></li></ul></li></ul></li><li><span><a href=\"#Чек-лист-готовности-проекта\" data-toc-modified-id=\"Чек-лист-готовности-проекта-4\"><span class=\"toc-item-num\">4&nbsp;&nbsp;</span>Чек-лист готовности проекта</a></span><ul class=\"toc-item\"><li><span><a href=\"#Общее-впечатление\" data-toc-modified-id=\"Общее-впечатление-4.1\"><span class=\"toc-item-num\">4.1&nbsp;&nbsp;</span><font color=\"orange\">Общее впечатление</font></a></span></li><li><span><a href=\"#Общее-впечатление-(ревью-2)\" data-toc-modified-id=\"Общее-впечатление-(ревью-2)-4.2\"><span class=\"toc-item-num\">4.2&nbsp;&nbsp;</span><font color=\"orange\">Общее впечатление (ревью 2)</font></a></span></li><li><span><a href=\"#Общее-впечатление-(ревью-3)\" data-toc-modified-id=\"Общее-впечатление-(ревью-3)-4.3\"><span class=\"toc-item-num\">4.3&nbsp;&nbsp;</span><font color=\"orange\">Общее впечатление (ревью 3)</font></a></span></li><li><span><a href=\"#Общее-впечатление-(ревью-4)\" data-toc-modified-id=\"Общее-впечатление-(ревью-4)-4.4\"><span class=\"toc-item-num\">4.4&nbsp;&nbsp;</span><font color=\"orange\">Общее впечатление (ревью 4)</font></a></span></li></ul></li></ul></div>"
   ]
  },
  {
   "cell_type": "markdown",
   "metadata": {
    "toc": true
   },
   "source": [
    "<h1>Содержание<span class=\"tocSkip\"></span></h1>\n",
    "<div class=\"toc\"><ul class=\"toc-item\"><li><ul class=\"toc-item\"><li><span><a href=\"#Общее-впечатление\" data-toc-modified-id=\"Общее-впечатление-0.1\"><span class=\"toc-item-num\">0.1&nbsp;&nbsp;</span><font color=\"orange\">Общее впечатление</font></a></span></li></ul></li><li><span><a href=\"#Подготовка-данных\" data-toc-modified-id=\"Подготовка-данных-1\"><span class=\"toc-item-num\">1&nbsp;&nbsp;</span>Подготовка данных</a></span><ul class=\"toc-item\"><li><span><a href=\"#Откроем-файлы-и-изучим-их\" data-toc-modified-id=\"Откроем-файлы-и-изучим-их-1.1\"><span class=\"toc-item-num\">1.1&nbsp;&nbsp;</span>Откроем файлы и изучим их</a></span></li><li><span><a href=\"#Проверить,-что-эффективность-обогощения-расcчитана-правильно.-Вычислим-её-на-обучающей-выборке-для-признака-rougher.output.recovery.-Найдём-MAE-между-нашими-расчётами-и-значением-признака.-Опишем-выводы.\" data-toc-modified-id=\"Проверить,-что-эффективность-обогощения-расcчитана-правильно.-Вычислим-её-на-обучающей-выборке-для-признака-rougher.output.recovery.-Найдём-MAE-между-нашими-расчётами-и-значением-признака.-Опишем-выводы.-1.2\"><span class=\"toc-item-num\">1.2&nbsp;&nbsp;</span>Проверить, что эффективность обогощения расcчитана правильно. Вычислим её на обучающей выборке для признака rougher.output.recovery. Найдём MAE между нашими расчётами и значением признака. Опишем выводы.</a></span></li><li><span><a href=\"#Проанализируем-признаки,-недоступные-в-тестовой-выборке.-Что-это-за-параметры?-К-какому-типу-относятся?\" data-toc-modified-id=\"Проанализируем-признаки,-недоступные-в-тестовой-выборке.-Что-это-за-параметры?-К-какому-типу-относятся?-1.3\"><span class=\"toc-item-num\">1.3&nbsp;&nbsp;</span>Проанализируем признаки, недоступные в тестовой выборке. Что это за параметры? К какому типу относятся?</a></span></li><li><span><a href=\"#Проведём-предобработку-данных\" data-toc-modified-id=\"Проведём-предобработку-данных-1.4\"><span class=\"toc-item-num\">1.4&nbsp;&nbsp;</span>Проведём предобработку данных</a></span></li></ul></li><li><span><a href=\"#Анализ-данных\" data-toc-modified-id=\"Анализ-данных-2\"><span class=\"toc-item-num\">2&nbsp;&nbsp;</span>Анализ данных</a></span><ul class=\"toc-item\"><li><span><a href=\"#Посмотрим,-как-меняется-концентрация-металлов-(Au,-Ag,-Pb)-на-различных-этапах-очитки.-Опишим-выводы.\" data-toc-modified-id=\"Посмотрим,-как-меняется-концентрация-металлов-(Au,-Ag,-Pb)-на-различных-этапах-очитки.-Опишим-выводы.-2.1\"><span class=\"toc-item-num\">2.1&nbsp;&nbsp;</span>Посмотрим, как меняется концентрация металлов (Au, Ag, Pb) на различных этапах очитки. Опишим выводы.</a></span></li><li><span><a href=\"#Сравним-распределения-размеров-гранул-сырья-на-обучающей-и-тестовой-выборках.-Если-распределения-будут-сильно-отличаются-друг-от-друга,-то-оценка-модели-будет-неправильной.\" data-toc-modified-id=\"Сравним-распределения-размеров-гранул-сырья-на-обучающей-и-тестовой-выборках.-Если-распределения-будут-сильно-отличаются-друг-от-друга,-то-оценка-модели-будет-неправильной.-2.2\"><span class=\"toc-item-num\">2.2&nbsp;&nbsp;</span>Сравним распределения размеров гранул сырья на обучающей и тестовой выборках. Если распределения будут сильно отличаются друг от друга, то оценка модели будет неправильной.</a></span></li><li><span><a href=\"#Исследуем-суммарную-концентрацию-всех-веществ-на-разных-стадиях:-в-сырье,-в-черновом-и-финальном-концентратах.\" data-toc-modified-id=\"Исследуем-суммарную-концентрацию-всех-веществ-на-разных-стадиях:-в-сырье,-в-черновом-и-финальном-концентратах.-2.3\"><span class=\"toc-item-num\">2.3&nbsp;&nbsp;</span>Исследуем суммарную концентрацию всех веществ на разных стадиях: в сырье, в черновом и финальном концентратах.</a></span><ul class=\"toc-item\"><li><span><a href=\"#Посчитаем-сумму-концентраций-металлов-в-сырье-на-исходных-данных\" data-toc-modified-id=\"Посчитаем-сумму-концентраций-металлов-в-сырье-на-исходных-данных-2.3.1\"><span class=\"toc-item-num\">2.3.1&nbsp;&nbsp;</span>Посчитаем сумму концентраций металлов в сырье на исходных данных</a></span></li><li><span><a href=\"#Посчитаем-сумму-концентраций-металлов-в-черновом-концентрате-на-исходных-данных\" data-toc-modified-id=\"Посчитаем-сумму-концентраций-металлов-в-черновом-концентрате-на-исходных-данных-2.3.2\"><span class=\"toc-item-num\">2.3.2&nbsp;&nbsp;</span>Посчитаем сумму концентраций металлов в черновом концентрате на исходных данных</a></span></li><li><span><a href=\"#Посчитаем-сумму-концентраций-металлов-после-финальной-очистки-на-исходных-данных\" data-toc-modified-id=\"Посчитаем-сумму-концентраций-металлов-после-финальной-очистки-на-исходных-данных-2.3.3\"><span class=\"toc-item-num\">2.3.3&nbsp;&nbsp;</span>Посчитаем сумму концентраций металлов после финальной очистки на исходных данных</a></span></li><li><span><a href=\"#Посчитаем-сумму-концентраций-металлов-после-флотации-на-обучающих-данных\" data-toc-modified-id=\"Посчитаем-сумму-концентраций-металлов-после-флотации-на-обучающих-данных-2.3.4\"><span class=\"toc-item-num\">2.3.4&nbsp;&nbsp;</span>Посчитаем сумму концентраций металлов после флотации на обучающих данных</a></span></li><li><span><a href=\"#Посчитаем-сумму-концентраций-металлов-после-первичной-очистки-на-обучающих-данных\" data-toc-modified-id=\"Посчитаем-сумму-концентраций-металлов-после-первичной-очистки-на-обучающих-данных-2.3.5\"><span class=\"toc-item-num\">2.3.5&nbsp;&nbsp;</span>Посчитаем сумму концентраций металлов после первичной очистки на обучающих данных</a></span></li><li><span><a href=\"#Посчитаем-сумму-концентраций-металлов-после-финальной-очистки-на-обучающих-данных\" data-toc-modified-id=\"Посчитаем-сумму-концентраций-металлов-после-финальной-очистки-на-обучающих-данных-2.3.6\"><span class=\"toc-item-num\">2.3.6&nbsp;&nbsp;</span>Посчитаем сумму концентраций металлов после финальной очистки на обучающих данных</a></span></li><li><span><a href=\"#Удалим-выбросы-на-обучающей-выборке\" data-toc-modified-id=\"Удалим-выбросы-на-обучающей-выборке-2.3.7\"><span class=\"toc-item-num\">2.3.7&nbsp;&nbsp;</span>Удалим выбросы на обучающей выборке</a></span></li></ul></li></ul></li><li><span><a href=\"#Построим-модель\" data-toc-modified-id=\"Построим-модель-3\"><span class=\"toc-item-num\">3&nbsp;&nbsp;</span>Построим модель</a></span><ul class=\"toc-item\"><li><span><a href=\"#Напишем-функцию-для-вычисления-итоговой-sMAPE\" data-toc-modified-id=\"Напишем-функцию-для-вычисления-итоговой-sMAPE-3.1\"><span class=\"toc-item-num\">3.1&nbsp;&nbsp;</span>Напишем функцию для вычисления итоговой sMAPE</a></span></li><li><span><a href=\"#Обучим-разные-модели-и-оценим-их-качество-кросс-валидаций.-Выберим-лучшую-модель-и-проверим-её-на-тестовой-выборке.-Напишем-выводы.\" data-toc-modified-id=\"Обучим-разные-модели-и-оценим-их-качество-кросс-валидаций.-Выберим-лучшую-модель-и-проверим-её-на-тестовой-выборке.-Напишем-выводы.-3.2\"><span class=\"toc-item-num\">3.2&nbsp;&nbsp;</span>Обучим разные модели и оценим их качество кросс-валидаций. Выберим лучшую модель и проверим её на тестовой выборке. Напишем выводы.</a></span><ul class=\"toc-item\"><li><span><a href=\"#Линейная-регрессия\" data-toc-modified-id=\"Линейная-регрессия-3.2.1\"><span class=\"toc-item-num\">3.2.1&nbsp;&nbsp;</span>Линейная регрессия</a></span></li><li><span><a href=\"#Случайный-лес\" data-toc-modified-id=\"Случайный-лес-3.2.2\"><span class=\"toc-item-num\">3.2.2&nbsp;&nbsp;</span>Случайный лес</a></span></li><li><span><a href=\"#Фиктивный-регрессор\" data-toc-modified-id=\"Фиктивный-регрессор-3.2.3\"><span class=\"toc-item-num\">3.2.3&nbsp;&nbsp;</span>Фиктивный регрессор</a></span></li><li><span><a href=\"#Выберим-лучшую-модель-и-проверим-её-на-тестовой-выборке.-Напишим-выводы.\" data-toc-modified-id=\"Выберим-лучшую-модель-и-проверим-её-на-тестовой-выборке.-Напишим-выводы.-3.2.4\"><span class=\"toc-item-num\">3.2.4&nbsp;&nbsp;</span>Выберим лучшую модель и проверим её на тестовой выборке. Напишим выводы.</a></span></li></ul></li></ul></li><li><span><a href=\"#Чек-лист-готовности-проекта\" data-toc-modified-id=\"Чек-лист-готовности-проекта-4\"><span class=\"toc-item-num\">4&nbsp;&nbsp;</span>Чек-лист готовности проекта</a></span></li></ul></div>"
   ]
  },
  {
   "cell_type": "markdown",
   "metadata": {},
   "source": [
    "# Восстановление золота из руды"
   ]
  },
  {
   "cell_type": "markdown",
   "metadata": {},
   "source": [
    "Подготовим прототип модели машинного обучения для «Цифры». Компания разрабатывает решения для эффективной работы промышленных предприятий.\n",
    "\n",
    "Модель должна предсказать коэффициент восстановления золота из золотосодержащей руды. Используем данные с параметрами добычи и очистки. \n",
    "\n",
    "Модель поможет оптимизировать производство, чтобы не запускать предприятие с убыточными характеристиками."
   ]
  },
  {
   "cell_type": "markdown",
   "metadata": {},
   "source": [
    "## Подготовка данных"
   ]
  },
  {
   "cell_type": "markdown",
   "metadata": {},
   "source": [
    "### Откроем файлы и изучим их"
   ]
  },
  {
   "cell_type": "code",
   "execution_count": 1,
   "metadata": {},
   "outputs": [],
   "source": [
    "import pandas as pd\n",
    "import matplotlib.pyplot as plt\n",
    "import numpy as np\n",
    "import seaborn as sns\n",
    "\n",
    "from sklearn.metrics import mean_absolute_error      # модуль для вычисления MAE\n",
    "from sklearn.model_selection import train_test_split # модуль для разделения выборки\n",
    "from sklearn.ensemble import RandomForestRegressor   # модуль для работы со структурой данных \"Случайный лес\"\n",
    "from sklearn.linear_model import LinearRegression    # инициализация модели линейной регрессии\n",
    "from sklearn.model_selection import cross_val_score  # Перекрестная проверка\n",
    "from sklearn.model_selection import GridSearchCV     # модуль для автоматического подбирания параметров для моделей машинного обучения\n",
    "from sklearn.dummy import DummyRegressor             # модуль фиктивного регрессора\n",
    "from sklearn.metrics import make_scorer"
   ]
  },
  {
   "cell_type": "markdown",
   "metadata": {},
   "source": [
    "<div class=\"alert alert-block alert-success\">\n",
    "<b>Успех:</b> Отлично, что все импорты собраны в первой ячейке ноутбука! Если у того, кто будет запускать твой ноутбук будут отсутствовать некоторые библиотеки, то он это увидит сразу, а не в процессе!\n",
    "</div>"
   ]
  },
  {
   "cell_type": "code",
   "execution_count": 2,
   "metadata": {},
   "outputs": [],
   "source": [
    "try:\n",
    "    gold_train = pd.read_csv('/datasets/gold_recovery_train_new.csv') # обучающая выборка\n",
    "except:\n",
    "    gold_train = pd.read_csv('/Users/Администратор/Downloads/Учёба/ЗОЛОТО И РУДЫ/gold_recovery_train_new.csv') # обучающая выборка    \n",
    "try:    \n",
    "    gold_test = pd.read_csv('/datasets/gold_recovery_test_new.csv') # тестовая выборка\n",
    "except:\n",
    "    gold_test = pd.read_csv('/Users/Администратор/Downloads/Учёба/ЗОЛОТО И РУДЫ/gold_recovery_test_new.csv') # тестовая выборка\n",
    "try:    \n",
    "    gold_full = pd.read_csv('/datasets/gold_recovery_full_new.csv') # исходные данные\n",
    "except:\n",
    "    gold_full = pd.read_csv('/Users/Администратор/Downloads/Учёба/ЗОЛОТО И РУДЫ/gold_recovery_full_new.csv') # исходные данные"
   ]
  },
  {
   "cell_type": "code",
   "execution_count": 3,
   "metadata": {},
   "outputs": [
    {
     "name": "stdout",
     "output_type": "stream",
     "text": [
      "Тренировочный датасэт\n"
     ]
    },
    {
     "data": {
      "text/html": [
       "<div>\n",
       "<style scoped>\n",
       "    .dataframe tbody tr th:only-of-type {\n",
       "        vertical-align: middle;\n",
       "    }\n",
       "\n",
       "    .dataframe tbody tr th {\n",
       "        vertical-align: top;\n",
       "    }\n",
       "\n",
       "    .dataframe thead th {\n",
       "        text-align: right;\n",
       "    }\n",
       "</style>\n",
       "<table border=\"1\" class=\"dataframe\">\n",
       "  <thead>\n",
       "    <tr style=\"text-align: right;\">\n",
       "      <th></th>\n",
       "      <th>date</th>\n",
       "      <th>final.output.concentrate_ag</th>\n",
       "      <th>final.output.concentrate_pb</th>\n",
       "      <th>final.output.concentrate_sol</th>\n",
       "      <th>final.output.concentrate_au</th>\n",
       "      <th>final.output.recovery</th>\n",
       "      <th>final.output.tail_ag</th>\n",
       "      <th>final.output.tail_pb</th>\n",
       "      <th>final.output.tail_sol</th>\n",
       "      <th>final.output.tail_au</th>\n",
       "      <th>...</th>\n",
       "      <th>secondary_cleaner.state.floatbank4_a_air</th>\n",
       "      <th>secondary_cleaner.state.floatbank4_a_level</th>\n",
       "      <th>secondary_cleaner.state.floatbank4_b_air</th>\n",
       "      <th>secondary_cleaner.state.floatbank4_b_level</th>\n",
       "      <th>secondary_cleaner.state.floatbank5_a_air</th>\n",
       "      <th>secondary_cleaner.state.floatbank5_a_level</th>\n",
       "      <th>secondary_cleaner.state.floatbank5_b_air</th>\n",
       "      <th>secondary_cleaner.state.floatbank5_b_level</th>\n",
       "      <th>secondary_cleaner.state.floatbank6_a_air</th>\n",
       "      <th>secondary_cleaner.state.floatbank6_a_level</th>\n",
       "    </tr>\n",
       "  </thead>\n",
       "  <tbody>\n",
       "    <tr>\n",
       "      <th>0</th>\n",
       "      <td>2016-01-15 00:00:00</td>\n",
       "      <td>6.055403</td>\n",
       "      <td>9.889648</td>\n",
       "      <td>5.507324</td>\n",
       "      <td>42.192020</td>\n",
       "      <td>70.541216</td>\n",
       "      <td>10.411962</td>\n",
       "      <td>0.895447</td>\n",
       "      <td>16.904297</td>\n",
       "      <td>2.143149</td>\n",
       "      <td>...</td>\n",
       "      <td>14.016835</td>\n",
       "      <td>-502.488007</td>\n",
       "      <td>12.099931</td>\n",
       "      <td>-504.715942</td>\n",
       "      <td>9.925633</td>\n",
       "      <td>-498.310211</td>\n",
       "      <td>8.079666</td>\n",
       "      <td>-500.470978</td>\n",
       "      <td>14.151341</td>\n",
       "      <td>-605.841980</td>\n",
       "    </tr>\n",
       "    <tr>\n",
       "      <th>1</th>\n",
       "      <td>2016-01-15 01:00:00</td>\n",
       "      <td>6.029369</td>\n",
       "      <td>9.968944</td>\n",
       "      <td>5.257781</td>\n",
       "      <td>42.701629</td>\n",
       "      <td>69.266198</td>\n",
       "      <td>10.462676</td>\n",
       "      <td>0.927452</td>\n",
       "      <td>16.634514</td>\n",
       "      <td>2.224930</td>\n",
       "      <td>...</td>\n",
       "      <td>13.992281</td>\n",
       "      <td>-505.503262</td>\n",
       "      <td>11.950531</td>\n",
       "      <td>-501.331529</td>\n",
       "      <td>10.039245</td>\n",
       "      <td>-500.169983</td>\n",
       "      <td>7.984757</td>\n",
       "      <td>-500.582168</td>\n",
       "      <td>13.998353</td>\n",
       "      <td>-599.787184</td>\n",
       "    </tr>\n",
       "    <tr>\n",
       "      <th>2</th>\n",
       "      <td>2016-01-15 02:00:00</td>\n",
       "      <td>6.055926</td>\n",
       "      <td>10.213995</td>\n",
       "      <td>5.383759</td>\n",
       "      <td>42.657501</td>\n",
       "      <td>68.116445</td>\n",
       "      <td>10.507046</td>\n",
       "      <td>0.953716</td>\n",
       "      <td>16.208849</td>\n",
       "      <td>2.257889</td>\n",
       "      <td>...</td>\n",
       "      <td>14.015015</td>\n",
       "      <td>-502.520901</td>\n",
       "      <td>11.912783</td>\n",
       "      <td>-501.133383</td>\n",
       "      <td>10.070913</td>\n",
       "      <td>-500.129135</td>\n",
       "      <td>8.013877</td>\n",
       "      <td>-500.517572</td>\n",
       "      <td>14.028663</td>\n",
       "      <td>-601.427363</td>\n",
       "    </tr>\n",
       "    <tr>\n",
       "      <th>3</th>\n",
       "      <td>2016-01-15 03:00:00</td>\n",
       "      <td>6.047977</td>\n",
       "      <td>9.977019</td>\n",
       "      <td>4.858634</td>\n",
       "      <td>42.689819</td>\n",
       "      <td>68.347543</td>\n",
       "      <td>10.422762</td>\n",
       "      <td>0.883763</td>\n",
       "      <td>16.532835</td>\n",
       "      <td>2.146849</td>\n",
       "      <td>...</td>\n",
       "      <td>14.036510</td>\n",
       "      <td>-500.857308</td>\n",
       "      <td>11.999550</td>\n",
       "      <td>-501.193686</td>\n",
       "      <td>9.970366</td>\n",
       "      <td>-499.201640</td>\n",
       "      <td>7.977324</td>\n",
       "      <td>-500.255908</td>\n",
       "      <td>14.005551</td>\n",
       "      <td>-599.996129</td>\n",
       "    </tr>\n",
       "    <tr>\n",
       "      <th>4</th>\n",
       "      <td>2016-01-15 04:00:00</td>\n",
       "      <td>6.148599</td>\n",
       "      <td>10.142511</td>\n",
       "      <td>4.939416</td>\n",
       "      <td>42.774141</td>\n",
       "      <td>66.927016</td>\n",
       "      <td>10.360302</td>\n",
       "      <td>0.792826</td>\n",
       "      <td>16.525686</td>\n",
       "      <td>2.055292</td>\n",
       "      <td>...</td>\n",
       "      <td>14.027298</td>\n",
       "      <td>-499.838632</td>\n",
       "      <td>11.953070</td>\n",
       "      <td>-501.053894</td>\n",
       "      <td>9.925709</td>\n",
       "      <td>-501.686727</td>\n",
       "      <td>7.894242</td>\n",
       "      <td>-500.356035</td>\n",
       "      <td>13.996647</td>\n",
       "      <td>-601.496691</td>\n",
       "    </tr>\n",
       "  </tbody>\n",
       "</table>\n",
       "<p>5 rows × 87 columns</p>\n",
       "</div>"
      ],
      "text/plain": [
       "                  date  final.output.concentrate_ag  \\\n",
       "0  2016-01-15 00:00:00                     6.055403   \n",
       "1  2016-01-15 01:00:00                     6.029369   \n",
       "2  2016-01-15 02:00:00                     6.055926   \n",
       "3  2016-01-15 03:00:00                     6.047977   \n",
       "4  2016-01-15 04:00:00                     6.148599   \n",
       "\n",
       "   final.output.concentrate_pb  final.output.concentrate_sol  \\\n",
       "0                     9.889648                      5.507324   \n",
       "1                     9.968944                      5.257781   \n",
       "2                    10.213995                      5.383759   \n",
       "3                     9.977019                      4.858634   \n",
       "4                    10.142511                      4.939416   \n",
       "\n",
       "   final.output.concentrate_au  final.output.recovery  final.output.tail_ag  \\\n",
       "0                    42.192020              70.541216             10.411962   \n",
       "1                    42.701629              69.266198             10.462676   \n",
       "2                    42.657501              68.116445             10.507046   \n",
       "3                    42.689819              68.347543             10.422762   \n",
       "4                    42.774141              66.927016             10.360302   \n",
       "\n",
       "   final.output.tail_pb  final.output.tail_sol  final.output.tail_au  ...  \\\n",
       "0              0.895447              16.904297              2.143149  ...   \n",
       "1              0.927452              16.634514              2.224930  ...   \n",
       "2              0.953716              16.208849              2.257889  ...   \n",
       "3              0.883763              16.532835              2.146849  ...   \n",
       "4              0.792826              16.525686              2.055292  ...   \n",
       "\n",
       "   secondary_cleaner.state.floatbank4_a_air  \\\n",
       "0                                 14.016835   \n",
       "1                                 13.992281   \n",
       "2                                 14.015015   \n",
       "3                                 14.036510   \n",
       "4                                 14.027298   \n",
       "\n",
       "   secondary_cleaner.state.floatbank4_a_level  \\\n",
       "0                                 -502.488007   \n",
       "1                                 -505.503262   \n",
       "2                                 -502.520901   \n",
       "3                                 -500.857308   \n",
       "4                                 -499.838632   \n",
       "\n",
       "   secondary_cleaner.state.floatbank4_b_air  \\\n",
       "0                                 12.099931   \n",
       "1                                 11.950531   \n",
       "2                                 11.912783   \n",
       "3                                 11.999550   \n",
       "4                                 11.953070   \n",
       "\n",
       "   secondary_cleaner.state.floatbank4_b_level  \\\n",
       "0                                 -504.715942   \n",
       "1                                 -501.331529   \n",
       "2                                 -501.133383   \n",
       "3                                 -501.193686   \n",
       "4                                 -501.053894   \n",
       "\n",
       "   secondary_cleaner.state.floatbank5_a_air  \\\n",
       "0                                  9.925633   \n",
       "1                                 10.039245   \n",
       "2                                 10.070913   \n",
       "3                                  9.970366   \n",
       "4                                  9.925709   \n",
       "\n",
       "   secondary_cleaner.state.floatbank5_a_level  \\\n",
       "0                                 -498.310211   \n",
       "1                                 -500.169983   \n",
       "2                                 -500.129135   \n",
       "3                                 -499.201640   \n",
       "4                                 -501.686727   \n",
       "\n",
       "   secondary_cleaner.state.floatbank5_b_air  \\\n",
       "0                                  8.079666   \n",
       "1                                  7.984757   \n",
       "2                                  8.013877   \n",
       "3                                  7.977324   \n",
       "4                                  7.894242   \n",
       "\n",
       "   secondary_cleaner.state.floatbank5_b_level  \\\n",
       "0                                 -500.470978   \n",
       "1                                 -500.582168   \n",
       "2                                 -500.517572   \n",
       "3                                 -500.255908   \n",
       "4                                 -500.356035   \n",
       "\n",
       "   secondary_cleaner.state.floatbank6_a_air  \\\n",
       "0                                 14.151341   \n",
       "1                                 13.998353   \n",
       "2                                 14.028663   \n",
       "3                                 14.005551   \n",
       "4                                 13.996647   \n",
       "\n",
       "   secondary_cleaner.state.floatbank6_a_level  \n",
       "0                                 -605.841980  \n",
       "1                                 -599.787184  \n",
       "2                                 -601.427363  \n",
       "3                                 -599.996129  \n",
       "4                                 -601.496691  \n",
       "\n",
       "[5 rows x 87 columns]"
      ]
     },
     "metadata": {},
     "output_type": "display_data"
    },
    {
     "name": "stdout",
     "output_type": "stream",
     "text": [
      "Тестовый датасэт\n"
     ]
    },
    {
     "data": {
      "text/html": [
       "<div>\n",
       "<style scoped>\n",
       "    .dataframe tbody tr th:only-of-type {\n",
       "        vertical-align: middle;\n",
       "    }\n",
       "\n",
       "    .dataframe tbody tr th {\n",
       "        vertical-align: top;\n",
       "    }\n",
       "\n",
       "    .dataframe thead th {\n",
       "        text-align: right;\n",
       "    }\n",
       "</style>\n",
       "<table border=\"1\" class=\"dataframe\">\n",
       "  <thead>\n",
       "    <tr style=\"text-align: right;\">\n",
       "      <th></th>\n",
       "      <th>date</th>\n",
       "      <th>primary_cleaner.input.sulfate</th>\n",
       "      <th>primary_cleaner.input.depressant</th>\n",
       "      <th>primary_cleaner.input.feed_size</th>\n",
       "      <th>primary_cleaner.input.xanthate</th>\n",
       "      <th>primary_cleaner.state.floatbank8_a_air</th>\n",
       "      <th>primary_cleaner.state.floatbank8_a_level</th>\n",
       "      <th>primary_cleaner.state.floatbank8_b_air</th>\n",
       "      <th>primary_cleaner.state.floatbank8_b_level</th>\n",
       "      <th>primary_cleaner.state.floatbank8_c_air</th>\n",
       "      <th>...</th>\n",
       "      <th>secondary_cleaner.state.floatbank4_a_air</th>\n",
       "      <th>secondary_cleaner.state.floatbank4_a_level</th>\n",
       "      <th>secondary_cleaner.state.floatbank4_b_air</th>\n",
       "      <th>secondary_cleaner.state.floatbank4_b_level</th>\n",
       "      <th>secondary_cleaner.state.floatbank5_a_air</th>\n",
       "      <th>secondary_cleaner.state.floatbank5_a_level</th>\n",
       "      <th>secondary_cleaner.state.floatbank5_b_air</th>\n",
       "      <th>secondary_cleaner.state.floatbank5_b_level</th>\n",
       "      <th>secondary_cleaner.state.floatbank6_a_air</th>\n",
       "      <th>secondary_cleaner.state.floatbank6_a_level</th>\n",
       "    </tr>\n",
       "  </thead>\n",
       "  <tbody>\n",
       "    <tr>\n",
       "      <th>0</th>\n",
       "      <td>2016-09-01 00:59:59</td>\n",
       "      <td>210.800909</td>\n",
       "      <td>14.993118</td>\n",
       "      <td>8.080000</td>\n",
       "      <td>1.005021</td>\n",
       "      <td>1398.981301</td>\n",
       "      <td>-500.225577</td>\n",
       "      <td>1399.144926</td>\n",
       "      <td>-499.919735</td>\n",
       "      <td>1400.102998</td>\n",
       "      <td>...</td>\n",
       "      <td>12.023554</td>\n",
       "      <td>-497.795834</td>\n",
       "      <td>8.016656</td>\n",
       "      <td>-501.289139</td>\n",
       "      <td>7.946562</td>\n",
       "      <td>-432.317850</td>\n",
       "      <td>4.872511</td>\n",
       "      <td>-500.037437</td>\n",
       "      <td>26.705889</td>\n",
       "      <td>-499.709414</td>\n",
       "    </tr>\n",
       "    <tr>\n",
       "      <th>1</th>\n",
       "      <td>2016-09-01 01:59:59</td>\n",
       "      <td>215.392455</td>\n",
       "      <td>14.987471</td>\n",
       "      <td>8.080000</td>\n",
       "      <td>0.990469</td>\n",
       "      <td>1398.777912</td>\n",
       "      <td>-500.057435</td>\n",
       "      <td>1398.055362</td>\n",
       "      <td>-499.778182</td>\n",
       "      <td>1396.151033</td>\n",
       "      <td>...</td>\n",
       "      <td>12.058140</td>\n",
       "      <td>-498.695773</td>\n",
       "      <td>8.130979</td>\n",
       "      <td>-499.634209</td>\n",
       "      <td>7.958270</td>\n",
       "      <td>-525.839648</td>\n",
       "      <td>4.878850</td>\n",
       "      <td>-500.162375</td>\n",
       "      <td>25.019940</td>\n",
       "      <td>-499.819438</td>\n",
       "    </tr>\n",
       "    <tr>\n",
       "      <th>2</th>\n",
       "      <td>2016-09-01 02:59:59</td>\n",
       "      <td>215.259946</td>\n",
       "      <td>12.884934</td>\n",
       "      <td>7.786667</td>\n",
       "      <td>0.996043</td>\n",
       "      <td>1398.493666</td>\n",
       "      <td>-500.868360</td>\n",
       "      <td>1398.860436</td>\n",
       "      <td>-499.764529</td>\n",
       "      <td>1398.075709</td>\n",
       "      <td>...</td>\n",
       "      <td>11.962366</td>\n",
       "      <td>-498.767484</td>\n",
       "      <td>8.096893</td>\n",
       "      <td>-500.827423</td>\n",
       "      <td>8.071056</td>\n",
       "      <td>-500.801673</td>\n",
       "      <td>4.905125</td>\n",
       "      <td>-499.828510</td>\n",
       "      <td>24.994862</td>\n",
       "      <td>-500.622559</td>\n",
       "    </tr>\n",
       "    <tr>\n",
       "      <th>3</th>\n",
       "      <td>2016-09-01 03:59:59</td>\n",
       "      <td>215.336236</td>\n",
       "      <td>12.006805</td>\n",
       "      <td>7.640000</td>\n",
       "      <td>0.863514</td>\n",
       "      <td>1399.618111</td>\n",
       "      <td>-498.863574</td>\n",
       "      <td>1397.440120</td>\n",
       "      <td>-499.211024</td>\n",
       "      <td>1400.129303</td>\n",
       "      <td>...</td>\n",
       "      <td>12.033091</td>\n",
       "      <td>-498.350935</td>\n",
       "      <td>8.074946</td>\n",
       "      <td>-499.474407</td>\n",
       "      <td>7.897085</td>\n",
       "      <td>-500.868509</td>\n",
       "      <td>4.931400</td>\n",
       "      <td>-499.963623</td>\n",
       "      <td>24.948919</td>\n",
       "      <td>-498.709987</td>\n",
       "    </tr>\n",
       "    <tr>\n",
       "      <th>4</th>\n",
       "      <td>2016-09-01 04:59:59</td>\n",
       "      <td>199.099327</td>\n",
       "      <td>10.682530</td>\n",
       "      <td>7.530000</td>\n",
       "      <td>0.805575</td>\n",
       "      <td>1401.268123</td>\n",
       "      <td>-500.808305</td>\n",
       "      <td>1398.128818</td>\n",
       "      <td>-499.504543</td>\n",
       "      <td>1402.172226</td>\n",
       "      <td>...</td>\n",
       "      <td>12.025367</td>\n",
       "      <td>-500.786497</td>\n",
       "      <td>8.054678</td>\n",
       "      <td>-500.397500</td>\n",
       "      <td>8.107890</td>\n",
       "      <td>-509.526725</td>\n",
       "      <td>4.957674</td>\n",
       "      <td>-500.360026</td>\n",
       "      <td>25.003331</td>\n",
       "      <td>-500.856333</td>\n",
       "    </tr>\n",
       "  </tbody>\n",
       "</table>\n",
       "<p>5 rows × 53 columns</p>\n",
       "</div>"
      ],
      "text/plain": [
       "                  date  primary_cleaner.input.sulfate  \\\n",
       "0  2016-09-01 00:59:59                     210.800909   \n",
       "1  2016-09-01 01:59:59                     215.392455   \n",
       "2  2016-09-01 02:59:59                     215.259946   \n",
       "3  2016-09-01 03:59:59                     215.336236   \n",
       "4  2016-09-01 04:59:59                     199.099327   \n",
       "\n",
       "   primary_cleaner.input.depressant  primary_cleaner.input.feed_size  \\\n",
       "0                         14.993118                         8.080000   \n",
       "1                         14.987471                         8.080000   \n",
       "2                         12.884934                         7.786667   \n",
       "3                         12.006805                         7.640000   \n",
       "4                         10.682530                         7.530000   \n",
       "\n",
       "   primary_cleaner.input.xanthate  primary_cleaner.state.floatbank8_a_air  \\\n",
       "0                        1.005021                             1398.981301   \n",
       "1                        0.990469                             1398.777912   \n",
       "2                        0.996043                             1398.493666   \n",
       "3                        0.863514                             1399.618111   \n",
       "4                        0.805575                             1401.268123   \n",
       "\n",
       "   primary_cleaner.state.floatbank8_a_level  \\\n",
       "0                               -500.225577   \n",
       "1                               -500.057435   \n",
       "2                               -500.868360   \n",
       "3                               -498.863574   \n",
       "4                               -500.808305   \n",
       "\n",
       "   primary_cleaner.state.floatbank8_b_air  \\\n",
       "0                             1399.144926   \n",
       "1                             1398.055362   \n",
       "2                             1398.860436   \n",
       "3                             1397.440120   \n",
       "4                             1398.128818   \n",
       "\n",
       "   primary_cleaner.state.floatbank8_b_level  \\\n",
       "0                               -499.919735   \n",
       "1                               -499.778182   \n",
       "2                               -499.764529   \n",
       "3                               -499.211024   \n",
       "4                               -499.504543   \n",
       "\n",
       "   primary_cleaner.state.floatbank8_c_air  ...  \\\n",
       "0                             1400.102998  ...   \n",
       "1                             1396.151033  ...   \n",
       "2                             1398.075709  ...   \n",
       "3                             1400.129303  ...   \n",
       "4                             1402.172226  ...   \n",
       "\n",
       "   secondary_cleaner.state.floatbank4_a_air  \\\n",
       "0                                 12.023554   \n",
       "1                                 12.058140   \n",
       "2                                 11.962366   \n",
       "3                                 12.033091   \n",
       "4                                 12.025367   \n",
       "\n",
       "   secondary_cleaner.state.floatbank4_a_level  \\\n",
       "0                                 -497.795834   \n",
       "1                                 -498.695773   \n",
       "2                                 -498.767484   \n",
       "3                                 -498.350935   \n",
       "4                                 -500.786497   \n",
       "\n",
       "   secondary_cleaner.state.floatbank4_b_air  \\\n",
       "0                                  8.016656   \n",
       "1                                  8.130979   \n",
       "2                                  8.096893   \n",
       "3                                  8.074946   \n",
       "4                                  8.054678   \n",
       "\n",
       "   secondary_cleaner.state.floatbank4_b_level  \\\n",
       "0                                 -501.289139   \n",
       "1                                 -499.634209   \n",
       "2                                 -500.827423   \n",
       "3                                 -499.474407   \n",
       "4                                 -500.397500   \n",
       "\n",
       "   secondary_cleaner.state.floatbank5_a_air  \\\n",
       "0                                  7.946562   \n",
       "1                                  7.958270   \n",
       "2                                  8.071056   \n",
       "3                                  7.897085   \n",
       "4                                  8.107890   \n",
       "\n",
       "   secondary_cleaner.state.floatbank5_a_level  \\\n",
       "0                                 -432.317850   \n",
       "1                                 -525.839648   \n",
       "2                                 -500.801673   \n",
       "3                                 -500.868509   \n",
       "4                                 -509.526725   \n",
       "\n",
       "   secondary_cleaner.state.floatbank5_b_air  \\\n",
       "0                                  4.872511   \n",
       "1                                  4.878850   \n",
       "2                                  4.905125   \n",
       "3                                  4.931400   \n",
       "4                                  4.957674   \n",
       "\n",
       "   secondary_cleaner.state.floatbank5_b_level  \\\n",
       "0                                 -500.037437   \n",
       "1                                 -500.162375   \n",
       "2                                 -499.828510   \n",
       "3                                 -499.963623   \n",
       "4                                 -500.360026   \n",
       "\n",
       "   secondary_cleaner.state.floatbank6_a_air  \\\n",
       "0                                 26.705889   \n",
       "1                                 25.019940   \n",
       "2                                 24.994862   \n",
       "3                                 24.948919   \n",
       "4                                 25.003331   \n",
       "\n",
       "   secondary_cleaner.state.floatbank6_a_level  \n",
       "0                                 -499.709414  \n",
       "1                                 -499.819438  \n",
       "2                                 -500.622559  \n",
       "3                                 -498.709987  \n",
       "4                                 -500.856333  \n",
       "\n",
       "[5 rows x 53 columns]"
      ]
     },
     "metadata": {},
     "output_type": "display_data"
    },
    {
     "name": "stdout",
     "output_type": "stream",
     "text": [
      "Полный датасэт\n"
     ]
    },
    {
     "data": {
      "text/html": [
       "<div>\n",
       "<style scoped>\n",
       "    .dataframe tbody tr th:only-of-type {\n",
       "        vertical-align: middle;\n",
       "    }\n",
       "\n",
       "    .dataframe tbody tr th {\n",
       "        vertical-align: top;\n",
       "    }\n",
       "\n",
       "    .dataframe thead th {\n",
       "        text-align: right;\n",
       "    }\n",
       "</style>\n",
       "<table border=\"1\" class=\"dataframe\">\n",
       "  <thead>\n",
       "    <tr style=\"text-align: right;\">\n",
       "      <th></th>\n",
       "      <th>date</th>\n",
       "      <th>final.output.concentrate_ag</th>\n",
       "      <th>final.output.concentrate_pb</th>\n",
       "      <th>final.output.concentrate_sol</th>\n",
       "      <th>final.output.concentrate_au</th>\n",
       "      <th>final.output.recovery</th>\n",
       "      <th>final.output.tail_ag</th>\n",
       "      <th>final.output.tail_pb</th>\n",
       "      <th>final.output.tail_sol</th>\n",
       "      <th>final.output.tail_au</th>\n",
       "      <th>...</th>\n",
       "      <th>secondary_cleaner.state.floatbank4_a_air</th>\n",
       "      <th>secondary_cleaner.state.floatbank4_a_level</th>\n",
       "      <th>secondary_cleaner.state.floatbank4_b_air</th>\n",
       "      <th>secondary_cleaner.state.floatbank4_b_level</th>\n",
       "      <th>secondary_cleaner.state.floatbank5_a_air</th>\n",
       "      <th>secondary_cleaner.state.floatbank5_a_level</th>\n",
       "      <th>secondary_cleaner.state.floatbank5_b_air</th>\n",
       "      <th>secondary_cleaner.state.floatbank5_b_level</th>\n",
       "      <th>secondary_cleaner.state.floatbank6_a_air</th>\n",
       "      <th>secondary_cleaner.state.floatbank6_a_level</th>\n",
       "    </tr>\n",
       "  </thead>\n",
       "  <tbody>\n",
       "    <tr>\n",
       "      <th>0</th>\n",
       "      <td>2016-01-15 00:00:00</td>\n",
       "      <td>6.055403</td>\n",
       "      <td>9.889648</td>\n",
       "      <td>5.507324</td>\n",
       "      <td>42.192020</td>\n",
       "      <td>70.541216</td>\n",
       "      <td>10.411962</td>\n",
       "      <td>0.895447</td>\n",
       "      <td>16.904297</td>\n",
       "      <td>2.143149</td>\n",
       "      <td>...</td>\n",
       "      <td>14.016835</td>\n",
       "      <td>-502.488007</td>\n",
       "      <td>12.099931</td>\n",
       "      <td>-504.715942</td>\n",
       "      <td>9.925633</td>\n",
       "      <td>-498.310211</td>\n",
       "      <td>8.079666</td>\n",
       "      <td>-500.470978</td>\n",
       "      <td>14.151341</td>\n",
       "      <td>-605.841980</td>\n",
       "    </tr>\n",
       "    <tr>\n",
       "      <th>1</th>\n",
       "      <td>2016-01-15 01:00:00</td>\n",
       "      <td>6.029369</td>\n",
       "      <td>9.968944</td>\n",
       "      <td>5.257781</td>\n",
       "      <td>42.701629</td>\n",
       "      <td>69.266198</td>\n",
       "      <td>10.462676</td>\n",
       "      <td>0.927452</td>\n",
       "      <td>16.634514</td>\n",
       "      <td>2.224930</td>\n",
       "      <td>...</td>\n",
       "      <td>13.992281</td>\n",
       "      <td>-505.503262</td>\n",
       "      <td>11.950531</td>\n",
       "      <td>-501.331529</td>\n",
       "      <td>10.039245</td>\n",
       "      <td>-500.169983</td>\n",
       "      <td>7.984757</td>\n",
       "      <td>-500.582168</td>\n",
       "      <td>13.998353</td>\n",
       "      <td>-599.787184</td>\n",
       "    </tr>\n",
       "    <tr>\n",
       "      <th>2</th>\n",
       "      <td>2016-01-15 02:00:00</td>\n",
       "      <td>6.055926</td>\n",
       "      <td>10.213995</td>\n",
       "      <td>5.383759</td>\n",
       "      <td>42.657501</td>\n",
       "      <td>68.116445</td>\n",
       "      <td>10.507046</td>\n",
       "      <td>0.953716</td>\n",
       "      <td>16.208849</td>\n",
       "      <td>2.257889</td>\n",
       "      <td>...</td>\n",
       "      <td>14.015015</td>\n",
       "      <td>-502.520901</td>\n",
       "      <td>11.912783</td>\n",
       "      <td>-501.133383</td>\n",
       "      <td>10.070913</td>\n",
       "      <td>-500.129135</td>\n",
       "      <td>8.013877</td>\n",
       "      <td>-500.517572</td>\n",
       "      <td>14.028663</td>\n",
       "      <td>-601.427363</td>\n",
       "    </tr>\n",
       "    <tr>\n",
       "      <th>3</th>\n",
       "      <td>2016-01-15 03:00:00</td>\n",
       "      <td>6.047977</td>\n",
       "      <td>9.977019</td>\n",
       "      <td>4.858634</td>\n",
       "      <td>42.689819</td>\n",
       "      <td>68.347543</td>\n",
       "      <td>10.422762</td>\n",
       "      <td>0.883763</td>\n",
       "      <td>16.532835</td>\n",
       "      <td>2.146849</td>\n",
       "      <td>...</td>\n",
       "      <td>14.036510</td>\n",
       "      <td>-500.857308</td>\n",
       "      <td>11.999550</td>\n",
       "      <td>-501.193686</td>\n",
       "      <td>9.970366</td>\n",
       "      <td>-499.201640</td>\n",
       "      <td>7.977324</td>\n",
       "      <td>-500.255908</td>\n",
       "      <td>14.005551</td>\n",
       "      <td>-599.996129</td>\n",
       "    </tr>\n",
       "    <tr>\n",
       "      <th>4</th>\n",
       "      <td>2016-01-15 04:00:00</td>\n",
       "      <td>6.148599</td>\n",
       "      <td>10.142511</td>\n",
       "      <td>4.939416</td>\n",
       "      <td>42.774141</td>\n",
       "      <td>66.927016</td>\n",
       "      <td>10.360302</td>\n",
       "      <td>0.792826</td>\n",
       "      <td>16.525686</td>\n",
       "      <td>2.055292</td>\n",
       "      <td>...</td>\n",
       "      <td>14.027298</td>\n",
       "      <td>-499.838632</td>\n",
       "      <td>11.953070</td>\n",
       "      <td>-501.053894</td>\n",
       "      <td>9.925709</td>\n",
       "      <td>-501.686727</td>\n",
       "      <td>7.894242</td>\n",
       "      <td>-500.356035</td>\n",
       "      <td>13.996647</td>\n",
       "      <td>-601.496691</td>\n",
       "    </tr>\n",
       "  </tbody>\n",
       "</table>\n",
       "<p>5 rows × 87 columns</p>\n",
       "</div>"
      ],
      "text/plain": [
       "                  date  final.output.concentrate_ag  \\\n",
       "0  2016-01-15 00:00:00                     6.055403   \n",
       "1  2016-01-15 01:00:00                     6.029369   \n",
       "2  2016-01-15 02:00:00                     6.055926   \n",
       "3  2016-01-15 03:00:00                     6.047977   \n",
       "4  2016-01-15 04:00:00                     6.148599   \n",
       "\n",
       "   final.output.concentrate_pb  final.output.concentrate_sol  \\\n",
       "0                     9.889648                      5.507324   \n",
       "1                     9.968944                      5.257781   \n",
       "2                    10.213995                      5.383759   \n",
       "3                     9.977019                      4.858634   \n",
       "4                    10.142511                      4.939416   \n",
       "\n",
       "   final.output.concentrate_au  final.output.recovery  final.output.tail_ag  \\\n",
       "0                    42.192020              70.541216             10.411962   \n",
       "1                    42.701629              69.266198             10.462676   \n",
       "2                    42.657501              68.116445             10.507046   \n",
       "3                    42.689819              68.347543             10.422762   \n",
       "4                    42.774141              66.927016             10.360302   \n",
       "\n",
       "   final.output.tail_pb  final.output.tail_sol  final.output.tail_au  ...  \\\n",
       "0              0.895447              16.904297              2.143149  ...   \n",
       "1              0.927452              16.634514              2.224930  ...   \n",
       "2              0.953716              16.208849              2.257889  ...   \n",
       "3              0.883763              16.532835              2.146849  ...   \n",
       "4              0.792826              16.525686              2.055292  ...   \n",
       "\n",
       "   secondary_cleaner.state.floatbank4_a_air  \\\n",
       "0                                 14.016835   \n",
       "1                                 13.992281   \n",
       "2                                 14.015015   \n",
       "3                                 14.036510   \n",
       "4                                 14.027298   \n",
       "\n",
       "   secondary_cleaner.state.floatbank4_a_level  \\\n",
       "0                                 -502.488007   \n",
       "1                                 -505.503262   \n",
       "2                                 -502.520901   \n",
       "3                                 -500.857308   \n",
       "4                                 -499.838632   \n",
       "\n",
       "   secondary_cleaner.state.floatbank4_b_air  \\\n",
       "0                                 12.099931   \n",
       "1                                 11.950531   \n",
       "2                                 11.912783   \n",
       "3                                 11.999550   \n",
       "4                                 11.953070   \n",
       "\n",
       "   secondary_cleaner.state.floatbank4_b_level  \\\n",
       "0                                 -504.715942   \n",
       "1                                 -501.331529   \n",
       "2                                 -501.133383   \n",
       "3                                 -501.193686   \n",
       "4                                 -501.053894   \n",
       "\n",
       "   secondary_cleaner.state.floatbank5_a_air  \\\n",
       "0                                  9.925633   \n",
       "1                                 10.039245   \n",
       "2                                 10.070913   \n",
       "3                                  9.970366   \n",
       "4                                  9.925709   \n",
       "\n",
       "   secondary_cleaner.state.floatbank5_a_level  \\\n",
       "0                                 -498.310211   \n",
       "1                                 -500.169983   \n",
       "2                                 -500.129135   \n",
       "3                                 -499.201640   \n",
       "4                                 -501.686727   \n",
       "\n",
       "   secondary_cleaner.state.floatbank5_b_air  \\\n",
       "0                                  8.079666   \n",
       "1                                  7.984757   \n",
       "2                                  8.013877   \n",
       "3                                  7.977324   \n",
       "4                                  7.894242   \n",
       "\n",
       "   secondary_cleaner.state.floatbank5_b_level  \\\n",
       "0                                 -500.470978   \n",
       "1                                 -500.582168   \n",
       "2                                 -500.517572   \n",
       "3                                 -500.255908   \n",
       "4                                 -500.356035   \n",
       "\n",
       "   secondary_cleaner.state.floatbank6_a_air  \\\n",
       "0                                 14.151341   \n",
       "1                                 13.998353   \n",
       "2                                 14.028663   \n",
       "3                                 14.005551   \n",
       "4                                 13.996647   \n",
       "\n",
       "   secondary_cleaner.state.floatbank6_a_level  \n",
       "0                                 -605.841980  \n",
       "1                                 -599.787184  \n",
       "2                                 -601.427363  \n",
       "3                                 -599.996129  \n",
       "4                                 -601.496691  \n",
       "\n",
       "[5 rows x 87 columns]"
      ]
     },
     "metadata": {},
     "output_type": "display_data"
    }
   ],
   "source": [
    "print(f'Тренировочный датасэт'), display(gold_train.head());\n",
    "print(f'Тестовый датасэт'), display(gold_test.head());\n",
    "print(f'Полный датасэт'), display(gold_full.head());"
   ]
  },
  {
   "cell_type": "markdown",
   "metadata": {},
   "source": [
    "<div class=\"alert alert-block alert-success\">\n",
    "<b>Успех:</b> Данные загружены и осмотрены корректно.\n",
    "</div>"
   ]
  },
  {
   "cell_type": "markdown",
   "metadata": {},
   "source": [
    "### Проверить, что эффективность обогощения расcчитана правильно. Вычислим её на обучающей выборке для признака rougher.output.recovery. Найдём MAE между нашими расчётами и значением признака. Опишем выводы."
   ]
  },
  {
   "cell_type": "code",
   "execution_count": 4,
   "metadata": {},
   "outputs": [
    {
     "name": "stdout",
     "output_type": "stream",
     "text": [
      "0        87.107763\n",
      "1        86.843261\n",
      "2        86.842308\n",
      "3        87.226430\n",
      "4        86.688794\n",
      "           ...    \n",
      "14144    89.574376\n",
      "14145    87.724007\n",
      "14146    88.890579\n",
      "14147    89.858126\n",
      "14148    89.514960\n",
      "Name: rougher.output.recovery, Length: 14149, dtype: float64\n"
     ]
    }
   ],
   "source": [
    "print(gold_train['rougher.output.recovery'])"
   ]
  },
  {
   "cell_type": "code",
   "execution_count": 5,
   "metadata": {},
   "outputs": [],
   "source": [
    "recovery = gold_train\n",
    "recovery = recovery.dropna().reset_index() \n",
    "rougher_output_recovery = recovery['rougher.output.recovery']\n",
    "rougher_output_tail_au = recovery['rougher.output.tail_au']\n",
    "rougher_input_feed_au = recovery['rougher.input.feed_au']\n",
    "rougher_output_concentrate_au = recovery['rougher.output.concentrate_au']"
   ]
  },
  {
   "cell_type": "code",
   "execution_count": 6,
   "metadata": {},
   "outputs": [],
   "source": [
    "# Создадим функцию Эффективности обогащения\n",
    "def calc_rougher_output_recovery(rougher_output_concentrate,rougher_input_feed,rougher_output_tail):\n",
    "    calc_rougher_output_recovery=((rougher_output_concentrate_au*(rougher_input_feed_au-rougher_output_tail_au))/(rougher_input_feed_au*(rougher_output_concentrate_au-rougher_output_tail_au)))*100\n",
    "    return calc_rougher_output_recovery"
   ]
  },
  {
   "cell_type": "code",
   "execution_count": 7,
   "metadata": {},
   "outputs": [],
   "source": [
    "calc_rougher_output_recovery=calc_rougher_output_recovery(rougher_output_concentrate_au,rougher_input_feed_au,rougher_output_tail_au)"
   ]
  },
  {
   "cell_type": "code",
   "execution_count": 8,
   "metadata": {},
   "outputs": [
    {
     "data": {
      "text/plain": [
       "0        87.107763\n",
       "1        86.843261\n",
       "2        86.842308\n",
       "3        87.226430\n",
       "4        86.688794\n",
       "           ...    \n",
       "11012    89.574376\n",
       "11013    87.724007\n",
       "11014    88.890579\n",
       "11015    89.858126\n",
       "11016    89.514960\n",
       "Name: rougher.output.recovery, Length: 11017, dtype: float64"
      ]
     },
     "execution_count": 8,
     "metadata": {},
     "output_type": "execute_result"
    }
   ],
   "source": [
    "rougher_output_recovery"
   ]
  },
  {
   "cell_type": "code",
   "execution_count": 9,
   "metadata": {},
   "outputs": [
    {
     "data": {
      "text/plain": [
       "0        87.107763\n",
       "1        86.843261\n",
       "2        86.842308\n",
       "3        87.226430\n",
       "4        86.688794\n",
       "           ...    \n",
       "11012    89.574376\n",
       "11013    87.724007\n",
       "11014    88.890579\n",
       "11015    89.858126\n",
       "11016    89.514960\n",
       "Length: 11017, dtype: float64"
      ]
     },
     "execution_count": 9,
     "metadata": {},
     "output_type": "execute_result"
    }
   ],
   "source": [
    "calc_rougher_output_recovery"
   ]
  },
  {
   "cell_type": "markdown",
   "metadata": {},
   "source": [
    "Найдём MAE между нашими расчётами и значениями признака. Опишим выводы."
   ]
  },
  {
   "cell_type": "code",
   "execution_count": 10,
   "metadata": {},
   "outputs": [
    {
     "name": "stdout",
     "output_type": "stream",
     "text": [
      "9.82970122149377e-15\n"
     ]
    }
   ],
   "source": [
    "MAE = mean_absolute_error(rougher_output_recovery,calc_rougher_output_recovery)\n",
    "print(MAE)"
   ]
  },
  {
   "cell_type": "markdown",
   "metadata": {},
   "source": [
    "# ВЫВОД: MAE - 9,82, значения посчитаны верно!"
   ]
  },
  {
   "cell_type": "markdown",
   "metadata": {},
   "source": [
    "<div class=\"alert alert-block alert-success\">\n",
    "<b>Успех:</b> Абсолютно верно!\n",
    "</div>"
   ]
  },
  {
   "cell_type": "markdown",
   "metadata": {},
   "source": [
    "### Проанализируем признаки, недоступные в тестовой выборке. Что это за параметры? К какому типу относятся?"
   ]
  },
  {
   "cell_type": "code",
   "execution_count": 11,
   "metadata": {},
   "outputs": [
    {
     "data": {
      "text/plain": [
       "13                          final.output.concentrate_ag\n",
       "11                          final.output.concentrate_au\n",
       "17                          final.output.concentrate_pb\n",
       "21                         final.output.concentrate_sol\n",
       "30                                final.output.recovery\n",
       "3                                  final.output.tail_ag\n",
       "31                                 final.output.tail_au\n",
       "7                                  final.output.tail_pb\n",
       "6                                 final.output.tail_sol\n",
       "4                 primary_cleaner.output.concentrate_ag\n",
       "16                primary_cleaner.output.concentrate_au\n",
       "19                primary_cleaner.output.concentrate_pb\n",
       "29               primary_cleaner.output.concentrate_sol\n",
       "27                       primary_cleaner.output.tail_ag\n",
       "18                       primary_cleaner.output.tail_au\n",
       "24                       primary_cleaner.output.tail_pb\n",
       "28                      primary_cleaner.output.tail_sol\n",
       "15                      rougher.calculation.au_pb_ratio\n",
       "22    rougher.calculation.floatbank10_sulfate_to_au_...\n",
       "14    rougher.calculation.floatbank11_sulfate_to_au_...\n",
       "2         rougher.calculation.sulfate_to_au_concentrate\n",
       "23                        rougher.output.concentrate_ag\n",
       "26                        rougher.output.concentrate_au\n",
       "12                        rougher.output.concentrate_pb\n",
       "10                       rougher.output.concentrate_sol\n",
       "0                               rougher.output.recovery\n",
       "20                               rougher.output.tail_ag\n",
       "9                                rougher.output.tail_au\n",
       "1                                rougher.output.tail_pb\n",
       "32                              rougher.output.tail_sol\n",
       "25                     secondary_cleaner.output.tail_ag\n",
       "5                      secondary_cleaner.output.tail_au\n",
       "33                     secondary_cleaner.output.tail_pb\n",
       "8                     secondary_cleaner.output.tail_sol\n",
       "dtype: object"
      ]
     },
     "execution_count": 11,
     "metadata": {},
     "output_type": "execute_result"
    }
   ],
   "source": [
    "gold_test_columns=gold_test.columns # Признаки в тестовой выборке\n",
    "gold_full_columns=gold_full.columns # Признаки в полной выборке\n",
    "column_difference=list(set(gold_full_columns)-set(gold_test_columns)) # Разница признаков\n",
    "\n",
    "column_difference=pd.Series(column_difference)\n",
    "column_difference.sort_values()"
   ]
  },
  {
   "cell_type": "markdown",
   "metadata": {},
   "source": [
    "# Вывод: Здесь все признаки которые можно сделать целевыми и предсказывать по ним. Также присутствуют и наши целевые признаки final.output.recovery и rougher.output.recovery. Данные относятся к типу object и они пригодятся нам для подсчёта sMAPE."
   ]
  },
  {
   "cell_type": "markdown",
   "metadata": {},
   "source": [
    "### Проведём предобработку данных"
   ]
  },
  {
   "cell_type": "code",
   "execution_count": 12,
   "metadata": {},
   "outputs": [
    {
     "name": "stdout",
     "output_type": "stream",
     "text": [
      "date                                            0\n",
      "final.output.concentrate_ag                     1\n",
      "final.output.concentrate_pb                     1\n",
      "final.output.concentrate_sol                  211\n",
      "final.output.concentrate_au                     0\n",
      "                                             ... \n",
      "secondary_cleaner.state.floatbank5_a_level      1\n",
      "secondary_cleaner.state.floatbank5_b_air        1\n",
      "secondary_cleaner.state.floatbank5_b_level      1\n",
      "secondary_cleaner.state.floatbank6_a_air        2\n",
      "secondary_cleaner.state.floatbank6_a_level      1\n",
      "Length: 87, dtype: int64\n"
     ]
    }
   ],
   "source": [
    "gold_train[gold_train['final.output.concentrate_pb'].isna()].head()\n",
    "\n",
    "print(gold_train.isna().sum())"
   ]
  },
  {
   "cell_type": "code",
   "execution_count": 13,
   "metadata": {},
   "outputs": [
    {
     "name": "stdout",
     "output_type": "stream",
     "text": [
      "date                                           0\n",
      "primary_cleaner.input.sulfate                  4\n",
      "primary_cleaner.input.depressant               5\n",
      "primary_cleaner.input.feed_size                0\n",
      "primary_cleaner.input.xanthate                 4\n",
      "primary_cleaner.state.floatbank8_a_air         0\n",
      "primary_cleaner.state.floatbank8_a_level       0\n",
      "primary_cleaner.state.floatbank8_b_air         0\n",
      "primary_cleaner.state.floatbank8_b_level       0\n",
      "primary_cleaner.state.floatbank8_c_air         0\n",
      "primary_cleaner.state.floatbank8_c_level       0\n",
      "primary_cleaner.state.floatbank8_d_air         0\n",
      "primary_cleaner.state.floatbank8_d_level       0\n",
      "rougher.input.feed_ag                          0\n",
      "rougher.input.feed_pb                          0\n",
      "rougher.input.feed_rate                        3\n",
      "rougher.input.feed_size                        1\n",
      "rougher.input.feed_sol                        21\n",
      "rougher.input.feed_au                          0\n",
      "rougher.input.floatbank10_sulfate              5\n",
      "rougher.input.floatbank10_xanthate             0\n",
      "rougher.input.floatbank11_sulfate              8\n",
      "rougher.input.floatbank11_xanthate            25\n",
      "rougher.state.floatbank10_a_air                0\n",
      "rougher.state.floatbank10_a_level              0\n",
      "rougher.state.floatbank10_b_air                0\n",
      "rougher.state.floatbank10_b_level              0\n",
      "rougher.state.floatbank10_c_air                0\n",
      "rougher.state.floatbank10_c_level              0\n",
      "rougher.state.floatbank10_d_air                0\n",
      "rougher.state.floatbank10_d_level              0\n",
      "rougher.state.floatbank10_e_air                0\n",
      "rougher.state.floatbank10_e_level              0\n",
      "rougher.state.floatbank10_f_air                0\n",
      "rougher.state.floatbank10_f_level              0\n",
      "secondary_cleaner.state.floatbank2_a_air       3\n",
      "secondary_cleaner.state.floatbank2_a_level     0\n",
      "secondary_cleaner.state.floatbank2_b_air       2\n",
      "secondary_cleaner.state.floatbank2_b_level     0\n",
      "secondary_cleaner.state.floatbank3_a_air       9\n",
      "secondary_cleaner.state.floatbank3_a_level     0\n",
      "secondary_cleaner.state.floatbank3_b_air       0\n",
      "secondary_cleaner.state.floatbank3_b_level     0\n",
      "secondary_cleaner.state.floatbank4_a_air       0\n",
      "secondary_cleaner.state.floatbank4_a_level     0\n",
      "secondary_cleaner.state.floatbank4_b_air       0\n",
      "secondary_cleaner.state.floatbank4_b_level     0\n",
      "secondary_cleaner.state.floatbank5_a_air       0\n",
      "secondary_cleaner.state.floatbank5_a_level     0\n",
      "secondary_cleaner.state.floatbank5_b_air       0\n",
      "secondary_cleaner.state.floatbank5_b_level     0\n",
      "secondary_cleaner.state.floatbank6_a_air       0\n",
      "secondary_cleaner.state.floatbank6_a_level     0\n",
      "dtype: int64\n"
     ]
    }
   ],
   "source": [
    "gold_train.fillna(method='ffill', inplace=True)\n",
    "print(gold_test.isna().sum())"
   ]
  },
  {
   "cell_type": "code",
   "execution_count": 14,
   "metadata": {},
   "outputs": [
    {
     "name": "stdout",
     "output_type": "stream",
     "text": [
      "date                                           0\n",
      "primary_cleaner.input.sulfate                  4\n",
      "primary_cleaner.input.depressant               5\n",
      "primary_cleaner.input.feed_size                0\n",
      "primary_cleaner.input.xanthate                 4\n",
      "primary_cleaner.state.floatbank8_a_air         0\n",
      "primary_cleaner.state.floatbank8_a_level       0\n",
      "primary_cleaner.state.floatbank8_b_air         0\n",
      "primary_cleaner.state.floatbank8_b_level       0\n",
      "primary_cleaner.state.floatbank8_c_air         0\n",
      "primary_cleaner.state.floatbank8_c_level       0\n",
      "primary_cleaner.state.floatbank8_d_air         0\n",
      "primary_cleaner.state.floatbank8_d_level       0\n",
      "rougher.input.feed_ag                          0\n",
      "rougher.input.feed_pb                          0\n",
      "rougher.input.feed_rate                        3\n",
      "rougher.input.feed_size                        1\n",
      "rougher.input.feed_sol                        21\n",
      "rougher.input.feed_au                          0\n",
      "rougher.input.floatbank10_sulfate              5\n",
      "rougher.input.floatbank10_xanthate             0\n",
      "rougher.input.floatbank11_sulfate              8\n",
      "rougher.input.floatbank11_xanthate            25\n",
      "rougher.state.floatbank10_a_air                0\n",
      "rougher.state.floatbank10_a_level              0\n",
      "rougher.state.floatbank10_b_air                0\n",
      "rougher.state.floatbank10_b_level              0\n",
      "rougher.state.floatbank10_c_air                0\n",
      "rougher.state.floatbank10_c_level              0\n",
      "rougher.state.floatbank10_d_air                0\n",
      "rougher.state.floatbank10_d_level              0\n",
      "rougher.state.floatbank10_e_air                0\n",
      "rougher.state.floatbank10_e_level              0\n",
      "rougher.state.floatbank10_f_air                0\n",
      "rougher.state.floatbank10_f_level              0\n",
      "secondary_cleaner.state.floatbank2_a_air       3\n",
      "secondary_cleaner.state.floatbank2_a_level     0\n",
      "secondary_cleaner.state.floatbank2_b_air       2\n",
      "secondary_cleaner.state.floatbank2_b_level     0\n",
      "secondary_cleaner.state.floatbank3_a_air       9\n",
      "secondary_cleaner.state.floatbank3_a_level     0\n",
      "secondary_cleaner.state.floatbank3_b_air       0\n",
      "secondary_cleaner.state.floatbank3_b_level     0\n",
      "secondary_cleaner.state.floatbank4_a_air       0\n",
      "secondary_cleaner.state.floatbank4_a_level     0\n",
      "secondary_cleaner.state.floatbank4_b_air       0\n",
      "secondary_cleaner.state.floatbank4_b_level     0\n",
      "secondary_cleaner.state.floatbank5_a_air       0\n",
      "secondary_cleaner.state.floatbank5_a_level     0\n",
      "secondary_cleaner.state.floatbank5_b_air       0\n",
      "secondary_cleaner.state.floatbank5_b_level     0\n",
      "secondary_cleaner.state.floatbank6_a_air       0\n",
      "secondary_cleaner.state.floatbank6_a_level     0\n",
      "dtype: int64\n"
     ]
    }
   ],
   "source": [
    "print(gold_test.isna().sum())"
   ]
  },
  {
   "cell_type": "code",
   "execution_count": 15,
   "metadata": {},
   "outputs": [
    {
     "name": "stdout",
     "output_type": "stream",
     "text": [
      "date                                          0\n",
      "primary_cleaner.input.sulfate                 0\n",
      "primary_cleaner.input.depressant              0\n",
      "primary_cleaner.input.feed_size               0\n",
      "primary_cleaner.input.xanthate                0\n",
      "primary_cleaner.state.floatbank8_a_air        0\n",
      "primary_cleaner.state.floatbank8_a_level      0\n",
      "primary_cleaner.state.floatbank8_b_air        0\n",
      "primary_cleaner.state.floatbank8_b_level      0\n",
      "primary_cleaner.state.floatbank8_c_air        0\n",
      "primary_cleaner.state.floatbank8_c_level      0\n",
      "primary_cleaner.state.floatbank8_d_air        0\n",
      "primary_cleaner.state.floatbank8_d_level      0\n",
      "rougher.input.feed_ag                         0\n",
      "rougher.input.feed_pb                         0\n",
      "rougher.input.feed_rate                       0\n",
      "rougher.input.feed_size                       0\n",
      "rougher.input.feed_sol                        0\n",
      "rougher.input.feed_au                         0\n",
      "rougher.input.floatbank10_sulfate             0\n",
      "rougher.input.floatbank10_xanthate            0\n",
      "rougher.input.floatbank11_sulfate             0\n",
      "rougher.input.floatbank11_xanthate            0\n",
      "rougher.state.floatbank10_a_air               0\n",
      "rougher.state.floatbank10_a_level             0\n",
      "rougher.state.floatbank10_b_air               0\n",
      "rougher.state.floatbank10_b_level             0\n",
      "rougher.state.floatbank10_c_air               0\n",
      "rougher.state.floatbank10_c_level             0\n",
      "rougher.state.floatbank10_d_air               0\n",
      "rougher.state.floatbank10_d_level             0\n",
      "rougher.state.floatbank10_e_air               0\n",
      "rougher.state.floatbank10_e_level             0\n",
      "rougher.state.floatbank10_f_air               0\n",
      "rougher.state.floatbank10_f_level             0\n",
      "secondary_cleaner.state.floatbank2_a_air      0\n",
      "secondary_cleaner.state.floatbank2_a_level    0\n",
      "secondary_cleaner.state.floatbank2_b_air      0\n",
      "secondary_cleaner.state.floatbank2_b_level    0\n",
      "secondary_cleaner.state.floatbank3_a_air      0\n",
      "secondary_cleaner.state.floatbank3_a_level    0\n",
      "secondary_cleaner.state.floatbank3_b_air      0\n",
      "secondary_cleaner.state.floatbank3_b_level    0\n",
      "secondary_cleaner.state.floatbank4_a_air      0\n",
      "secondary_cleaner.state.floatbank4_a_level    0\n",
      "secondary_cleaner.state.floatbank4_b_air      0\n",
      "secondary_cleaner.state.floatbank4_b_level    0\n",
      "secondary_cleaner.state.floatbank5_a_air      0\n",
      "secondary_cleaner.state.floatbank5_a_level    0\n",
      "secondary_cleaner.state.floatbank5_b_air      0\n",
      "secondary_cleaner.state.floatbank5_b_level    0\n",
      "secondary_cleaner.state.floatbank6_a_air      0\n",
      "secondary_cleaner.state.floatbank6_a_level    0\n",
      "dtype: int64\n"
     ]
    }
   ],
   "source": [
    "gold_test.fillna(method='ffill', inplace=True)\n",
    "print(gold_test.isna().sum())"
   ]
  },
  {
   "cell_type": "code",
   "execution_count": 16,
   "metadata": {},
   "outputs": [
    {
     "name": "stdout",
     "output_type": "stream",
     "text": [
      "date                                            0\n",
      "final.output.concentrate_ag                     1\n",
      "final.output.concentrate_pb                     1\n",
      "final.output.concentrate_sol                  211\n",
      "final.output.concentrate_au                     0\n",
      "                                             ... \n",
      "secondary_cleaner.state.floatbank5_a_level      1\n",
      "secondary_cleaner.state.floatbank5_b_air        1\n",
      "secondary_cleaner.state.floatbank5_b_level      1\n",
      "secondary_cleaner.state.floatbank6_a_air        2\n",
      "secondary_cleaner.state.floatbank6_a_level      1\n",
      "Length: 87, dtype: int64\n"
     ]
    }
   ],
   "source": [
    "print(gold_full.isna().sum())"
   ]
  },
  {
   "cell_type": "code",
   "execution_count": 17,
   "metadata": {},
   "outputs": [
    {
     "name": "stdout",
     "output_type": "stream",
     "text": [
      "date                                          0\n",
      "primary_cleaner.input.sulfate                 0\n",
      "primary_cleaner.input.depressant              0\n",
      "primary_cleaner.input.feed_size               0\n",
      "primary_cleaner.input.xanthate                0\n",
      "primary_cleaner.state.floatbank8_a_air        0\n",
      "primary_cleaner.state.floatbank8_a_level      0\n",
      "primary_cleaner.state.floatbank8_b_air        0\n",
      "primary_cleaner.state.floatbank8_b_level      0\n",
      "primary_cleaner.state.floatbank8_c_air        0\n",
      "primary_cleaner.state.floatbank8_c_level      0\n",
      "primary_cleaner.state.floatbank8_d_air        0\n",
      "primary_cleaner.state.floatbank8_d_level      0\n",
      "rougher.input.feed_ag                         0\n",
      "rougher.input.feed_pb                         0\n",
      "rougher.input.feed_rate                       0\n",
      "rougher.input.feed_size                       0\n",
      "rougher.input.feed_sol                        0\n",
      "rougher.input.feed_au                         0\n",
      "rougher.input.floatbank10_sulfate             0\n",
      "rougher.input.floatbank10_xanthate            0\n",
      "rougher.input.floatbank11_sulfate             0\n",
      "rougher.input.floatbank11_xanthate            0\n",
      "rougher.state.floatbank10_a_air               0\n",
      "rougher.state.floatbank10_a_level             0\n",
      "rougher.state.floatbank10_b_air               0\n",
      "rougher.state.floatbank10_b_level             0\n",
      "rougher.state.floatbank10_c_air               0\n",
      "rougher.state.floatbank10_c_level             0\n",
      "rougher.state.floatbank10_d_air               0\n",
      "rougher.state.floatbank10_d_level             0\n",
      "rougher.state.floatbank10_e_air               0\n",
      "rougher.state.floatbank10_e_level             0\n",
      "rougher.state.floatbank10_f_air               0\n",
      "rougher.state.floatbank10_f_level             0\n",
      "secondary_cleaner.state.floatbank2_a_air      0\n",
      "secondary_cleaner.state.floatbank2_a_level    0\n",
      "secondary_cleaner.state.floatbank2_b_air      0\n",
      "secondary_cleaner.state.floatbank2_b_level    0\n",
      "secondary_cleaner.state.floatbank3_a_air      0\n",
      "secondary_cleaner.state.floatbank3_a_level    0\n",
      "secondary_cleaner.state.floatbank3_b_air      0\n",
      "secondary_cleaner.state.floatbank3_b_level    0\n",
      "secondary_cleaner.state.floatbank4_a_air      0\n",
      "secondary_cleaner.state.floatbank4_a_level    0\n",
      "secondary_cleaner.state.floatbank4_b_air      0\n",
      "secondary_cleaner.state.floatbank4_b_level    0\n",
      "secondary_cleaner.state.floatbank5_a_air      0\n",
      "secondary_cleaner.state.floatbank5_a_level    0\n",
      "secondary_cleaner.state.floatbank5_b_air      0\n",
      "secondary_cleaner.state.floatbank5_b_level    0\n",
      "secondary_cleaner.state.floatbank6_a_air      0\n",
      "secondary_cleaner.state.floatbank6_a_level    0\n",
      "dtype: int64\n"
     ]
    }
   ],
   "source": [
    "gold_full.fillna(method='ffill', inplace=True)\n",
    "print(gold_test.isna().sum())"
   ]
  },
  {
   "cell_type": "code",
   "execution_count": 18,
   "metadata": {},
   "outputs": [
    {
     "data": {
      "text/html": [
       "<div>\n",
       "<style scoped>\n",
       "    .dataframe tbody tr th:only-of-type {\n",
       "        vertical-align: middle;\n",
       "    }\n",
       "\n",
       "    .dataframe tbody tr th {\n",
       "        vertical-align: top;\n",
       "    }\n",
       "\n",
       "    .dataframe thead th {\n",
       "        text-align: right;\n",
       "    }\n",
       "</style>\n",
       "<table border=\"1\" class=\"dataframe\">\n",
       "  <thead>\n",
       "    <tr style=\"text-align: right;\">\n",
       "      <th></th>\n",
       "      <th>primary_cleaner.input.sulfate</th>\n",
       "      <th>primary_cleaner.input.depressant</th>\n",
       "      <th>primary_cleaner.input.feed_size</th>\n",
       "      <th>primary_cleaner.input.xanthate</th>\n",
       "      <th>primary_cleaner.state.floatbank8_a_air</th>\n",
       "      <th>primary_cleaner.state.floatbank8_a_level</th>\n",
       "      <th>primary_cleaner.state.floatbank8_b_air</th>\n",
       "      <th>primary_cleaner.state.floatbank8_b_level</th>\n",
       "      <th>primary_cleaner.state.floatbank8_c_air</th>\n",
       "      <th>primary_cleaner.state.floatbank8_c_level</th>\n",
       "      <th>...</th>\n",
       "      <th>secondary_cleaner.state.floatbank4_a_air</th>\n",
       "      <th>secondary_cleaner.state.floatbank4_a_level</th>\n",
       "      <th>secondary_cleaner.state.floatbank4_b_air</th>\n",
       "      <th>secondary_cleaner.state.floatbank4_b_level</th>\n",
       "      <th>secondary_cleaner.state.floatbank5_a_air</th>\n",
       "      <th>secondary_cleaner.state.floatbank5_a_level</th>\n",
       "      <th>secondary_cleaner.state.floatbank5_b_air</th>\n",
       "      <th>secondary_cleaner.state.floatbank5_b_level</th>\n",
       "      <th>secondary_cleaner.state.floatbank6_a_air</th>\n",
       "      <th>secondary_cleaner.state.floatbank6_a_level</th>\n",
       "    </tr>\n",
       "  </thead>\n",
       "  <tbody>\n",
       "    <tr>\n",
       "      <th>primary_cleaner.input.sulfate</th>\n",
       "      <td>1.000000</td>\n",
       "      <td>0.452138</td>\n",
       "      <td>0.114564</td>\n",
       "      <td>0.496786</td>\n",
       "      <td>0.100810</td>\n",
       "      <td>0.047802</td>\n",
       "      <td>0.074719</td>\n",
       "      <td>0.139819</td>\n",
       "      <td>0.024925</td>\n",
       "      <td>0.028155</td>\n",
       "      <td>...</td>\n",
       "      <td>0.305068</td>\n",
       "      <td>0.116753</td>\n",
       "      <td>0.347817</td>\n",
       "      <td>0.067733</td>\n",
       "      <td>0.093433</td>\n",
       "      <td>0.127277</td>\n",
       "      <td>0.156416</td>\n",
       "      <td>0.072229</td>\n",
       "      <td>-0.134194</td>\n",
       "      <td>0.034655</td>\n",
       "    </tr>\n",
       "    <tr>\n",
       "      <th>primary_cleaner.input.depressant</th>\n",
       "      <td>0.452138</td>\n",
       "      <td>1.000000</td>\n",
       "      <td>0.214707</td>\n",
       "      <td>0.144649</td>\n",
       "      <td>0.128135</td>\n",
       "      <td>0.215392</td>\n",
       "      <td>0.133109</td>\n",
       "      <td>0.200031</td>\n",
       "      <td>0.025947</td>\n",
       "      <td>0.185370</td>\n",
       "      <td>...</td>\n",
       "      <td>0.321422</td>\n",
       "      <td>0.108111</td>\n",
       "      <td>0.234910</td>\n",
       "      <td>-0.087961</td>\n",
       "      <td>-0.092530</td>\n",
       "      <td>-0.001364</td>\n",
       "      <td>0.062158</td>\n",
       "      <td>-0.003504</td>\n",
       "      <td>-0.200422</td>\n",
       "      <td>0.029256</td>\n",
       "    </tr>\n",
       "    <tr>\n",
       "      <th>primary_cleaner.input.feed_size</th>\n",
       "      <td>0.114564</td>\n",
       "      <td>0.214707</td>\n",
       "      <td>1.000000</td>\n",
       "      <td>-0.291292</td>\n",
       "      <td>-0.064628</td>\n",
       "      <td>0.082869</td>\n",
       "      <td>-0.063490</td>\n",
       "      <td>0.071470</td>\n",
       "      <td>-0.091542</td>\n",
       "      <td>0.066384</td>\n",
       "      <td>...</td>\n",
       "      <td>-0.148328</td>\n",
       "      <td>-0.121148</td>\n",
       "      <td>-0.173658</td>\n",
       "      <td>-0.137180</td>\n",
       "      <td>-0.192880</td>\n",
       "      <td>-0.059167</td>\n",
       "      <td>-0.214970</td>\n",
       "      <td>-0.054173</td>\n",
       "      <td>0.026930</td>\n",
       "      <td>-0.083021</td>\n",
       "    </tr>\n",
       "    <tr>\n",
       "      <th>primary_cleaner.input.xanthate</th>\n",
       "      <td>0.496786</td>\n",
       "      <td>0.144649</td>\n",
       "      <td>-0.291292</td>\n",
       "      <td>1.000000</td>\n",
       "      <td>0.208295</td>\n",
       "      <td>-0.056301</td>\n",
       "      <td>0.153433</td>\n",
       "      <td>0.017111</td>\n",
       "      <td>0.045527</td>\n",
       "      <td>-0.075309</td>\n",
       "      <td>...</td>\n",
       "      <td>0.313515</td>\n",
       "      <td>0.131815</td>\n",
       "      <td>0.361214</td>\n",
       "      <td>0.122248</td>\n",
       "      <td>0.059953</td>\n",
       "      <td>0.128417</td>\n",
       "      <td>0.078242</td>\n",
       "      <td>0.096969</td>\n",
       "      <td>-0.217392</td>\n",
       "      <td>0.081986</td>\n",
       "    </tr>\n",
       "    <tr>\n",
       "      <th>primary_cleaner.state.floatbank8_a_air</th>\n",
       "      <td>0.100810</td>\n",
       "      <td>0.128135</td>\n",
       "      <td>-0.064628</td>\n",
       "      <td>0.208295</td>\n",
       "      <td>1.000000</td>\n",
       "      <td>0.121274</td>\n",
       "      <td>0.968679</td>\n",
       "      <td>-0.018713</td>\n",
       "      <td>0.814992</td>\n",
       "      <td>0.114058</td>\n",
       "      <td>...</td>\n",
       "      <td>0.469180</td>\n",
       "      <td>0.005962</td>\n",
       "      <td>0.476742</td>\n",
       "      <td>-0.058593</td>\n",
       "      <td>0.408050</td>\n",
       "      <td>0.271547</td>\n",
       "      <td>0.465492</td>\n",
       "      <td>0.161509</td>\n",
       "      <td>0.345231</td>\n",
       "      <td>0.172154</td>\n",
       "    </tr>\n",
       "    <tr>\n",
       "      <th>primary_cleaner.state.floatbank8_a_level</th>\n",
       "      <td>0.047802</td>\n",
       "      <td>0.215392</td>\n",
       "      <td>0.082869</td>\n",
       "      <td>-0.056301</td>\n",
       "      <td>0.121274</td>\n",
       "      <td>1.000000</td>\n",
       "      <td>0.101975</td>\n",
       "      <td>0.417515</td>\n",
       "      <td>-0.018378</td>\n",
       "      <td>0.784061</td>\n",
       "      <td>...</td>\n",
       "      <td>0.171716</td>\n",
       "      <td>0.096500</td>\n",
       "      <td>0.084418</td>\n",
       "      <td>-0.005819</td>\n",
       "      <td>-0.036132</td>\n",
       "      <td>0.164220</td>\n",
       "      <td>-0.012665</td>\n",
       "      <td>0.091263</td>\n",
       "      <td>-0.107710</td>\n",
       "      <td>0.076271</td>\n",
       "    </tr>\n",
       "    <tr>\n",
       "      <th>primary_cleaner.state.floatbank8_b_air</th>\n",
       "      <td>0.074719</td>\n",
       "      <td>0.133109</td>\n",
       "      <td>-0.063490</td>\n",
       "      <td>0.153433</td>\n",
       "      <td>0.968679</td>\n",
       "      <td>0.101975</td>\n",
       "      <td>1.000000</td>\n",
       "      <td>0.010220</td>\n",
       "      <td>0.862946</td>\n",
       "      <td>0.101127</td>\n",
       "      <td>...</td>\n",
       "      <td>0.483741</td>\n",
       "      <td>0.023801</td>\n",
       "      <td>0.487327</td>\n",
       "      <td>-0.080058</td>\n",
       "      <td>0.415343</td>\n",
       "      <td>0.260220</td>\n",
       "      <td>0.499829</td>\n",
       "      <td>0.155978</td>\n",
       "      <td>0.389594</td>\n",
       "      <td>0.187429</td>\n",
       "    </tr>\n",
       "    <tr>\n",
       "      <th>primary_cleaner.state.floatbank8_b_level</th>\n",
       "      <td>0.139819</td>\n",
       "      <td>0.200031</td>\n",
       "      <td>0.071470</td>\n",
       "      <td>0.017111</td>\n",
       "      <td>-0.018713</td>\n",
       "      <td>0.417515</td>\n",
       "      <td>0.010220</td>\n",
       "      <td>1.000000</td>\n",
       "      <td>-0.029228</td>\n",
       "      <td>0.406721</td>\n",
       "      <td>...</td>\n",
       "      <td>0.078411</td>\n",
       "      <td>0.216342</td>\n",
       "      <td>0.054902</td>\n",
       "      <td>-0.038440</td>\n",
       "      <td>-0.009671</td>\n",
       "      <td>0.029409</td>\n",
       "      <td>0.012115</td>\n",
       "      <td>0.004864</td>\n",
       "      <td>-0.006694</td>\n",
       "      <td>0.012904</td>\n",
       "    </tr>\n",
       "    <tr>\n",
       "      <th>primary_cleaner.state.floatbank8_c_air</th>\n",
       "      <td>0.024925</td>\n",
       "      <td>0.025947</td>\n",
       "      <td>-0.091542</td>\n",
       "      <td>0.045527</td>\n",
       "      <td>0.814992</td>\n",
       "      <td>-0.018378</td>\n",
       "      <td>0.862946</td>\n",
       "      <td>-0.029228</td>\n",
       "      <td>1.000000</td>\n",
       "      <td>0.003322</td>\n",
       "      <td>...</td>\n",
       "      <td>0.366373</td>\n",
       "      <td>0.047373</td>\n",
       "      <td>0.396029</td>\n",
       "      <td>-0.031081</td>\n",
       "      <td>0.400765</td>\n",
       "      <td>0.239333</td>\n",
       "      <td>0.500353</td>\n",
       "      <td>0.117465</td>\n",
       "      <td>0.490672</td>\n",
       "      <td>0.169634</td>\n",
       "    </tr>\n",
       "    <tr>\n",
       "      <th>primary_cleaner.state.floatbank8_c_level</th>\n",
       "      <td>0.028155</td>\n",
       "      <td>0.185370</td>\n",
       "      <td>0.066384</td>\n",
       "      <td>-0.075309</td>\n",
       "      <td>0.114058</td>\n",
       "      <td>0.784061</td>\n",
       "      <td>0.101127</td>\n",
       "      <td>0.406721</td>\n",
       "      <td>0.003322</td>\n",
       "      <td>1.000000</td>\n",
       "      <td>...</td>\n",
       "      <td>0.151945</td>\n",
       "      <td>0.093293</td>\n",
       "      <td>0.071559</td>\n",
       "      <td>-0.013814</td>\n",
       "      <td>-0.018878</td>\n",
       "      <td>0.143313</td>\n",
       "      <td>-0.004169</td>\n",
       "      <td>0.061153</td>\n",
       "      <td>-0.087866</td>\n",
       "      <td>0.067955</td>\n",
       "    </tr>\n",
       "    <tr>\n",
       "      <th>primary_cleaner.state.floatbank8_d_air</th>\n",
       "      <td>0.093636</td>\n",
       "      <td>0.126572</td>\n",
       "      <td>-0.074156</td>\n",
       "      <td>0.174404</td>\n",
       "      <td>0.959166</td>\n",
       "      <td>0.110760</td>\n",
       "      <td>0.974342</td>\n",
       "      <td>0.015972</td>\n",
       "      <td>0.848010</td>\n",
       "      <td>0.113492</td>\n",
       "      <td>...</td>\n",
       "      <td>0.485859</td>\n",
       "      <td>0.022615</td>\n",
       "      <td>0.491643</td>\n",
       "      <td>-0.072571</td>\n",
       "      <td>0.412552</td>\n",
       "      <td>0.259882</td>\n",
       "      <td>0.492616</td>\n",
       "      <td>0.158148</td>\n",
       "      <td>0.378070</td>\n",
       "      <td>0.184031</td>\n",
       "    </tr>\n",
       "    <tr>\n",
       "      <th>primary_cleaner.state.floatbank8_d_level</th>\n",
       "      <td>-0.019008</td>\n",
       "      <td>0.073040</td>\n",
       "      <td>0.065808</td>\n",
       "      <td>-0.141550</td>\n",
       "      <td>0.061389</td>\n",
       "      <td>0.406960</td>\n",
       "      <td>0.059940</td>\n",
       "      <td>0.233257</td>\n",
       "      <td>0.013847</td>\n",
       "      <td>0.486463</td>\n",
       "      <td>...</td>\n",
       "      <td>0.053297</td>\n",
       "      <td>0.043851</td>\n",
       "      <td>0.001856</td>\n",
       "      <td>-0.017416</td>\n",
       "      <td>0.008748</td>\n",
       "      <td>0.078442</td>\n",
       "      <td>0.006287</td>\n",
       "      <td>0.006570</td>\n",
       "      <td>-0.036983</td>\n",
       "      <td>0.029999</td>\n",
       "    </tr>\n",
       "    <tr>\n",
       "      <th>rougher.input.feed_ag</th>\n",
       "      <td>0.359236</td>\n",
       "      <td>0.497323</td>\n",
       "      <td>0.338795</td>\n",
       "      <td>0.049574</td>\n",
       "      <td>0.252818</td>\n",
       "      <td>0.197111</td>\n",
       "      <td>0.250553</td>\n",
       "      <td>0.128053</td>\n",
       "      <td>0.149500</td>\n",
       "      <td>0.162198</td>\n",
       "      <td>...</td>\n",
       "      <td>0.167571</td>\n",
       "      <td>-0.069478</td>\n",
       "      <td>0.150561</td>\n",
       "      <td>-0.291577</td>\n",
       "      <td>-0.033441</td>\n",
       "      <td>-0.011144</td>\n",
       "      <td>-0.042389</td>\n",
       "      <td>0.039210</td>\n",
       "      <td>0.212922</td>\n",
       "      <td>-0.001060</td>\n",
       "    </tr>\n",
       "    <tr>\n",
       "      <th>rougher.input.feed_pb</th>\n",
       "      <td>0.428248</td>\n",
       "      <td>0.466184</td>\n",
       "      <td>0.000398</td>\n",
       "      <td>0.241885</td>\n",
       "      <td>0.064620</td>\n",
       "      <td>0.231743</td>\n",
       "      <td>0.054633</td>\n",
       "      <td>0.223188</td>\n",
       "      <td>-0.054736</td>\n",
       "      <td>0.176345</td>\n",
       "      <td>...</td>\n",
       "      <td>0.114111</td>\n",
       "      <td>-0.004391</td>\n",
       "      <td>0.138647</td>\n",
       "      <td>-0.206534</td>\n",
       "      <td>-0.068303</td>\n",
       "      <td>0.052358</td>\n",
       "      <td>-0.029590</td>\n",
       "      <td>0.077829</td>\n",
       "      <td>-0.125363</td>\n",
       "      <td>0.067297</td>\n",
       "    </tr>\n",
       "    <tr>\n",
       "      <th>rougher.input.feed_rate</th>\n",
       "      <td>0.461740</td>\n",
       "      <td>0.133046</td>\n",
       "      <td>0.019618</td>\n",
       "      <td>0.464580</td>\n",
       "      <td>-0.010564</td>\n",
       "      <td>-0.009139</td>\n",
       "      <td>-0.044562</td>\n",
       "      <td>0.031262</td>\n",
       "      <td>-0.101521</td>\n",
       "      <td>-0.006190</td>\n",
       "      <td>...</td>\n",
       "      <td>0.169978</td>\n",
       "      <td>0.123496</td>\n",
       "      <td>0.128504</td>\n",
       "      <td>0.357253</td>\n",
       "      <td>-0.137284</td>\n",
       "      <td>0.089104</td>\n",
       "      <td>-0.073595</td>\n",
       "      <td>0.012324</td>\n",
       "      <td>-0.413417</td>\n",
       "      <td>0.022949</td>\n",
       "    </tr>\n",
       "    <tr>\n",
       "      <th>rougher.input.feed_size</th>\n",
       "      <td>-0.010257</td>\n",
       "      <td>0.005012</td>\n",
       "      <td>-0.087339</td>\n",
       "      <td>0.195480</td>\n",
       "      <td>-0.073142</td>\n",
       "      <td>0.004788</td>\n",
       "      <td>-0.098048</td>\n",
       "      <td>-0.043022</td>\n",
       "      <td>-0.162543</td>\n",
       "      <td>0.002130</td>\n",
       "      <td>...</td>\n",
       "      <td>0.127876</td>\n",
       "      <td>0.062334</td>\n",
       "      <td>0.037296</td>\n",
       "      <td>0.324755</td>\n",
       "      <td>-0.117026</td>\n",
       "      <td>0.042609</td>\n",
       "      <td>-0.104550</td>\n",
       "      <td>-0.004300</td>\n",
       "      <td>-0.355951</td>\n",
       "      <td>0.006842</td>\n",
       "    </tr>\n",
       "    <tr>\n",
       "      <th>rougher.input.feed_sol</th>\n",
       "      <td>0.423813</td>\n",
       "      <td>0.171353</td>\n",
       "      <td>0.057400</td>\n",
       "      <td>0.372327</td>\n",
       "      <td>-0.060574</td>\n",
       "      <td>0.055251</td>\n",
       "      <td>-0.088980</td>\n",
       "      <td>0.049419</td>\n",
       "      <td>-0.157935</td>\n",
       "      <td>0.040593</td>\n",
       "      <td>...</td>\n",
       "      <td>0.146671</td>\n",
       "      <td>0.065137</td>\n",
       "      <td>0.084524</td>\n",
       "      <td>0.407716</td>\n",
       "      <td>-0.226731</td>\n",
       "      <td>0.089657</td>\n",
       "      <td>-0.172539</td>\n",
       "      <td>0.009571</td>\n",
       "      <td>-0.483905</td>\n",
       "      <td>0.038228</td>\n",
       "    </tr>\n",
       "    <tr>\n",
       "      <th>rougher.input.feed_au</th>\n",
       "      <td>0.436207</td>\n",
       "      <td>0.460382</td>\n",
       "      <td>0.238692</td>\n",
       "      <td>0.095280</td>\n",
       "      <td>0.218384</td>\n",
       "      <td>0.184980</td>\n",
       "      <td>0.243540</td>\n",
       "      <td>0.178838</td>\n",
       "      <td>0.168597</td>\n",
       "      <td>0.143132</td>\n",
       "      <td>...</td>\n",
       "      <td>0.165834</td>\n",
       "      <td>-0.039397</td>\n",
       "      <td>0.160088</td>\n",
       "      <td>-0.266889</td>\n",
       "      <td>-0.037379</td>\n",
       "      <td>0.016553</td>\n",
       "      <td>-0.015953</td>\n",
       "      <td>0.074743</td>\n",
       "      <td>0.191477</td>\n",
       "      <td>0.036998</td>\n",
       "    </tr>\n",
       "    <tr>\n",
       "      <th>rougher.input.floatbank10_sulfate</th>\n",
       "      <td>0.616477</td>\n",
       "      <td>0.231353</td>\n",
       "      <td>-0.186211</td>\n",
       "      <td>0.581719</td>\n",
       "      <td>0.041911</td>\n",
       "      <td>-0.058344</td>\n",
       "      <td>0.035523</td>\n",
       "      <td>0.023787</td>\n",
       "      <td>-0.016792</td>\n",
       "      <td>-0.069795</td>\n",
       "      <td>...</td>\n",
       "      <td>0.306822</td>\n",
       "      <td>0.163263</td>\n",
       "      <td>0.330181</td>\n",
       "      <td>0.298407</td>\n",
       "      <td>0.041357</td>\n",
       "      <td>0.084638</td>\n",
       "      <td>0.144253</td>\n",
       "      <td>0.060772</td>\n",
       "      <td>-0.312294</td>\n",
       "      <td>0.067931</td>\n",
       "    </tr>\n",
       "    <tr>\n",
       "      <th>rougher.input.floatbank10_xanthate</th>\n",
       "      <td>0.550640</td>\n",
       "      <td>0.339256</td>\n",
       "      <td>0.224360</td>\n",
       "      <td>0.350601</td>\n",
       "      <td>0.187693</td>\n",
       "      <td>0.110566</td>\n",
       "      <td>0.172360</td>\n",
       "      <td>0.067695</td>\n",
       "      <td>0.135009</td>\n",
       "      <td>0.082145</td>\n",
       "      <td>...</td>\n",
       "      <td>0.240843</td>\n",
       "      <td>0.070772</td>\n",
       "      <td>0.187300</td>\n",
       "      <td>0.163137</td>\n",
       "      <td>-0.141634</td>\n",
       "      <td>0.130590</td>\n",
       "      <td>-0.043725</td>\n",
       "      <td>0.081810</td>\n",
       "      <td>-0.112190</td>\n",
       "      <td>0.112981</td>\n",
       "    </tr>\n",
       "    <tr>\n",
       "      <th>rougher.input.floatbank11_sulfate</th>\n",
       "      <td>0.585522</td>\n",
       "      <td>0.210909</td>\n",
       "      <td>-0.231701</td>\n",
       "      <td>0.594250</td>\n",
       "      <td>0.046837</td>\n",
       "      <td>-0.079213</td>\n",
       "      <td>0.047361</td>\n",
       "      <td>0.045953</td>\n",
       "      <td>0.016075</td>\n",
       "      <td>-0.083834</td>\n",
       "      <td>...</td>\n",
       "      <td>0.277188</td>\n",
       "      <td>0.191199</td>\n",
       "      <td>0.306050</td>\n",
       "      <td>0.321607</td>\n",
       "      <td>0.069535</td>\n",
       "      <td>0.111017</td>\n",
       "      <td>0.165928</td>\n",
       "      <td>0.069145</td>\n",
       "      <td>-0.315921</td>\n",
       "      <td>0.080315</td>\n",
       "    </tr>\n",
       "    <tr>\n",
       "      <th>rougher.input.floatbank11_xanthate</th>\n",
       "      <td>0.539113</td>\n",
       "      <td>0.345551</td>\n",
       "      <td>0.200080</td>\n",
       "      <td>0.378950</td>\n",
       "      <td>0.199009</td>\n",
       "      <td>0.090125</td>\n",
       "      <td>0.194925</td>\n",
       "      <td>0.102405</td>\n",
       "      <td>0.181177</td>\n",
       "      <td>0.067524</td>\n",
       "      <td>...</td>\n",
       "      <td>0.214027</td>\n",
       "      <td>0.099220</td>\n",
       "      <td>0.160767</td>\n",
       "      <td>0.203885</td>\n",
       "      <td>-0.136782</td>\n",
       "      <td>0.153905</td>\n",
       "      <td>-0.033273</td>\n",
       "      <td>0.088701</td>\n",
       "      <td>-0.126049</td>\n",
       "      <td>0.133275</td>\n",
       "    </tr>\n",
       "    <tr>\n",
       "      <th>rougher.state.floatbank10_a_air</th>\n",
       "      <td>0.234925</td>\n",
       "      <td>0.408884</td>\n",
       "      <td>0.023678</td>\n",
       "      <td>0.402104</td>\n",
       "      <td>0.215473</td>\n",
       "      <td>0.387206</td>\n",
       "      <td>0.169211</td>\n",
       "      <td>0.207161</td>\n",
       "      <td>-0.087974</td>\n",
       "      <td>0.333690</td>\n",
       "      <td>...</td>\n",
       "      <td>0.296594</td>\n",
       "      <td>0.087591</td>\n",
       "      <td>0.239912</td>\n",
       "      <td>-0.123604</td>\n",
       "      <td>-0.043592</td>\n",
       "      <td>0.105358</td>\n",
       "      <td>-0.078618</td>\n",
       "      <td>0.072453</td>\n",
       "      <td>-0.334347</td>\n",
       "      <td>0.046717</td>\n",
       "    </tr>\n",
       "    <tr>\n",
       "      <th>rougher.state.floatbank10_a_level</th>\n",
       "      <td>0.222601</td>\n",
       "      <td>0.130801</td>\n",
       "      <td>-0.236632</td>\n",
       "      <td>0.424813</td>\n",
       "      <td>-0.033903</td>\n",
       "      <td>0.159607</td>\n",
       "      <td>-0.073373</td>\n",
       "      <td>0.076225</td>\n",
       "      <td>-0.222135</td>\n",
       "      <td>0.131849</td>\n",
       "      <td>...</td>\n",
       "      <td>0.207514</td>\n",
       "      <td>0.131345</td>\n",
       "      <td>0.116369</td>\n",
       "      <td>0.261028</td>\n",
       "      <td>-0.130661</td>\n",
       "      <td>0.119156</td>\n",
       "      <td>0.023681</td>\n",
       "      <td>0.012086</td>\n",
       "      <td>-0.561842</td>\n",
       "      <td>0.087695</td>\n",
       "    </tr>\n",
       "    <tr>\n",
       "      <th>rougher.state.floatbank10_b_air</th>\n",
       "      <td>-0.229253</td>\n",
       "      <td>-0.356190</td>\n",
       "      <td>0.044605</td>\n",
       "      <td>-0.385724</td>\n",
       "      <td>0.199338</td>\n",
       "      <td>-0.076365</td>\n",
       "      <td>0.230489</td>\n",
       "      <td>-0.014215</td>\n",
       "      <td>0.300457</td>\n",
       "      <td>-0.039398</td>\n",
       "      <td>...</td>\n",
       "      <td>-0.171947</td>\n",
       "      <td>0.009334</td>\n",
       "      <td>-0.099376</td>\n",
       "      <td>-0.213919</td>\n",
       "      <td>0.351196</td>\n",
       "      <td>0.116437</td>\n",
       "      <td>0.291708</td>\n",
       "      <td>0.078298</td>\n",
       "      <td>0.533462</td>\n",
       "      <td>0.022975</td>\n",
       "    </tr>\n",
       "    <tr>\n",
       "      <th>rougher.state.floatbank10_b_level</th>\n",
       "      <td>-0.047140</td>\n",
       "      <td>-0.114405</td>\n",
       "      <td>0.051614</td>\n",
       "      <td>-0.341158</td>\n",
       "      <td>0.291111</td>\n",
       "      <td>-0.037724</td>\n",
       "      <td>0.371841</td>\n",
       "      <td>0.020230</td>\n",
       "      <td>0.451746</td>\n",
       "      <td>-0.015591</td>\n",
       "      <td>...</td>\n",
       "      <td>0.067727</td>\n",
       "      <td>0.010268</td>\n",
       "      <td>0.105702</td>\n",
       "      <td>-0.213382</td>\n",
       "      <td>0.177808</td>\n",
       "      <td>0.089507</td>\n",
       "      <td>0.345947</td>\n",
       "      <td>0.058823</td>\n",
       "      <td>0.455330</td>\n",
       "      <td>0.034661</td>\n",
       "    </tr>\n",
       "    <tr>\n",
       "      <th>rougher.state.floatbank10_c_air</th>\n",
       "      <td>-0.245993</td>\n",
       "      <td>-0.367074</td>\n",
       "      <td>0.064617</td>\n",
       "      <td>-0.404612</td>\n",
       "      <td>0.216971</td>\n",
       "      <td>-0.129885</td>\n",
       "      <td>0.259523</td>\n",
       "      <td>-0.052763</td>\n",
       "      <td>0.360889</td>\n",
       "      <td>-0.089468</td>\n",
       "      <td>...</td>\n",
       "      <td>-0.168834</td>\n",
       "      <td>-0.010049</td>\n",
       "      <td>-0.100264</td>\n",
       "      <td>-0.229330</td>\n",
       "      <td>0.334076</td>\n",
       "      <td>0.092861</td>\n",
       "      <td>0.309043</td>\n",
       "      <td>0.070987</td>\n",
       "      <td>0.621525</td>\n",
       "      <td>0.018168</td>\n",
       "    </tr>\n",
       "    <tr>\n",
       "      <th>rougher.state.floatbank10_c_level</th>\n",
       "      <td>-0.052403</td>\n",
       "      <td>-0.105012</td>\n",
       "      <td>0.049608</td>\n",
       "      <td>-0.345842</td>\n",
       "      <td>0.285786</td>\n",
       "      <td>-0.043906</td>\n",
       "      <td>0.368792</td>\n",
       "      <td>0.007639</td>\n",
       "      <td>0.453606</td>\n",
       "      <td>-0.020945</td>\n",
       "      <td>...</td>\n",
       "      <td>0.068885</td>\n",
       "      <td>0.011038</td>\n",
       "      <td>0.104035</td>\n",
       "      <td>-0.217125</td>\n",
       "      <td>0.172000</td>\n",
       "      <td>0.078225</td>\n",
       "      <td>0.353681</td>\n",
       "      <td>0.054056</td>\n",
       "      <td>0.455477</td>\n",
       "      <td>0.031861</td>\n",
       "    </tr>\n",
       "    <tr>\n",
       "      <th>rougher.state.floatbank10_d_air</th>\n",
       "      <td>-0.246659</td>\n",
       "      <td>-0.348432</td>\n",
       "      <td>-0.009526</td>\n",
       "      <td>-0.392190</td>\n",
       "      <td>0.160151</td>\n",
       "      <td>-0.134939</td>\n",
       "      <td>0.203227</td>\n",
       "      <td>-0.015855</td>\n",
       "      <td>0.310832</td>\n",
       "      <td>-0.089773</td>\n",
       "      <td>...</td>\n",
       "      <td>-0.173221</td>\n",
       "      <td>0.025358</td>\n",
       "      <td>-0.084851</td>\n",
       "      <td>-0.262495</td>\n",
       "      <td>0.368140</td>\n",
       "      <td>0.060210</td>\n",
       "      <td>0.340406</td>\n",
       "      <td>0.045190</td>\n",
       "      <td>0.598880</td>\n",
       "      <td>0.008341</td>\n",
       "    </tr>\n",
       "    <tr>\n",
       "      <th>rougher.state.floatbank10_d_level</th>\n",
       "      <td>-0.014574</td>\n",
       "      <td>-0.075352</td>\n",
       "      <td>0.073623</td>\n",
       "      <td>-0.325264</td>\n",
       "      <td>0.245276</td>\n",
       "      <td>-0.071941</td>\n",
       "      <td>0.327134</td>\n",
       "      <td>0.005728</td>\n",
       "      <td>0.406637</td>\n",
       "      <td>-0.049447</td>\n",
       "      <td>...</td>\n",
       "      <td>0.072947</td>\n",
       "      <td>-0.013329</td>\n",
       "      <td>0.109479</td>\n",
       "      <td>-0.220828</td>\n",
       "      <td>0.148741</td>\n",
       "      <td>0.048372</td>\n",
       "      <td>0.332464</td>\n",
       "      <td>0.039969</td>\n",
       "      <td>0.430585</td>\n",
       "      <td>0.021169</td>\n",
       "    </tr>\n",
       "    <tr>\n",
       "      <th>rougher.state.floatbank10_e_air</th>\n",
       "      <td>-0.233454</td>\n",
       "      <td>-0.362110</td>\n",
       "      <td>-0.012558</td>\n",
       "      <td>-0.320581</td>\n",
       "      <td>0.347687</td>\n",
       "      <td>-0.098849</td>\n",
       "      <td>0.402047</td>\n",
       "      <td>-0.052321</td>\n",
       "      <td>0.452348</td>\n",
       "      <td>-0.067798</td>\n",
       "      <td>...</td>\n",
       "      <td>0.018780</td>\n",
       "      <td>-0.034684</td>\n",
       "      <td>0.067346</td>\n",
       "      <td>-0.169546</td>\n",
       "      <td>0.395027</td>\n",
       "      <td>0.087056</td>\n",
       "      <td>0.414665</td>\n",
       "      <td>0.084650</td>\n",
       "      <td>0.578157</td>\n",
       "      <td>0.040936</td>\n",
       "    </tr>\n",
       "    <tr>\n",
       "      <th>rougher.state.floatbank10_e_level</th>\n",
       "      <td>-0.119842</td>\n",
       "      <td>-0.127322</td>\n",
       "      <td>0.006890</td>\n",
       "      <td>-0.362139</td>\n",
       "      <td>0.280493</td>\n",
       "      <td>-0.072159</td>\n",
       "      <td>0.391511</td>\n",
       "      <td>0.002047</td>\n",
       "      <td>0.463951</td>\n",
       "      <td>-0.048384</td>\n",
       "      <td>...</td>\n",
       "      <td>0.150501</td>\n",
       "      <td>0.006505</td>\n",
       "      <td>0.168247</td>\n",
       "      <td>-0.214266</td>\n",
       "      <td>0.264139</td>\n",
       "      <td>0.050704</td>\n",
       "      <td>0.407902</td>\n",
       "      <td>0.048908</td>\n",
       "      <td>0.484825</td>\n",
       "      <td>0.056080</td>\n",
       "    </tr>\n",
       "    <tr>\n",
       "      <th>rougher.state.floatbank10_f_air</th>\n",
       "      <td>-0.248709</td>\n",
       "      <td>-0.377406</td>\n",
       "      <td>-0.129796</td>\n",
       "      <td>-0.289656</td>\n",
       "      <td>0.280753</td>\n",
       "      <td>-0.050940</td>\n",
       "      <td>0.344900</td>\n",
       "      <td>-0.007648</td>\n",
       "      <td>0.354735</td>\n",
       "      <td>-0.022972</td>\n",
       "      <td>...</td>\n",
       "      <td>0.043791</td>\n",
       "      <td>0.025162</td>\n",
       "      <td>0.084106</td>\n",
       "      <td>-0.112751</td>\n",
       "      <td>0.409527</td>\n",
       "      <td>0.085782</td>\n",
       "      <td>0.415871</td>\n",
       "      <td>0.074507</td>\n",
       "      <td>0.434982</td>\n",
       "      <td>0.053557</td>\n",
       "    </tr>\n",
       "    <tr>\n",
       "      <th>rougher.state.floatbank10_f_level</th>\n",
       "      <td>-0.063864</td>\n",
       "      <td>-0.112718</td>\n",
       "      <td>0.036627</td>\n",
       "      <td>-0.333668</td>\n",
       "      <td>0.289477</td>\n",
       "      <td>-0.042153</td>\n",
       "      <td>0.394670</td>\n",
       "      <td>0.013656</td>\n",
       "      <td>0.471963</td>\n",
       "      <td>-0.019199</td>\n",
       "      <td>...</td>\n",
       "      <td>0.168028</td>\n",
       "      <td>0.024309</td>\n",
       "      <td>0.188557</td>\n",
       "      <td>-0.210791</td>\n",
       "      <td>0.261930</td>\n",
       "      <td>0.066304</td>\n",
       "      <td>0.392998</td>\n",
       "      <td>0.056624</td>\n",
       "      <td>0.483501</td>\n",
       "      <td>0.064456</td>\n",
       "    </tr>\n",
       "    <tr>\n",
       "      <th>secondary_cleaner.state.floatbank2_a_air</th>\n",
       "      <td>0.051477</td>\n",
       "      <td>0.077763</td>\n",
       "      <td>-0.128544</td>\n",
       "      <td>-0.038199</td>\n",
       "      <td>0.258797</td>\n",
       "      <td>0.108288</td>\n",
       "      <td>0.326207</td>\n",
       "      <td>0.064035</td>\n",
       "      <td>0.277849</td>\n",
       "      <td>0.107413</td>\n",
       "      <td>...</td>\n",
       "      <td>0.394394</td>\n",
       "      <td>0.181484</td>\n",
       "      <td>0.375035</td>\n",
       "      <td>-0.007873</td>\n",
       "      <td>0.364503</td>\n",
       "      <td>0.161537</td>\n",
       "      <td>0.482914</td>\n",
       "      <td>0.088558</td>\n",
       "      <td>0.146562</td>\n",
       "      <td>0.127210</td>\n",
       "    </tr>\n",
       "    <tr>\n",
       "      <th>secondary_cleaner.state.floatbank2_a_level</th>\n",
       "      <td>-0.037756</td>\n",
       "      <td>-0.089231</td>\n",
       "      <td>0.044605</td>\n",
       "      <td>-0.160438</td>\n",
       "      <td>-0.059849</td>\n",
       "      <td>0.083484</td>\n",
       "      <td>-0.052484</td>\n",
       "      <td>0.006019</td>\n",
       "      <td>0.022228</td>\n",
       "      <td>0.075413</td>\n",
       "      <td>...</td>\n",
       "      <td>-0.076507</td>\n",
       "      <td>0.029511</td>\n",
       "      <td>-0.097089</td>\n",
       "      <td>-0.016680</td>\n",
       "      <td>-0.013389</td>\n",
       "      <td>0.077666</td>\n",
       "      <td>0.001987</td>\n",
       "      <td>0.010127</td>\n",
       "      <td>0.048933</td>\n",
       "      <td>0.025503</td>\n",
       "    </tr>\n",
       "    <tr>\n",
       "      <th>secondary_cleaner.state.floatbank2_b_air</th>\n",
       "      <td>0.257649</td>\n",
       "      <td>0.231374</td>\n",
       "      <td>-0.182687</td>\n",
       "      <td>0.221401</td>\n",
       "      <td>0.422603</td>\n",
       "      <td>0.163920</td>\n",
       "      <td>0.458442</td>\n",
       "      <td>0.104585</td>\n",
       "      <td>0.363017</td>\n",
       "      <td>0.150466</td>\n",
       "      <td>...</td>\n",
       "      <td>0.637334</td>\n",
       "      <td>0.182724</td>\n",
       "      <td>0.660157</td>\n",
       "      <td>0.000320</td>\n",
       "      <td>0.511434</td>\n",
       "      <td>0.227661</td>\n",
       "      <td>0.667856</td>\n",
       "      <td>0.129761</td>\n",
       "      <td>0.104266</td>\n",
       "      <td>0.157649</td>\n",
       "    </tr>\n",
       "    <tr>\n",
       "      <th>secondary_cleaner.state.floatbank2_b_level</th>\n",
       "      <td>-0.010734</td>\n",
       "      <td>-0.102904</td>\n",
       "      <td>0.005911</td>\n",
       "      <td>-0.111152</td>\n",
       "      <td>-0.084396</td>\n",
       "      <td>0.080897</td>\n",
       "      <td>-0.079535</td>\n",
       "      <td>0.009400</td>\n",
       "      <td>-0.014146</td>\n",
       "      <td>0.066475</td>\n",
       "      <td>...</td>\n",
       "      <td>-0.062850</td>\n",
       "      <td>0.030289</td>\n",
       "      <td>-0.077545</td>\n",
       "      <td>0.013354</td>\n",
       "      <td>-0.020293</td>\n",
       "      <td>0.078675</td>\n",
       "      <td>-0.006990</td>\n",
       "      <td>0.014914</td>\n",
       "      <td>0.010788</td>\n",
       "      <td>0.023177</td>\n",
       "    </tr>\n",
       "    <tr>\n",
       "      <th>secondary_cleaner.state.floatbank3_a_air</th>\n",
       "      <td>0.144912</td>\n",
       "      <td>0.280420</td>\n",
       "      <td>0.024735</td>\n",
       "      <td>-0.041667</td>\n",
       "      <td>0.369040</td>\n",
       "      <td>0.083934</td>\n",
       "      <td>0.415503</td>\n",
       "      <td>0.086051</td>\n",
       "      <td>0.412137</td>\n",
       "      <td>0.074927</td>\n",
       "      <td>...</td>\n",
       "      <td>0.413034</td>\n",
       "      <td>0.051117</td>\n",
       "      <td>0.434205</td>\n",
       "      <td>-0.059103</td>\n",
       "      <td>0.313944</td>\n",
       "      <td>0.185076</td>\n",
       "      <td>0.526658</td>\n",
       "      <td>0.097897</td>\n",
       "      <td>0.273846</td>\n",
       "      <td>0.123084</td>\n",
       "    </tr>\n",
       "    <tr>\n",
       "      <th>secondary_cleaner.state.floatbank3_a_level</th>\n",
       "      <td>0.004598</td>\n",
       "      <td>0.119902</td>\n",
       "      <td>0.032868</td>\n",
       "      <td>-0.033249</td>\n",
       "      <td>-0.040073</td>\n",
       "      <td>0.069909</td>\n",
       "      <td>-0.023823</td>\n",
       "      <td>0.094441</td>\n",
       "      <td>-0.030285</td>\n",
       "      <td>0.065685</td>\n",
       "      <td>...</td>\n",
       "      <td>-0.067846</td>\n",
       "      <td>0.007752</td>\n",
       "      <td>-0.088951</td>\n",
       "      <td>0.018798</td>\n",
       "      <td>-0.197216</td>\n",
       "      <td>0.045148</td>\n",
       "      <td>-0.088070</td>\n",
       "      <td>-0.024978</td>\n",
       "      <td>-0.127807</td>\n",
       "      <td>0.010255</td>\n",
       "    </tr>\n",
       "    <tr>\n",
       "      <th>secondary_cleaner.state.floatbank3_b_air</th>\n",
       "      <td>0.147967</td>\n",
       "      <td>0.253658</td>\n",
       "      <td>-0.017527</td>\n",
       "      <td>-0.050318</td>\n",
       "      <td>0.457278</td>\n",
       "      <td>0.057372</td>\n",
       "      <td>0.518832</td>\n",
       "      <td>0.081030</td>\n",
       "      <td>0.493835</td>\n",
       "      <td>0.058887</td>\n",
       "      <td>...</td>\n",
       "      <td>0.480531</td>\n",
       "      <td>0.073603</td>\n",
       "      <td>0.534658</td>\n",
       "      <td>-0.188031</td>\n",
       "      <td>0.462017</td>\n",
       "      <td>0.174008</td>\n",
       "      <td>0.641391</td>\n",
       "      <td>0.089819</td>\n",
       "      <td>0.395344</td>\n",
       "      <td>0.114933</td>\n",
       "    </tr>\n",
       "    <tr>\n",
       "      <th>secondary_cleaner.state.floatbank3_b_level</th>\n",
       "      <td>0.020321</td>\n",
       "      <td>0.109505</td>\n",
       "      <td>0.025709</td>\n",
       "      <td>-0.008513</td>\n",
       "      <td>-0.007847</td>\n",
       "      <td>0.053060</td>\n",
       "      <td>0.008616</td>\n",
       "      <td>0.100982</td>\n",
       "      <td>-0.000623</td>\n",
       "      <td>0.050184</td>\n",
       "      <td>...</td>\n",
       "      <td>-0.048674</td>\n",
       "      <td>0.003195</td>\n",
       "      <td>-0.061874</td>\n",
       "      <td>0.035838</td>\n",
       "      <td>-0.174450</td>\n",
       "      <td>0.189707</td>\n",
       "      <td>-0.061240</td>\n",
       "      <td>0.049728</td>\n",
       "      <td>-0.144723</td>\n",
       "      <td>0.076089</td>\n",
       "    </tr>\n",
       "    <tr>\n",
       "      <th>secondary_cleaner.state.floatbank4_a_air</th>\n",
       "      <td>0.305068</td>\n",
       "      <td>0.321422</td>\n",
       "      <td>-0.148328</td>\n",
       "      <td>0.313515</td>\n",
       "      <td>0.469180</td>\n",
       "      <td>0.171716</td>\n",
       "      <td>0.483741</td>\n",
       "      <td>0.078411</td>\n",
       "      <td>0.366373</td>\n",
       "      <td>0.151945</td>\n",
       "      <td>...</td>\n",
       "      <td>1.000000</td>\n",
       "      <td>0.346120</td>\n",
       "      <td>0.925344</td>\n",
       "      <td>0.256080</td>\n",
       "      <td>0.523977</td>\n",
       "      <td>0.221838</td>\n",
       "      <td>0.630029</td>\n",
       "      <td>0.132053</td>\n",
       "      <td>0.082357</td>\n",
       "      <td>0.145112</td>\n",
       "    </tr>\n",
       "    <tr>\n",
       "      <th>secondary_cleaner.state.floatbank4_a_level</th>\n",
       "      <td>0.116753</td>\n",
       "      <td>0.108111</td>\n",
       "      <td>-0.121148</td>\n",
       "      <td>0.131815</td>\n",
       "      <td>0.005962</td>\n",
       "      <td>0.096500</td>\n",
       "      <td>0.023801</td>\n",
       "      <td>0.216342</td>\n",
       "      <td>0.047373</td>\n",
       "      <td>0.093293</td>\n",
       "      <td>...</td>\n",
       "      <td>0.346120</td>\n",
       "      <td>1.000000</td>\n",
       "      <td>0.291668</td>\n",
       "      <td>0.322602</td>\n",
       "      <td>0.139509</td>\n",
       "      <td>0.129475</td>\n",
       "      <td>0.196989</td>\n",
       "      <td>0.038650</td>\n",
       "      <td>0.027717</td>\n",
       "      <td>0.028501</td>\n",
       "    </tr>\n",
       "    <tr>\n",
       "      <th>secondary_cleaner.state.floatbank4_b_air</th>\n",
       "      <td>0.347817</td>\n",
       "      <td>0.234910</td>\n",
       "      <td>-0.173658</td>\n",
       "      <td>0.361214</td>\n",
       "      <td>0.476742</td>\n",
       "      <td>0.084418</td>\n",
       "      <td>0.487327</td>\n",
       "      <td>0.054902</td>\n",
       "      <td>0.396029</td>\n",
       "      <td>0.071559</td>\n",
       "      <td>...</td>\n",
       "      <td>0.925344</td>\n",
       "      <td>0.291668</td>\n",
       "      <td>1.000000</td>\n",
       "      <td>0.162442</td>\n",
       "      <td>0.621448</td>\n",
       "      <td>0.231617</td>\n",
       "      <td>0.690637</td>\n",
       "      <td>0.151066</td>\n",
       "      <td>0.188092</td>\n",
       "      <td>0.142336</td>\n",
       "    </tr>\n",
       "    <tr>\n",
       "      <th>secondary_cleaner.state.floatbank4_b_level</th>\n",
       "      <td>0.067733</td>\n",
       "      <td>-0.087961</td>\n",
       "      <td>-0.137180</td>\n",
       "      <td>0.122248</td>\n",
       "      <td>-0.058593</td>\n",
       "      <td>-0.005819</td>\n",
       "      <td>-0.080058</td>\n",
       "      <td>-0.038440</td>\n",
       "      <td>-0.031081</td>\n",
       "      <td>-0.013814</td>\n",
       "      <td>...</td>\n",
       "      <td>0.256080</td>\n",
       "      <td>0.322602</td>\n",
       "      <td>0.162442</td>\n",
       "      <td>1.000000</td>\n",
       "      <td>-0.107707</td>\n",
       "      <td>0.147114</td>\n",
       "      <td>-0.061246</td>\n",
       "      <td>0.085526</td>\n",
       "      <td>-0.336132</td>\n",
       "      <td>0.046965</td>\n",
       "    </tr>\n",
       "    <tr>\n",
       "      <th>secondary_cleaner.state.floatbank5_a_air</th>\n",
       "      <td>0.093433</td>\n",
       "      <td>-0.092530</td>\n",
       "      <td>-0.192880</td>\n",
       "      <td>0.059953</td>\n",
       "      <td>0.408050</td>\n",
       "      <td>-0.036132</td>\n",
       "      <td>0.415343</td>\n",
       "      <td>-0.009671</td>\n",
       "      <td>0.400765</td>\n",
       "      <td>-0.018878</td>\n",
       "      <td>...</td>\n",
       "      <td>0.523977</td>\n",
       "      <td>0.139509</td>\n",
       "      <td>0.621448</td>\n",
       "      <td>-0.107707</td>\n",
       "      <td>1.000000</td>\n",
       "      <td>0.159737</td>\n",
       "      <td>0.839300</td>\n",
       "      <td>0.097730</td>\n",
       "      <td>0.508881</td>\n",
       "      <td>0.080659</td>\n",
       "    </tr>\n",
       "    <tr>\n",
       "      <th>secondary_cleaner.state.floatbank5_a_level</th>\n",
       "      <td>0.127277</td>\n",
       "      <td>-0.001364</td>\n",
       "      <td>-0.059167</td>\n",
       "      <td>0.128417</td>\n",
       "      <td>0.271547</td>\n",
       "      <td>0.164220</td>\n",
       "      <td>0.260220</td>\n",
       "      <td>0.029409</td>\n",
       "      <td>0.239333</td>\n",
       "      <td>0.143313</td>\n",
       "      <td>...</td>\n",
       "      <td>0.221838</td>\n",
       "      <td>0.129475</td>\n",
       "      <td>0.231617</td>\n",
       "      <td>0.147114</td>\n",
       "      <td>0.159737</td>\n",
       "      <td>1.000000</td>\n",
       "      <td>0.224178</td>\n",
       "      <td>0.516684</td>\n",
       "      <td>-0.013499</td>\n",
       "      <td>0.404586</td>\n",
       "    </tr>\n",
       "    <tr>\n",
       "      <th>secondary_cleaner.state.floatbank5_b_air</th>\n",
       "      <td>0.156416</td>\n",
       "      <td>0.062158</td>\n",
       "      <td>-0.214970</td>\n",
       "      <td>0.078242</td>\n",
       "      <td>0.465492</td>\n",
       "      <td>-0.012665</td>\n",
       "      <td>0.499829</td>\n",
       "      <td>0.012115</td>\n",
       "      <td>0.500353</td>\n",
       "      <td>-0.004169</td>\n",
       "      <td>...</td>\n",
       "      <td>0.630029</td>\n",
       "      <td>0.196989</td>\n",
       "      <td>0.690637</td>\n",
       "      <td>-0.061246</td>\n",
       "      <td>0.839300</td>\n",
       "      <td>0.224178</td>\n",
       "      <td>1.000000</td>\n",
       "      <td>0.131951</td>\n",
       "      <td>0.463425</td>\n",
       "      <td>0.156877</td>\n",
       "    </tr>\n",
       "    <tr>\n",
       "      <th>secondary_cleaner.state.floatbank5_b_level</th>\n",
       "      <td>0.072229</td>\n",
       "      <td>-0.003504</td>\n",
       "      <td>-0.054173</td>\n",
       "      <td>0.096969</td>\n",
       "      <td>0.161509</td>\n",
       "      <td>0.091263</td>\n",
       "      <td>0.155978</td>\n",
       "      <td>0.004864</td>\n",
       "      <td>0.117465</td>\n",
       "      <td>0.061153</td>\n",
       "      <td>...</td>\n",
       "      <td>0.132053</td>\n",
       "      <td>0.038650</td>\n",
       "      <td>0.151066</td>\n",
       "      <td>0.085526</td>\n",
       "      <td>0.097730</td>\n",
       "      <td>0.516684</td>\n",
       "      <td>0.131951</td>\n",
       "      <td>1.000000</td>\n",
       "      <td>0.028312</td>\n",
       "      <td>0.336502</td>\n",
       "    </tr>\n",
       "    <tr>\n",
       "      <th>secondary_cleaner.state.floatbank6_a_air</th>\n",
       "      <td>-0.134194</td>\n",
       "      <td>-0.200422</td>\n",
       "      <td>0.026930</td>\n",
       "      <td>-0.217392</td>\n",
       "      <td>0.345231</td>\n",
       "      <td>-0.107710</td>\n",
       "      <td>0.389594</td>\n",
       "      <td>-0.006694</td>\n",
       "      <td>0.490672</td>\n",
       "      <td>-0.087866</td>\n",
       "      <td>...</td>\n",
       "      <td>0.082357</td>\n",
       "      <td>0.027717</td>\n",
       "      <td>0.188092</td>\n",
       "      <td>-0.336132</td>\n",
       "      <td>0.508881</td>\n",
       "      <td>-0.013499</td>\n",
       "      <td>0.463425</td>\n",
       "      <td>0.028312</td>\n",
       "      <td>1.000000</td>\n",
       "      <td>0.189606</td>\n",
       "    </tr>\n",
       "    <tr>\n",
       "      <th>secondary_cleaner.state.floatbank6_a_level</th>\n",
       "      <td>0.034655</td>\n",
       "      <td>0.029256</td>\n",
       "      <td>-0.083021</td>\n",
       "      <td>0.081986</td>\n",
       "      <td>0.172154</td>\n",
       "      <td>0.076271</td>\n",
       "      <td>0.187429</td>\n",
       "      <td>0.012904</td>\n",
       "      <td>0.169634</td>\n",
       "      <td>0.067955</td>\n",
       "      <td>...</td>\n",
       "      <td>0.145112</td>\n",
       "      <td>0.028501</td>\n",
       "      <td>0.142336</td>\n",
       "      <td>0.046965</td>\n",
       "      <td>0.080659</td>\n",
       "      <td>0.404586</td>\n",
       "      <td>0.156877</td>\n",
       "      <td>0.336502</td>\n",
       "      <td>0.189606</td>\n",
       "      <td>1.000000</td>\n",
       "    </tr>\n",
       "  </tbody>\n",
       "</table>\n",
       "<p>52 rows × 52 columns</p>\n",
       "</div>"
      ],
      "text/plain": [
       "                                            primary_cleaner.input.sulfate  \\\n",
       "primary_cleaner.input.sulfate                                    1.000000   \n",
       "primary_cleaner.input.depressant                                 0.452138   \n",
       "primary_cleaner.input.feed_size                                  0.114564   \n",
       "primary_cleaner.input.xanthate                                   0.496786   \n",
       "primary_cleaner.state.floatbank8_a_air                           0.100810   \n",
       "primary_cleaner.state.floatbank8_a_level                         0.047802   \n",
       "primary_cleaner.state.floatbank8_b_air                           0.074719   \n",
       "primary_cleaner.state.floatbank8_b_level                         0.139819   \n",
       "primary_cleaner.state.floatbank8_c_air                           0.024925   \n",
       "primary_cleaner.state.floatbank8_c_level                         0.028155   \n",
       "primary_cleaner.state.floatbank8_d_air                           0.093636   \n",
       "primary_cleaner.state.floatbank8_d_level                        -0.019008   \n",
       "rougher.input.feed_ag                                            0.359236   \n",
       "rougher.input.feed_pb                                            0.428248   \n",
       "rougher.input.feed_rate                                          0.461740   \n",
       "rougher.input.feed_size                                         -0.010257   \n",
       "rougher.input.feed_sol                                           0.423813   \n",
       "rougher.input.feed_au                                            0.436207   \n",
       "rougher.input.floatbank10_sulfate                                0.616477   \n",
       "rougher.input.floatbank10_xanthate                               0.550640   \n",
       "rougher.input.floatbank11_sulfate                                0.585522   \n",
       "rougher.input.floatbank11_xanthate                               0.539113   \n",
       "rougher.state.floatbank10_a_air                                  0.234925   \n",
       "rougher.state.floatbank10_a_level                                0.222601   \n",
       "rougher.state.floatbank10_b_air                                 -0.229253   \n",
       "rougher.state.floatbank10_b_level                               -0.047140   \n",
       "rougher.state.floatbank10_c_air                                 -0.245993   \n",
       "rougher.state.floatbank10_c_level                               -0.052403   \n",
       "rougher.state.floatbank10_d_air                                 -0.246659   \n",
       "rougher.state.floatbank10_d_level                               -0.014574   \n",
       "rougher.state.floatbank10_e_air                                 -0.233454   \n",
       "rougher.state.floatbank10_e_level                               -0.119842   \n",
       "rougher.state.floatbank10_f_air                                 -0.248709   \n",
       "rougher.state.floatbank10_f_level                               -0.063864   \n",
       "secondary_cleaner.state.floatbank2_a_air                         0.051477   \n",
       "secondary_cleaner.state.floatbank2_a_level                      -0.037756   \n",
       "secondary_cleaner.state.floatbank2_b_air                         0.257649   \n",
       "secondary_cleaner.state.floatbank2_b_level                      -0.010734   \n",
       "secondary_cleaner.state.floatbank3_a_air                         0.144912   \n",
       "secondary_cleaner.state.floatbank3_a_level                       0.004598   \n",
       "secondary_cleaner.state.floatbank3_b_air                         0.147967   \n",
       "secondary_cleaner.state.floatbank3_b_level                       0.020321   \n",
       "secondary_cleaner.state.floatbank4_a_air                         0.305068   \n",
       "secondary_cleaner.state.floatbank4_a_level                       0.116753   \n",
       "secondary_cleaner.state.floatbank4_b_air                         0.347817   \n",
       "secondary_cleaner.state.floatbank4_b_level                       0.067733   \n",
       "secondary_cleaner.state.floatbank5_a_air                         0.093433   \n",
       "secondary_cleaner.state.floatbank5_a_level                       0.127277   \n",
       "secondary_cleaner.state.floatbank5_b_air                         0.156416   \n",
       "secondary_cleaner.state.floatbank5_b_level                       0.072229   \n",
       "secondary_cleaner.state.floatbank6_a_air                        -0.134194   \n",
       "secondary_cleaner.state.floatbank6_a_level                       0.034655   \n",
       "\n",
       "                                            primary_cleaner.input.depressant  \\\n",
       "primary_cleaner.input.sulfate                                       0.452138   \n",
       "primary_cleaner.input.depressant                                    1.000000   \n",
       "primary_cleaner.input.feed_size                                     0.214707   \n",
       "primary_cleaner.input.xanthate                                      0.144649   \n",
       "primary_cleaner.state.floatbank8_a_air                              0.128135   \n",
       "primary_cleaner.state.floatbank8_a_level                            0.215392   \n",
       "primary_cleaner.state.floatbank8_b_air                              0.133109   \n",
       "primary_cleaner.state.floatbank8_b_level                            0.200031   \n",
       "primary_cleaner.state.floatbank8_c_air                              0.025947   \n",
       "primary_cleaner.state.floatbank8_c_level                            0.185370   \n",
       "primary_cleaner.state.floatbank8_d_air                              0.126572   \n",
       "primary_cleaner.state.floatbank8_d_level                            0.073040   \n",
       "rougher.input.feed_ag                                               0.497323   \n",
       "rougher.input.feed_pb                                               0.466184   \n",
       "rougher.input.feed_rate                                             0.133046   \n",
       "rougher.input.feed_size                                             0.005012   \n",
       "rougher.input.feed_sol                                              0.171353   \n",
       "rougher.input.feed_au                                               0.460382   \n",
       "rougher.input.floatbank10_sulfate                                   0.231353   \n",
       "rougher.input.floatbank10_xanthate                                  0.339256   \n",
       "rougher.input.floatbank11_sulfate                                   0.210909   \n",
       "rougher.input.floatbank11_xanthate                                  0.345551   \n",
       "rougher.state.floatbank10_a_air                                     0.408884   \n",
       "rougher.state.floatbank10_a_level                                   0.130801   \n",
       "rougher.state.floatbank10_b_air                                    -0.356190   \n",
       "rougher.state.floatbank10_b_level                                  -0.114405   \n",
       "rougher.state.floatbank10_c_air                                    -0.367074   \n",
       "rougher.state.floatbank10_c_level                                  -0.105012   \n",
       "rougher.state.floatbank10_d_air                                    -0.348432   \n",
       "rougher.state.floatbank10_d_level                                  -0.075352   \n",
       "rougher.state.floatbank10_e_air                                    -0.362110   \n",
       "rougher.state.floatbank10_e_level                                  -0.127322   \n",
       "rougher.state.floatbank10_f_air                                    -0.377406   \n",
       "rougher.state.floatbank10_f_level                                  -0.112718   \n",
       "secondary_cleaner.state.floatbank2_a_air                            0.077763   \n",
       "secondary_cleaner.state.floatbank2_a_level                         -0.089231   \n",
       "secondary_cleaner.state.floatbank2_b_air                            0.231374   \n",
       "secondary_cleaner.state.floatbank2_b_level                         -0.102904   \n",
       "secondary_cleaner.state.floatbank3_a_air                            0.280420   \n",
       "secondary_cleaner.state.floatbank3_a_level                          0.119902   \n",
       "secondary_cleaner.state.floatbank3_b_air                            0.253658   \n",
       "secondary_cleaner.state.floatbank3_b_level                          0.109505   \n",
       "secondary_cleaner.state.floatbank4_a_air                            0.321422   \n",
       "secondary_cleaner.state.floatbank4_a_level                          0.108111   \n",
       "secondary_cleaner.state.floatbank4_b_air                            0.234910   \n",
       "secondary_cleaner.state.floatbank4_b_level                         -0.087961   \n",
       "secondary_cleaner.state.floatbank5_a_air                           -0.092530   \n",
       "secondary_cleaner.state.floatbank5_a_level                         -0.001364   \n",
       "secondary_cleaner.state.floatbank5_b_air                            0.062158   \n",
       "secondary_cleaner.state.floatbank5_b_level                         -0.003504   \n",
       "secondary_cleaner.state.floatbank6_a_air                           -0.200422   \n",
       "secondary_cleaner.state.floatbank6_a_level                          0.029256   \n",
       "\n",
       "                                            primary_cleaner.input.feed_size  \\\n",
       "primary_cleaner.input.sulfate                                      0.114564   \n",
       "primary_cleaner.input.depressant                                   0.214707   \n",
       "primary_cleaner.input.feed_size                                    1.000000   \n",
       "primary_cleaner.input.xanthate                                    -0.291292   \n",
       "primary_cleaner.state.floatbank8_a_air                            -0.064628   \n",
       "primary_cleaner.state.floatbank8_a_level                           0.082869   \n",
       "primary_cleaner.state.floatbank8_b_air                            -0.063490   \n",
       "primary_cleaner.state.floatbank8_b_level                           0.071470   \n",
       "primary_cleaner.state.floatbank8_c_air                            -0.091542   \n",
       "primary_cleaner.state.floatbank8_c_level                           0.066384   \n",
       "primary_cleaner.state.floatbank8_d_air                            -0.074156   \n",
       "primary_cleaner.state.floatbank8_d_level                           0.065808   \n",
       "rougher.input.feed_ag                                              0.338795   \n",
       "rougher.input.feed_pb                                              0.000398   \n",
       "rougher.input.feed_rate                                            0.019618   \n",
       "rougher.input.feed_size                                           -0.087339   \n",
       "rougher.input.feed_sol                                             0.057400   \n",
       "rougher.input.feed_au                                              0.238692   \n",
       "rougher.input.floatbank10_sulfate                                 -0.186211   \n",
       "rougher.input.floatbank10_xanthate                                 0.224360   \n",
       "rougher.input.floatbank11_sulfate                                 -0.231701   \n",
       "rougher.input.floatbank11_xanthate                                 0.200080   \n",
       "rougher.state.floatbank10_a_air                                    0.023678   \n",
       "rougher.state.floatbank10_a_level                                 -0.236632   \n",
       "rougher.state.floatbank10_b_air                                    0.044605   \n",
       "rougher.state.floatbank10_b_level                                  0.051614   \n",
       "rougher.state.floatbank10_c_air                                    0.064617   \n",
       "rougher.state.floatbank10_c_level                                  0.049608   \n",
       "rougher.state.floatbank10_d_air                                   -0.009526   \n",
       "rougher.state.floatbank10_d_level                                  0.073623   \n",
       "rougher.state.floatbank10_e_air                                   -0.012558   \n",
       "rougher.state.floatbank10_e_level                                  0.006890   \n",
       "rougher.state.floatbank10_f_air                                   -0.129796   \n",
       "rougher.state.floatbank10_f_level                                  0.036627   \n",
       "secondary_cleaner.state.floatbank2_a_air                          -0.128544   \n",
       "secondary_cleaner.state.floatbank2_a_level                         0.044605   \n",
       "secondary_cleaner.state.floatbank2_b_air                          -0.182687   \n",
       "secondary_cleaner.state.floatbank2_b_level                         0.005911   \n",
       "secondary_cleaner.state.floatbank3_a_air                           0.024735   \n",
       "secondary_cleaner.state.floatbank3_a_level                         0.032868   \n",
       "secondary_cleaner.state.floatbank3_b_air                          -0.017527   \n",
       "secondary_cleaner.state.floatbank3_b_level                         0.025709   \n",
       "secondary_cleaner.state.floatbank4_a_air                          -0.148328   \n",
       "secondary_cleaner.state.floatbank4_a_level                        -0.121148   \n",
       "secondary_cleaner.state.floatbank4_b_air                          -0.173658   \n",
       "secondary_cleaner.state.floatbank4_b_level                        -0.137180   \n",
       "secondary_cleaner.state.floatbank5_a_air                          -0.192880   \n",
       "secondary_cleaner.state.floatbank5_a_level                        -0.059167   \n",
       "secondary_cleaner.state.floatbank5_b_air                          -0.214970   \n",
       "secondary_cleaner.state.floatbank5_b_level                        -0.054173   \n",
       "secondary_cleaner.state.floatbank6_a_air                           0.026930   \n",
       "secondary_cleaner.state.floatbank6_a_level                        -0.083021   \n",
       "\n",
       "                                            primary_cleaner.input.xanthate  \\\n",
       "primary_cleaner.input.sulfate                                     0.496786   \n",
       "primary_cleaner.input.depressant                                  0.144649   \n",
       "primary_cleaner.input.feed_size                                  -0.291292   \n",
       "primary_cleaner.input.xanthate                                    1.000000   \n",
       "primary_cleaner.state.floatbank8_a_air                            0.208295   \n",
       "primary_cleaner.state.floatbank8_a_level                         -0.056301   \n",
       "primary_cleaner.state.floatbank8_b_air                            0.153433   \n",
       "primary_cleaner.state.floatbank8_b_level                          0.017111   \n",
       "primary_cleaner.state.floatbank8_c_air                            0.045527   \n",
       "primary_cleaner.state.floatbank8_c_level                         -0.075309   \n",
       "primary_cleaner.state.floatbank8_d_air                            0.174404   \n",
       "primary_cleaner.state.floatbank8_d_level                         -0.141550   \n",
       "rougher.input.feed_ag                                             0.049574   \n",
       "rougher.input.feed_pb                                             0.241885   \n",
       "rougher.input.feed_rate                                           0.464580   \n",
       "rougher.input.feed_size                                           0.195480   \n",
       "rougher.input.feed_sol                                            0.372327   \n",
       "rougher.input.feed_au                                             0.095280   \n",
       "rougher.input.floatbank10_sulfate                                 0.581719   \n",
       "rougher.input.floatbank10_xanthate                                0.350601   \n",
       "rougher.input.floatbank11_sulfate                                 0.594250   \n",
       "rougher.input.floatbank11_xanthate                                0.378950   \n",
       "rougher.state.floatbank10_a_air                                   0.402104   \n",
       "rougher.state.floatbank10_a_level                                 0.424813   \n",
       "rougher.state.floatbank10_b_air                                  -0.385724   \n",
       "rougher.state.floatbank10_b_level                                -0.341158   \n",
       "rougher.state.floatbank10_c_air                                  -0.404612   \n",
       "rougher.state.floatbank10_c_level                                -0.345842   \n",
       "rougher.state.floatbank10_d_air                                  -0.392190   \n",
       "rougher.state.floatbank10_d_level                                -0.325264   \n",
       "rougher.state.floatbank10_e_air                                  -0.320581   \n",
       "rougher.state.floatbank10_e_level                                -0.362139   \n",
       "rougher.state.floatbank10_f_air                                  -0.289656   \n",
       "rougher.state.floatbank10_f_level                                -0.333668   \n",
       "secondary_cleaner.state.floatbank2_a_air                         -0.038199   \n",
       "secondary_cleaner.state.floatbank2_a_level                       -0.160438   \n",
       "secondary_cleaner.state.floatbank2_b_air                          0.221401   \n",
       "secondary_cleaner.state.floatbank2_b_level                       -0.111152   \n",
       "secondary_cleaner.state.floatbank3_a_air                         -0.041667   \n",
       "secondary_cleaner.state.floatbank3_a_level                       -0.033249   \n",
       "secondary_cleaner.state.floatbank3_b_air                         -0.050318   \n",
       "secondary_cleaner.state.floatbank3_b_level                       -0.008513   \n",
       "secondary_cleaner.state.floatbank4_a_air                          0.313515   \n",
       "secondary_cleaner.state.floatbank4_a_level                        0.131815   \n",
       "secondary_cleaner.state.floatbank4_b_air                          0.361214   \n",
       "secondary_cleaner.state.floatbank4_b_level                        0.122248   \n",
       "secondary_cleaner.state.floatbank5_a_air                          0.059953   \n",
       "secondary_cleaner.state.floatbank5_a_level                        0.128417   \n",
       "secondary_cleaner.state.floatbank5_b_air                          0.078242   \n",
       "secondary_cleaner.state.floatbank5_b_level                        0.096969   \n",
       "secondary_cleaner.state.floatbank6_a_air                         -0.217392   \n",
       "secondary_cleaner.state.floatbank6_a_level                        0.081986   \n",
       "\n",
       "                                            primary_cleaner.state.floatbank8_a_air  \\\n",
       "primary_cleaner.input.sulfate                                             0.100810   \n",
       "primary_cleaner.input.depressant                                          0.128135   \n",
       "primary_cleaner.input.feed_size                                          -0.064628   \n",
       "primary_cleaner.input.xanthate                                            0.208295   \n",
       "primary_cleaner.state.floatbank8_a_air                                    1.000000   \n",
       "primary_cleaner.state.floatbank8_a_level                                  0.121274   \n",
       "primary_cleaner.state.floatbank8_b_air                                    0.968679   \n",
       "primary_cleaner.state.floatbank8_b_level                                 -0.018713   \n",
       "primary_cleaner.state.floatbank8_c_air                                    0.814992   \n",
       "primary_cleaner.state.floatbank8_c_level                                  0.114058   \n",
       "primary_cleaner.state.floatbank8_d_air                                    0.959166   \n",
       "primary_cleaner.state.floatbank8_d_level                                  0.061389   \n",
       "rougher.input.feed_ag                                                     0.252818   \n",
       "rougher.input.feed_pb                                                     0.064620   \n",
       "rougher.input.feed_rate                                                  -0.010564   \n",
       "rougher.input.feed_size                                                  -0.073142   \n",
       "rougher.input.feed_sol                                                   -0.060574   \n",
       "rougher.input.feed_au                                                     0.218384   \n",
       "rougher.input.floatbank10_sulfate                                         0.041911   \n",
       "rougher.input.floatbank10_xanthate                                        0.187693   \n",
       "rougher.input.floatbank11_sulfate                                         0.046837   \n",
       "rougher.input.floatbank11_xanthate                                        0.199009   \n",
       "rougher.state.floatbank10_a_air                                           0.215473   \n",
       "rougher.state.floatbank10_a_level                                        -0.033903   \n",
       "rougher.state.floatbank10_b_air                                           0.199338   \n",
       "rougher.state.floatbank10_b_level                                         0.291111   \n",
       "rougher.state.floatbank10_c_air                                           0.216971   \n",
       "rougher.state.floatbank10_c_level                                         0.285786   \n",
       "rougher.state.floatbank10_d_air                                           0.160151   \n",
       "rougher.state.floatbank10_d_level                                         0.245276   \n",
       "rougher.state.floatbank10_e_air                                           0.347687   \n",
       "rougher.state.floatbank10_e_level                                         0.280493   \n",
       "rougher.state.floatbank10_f_air                                           0.280753   \n",
       "rougher.state.floatbank10_f_level                                         0.289477   \n",
       "secondary_cleaner.state.floatbank2_a_air                                  0.258797   \n",
       "secondary_cleaner.state.floatbank2_a_level                               -0.059849   \n",
       "secondary_cleaner.state.floatbank2_b_air                                  0.422603   \n",
       "secondary_cleaner.state.floatbank2_b_level                               -0.084396   \n",
       "secondary_cleaner.state.floatbank3_a_air                                  0.369040   \n",
       "secondary_cleaner.state.floatbank3_a_level                               -0.040073   \n",
       "secondary_cleaner.state.floatbank3_b_air                                  0.457278   \n",
       "secondary_cleaner.state.floatbank3_b_level                               -0.007847   \n",
       "secondary_cleaner.state.floatbank4_a_air                                  0.469180   \n",
       "secondary_cleaner.state.floatbank4_a_level                                0.005962   \n",
       "secondary_cleaner.state.floatbank4_b_air                                  0.476742   \n",
       "secondary_cleaner.state.floatbank4_b_level                               -0.058593   \n",
       "secondary_cleaner.state.floatbank5_a_air                                  0.408050   \n",
       "secondary_cleaner.state.floatbank5_a_level                                0.271547   \n",
       "secondary_cleaner.state.floatbank5_b_air                                  0.465492   \n",
       "secondary_cleaner.state.floatbank5_b_level                                0.161509   \n",
       "secondary_cleaner.state.floatbank6_a_air                                  0.345231   \n",
       "secondary_cleaner.state.floatbank6_a_level                                0.172154   \n",
       "\n",
       "                                            primary_cleaner.state.floatbank8_a_level  \\\n",
       "primary_cleaner.input.sulfate                                               0.047802   \n",
       "primary_cleaner.input.depressant                                            0.215392   \n",
       "primary_cleaner.input.feed_size                                             0.082869   \n",
       "primary_cleaner.input.xanthate                                             -0.056301   \n",
       "primary_cleaner.state.floatbank8_a_air                                      0.121274   \n",
       "primary_cleaner.state.floatbank8_a_level                                    1.000000   \n",
       "primary_cleaner.state.floatbank8_b_air                                      0.101975   \n",
       "primary_cleaner.state.floatbank8_b_level                                    0.417515   \n",
       "primary_cleaner.state.floatbank8_c_air                                     -0.018378   \n",
       "primary_cleaner.state.floatbank8_c_level                                    0.784061   \n",
       "primary_cleaner.state.floatbank8_d_air                                      0.110760   \n",
       "primary_cleaner.state.floatbank8_d_level                                    0.406960   \n",
       "rougher.input.feed_ag                                                       0.197111   \n",
       "rougher.input.feed_pb                                                       0.231743   \n",
       "rougher.input.feed_rate                                                    -0.009139   \n",
       "rougher.input.feed_size                                                     0.004788   \n",
       "rougher.input.feed_sol                                                      0.055251   \n",
       "rougher.input.feed_au                                                       0.184980   \n",
       "rougher.input.floatbank10_sulfate                                          -0.058344   \n",
       "rougher.input.floatbank10_xanthate                                          0.110566   \n",
       "rougher.input.floatbank11_sulfate                                          -0.079213   \n",
       "rougher.input.floatbank11_xanthate                                          0.090125   \n",
       "rougher.state.floatbank10_a_air                                             0.387206   \n",
       "rougher.state.floatbank10_a_level                                           0.159607   \n",
       "rougher.state.floatbank10_b_air                                            -0.076365   \n",
       "rougher.state.floatbank10_b_level                                          -0.037724   \n",
       "rougher.state.floatbank10_c_air                                            -0.129885   \n",
       "rougher.state.floatbank10_c_level                                          -0.043906   \n",
       "rougher.state.floatbank10_d_air                                            -0.134939   \n",
       "rougher.state.floatbank10_d_level                                          -0.071941   \n",
       "rougher.state.floatbank10_e_air                                            -0.098849   \n",
       "rougher.state.floatbank10_e_level                                          -0.072159   \n",
       "rougher.state.floatbank10_f_air                                            -0.050940   \n",
       "rougher.state.floatbank10_f_level                                          -0.042153   \n",
       "secondary_cleaner.state.floatbank2_a_air                                    0.108288   \n",
       "secondary_cleaner.state.floatbank2_a_level                                  0.083484   \n",
       "secondary_cleaner.state.floatbank2_b_air                                    0.163920   \n",
       "secondary_cleaner.state.floatbank2_b_level                                  0.080897   \n",
       "secondary_cleaner.state.floatbank3_a_air                                    0.083934   \n",
       "secondary_cleaner.state.floatbank3_a_level                                  0.069909   \n",
       "secondary_cleaner.state.floatbank3_b_air                                    0.057372   \n",
       "secondary_cleaner.state.floatbank3_b_level                                  0.053060   \n",
       "secondary_cleaner.state.floatbank4_a_air                                    0.171716   \n",
       "secondary_cleaner.state.floatbank4_a_level                                  0.096500   \n",
       "secondary_cleaner.state.floatbank4_b_air                                    0.084418   \n",
       "secondary_cleaner.state.floatbank4_b_level                                 -0.005819   \n",
       "secondary_cleaner.state.floatbank5_a_air                                   -0.036132   \n",
       "secondary_cleaner.state.floatbank5_a_level                                  0.164220   \n",
       "secondary_cleaner.state.floatbank5_b_air                                   -0.012665   \n",
       "secondary_cleaner.state.floatbank5_b_level                                  0.091263   \n",
       "secondary_cleaner.state.floatbank6_a_air                                   -0.107710   \n",
       "secondary_cleaner.state.floatbank6_a_level                                  0.076271   \n",
       "\n",
       "                                            primary_cleaner.state.floatbank8_b_air  \\\n",
       "primary_cleaner.input.sulfate                                             0.074719   \n",
       "primary_cleaner.input.depressant                                          0.133109   \n",
       "primary_cleaner.input.feed_size                                          -0.063490   \n",
       "primary_cleaner.input.xanthate                                            0.153433   \n",
       "primary_cleaner.state.floatbank8_a_air                                    0.968679   \n",
       "primary_cleaner.state.floatbank8_a_level                                  0.101975   \n",
       "primary_cleaner.state.floatbank8_b_air                                    1.000000   \n",
       "primary_cleaner.state.floatbank8_b_level                                  0.010220   \n",
       "primary_cleaner.state.floatbank8_c_air                                    0.862946   \n",
       "primary_cleaner.state.floatbank8_c_level                                  0.101127   \n",
       "primary_cleaner.state.floatbank8_d_air                                    0.974342   \n",
       "primary_cleaner.state.floatbank8_d_level                                  0.059940   \n",
       "rougher.input.feed_ag                                                     0.250553   \n",
       "rougher.input.feed_pb                                                     0.054633   \n",
       "rougher.input.feed_rate                                                  -0.044562   \n",
       "rougher.input.feed_size                                                  -0.098048   \n",
       "rougher.input.feed_sol                                                   -0.088980   \n",
       "rougher.input.feed_au                                                     0.243540   \n",
       "rougher.input.floatbank10_sulfate                                         0.035523   \n",
       "rougher.input.floatbank10_xanthate                                        0.172360   \n",
       "rougher.input.floatbank11_sulfate                                         0.047361   \n",
       "rougher.input.floatbank11_xanthate                                        0.194925   \n",
       "rougher.state.floatbank10_a_air                                           0.169211   \n",
       "rougher.state.floatbank10_a_level                                        -0.073373   \n",
       "rougher.state.floatbank10_b_air                                           0.230489   \n",
       "rougher.state.floatbank10_b_level                                         0.371841   \n",
       "rougher.state.floatbank10_c_air                                           0.259523   \n",
       "rougher.state.floatbank10_c_level                                         0.368792   \n",
       "rougher.state.floatbank10_d_air                                           0.203227   \n",
       "rougher.state.floatbank10_d_level                                         0.327134   \n",
       "rougher.state.floatbank10_e_air                                           0.402047   \n",
       "rougher.state.floatbank10_e_level                                         0.391511   \n",
       "rougher.state.floatbank10_f_air                                           0.344900   \n",
       "rougher.state.floatbank10_f_level                                         0.394670   \n",
       "secondary_cleaner.state.floatbank2_a_air                                  0.326207   \n",
       "secondary_cleaner.state.floatbank2_a_level                               -0.052484   \n",
       "secondary_cleaner.state.floatbank2_b_air                                  0.458442   \n",
       "secondary_cleaner.state.floatbank2_b_level                               -0.079535   \n",
       "secondary_cleaner.state.floatbank3_a_air                                  0.415503   \n",
       "secondary_cleaner.state.floatbank3_a_level                               -0.023823   \n",
       "secondary_cleaner.state.floatbank3_b_air                                  0.518832   \n",
       "secondary_cleaner.state.floatbank3_b_level                                0.008616   \n",
       "secondary_cleaner.state.floatbank4_a_air                                  0.483741   \n",
       "secondary_cleaner.state.floatbank4_a_level                                0.023801   \n",
       "secondary_cleaner.state.floatbank4_b_air                                  0.487327   \n",
       "secondary_cleaner.state.floatbank4_b_level                               -0.080058   \n",
       "secondary_cleaner.state.floatbank5_a_air                                  0.415343   \n",
       "secondary_cleaner.state.floatbank5_a_level                                0.260220   \n",
       "secondary_cleaner.state.floatbank5_b_air                                  0.499829   \n",
       "secondary_cleaner.state.floatbank5_b_level                                0.155978   \n",
       "secondary_cleaner.state.floatbank6_a_air                                  0.389594   \n",
       "secondary_cleaner.state.floatbank6_a_level                                0.187429   \n",
       "\n",
       "                                            primary_cleaner.state.floatbank8_b_level  \\\n",
       "primary_cleaner.input.sulfate                                               0.139819   \n",
       "primary_cleaner.input.depressant                                            0.200031   \n",
       "primary_cleaner.input.feed_size                                             0.071470   \n",
       "primary_cleaner.input.xanthate                                              0.017111   \n",
       "primary_cleaner.state.floatbank8_a_air                                     -0.018713   \n",
       "primary_cleaner.state.floatbank8_a_level                                    0.417515   \n",
       "primary_cleaner.state.floatbank8_b_air                                      0.010220   \n",
       "primary_cleaner.state.floatbank8_b_level                                    1.000000   \n",
       "primary_cleaner.state.floatbank8_c_air                                     -0.029228   \n",
       "primary_cleaner.state.floatbank8_c_level                                    0.406721   \n",
       "primary_cleaner.state.floatbank8_d_air                                      0.015972   \n",
       "primary_cleaner.state.floatbank8_d_level                                    0.233257   \n",
       "rougher.input.feed_ag                                                       0.128053   \n",
       "rougher.input.feed_pb                                                       0.223188   \n",
       "rougher.input.feed_rate                                                     0.031262   \n",
       "rougher.input.feed_size                                                    -0.043022   \n",
       "rougher.input.feed_sol                                                      0.049419   \n",
       "rougher.input.feed_au                                                       0.178838   \n",
       "rougher.input.floatbank10_sulfate                                           0.023787   \n",
       "rougher.input.floatbank10_xanthate                                          0.067695   \n",
       "rougher.input.floatbank11_sulfate                                           0.045953   \n",
       "rougher.input.floatbank11_xanthate                                          0.102405   \n",
       "rougher.state.floatbank10_a_air                                             0.207161   \n",
       "rougher.state.floatbank10_a_level                                           0.076225   \n",
       "rougher.state.floatbank10_b_air                                            -0.014215   \n",
       "rougher.state.floatbank10_b_level                                           0.020230   \n",
       "rougher.state.floatbank10_c_air                                            -0.052763   \n",
       "rougher.state.floatbank10_c_level                                           0.007639   \n",
       "rougher.state.floatbank10_d_air                                            -0.015855   \n",
       "rougher.state.floatbank10_d_level                                           0.005728   \n",
       "rougher.state.floatbank10_e_air                                            -0.052321   \n",
       "rougher.state.floatbank10_e_level                                           0.002047   \n",
       "rougher.state.floatbank10_f_air                                            -0.007648   \n",
       "rougher.state.floatbank10_f_level                                           0.013656   \n",
       "secondary_cleaner.state.floatbank2_a_air                                    0.064035   \n",
       "secondary_cleaner.state.floatbank2_a_level                                  0.006019   \n",
       "secondary_cleaner.state.floatbank2_b_air                                    0.104585   \n",
       "secondary_cleaner.state.floatbank2_b_level                                  0.009400   \n",
       "secondary_cleaner.state.floatbank3_a_air                                    0.086051   \n",
       "secondary_cleaner.state.floatbank3_a_level                                  0.094441   \n",
       "secondary_cleaner.state.floatbank3_b_air                                    0.081030   \n",
       "secondary_cleaner.state.floatbank3_b_level                                  0.100982   \n",
       "secondary_cleaner.state.floatbank4_a_air                                    0.078411   \n",
       "secondary_cleaner.state.floatbank4_a_level                                  0.216342   \n",
       "secondary_cleaner.state.floatbank4_b_air                                    0.054902   \n",
       "secondary_cleaner.state.floatbank4_b_level                                 -0.038440   \n",
       "secondary_cleaner.state.floatbank5_a_air                                   -0.009671   \n",
       "secondary_cleaner.state.floatbank5_a_level                                  0.029409   \n",
       "secondary_cleaner.state.floatbank5_b_air                                    0.012115   \n",
       "secondary_cleaner.state.floatbank5_b_level                                  0.004864   \n",
       "secondary_cleaner.state.floatbank6_a_air                                   -0.006694   \n",
       "secondary_cleaner.state.floatbank6_a_level                                  0.012904   \n",
       "\n",
       "                                            primary_cleaner.state.floatbank8_c_air  \\\n",
       "primary_cleaner.input.sulfate                                             0.024925   \n",
       "primary_cleaner.input.depressant                                          0.025947   \n",
       "primary_cleaner.input.feed_size                                          -0.091542   \n",
       "primary_cleaner.input.xanthate                                            0.045527   \n",
       "primary_cleaner.state.floatbank8_a_air                                    0.814992   \n",
       "primary_cleaner.state.floatbank8_a_level                                 -0.018378   \n",
       "primary_cleaner.state.floatbank8_b_air                                    0.862946   \n",
       "primary_cleaner.state.floatbank8_b_level                                 -0.029228   \n",
       "primary_cleaner.state.floatbank8_c_air                                    1.000000   \n",
       "primary_cleaner.state.floatbank8_c_level                                  0.003322   \n",
       "primary_cleaner.state.floatbank8_d_air                                    0.848010   \n",
       "primary_cleaner.state.floatbank8_d_level                                  0.013847   \n",
       "rougher.input.feed_ag                                                     0.149500   \n",
       "rougher.input.feed_pb                                                    -0.054736   \n",
       "rougher.input.feed_rate                                                  -0.101521   \n",
       "rougher.input.feed_size                                                  -0.162543   \n",
       "rougher.input.feed_sol                                                   -0.157935   \n",
       "rougher.input.feed_au                                                     0.168597   \n",
       "rougher.input.floatbank10_sulfate                                        -0.016792   \n",
       "rougher.input.floatbank10_xanthate                                        0.135009   \n",
       "rougher.input.floatbank11_sulfate                                         0.016075   \n",
       "rougher.input.floatbank11_xanthate                                        0.181177   \n",
       "rougher.state.floatbank10_a_air                                          -0.087974   \n",
       "rougher.state.floatbank10_a_level                                        -0.222135   \n",
       "rougher.state.floatbank10_b_air                                           0.300457   \n",
       "rougher.state.floatbank10_b_level                                         0.451746   \n",
       "rougher.state.floatbank10_c_air                                           0.360889   \n",
       "rougher.state.floatbank10_c_level                                         0.453606   \n",
       "rougher.state.floatbank10_d_air                                           0.310832   \n",
       "rougher.state.floatbank10_d_level                                         0.406637   \n",
       "rougher.state.floatbank10_e_air                                           0.452348   \n",
       "rougher.state.floatbank10_e_level                                         0.463951   \n",
       "rougher.state.floatbank10_f_air                                           0.354735   \n",
       "rougher.state.floatbank10_f_level                                         0.471963   \n",
       "secondary_cleaner.state.floatbank2_a_air                                  0.277849   \n",
       "secondary_cleaner.state.floatbank2_a_level                                0.022228   \n",
       "secondary_cleaner.state.floatbank2_b_air                                  0.363017   \n",
       "secondary_cleaner.state.floatbank2_b_level                               -0.014146   \n",
       "secondary_cleaner.state.floatbank3_a_air                                  0.412137   \n",
       "secondary_cleaner.state.floatbank3_a_level                               -0.030285   \n",
       "secondary_cleaner.state.floatbank3_b_air                                  0.493835   \n",
       "secondary_cleaner.state.floatbank3_b_level                               -0.000623   \n",
       "secondary_cleaner.state.floatbank4_a_air                                  0.366373   \n",
       "secondary_cleaner.state.floatbank4_a_level                                0.047373   \n",
       "secondary_cleaner.state.floatbank4_b_air                                  0.396029   \n",
       "secondary_cleaner.state.floatbank4_b_level                               -0.031081   \n",
       "secondary_cleaner.state.floatbank5_a_air                                  0.400765   \n",
       "secondary_cleaner.state.floatbank5_a_level                                0.239333   \n",
       "secondary_cleaner.state.floatbank5_b_air                                  0.500353   \n",
       "secondary_cleaner.state.floatbank5_b_level                                0.117465   \n",
       "secondary_cleaner.state.floatbank6_a_air                                  0.490672   \n",
       "secondary_cleaner.state.floatbank6_a_level                                0.169634   \n",
       "\n",
       "                                            primary_cleaner.state.floatbank8_c_level  \\\n",
       "primary_cleaner.input.sulfate                                               0.028155   \n",
       "primary_cleaner.input.depressant                                            0.185370   \n",
       "primary_cleaner.input.feed_size                                             0.066384   \n",
       "primary_cleaner.input.xanthate                                             -0.075309   \n",
       "primary_cleaner.state.floatbank8_a_air                                      0.114058   \n",
       "primary_cleaner.state.floatbank8_a_level                                    0.784061   \n",
       "primary_cleaner.state.floatbank8_b_air                                      0.101127   \n",
       "primary_cleaner.state.floatbank8_b_level                                    0.406721   \n",
       "primary_cleaner.state.floatbank8_c_air                                      0.003322   \n",
       "primary_cleaner.state.floatbank8_c_level                                    1.000000   \n",
       "primary_cleaner.state.floatbank8_d_air                                      0.113492   \n",
       "primary_cleaner.state.floatbank8_d_level                                    0.486463   \n",
       "rougher.input.feed_ag                                                       0.162198   \n",
       "rougher.input.feed_pb                                                       0.176345   \n",
       "rougher.input.feed_rate                                                    -0.006190   \n",
       "rougher.input.feed_size                                                     0.002130   \n",
       "rougher.input.feed_sol                                                      0.040593   \n",
       "rougher.input.feed_au                                                       0.143132   \n",
       "rougher.input.floatbank10_sulfate                                          -0.069795   \n",
       "rougher.input.floatbank10_xanthate                                          0.082145   \n",
       "rougher.input.floatbank11_sulfate                                          -0.083834   \n",
       "rougher.input.floatbank11_xanthate                                          0.067524   \n",
       "rougher.state.floatbank10_a_air                                             0.333690   \n",
       "rougher.state.floatbank10_a_level                                           0.131849   \n",
       "rougher.state.floatbank10_b_air                                            -0.039398   \n",
       "rougher.state.floatbank10_b_level                                          -0.015591   \n",
       "rougher.state.floatbank10_c_air                                            -0.089468   \n",
       "rougher.state.floatbank10_c_level                                          -0.020945   \n",
       "rougher.state.floatbank10_d_air                                            -0.089773   \n",
       "rougher.state.floatbank10_d_level                                          -0.049447   \n",
       "rougher.state.floatbank10_e_air                                            -0.067798   \n",
       "rougher.state.floatbank10_e_level                                          -0.048384   \n",
       "rougher.state.floatbank10_f_air                                            -0.022972   \n",
       "rougher.state.floatbank10_f_level                                          -0.019199   \n",
       "secondary_cleaner.state.floatbank2_a_air                                    0.107413   \n",
       "secondary_cleaner.state.floatbank2_a_level                                  0.075413   \n",
       "secondary_cleaner.state.floatbank2_b_air                                    0.150466   \n",
       "secondary_cleaner.state.floatbank2_b_level                                  0.066475   \n",
       "secondary_cleaner.state.floatbank3_a_air                                    0.074927   \n",
       "secondary_cleaner.state.floatbank3_a_level                                  0.065685   \n",
       "secondary_cleaner.state.floatbank3_b_air                                    0.058887   \n",
       "secondary_cleaner.state.floatbank3_b_level                                  0.050184   \n",
       "secondary_cleaner.state.floatbank4_a_air                                    0.151945   \n",
       "secondary_cleaner.state.floatbank4_a_level                                  0.093293   \n",
       "secondary_cleaner.state.floatbank4_b_air                                    0.071559   \n",
       "secondary_cleaner.state.floatbank4_b_level                                 -0.013814   \n",
       "secondary_cleaner.state.floatbank5_a_air                                   -0.018878   \n",
       "secondary_cleaner.state.floatbank5_a_level                                  0.143313   \n",
       "secondary_cleaner.state.floatbank5_b_air                                   -0.004169   \n",
       "secondary_cleaner.state.floatbank5_b_level                                  0.061153   \n",
       "secondary_cleaner.state.floatbank6_a_air                                   -0.087866   \n",
       "secondary_cleaner.state.floatbank6_a_level                                  0.067955   \n",
       "\n",
       "                                            ...  \\\n",
       "primary_cleaner.input.sulfate               ...   \n",
       "primary_cleaner.input.depressant            ...   \n",
       "primary_cleaner.input.feed_size             ...   \n",
       "primary_cleaner.input.xanthate              ...   \n",
       "primary_cleaner.state.floatbank8_a_air      ...   \n",
       "primary_cleaner.state.floatbank8_a_level    ...   \n",
       "primary_cleaner.state.floatbank8_b_air      ...   \n",
       "primary_cleaner.state.floatbank8_b_level    ...   \n",
       "primary_cleaner.state.floatbank8_c_air      ...   \n",
       "primary_cleaner.state.floatbank8_c_level    ...   \n",
       "primary_cleaner.state.floatbank8_d_air      ...   \n",
       "primary_cleaner.state.floatbank8_d_level    ...   \n",
       "rougher.input.feed_ag                       ...   \n",
       "rougher.input.feed_pb                       ...   \n",
       "rougher.input.feed_rate                     ...   \n",
       "rougher.input.feed_size                     ...   \n",
       "rougher.input.feed_sol                      ...   \n",
       "rougher.input.feed_au                       ...   \n",
       "rougher.input.floatbank10_sulfate           ...   \n",
       "rougher.input.floatbank10_xanthate          ...   \n",
       "rougher.input.floatbank11_sulfate           ...   \n",
       "rougher.input.floatbank11_xanthate          ...   \n",
       "rougher.state.floatbank10_a_air             ...   \n",
       "rougher.state.floatbank10_a_level           ...   \n",
       "rougher.state.floatbank10_b_air             ...   \n",
       "rougher.state.floatbank10_b_level           ...   \n",
       "rougher.state.floatbank10_c_air             ...   \n",
       "rougher.state.floatbank10_c_level           ...   \n",
       "rougher.state.floatbank10_d_air             ...   \n",
       "rougher.state.floatbank10_d_level           ...   \n",
       "rougher.state.floatbank10_e_air             ...   \n",
       "rougher.state.floatbank10_e_level           ...   \n",
       "rougher.state.floatbank10_f_air             ...   \n",
       "rougher.state.floatbank10_f_level           ...   \n",
       "secondary_cleaner.state.floatbank2_a_air    ...   \n",
       "secondary_cleaner.state.floatbank2_a_level  ...   \n",
       "secondary_cleaner.state.floatbank2_b_air    ...   \n",
       "secondary_cleaner.state.floatbank2_b_level  ...   \n",
       "secondary_cleaner.state.floatbank3_a_air    ...   \n",
       "secondary_cleaner.state.floatbank3_a_level  ...   \n",
       "secondary_cleaner.state.floatbank3_b_air    ...   \n",
       "secondary_cleaner.state.floatbank3_b_level  ...   \n",
       "secondary_cleaner.state.floatbank4_a_air    ...   \n",
       "secondary_cleaner.state.floatbank4_a_level  ...   \n",
       "secondary_cleaner.state.floatbank4_b_air    ...   \n",
       "secondary_cleaner.state.floatbank4_b_level  ...   \n",
       "secondary_cleaner.state.floatbank5_a_air    ...   \n",
       "secondary_cleaner.state.floatbank5_a_level  ...   \n",
       "secondary_cleaner.state.floatbank5_b_air    ...   \n",
       "secondary_cleaner.state.floatbank5_b_level  ...   \n",
       "secondary_cleaner.state.floatbank6_a_air    ...   \n",
       "secondary_cleaner.state.floatbank6_a_level  ...   \n",
       "\n",
       "                                            secondary_cleaner.state.floatbank4_a_air  \\\n",
       "primary_cleaner.input.sulfate                                               0.305068   \n",
       "primary_cleaner.input.depressant                                            0.321422   \n",
       "primary_cleaner.input.feed_size                                            -0.148328   \n",
       "primary_cleaner.input.xanthate                                              0.313515   \n",
       "primary_cleaner.state.floatbank8_a_air                                      0.469180   \n",
       "primary_cleaner.state.floatbank8_a_level                                    0.171716   \n",
       "primary_cleaner.state.floatbank8_b_air                                      0.483741   \n",
       "primary_cleaner.state.floatbank8_b_level                                    0.078411   \n",
       "primary_cleaner.state.floatbank8_c_air                                      0.366373   \n",
       "primary_cleaner.state.floatbank8_c_level                                    0.151945   \n",
       "primary_cleaner.state.floatbank8_d_air                                      0.485859   \n",
       "primary_cleaner.state.floatbank8_d_level                                    0.053297   \n",
       "rougher.input.feed_ag                                                       0.167571   \n",
       "rougher.input.feed_pb                                                       0.114111   \n",
       "rougher.input.feed_rate                                                     0.169978   \n",
       "rougher.input.feed_size                                                     0.127876   \n",
       "rougher.input.feed_sol                                                      0.146671   \n",
       "rougher.input.feed_au                                                       0.165834   \n",
       "rougher.input.floatbank10_sulfate                                           0.306822   \n",
       "rougher.input.floatbank10_xanthate                                          0.240843   \n",
       "rougher.input.floatbank11_sulfate                                           0.277188   \n",
       "rougher.input.floatbank11_xanthate                                          0.214027   \n",
       "rougher.state.floatbank10_a_air                                             0.296594   \n",
       "rougher.state.floatbank10_a_level                                           0.207514   \n",
       "rougher.state.floatbank10_b_air                                            -0.171947   \n",
       "rougher.state.floatbank10_b_level                                           0.067727   \n",
       "rougher.state.floatbank10_c_air                                            -0.168834   \n",
       "rougher.state.floatbank10_c_level                                           0.068885   \n",
       "rougher.state.floatbank10_d_air                                            -0.173221   \n",
       "rougher.state.floatbank10_d_level                                           0.072947   \n",
       "rougher.state.floatbank10_e_air                                             0.018780   \n",
       "rougher.state.floatbank10_e_level                                           0.150501   \n",
       "rougher.state.floatbank10_f_air                                             0.043791   \n",
       "rougher.state.floatbank10_f_level                                           0.168028   \n",
       "secondary_cleaner.state.floatbank2_a_air                                    0.394394   \n",
       "secondary_cleaner.state.floatbank2_a_level                                 -0.076507   \n",
       "secondary_cleaner.state.floatbank2_b_air                                    0.637334   \n",
       "secondary_cleaner.state.floatbank2_b_level                                 -0.062850   \n",
       "secondary_cleaner.state.floatbank3_a_air                                    0.413034   \n",
       "secondary_cleaner.state.floatbank3_a_level                                 -0.067846   \n",
       "secondary_cleaner.state.floatbank3_b_air                                    0.480531   \n",
       "secondary_cleaner.state.floatbank3_b_level                                 -0.048674   \n",
       "secondary_cleaner.state.floatbank4_a_air                                    1.000000   \n",
       "secondary_cleaner.state.floatbank4_a_level                                  0.346120   \n",
       "secondary_cleaner.state.floatbank4_b_air                                    0.925344   \n",
       "secondary_cleaner.state.floatbank4_b_level                                  0.256080   \n",
       "secondary_cleaner.state.floatbank5_a_air                                    0.523977   \n",
       "secondary_cleaner.state.floatbank5_a_level                                  0.221838   \n",
       "secondary_cleaner.state.floatbank5_b_air                                    0.630029   \n",
       "secondary_cleaner.state.floatbank5_b_level                                  0.132053   \n",
       "secondary_cleaner.state.floatbank6_a_air                                    0.082357   \n",
       "secondary_cleaner.state.floatbank6_a_level                                  0.145112   \n",
       "\n",
       "                                            secondary_cleaner.state.floatbank4_a_level  \\\n",
       "primary_cleaner.input.sulfate                                                 0.116753   \n",
       "primary_cleaner.input.depressant                                              0.108111   \n",
       "primary_cleaner.input.feed_size                                              -0.121148   \n",
       "primary_cleaner.input.xanthate                                                0.131815   \n",
       "primary_cleaner.state.floatbank8_a_air                                        0.005962   \n",
       "primary_cleaner.state.floatbank8_a_level                                      0.096500   \n",
       "primary_cleaner.state.floatbank8_b_air                                        0.023801   \n",
       "primary_cleaner.state.floatbank8_b_level                                      0.216342   \n",
       "primary_cleaner.state.floatbank8_c_air                                        0.047373   \n",
       "primary_cleaner.state.floatbank8_c_level                                      0.093293   \n",
       "primary_cleaner.state.floatbank8_d_air                                        0.022615   \n",
       "primary_cleaner.state.floatbank8_d_level                                      0.043851   \n",
       "rougher.input.feed_ag                                                        -0.069478   \n",
       "rougher.input.feed_pb                                                        -0.004391   \n",
       "rougher.input.feed_rate                                                       0.123496   \n",
       "rougher.input.feed_size                                                       0.062334   \n",
       "rougher.input.feed_sol                                                        0.065137   \n",
       "rougher.input.feed_au                                                        -0.039397   \n",
       "rougher.input.floatbank10_sulfate                                             0.163263   \n",
       "rougher.input.floatbank10_xanthate                                            0.070772   \n",
       "rougher.input.floatbank11_sulfate                                             0.191199   \n",
       "rougher.input.floatbank11_xanthate                                            0.099220   \n",
       "rougher.state.floatbank10_a_air                                               0.087591   \n",
       "rougher.state.floatbank10_a_level                                             0.131345   \n",
       "rougher.state.floatbank10_b_air                                               0.009334   \n",
       "rougher.state.floatbank10_b_level                                             0.010268   \n",
       "rougher.state.floatbank10_c_air                                              -0.010049   \n",
       "rougher.state.floatbank10_c_level                                             0.011038   \n",
       "rougher.state.floatbank10_d_air                                               0.025358   \n",
       "rougher.state.floatbank10_d_level                                            -0.013329   \n",
       "rougher.state.floatbank10_e_air                                              -0.034684   \n",
       "rougher.state.floatbank10_e_level                                             0.006505   \n",
       "rougher.state.floatbank10_f_air                                               0.025162   \n",
       "rougher.state.floatbank10_f_level                                             0.024309   \n",
       "secondary_cleaner.state.floatbank2_a_air                                      0.181484   \n",
       "secondary_cleaner.state.floatbank2_a_level                                    0.029511   \n",
       "secondary_cleaner.state.floatbank2_b_air                                      0.182724   \n",
       "secondary_cleaner.state.floatbank2_b_level                                    0.030289   \n",
       "secondary_cleaner.state.floatbank3_a_air                                      0.051117   \n",
       "secondary_cleaner.state.floatbank3_a_level                                    0.007752   \n",
       "secondary_cleaner.state.floatbank3_b_air                                      0.073603   \n",
       "secondary_cleaner.state.floatbank3_b_level                                    0.003195   \n",
       "secondary_cleaner.state.floatbank4_a_air                                      0.346120   \n",
       "secondary_cleaner.state.floatbank4_a_level                                    1.000000   \n",
       "secondary_cleaner.state.floatbank4_b_air                                      0.291668   \n",
       "secondary_cleaner.state.floatbank4_b_level                                    0.322602   \n",
       "secondary_cleaner.state.floatbank5_a_air                                      0.139509   \n",
       "secondary_cleaner.state.floatbank5_a_level                                    0.129475   \n",
       "secondary_cleaner.state.floatbank5_b_air                                      0.196989   \n",
       "secondary_cleaner.state.floatbank5_b_level                                    0.038650   \n",
       "secondary_cleaner.state.floatbank6_a_air                                      0.027717   \n",
       "secondary_cleaner.state.floatbank6_a_level                                    0.028501   \n",
       "\n",
       "                                            secondary_cleaner.state.floatbank4_b_air  \\\n",
       "primary_cleaner.input.sulfate                                               0.347817   \n",
       "primary_cleaner.input.depressant                                            0.234910   \n",
       "primary_cleaner.input.feed_size                                            -0.173658   \n",
       "primary_cleaner.input.xanthate                                              0.361214   \n",
       "primary_cleaner.state.floatbank8_a_air                                      0.476742   \n",
       "primary_cleaner.state.floatbank8_a_level                                    0.084418   \n",
       "primary_cleaner.state.floatbank8_b_air                                      0.487327   \n",
       "primary_cleaner.state.floatbank8_b_level                                    0.054902   \n",
       "primary_cleaner.state.floatbank8_c_air                                      0.396029   \n",
       "primary_cleaner.state.floatbank8_c_level                                    0.071559   \n",
       "primary_cleaner.state.floatbank8_d_air                                      0.491643   \n",
       "primary_cleaner.state.floatbank8_d_level                                    0.001856   \n",
       "rougher.input.feed_ag                                                       0.150561   \n",
       "rougher.input.feed_pb                                                       0.138647   \n",
       "rougher.input.feed_rate                                                     0.128504   \n",
       "rougher.input.feed_size                                                     0.037296   \n",
       "rougher.input.feed_sol                                                      0.084524   \n",
       "rougher.input.feed_au                                                       0.160088   \n",
       "rougher.input.floatbank10_sulfate                                           0.330181   \n",
       "rougher.input.floatbank10_xanthate                                          0.187300   \n",
       "rougher.input.floatbank11_sulfate                                           0.306050   \n",
       "rougher.input.floatbank11_xanthate                                          0.160767   \n",
       "rougher.state.floatbank10_a_air                                             0.239912   \n",
       "rougher.state.floatbank10_a_level                                           0.116369   \n",
       "rougher.state.floatbank10_b_air                                            -0.099376   \n",
       "rougher.state.floatbank10_b_level                                           0.105702   \n",
       "rougher.state.floatbank10_c_air                                            -0.100264   \n",
       "rougher.state.floatbank10_c_level                                           0.104035   \n",
       "rougher.state.floatbank10_d_air                                            -0.084851   \n",
       "rougher.state.floatbank10_d_level                                           0.109479   \n",
       "rougher.state.floatbank10_e_air                                             0.067346   \n",
       "rougher.state.floatbank10_e_level                                           0.168247   \n",
       "rougher.state.floatbank10_f_air                                             0.084106   \n",
       "rougher.state.floatbank10_f_level                                           0.188557   \n",
       "secondary_cleaner.state.floatbank2_a_air                                    0.375035   \n",
       "secondary_cleaner.state.floatbank2_a_level                                 -0.097089   \n",
       "secondary_cleaner.state.floatbank2_b_air                                    0.660157   \n",
       "secondary_cleaner.state.floatbank2_b_level                                 -0.077545   \n",
       "secondary_cleaner.state.floatbank3_a_air                                    0.434205   \n",
       "secondary_cleaner.state.floatbank3_a_level                                 -0.088951   \n",
       "secondary_cleaner.state.floatbank3_b_air                                    0.534658   \n",
       "secondary_cleaner.state.floatbank3_b_level                                 -0.061874   \n",
       "secondary_cleaner.state.floatbank4_a_air                                    0.925344   \n",
       "secondary_cleaner.state.floatbank4_a_level                                  0.291668   \n",
       "secondary_cleaner.state.floatbank4_b_air                                    1.000000   \n",
       "secondary_cleaner.state.floatbank4_b_level                                  0.162442   \n",
       "secondary_cleaner.state.floatbank5_a_air                                    0.621448   \n",
       "secondary_cleaner.state.floatbank5_a_level                                  0.231617   \n",
       "secondary_cleaner.state.floatbank5_b_air                                    0.690637   \n",
       "secondary_cleaner.state.floatbank5_b_level                                  0.151066   \n",
       "secondary_cleaner.state.floatbank6_a_air                                    0.188092   \n",
       "secondary_cleaner.state.floatbank6_a_level                                  0.142336   \n",
       "\n",
       "                                            secondary_cleaner.state.floatbank4_b_level  \\\n",
       "primary_cleaner.input.sulfate                                                 0.067733   \n",
       "primary_cleaner.input.depressant                                             -0.087961   \n",
       "primary_cleaner.input.feed_size                                              -0.137180   \n",
       "primary_cleaner.input.xanthate                                                0.122248   \n",
       "primary_cleaner.state.floatbank8_a_air                                       -0.058593   \n",
       "primary_cleaner.state.floatbank8_a_level                                     -0.005819   \n",
       "primary_cleaner.state.floatbank8_b_air                                       -0.080058   \n",
       "primary_cleaner.state.floatbank8_b_level                                     -0.038440   \n",
       "primary_cleaner.state.floatbank8_c_air                                       -0.031081   \n",
       "primary_cleaner.state.floatbank8_c_level                                     -0.013814   \n",
       "primary_cleaner.state.floatbank8_d_air                                       -0.072571   \n",
       "primary_cleaner.state.floatbank8_d_level                                     -0.017416   \n",
       "rougher.input.feed_ag                                                        -0.291577   \n",
       "rougher.input.feed_pb                                                        -0.206534   \n",
       "rougher.input.feed_rate                                                       0.357253   \n",
       "rougher.input.feed_size                                                       0.324755   \n",
       "rougher.input.feed_sol                                                        0.407716   \n",
       "rougher.input.feed_au                                                        -0.266889   \n",
       "rougher.input.floatbank10_sulfate                                             0.298407   \n",
       "rougher.input.floatbank10_xanthate                                            0.163137   \n",
       "rougher.input.floatbank11_sulfate                                             0.321607   \n",
       "rougher.input.floatbank11_xanthate                                            0.203885   \n",
       "rougher.state.floatbank10_a_air                                              -0.123604   \n",
       "rougher.state.floatbank10_a_level                                             0.261028   \n",
       "rougher.state.floatbank10_b_air                                              -0.213919   \n",
       "rougher.state.floatbank10_b_level                                            -0.213382   \n",
       "rougher.state.floatbank10_c_air                                              -0.229330   \n",
       "rougher.state.floatbank10_c_level                                            -0.217125   \n",
       "rougher.state.floatbank10_d_air                                              -0.262495   \n",
       "rougher.state.floatbank10_d_level                                            -0.220828   \n",
       "rougher.state.floatbank10_e_air                                              -0.169546   \n",
       "rougher.state.floatbank10_e_level                                            -0.214266   \n",
       "rougher.state.floatbank10_f_air                                              -0.112751   \n",
       "rougher.state.floatbank10_f_level                                            -0.210791   \n",
       "secondary_cleaner.state.floatbank2_a_air                                     -0.007873   \n",
       "secondary_cleaner.state.floatbank2_a_level                                   -0.016680   \n",
       "secondary_cleaner.state.floatbank2_b_air                                      0.000320   \n",
       "secondary_cleaner.state.floatbank2_b_level                                    0.013354   \n",
       "secondary_cleaner.state.floatbank3_a_air                                     -0.059103   \n",
       "secondary_cleaner.state.floatbank3_a_level                                    0.018798   \n",
       "secondary_cleaner.state.floatbank3_b_air                                     -0.188031   \n",
       "secondary_cleaner.state.floatbank3_b_level                                    0.035838   \n",
       "secondary_cleaner.state.floatbank4_a_air                                      0.256080   \n",
       "secondary_cleaner.state.floatbank4_a_level                                    0.322602   \n",
       "secondary_cleaner.state.floatbank4_b_air                                      0.162442   \n",
       "secondary_cleaner.state.floatbank4_b_level                                    1.000000   \n",
       "secondary_cleaner.state.floatbank5_a_air                                     -0.107707   \n",
       "secondary_cleaner.state.floatbank5_a_level                                    0.147114   \n",
       "secondary_cleaner.state.floatbank5_b_air                                     -0.061246   \n",
       "secondary_cleaner.state.floatbank5_b_level                                    0.085526   \n",
       "secondary_cleaner.state.floatbank6_a_air                                     -0.336132   \n",
       "secondary_cleaner.state.floatbank6_a_level                                    0.046965   \n",
       "\n",
       "                                            secondary_cleaner.state.floatbank5_a_air  \\\n",
       "primary_cleaner.input.sulfate                                               0.093433   \n",
       "primary_cleaner.input.depressant                                           -0.092530   \n",
       "primary_cleaner.input.feed_size                                            -0.192880   \n",
       "primary_cleaner.input.xanthate                                              0.059953   \n",
       "primary_cleaner.state.floatbank8_a_air                                      0.408050   \n",
       "primary_cleaner.state.floatbank8_a_level                                   -0.036132   \n",
       "primary_cleaner.state.floatbank8_b_air                                      0.415343   \n",
       "primary_cleaner.state.floatbank8_b_level                                   -0.009671   \n",
       "primary_cleaner.state.floatbank8_c_air                                      0.400765   \n",
       "primary_cleaner.state.floatbank8_c_level                                   -0.018878   \n",
       "primary_cleaner.state.floatbank8_d_air                                      0.412552   \n",
       "primary_cleaner.state.floatbank8_d_level                                    0.008748   \n",
       "rougher.input.feed_ag                                                      -0.033441   \n",
       "rougher.input.feed_pb                                                      -0.068303   \n",
       "rougher.input.feed_rate                                                    -0.137284   \n",
       "rougher.input.feed_size                                                    -0.117026   \n",
       "rougher.input.feed_sol                                                     -0.226731   \n",
       "rougher.input.feed_au                                                      -0.037379   \n",
       "rougher.input.floatbank10_sulfate                                           0.041357   \n",
       "rougher.input.floatbank10_xanthate                                         -0.141634   \n",
       "rougher.input.floatbank11_sulfate                                           0.069535   \n",
       "rougher.input.floatbank11_xanthate                                         -0.136782   \n",
       "rougher.state.floatbank10_a_air                                            -0.043592   \n",
       "rougher.state.floatbank10_a_level                                          -0.130661   \n",
       "rougher.state.floatbank10_b_air                                             0.351196   \n",
       "rougher.state.floatbank10_b_level                                           0.177808   \n",
       "rougher.state.floatbank10_c_air                                             0.334076   \n",
       "rougher.state.floatbank10_c_level                                           0.172000   \n",
       "rougher.state.floatbank10_d_air                                             0.368140   \n",
       "rougher.state.floatbank10_d_level                                           0.148741   \n",
       "rougher.state.floatbank10_e_air                                             0.395027   \n",
       "rougher.state.floatbank10_e_level                                           0.264139   \n",
       "rougher.state.floatbank10_f_air                                             0.409527   \n",
       "rougher.state.floatbank10_f_level                                           0.261930   \n",
       "secondary_cleaner.state.floatbank2_a_air                                    0.364503   \n",
       "secondary_cleaner.state.floatbank2_a_level                                 -0.013389   \n",
       "secondary_cleaner.state.floatbank2_b_air                                    0.511434   \n",
       "secondary_cleaner.state.floatbank2_b_level                                 -0.020293   \n",
       "secondary_cleaner.state.floatbank3_a_air                                    0.313944   \n",
       "secondary_cleaner.state.floatbank3_a_level                                 -0.197216   \n",
       "secondary_cleaner.state.floatbank3_b_air                                    0.462017   \n",
       "secondary_cleaner.state.floatbank3_b_level                                 -0.174450   \n",
       "secondary_cleaner.state.floatbank4_a_air                                    0.523977   \n",
       "secondary_cleaner.state.floatbank4_a_level                                  0.139509   \n",
       "secondary_cleaner.state.floatbank4_b_air                                    0.621448   \n",
       "secondary_cleaner.state.floatbank4_b_level                                 -0.107707   \n",
       "secondary_cleaner.state.floatbank5_a_air                                    1.000000   \n",
       "secondary_cleaner.state.floatbank5_a_level                                  0.159737   \n",
       "secondary_cleaner.state.floatbank5_b_air                                    0.839300   \n",
       "secondary_cleaner.state.floatbank5_b_level                                  0.097730   \n",
       "secondary_cleaner.state.floatbank6_a_air                                    0.508881   \n",
       "secondary_cleaner.state.floatbank6_a_level                                  0.080659   \n",
       "\n",
       "                                            secondary_cleaner.state.floatbank5_a_level  \\\n",
       "primary_cleaner.input.sulfate                                                 0.127277   \n",
       "primary_cleaner.input.depressant                                             -0.001364   \n",
       "primary_cleaner.input.feed_size                                              -0.059167   \n",
       "primary_cleaner.input.xanthate                                                0.128417   \n",
       "primary_cleaner.state.floatbank8_a_air                                        0.271547   \n",
       "primary_cleaner.state.floatbank8_a_level                                      0.164220   \n",
       "primary_cleaner.state.floatbank8_b_air                                        0.260220   \n",
       "primary_cleaner.state.floatbank8_b_level                                      0.029409   \n",
       "primary_cleaner.state.floatbank8_c_air                                        0.239333   \n",
       "primary_cleaner.state.floatbank8_c_level                                      0.143313   \n",
       "primary_cleaner.state.floatbank8_d_air                                        0.259882   \n",
       "primary_cleaner.state.floatbank8_d_level                                      0.078442   \n",
       "rougher.input.feed_ag                                                        -0.011144   \n",
       "rougher.input.feed_pb                                                         0.052358   \n",
       "rougher.input.feed_rate                                                       0.089104   \n",
       "rougher.input.feed_size                                                       0.042609   \n",
       "rougher.input.feed_sol                                                        0.089657   \n",
       "rougher.input.feed_au                                                         0.016553   \n",
       "rougher.input.floatbank10_sulfate                                             0.084638   \n",
       "rougher.input.floatbank10_xanthate                                            0.130590   \n",
       "rougher.input.floatbank11_sulfate                                             0.111017   \n",
       "rougher.input.floatbank11_xanthate                                            0.153905   \n",
       "rougher.state.floatbank10_a_air                                               0.105358   \n",
       "rougher.state.floatbank10_a_level                                             0.119156   \n",
       "rougher.state.floatbank10_b_air                                               0.116437   \n",
       "rougher.state.floatbank10_b_level                                             0.089507   \n",
       "rougher.state.floatbank10_c_air                                               0.092861   \n",
       "rougher.state.floatbank10_c_level                                             0.078225   \n",
       "rougher.state.floatbank10_d_air                                               0.060210   \n",
       "rougher.state.floatbank10_d_level                                             0.048372   \n",
       "rougher.state.floatbank10_e_air                                               0.087056   \n",
       "rougher.state.floatbank10_e_level                                             0.050704   \n",
       "rougher.state.floatbank10_f_air                                               0.085782   \n",
       "rougher.state.floatbank10_f_level                                             0.066304   \n",
       "secondary_cleaner.state.floatbank2_a_air                                      0.161537   \n",
       "secondary_cleaner.state.floatbank2_a_level                                    0.077666   \n",
       "secondary_cleaner.state.floatbank2_b_air                                      0.227661   \n",
       "secondary_cleaner.state.floatbank2_b_level                                    0.078675   \n",
       "secondary_cleaner.state.floatbank3_a_air                                      0.185076   \n",
       "secondary_cleaner.state.floatbank3_a_level                                    0.045148   \n",
       "secondary_cleaner.state.floatbank3_b_air                                      0.174008   \n",
       "secondary_cleaner.state.floatbank3_b_level                                    0.189707   \n",
       "secondary_cleaner.state.floatbank4_a_air                                      0.221838   \n",
       "secondary_cleaner.state.floatbank4_a_level                                    0.129475   \n",
       "secondary_cleaner.state.floatbank4_b_air                                      0.231617   \n",
       "secondary_cleaner.state.floatbank4_b_level                                    0.147114   \n",
       "secondary_cleaner.state.floatbank5_a_air                                      0.159737   \n",
       "secondary_cleaner.state.floatbank5_a_level                                    1.000000   \n",
       "secondary_cleaner.state.floatbank5_b_air                                      0.224178   \n",
       "secondary_cleaner.state.floatbank5_b_level                                    0.516684   \n",
       "secondary_cleaner.state.floatbank6_a_air                                     -0.013499   \n",
       "secondary_cleaner.state.floatbank6_a_level                                    0.404586   \n",
       "\n",
       "                                            secondary_cleaner.state.floatbank5_b_air  \\\n",
       "primary_cleaner.input.sulfate                                               0.156416   \n",
       "primary_cleaner.input.depressant                                            0.062158   \n",
       "primary_cleaner.input.feed_size                                            -0.214970   \n",
       "primary_cleaner.input.xanthate                                              0.078242   \n",
       "primary_cleaner.state.floatbank8_a_air                                      0.465492   \n",
       "primary_cleaner.state.floatbank8_a_level                                   -0.012665   \n",
       "primary_cleaner.state.floatbank8_b_air                                      0.499829   \n",
       "primary_cleaner.state.floatbank8_b_level                                    0.012115   \n",
       "primary_cleaner.state.floatbank8_c_air                                      0.500353   \n",
       "primary_cleaner.state.floatbank8_c_level                                   -0.004169   \n",
       "primary_cleaner.state.floatbank8_d_air                                      0.492616   \n",
       "primary_cleaner.state.floatbank8_d_level                                    0.006287   \n",
       "rougher.input.feed_ag                                                      -0.042389   \n",
       "rougher.input.feed_pb                                                      -0.029590   \n",
       "rougher.input.feed_rate                                                    -0.073595   \n",
       "rougher.input.feed_size                                                    -0.104550   \n",
       "rougher.input.feed_sol                                                     -0.172539   \n",
       "rougher.input.feed_au                                                      -0.015953   \n",
       "rougher.input.floatbank10_sulfate                                           0.144253   \n",
       "rougher.input.floatbank10_xanthate                                         -0.043725   \n",
       "rougher.input.floatbank11_sulfate                                           0.165928   \n",
       "rougher.input.floatbank11_xanthate                                         -0.033273   \n",
       "rougher.state.floatbank10_a_air                                            -0.078618   \n",
       "rougher.state.floatbank10_a_level                                           0.023681   \n",
       "rougher.state.floatbank10_b_air                                             0.291708   \n",
       "rougher.state.floatbank10_b_level                                           0.345947   \n",
       "rougher.state.floatbank10_c_air                                             0.309043   \n",
       "rougher.state.floatbank10_c_level                                           0.353681   \n",
       "rougher.state.floatbank10_d_air                                             0.340406   \n",
       "rougher.state.floatbank10_d_level                                           0.332464   \n",
       "rougher.state.floatbank10_e_air                                             0.414665   \n",
       "rougher.state.floatbank10_e_level                                           0.407902   \n",
       "rougher.state.floatbank10_f_air                                             0.415871   \n",
       "rougher.state.floatbank10_f_level                                           0.392998   \n",
       "secondary_cleaner.state.floatbank2_a_air                                    0.482914   \n",
       "secondary_cleaner.state.floatbank2_a_level                                  0.001987   \n",
       "secondary_cleaner.state.floatbank2_b_air                                    0.667856   \n",
       "secondary_cleaner.state.floatbank2_b_level                                 -0.006990   \n",
       "secondary_cleaner.state.floatbank3_a_air                                    0.526658   \n",
       "secondary_cleaner.state.floatbank3_a_level                                 -0.088070   \n",
       "secondary_cleaner.state.floatbank3_b_air                                    0.641391   \n",
       "secondary_cleaner.state.floatbank3_b_level                                 -0.061240   \n",
       "secondary_cleaner.state.floatbank4_a_air                                    0.630029   \n",
       "secondary_cleaner.state.floatbank4_a_level                                  0.196989   \n",
       "secondary_cleaner.state.floatbank4_b_air                                    0.690637   \n",
       "secondary_cleaner.state.floatbank4_b_level                                 -0.061246   \n",
       "secondary_cleaner.state.floatbank5_a_air                                    0.839300   \n",
       "secondary_cleaner.state.floatbank5_a_level                                  0.224178   \n",
       "secondary_cleaner.state.floatbank5_b_air                                    1.000000   \n",
       "secondary_cleaner.state.floatbank5_b_level                                  0.131951   \n",
       "secondary_cleaner.state.floatbank6_a_air                                    0.463425   \n",
       "secondary_cleaner.state.floatbank6_a_level                                  0.156877   \n",
       "\n",
       "                                            secondary_cleaner.state.floatbank5_b_level  \\\n",
       "primary_cleaner.input.sulfate                                                 0.072229   \n",
       "primary_cleaner.input.depressant                                             -0.003504   \n",
       "primary_cleaner.input.feed_size                                              -0.054173   \n",
       "primary_cleaner.input.xanthate                                                0.096969   \n",
       "primary_cleaner.state.floatbank8_a_air                                        0.161509   \n",
       "primary_cleaner.state.floatbank8_a_level                                      0.091263   \n",
       "primary_cleaner.state.floatbank8_b_air                                        0.155978   \n",
       "primary_cleaner.state.floatbank8_b_level                                      0.004864   \n",
       "primary_cleaner.state.floatbank8_c_air                                        0.117465   \n",
       "primary_cleaner.state.floatbank8_c_level                                      0.061153   \n",
       "primary_cleaner.state.floatbank8_d_air                                        0.158148   \n",
       "primary_cleaner.state.floatbank8_d_level                                      0.006570   \n",
       "rougher.input.feed_ag                                                         0.039210   \n",
       "rougher.input.feed_pb                                                         0.077829   \n",
       "rougher.input.feed_rate                                                       0.012324   \n",
       "rougher.input.feed_size                                                      -0.004300   \n",
       "rougher.input.feed_sol                                                        0.009571   \n",
       "rougher.input.feed_au                                                         0.074743   \n",
       "rougher.input.floatbank10_sulfate                                             0.060772   \n",
       "rougher.input.floatbank10_xanthate                                            0.081810   \n",
       "rougher.input.floatbank11_sulfate                                             0.069145   \n",
       "rougher.input.floatbank11_xanthate                                            0.088701   \n",
       "rougher.state.floatbank10_a_air                                               0.072453   \n",
       "rougher.state.floatbank10_a_level                                             0.012086   \n",
       "rougher.state.floatbank10_b_air                                               0.078298   \n",
       "rougher.state.floatbank10_b_level                                             0.058823   \n",
       "rougher.state.floatbank10_c_air                                               0.070987   \n",
       "rougher.state.floatbank10_c_level                                             0.054056   \n",
       "rougher.state.floatbank10_d_air                                               0.045190   \n",
       "rougher.state.floatbank10_d_level                                             0.039969   \n",
       "rougher.state.floatbank10_e_air                                               0.084650   \n",
       "rougher.state.floatbank10_e_level                                             0.048908   \n",
       "rougher.state.floatbank10_f_air                                               0.074507   \n",
       "rougher.state.floatbank10_f_level                                             0.056624   \n",
       "secondary_cleaner.state.floatbank2_a_air                                      0.088558   \n",
       "secondary_cleaner.state.floatbank2_a_level                                    0.010127   \n",
       "secondary_cleaner.state.floatbank2_b_air                                      0.129761   \n",
       "secondary_cleaner.state.floatbank2_b_level                                    0.014914   \n",
       "secondary_cleaner.state.floatbank3_a_air                                      0.097897   \n",
       "secondary_cleaner.state.floatbank3_a_level                                   -0.024978   \n",
       "secondary_cleaner.state.floatbank3_b_air                                      0.089819   \n",
       "secondary_cleaner.state.floatbank3_b_level                                    0.049728   \n",
       "secondary_cleaner.state.floatbank4_a_air                                      0.132053   \n",
       "secondary_cleaner.state.floatbank4_a_level                                    0.038650   \n",
       "secondary_cleaner.state.floatbank4_b_air                                      0.151066   \n",
       "secondary_cleaner.state.floatbank4_b_level                                    0.085526   \n",
       "secondary_cleaner.state.floatbank5_a_air                                      0.097730   \n",
       "secondary_cleaner.state.floatbank5_a_level                                    0.516684   \n",
       "secondary_cleaner.state.floatbank5_b_air                                      0.131951   \n",
       "secondary_cleaner.state.floatbank5_b_level                                    1.000000   \n",
       "secondary_cleaner.state.floatbank6_a_air                                      0.028312   \n",
       "secondary_cleaner.state.floatbank6_a_level                                    0.336502   \n",
       "\n",
       "                                            secondary_cleaner.state.floatbank6_a_air  \\\n",
       "primary_cleaner.input.sulfate                                              -0.134194   \n",
       "primary_cleaner.input.depressant                                           -0.200422   \n",
       "primary_cleaner.input.feed_size                                             0.026930   \n",
       "primary_cleaner.input.xanthate                                             -0.217392   \n",
       "primary_cleaner.state.floatbank8_a_air                                      0.345231   \n",
       "primary_cleaner.state.floatbank8_a_level                                   -0.107710   \n",
       "primary_cleaner.state.floatbank8_b_air                                      0.389594   \n",
       "primary_cleaner.state.floatbank8_b_level                                   -0.006694   \n",
       "primary_cleaner.state.floatbank8_c_air                                      0.490672   \n",
       "primary_cleaner.state.floatbank8_c_level                                   -0.087866   \n",
       "primary_cleaner.state.floatbank8_d_air                                      0.378070   \n",
       "primary_cleaner.state.floatbank8_d_level                                   -0.036983   \n",
       "rougher.input.feed_ag                                                       0.212922   \n",
       "rougher.input.feed_pb                                                      -0.125363   \n",
       "rougher.input.feed_rate                                                    -0.413417   \n",
       "rougher.input.feed_size                                                    -0.355951   \n",
       "rougher.input.feed_sol                                                     -0.483905   \n",
       "rougher.input.feed_au                                                       0.191477   \n",
       "rougher.input.floatbank10_sulfate                                          -0.312294   \n",
       "rougher.input.floatbank10_xanthate                                         -0.112190   \n",
       "rougher.input.floatbank11_sulfate                                          -0.315921   \n",
       "rougher.input.floatbank11_xanthate                                         -0.126049   \n",
       "rougher.state.floatbank10_a_air                                            -0.334347   \n",
       "rougher.state.floatbank10_a_level                                          -0.561842   \n",
       "rougher.state.floatbank10_b_air                                             0.533462   \n",
       "rougher.state.floatbank10_b_level                                           0.455330   \n",
       "rougher.state.floatbank10_c_air                                             0.621525   \n",
       "rougher.state.floatbank10_c_level                                           0.455477   \n",
       "rougher.state.floatbank10_d_air                                             0.598880   \n",
       "rougher.state.floatbank10_d_level                                           0.430585   \n",
       "rougher.state.floatbank10_e_air                                             0.578157   \n",
       "rougher.state.floatbank10_e_level                                           0.484825   \n",
       "rougher.state.floatbank10_f_air                                             0.434982   \n",
       "rougher.state.floatbank10_f_level                                           0.483501   \n",
       "secondary_cleaner.state.floatbank2_a_air                                    0.146562   \n",
       "secondary_cleaner.state.floatbank2_a_level                                  0.048933   \n",
       "secondary_cleaner.state.floatbank2_b_air                                    0.104266   \n",
       "secondary_cleaner.state.floatbank2_b_level                                  0.010788   \n",
       "secondary_cleaner.state.floatbank3_a_air                                    0.273846   \n",
       "secondary_cleaner.state.floatbank3_a_level                                 -0.127807   \n",
       "secondary_cleaner.state.floatbank3_b_air                                    0.395344   \n",
       "secondary_cleaner.state.floatbank3_b_level                                 -0.144723   \n",
       "secondary_cleaner.state.floatbank4_a_air                                    0.082357   \n",
       "secondary_cleaner.state.floatbank4_a_level                                  0.027717   \n",
       "secondary_cleaner.state.floatbank4_b_air                                    0.188092   \n",
       "secondary_cleaner.state.floatbank4_b_level                                 -0.336132   \n",
       "secondary_cleaner.state.floatbank5_a_air                                    0.508881   \n",
       "secondary_cleaner.state.floatbank5_a_level                                 -0.013499   \n",
       "secondary_cleaner.state.floatbank5_b_air                                    0.463425   \n",
       "secondary_cleaner.state.floatbank5_b_level                                  0.028312   \n",
       "secondary_cleaner.state.floatbank6_a_air                                    1.000000   \n",
       "secondary_cleaner.state.floatbank6_a_level                                  0.189606   \n",
       "\n",
       "                                            secondary_cleaner.state.floatbank6_a_level  \n",
       "primary_cleaner.input.sulfate                                                 0.034655  \n",
       "primary_cleaner.input.depressant                                              0.029256  \n",
       "primary_cleaner.input.feed_size                                              -0.083021  \n",
       "primary_cleaner.input.xanthate                                                0.081986  \n",
       "primary_cleaner.state.floatbank8_a_air                                        0.172154  \n",
       "primary_cleaner.state.floatbank8_a_level                                      0.076271  \n",
       "primary_cleaner.state.floatbank8_b_air                                        0.187429  \n",
       "primary_cleaner.state.floatbank8_b_level                                      0.012904  \n",
       "primary_cleaner.state.floatbank8_c_air                                        0.169634  \n",
       "primary_cleaner.state.floatbank8_c_level                                      0.067955  \n",
       "primary_cleaner.state.floatbank8_d_air                                        0.184031  \n",
       "primary_cleaner.state.floatbank8_d_level                                      0.029999  \n",
       "rougher.input.feed_ag                                                        -0.001060  \n",
       "rougher.input.feed_pb                                                         0.067297  \n",
       "rougher.input.feed_rate                                                       0.022949  \n",
       "rougher.input.feed_size                                                       0.006842  \n",
       "rougher.input.feed_sol                                                        0.038228  \n",
       "rougher.input.feed_au                                                         0.036998  \n",
       "rougher.input.floatbank10_sulfate                                             0.067931  \n",
       "rougher.input.floatbank10_xanthate                                            0.112981  \n",
       "rougher.input.floatbank11_sulfate                                             0.080315  \n",
       "rougher.input.floatbank11_xanthate                                            0.133275  \n",
       "rougher.state.floatbank10_a_air                                               0.046717  \n",
       "rougher.state.floatbank10_a_level                                             0.087695  \n",
       "rougher.state.floatbank10_b_air                                               0.022975  \n",
       "rougher.state.floatbank10_b_level                                             0.034661  \n",
       "rougher.state.floatbank10_c_air                                               0.018168  \n",
       "rougher.state.floatbank10_c_level                                             0.031861  \n",
       "rougher.state.floatbank10_d_air                                               0.008341  \n",
       "rougher.state.floatbank10_d_level                                             0.021169  \n",
       "rougher.state.floatbank10_e_air                                               0.040936  \n",
       "rougher.state.floatbank10_e_level                                             0.056080  \n",
       "rougher.state.floatbank10_f_air                                               0.053557  \n",
       "rougher.state.floatbank10_f_level                                             0.064456  \n",
       "secondary_cleaner.state.floatbank2_a_air                                      0.127210  \n",
       "secondary_cleaner.state.floatbank2_a_level                                    0.025503  \n",
       "secondary_cleaner.state.floatbank2_b_air                                      0.157649  \n",
       "secondary_cleaner.state.floatbank2_b_level                                    0.023177  \n",
       "secondary_cleaner.state.floatbank3_a_air                                      0.123084  \n",
       "secondary_cleaner.state.floatbank3_a_level                                    0.010255  \n",
       "secondary_cleaner.state.floatbank3_b_air                                      0.114933  \n",
       "secondary_cleaner.state.floatbank3_b_level                                    0.076089  \n",
       "secondary_cleaner.state.floatbank4_a_air                                      0.145112  \n",
       "secondary_cleaner.state.floatbank4_a_level                                    0.028501  \n",
       "secondary_cleaner.state.floatbank4_b_air                                      0.142336  \n",
       "secondary_cleaner.state.floatbank4_b_level                                    0.046965  \n",
       "secondary_cleaner.state.floatbank5_a_air                                      0.080659  \n",
       "secondary_cleaner.state.floatbank5_a_level                                    0.404586  \n",
       "secondary_cleaner.state.floatbank5_b_air                                      0.156877  \n",
       "secondary_cleaner.state.floatbank5_b_level                                    0.336502  \n",
       "secondary_cleaner.state.floatbank6_a_air                                      0.189606  \n",
       "secondary_cleaner.state.floatbank6_a_level                                    1.000000  \n",
       "\n",
       "[52 rows x 52 columns]"
      ]
     },
     "metadata": {},
     "output_type": "display_data"
    },
    {
     "data": {
      "text/html": [
       "<div>\n",
       "<style scoped>\n",
       "    .dataframe tbody tr th:only-of-type {\n",
       "        vertical-align: middle;\n",
       "    }\n",
       "\n",
       "    .dataframe tbody tr th {\n",
       "        vertical-align: top;\n",
       "    }\n",
       "\n",
       "    .dataframe thead th {\n",
       "        text-align: right;\n",
       "    }\n",
       "</style>\n",
       "<table border=\"1\" class=\"dataframe\">\n",
       "  <thead>\n",
       "    <tr style=\"text-align: right;\">\n",
       "      <th></th>\n",
       "      <th>final.output.concentrate_ag</th>\n",
       "      <th>final.output.concentrate_pb</th>\n",
       "      <th>final.output.concentrate_sol</th>\n",
       "      <th>final.output.concentrate_au</th>\n",
       "      <th>final.output.recovery</th>\n",
       "      <th>final.output.tail_ag</th>\n",
       "      <th>final.output.tail_pb</th>\n",
       "      <th>final.output.tail_sol</th>\n",
       "      <th>final.output.tail_au</th>\n",
       "      <th>primary_cleaner.input.sulfate</th>\n",
       "      <th>...</th>\n",
       "      <th>secondary_cleaner.state.floatbank4_a_air</th>\n",
       "      <th>secondary_cleaner.state.floatbank4_a_level</th>\n",
       "      <th>secondary_cleaner.state.floatbank4_b_air</th>\n",
       "      <th>secondary_cleaner.state.floatbank4_b_level</th>\n",
       "      <th>secondary_cleaner.state.floatbank5_a_air</th>\n",
       "      <th>secondary_cleaner.state.floatbank5_a_level</th>\n",
       "      <th>secondary_cleaner.state.floatbank5_b_air</th>\n",
       "      <th>secondary_cleaner.state.floatbank5_b_level</th>\n",
       "      <th>secondary_cleaner.state.floatbank6_a_air</th>\n",
       "      <th>secondary_cleaner.state.floatbank6_a_level</th>\n",
       "    </tr>\n",
       "  </thead>\n",
       "  <tbody>\n",
       "    <tr>\n",
       "      <th>final.output.concentrate_ag</th>\n",
       "      <td>1.000000</td>\n",
       "      <td>0.063618</td>\n",
       "      <td>0.345467</td>\n",
       "      <td>-0.038185</td>\n",
       "      <td>0.185964</td>\n",
       "      <td>0.334671</td>\n",
       "      <td>-0.059697</td>\n",
       "      <td>0.029064</td>\n",
       "      <td>0.206570</td>\n",
       "      <td>0.070281</td>\n",
       "      <td>...</td>\n",
       "      <td>0.028778</td>\n",
       "      <td>0.104144</td>\n",
       "      <td>0.029968</td>\n",
       "      <td>-0.063206</td>\n",
       "      <td>-0.004185</td>\n",
       "      <td>0.184402</td>\n",
       "      <td>0.003746</td>\n",
       "      <td>0.156545</td>\n",
       "      <td>0.162637</td>\n",
       "      <td>0.059583</td>\n",
       "    </tr>\n",
       "    <tr>\n",
       "      <th>final.output.concentrate_pb</th>\n",
       "      <td>0.063618</td>\n",
       "      <td>1.000000</td>\n",
       "      <td>-0.041863</td>\n",
       "      <td>0.374439</td>\n",
       "      <td>0.151998</td>\n",
       "      <td>-0.126458</td>\n",
       "      <td>0.235350</td>\n",
       "      <td>0.094307</td>\n",
       "      <td>-0.047438</td>\n",
       "      <td>0.073662</td>\n",
       "      <td>...</td>\n",
       "      <td>0.060320</td>\n",
       "      <td>0.028965</td>\n",
       "      <td>0.115445</td>\n",
       "      <td>0.093847</td>\n",
       "      <td>0.125937</td>\n",
       "      <td>-0.024605</td>\n",
       "      <td>0.149282</td>\n",
       "      <td>-0.059971</td>\n",
       "      <td>-0.042138</td>\n",
       "      <td>0.067421</td>\n",
       "    </tr>\n",
       "    <tr>\n",
       "      <th>final.output.concentrate_sol</th>\n",
       "      <td>0.345467</td>\n",
       "      <td>-0.041863</td>\n",
       "      <td>1.000000</td>\n",
       "      <td>0.254728</td>\n",
       "      <td>0.287121</td>\n",
       "      <td>0.262552</td>\n",
       "      <td>0.245992</td>\n",
       "      <td>-0.043652</td>\n",
       "      <td>0.259872</td>\n",
       "      <td>0.331918</td>\n",
       "      <td>...</td>\n",
       "      <td>-0.027307</td>\n",
       "      <td>0.147140</td>\n",
       "      <td>0.024136</td>\n",
       "      <td>0.013480</td>\n",
       "      <td>0.000944</td>\n",
       "      <td>0.159780</td>\n",
       "      <td>-0.012732</td>\n",
       "      <td>0.150391</td>\n",
       "      <td>0.237028</td>\n",
       "      <td>-0.214283</td>\n",
       "    </tr>\n",
       "    <tr>\n",
       "      <th>final.output.concentrate_au</th>\n",
       "      <td>-0.038185</td>\n",
       "      <td>0.374439</td>\n",
       "      <td>0.254728</td>\n",
       "      <td>1.000000</td>\n",
       "      <td>0.288568</td>\n",
       "      <td>0.080601</td>\n",
       "      <td>0.075289</td>\n",
       "      <td>0.135003</td>\n",
       "      <td>-0.031696</td>\n",
       "      <td>0.103999</td>\n",
       "      <td>...</td>\n",
       "      <td>0.010936</td>\n",
       "      <td>-0.019465</td>\n",
       "      <td>-0.015278</td>\n",
       "      <td>-0.018620</td>\n",
       "      <td>-0.000962</td>\n",
       "      <td>-0.080779</td>\n",
       "      <td>-0.016953</td>\n",
       "      <td>-0.084959</td>\n",
       "      <td>-0.081693</td>\n",
       "      <td>-0.019498</td>\n",
       "    </tr>\n",
       "    <tr>\n",
       "      <th>final.output.recovery</th>\n",
       "      <td>0.185964</td>\n",
       "      <td>0.151998</td>\n",
       "      <td>0.287121</td>\n",
       "      <td>0.288568</td>\n",
       "      <td>1.000000</td>\n",
       "      <td>0.126129</td>\n",
       "      <td>-0.128088</td>\n",
       "      <td>-0.049642</td>\n",
       "      <td>-0.409200</td>\n",
       "      <td>0.355877</td>\n",
       "      <td>...</td>\n",
       "      <td>0.168594</td>\n",
       "      <td>0.031254</td>\n",
       "      <td>0.158530</td>\n",
       "      <td>-0.050028</td>\n",
       "      <td>0.066974</td>\n",
       "      <td>0.011848</td>\n",
       "      <td>0.051987</td>\n",
       "      <td>0.016467</td>\n",
       "      <td>-0.024962</td>\n",
       "      <td>-0.005395</td>\n",
       "    </tr>\n",
       "    <tr>\n",
       "      <th>...</th>\n",
       "      <td>...</td>\n",
       "      <td>...</td>\n",
       "      <td>...</td>\n",
       "      <td>...</td>\n",
       "      <td>...</td>\n",
       "      <td>...</td>\n",
       "      <td>...</td>\n",
       "      <td>...</td>\n",
       "      <td>...</td>\n",
       "      <td>...</td>\n",
       "      <td>...</td>\n",
       "      <td>...</td>\n",
       "      <td>...</td>\n",
       "      <td>...</td>\n",
       "      <td>...</td>\n",
       "      <td>...</td>\n",
       "      <td>...</td>\n",
       "      <td>...</td>\n",
       "      <td>...</td>\n",
       "      <td>...</td>\n",
       "      <td>...</td>\n",
       "    </tr>\n",
       "    <tr>\n",
       "      <th>secondary_cleaner.state.floatbank5_a_level</th>\n",
       "      <td>0.184402</td>\n",
       "      <td>-0.024605</td>\n",
       "      <td>0.159780</td>\n",
       "      <td>-0.080779</td>\n",
       "      <td>0.011848</td>\n",
       "      <td>-0.021678</td>\n",
       "      <td>0.018596</td>\n",
       "      <td>-0.073829</td>\n",
       "      <td>0.035270</td>\n",
       "      <td>-0.097621</td>\n",
       "      <td>...</td>\n",
       "      <td>0.175787</td>\n",
       "      <td>0.737526</td>\n",
       "      <td>0.069884</td>\n",
       "      <td>0.417909</td>\n",
       "      <td>0.154749</td>\n",
       "      <td>1.000000</td>\n",
       "      <td>0.108128</td>\n",
       "      <td>0.818407</td>\n",
       "      <td>0.464163</td>\n",
       "      <td>0.344514</td>\n",
       "    </tr>\n",
       "    <tr>\n",
       "      <th>secondary_cleaner.state.floatbank5_b_air</th>\n",
       "      <td>0.003746</td>\n",
       "      <td>0.149282</td>\n",
       "      <td>-0.012732</td>\n",
       "      <td>-0.016953</td>\n",
       "      <td>0.051987</td>\n",
       "      <td>-0.013680</td>\n",
       "      <td>0.111670</td>\n",
       "      <td>-0.135575</td>\n",
       "      <td>-0.160522</td>\n",
       "      <td>-0.087909</td>\n",
       "      <td>...</td>\n",
       "      <td>0.734151</td>\n",
       "      <td>0.289100</td>\n",
       "      <td>0.855788</td>\n",
       "      <td>0.099804</td>\n",
       "      <td>0.895835</td>\n",
       "      <td>0.108128</td>\n",
       "      <td>1.000000</td>\n",
       "      <td>0.090763</td>\n",
       "      <td>0.491736</td>\n",
       "      <td>-0.011875</td>\n",
       "    </tr>\n",
       "    <tr>\n",
       "      <th>secondary_cleaner.state.floatbank5_b_level</th>\n",
       "      <td>0.156545</td>\n",
       "      <td>-0.059971</td>\n",
       "      <td>0.150391</td>\n",
       "      <td>-0.084959</td>\n",
       "      <td>0.016467</td>\n",
       "      <td>-0.003764</td>\n",
       "      <td>0.044840</td>\n",
       "      <td>-0.087587</td>\n",
       "      <td>0.063403</td>\n",
       "      <td>-0.055629</td>\n",
       "      <td>...</td>\n",
       "      <td>0.148105</td>\n",
       "      <td>0.630450</td>\n",
       "      <td>0.076261</td>\n",
       "      <td>0.364585</td>\n",
       "      <td>0.136005</td>\n",
       "      <td>0.818407</td>\n",
       "      <td>0.090763</td>\n",
       "      <td>1.000000</td>\n",
       "      <td>0.411520</td>\n",
       "      <td>0.327852</td>\n",
       "    </tr>\n",
       "    <tr>\n",
       "      <th>secondary_cleaner.state.floatbank6_a_air</th>\n",
       "      <td>0.162637</td>\n",
       "      <td>-0.042138</td>\n",
       "      <td>0.237028</td>\n",
       "      <td>-0.081693</td>\n",
       "      <td>-0.024962</td>\n",
       "      <td>-0.055208</td>\n",
       "      <td>-0.000143</td>\n",
       "      <td>-0.070651</td>\n",
       "      <td>0.038829</td>\n",
       "      <td>-0.174421</td>\n",
       "      <td>...</td>\n",
       "      <td>0.229689</td>\n",
       "      <td>0.503695</td>\n",
       "      <td>0.311739</td>\n",
       "      <td>0.087614</td>\n",
       "      <td>0.473326</td>\n",
       "      <td>0.464163</td>\n",
       "      <td>0.491736</td>\n",
       "      <td>0.411520</td>\n",
       "      <td>1.000000</td>\n",
       "      <td>0.106402</td>\n",
       "    </tr>\n",
       "    <tr>\n",
       "      <th>secondary_cleaner.state.floatbank6_a_level</th>\n",
       "      <td>0.059583</td>\n",
       "      <td>0.067421</td>\n",
       "      <td>-0.214283</td>\n",
       "      <td>-0.019498</td>\n",
       "      <td>-0.005395</td>\n",
       "      <td>-0.088574</td>\n",
       "      <td>-0.117994</td>\n",
       "      <td>0.021198</td>\n",
       "      <td>-0.065568</td>\n",
       "      <td>-0.056397</td>\n",
       "      <td>...</td>\n",
       "      <td>0.007283</td>\n",
       "      <td>0.186354</td>\n",
       "      <td>-0.064453</td>\n",
       "      <td>0.191710</td>\n",
       "      <td>-0.008657</td>\n",
       "      <td>0.344514</td>\n",
       "      <td>-0.011875</td>\n",
       "      <td>0.327852</td>\n",
       "      <td>0.106402</td>\n",
       "      <td>1.000000</td>\n",
       "    </tr>\n",
       "  </tbody>\n",
       "</table>\n",
       "<p>86 rows × 86 columns</p>\n",
       "</div>"
      ],
      "text/plain": [
       "                                            final.output.concentrate_ag  \\\n",
       "final.output.concentrate_ag                                    1.000000   \n",
       "final.output.concentrate_pb                                    0.063618   \n",
       "final.output.concentrate_sol                                   0.345467   \n",
       "final.output.concentrate_au                                   -0.038185   \n",
       "final.output.recovery                                          0.185964   \n",
       "...                                                                 ...   \n",
       "secondary_cleaner.state.floatbank5_a_level                     0.184402   \n",
       "secondary_cleaner.state.floatbank5_b_air                       0.003746   \n",
       "secondary_cleaner.state.floatbank5_b_level                     0.156545   \n",
       "secondary_cleaner.state.floatbank6_a_air                       0.162637   \n",
       "secondary_cleaner.state.floatbank6_a_level                     0.059583   \n",
       "\n",
       "                                            final.output.concentrate_pb  \\\n",
       "final.output.concentrate_ag                                    0.063618   \n",
       "final.output.concentrate_pb                                    1.000000   \n",
       "final.output.concentrate_sol                                  -0.041863   \n",
       "final.output.concentrate_au                                    0.374439   \n",
       "final.output.recovery                                          0.151998   \n",
       "...                                                                 ...   \n",
       "secondary_cleaner.state.floatbank5_a_level                    -0.024605   \n",
       "secondary_cleaner.state.floatbank5_b_air                       0.149282   \n",
       "secondary_cleaner.state.floatbank5_b_level                    -0.059971   \n",
       "secondary_cleaner.state.floatbank6_a_air                      -0.042138   \n",
       "secondary_cleaner.state.floatbank6_a_level                     0.067421   \n",
       "\n",
       "                                            final.output.concentrate_sol  \\\n",
       "final.output.concentrate_ag                                     0.345467   \n",
       "final.output.concentrate_pb                                    -0.041863   \n",
       "final.output.concentrate_sol                                    1.000000   \n",
       "final.output.concentrate_au                                     0.254728   \n",
       "final.output.recovery                                           0.287121   \n",
       "...                                                                  ...   \n",
       "secondary_cleaner.state.floatbank5_a_level                      0.159780   \n",
       "secondary_cleaner.state.floatbank5_b_air                       -0.012732   \n",
       "secondary_cleaner.state.floatbank5_b_level                      0.150391   \n",
       "secondary_cleaner.state.floatbank6_a_air                        0.237028   \n",
       "secondary_cleaner.state.floatbank6_a_level                     -0.214283   \n",
       "\n",
       "                                            final.output.concentrate_au  \\\n",
       "final.output.concentrate_ag                                   -0.038185   \n",
       "final.output.concentrate_pb                                    0.374439   \n",
       "final.output.concentrate_sol                                   0.254728   \n",
       "final.output.concentrate_au                                    1.000000   \n",
       "final.output.recovery                                          0.288568   \n",
       "...                                                                 ...   \n",
       "secondary_cleaner.state.floatbank5_a_level                    -0.080779   \n",
       "secondary_cleaner.state.floatbank5_b_air                      -0.016953   \n",
       "secondary_cleaner.state.floatbank5_b_level                    -0.084959   \n",
       "secondary_cleaner.state.floatbank6_a_air                      -0.081693   \n",
       "secondary_cleaner.state.floatbank6_a_level                    -0.019498   \n",
       "\n",
       "                                            final.output.recovery  \\\n",
       "final.output.concentrate_ag                              0.185964   \n",
       "final.output.concentrate_pb                              0.151998   \n",
       "final.output.concentrate_sol                             0.287121   \n",
       "final.output.concentrate_au                              0.288568   \n",
       "final.output.recovery                                    1.000000   \n",
       "...                                                           ...   \n",
       "secondary_cleaner.state.floatbank5_a_level               0.011848   \n",
       "secondary_cleaner.state.floatbank5_b_air                 0.051987   \n",
       "secondary_cleaner.state.floatbank5_b_level               0.016467   \n",
       "secondary_cleaner.state.floatbank6_a_air                -0.024962   \n",
       "secondary_cleaner.state.floatbank6_a_level              -0.005395   \n",
       "\n",
       "                                            final.output.tail_ag  \\\n",
       "final.output.concentrate_ag                             0.334671   \n",
       "final.output.concentrate_pb                            -0.126458   \n",
       "final.output.concentrate_sol                            0.262552   \n",
       "final.output.concentrate_au                             0.080601   \n",
       "final.output.recovery                                   0.126129   \n",
       "...                                                          ...   \n",
       "secondary_cleaner.state.floatbank5_a_level             -0.021678   \n",
       "secondary_cleaner.state.floatbank5_b_air               -0.013680   \n",
       "secondary_cleaner.state.floatbank5_b_level             -0.003764   \n",
       "secondary_cleaner.state.floatbank6_a_air               -0.055208   \n",
       "secondary_cleaner.state.floatbank6_a_level             -0.088574   \n",
       "\n",
       "                                            final.output.tail_pb  \\\n",
       "final.output.concentrate_ag                            -0.059697   \n",
       "final.output.concentrate_pb                             0.235350   \n",
       "final.output.concentrate_sol                            0.245992   \n",
       "final.output.concentrate_au                             0.075289   \n",
       "final.output.recovery                                  -0.128088   \n",
       "...                                                          ...   \n",
       "secondary_cleaner.state.floatbank5_a_level              0.018596   \n",
       "secondary_cleaner.state.floatbank5_b_air                0.111670   \n",
       "secondary_cleaner.state.floatbank5_b_level              0.044840   \n",
       "secondary_cleaner.state.floatbank6_a_air               -0.000143   \n",
       "secondary_cleaner.state.floatbank6_a_level             -0.117994   \n",
       "\n",
       "                                            final.output.tail_sol  \\\n",
       "final.output.concentrate_ag                              0.029064   \n",
       "final.output.concentrate_pb                              0.094307   \n",
       "final.output.concentrate_sol                            -0.043652   \n",
       "final.output.concentrate_au                              0.135003   \n",
       "final.output.recovery                                   -0.049642   \n",
       "...                                                           ...   \n",
       "secondary_cleaner.state.floatbank5_a_level              -0.073829   \n",
       "secondary_cleaner.state.floatbank5_b_air                -0.135575   \n",
       "secondary_cleaner.state.floatbank5_b_level              -0.087587   \n",
       "secondary_cleaner.state.floatbank6_a_air                -0.070651   \n",
       "secondary_cleaner.state.floatbank6_a_level               0.021198   \n",
       "\n",
       "                                            final.output.tail_au  \\\n",
       "final.output.concentrate_ag                             0.206570   \n",
       "final.output.concentrate_pb                            -0.047438   \n",
       "final.output.concentrate_sol                            0.259872   \n",
       "final.output.concentrate_au                            -0.031696   \n",
       "final.output.recovery                                  -0.409200   \n",
       "...                                                          ...   \n",
       "secondary_cleaner.state.floatbank5_a_level              0.035270   \n",
       "secondary_cleaner.state.floatbank5_b_air               -0.160522   \n",
       "secondary_cleaner.state.floatbank5_b_level              0.063403   \n",
       "secondary_cleaner.state.floatbank6_a_air                0.038829   \n",
       "secondary_cleaner.state.floatbank6_a_level             -0.065568   \n",
       "\n",
       "                                            primary_cleaner.input.sulfate  \\\n",
       "final.output.concentrate_ag                                      0.070281   \n",
       "final.output.concentrate_pb                                      0.073662   \n",
       "final.output.concentrate_sol                                     0.331918   \n",
       "final.output.concentrate_au                                      0.103999   \n",
       "final.output.recovery                                            0.355877   \n",
       "...                                                                   ...   \n",
       "secondary_cleaner.state.floatbank5_a_level                      -0.097621   \n",
       "secondary_cleaner.state.floatbank5_b_air                        -0.087909   \n",
       "secondary_cleaner.state.floatbank5_b_level                      -0.055629   \n",
       "secondary_cleaner.state.floatbank6_a_air                        -0.174421   \n",
       "secondary_cleaner.state.floatbank6_a_level                      -0.056397   \n",
       "\n",
       "                                            ...  \\\n",
       "final.output.concentrate_ag                 ...   \n",
       "final.output.concentrate_pb                 ...   \n",
       "final.output.concentrate_sol                ...   \n",
       "final.output.concentrate_au                 ...   \n",
       "final.output.recovery                       ...   \n",
       "...                                         ...   \n",
       "secondary_cleaner.state.floatbank5_a_level  ...   \n",
       "secondary_cleaner.state.floatbank5_b_air    ...   \n",
       "secondary_cleaner.state.floatbank5_b_level  ...   \n",
       "secondary_cleaner.state.floatbank6_a_air    ...   \n",
       "secondary_cleaner.state.floatbank6_a_level  ...   \n",
       "\n",
       "                                            secondary_cleaner.state.floatbank4_a_air  \\\n",
       "final.output.concentrate_ag                                                 0.028778   \n",
       "final.output.concentrate_pb                                                 0.060320   \n",
       "final.output.concentrate_sol                                               -0.027307   \n",
       "final.output.concentrate_au                                                 0.010936   \n",
       "final.output.recovery                                                       0.168594   \n",
       "...                                                                              ...   \n",
       "secondary_cleaner.state.floatbank5_a_level                                  0.175787   \n",
       "secondary_cleaner.state.floatbank5_b_air                                    0.734151   \n",
       "secondary_cleaner.state.floatbank5_b_level                                  0.148105   \n",
       "secondary_cleaner.state.floatbank6_a_air                                    0.229689   \n",
       "secondary_cleaner.state.floatbank6_a_level                                  0.007283   \n",
       "\n",
       "                                            secondary_cleaner.state.floatbank4_a_level  \\\n",
       "final.output.concentrate_ag                                                   0.104144   \n",
       "final.output.concentrate_pb                                                   0.028965   \n",
       "final.output.concentrate_sol                                                  0.147140   \n",
       "final.output.concentrate_au                                                  -0.019465   \n",
       "final.output.recovery                                                         0.031254   \n",
       "...                                                                                ...   \n",
       "secondary_cleaner.state.floatbank5_a_level                                    0.737526   \n",
       "secondary_cleaner.state.floatbank5_b_air                                      0.289100   \n",
       "secondary_cleaner.state.floatbank5_b_level                                    0.630450   \n",
       "secondary_cleaner.state.floatbank6_a_air                                      0.503695   \n",
       "secondary_cleaner.state.floatbank6_a_level                                    0.186354   \n",
       "\n",
       "                                            secondary_cleaner.state.floatbank4_b_air  \\\n",
       "final.output.concentrate_ag                                                 0.029968   \n",
       "final.output.concentrate_pb                                                 0.115445   \n",
       "final.output.concentrate_sol                                                0.024136   \n",
       "final.output.concentrate_au                                                -0.015278   \n",
       "final.output.recovery                                                       0.158530   \n",
       "...                                                                              ...   \n",
       "secondary_cleaner.state.floatbank5_a_level                                  0.069884   \n",
       "secondary_cleaner.state.floatbank5_b_air                                    0.855788   \n",
       "secondary_cleaner.state.floatbank5_b_level                                  0.076261   \n",
       "secondary_cleaner.state.floatbank6_a_air                                    0.311739   \n",
       "secondary_cleaner.state.floatbank6_a_level                                 -0.064453   \n",
       "\n",
       "                                            secondary_cleaner.state.floatbank4_b_level  \\\n",
       "final.output.concentrate_ag                                                  -0.063206   \n",
       "final.output.concentrate_pb                                                   0.093847   \n",
       "final.output.concentrate_sol                                                  0.013480   \n",
       "final.output.concentrate_au                                                  -0.018620   \n",
       "final.output.recovery                                                        -0.050028   \n",
       "...                                                                                ...   \n",
       "secondary_cleaner.state.floatbank5_a_level                                    0.417909   \n",
       "secondary_cleaner.state.floatbank5_b_air                                      0.099804   \n",
       "secondary_cleaner.state.floatbank5_b_level                                    0.364585   \n",
       "secondary_cleaner.state.floatbank6_a_air                                      0.087614   \n",
       "secondary_cleaner.state.floatbank6_a_level                                    0.191710   \n",
       "\n",
       "                                            secondary_cleaner.state.floatbank5_a_air  \\\n",
       "final.output.concentrate_ag                                                -0.004185   \n",
       "final.output.concentrate_pb                                                 0.125937   \n",
       "final.output.concentrate_sol                                                0.000944   \n",
       "final.output.concentrate_au                                                -0.000962   \n",
       "final.output.recovery                                                       0.066974   \n",
       "...                                                                              ...   \n",
       "secondary_cleaner.state.floatbank5_a_level                                  0.154749   \n",
       "secondary_cleaner.state.floatbank5_b_air                                    0.895835   \n",
       "secondary_cleaner.state.floatbank5_b_level                                  0.136005   \n",
       "secondary_cleaner.state.floatbank6_a_air                                    0.473326   \n",
       "secondary_cleaner.state.floatbank6_a_level                                 -0.008657   \n",
       "\n",
       "                                            secondary_cleaner.state.floatbank5_a_level  \\\n",
       "final.output.concentrate_ag                                                   0.184402   \n",
       "final.output.concentrate_pb                                                  -0.024605   \n",
       "final.output.concentrate_sol                                                  0.159780   \n",
       "final.output.concentrate_au                                                  -0.080779   \n",
       "final.output.recovery                                                         0.011848   \n",
       "...                                                                                ...   \n",
       "secondary_cleaner.state.floatbank5_a_level                                    1.000000   \n",
       "secondary_cleaner.state.floatbank5_b_air                                      0.108128   \n",
       "secondary_cleaner.state.floatbank5_b_level                                    0.818407   \n",
       "secondary_cleaner.state.floatbank6_a_air                                      0.464163   \n",
       "secondary_cleaner.state.floatbank6_a_level                                    0.344514   \n",
       "\n",
       "                                            secondary_cleaner.state.floatbank5_b_air  \\\n",
       "final.output.concentrate_ag                                                 0.003746   \n",
       "final.output.concentrate_pb                                                 0.149282   \n",
       "final.output.concentrate_sol                                               -0.012732   \n",
       "final.output.concentrate_au                                                -0.016953   \n",
       "final.output.recovery                                                       0.051987   \n",
       "...                                                                              ...   \n",
       "secondary_cleaner.state.floatbank5_a_level                                  0.108128   \n",
       "secondary_cleaner.state.floatbank5_b_air                                    1.000000   \n",
       "secondary_cleaner.state.floatbank5_b_level                                  0.090763   \n",
       "secondary_cleaner.state.floatbank6_a_air                                    0.491736   \n",
       "secondary_cleaner.state.floatbank6_a_level                                 -0.011875   \n",
       "\n",
       "                                            secondary_cleaner.state.floatbank5_b_level  \\\n",
       "final.output.concentrate_ag                                                   0.156545   \n",
       "final.output.concentrate_pb                                                  -0.059971   \n",
       "final.output.concentrate_sol                                                  0.150391   \n",
       "final.output.concentrate_au                                                  -0.084959   \n",
       "final.output.recovery                                                         0.016467   \n",
       "...                                                                                ...   \n",
       "secondary_cleaner.state.floatbank5_a_level                                    0.818407   \n",
       "secondary_cleaner.state.floatbank5_b_air                                      0.090763   \n",
       "secondary_cleaner.state.floatbank5_b_level                                    1.000000   \n",
       "secondary_cleaner.state.floatbank6_a_air                                      0.411520   \n",
       "secondary_cleaner.state.floatbank6_a_level                                    0.327852   \n",
       "\n",
       "                                            secondary_cleaner.state.floatbank6_a_air  \\\n",
       "final.output.concentrate_ag                                                 0.162637   \n",
       "final.output.concentrate_pb                                                -0.042138   \n",
       "final.output.concentrate_sol                                                0.237028   \n",
       "final.output.concentrate_au                                                -0.081693   \n",
       "final.output.recovery                                                      -0.024962   \n",
       "...                                                                              ...   \n",
       "secondary_cleaner.state.floatbank5_a_level                                  0.464163   \n",
       "secondary_cleaner.state.floatbank5_b_air                                    0.491736   \n",
       "secondary_cleaner.state.floatbank5_b_level                                  0.411520   \n",
       "secondary_cleaner.state.floatbank6_a_air                                    1.000000   \n",
       "secondary_cleaner.state.floatbank6_a_level                                  0.106402   \n",
       "\n",
       "                                            secondary_cleaner.state.floatbank6_a_level  \n",
       "final.output.concentrate_ag                                                   0.059583  \n",
       "final.output.concentrate_pb                                                   0.067421  \n",
       "final.output.concentrate_sol                                                 -0.214283  \n",
       "final.output.concentrate_au                                                  -0.019498  \n",
       "final.output.recovery                                                        -0.005395  \n",
       "...                                                                                ...  \n",
       "secondary_cleaner.state.floatbank5_a_level                                    0.344514  \n",
       "secondary_cleaner.state.floatbank5_b_air                                     -0.011875  \n",
       "secondary_cleaner.state.floatbank5_b_level                                    0.327852  \n",
       "secondary_cleaner.state.floatbank6_a_air                                      0.106402  \n",
       "secondary_cleaner.state.floatbank6_a_level                                    1.000000  \n",
       "\n",
       "[86 rows x 86 columns]"
      ]
     },
     "metadata": {},
     "output_type": "display_data"
    },
    {
     "data": {
      "text/html": [
       "<div>\n",
       "<style scoped>\n",
       "    .dataframe tbody tr th:only-of-type {\n",
       "        vertical-align: middle;\n",
       "    }\n",
       "\n",
       "    .dataframe tbody tr th {\n",
       "        vertical-align: top;\n",
       "    }\n",
       "\n",
       "    .dataframe thead th {\n",
       "        text-align: right;\n",
       "    }\n",
       "</style>\n",
       "<table border=\"1\" class=\"dataframe\">\n",
       "  <thead>\n",
       "    <tr style=\"text-align: right;\">\n",
       "      <th></th>\n",
       "      <th>final.output.concentrate_ag</th>\n",
       "      <th>final.output.concentrate_pb</th>\n",
       "      <th>final.output.concentrate_sol</th>\n",
       "      <th>final.output.concentrate_au</th>\n",
       "      <th>final.output.recovery</th>\n",
       "      <th>final.output.tail_ag</th>\n",
       "      <th>final.output.tail_pb</th>\n",
       "      <th>final.output.tail_sol</th>\n",
       "      <th>final.output.tail_au</th>\n",
       "      <th>primary_cleaner.input.sulfate</th>\n",
       "      <th>...</th>\n",
       "      <th>secondary_cleaner.state.floatbank4_a_air</th>\n",
       "      <th>secondary_cleaner.state.floatbank4_a_level</th>\n",
       "      <th>secondary_cleaner.state.floatbank4_b_air</th>\n",
       "      <th>secondary_cleaner.state.floatbank4_b_level</th>\n",
       "      <th>secondary_cleaner.state.floatbank5_a_air</th>\n",
       "      <th>secondary_cleaner.state.floatbank5_a_level</th>\n",
       "      <th>secondary_cleaner.state.floatbank5_b_air</th>\n",
       "      <th>secondary_cleaner.state.floatbank5_b_level</th>\n",
       "      <th>secondary_cleaner.state.floatbank6_a_air</th>\n",
       "      <th>secondary_cleaner.state.floatbank6_a_level</th>\n",
       "    </tr>\n",
       "  </thead>\n",
       "  <tbody>\n",
       "    <tr>\n",
       "      <th>final.output.concentrate_ag</th>\n",
       "      <td>1.000000</td>\n",
       "      <td>0.021188</td>\n",
       "      <td>0.308293</td>\n",
       "      <td>-0.104643</td>\n",
       "      <td>0.133253</td>\n",
       "      <td>0.289608</td>\n",
       "      <td>-0.109474</td>\n",
       "      <td>0.046245</td>\n",
       "      <td>0.193927</td>\n",
       "      <td>0.015657</td>\n",
       "      <td>...</td>\n",
       "      <td>0.043730</td>\n",
       "      <td>0.169557</td>\n",
       "      <td>0.020938</td>\n",
       "      <td>0.005363</td>\n",
       "      <td>0.013101</td>\n",
       "      <td>0.228833</td>\n",
       "      <td>0.021730</td>\n",
       "      <td>0.199140</td>\n",
       "      <td>0.170380</td>\n",
       "      <td>0.061006</td>\n",
       "    </tr>\n",
       "    <tr>\n",
       "      <th>final.output.concentrate_pb</th>\n",
       "      <td>0.021188</td>\n",
       "      <td>1.000000</td>\n",
       "      <td>0.001457</td>\n",
       "      <td>0.321006</td>\n",
       "      <td>0.095015</td>\n",
       "      <td>-0.100545</td>\n",
       "      <td>0.258941</td>\n",
       "      <td>0.068584</td>\n",
       "      <td>0.029186</td>\n",
       "      <td>0.116948</td>\n",
       "      <td>...</td>\n",
       "      <td>0.001758</td>\n",
       "      <td>-0.035179</td>\n",
       "      <td>0.092703</td>\n",
       "      <td>0.069321</td>\n",
       "      <td>0.095191</td>\n",
       "      <td>-0.096081</td>\n",
       "      <td>0.123802</td>\n",
       "      <td>-0.115075</td>\n",
       "      <td>-0.018394</td>\n",
       "      <td>0.075271</td>\n",
       "    </tr>\n",
       "    <tr>\n",
       "      <th>final.output.concentrate_sol</th>\n",
       "      <td>0.308293</td>\n",
       "      <td>0.001457</td>\n",
       "      <td>1.000000</td>\n",
       "      <td>0.210736</td>\n",
       "      <td>0.276327</td>\n",
       "      <td>0.196280</td>\n",
       "      <td>0.282889</td>\n",
       "      <td>-0.048919</td>\n",
       "      <td>0.231138</td>\n",
       "      <td>0.358490</td>\n",
       "      <td>...</td>\n",
       "      <td>0.023835</td>\n",
       "      <td>0.267074</td>\n",
       "      <td>0.038815</td>\n",
       "      <td>0.146107</td>\n",
       "      <td>0.039611</td>\n",
       "      <td>0.241744</td>\n",
       "      <td>0.015752</td>\n",
       "      <td>0.231101</td>\n",
       "      <td>0.222563</td>\n",
       "      <td>-0.271875</td>\n",
       "    </tr>\n",
       "    <tr>\n",
       "      <th>final.output.concentrate_au</th>\n",
       "      <td>-0.104643</td>\n",
       "      <td>0.321006</td>\n",
       "      <td>0.210736</td>\n",
       "      <td>1.000000</td>\n",
       "      <td>0.253067</td>\n",
       "      <td>0.079619</td>\n",
       "      <td>0.059601</td>\n",
       "      <td>0.099187</td>\n",
       "      <td>-0.070600</td>\n",
       "      <td>0.111357</td>\n",
       "      <td>...</td>\n",
       "      <td>0.039461</td>\n",
       "      <td>-0.042076</td>\n",
       "      <td>0.002315</td>\n",
       "      <td>-0.011141</td>\n",
       "      <td>0.005822</td>\n",
       "      <td>-0.098005</td>\n",
       "      <td>-0.014605</td>\n",
       "      <td>-0.086365</td>\n",
       "      <td>-0.122757</td>\n",
       "      <td>-0.030591</td>\n",
       "    </tr>\n",
       "    <tr>\n",
       "      <th>final.output.recovery</th>\n",
       "      <td>0.133253</td>\n",
       "      <td>0.095015</td>\n",
       "      <td>0.276327</td>\n",
       "      <td>0.253067</td>\n",
       "      <td>1.000000</td>\n",
       "      <td>0.151610</td>\n",
       "      <td>-0.133966</td>\n",
       "      <td>-0.087200</td>\n",
       "      <td>-0.435553</td>\n",
       "      <td>0.384798</td>\n",
       "      <td>...</td>\n",
       "      <td>0.209659</td>\n",
       "      <td>0.057357</td>\n",
       "      <td>0.170796</td>\n",
       "      <td>-0.089021</td>\n",
       "      <td>0.098198</td>\n",
       "      <td>0.024159</td>\n",
       "      <td>0.068281</td>\n",
       "      <td>0.043815</td>\n",
       "      <td>-0.027253</td>\n",
       "      <td>-0.035782</td>\n",
       "    </tr>\n",
       "    <tr>\n",
       "      <th>...</th>\n",
       "      <td>...</td>\n",
       "      <td>...</td>\n",
       "      <td>...</td>\n",
       "      <td>...</td>\n",
       "      <td>...</td>\n",
       "      <td>...</td>\n",
       "      <td>...</td>\n",
       "      <td>...</td>\n",
       "      <td>...</td>\n",
       "      <td>...</td>\n",
       "      <td>...</td>\n",
       "      <td>...</td>\n",
       "      <td>...</td>\n",
       "      <td>...</td>\n",
       "      <td>...</td>\n",
       "      <td>...</td>\n",
       "      <td>...</td>\n",
       "      <td>...</td>\n",
       "      <td>...</td>\n",
       "      <td>...</td>\n",
       "      <td>...</td>\n",
       "    </tr>\n",
       "    <tr>\n",
       "      <th>secondary_cleaner.state.floatbank5_a_level</th>\n",
       "      <td>0.228833</td>\n",
       "      <td>-0.096081</td>\n",
       "      <td>0.241744</td>\n",
       "      <td>-0.098005</td>\n",
       "      <td>0.024159</td>\n",
       "      <td>-0.008393</td>\n",
       "      <td>0.071651</td>\n",
       "      <td>-0.085958</td>\n",
       "      <td>0.116355</td>\n",
       "      <td>-0.030974</td>\n",
       "      <td>...</td>\n",
       "      <td>0.105582</td>\n",
       "      <td>0.790025</td>\n",
       "      <td>0.013065</td>\n",
       "      <td>0.554616</td>\n",
       "      <td>0.083474</td>\n",
       "      <td>1.000000</td>\n",
       "      <td>0.036597</td>\n",
       "      <td>0.884422</td>\n",
       "      <td>0.512319</td>\n",
       "      <td>0.379862</td>\n",
       "    </tr>\n",
       "    <tr>\n",
       "      <th>secondary_cleaner.state.floatbank5_b_air</th>\n",
       "      <td>0.021730</td>\n",
       "      <td>0.123802</td>\n",
       "      <td>0.015752</td>\n",
       "      <td>-0.014605</td>\n",
       "      <td>0.068281</td>\n",
       "      <td>0.008668</td>\n",
       "      <td>0.192483</td>\n",
       "      <td>-0.133394</td>\n",
       "      <td>-0.104752</td>\n",
       "      <td>0.000540</td>\n",
       "      <td>...</td>\n",
       "      <td>0.722636</td>\n",
       "      <td>0.244834</td>\n",
       "      <td>0.878031</td>\n",
       "      <td>0.154015</td>\n",
       "      <td>0.892487</td>\n",
       "      <td>0.036597</td>\n",
       "      <td>1.000000</td>\n",
       "      <td>0.046376</td>\n",
       "      <td>0.474673</td>\n",
       "      <td>-0.025748</td>\n",
       "    </tr>\n",
       "    <tr>\n",
       "      <th>secondary_cleaner.state.floatbank5_b_level</th>\n",
       "      <td>0.199140</td>\n",
       "      <td>-0.115075</td>\n",
       "      <td>0.231101</td>\n",
       "      <td>-0.086365</td>\n",
       "      <td>0.043815</td>\n",
       "      <td>-0.000428</td>\n",
       "      <td>0.080436</td>\n",
       "      <td>-0.104676</td>\n",
       "      <td>0.101255</td>\n",
       "      <td>-0.024671</td>\n",
       "      <td>...</td>\n",
       "      <td>0.110995</td>\n",
       "      <td>0.747246</td>\n",
       "      <td>0.035827</td>\n",
       "      <td>0.515631</td>\n",
       "      <td>0.100726</td>\n",
       "      <td>0.884422</td>\n",
       "      <td>0.046376</td>\n",
       "      <td>1.000000</td>\n",
       "      <td>0.493124</td>\n",
       "      <td>0.342091</td>\n",
       "    </tr>\n",
       "    <tr>\n",
       "      <th>secondary_cleaner.state.floatbank6_a_air</th>\n",
       "      <td>0.170380</td>\n",
       "      <td>-0.018394</td>\n",
       "      <td>0.222563</td>\n",
       "      <td>-0.122757</td>\n",
       "      <td>-0.027253</td>\n",
       "      <td>-0.103813</td>\n",
       "      <td>0.063197</td>\n",
       "      <td>0.002036</td>\n",
       "      <td>0.068412</td>\n",
       "      <td>-0.104186</td>\n",
       "      <td>...</td>\n",
       "      <td>0.206262</td>\n",
       "      <td>0.566279</td>\n",
       "      <td>0.311866</td>\n",
       "      <td>0.271922</td>\n",
       "      <td>0.440986</td>\n",
       "      <td>0.512319</td>\n",
       "      <td>0.474673</td>\n",
       "      <td>0.493124</td>\n",
       "      <td>1.000000</td>\n",
       "      <td>0.098835</td>\n",
       "    </tr>\n",
       "    <tr>\n",
       "      <th>secondary_cleaner.state.floatbank6_a_level</th>\n",
       "      <td>0.061006</td>\n",
       "      <td>0.075271</td>\n",
       "      <td>-0.271875</td>\n",
       "      <td>-0.030591</td>\n",
       "      <td>-0.035782</td>\n",
       "      <td>-0.123257</td>\n",
       "      <td>-0.183512</td>\n",
       "      <td>0.016747</td>\n",
       "      <td>-0.107121</td>\n",
       "      <td>-0.142148</td>\n",
       "      <td>...</td>\n",
       "      <td>-0.001740</td>\n",
       "      <td>0.257172</td>\n",
       "      <td>-0.108056</td>\n",
       "      <td>0.281521</td>\n",
       "      <td>-0.002858</td>\n",
       "      <td>0.379862</td>\n",
       "      <td>-0.025748</td>\n",
       "      <td>0.342091</td>\n",
       "      <td>0.098835</td>\n",
       "      <td>1.000000</td>\n",
       "    </tr>\n",
       "  </tbody>\n",
       "</table>\n",
       "<p>86 rows × 86 columns</p>\n",
       "</div>"
      ],
      "text/plain": [
       "                                            final.output.concentrate_ag  \\\n",
       "final.output.concentrate_ag                                    1.000000   \n",
       "final.output.concentrate_pb                                    0.021188   \n",
       "final.output.concentrate_sol                                   0.308293   \n",
       "final.output.concentrate_au                                   -0.104643   \n",
       "final.output.recovery                                          0.133253   \n",
       "...                                                                 ...   \n",
       "secondary_cleaner.state.floatbank5_a_level                     0.228833   \n",
       "secondary_cleaner.state.floatbank5_b_air                       0.021730   \n",
       "secondary_cleaner.state.floatbank5_b_level                     0.199140   \n",
       "secondary_cleaner.state.floatbank6_a_air                       0.170380   \n",
       "secondary_cleaner.state.floatbank6_a_level                     0.061006   \n",
       "\n",
       "                                            final.output.concentrate_pb  \\\n",
       "final.output.concentrate_ag                                    0.021188   \n",
       "final.output.concentrate_pb                                    1.000000   \n",
       "final.output.concentrate_sol                                   0.001457   \n",
       "final.output.concentrate_au                                    0.321006   \n",
       "final.output.recovery                                          0.095015   \n",
       "...                                                                 ...   \n",
       "secondary_cleaner.state.floatbank5_a_level                    -0.096081   \n",
       "secondary_cleaner.state.floatbank5_b_air                       0.123802   \n",
       "secondary_cleaner.state.floatbank5_b_level                    -0.115075   \n",
       "secondary_cleaner.state.floatbank6_a_air                      -0.018394   \n",
       "secondary_cleaner.state.floatbank6_a_level                     0.075271   \n",
       "\n",
       "                                            final.output.concentrate_sol  \\\n",
       "final.output.concentrate_ag                                     0.308293   \n",
       "final.output.concentrate_pb                                     0.001457   \n",
       "final.output.concentrate_sol                                    1.000000   \n",
       "final.output.concentrate_au                                     0.210736   \n",
       "final.output.recovery                                           0.276327   \n",
       "...                                                                  ...   \n",
       "secondary_cleaner.state.floatbank5_a_level                      0.241744   \n",
       "secondary_cleaner.state.floatbank5_b_air                        0.015752   \n",
       "secondary_cleaner.state.floatbank5_b_level                      0.231101   \n",
       "secondary_cleaner.state.floatbank6_a_air                        0.222563   \n",
       "secondary_cleaner.state.floatbank6_a_level                     -0.271875   \n",
       "\n",
       "                                            final.output.concentrate_au  \\\n",
       "final.output.concentrate_ag                                   -0.104643   \n",
       "final.output.concentrate_pb                                    0.321006   \n",
       "final.output.concentrate_sol                                   0.210736   \n",
       "final.output.concentrate_au                                    1.000000   \n",
       "final.output.recovery                                          0.253067   \n",
       "...                                                                 ...   \n",
       "secondary_cleaner.state.floatbank5_a_level                    -0.098005   \n",
       "secondary_cleaner.state.floatbank5_b_air                      -0.014605   \n",
       "secondary_cleaner.state.floatbank5_b_level                    -0.086365   \n",
       "secondary_cleaner.state.floatbank6_a_air                      -0.122757   \n",
       "secondary_cleaner.state.floatbank6_a_level                    -0.030591   \n",
       "\n",
       "                                            final.output.recovery  \\\n",
       "final.output.concentrate_ag                              0.133253   \n",
       "final.output.concentrate_pb                              0.095015   \n",
       "final.output.concentrate_sol                             0.276327   \n",
       "final.output.concentrate_au                              0.253067   \n",
       "final.output.recovery                                    1.000000   \n",
       "...                                                           ...   \n",
       "secondary_cleaner.state.floatbank5_a_level               0.024159   \n",
       "secondary_cleaner.state.floatbank5_b_air                 0.068281   \n",
       "secondary_cleaner.state.floatbank5_b_level               0.043815   \n",
       "secondary_cleaner.state.floatbank6_a_air                -0.027253   \n",
       "secondary_cleaner.state.floatbank6_a_level              -0.035782   \n",
       "\n",
       "                                            final.output.tail_ag  \\\n",
       "final.output.concentrate_ag                             0.289608   \n",
       "final.output.concentrate_pb                            -0.100545   \n",
       "final.output.concentrate_sol                            0.196280   \n",
       "final.output.concentrate_au                             0.079619   \n",
       "final.output.recovery                                   0.151610   \n",
       "...                                                          ...   \n",
       "secondary_cleaner.state.floatbank5_a_level             -0.008393   \n",
       "secondary_cleaner.state.floatbank5_b_air                0.008668   \n",
       "secondary_cleaner.state.floatbank5_b_level             -0.000428   \n",
       "secondary_cleaner.state.floatbank6_a_air               -0.103813   \n",
       "secondary_cleaner.state.floatbank6_a_level             -0.123257   \n",
       "\n",
       "                                            final.output.tail_pb  \\\n",
       "final.output.concentrate_ag                            -0.109474   \n",
       "final.output.concentrate_pb                             0.258941   \n",
       "final.output.concentrate_sol                            0.282889   \n",
       "final.output.concentrate_au                             0.059601   \n",
       "final.output.recovery                                  -0.133966   \n",
       "...                                                          ...   \n",
       "secondary_cleaner.state.floatbank5_a_level              0.071651   \n",
       "secondary_cleaner.state.floatbank5_b_air                0.192483   \n",
       "secondary_cleaner.state.floatbank5_b_level              0.080436   \n",
       "secondary_cleaner.state.floatbank6_a_air                0.063197   \n",
       "secondary_cleaner.state.floatbank6_a_level             -0.183512   \n",
       "\n",
       "                                            final.output.tail_sol  \\\n",
       "final.output.concentrate_ag                              0.046245   \n",
       "final.output.concentrate_pb                              0.068584   \n",
       "final.output.concentrate_sol                            -0.048919   \n",
       "final.output.concentrate_au                              0.099187   \n",
       "final.output.recovery                                   -0.087200   \n",
       "...                                                           ...   \n",
       "secondary_cleaner.state.floatbank5_a_level              -0.085958   \n",
       "secondary_cleaner.state.floatbank5_b_air                -0.133394   \n",
       "secondary_cleaner.state.floatbank5_b_level              -0.104676   \n",
       "secondary_cleaner.state.floatbank6_a_air                 0.002036   \n",
       "secondary_cleaner.state.floatbank6_a_level               0.016747   \n",
       "\n",
       "                                            final.output.tail_au  \\\n",
       "final.output.concentrate_ag                             0.193927   \n",
       "final.output.concentrate_pb                             0.029186   \n",
       "final.output.concentrate_sol                            0.231138   \n",
       "final.output.concentrate_au                            -0.070600   \n",
       "final.output.recovery                                  -0.435553   \n",
       "...                                                          ...   \n",
       "secondary_cleaner.state.floatbank5_a_level              0.116355   \n",
       "secondary_cleaner.state.floatbank5_b_air               -0.104752   \n",
       "secondary_cleaner.state.floatbank5_b_level              0.101255   \n",
       "secondary_cleaner.state.floatbank6_a_air                0.068412   \n",
       "secondary_cleaner.state.floatbank6_a_level             -0.107121   \n",
       "\n",
       "                                            primary_cleaner.input.sulfate  \\\n",
       "final.output.concentrate_ag                                      0.015657   \n",
       "final.output.concentrate_pb                                      0.116948   \n",
       "final.output.concentrate_sol                                     0.358490   \n",
       "final.output.concentrate_au                                      0.111357   \n",
       "final.output.recovery                                            0.384798   \n",
       "...                                                                   ...   \n",
       "secondary_cleaner.state.floatbank5_a_level                      -0.030974   \n",
       "secondary_cleaner.state.floatbank5_b_air                         0.000540   \n",
       "secondary_cleaner.state.floatbank5_b_level                      -0.024671   \n",
       "secondary_cleaner.state.floatbank6_a_air                        -0.104186   \n",
       "secondary_cleaner.state.floatbank6_a_level                      -0.142148   \n",
       "\n",
       "                                            ...  \\\n",
       "final.output.concentrate_ag                 ...   \n",
       "final.output.concentrate_pb                 ...   \n",
       "final.output.concentrate_sol                ...   \n",
       "final.output.concentrate_au                 ...   \n",
       "final.output.recovery                       ...   \n",
       "...                                         ...   \n",
       "secondary_cleaner.state.floatbank5_a_level  ...   \n",
       "secondary_cleaner.state.floatbank5_b_air    ...   \n",
       "secondary_cleaner.state.floatbank5_b_level  ...   \n",
       "secondary_cleaner.state.floatbank6_a_air    ...   \n",
       "secondary_cleaner.state.floatbank6_a_level  ...   \n",
       "\n",
       "                                            secondary_cleaner.state.floatbank4_a_air  \\\n",
       "final.output.concentrate_ag                                                 0.043730   \n",
       "final.output.concentrate_pb                                                 0.001758   \n",
       "final.output.concentrate_sol                                                0.023835   \n",
       "final.output.concentrate_au                                                 0.039461   \n",
       "final.output.recovery                                                       0.209659   \n",
       "...                                                                              ...   \n",
       "secondary_cleaner.state.floatbank5_a_level                                  0.105582   \n",
       "secondary_cleaner.state.floatbank5_b_air                                    0.722636   \n",
       "secondary_cleaner.state.floatbank5_b_level                                  0.110995   \n",
       "secondary_cleaner.state.floatbank6_a_air                                    0.206262   \n",
       "secondary_cleaner.state.floatbank6_a_level                                 -0.001740   \n",
       "\n",
       "                                            secondary_cleaner.state.floatbank4_a_level  \\\n",
       "final.output.concentrate_ag                                                   0.169557   \n",
       "final.output.concentrate_pb                                                  -0.035179   \n",
       "final.output.concentrate_sol                                                  0.267074   \n",
       "final.output.concentrate_au                                                  -0.042076   \n",
       "final.output.recovery                                                         0.057357   \n",
       "...                                                                                ...   \n",
       "secondary_cleaner.state.floatbank5_a_level                                    0.790025   \n",
       "secondary_cleaner.state.floatbank5_b_air                                      0.244834   \n",
       "secondary_cleaner.state.floatbank5_b_level                                    0.747246   \n",
       "secondary_cleaner.state.floatbank6_a_air                                      0.566279   \n",
       "secondary_cleaner.state.floatbank6_a_level                                    0.257172   \n",
       "\n",
       "                                            secondary_cleaner.state.floatbank4_b_air  \\\n",
       "final.output.concentrate_ag                                                 0.020938   \n",
       "final.output.concentrate_pb                                                 0.092703   \n",
       "final.output.concentrate_sol                                                0.038815   \n",
       "final.output.concentrate_au                                                 0.002315   \n",
       "final.output.recovery                                                       0.170796   \n",
       "...                                                                              ...   \n",
       "secondary_cleaner.state.floatbank5_a_level                                  0.013065   \n",
       "secondary_cleaner.state.floatbank5_b_air                                    0.878031   \n",
       "secondary_cleaner.state.floatbank5_b_level                                  0.035827   \n",
       "secondary_cleaner.state.floatbank6_a_air                                    0.311866   \n",
       "secondary_cleaner.state.floatbank6_a_level                                 -0.108056   \n",
       "\n",
       "                                            secondary_cleaner.state.floatbank4_b_level  \\\n",
       "final.output.concentrate_ag                                                   0.005363   \n",
       "final.output.concentrate_pb                                                   0.069321   \n",
       "final.output.concentrate_sol                                                  0.146107   \n",
       "final.output.concentrate_au                                                  -0.011141   \n",
       "final.output.recovery                                                        -0.089021   \n",
       "...                                                                                ...   \n",
       "secondary_cleaner.state.floatbank5_a_level                                    0.554616   \n",
       "secondary_cleaner.state.floatbank5_b_air                                      0.154015   \n",
       "secondary_cleaner.state.floatbank5_b_level                                    0.515631   \n",
       "secondary_cleaner.state.floatbank6_a_air                                      0.271922   \n",
       "secondary_cleaner.state.floatbank6_a_level                                    0.281521   \n",
       "\n",
       "                                            secondary_cleaner.state.floatbank5_a_air  \\\n",
       "final.output.concentrate_ag                                                 0.013101   \n",
       "final.output.concentrate_pb                                                 0.095191   \n",
       "final.output.concentrate_sol                                                0.039611   \n",
       "final.output.concentrate_au                                                 0.005822   \n",
       "final.output.recovery                                                       0.098198   \n",
       "...                                                                              ...   \n",
       "secondary_cleaner.state.floatbank5_a_level                                  0.083474   \n",
       "secondary_cleaner.state.floatbank5_b_air                                    0.892487   \n",
       "secondary_cleaner.state.floatbank5_b_level                                  0.100726   \n",
       "secondary_cleaner.state.floatbank6_a_air                                    0.440986   \n",
       "secondary_cleaner.state.floatbank6_a_level                                 -0.002858   \n",
       "\n",
       "                                            secondary_cleaner.state.floatbank5_a_level  \\\n",
       "final.output.concentrate_ag                                                   0.228833   \n",
       "final.output.concentrate_pb                                                  -0.096081   \n",
       "final.output.concentrate_sol                                                  0.241744   \n",
       "final.output.concentrate_au                                                  -0.098005   \n",
       "final.output.recovery                                                         0.024159   \n",
       "...                                                                                ...   \n",
       "secondary_cleaner.state.floatbank5_a_level                                    1.000000   \n",
       "secondary_cleaner.state.floatbank5_b_air                                      0.036597   \n",
       "secondary_cleaner.state.floatbank5_b_level                                    0.884422   \n",
       "secondary_cleaner.state.floatbank6_a_air                                      0.512319   \n",
       "secondary_cleaner.state.floatbank6_a_level                                    0.379862   \n",
       "\n",
       "                                            secondary_cleaner.state.floatbank5_b_air  \\\n",
       "final.output.concentrate_ag                                                 0.021730   \n",
       "final.output.concentrate_pb                                                 0.123802   \n",
       "final.output.concentrate_sol                                                0.015752   \n",
       "final.output.concentrate_au                                                -0.014605   \n",
       "final.output.recovery                                                       0.068281   \n",
       "...                                                                              ...   \n",
       "secondary_cleaner.state.floatbank5_a_level                                  0.036597   \n",
       "secondary_cleaner.state.floatbank5_b_air                                    1.000000   \n",
       "secondary_cleaner.state.floatbank5_b_level                                  0.046376   \n",
       "secondary_cleaner.state.floatbank6_a_air                                    0.474673   \n",
       "secondary_cleaner.state.floatbank6_a_level                                 -0.025748   \n",
       "\n",
       "                                            secondary_cleaner.state.floatbank5_b_level  \\\n",
       "final.output.concentrate_ag                                                   0.199140   \n",
       "final.output.concentrate_pb                                                  -0.115075   \n",
       "final.output.concentrate_sol                                                  0.231101   \n",
       "final.output.concentrate_au                                                  -0.086365   \n",
       "final.output.recovery                                                         0.043815   \n",
       "...                                                                                ...   \n",
       "secondary_cleaner.state.floatbank5_a_level                                    0.884422   \n",
       "secondary_cleaner.state.floatbank5_b_air                                      0.046376   \n",
       "secondary_cleaner.state.floatbank5_b_level                                    1.000000   \n",
       "secondary_cleaner.state.floatbank6_a_air                                      0.493124   \n",
       "secondary_cleaner.state.floatbank6_a_level                                    0.342091   \n",
       "\n",
       "                                            secondary_cleaner.state.floatbank6_a_air  \\\n",
       "final.output.concentrate_ag                                                 0.170380   \n",
       "final.output.concentrate_pb                                                -0.018394   \n",
       "final.output.concentrate_sol                                                0.222563   \n",
       "final.output.concentrate_au                                                -0.122757   \n",
       "final.output.recovery                                                      -0.027253   \n",
       "...                                                                              ...   \n",
       "secondary_cleaner.state.floatbank5_a_level                                  0.512319   \n",
       "secondary_cleaner.state.floatbank5_b_air                                    0.474673   \n",
       "secondary_cleaner.state.floatbank5_b_level                                  0.493124   \n",
       "secondary_cleaner.state.floatbank6_a_air                                    1.000000   \n",
       "secondary_cleaner.state.floatbank6_a_level                                  0.098835   \n",
       "\n",
       "                                            secondary_cleaner.state.floatbank6_a_level  \n",
       "final.output.concentrate_ag                                                   0.061006  \n",
       "final.output.concentrate_pb                                                   0.075271  \n",
       "final.output.concentrate_sol                                                 -0.271875  \n",
       "final.output.concentrate_au                                                  -0.030591  \n",
       "final.output.recovery                                                        -0.035782  \n",
       "...                                                                                ...  \n",
       "secondary_cleaner.state.floatbank5_a_level                                    0.379862  \n",
       "secondary_cleaner.state.floatbank5_b_air                                     -0.025748  \n",
       "secondary_cleaner.state.floatbank5_b_level                                    0.342091  \n",
       "secondary_cleaner.state.floatbank6_a_air                                      0.098835  \n",
       "secondary_cleaner.state.floatbank6_a_level                                    1.000000  \n",
       "\n",
       "[86 rows x 86 columns]"
      ]
     },
     "metadata": {},
     "output_type": "display_data"
    }
   ],
   "source": [
    "display(gold_test.corr('pearson'))\n",
    "display(gold_full.corr('pearson'))\n",
    "display(gold_train.corr('pearson'))"
   ]
  },
  {
   "cell_type": "code",
   "execution_count": 19,
   "metadata": {},
   "outputs": [
    {
     "name": "stdout",
     "output_type": "stream",
     "text": [
      "0 0 0\n"
     ]
    }
   ],
   "source": [
    "print(gold_train.duplicated().sum(), gold_test.duplicated().sum(), gold_full.duplicated().sum())"
   ]
  },
  {
   "cell_type": "markdown",
   "metadata": {},
   "source": [
    "<div class=\"alert alert-block alert-success\">\n",
    "<b>Успех:</b> В данном случае это наиболее подходящий метод для заполнения пропусков!\n",
    "</div>"
   ]
  },
  {
   "cell_type": "markdown",
   "metadata": {},
   "source": [
    "# ВЫВОД: Произвели предобработку данных. В выборках дублей у нас нет. Можно смело двигаться дальше."
   ]
  },
  {
   "cell_type": "markdown",
   "metadata": {},
   "source": [
    "## Анализ данных"
   ]
  },
  {
   "cell_type": "markdown",
   "metadata": {},
   "source": [
    "### Посмотрим, как меняется концентрация металлов (Au, Ag, Pb) на различных этапах очитки. Опишим выводы."
   ]
  },
  {
   "cell_type": "code",
   "execution_count": 20,
   "metadata": {},
   "outputs": [
    {
     "data": {
      "image/png": "[encoded data removed]",
      "text/plain": [
       "<Figure size 1440x432 with 1 Axes>"
      ]
     },
     "metadata": {
      "needs_background": "light"
     },
     "output_type": "display_data"
    }
   ],
   "source": [
    "plt.figure(figsize=(20, 6))\n",
    "plt.title('Концентрация Ag на различных этапах очистки', fontsize=15)\n",
    "plt.xlabel('Концентрация серебра', labelpad=15, fontsize=13)\n",
    "sns.kdeplot(data=gold_full['final.output.concentrate_ag'], label = 'Финальный этап')\n",
    "sns.kdeplot(data=gold_full['primary_cleaner.output.concentrate_ag'], label = 'После второй очистки')\n",
    "sns.kdeplot(data=gold_full['rougher.output.concentrate_ag'], label = 'После флотации')\n",
    "sns.kdeplot(data=gold_full['rougher.input.feed_ag'], label = 'Сырье')\n",
    "plt.grid(which='major', color = 'g', linewidth = 0.15)\n",
    "plt.legend();"
   ]
  },
  {
   "cell_type": "code",
   "execution_count": 21,
   "metadata": {},
   "outputs": [
    {
     "data": {
      "image/png": "[encoded data removed]",
      "text/plain": [
       "<Figure size 1440x432 with 1 Axes>"
      ]
     },
     "metadata": {
      "needs_background": "light"
     },
     "output_type": "display_data"
    }
   ],
   "source": [
    "plt.figure(figsize=(20, 6))\n",
    "plt.title('Концентрация Au на различных этапах очистки', fontsize=16)\n",
    "plt.xlabel('Концентрация золота', labelpad=15, fontsize=14)\n",
    "sns.kdeplot(data=gold_full['final.output.concentrate_au'], label = 'Этап финальный')\n",
    "sns.kdeplot(data=gold_full['primary_cleaner.output.concentrate_au'], label = 'После второй очистки')\n",
    "sns.kdeplot(data=gold_full['rougher.output.concentrate_au'], label = 'После флотации')\n",
    "sns.kdeplot(data=gold_full['rougher.input.feed_au'], label = 'Сырье')\n",
    "plt.grid(which='major', color = 'g', linewidth = 0.15)\n",
    "plt.legend();"
   ]
  },
  {
   "cell_type": "code",
   "execution_count": 22,
   "metadata": {},
   "outputs": [
    {
     "data": {
      "image/png": "[encoded data removed]",
      "text/plain": [
       "<Figure size 1440x432 with 1 Axes>"
      ]
     },
     "metadata": {
      "needs_background": "light"
     },
     "output_type": "display_data"
    }
   ],
   "source": [
    "plt.figure(figsize=(20, 6))\n",
    "plt.title('Концентрация Pb на различных этапах очистки', fontsize=16)\n",
    "plt.xlabel('Концентрация свинца', labelpad=15, fontsize=14)\n",
    "sns.kdeplot(data=gold_full['final.output.concentrate_pb'], label = 'Этап финальный')\n",
    "sns.kdeplot(data=gold_full['primary_cleaner.output.concentrate_pb'], label = 'После второй очистки')\n",
    "sns.kdeplot(data=gold_full['rougher.output.concentrate_pb'], label = 'После флотации')\n",
    "sns.kdeplot(data=gold_full['rougher.input.feed_pb'], label = 'Сырье')\n",
    "plt.grid(which='major', color = 'g', linewidth = 0.15)\n",
    "plt.legend();"
   ]
  },
  {
   "cell_type": "markdown",
   "metadata": {},
   "source": [
    "# ВЫВОД: По графикам видим, что после финальной очистки концентрация золота увеличилась, а концентрации серебра и свинца остались на том же уровне."
   ]
  },
  {
   "cell_type": "markdown",
   "metadata": {},
   "source": [
    "<div class=\"alert alert-block alert-success\">\n",
    "<b>Успех:</b> Хорошая визуализация!\n",
    "</div>"
   ]
  },
  {
   "cell_type": "markdown",
   "metadata": {},
   "source": [
    "### Сравним распределения размеров гранул сырья на обучающей и тестовой выборках. Если распределения будут сильно отличаются друг от друга, то оценка модели будет неправильной."
   ]
  },
  {
   "cell_type": "code",
   "execution_count": 23,
   "metadata": {},
   "outputs": [
    {
     "name": "stdout",
     "output_type": "stream",
     "text": [
      "7.866576841919407\n",
      "\n",
      "8.579195196596277\n",
      "\n",
      "3.5054646776095564\n"
     ]
    }
   ],
   "source": [
    "gold_train_feed_au = gold_train['rougher.input.feed_au'].mean()\n",
    "print(gold_train_feed_au)\n",
    "print('')\n",
    "gold_train_feed_ag = gold_train['rougher.input.feed_ag'].mean()\n",
    "print(gold_train_feed_ag)\n",
    "print('')\n",
    "gold_train_feed_pb = gold_train['rougher.input.feed_pb'].mean()\n",
    "print(gold_train_feed_pb)"
   ]
  },
  {
   "cell_type": "code",
   "execution_count": 24,
   "metadata": {},
   "outputs": [
    {
     "data": {
      "image/png": "[encoded data removed]",
      "text/plain": [
       "<Figure size 1224x648 with 1 Axes>"
      ]
     },
     "metadata": {
      "needs_background": "light"
     },
     "output_type": "display_data"
    }
   ],
   "source": [
    "plt.figure(figsize=(17,9))\n",
    "gold_train['rougher.input.feed_au'].hist(bins=100, density=True, label='ЗОЛОТО', alpha=1, color='b')\n",
    "gold_train['rougher.input.feed_ag'].hist(bins=100, density=True, label='СЕРЕБРО', alpha=0.3, color='k')\n",
    "gold_train['rougher.input.feed_pb'].hist(bins=100, density=True, label='СВИНЕЦ', alpha=0.5, color='y')\n",
    "\n",
    "plt.legend();"
   ]
  },
  {
   "cell_type": "code",
   "execution_count": 25,
   "metadata": {},
   "outputs": [
    {
     "name": "stdout",
     "output_type": "stream",
     "text": [
      "9.3346824565686\n",
      "\n",
      "9.371939771979395\n",
      "\n",
      "3.7980823845024076\n"
     ]
    }
   ],
   "source": [
    "gold_test_feed_au = gold_test['rougher.input.feed_au'].mean()\n",
    "print(gold_test_feed_au)\n",
    "print('')\n",
    "gold_test_feed_ag = gold_test['rougher.input.feed_ag'].mean()\n",
    "print(gold_test_feed_ag)\n",
    "print('')\n",
    "gold_test_feed_pb = gold_test['rougher.input.feed_pb'].mean()\n",
    "print(gold_test_feed_pb)"
   ]
  },
  {
   "cell_type": "code",
   "execution_count": 26,
   "metadata": {},
   "outputs": [
    {
     "data": {
      "image/png": "[encoded data removed]",
      "text/plain": [
       "<Figure size 1224x648 with 1 Axes>"
      ]
     },
     "metadata": {
      "needs_background": "light"
     },
     "output_type": "display_data"
    }
   ],
   "source": [
    "plt.figure(figsize=(17,9))\n",
    "gold_test['rougher.input.feed_au'].hist(bins=100, density=True, label='ЗОЛОТО', alpha=1, color='b')\n",
    "gold_test['rougher.input.feed_ag'].hist(bins=100, density=True, label='СЕРЕБРО', alpha=0.3, color='k')\n",
    "gold_test['rougher.input.feed_pb'].hist(bins=100, density=True, label='СВИНЕЦ', alpha=0.5, color='y')\n",
    "\n",
    "plt.legend();"
   ]
  },
  {
   "cell_type": "code",
   "execution_count": 27,
   "metadata": {},
   "outputs": [
    {
     "data": {
      "image/png": "[encoded data removed]",
      "text/plain": [
       "<Figure size 1368x360 with 1 Axes>"
      ]
     },
     "metadata": {
      "needs_background": "light"
     },
     "output_type": "display_data"
    }
   ],
   "source": [
    "plt.figure(figsize=(19,5))\n",
    "gold_test['rougher.input.feed_size'].hist(bins=50, density=True, label='TEST', alpha=1, color='b')\n",
    "gold_train['rougher.input.feed_size'].hist(bins=50, density=True, label='TRAIN', alpha=1, color='y')\n",
    "plt.legend();   # визуализация "
   ]
  },
  {
   "cell_type": "code",
   "execution_count": 28,
   "metadata": {},
   "outputs": [
    {
     "data": {
      "image/png": "[encoded data removed]",
      "text/plain": [
       "<Figure size 1368x360 with 1 Axes>"
      ]
     },
     "metadata": {
      "needs_background": "light"
     },
     "output_type": "display_data"
    }
   ],
   "source": [
    "plt.figure(figsize=(19,5))\n",
    "gold_test['primary_cleaner.input.feed_size'].hist(bins=50, density=True, label='TEST', alpha=1, color='b')\n",
    "gold_train['primary_cleaner.input.feed_size'].hist(bins=50, density=True, label='TRAIN', alpha=0.3, color='y')\n",
    "\n",
    "plt.legend();   # визуализация "
   ]
  },
  {
   "cell_type": "code",
   "execution_count": 29,
   "metadata": {},
   "outputs": [
    {
     "name": "stdout",
     "output_type": "stream",
     "text": [
      "Размер гранул ЗОЛОТА обучающей от тестовой составляет: 0.8427257036883862\n",
      "Размер гранул СЕРЕБРА обучающей от тестовой составляет: 0.9154129673610049\n",
      "Размер гранул СВИНЦА обучающей от тестовой составляет: 0.922956461374603\n"
     ]
    }
   ],
   "source": [
    "print('Размер гранул ЗОЛОТА обучающей от тестовой составляет:', gold_train_feed_au/gold_test_feed_au)\n",
    "print('Размер гранул СЕРЕБРА обучающей от тестовой составляет:', gold_train_feed_ag/gold_test_feed_ag)\n",
    "print('Размер гранул СВИНЦА обучающей от тестовой составляет:', gold_train_feed_pb/gold_test_feed_pb)"
   ]
  },
  {
   "cell_type": "markdown",
   "metadata": {},
   "source": [
    "# ВЫВОД: Видим, что гранулы сырья в тестовой выборке больше."
   ]
  },
  {
   "cell_type": "markdown",
   "metadata": {},
   "source": [
    "<div class=\"alert alert-block alert-danger\">\n",
    "\n",
    "<b>Ошибка:</b> В этом шаге нужно визуализировать: `rougher.input.feed_size` и `primary_cleaner.input.feed_size` попарно для треина/теста.\n",
    "</div>"
   ]
  },
  {
   "cell_type": "markdown",
   "metadata": {},
   "source": [
    "<div class=\"alert alert-block alert-warning\">\n",
    "<b>Комментарий студента:</b> ...\n",
    "</div>\n",
    "\n",
    "<div class=\"alert alert-block alert-warning\">\n",
    "<b>Изменения:</b> Добавил визуализацию попарно для трейна и для теста. Если конечно я вас правильно понял.\n",
    "</div>"
   ]
  },
  {
   "cell_type": "markdown",
   "metadata": {},
   "source": [
    "<div class=\"alert alert-block alert-success\">\n",
    "<b>Успех (ревью 2):</b> Да, все ОК.\n",
    "</div>"
   ]
  },
  {
   "cell_type": "markdown",
   "metadata": {},
   "source": [
    "### Исследуем суммарную концентрацию всех веществ на разных стадиях: в сырье, в черновом и финальном концентратах."
   ]
  },
  {
   "cell_type": "markdown",
   "metadata": {},
   "source": [
    "#### Посчитаем сумму концентраций металлов в сырье на исходных данных"
   ]
  },
  {
   "cell_type": "code",
   "execution_count": 30,
   "metadata": {},
   "outputs": [
    {
     "name": "stdout",
     "output_type": "stream",
     "text": [
      "8.794927425814688\n"
     ]
    }
   ],
   "source": [
    "gold_full['concentrate_sum_feed'] = gold_full['rougher.input.feed_ag']\n",
    "+ gold_full['rougher.input.feed_au'] + gold_full['rougher.input.feed_pb']\n",
    "print(gold_full['concentrate_sum_feed'].mean())"
   ]
  },
  {
   "cell_type": "markdown",
   "metadata": {},
   "source": [
    "#### Посчитаем сумму концентраций металлов в черновом концентрате на исходных данных"
   ]
  },
  {
   "cell_type": "code",
   "execution_count": 31,
   "metadata": {},
   "outputs": [
    {
     "name": "stdout",
     "output_type": "stream",
     "text": [
      "11.994759359873429\n"
     ]
    }
   ],
   "source": [
    "gold_full['concentrate_sum_output_concentrate'] = gold_full['rougher.output.concentrate_ag']\n",
    "+ gold_full['rougher.output.concentrate_au'] + gold_full['rougher.output.concentrate_pb']\n",
    "print(gold_full['concentrate_sum_output_concentrate'].mean())"
   ]
  },
  {
   "cell_type": "markdown",
   "metadata": {},
   "source": [
    "#### Посчитаем сумму концентраций металлов после финальной очистки на исходных данных"
   ]
  },
  {
   "cell_type": "code",
   "execution_count": 32,
   "metadata": {},
   "outputs": [
    {
     "name": "stdout",
     "output_type": "stream",
     "text": [
      "49.244899909463044\n"
     ]
    }
   ],
   "source": [
    "gold_full['concentrate_sum_final'] = gold_full['final.output.concentrate_ag'] + gold_full['final.output.concentrate_au']\n",
    "+ gold_full['final.output.concentrate_pb']\n",
    "print(gold_full['concentrate_sum_final'].mean())"
   ]
  },
  {
   "cell_type": "code",
   "execution_count": 33,
   "metadata": {},
   "outputs": [
    {
     "data": {
      "image/png": "[encoded data removed]",
      "text/plain": [
       "<Figure size 1440x720 with 1 Axes>"
      ]
     },
     "metadata": {
      "needs_background": "light"
     },
     "output_type": "display_data"
    }
   ],
   "source": [
    "plt.figure(figsize=(20,10))\n",
    "gold_full['concentrate_sum_feed'].hist(bins=35, density=True, label='Cумма концентраций металлов в сырье', alpha=1, color='b')\n",
    "gold_full['concentrate_sum_output_concentrate'].hist(bins=35, density=True, label='Сумма концентраций металлов в черновом концентрате', alpha=0.3, color='k')\n",
    "gold_full['concentrate_sum_final'].hist(bins=35, density=True, label='Сумма концентраций металлов после финальной очистки', alpha=0.5, color='y')\n",
    "plt.legend();"
   ]
  },
  {
   "cell_type": "markdown",
   "metadata": {},
   "source": [
    "Присутствует много значений около 0, убирём меньше 5. Также присутствуют выбросы около 40, уберём их тоже."
   ]
  },
  {
   "cell_type": "code",
   "execution_count": 34,
   "metadata": {},
   "outputs": [],
   "source": [
    "gold_full=gold_full[gold_full['concentrate_sum_final']>40]\n",
    "gold_full=gold_full[gold_full['concentrate_sum_feed']>5]\n",
    "gold_full=gold_full[gold_full['concentrate_sum_output_concentrate']>5]"
   ]
  },
  {
   "cell_type": "code",
   "execution_count": 35,
   "metadata": {},
   "outputs": [
    {
     "data": {
      "image/png": "[encoded data removed]",
      "text/plain": [
       "<Figure size 1440x720 with 1 Axes>"
      ]
     },
     "metadata": {
      "needs_background": "light"
     },
     "output_type": "display_data"
    }
   ],
   "source": [
    "plt.figure(figsize=(20,10))\n",
    "gold_full['concentrate_sum_feed'].hist(bins=35, density=True, label='Cумма концентраций металлов в сырье', alpha=1, color='b')\n",
    "gold_full['concentrate_sum_output_concentrate'].hist(bins=35, density=True, label='Сумма концентраций металлов в черновом концентрате', alpha=0.3, color='k')\n",
    "gold_full['concentrate_sum_final'].hist(bins=35, density=True, label='Сумма концентраций металлов после финальной очистки', alpha=0.5, color='y')\n",
    "plt.legend();"
   ]
  },
  {
   "cell_type": "markdown",
   "metadata": {},
   "source": [
    "#### Посчитаем сумму концентраций металлов после флотации на обучающих данных"
   ]
  },
  {
   "cell_type": "code",
   "execution_count": 36,
   "metadata": {},
   "outputs": [
    {
     "name": "stdout",
     "output_type": "stream",
     "text": [
      "11.775812314356036\n"
     ]
    }
   ],
   "source": [
    "gold_train['concentrate_sum_rougher'] = gold_train['rougher.output.concentrate_ag']\n",
    "+ gold_train['rougher.output.concentrate_au'] + gold_train['rougher.output.concentrate_pb']\n",
    "print(gold_train['concentrate_sum_rougher'].mean())"
   ]
  },
  {
   "cell_type": "markdown",
   "metadata": {},
   "source": [
    "#### Посчитаем сумму концентраций металлов после первичной очистки на обучающих данных"
   ]
  },
  {
   "cell_type": "code",
   "execution_count": 37,
   "metadata": {},
   "outputs": [
    {
     "name": "stdout",
     "output_type": "stream",
     "text": [
      "8.200915815165981\n"
     ]
    }
   ],
   "source": [
    "gold_train['concentrate_sum_primary_cleaner'] = gold_train['primary_cleaner.output.concentrate_ag']\n",
    "+ gold_train['primary_cleaner.output.concentrate_au'] + gold_train['primary_cleaner.output.concentrate_pb']\n",
    "print(gold_train['concentrate_sum_primary_cleaner'].mean())"
   ]
  },
  {
   "cell_type": "markdown",
   "metadata": {},
   "source": [
    "#### Посчитаем сумму концентраций металлов после финальной очистки на обучающих данных"
   ]
  },
  {
   "cell_type": "code",
   "execution_count": 38,
   "metadata": {},
   "outputs": [
    {
     "name": "stdout",
     "output_type": "stream",
     "text": [
      "49.1457125459128\n"
     ]
    }
   ],
   "source": [
    "gold_train['concentrate_sum_final'] = gold_train['final.output.concentrate_ag'] + gold_train['final.output.concentrate_au']\n",
    "+ gold_train['final.output.concentrate_pb']\n",
    "print(gold_train['concentrate_sum_final'].mean())"
   ]
  },
  {
   "cell_type": "markdown",
   "metadata": {},
   "source": [
    "#### Удалим выбросы на обучающей выборке"
   ]
  },
  {
   "cell_type": "code",
   "execution_count": 39,
   "metadata": {},
   "outputs": [],
   "source": [
    "gold_train=gold_train[gold_train['concentrate_sum_final']>40]\n",
    "gold_train=gold_train[gold_train['concentrate_sum_primary_cleaner']>5]\n",
    "gold_train=gold_train[gold_train['concentrate_sum_rougher']>5]\n",
    "gold_train=gold_train.reset_index()"
   ]
  },
  {
   "cell_type": "code",
   "execution_count": 40,
   "metadata": {},
   "outputs": [
    {
     "data": {
      "image/png": "[encoded data removed]",
      "text/plain": [
       "<Figure size 1440x720 with 1 Axes>"
      ]
     },
     "metadata": {
      "needs_background": "light"
     },
     "output_type": "display_data"
    }
   ],
   "source": [
    "plt.figure(figsize=(20,10))\n",
    "gold_train['concentrate_sum_rougher'].hist(bins=35, density=True, label='Cумма концентраций металлов после флотации', alpha=1, color='b')\n",
    "gold_train['concentrate_sum_primary_cleaner'].hist(bins=35, density=True, label='Сумма концентраций металлов после первичной очистки', alpha=0.3, color='k')\n",
    "gold_train['concentrate_sum_final'].hist(bins=35, density=True, label='Сумма концентраций металлов после финальной очистки', alpha=0.5, color='y')\n",
    "plt.legend();"
   ]
  },
  {
   "cell_type": "markdown",
   "metadata": {},
   "source": [
    "<div class=\"alert alert-block alert-success\">\n",
    "<b>Успех:</b> Хорошо, что аномалии были удалены.\n",
    "</div>"
   ]
  },
  {
   "cell_type": "markdown",
   "metadata": {},
   "source": [
    "## Построим модель"
   ]
  },
  {
   "cell_type": "markdown",
   "metadata": {},
   "source": [
    "### Напишем функцию для вычисления итоговой sMAPE"
   ]
  },
  {
   "cell_type": "code",
   "execution_count": 41,
   "metadata": {},
   "outputs": [],
   "source": [
    "def sMAPE(y_true,y_pred):\n",
    "    numerator = np.abs(y_true - y_pred)\n",
    "    denominator = (np.abs(y_true) + np.abs(y_pred))/2\n",
    "    smape = ((numerator/denominator)*100).sum() / len(y_pred)\n",
    "    return 0.25*smape[0] + 0.75*smape[1]"
   ]
  },
  {
   "cell_type": "markdown",
   "metadata": {},
   "source": [
    "<div class=\"alert alert-block alert-success\">\n",
    "<b>Успех:</b> Верно.\n",
    "</div>"
   ]
  },
  {
   "cell_type": "markdown",
   "metadata": {},
   "source": [
    "### Обучим разные модели и оценим их качество кросс-валидаций. Выберим лучшую модель и проверим её на тестовой выборке. Напишем выводы."
   ]
  },
  {
   "cell_type": "code",
   "execution_count": 42,
   "metadata": {},
   "outputs": [],
   "source": [
    "columns=gold_test.columns\n",
    "feature=gold_train[columns] # Сформируем признаки, выбираем из train колонки, которые есть в test\n",
    "feature=feature.drop(['date'],axis=1)\n",
    "target=gold_train[['rougher.output.recovery','final.output.recovery']] # Cформируем вектор целевых признаков\n",
    "target_array=np.array(target)\n",
    "sample_size=int(len(target)/5)# Сформирую длину датасета для кросс-валидации. Их будет 4"
   ]
  },
  {
   "cell_type": "code",
   "execution_count": 43,
   "metadata": {},
   "outputs": [],
   "source": [
    "features_train, features_test, target_train, target_test = train_test_split(\n",
    "    feature, target, test_size=1, random_state=12345)"
   ]
  },
  {
   "cell_type": "markdown",
   "metadata": {},
   "source": [
    "<div class=\"alert alert-block alert-info\">\n",
    "<b>Совет: </b> А зачем выделять выладиионный набор?\n",
    "\n",
    "</div>"
   ]
  },
  {
   "cell_type": "markdown",
   "metadata": {},
   "source": [
    "<div class=\"alert alert-block alert-warning\">\n",
    "<b>Комментарий студента V3:</b> ...\n",
    "</div>\n",
    "\n",
    "<div class=\"alert alert-block alert-warning\">\n",
    "<b>Изменения V3:</b> Поправил на тестовую.\n",
    "</div>"
   ]
  },
  {
   "cell_type": "code",
   "execution_count": null,
   "metadata": {},
   "outputs": [],
   "source": []
  },
  {
   "cell_type": "markdown",
   "metadata": {},
   "source": [
    "#### Линейная регрессия"
   ]
  },
  {
   "cell_type": "code",
   "execution_count": 44,
   "metadata": {},
   "outputs": [
    {
     "name": "stdout",
     "output_type": "stream",
     "text": [
      "-6.720866234714235\n",
      "CPU times: user 528 ms, sys: 892 ms, total: 1.42 s\n",
      "Wall time: 1.38 s\n"
     ]
    }
   ],
   "source": [
    "%%time\n",
    "    \n",
    "model_regression = LinearRegression()\n",
    "model_regression.fit(features_train, target_train)\n",
    "prediction_regress = model_regression.predict(features_test)   \n",
    "\n",
    "smape_scorer = make_scorer(sMAPE, greater_is_better=False)\n",
    "    \n",
    "score = cross_val_score(model_regression, features_train, target_train, scoring=smape_scorer, cv=5).mean()\n",
    "\n",
    "print(score)"
   ]
  },
  {
   "cell_type": "markdown",
   "metadata": {},
   "source": [
    "<div class=\"alert alert-block alert-success\">\n",
    "<b>Успех:</b> Скорер определен корректно.\n",
    "</div>"
   ]
  },
  {
   "cell_type": "markdown",
   "metadata": {},
   "source": [
    "\n",
    "<div class=\"alert alert-block alert-info\">\n",
    "<b>Совет: </b> Перед обучением линейных моделей желательно нормализовать признаки, при этом scaler должен быть обучен только на треине.\n",
    "</div>"
   ]
  },
  {
   "cell_type": "markdown",
   "metadata": {},
   "source": [
    "#### Случайный лес"
   ]
  },
  {
   "cell_type": "code",
   "execution_count": 45,
   "metadata": {},
   "outputs": [
    {
     "name": "stdout",
     "output_type": "stream",
     "text": [
      "{'max_depth': 3, 'n_estimators': 40}\n",
      "-4.431514790588627\n",
      "CPU times: user 5min 1s, sys: 1.59 s, total: 5min 3s\n",
      "Wall time: 5min 3s\n"
     ]
    }
   ],
   "source": [
    "%%time\n",
    "model_forest=RandomForestRegressor(random_state=1234)\n",
    "\n",
    "model_forest.fit(features_train, target_train)\n",
    "\n",
    "prediction_forest=model_forest.predict(features_test)\n",
    "\n",
    "param_grid = {'max_depth': range (2, 4, 1), 'n_estimators': range (40, 50, 10)}\n",
    "smape_scorer = make_scorer(sMAPE, greater_is_better=False)\n",
    "clf = RandomForestRegressor()\n",
    "grid = GridSearchCV(clf, param_grid, scoring=smape_scorer,cv=3, n_jobs=-1)\n",
    "score = cross_val_score(model_forest, features_train, target_train, scoring=smape_scorer, cv=5).mean()\n",
    "grid.fit(features_train, target_train)\n",
    "print(grid.best_params_)                  #Слишком долго выполняется\n",
    "print(score)                              #!!! Wall time: 5 min 5 s\n",
    "                                          # {'max_depth': 3, 'n_estimators': 40} -4.431514790588627    "
   ]
  },
  {
   "cell_type": "markdown",
   "metadata": {},
   "source": [
    "<div class=\"alert alert-block alert-success\">\n",
    "<b>Успех:</b> Отлично, что для подбора параметров использовался метод основанный на кросс-валидации!\n",
    "</div>"
   ]
  },
  {
   "cell_type": "markdown",
   "metadata": {},
   "source": [
    "<div class=\"alert alert-block alert-warning\">\n",
    "<b>Комментарий студента V2:</b> ...\n",
    "</div>\n",
    "\n",
    "<div class=\"alert alert-block alert-warning\">\n",
    "<b>Изменения V2:</b> Также добавил к GridSearchCV параметр n_jobs=-1 - это помогло мне выиграть полторы минуты.\n",
    "</div>"
   ]
  },
  {
   "cell_type": "markdown",
   "metadata": {},
   "source": [
    "#### Фиктивный регрессор"
   ]
  },
  {
   "cell_type": "code",
   "execution_count": 46,
   "metadata": {},
   "outputs": [
    {
     "name": "stdout",
     "output_type": "stream",
     "text": [
      "-8.971429454541703\n",
      "CPU times: user 29.5 ms, sys: 3.75 ms, total: 33.2 ms\n",
      "Wall time: 32 ms\n"
     ]
    }
   ],
   "source": [
    "%%time\n",
    "dummy_regr = DummyRegressor(strategy=\"mean\")\n",
    "dummy_regr.fit(features_train, target_train)\n",
    "DummyRegressor()\n",
    "dummy_regr.predict(features_train, return_std=False)\n",
    "smape_scorer = make_scorer(sMAPE, greater_is_better=False)\n",
    "    \n",
    "score = cross_val_score(dummy_regr, features_train, target_train, scoring=smape_scorer, cv=5).mean()\n",
    "\n",
    "print(score)"
   ]
  },
  {
   "cell_type": "markdown",
   "metadata": {},
   "source": [
    "#### Выберим лучшую модель и проверим её на тестовой выборке. Напишим выводы."
   ]
  },
  {
   "cell_type": "code",
   "execution_count": 47,
   "metadata": {},
   "outputs": [],
   "source": [
    "target=gold_full[['date','rougher.output.recovery','final.output.recovery']]\n",
    "gold_test=gold_test.merge(target,on=['date'],how='left')\n",
    "gold_test=gold_test.dropna()"
   ]
  },
  {
   "cell_type": "code",
   "execution_count": 48,
   "metadata": {},
   "outputs": [],
   "source": [
    "target=gold_test[['rougher.output.recovery','final.output.recovery']]\n",
    "feature=gold_test.drop(['date','rougher.output.recovery','final.output.recovery'],axis=1)"
   ]
  },
  {
   "cell_type": "markdown",
   "metadata": {},
   "source": [
    "<div class=\"alert alert-block alert-success\">\n",
    "<b>Успех:</b> Хорошо, что merge проводился по дате!\n",
    "</div>"
   ]
  },
  {
   "cell_type": "code",
   "execution_count": 49,
   "metadata": {},
   "outputs": [
    {
     "data": {
      "text/plain": [
       "((4988, 52), (4988, 2))"
      ]
     },
     "execution_count": 49,
     "metadata": {},
     "output_type": "execute_result"
    }
   ],
   "source": [
    "feature.shape, target.shape"
   ]
  },
  {
   "cell_type": "code",
   "execution_count": 50,
   "metadata": {},
   "outputs": [],
   "source": [
    "gold_full[['date','rougher.output.recovery','final.output.recovery']].info()"
   ]
  },
  {
   "cell_type": "code",
   "execution_count": 51,
   "metadata": {},
   "outputs": [],
   "source": [
    "gold_test[['date','rougher.output.recovery','final.output.recovery']].info()"
   ]
  },
  {
   "cell_type": "markdown",
   "metadata": {},
   "source": [
    "<div class=\"alert alert-block alert-danger\">\n",
    "\n",
    "<b>Ошибка (ревью 2):</b> Напечатай размер `prediction_reg` и `target`. Вообще говоря не очень понятно, что сейчас делается в этом шаге. Тут нужно сделать предсказания на тестовой выборке, а не на фулл.\n",
    "</div>"
   ]
  },
  {
   "cell_type": "markdown",
   "metadata": {},
   "source": [
    "<div class=\"alert alert-block alert-danger\">\n",
    "\n",
    "<b>Ошибка (ревью 3):</b> А как ты будешь предсказывать по таргету, я не очень понимаю? В прошлой итерации у `prediction_reg` и `target` были разные размеры (кол-во объектов). Как можно посчитать метрику между `[1, 2, 3]` и `[1, 2]`?\n",
    "    \n",
    "--------------\n",
    "    \n",
    "Все, что нужно сделать – предсказать на тестовой выборке, для этого:\n",
    "1. Из gold_test нужно достать features (они должны совпадать с features_train по количеству столбиков)\n",
    "2. Из gold_test нужно достать target (они должны совпадает с target_train по количеству столбиков), это нужно сделать после merge\n",
    "3. Предсказать по тестовым features: `.predict()`\n",
    "4. Измерить sMAPE между результатом шагов 2 и 3.\n",
    "</div>"
   ]
  },
  {
   "cell_type": "markdown",
   "metadata": {},
   "source": [
    "<div class=\"alert alert-block alert-warning\">\n",
    "<b>Комментарий студента:</b> ...\n",
    "</div>\n",
    "\n",
    "<div class=\"alert alert-block alert-warning\">\n",
    "<b>Изменения V3:</b> Поправил, все модельки обучил на тесте.\n",
    "</div>"
   ]
  },
  {
   "cell_type": "markdown",
   "metadata": {},
   "source": [
    "<div class=\"alert alert-block alert-info\">\n",
    "<b>Совет (ревью 4): </b> измерил на тесте, а не обучил.\n",
    "</div>"
   ]
  },
  {
   "cell_type": "code",
   "execution_count": 52,
   "metadata": {},
   "outputs": [
    {
     "name": "stdout",
     "output_type": "stream",
     "text": [
      "sMAPE линейной регрессии:    7.052967569705217\n",
      "sMAPE случайного леса:       7.899827903611529\n",
      "sMAPE фиктивного регрессора: 7.281199016744664\n"
     ]
    }
   ],
   "source": [
    "prediction_reg=model_regression.predict(feature)\n",
    "smape_line=sMAPE(prediction_reg,target)        \n",
    "\n",
    "prediction_forest=model_forest.predict(feature)\n",
    "smape_forest=sMAPE(prediction_forest,target)\n",
    "\n",
    "prediction_dummy=dummy_regr.predict(feature)\n",
    "smape_dummy=sMAPE(prediction_dummy,target)\n",
    "\n",
    "print('sMAPE линейной регрессии:   ', smape_line)\n",
    "print('sMAPE случайного леса:      ', smape_forest)\n",
    "print('sMAPE фиктивного регрессора:', smape_dummy)"
   ]
  },
  {
   "cell_type": "code",
   "execution_count": 53,
   "metadata": {
    "scrolled": true
   },
   "outputs": [],
   "source": [
    "cover = [smape_line, smape_forest, smape_dummy]"
   ]
  },
  {
   "cell_type": "code",
   "execution_count": 54,
   "metadata": {},
   "outputs": [
    {
     "data": {
      "text/plain": [
       "((4988, 2), (4988, 2))"
      ]
     },
     "execution_count": 54,
     "metadata": {},
     "output_type": "execute_result"
    }
   ],
   "source": [
    "prediction_reg.shape, target.shape"
   ]
  },
  {
   "cell_type": "markdown",
   "metadata": {},
   "source": [
    "<div class=\"alert alert-block alert-warning\">\n",
    "<b>Комментарий студента:</b> ...\n",
    "</div>\n",
    "\n",
    "<div class=\"alert alert-block alert-warning\">\n",
    "<b>Изменения V3:</b> Уважаемый Артём, после поправки моего проекта получилось выйти на рабочий код.\n",
    "</div>"
   ]
  },
  {
   "cell_type": "markdown",
   "metadata": {},
   "source": [
    "<div class=\"alert alert-block alert-success\">\n",
    "<b>Успех (ревью 4):</b> ОК.\n",
    "</div>"
   ]
  },
  {
   "cell_type": "code",
   "execution_count": 56,
   "metadata": {},
   "outputs": [
    {
     "data": {
      "image/png": "[encoded data removed]",
      "text/plain": [
       "<Figure size 720x360 with 1 Axes>"
      ]
     },
     "metadata": {
      "needs_background": "light"
     },
     "output_type": "display_data"
    }
   ],
   "source": [
    "import matplotlib.pyplot as plt\n",
    "\n",
    "\n",
    "cover = pd.DataFrame(index=['sMAPE линейной регрессии','sMAPE случайного леса','sMAPE фиктивного регрессора'], columns=['Линейная регрессия', 'Случайный лес', 'Фиктивный регрессор'])\n",
    "cover['Линейная регрессия'] = 7.05\n",
    "cover['Случайный лес'] = 7.89\n",
    "cover['Фиктивный регрессор'] = 7.28\n",
    "\n",
    "cover.astype('float').iloc[0,:].plot(color='b', kind=\"bar\", figsize=(10,5), grid=True, alpha=0.5, subplots=True)\n",
    "plt.title('Модели на тестовой выборке')\n",
    "plt.ylabel('s MAPE')\n",
    "plt.show()"
   ]
  },
  {
   "cell_type": "markdown",
   "metadata": {},
   "source": [
    "# ВЫВОД: По графику видно, что лучше всех себя проявила линейная регрессия на тестовой сборке со значением sMAPE = 7.0529."
   ]
  },
  {
   "cell_type": "markdown",
   "metadata": {},
   "source": [
    "<div class=\"alert alert-block alert-success\">\n",
    "<b>Успех:</b> Тестирование было сделано правильно. Хорошо, что ты не забыл про дамми модель!\n",
    "</div>"
   ]
  },
  {
   "cell_type": "markdown",
   "metadata": {},
   "source": [
    "## Чек-лист готовности проекта"
   ]
  },
  {
   "cell_type": "markdown",
   "metadata": {},
   "source": [
    "- [x]  Jupyter Notebook открыт\n",
    "- [x]  Весь код выполняется без ошибок\n",
    "- [x]  Ячейки с кодом расположены в порядке выполнения\n",
    "- [x]  Выполнен шаг 1: данные подготовлены\n",
    "    - [x]  Проверена формула вычисления эффективности обогащения\n",
    "    - [x]  Проанализированы признаки, недоступные в тестовой выборке\n",
    "    - [x]  Проведена предобработка данных\n",
    "- [x]  Выполнен шаг 2: данные проанализированы\n",
    "    - [x]  Исследовано изменение концентрации элементов на каждом этапе\n",
    "    - [x]  Проанализированы распределения размеров гранул на обучающей и тестовой выборках\n",
    "    - [x]  Исследованы суммарные концентрации\n",
    "- [x]  Выполнен шаг 3: построена модель прогнозирования\n",
    "    - [x]  Написана функция для вычисления итогового *sMAPE*\n",
    "    - [x]  Обучено и проверено несколько моделей\n",
    "    - [x]  Выбрана лучшая модель, её качество проверено на тестовой выборке"
   ]
  },
  {
   "cell_type": "code",
   "execution_count": null,
   "metadata": {},
   "outputs": [],
   "source": []
  },
  {
   "cell_type": "markdown",
   "metadata": {},
   "source": [
    "Привет, меня зовут Артем Хуршудов. Сегодня я проверю твой проект.\n",
    "<br> Дальнейшее общение будет происходить на \"ты\" если это не вызывает никаких проблем.\n",
    "<br> Желательно реагировать на каждый мой комментарий ('исправил', 'не понятно как исправить ошибку', ...)\n",
    "<br> Пожалуйста, не удаляй комментарии ревьюера, так как они повышают качество повторного ревью.\n",
    "\n",
    "Комментарии будут в <font color='green'>зеленой</font>, <font color='blue'>синей</font> или <font color='red'>красной</font> рамках:\n",
    "\n",
    "<div class=\"alert alert-block alert-success\">\n",
    "<b>Успех:</b> Если все сделано отлично\n",
    "</div>\n",
    "\n",
    "<div class=\"alert alert-block alert-info\">\n",
    "<b>Совет: </b> Если можно немного улучшить\n",
    "</div>\n",
    "\n",
    "<div class=\"alert alert-block alert-danger\">\n",
    "<b>Ошибка:</b> Если требуются исправления. Работа не может быть принята с красными комментариями.\n",
    "</div>\n",
    "\n",
    "-------------------\n",
    "\n",
    "Будет очень хорошо, если ты будешь помечать свои действия следующим образом:\n",
    "<div class=\"alert alert-block alert-warning\">\n",
    "<b>Комментарий студента:</b> ...\n",
    "</div>\n",
    "\n",
    "<div class=\"alert alert-block alert-warning\">\n",
    "<b>Изменения:</b> Были внесены следующие изменения ...\n",
    "</div>\n",
    "\n",
    "### <font color='orange'>Общее впечатление</font>\n",
    "* Большое спасибо за проделанную работу. Видно, что приложено много усилий.\n",
    "* Выводы и рассуждения получились содержательными, их было интересно читать.\n",
    "* Работа в целом и каждый шаг в отдельности сделаны хорошо.\n",
    "* Над этим проектом нужно будет еще немного поработать. Однако, изменения не должны занять много времени.\n",
    "* В работе я оставил несколько советов. Буду рад, если ты учтешь их.\n",
    "* С радостью отвечу на твои вопросы, если они есть. Лучше всего их собрать в следующей ячейке. Жду новую версию проекта."
   ]
  },
  {
   "cell_type": "markdown",
   "metadata": {},
   "source": [
    "### <font color='orange'>Общее впечатление (ревью 2)</font>\n",
    "* Для удобства все новые комментарии обозначены фразой \"ревью 2\".\n",
    "* Удачи в доработке!\n",
    "\n",
    "### <font color='orange'>Общее впечатление (ревью 3)</font>\n",
    "* Новый комментарий обозначен фразой \"ревью 3\"."
   ]
  },
  {
   "cell_type": "markdown",
   "metadata": {},
   "source": [
    "### <font color='orange'>Общее впечатление (ревью 4)</font>\n",
    "* После исправлений проект улучшился и теперь он может быть зачтен.\n",
    "* Для удобства все новые комментарии обозначены фразой \"ревью 4\".\n",
    "* Удачи в дальнейшем обучении и следующих работах!"
   ]
  }
 ],
 "metadata": {
  "ExecuteTimeLog": [
   {
    "duration": 4,
    "start_time": "2022-12-08T17:40:53.946Z"
   },
   {
    "duration": 438,
    "start_time": "2022-12-08T17:41:10.428Z"
   },
   {
    "duration": 4,
    "start_time": "2022-12-08T17:41:12.698Z"
   },
   {
    "duration": 418,
    "start_time": "2022-12-08T17:59:03.908Z"
   },
   {
    "duration": 4,
    "start_time": "2022-12-08T18:02:10.940Z"
   },
   {
    "duration": 50,
    "start_time": "2022-12-08T18:02:11.292Z"
   },
   {
    "duration": 2519,
    "start_time": "2022-12-08T18:03:13.198Z"
   },
   {
    "duration": 99,
    "start_time": "2022-12-08T18:10:34.591Z"
   },
   {
    "duration": 3,
    "start_time": "2022-12-08T18:11:38.568Z"
   },
   {
    "duration": 17,
    "start_time": "2022-12-08T18:11:39.048Z"
   },
   {
    "duration": 17,
    "start_time": "2022-12-08T18:12:53.491Z"
   },
   {
    "duration": 11,
    "start_time": "2022-12-08T18:14:18.388Z"
   },
   {
    "duration": 887,
    "start_time": "2022-12-08T18:14:55.823Z"
   },
   {
    "duration": 937,
    "start_time": "2022-12-08T18:15:06.357Z"
   },
   {
    "duration": 29,
    "start_time": "2022-12-08T18:15:15.381Z"
   },
   {
    "duration": 67,
    "start_time": "2022-12-08T18:16:00.832Z"
   },
   {
    "duration": 66,
    "start_time": "2022-12-08T18:18:03.843Z"
   },
   {
    "duration": 93,
    "start_time": "2022-12-08T18:18:46.257Z"
   },
   {
    "duration": 97,
    "start_time": "2022-12-08T18:19:19.636Z"
   },
   {
    "duration": 80,
    "start_time": "2022-12-08T18:19:36.268Z"
   },
   {
    "duration": 103,
    "start_time": "2022-12-08T18:20:07.597Z"
   },
   {
    "duration": 89,
    "start_time": "2022-12-08T18:20:23.956Z"
   },
   {
    "duration": 81,
    "start_time": "2022-12-08T18:20:32.853Z"
   },
   {
    "duration": 73,
    "start_time": "2022-12-08T18:20:39.053Z"
   },
   {
    "duration": 65,
    "start_time": "2022-12-08T18:21:05.309Z"
   },
   {
    "duration": 5,
    "start_time": "2022-12-08T18:21:13.413Z"
   },
   {
    "duration": 73,
    "start_time": "2022-12-08T18:21:18.692Z"
   },
   {
    "duration": 90,
    "start_time": "2022-12-08T18:21:28.318Z"
   },
   {
    "duration": 78,
    "start_time": "2022-12-08T18:21:48.502Z"
   },
   {
    "duration": 84,
    "start_time": "2022-12-08T18:28:38.342Z"
   },
   {
    "duration": 5,
    "start_time": "2022-12-08T18:30:57.911Z"
   },
   {
    "duration": 5,
    "start_time": "2022-12-08T18:31:13.568Z"
   },
   {
    "duration": 19,
    "start_time": "2022-12-08T18:31:20.977Z"
   },
   {
    "duration": 16,
    "start_time": "2022-12-08T18:31:53.257Z"
   },
   {
    "duration": 15,
    "start_time": "2022-12-08T18:32:08.761Z"
   },
   {
    "duration": 3,
    "start_time": "2022-12-08T18:32:11.225Z"
   },
   {
    "duration": 4,
    "start_time": "2022-12-08T18:32:31.025Z"
   },
   {
    "duration": 3,
    "start_time": "2022-12-08T18:33:22.346Z"
   },
   {
    "duration": 4,
    "start_time": "2022-12-08T18:33:23.698Z"
   },
   {
    "duration": 9,
    "start_time": "2022-12-08T18:33:26.857Z"
   },
   {
    "duration": 3,
    "start_time": "2022-12-08T18:33:35.010Z"
   },
   {
    "duration": 5,
    "start_time": "2022-12-08T18:33:35.338Z"
   },
   {
    "duration": 6,
    "start_time": "2022-12-08T18:33:49.539Z"
   },
   {
    "duration": 6,
    "start_time": "2022-12-08T18:34:53.717Z"
   },
   {
    "duration": 9,
    "start_time": "2022-12-08T18:36:49.134Z"
   },
   {
    "duration": 850,
    "start_time": "2022-12-08T18:37:31.343Z"
   },
   {
    "duration": 4,
    "start_time": "2022-12-08T18:37:43.120Z"
   },
   {
    "duration": 5,
    "start_time": "2022-12-08T18:37:49.743Z"
   },
   {
    "duration": 3,
    "start_time": "2022-12-08T18:38:29.513Z"
   },
   {
    "duration": 4,
    "start_time": "2022-12-08T18:38:38.497Z"
   },
   {
    "duration": 14,
    "start_time": "2022-12-08T18:44:47.377Z"
   },
   {
    "duration": 15,
    "start_time": "2022-12-08T18:44:58.410Z"
   },
   {
    "duration": 8,
    "start_time": "2022-12-08T18:45:28.249Z"
   },
   {
    "duration": 10,
    "start_time": "2022-12-08T18:45:35.900Z"
   },
   {
    "duration": 11,
    "start_time": "2022-12-08T18:46:28.442Z"
   },
   {
    "duration": 18,
    "start_time": "2022-12-08T18:46:44.450Z"
   },
   {
    "duration": 860,
    "start_time": "2022-12-08T18:46:55.917Z"
   },
   {
    "duration": 52,
    "start_time": "2022-12-08T18:47:13.528Z"
   },
   {
    "duration": 17,
    "start_time": "2022-12-08T18:47:21.715Z"
   },
   {
    "duration": 11,
    "start_time": "2022-12-08T18:47:36.292Z"
   },
   {
    "duration": 780,
    "start_time": "2022-12-08T18:47:51.268Z"
   },
   {
    "duration": 769,
    "start_time": "2022-12-08T18:48:21.545Z"
   },
   {
    "duration": 869,
    "start_time": "2022-12-08T18:48:37.904Z"
   },
   {
    "duration": 804,
    "start_time": "2022-12-08T18:48:49.321Z"
   },
   {
    "duration": 552,
    "start_time": "2022-12-08T18:50:24.632Z"
   },
   {
    "duration": 22,
    "start_time": "2022-12-08T18:50:29.201Z"
   },
   {
    "duration": 532,
    "start_time": "2022-12-08T18:50:47.189Z"
   },
   {
    "duration": 18,
    "start_time": "2022-12-08T18:50:49.216Z"
   },
   {
    "duration": 691,
    "start_time": "2022-12-08T18:51:02.918Z"
   },
   {
    "duration": 79,
    "start_time": "2022-12-08T18:51:03.611Z"
   },
   {
    "duration": 1551,
    "start_time": "2022-12-08T18:51:10.332Z"
   },
   {
    "duration": 727,
    "start_time": "2022-12-08T18:51:11.886Z"
   },
   {
    "duration": 114,
    "start_time": "2022-12-08T18:51:12.616Z"
   },
   {
    "duration": 6,
    "start_time": "2022-12-08T18:51:12.732Z"
   },
   {
    "duration": 62,
    "start_time": "2022-12-08T18:51:12.741Z"
   },
   {
    "duration": 5,
    "start_time": "2022-12-08T18:51:12.805Z"
   },
   {
    "duration": 11,
    "start_time": "2022-12-08T18:51:12.813Z"
   },
   {
    "duration": 17,
    "start_time": "2022-12-08T18:51:12.826Z"
   },
   {
    "duration": 11,
    "start_time": "2022-12-08T18:51:12.845Z"
   },
   {
    "duration": 30,
    "start_time": "2022-12-08T18:51:12.858Z"
   },
   {
    "duration": 24,
    "start_time": "2022-12-08T18:51:12.890Z"
   },
   {
    "duration": 30,
    "start_time": "2022-12-08T18:51:12.916Z"
   },
   {
    "duration": 21,
    "start_time": "2022-12-08T18:51:12.948Z"
   },
   {
    "duration": 23,
    "start_time": "2022-12-08T18:51:12.973Z"
   },
   {
    "duration": 13,
    "start_time": "2022-12-08T18:51:12.999Z"
   },
   {
    "duration": 16,
    "start_time": "2022-12-08T18:51:13.014Z"
   },
   {
    "duration": 861,
    "start_time": "2022-12-08T18:51:13.032Z"
   },
   {
    "duration": 83,
    "start_time": "2022-12-08T18:51:13.896Z"
   },
   {
    "duration": 4,
    "start_time": "2022-12-08T18:55:49.295Z"
   },
   {
    "duration": 4,
    "start_time": "2022-12-08T18:56:52.711Z"
   },
   {
    "duration": 4,
    "start_time": "2022-12-08T18:57:27.400Z"
   },
   {
    "duration": 10,
    "start_time": "2022-12-08T18:57:50.136Z"
   },
   {
    "duration": 114,
    "start_time": "2022-12-08T19:01:04.245Z"
   },
   {
    "duration": 627,
    "start_time": "2022-12-08T19:01:33.062Z"
   },
   {
    "duration": 13,
    "start_time": "2022-12-08T19:10:15.184Z"
   },
   {
    "duration": 18,
    "start_time": "2022-12-08T19:10:29.466Z"
   },
   {
    "duration": 14,
    "start_time": "2022-12-08T19:10:39.649Z"
   },
   {
    "duration": 13,
    "start_time": "2022-12-08T19:10:44.017Z"
   },
   {
    "duration": 3,
    "start_time": "2022-12-08T19:11:40.610Z"
   },
   {
    "duration": 11,
    "start_time": "2022-12-08T19:12:04.626Z"
   },
   {
    "duration": 3,
    "start_time": "2022-12-08T19:12:24.147Z"
   },
   {
    "duration": 13,
    "start_time": "2022-12-08T19:12:35.467Z"
   },
   {
    "duration": 3,
    "start_time": "2022-12-08T19:12:50.731Z"
   },
   {
    "duration": 8,
    "start_time": "2022-12-08T19:12:57.804Z"
   },
   {
    "duration": 4,
    "start_time": "2022-12-08T19:13:11.115Z"
   },
   {
    "duration": 9,
    "start_time": "2022-12-08T19:13:16.523Z"
   },
   {
    "duration": 3,
    "start_time": "2022-12-08T19:13:26.949Z"
   },
   {
    "duration": 16,
    "start_time": "2022-12-08T19:13:32.924Z"
   },
   {
    "duration": 3,
    "start_time": "2022-12-08T19:13:45.166Z"
   },
   {
    "duration": 20,
    "start_time": "2022-12-08T19:13:50.574Z"
   },
   {
    "duration": 2,
    "start_time": "2022-12-08T19:14:08.065Z"
   },
   {
    "duration": 801,
    "start_time": "2022-12-08T19:14:12.076Z"
   },
   {
    "duration": 1816,
    "start_time": "2022-12-08T19:14:17.755Z"
   },
   {
    "duration": 683,
    "start_time": "2022-12-08T19:14:19.573Z"
   },
   {
    "duration": 73,
    "start_time": "2022-12-08T19:14:20.258Z"
   },
   {
    "duration": 5,
    "start_time": "2022-12-08T19:14:20.333Z"
   },
   {
    "duration": 45,
    "start_time": "2022-12-08T19:14:20.340Z"
   },
   {
    "duration": 4,
    "start_time": "2022-12-08T19:14:20.387Z"
   },
   {
    "duration": 10,
    "start_time": "2022-12-08T19:14:20.392Z"
   },
   {
    "duration": 8,
    "start_time": "2022-12-08T19:14:20.404Z"
   },
   {
    "duration": 9,
    "start_time": "2022-12-08T19:14:20.413Z"
   },
   {
    "duration": 7,
    "start_time": "2022-12-08T19:14:20.423Z"
   },
   {
    "duration": 6,
    "start_time": "2022-12-08T19:14:20.432Z"
   },
   {
    "duration": 6,
    "start_time": "2022-12-08T19:14:20.439Z"
   },
   {
    "duration": 5,
    "start_time": "2022-12-08T19:14:20.447Z"
   },
   {
    "duration": 3,
    "start_time": "2022-12-08T19:14:20.477Z"
   },
   {
    "duration": 6,
    "start_time": "2022-12-08T19:14:20.482Z"
   },
   {
    "duration": 4,
    "start_time": "2022-12-08T19:14:20.490Z"
   },
   {
    "duration": 7,
    "start_time": "2022-12-08T19:14:20.496Z"
   },
   {
    "duration": 9,
    "start_time": "2022-12-08T19:14:20.504Z"
   },
   {
    "duration": 11,
    "start_time": "2022-12-08T19:14:20.516Z"
   },
   {
    "duration": 3,
    "start_time": "2022-12-08T19:14:20.529Z"
   },
   {
    "duration": 14,
    "start_time": "2022-12-08T19:14:20.534Z"
   },
   {
    "duration": 7,
    "start_time": "2022-12-08T19:14:20.578Z"
   },
   {
    "duration": 11,
    "start_time": "2022-12-08T19:14:20.586Z"
   },
   {
    "duration": 10,
    "start_time": "2022-12-08T19:14:20.598Z"
   },
   {
    "duration": 11,
    "start_time": "2022-12-08T19:14:20.610Z"
   },
   {
    "duration": 849,
    "start_time": "2022-12-08T19:14:20.623Z"
   },
   {
    "duration": 244,
    "start_time": "2022-12-08T19:16:02.942Z"
   },
   {
    "duration": 239,
    "start_time": "2022-12-08T19:16:23.287Z"
   },
   {
    "duration": 117,
    "start_time": "2022-12-08T19:18:00.393Z"
   },
   {
    "duration": 27,
    "start_time": "2022-12-08T19:19:40.796Z"
   },
   {
    "duration": 1390,
    "start_time": "2022-12-08T19:19:52.849Z"
   },
   {
    "duration": 701,
    "start_time": "2022-12-08T19:19:54.241Z"
   },
   {
    "duration": 77,
    "start_time": "2022-12-08T19:19:54.944Z"
   },
   {
    "duration": 6,
    "start_time": "2022-12-08T19:19:55.024Z"
   },
   {
    "duration": 54,
    "start_time": "2022-12-08T19:19:55.031Z"
   },
   {
    "duration": 6,
    "start_time": "2022-12-08T19:19:55.088Z"
   },
   {
    "duration": 24,
    "start_time": "2022-12-08T19:19:55.096Z"
   },
   {
    "duration": 25,
    "start_time": "2022-12-08T19:19:55.123Z"
   },
   {
    "duration": 25,
    "start_time": "2022-12-08T19:19:55.150Z"
   },
   {
    "duration": 31,
    "start_time": "2022-12-08T19:19:55.179Z"
   },
   {
    "duration": 15,
    "start_time": "2022-12-08T19:19:55.211Z"
   },
   {
    "duration": 21,
    "start_time": "2022-12-08T19:19:55.229Z"
   },
   {
    "duration": 17,
    "start_time": "2022-12-08T19:19:55.252Z"
   },
   {
    "duration": 15,
    "start_time": "2022-12-08T19:19:55.272Z"
   },
   {
    "duration": 20,
    "start_time": "2022-12-08T19:19:55.289Z"
   },
   {
    "duration": 21,
    "start_time": "2022-12-08T19:19:55.312Z"
   },
   {
    "duration": 19,
    "start_time": "2022-12-08T19:19:55.335Z"
   },
   {
    "duration": 814,
    "start_time": "2022-12-08T19:19:55.356Z"
   },
   {
    "duration": 247,
    "start_time": "2022-12-08T19:19:56.177Z"
   },
   {
    "duration": 133,
    "start_time": "2022-12-08T19:19:56.426Z"
   },
   {
    "duration": 46,
    "start_time": "2022-12-08T19:29:02.592Z"
   },
   {
    "duration": 147,
    "start_time": "2022-12-08T19:30:56.891Z"
   },
   {
    "duration": 67,
    "start_time": "2022-12-08T19:31:48.914Z"
   },
   {
    "duration": 146,
    "start_time": "2022-12-08T19:31:56.668Z"
   },
   {
    "duration": 144,
    "start_time": "2022-12-08T19:32:58.949Z"
   },
   {
    "duration": 1227,
    "start_time": "2022-12-08T19:33:50.470Z"
   },
   {
    "duration": 1149,
    "start_time": "2022-12-08T19:34:15.502Z"
   },
   {
    "duration": 1353,
    "start_time": "2022-12-08T19:34:20.863Z"
   },
   {
    "duration": 1224,
    "start_time": "2022-12-08T19:34:26.934Z"
   },
   {
    "duration": 1239,
    "start_time": "2022-12-08T19:34:34.832Z"
   },
   {
    "duration": 1118,
    "start_time": "2022-12-08T19:34:58.759Z"
   },
   {
    "duration": 1136,
    "start_time": "2022-12-08T19:35:04.672Z"
   },
   {
    "duration": 1150,
    "start_time": "2022-12-08T19:35:28.320Z"
   },
   {
    "duration": 1102,
    "start_time": "2022-12-08T19:35:39.575Z"
   },
   {
    "duration": 1245,
    "start_time": "2022-12-08T19:35:43.871Z"
   },
   {
    "duration": 989,
    "start_time": "2022-12-08T19:35:50.680Z"
   },
   {
    "duration": 1369,
    "start_time": "2022-12-08T19:35:57.993Z"
   },
   {
    "duration": 1089,
    "start_time": "2022-12-08T19:36:41.369Z"
   },
   {
    "duration": 966,
    "start_time": "2022-12-08T19:36:50.088Z"
   },
   {
    "duration": 1073,
    "start_time": "2022-12-08T19:37:16.603Z"
   },
   {
    "duration": 1158,
    "start_time": "2022-12-08T19:37:55.010Z"
   },
   {
    "duration": 1074,
    "start_time": "2022-12-08T19:38:01.098Z"
   },
   {
    "duration": 1221,
    "start_time": "2022-12-08T19:38:06.651Z"
   },
   {
    "duration": 1206,
    "start_time": "2022-12-08T19:38:12.867Z"
   },
   {
    "duration": 1207,
    "start_time": "2022-12-08T19:38:24.067Z"
   },
   {
    "duration": 1218,
    "start_time": "2022-12-08T19:39:57.293Z"
   },
   {
    "duration": 1092,
    "start_time": "2022-12-08T19:40:02.261Z"
   },
   {
    "duration": 1329,
    "start_time": "2022-12-08T19:41:02.848Z"
   },
   {
    "duration": 1220,
    "start_time": "2022-12-08T19:41:16.360Z"
   },
   {
    "duration": 1272,
    "start_time": "2022-12-08T19:41:28.895Z"
   },
   {
    "duration": 1349,
    "start_time": "2022-12-08T19:44:09.955Z"
   },
   {
    "duration": 1348,
    "start_time": "2022-12-08T19:44:19.346Z"
   },
   {
    "duration": 1430,
    "start_time": "2022-12-08T19:45:42.885Z"
   },
   {
    "duration": 1197,
    "start_time": "2022-12-08T19:46:07.620Z"
   },
   {
    "duration": 1361,
    "start_time": "2022-12-08T19:46:16.429Z"
   },
   {
    "duration": 183,
    "start_time": "2022-12-08T19:47:19.687Z"
   },
   {
    "duration": 1380,
    "start_time": "2022-12-08T19:47:30.583Z"
   },
   {
    "duration": 1198,
    "start_time": "2022-12-08T19:48:31.440Z"
   },
   {
    "duration": 6,
    "start_time": "2022-12-08T19:55:12.256Z"
   },
   {
    "duration": 6,
    "start_time": "2022-12-08T19:56:42.497Z"
   },
   {
    "duration": 7,
    "start_time": "2022-12-08T19:56:46.681Z"
   },
   {
    "duration": 9,
    "start_time": "2022-12-08T19:56:54.074Z"
   },
   {
    "duration": 15,
    "start_time": "2022-12-08T19:58:47.925Z"
   },
   {
    "duration": 15,
    "start_time": "2022-12-08T19:59:46.197Z"
   },
   {
    "duration": 351,
    "start_time": "2022-12-08T20:00:13.638Z"
   },
   {
    "duration": 488,
    "start_time": "2022-12-08T20:00:28.167Z"
   },
   {
    "duration": 326,
    "start_time": "2022-12-08T20:00:59.555Z"
   },
   {
    "duration": 318,
    "start_time": "2022-12-08T20:01:27.864Z"
   },
   {
    "duration": 336,
    "start_time": "2022-12-08T20:01:36.744Z"
   },
   {
    "duration": 347,
    "start_time": "2022-12-08T20:01:45.078Z"
   },
   {
    "duration": 46,
    "start_time": "2022-12-08T20:02:10.360Z"
   },
   {
    "duration": 265,
    "start_time": "2022-12-08T20:02:24.065Z"
   },
   {
    "duration": 44,
    "start_time": "2022-12-08T20:02:28.913Z"
   },
   {
    "duration": 478,
    "start_time": "2022-12-08T20:02:48.857Z"
   },
   {
    "duration": 349,
    "start_time": "2022-12-08T20:02:59.673Z"
   },
   {
    "duration": 344,
    "start_time": "2022-12-08T20:03:31.232Z"
   },
   {
    "duration": 325,
    "start_time": "2022-12-08T20:03:37.361Z"
   },
   {
    "duration": 179,
    "start_time": "2022-12-08T20:03:42.137Z"
   },
   {
    "duration": 335,
    "start_time": "2022-12-08T20:03:46.251Z"
   },
   {
    "duration": 376,
    "start_time": "2022-12-08T20:04:23.572Z"
   },
   {
    "duration": 482,
    "start_time": "2022-12-08T20:04:28.244Z"
   },
   {
    "duration": 354,
    "start_time": "2022-12-08T20:04:33.615Z"
   },
   {
    "duration": 346,
    "start_time": "2022-12-08T20:04:43.619Z"
   },
   {
    "duration": 385,
    "start_time": "2022-12-08T20:04:54.868Z"
   },
   {
    "duration": 506,
    "start_time": "2022-12-08T20:05:08.812Z"
   },
   {
    "duration": 418,
    "start_time": "2022-12-08T20:05:20.756Z"
   },
   {
    "duration": 368,
    "start_time": "2022-12-08T20:05:25.582Z"
   },
   {
    "duration": 451,
    "start_time": "2022-12-08T20:05:30.748Z"
   },
   {
    "duration": 374,
    "start_time": "2022-12-08T20:05:34.238Z"
   },
   {
    "duration": 368,
    "start_time": "2022-12-08T20:05:41.252Z"
   },
   {
    "duration": 8,
    "start_time": "2022-12-08T20:06:39.193Z"
   },
   {
    "duration": 559,
    "start_time": "2022-12-08T20:07:32.367Z"
   },
   {
    "duration": 341,
    "start_time": "2022-12-08T20:07:43.783Z"
   },
   {
    "duration": 1007,
    "start_time": "2022-12-08T20:08:04.127Z"
   },
   {
    "duration": 961,
    "start_time": "2022-12-08T20:08:14.560Z"
   },
   {
    "duration": 720,
    "start_time": "2022-12-08T20:08:48.746Z"
   },
   {
    "duration": 824,
    "start_time": "2022-12-08T20:09:17.497Z"
   },
   {
    "duration": 6,
    "start_time": "2022-12-08T20:12:13.509Z"
   },
   {
    "duration": 9,
    "start_time": "2022-12-08T20:16:35.594Z"
   },
   {
    "duration": 61,
    "start_time": "2022-12-08T20:16:50.674Z"
   },
   {
    "duration": 5,
    "start_time": "2022-12-08T20:17:18.483Z"
   },
   {
    "duration": 11,
    "start_time": "2022-12-08T20:17:23.507Z"
   },
   {
    "duration": 52,
    "start_time": "2022-12-08T20:17:28.299Z"
   },
   {
    "duration": 45,
    "start_time": "2022-12-08T20:17:31.683Z"
   },
   {
    "duration": 44,
    "start_time": "2022-12-08T20:17:37.939Z"
   },
   {
    "duration": 5,
    "start_time": "2022-12-08T20:17:48.988Z"
   },
   {
    "duration": 5,
    "start_time": "2022-12-08T20:18:42.851Z"
   },
   {
    "duration": 56,
    "start_time": "2022-12-08T20:20:04.105Z"
   },
   {
    "duration": 11,
    "start_time": "2022-12-08T20:20:15.343Z"
   },
   {
    "duration": 64,
    "start_time": "2022-12-08T20:21:30.617Z"
   },
   {
    "duration": 66,
    "start_time": "2022-12-08T20:21:34.689Z"
   },
   {
    "duration": 4,
    "start_time": "2022-12-08T20:21:44.432Z"
   },
   {
    "duration": 6,
    "start_time": "2022-12-08T20:25:29.326Z"
   },
   {
    "duration": 7,
    "start_time": "2022-12-08T20:26:23.935Z"
   },
   {
    "duration": 7,
    "start_time": "2022-12-08T20:26:52.167Z"
   },
   {
    "duration": 818,
    "start_time": "2022-12-08T20:27:23.287Z"
   },
   {
    "duration": 550,
    "start_time": "2022-12-08T20:27:43.424Z"
   },
   {
    "duration": 834,
    "start_time": "2022-12-08T20:27:47.457Z"
   },
   {
    "duration": 520,
    "start_time": "2022-12-08T20:28:09.977Z"
   },
   {
    "duration": 510,
    "start_time": "2022-12-08T20:28:26.490Z"
   },
   {
    "duration": 541,
    "start_time": "2022-12-08T20:29:29.538Z"
   },
   {
    "duration": 484,
    "start_time": "2022-12-08T20:29:36.970Z"
   },
   {
    "duration": 497,
    "start_time": "2022-12-08T20:32:41.679Z"
   },
   {
    "duration": 510,
    "start_time": "2022-12-08T20:32:49.392Z"
   },
   {
    "duration": 561,
    "start_time": "2022-12-08T20:33:01.071Z"
   },
   {
    "duration": 35,
    "start_time": "2022-12-08T20:35:11.458Z"
   },
   {
    "duration": 410,
    "start_time": "2022-12-08T20:35:23.746Z"
   },
   {
    "duration": 424,
    "start_time": "2022-12-08T20:36:56.606Z"
   },
   {
    "duration": 8,
    "start_time": "2022-12-08T20:41:52.157Z"
   },
   {
    "duration": 6,
    "start_time": "2022-12-08T20:42:38.787Z"
   },
   {
    "duration": 7,
    "start_time": "2022-12-08T20:43:21.834Z"
   },
   {
    "duration": 28,
    "start_time": "2022-12-08T20:44:15.580Z"
   },
   {
    "duration": 432,
    "start_time": "2022-12-08T20:45:49.722Z"
   },
   {
    "duration": 389,
    "start_time": "2022-12-08T20:47:57.106Z"
   },
   {
    "duration": 394,
    "start_time": "2022-12-08T20:48:02.609Z"
   },
   {
    "duration": 3,
    "start_time": "2022-12-08T20:51:20.774Z"
   },
   {
    "duration": 3,
    "start_time": "2022-12-08T20:51:47.041Z"
   },
   {
    "duration": 4,
    "start_time": "2022-12-08T20:51:58.640Z"
   },
   {
    "duration": 4,
    "start_time": "2022-12-08T20:52:33.095Z"
   },
   {
    "duration": 10,
    "start_time": "2022-12-08T20:52:41.961Z"
   },
   {
    "duration": 10,
    "start_time": "2022-12-08T20:54:54.049Z"
   },
   {
    "duration": 4,
    "start_time": "2022-12-08T20:54:56.873Z"
   },
   {
    "duration": 10,
    "start_time": "2022-12-08T20:54:57.154Z"
   },
   {
    "duration": 11,
    "start_time": "2022-12-08T20:55:10.994Z"
   },
   {
    "duration": 4,
    "start_time": "2022-12-08T20:55:39.836Z"
   },
   {
    "duration": 9,
    "start_time": "2022-12-08T20:57:32.205Z"
   },
   {
    "duration": 10,
    "start_time": "2022-12-08T20:58:40.796Z"
   },
   {
    "duration": 13,
    "start_time": "2022-12-08T20:59:01.353Z"
   },
   {
    "duration": 1137,
    "start_time": "2022-12-08T21:00:13.345Z"
   },
   {
    "duration": 415769,
    "start_time": "2022-12-08T21:01:10.609Z"
   },
   {
    "duration": 30618,
    "start_time": "2022-12-08T21:08:53.363Z"
   },
   {
    "duration": 479,
    "start_time": "2022-12-08T21:09:36.979Z"
   },
   {
    "duration": 61,
    "start_time": "2022-12-08T21:10:21.781Z"
   },
   {
    "duration": 76,
    "start_time": "2022-12-08T21:10:55.062Z"
   },
   {
    "duration": 20,
    "start_time": "2022-12-08T21:11:01.520Z"
   },
   {
    "duration": 20,
    "start_time": "2022-12-08T21:11:32.615Z"
   },
   {
    "duration": 1404,
    "start_time": "2022-12-08T21:11:38.949Z"
   },
   {
    "duration": 712,
    "start_time": "2022-12-08T21:11:40.355Z"
   },
   {
    "duration": 73,
    "start_time": "2022-12-08T21:11:41.069Z"
   },
   {
    "duration": 6,
    "start_time": "2022-12-08T21:11:41.144Z"
   },
   {
    "duration": 48,
    "start_time": "2022-12-08T21:11:41.152Z"
   },
   {
    "duration": 4,
    "start_time": "2022-12-08T21:11:41.202Z"
   },
   {
    "duration": 7,
    "start_time": "2022-12-08T21:11:41.207Z"
   },
   {
    "duration": 9,
    "start_time": "2022-12-08T21:11:41.215Z"
   },
   {
    "duration": 6,
    "start_time": "2022-12-08T21:11:41.226Z"
   },
   {
    "duration": 5,
    "start_time": "2022-12-08T21:11:41.235Z"
   },
   {
    "duration": 13,
    "start_time": "2022-12-08T21:11:41.242Z"
   },
   {
    "duration": 29,
    "start_time": "2022-12-08T21:11:41.257Z"
   },
   {
    "duration": 10,
    "start_time": "2022-12-08T21:11:41.287Z"
   },
   {
    "duration": 6,
    "start_time": "2022-12-08T21:11:41.299Z"
   },
   {
    "duration": 10,
    "start_time": "2022-12-08T21:11:41.306Z"
   },
   {
    "duration": 19,
    "start_time": "2022-12-08T21:11:41.318Z"
   },
   {
    "duration": 39,
    "start_time": "2022-12-08T21:11:41.338Z"
   },
   {
    "duration": 731,
    "start_time": "2022-12-08T21:11:41.379Z"
   },
   {
    "duration": 234,
    "start_time": "2022-12-08T21:11:42.112Z"
   },
   {
    "duration": 1179,
    "start_time": "2022-12-08T21:11:42.348Z"
   },
   {
    "duration": 1194,
    "start_time": "2022-12-08T21:11:43.528Z"
   },
   {
    "duration": 1230,
    "start_time": "2022-12-08T21:11:44.724Z"
   },
   {
    "duration": 6,
    "start_time": "2022-12-08T21:11:45.955Z"
   },
   {
    "duration": 765,
    "start_time": "2022-12-08T21:11:45.963Z"
   },
   {
    "duration": 7,
    "start_time": "2022-12-08T21:11:46.730Z"
   },
   {
    "duration": 689,
    "start_time": "2022-12-08T21:11:46.739Z"
   },
   {
    "duration": 5,
    "start_time": "2022-12-08T21:11:47.430Z"
   },
   {
    "duration": 12,
    "start_time": "2022-12-08T21:11:47.438Z"
   },
   {
    "duration": 15,
    "start_time": "2022-12-08T21:11:47.452Z"
   },
   {
    "duration": 18,
    "start_time": "2022-12-08T21:11:47.468Z"
   },
   {
    "duration": 523,
    "start_time": "2022-12-08T21:11:47.488Z"
   },
   {
    "duration": 36,
    "start_time": "2022-12-08T21:11:48.013Z"
   },
   {
    "duration": 473,
    "start_time": "2022-12-08T21:11:48.051Z"
   },
   {
    "duration": 7,
    "start_time": "2022-12-08T21:11:48.526Z"
   },
   {
    "duration": 10,
    "start_time": "2022-12-08T21:11:48.534Z"
   },
   {
    "duration": 7,
    "start_time": "2022-12-08T21:11:48.546Z"
   },
   {
    "duration": 48,
    "start_time": "2022-12-08T21:11:48.555Z"
   },
   {
    "duration": 382,
    "start_time": "2022-12-08T21:11:48.605Z"
   },
   {
    "duration": 5,
    "start_time": "2022-12-08T21:11:48.988Z"
   },
   {
    "duration": 15,
    "start_time": "2022-12-08T21:11:48.994Z"
   },
   {
    "duration": 11,
    "start_time": "2022-12-08T21:11:49.011Z"
   },
   {
    "duration": 1055,
    "start_time": "2022-12-08T21:11:49.023Z"
   },
   {
    "duration": 12942,
    "start_time": "2022-12-08T21:11:50.083Z"
   },
   {
    "duration": 0,
    "start_time": "2022-12-08T21:12:03.027Z"
   },
   {
    "duration": 1298,
    "start_time": "2022-12-08T21:12:12.681Z"
   },
   {
    "duration": 411068,
    "start_time": "2022-12-08T21:12:38.451Z"
   },
   {
    "duration": 172,
    "start_time": "2022-12-09T07:26:46.780Z"
   },
   {
    "duration": 1895,
    "start_time": "2022-12-09T07:27:01.092Z"
   },
   {
    "duration": 2605,
    "start_time": "2022-12-09T07:27:02.989Z"
   },
   {
    "duration": 84,
    "start_time": "2022-12-09T07:27:05.596Z"
   },
   {
    "duration": 21,
    "start_time": "2022-12-09T07:27:05.682Z"
   },
   {
    "duration": 102,
    "start_time": "2022-12-09T07:27:05.704Z"
   },
   {
    "duration": 28,
    "start_time": "2022-12-09T07:27:05.808Z"
   },
   {
    "duration": 144,
    "start_time": "2022-12-09T07:27:05.838Z"
   },
   {
    "duration": 116,
    "start_time": "2022-12-09T07:27:05.984Z"
   },
   {
    "duration": 94,
    "start_time": "2022-12-09T07:27:06.102Z"
   },
   {
    "duration": 44,
    "start_time": "2022-12-09T07:27:06.199Z"
   },
   {
    "duration": 78,
    "start_time": "2022-12-09T07:27:06.245Z"
   },
   {
    "duration": 69,
    "start_time": "2022-12-09T07:27:06.325Z"
   },
   {
    "duration": 103,
    "start_time": "2022-12-09T07:27:06.395Z"
   },
   {
    "duration": 83,
    "start_time": "2022-12-09T07:27:06.500Z"
   },
   {
    "duration": 77,
    "start_time": "2022-12-09T07:27:06.585Z"
   },
   {
    "duration": 64,
    "start_time": "2022-12-09T07:27:06.665Z"
   },
   {
    "duration": 54,
    "start_time": "2022-12-09T07:27:06.731Z"
   },
   {
    "duration": 996,
    "start_time": "2022-12-09T07:27:06.786Z"
   },
   {
    "duration": 298,
    "start_time": "2022-12-09T07:27:07.784Z"
   },
   {
    "duration": 1586,
    "start_time": "2022-12-09T07:27:08.084Z"
   },
   {
    "duration": 1464,
    "start_time": "2022-12-09T07:27:09.672Z"
   },
   {
    "duration": 1417,
    "start_time": "2022-12-09T07:27:11.138Z"
   },
   {
    "duration": 7,
    "start_time": "2022-12-09T07:27:12.557Z"
   },
   {
    "duration": 888,
    "start_time": "2022-12-09T07:27:12.566Z"
   },
   {
    "duration": 10,
    "start_time": "2022-12-09T07:27:13.458Z"
   },
   {
    "duration": 830,
    "start_time": "2022-12-09T07:27:13.470Z"
   },
   {
    "duration": 5,
    "start_time": "2022-12-09T07:27:14.302Z"
   },
   {
    "duration": 24,
    "start_time": "2022-12-09T07:27:14.311Z"
   },
   {
    "duration": 17,
    "start_time": "2022-12-09T07:27:14.337Z"
   },
   {
    "duration": 29,
    "start_time": "2022-12-09T07:27:14.356Z"
   },
   {
    "duration": 540,
    "start_time": "2022-12-09T07:27:14.387Z"
   },
   {
    "duration": 55,
    "start_time": "2022-12-09T07:27:14.929Z"
   },
   {
    "duration": 457,
    "start_time": "2022-12-09T07:27:14.986Z"
   },
   {
    "duration": 10,
    "start_time": "2022-12-09T07:27:15.445Z"
   },
   {
    "duration": 31,
    "start_time": "2022-12-09T07:27:15.456Z"
   },
   {
    "duration": 7,
    "start_time": "2022-12-09T07:27:15.489Z"
   },
   {
    "duration": 27,
    "start_time": "2022-12-09T07:27:15.498Z"
   },
   {
    "duration": 473,
    "start_time": "2022-12-09T07:27:15.527Z"
   },
   {
    "duration": 5,
    "start_time": "2022-12-09T07:27:16.002Z"
   },
   {
    "duration": 56,
    "start_time": "2022-12-09T07:27:16.009Z"
   },
   {
    "duration": 52,
    "start_time": "2022-12-09T07:27:16.067Z"
   },
   {
    "duration": 15029,
    "start_time": "2022-12-09T07:27:16.122Z"
   },
   {
    "duration": 7808,
    "start_time": "2022-12-09T07:56:27.598Z"
   },
   {
    "duration": 85,
    "start_time": "2022-12-09T07:56:51.783Z"
   },
   {
    "duration": 2838,
    "start_time": "2022-12-09T07:58:03.052Z"
   },
   {
    "duration": 1597,
    "start_time": "2022-12-09T07:58:05.893Z"
   },
   {
    "duration": 191,
    "start_time": "2022-12-09T07:58:07.491Z"
   },
   {
    "duration": 7,
    "start_time": "2022-12-09T07:58:07.684Z"
   },
   {
    "duration": 27,
    "start_time": "2022-12-09T07:58:07.751Z"
   },
   {
    "duration": 4,
    "start_time": "2022-12-09T07:58:07.780Z"
   },
   {
    "duration": 70,
    "start_time": "2022-12-09T07:58:07.785Z"
   },
   {
    "duration": 20,
    "start_time": "2022-12-09T07:58:07.864Z"
   },
   {
    "duration": 9,
    "start_time": "2022-12-09T07:58:07.886Z"
   },
   {
    "duration": 57,
    "start_time": "2022-12-09T07:58:07.897Z"
   },
   {
    "duration": 27,
    "start_time": "2022-12-09T07:58:07.958Z"
   },
   {
    "duration": 66,
    "start_time": "2022-12-09T07:58:07.987Z"
   },
   {
    "duration": 14,
    "start_time": "2022-12-09T07:58:08.055Z"
   },
   {
    "duration": 15,
    "start_time": "2022-12-09T07:58:08.071Z"
   },
   {
    "duration": 75,
    "start_time": "2022-12-09T07:58:08.088Z"
   },
   {
    "duration": 20,
    "start_time": "2022-12-09T07:58:08.168Z"
   },
   {
    "duration": 77,
    "start_time": "2022-12-09T07:58:08.190Z"
   },
   {
    "duration": 1830,
    "start_time": "2022-12-09T07:58:08.268Z"
   },
   {
    "duration": 544,
    "start_time": "2022-12-09T07:58:10.153Z"
   },
   {
    "duration": 1841,
    "start_time": "2022-12-09T07:58:10.751Z"
   },
   {
    "duration": 1888,
    "start_time": "2022-12-09T07:58:12.594Z"
   },
   {
    "duration": 1984,
    "start_time": "2022-12-09T07:58:14.484Z"
   },
   {
    "duration": 7,
    "start_time": "2022-12-09T07:58:16.470Z"
   },
   {
    "duration": 1788,
    "start_time": "2022-12-09T07:58:16.478Z"
   },
   {
    "duration": 6,
    "start_time": "2022-12-09T07:58:18.268Z"
   },
   {
    "duration": 1704,
    "start_time": "2022-12-09T07:58:18.275Z"
   },
   {
    "duration": 5,
    "start_time": "2022-12-09T07:58:19.981Z"
   },
   {
    "duration": 79,
    "start_time": "2022-12-09T07:58:19.989Z"
   },
   {
    "duration": 24,
    "start_time": "2022-12-09T07:58:20.070Z"
   },
   {
    "duration": 65,
    "start_time": "2022-12-09T07:58:20.096Z"
   },
   {
    "duration": 1187,
    "start_time": "2022-12-09T07:58:20.167Z"
   },
   {
    "duration": 92,
    "start_time": "2022-12-09T07:58:21.364Z"
   },
   {
    "duration": 914,
    "start_time": "2022-12-09T07:58:21.464Z"
   },
   {
    "duration": 6,
    "start_time": "2022-12-09T07:58:22.380Z"
   },
   {
    "duration": 71,
    "start_time": "2022-12-09T07:58:22.387Z"
   },
   {
    "duration": 6,
    "start_time": "2022-12-09T07:58:22.466Z"
   },
   {
    "duration": 87,
    "start_time": "2022-12-09T07:58:22.474Z"
   },
   {
    "duration": 911,
    "start_time": "2022-12-09T07:58:22.563Z"
   },
   {
    "duration": 4,
    "start_time": "2022-12-09T07:58:23.477Z"
   },
   {
    "duration": 81,
    "start_time": "2022-12-09T07:58:23.482Z"
   },
   {
    "duration": 15,
    "start_time": "2022-12-09T07:58:23.566Z"
   },
   {
    "duration": 8,
    "start_time": "2022-12-09T07:58:23.583Z"
   },
   {
    "duration": 105,
    "start_time": "2022-12-09T07:58:23.593Z"
   },
   {
    "duration": 0,
    "start_time": "2022-12-09T07:58:23.700Z"
   },
   {
    "duration": 0,
    "start_time": "2022-12-09T07:58:23.702Z"
   },
   {
    "duration": 7525,
    "start_time": "2022-12-09T07:58:39.174Z"
   },
   {
    "duration": 220,
    "start_time": "2022-12-09T07:58:46.702Z"
   },
   {
    "duration": 103,
    "start_time": "2022-12-09T07:59:23.838Z"
   },
   {
    "duration": 1865,
    "start_time": "2022-12-09T07:59:43.735Z"
   },
   {
    "duration": 5639,
    "start_time": "2022-12-09T08:01:43.431Z"
   },
   {
    "duration": 97,
    "start_time": "2022-12-09T08:01:52.183Z"
   },
   {
    "duration": 3244,
    "start_time": "2022-12-09T08:02:20.629Z"
   },
   {
    "duration": 1710,
    "start_time": "2022-12-09T08:02:47.276Z"
   },
   {
    "duration": 1253,
    "start_time": "2022-12-09T08:03:42.327Z"
   },
   {
    "duration": 3570,
    "start_time": "2022-12-09T08:03:47.830Z"
   },
   {
    "duration": 3976,
    "start_time": "2022-12-09T08:04:18.581Z"
   },
   {
    "duration": 6317,
    "start_time": "2022-12-09T08:05:08.542Z"
   },
   {
    "duration": 84,
    "start_time": "2022-12-09T08:05:34.805Z"
   },
   {
    "duration": 6490,
    "start_time": "2022-12-09T08:05:43.576Z"
   },
   {
    "duration": 3703,
    "start_time": "2022-12-09T08:05:50.075Z"
   },
   {
    "duration": 3198,
    "start_time": "2022-12-09T08:05:53.781Z"
   },
   {
    "duration": 1803,
    "start_time": "2022-12-09T08:05:56.982Z"
   },
   {
    "duration": 274,
    "start_time": "2022-12-09T08:05:58.788Z"
   },
   {
    "duration": 11,
    "start_time": "2022-12-09T08:05:59.064Z"
   },
   {
    "duration": 88,
    "start_time": "2022-12-09T08:05:59.078Z"
   },
   {
    "duration": 4,
    "start_time": "2022-12-09T08:05:59.168Z"
   },
   {
    "duration": 26,
    "start_time": "2022-12-09T08:05:59.174Z"
   },
   {
    "duration": 79,
    "start_time": "2022-12-09T08:05:59.202Z"
   },
   {
    "duration": 15,
    "start_time": "2022-12-09T08:05:59.284Z"
   },
   {
    "duration": 27,
    "start_time": "2022-12-09T08:05:59.355Z"
   },
   {
    "duration": 17,
    "start_time": "2022-12-09T08:05:59.385Z"
   },
   {
    "duration": 36,
    "start_time": "2022-12-09T08:05:59.455Z"
   },
   {
    "duration": 58,
    "start_time": "2022-12-09T08:05:59.493Z"
   },
   {
    "duration": 8,
    "start_time": "2022-12-09T08:05:59.556Z"
   },
   {
    "duration": 95,
    "start_time": "2022-12-09T08:05:59.566Z"
   },
   {
    "duration": 38,
    "start_time": "2022-12-09T08:05:59.668Z"
   },
   {
    "duration": 66,
    "start_time": "2022-12-09T08:05:59.708Z"
   },
   {
    "duration": 2615,
    "start_time": "2022-12-09T08:05:59.776Z"
   },
   {
    "duration": 685,
    "start_time": "2022-12-09T08:06:02.393Z"
   },
   {
    "duration": 2204,
    "start_time": "2022-12-09T08:06:03.080Z"
   },
   {
    "duration": 1981,
    "start_time": "2022-12-09T08:06:05.286Z"
   },
   {
    "duration": 2308,
    "start_time": "2022-12-09T08:06:07.269Z"
   },
   {
    "duration": 8,
    "start_time": "2022-12-09T08:06:09.581Z"
   },
   {
    "duration": 2128,
    "start_time": "2022-12-09T08:06:09.651Z"
   },
   {
    "duration": 7,
    "start_time": "2022-12-09T08:06:11.781Z"
   },
   {
    "duration": 2070,
    "start_time": "2022-12-09T08:06:11.789Z"
   },
   {
    "duration": 14,
    "start_time": "2022-12-09T08:06:13.863Z"
   },
   {
    "duration": 15,
    "start_time": "2022-12-09T08:06:13.881Z"
   },
   {
    "duration": 71,
    "start_time": "2022-12-09T08:06:13.900Z"
   },
   {
    "duration": 22,
    "start_time": "2022-12-09T08:06:13.975Z"
   },
   {
    "duration": 1288,
    "start_time": "2022-12-09T08:06:14.000Z"
   },
   {
    "duration": 91,
    "start_time": "2022-12-09T08:06:15.290Z"
   },
   {
    "duration": 1091,
    "start_time": "2022-12-09T08:06:15.383Z"
   },
   {
    "duration": 8,
    "start_time": "2022-12-09T08:06:16.476Z"
   },
   {
    "duration": 89,
    "start_time": "2022-12-09T08:06:16.487Z"
   },
   {
    "duration": 12,
    "start_time": "2022-12-09T08:06:16.579Z"
   },
   {
    "duration": 80,
    "start_time": "2022-12-09T08:06:16.593Z"
   },
   {
    "duration": 1075,
    "start_time": "2022-12-09T08:06:16.676Z"
   },
   {
    "duration": 10,
    "start_time": "2022-12-09T08:06:17.756Z"
   },
   {
    "duration": 36,
    "start_time": "2022-12-09T08:06:17.768Z"
   },
   {
    "duration": 14,
    "start_time": "2022-12-09T08:06:17.860Z"
   },
   {
    "duration": 13,
    "start_time": "2022-12-09T08:06:17.876Z"
   },
   {
    "duration": 89,
    "start_time": "2022-12-09T08:06:17.891Z"
   },
   {
    "duration": 7,
    "start_time": "2022-12-09T08:28:52.151Z"
   },
   {
    "duration": 5,
    "start_time": "2022-12-09T08:29:04.470Z"
   },
   {
    "duration": 93,
    "start_time": "2022-12-09T19:19:43.547Z"
   },
   {
    "duration": 74,
    "start_time": "2022-12-09T19:19:57.912Z"
   },
   {
    "duration": 17857,
    "start_time": "2022-12-09T19:20:06.441Z"
   },
   {
    "duration": 9,
    "start_time": "2022-12-09T19:20:29.072Z"
   },
   {
    "duration": 1773,
    "start_time": "2022-12-09T19:20:50.914Z"
   },
   {
    "duration": 3066,
    "start_time": "2022-12-09T19:20:52.689Z"
   },
   {
    "duration": 76,
    "start_time": "2022-12-09T19:20:55.756Z"
   },
   {
    "duration": 5,
    "start_time": "2022-12-09T19:20:55.835Z"
   },
   {
    "duration": 29,
    "start_time": "2022-12-09T19:20:55.841Z"
   },
   {
    "duration": 4,
    "start_time": "2022-12-09T19:20:55.872Z"
   },
   {
    "duration": 12,
    "start_time": "2022-12-09T19:20:55.878Z"
   },
   {
    "duration": 8,
    "start_time": "2022-12-09T19:20:55.892Z"
   },
   {
    "duration": 16,
    "start_time": "2022-12-09T19:20:55.902Z"
   },
   {
    "duration": 17,
    "start_time": "2022-12-09T19:20:55.922Z"
   },
   {
    "duration": 17,
    "start_time": "2022-12-09T19:20:55.941Z"
   },
   {
    "duration": 15,
    "start_time": "2022-12-09T19:20:55.960Z"
   },
   {
    "duration": 10,
    "start_time": "2022-12-09T19:20:55.976Z"
   },
   {
    "duration": 5,
    "start_time": "2022-12-09T19:20:55.988Z"
   },
   {
    "duration": 24,
    "start_time": "2022-12-09T19:20:55.994Z"
   },
   {
    "duration": 12,
    "start_time": "2022-12-09T19:20:56.020Z"
   },
   {
    "duration": 34,
    "start_time": "2022-12-09T19:20:56.034Z"
   },
   {
    "duration": 1255,
    "start_time": "2022-12-09T19:20:56.071Z"
   },
   {
    "duration": 590,
    "start_time": "2022-12-09T19:20:57.328Z"
   },
   {
    "duration": 1855,
    "start_time": "2022-12-09T19:20:57.922Z"
   },
   {
    "duration": 1313,
    "start_time": "2022-12-09T19:20:59.779Z"
   },
   {
    "duration": 1509,
    "start_time": "2022-12-09T19:21:01.093Z"
   },
   {
    "duration": 12,
    "start_time": "2022-12-09T19:21:02.604Z"
   },
   {
    "duration": 768,
    "start_time": "2022-12-09T19:21:02.618Z"
   },
   {
    "duration": 5,
    "start_time": "2022-12-09T19:21:03.388Z"
   },
   {
    "duration": 705,
    "start_time": "2022-12-09T19:21:03.395Z"
   },
   {
    "duration": 5,
    "start_time": "2022-12-09T19:21:04.101Z"
   },
   {
    "duration": 7,
    "start_time": "2022-12-09T19:21:04.118Z"
   },
   {
    "duration": 29,
    "start_time": "2022-12-09T19:21:04.128Z"
   },
   {
    "duration": 21,
    "start_time": "2022-12-09T19:21:04.158Z"
   },
   {
    "duration": 504,
    "start_time": "2022-12-09T19:21:04.181Z"
   },
   {
    "duration": 49,
    "start_time": "2022-12-09T19:21:04.688Z"
   },
   {
    "duration": 408,
    "start_time": "2022-12-09T19:21:04.739Z"
   },
   {
    "duration": 6,
    "start_time": "2022-12-09T19:21:05.149Z"
   },
   {
    "duration": 7,
    "start_time": "2022-12-09T19:21:05.157Z"
   },
   {
    "duration": 6,
    "start_time": "2022-12-09T19:21:05.165Z"
   },
   {
    "duration": 44,
    "start_time": "2022-12-09T19:21:05.172Z"
   },
   {
    "duration": 383,
    "start_time": "2022-12-09T19:21:05.217Z"
   },
   {
    "duration": 3,
    "start_time": "2022-12-09T19:21:05.602Z"
   },
   {
    "duration": 45,
    "start_time": "2022-12-09T19:21:05.615Z"
   },
   {
    "duration": 47,
    "start_time": "2022-12-09T19:21:05.662Z"
   },
   {
    "duration": 1219,
    "start_time": "2022-12-09T19:21:05.711Z"
   },
   {
    "duration": 78,
    "start_time": "2022-12-09T19:21:06.941Z"
   },
   {
    "duration": 1160,
    "start_time": "2022-12-09T19:21:24.057Z"
   },
   {
    "duration": 1204,
    "start_time": "2022-12-09T19:22:12.733Z"
   },
   {
    "duration": 1152,
    "start_time": "2022-12-09T19:22:24.466Z"
   },
   {
    "duration": 9,
    "start_time": "2022-12-09T19:27:26.969Z"
   },
   {
    "duration": 1045,
    "start_time": "2022-12-09T19:28:00.697Z"
   },
   {
    "duration": 119,
    "start_time": "2022-12-09T19:28:48.778Z"
   },
   {
    "duration": 15,
    "start_time": "2022-12-09T19:28:55.010Z"
   },
   {
    "duration": 9,
    "start_time": "2022-12-09T19:29:06.780Z"
   },
   {
    "duration": 11,
    "start_time": "2022-12-09T19:29:08.987Z"
   },
   {
    "duration": 11,
    "start_time": "2022-12-09T19:29:40.132Z"
   },
   {
    "duration": 1046,
    "start_time": "2022-12-09T19:30:15.861Z"
   },
   {
    "duration": 40,
    "start_time": "2022-12-09T19:30:46.069Z"
   },
   {
    "duration": 89,
    "start_time": "2022-12-09T19:30:49.972Z"
   },
   {
    "duration": 10,
    "start_time": "2022-12-09T19:34:38.577Z"
   },
   {
    "duration": 17,
    "start_time": "2022-12-09T19:34:53.525Z"
   },
   {
    "duration": 4,
    "start_time": "2022-12-09T19:38:48.583Z"
   },
   {
    "duration": 4,
    "start_time": "2022-12-09T19:38:58.912Z"
   },
   {
    "duration": 3,
    "start_time": "2022-12-09T19:39:04.451Z"
   },
   {
    "duration": 4,
    "start_time": "2022-12-09T19:39:07.552Z"
   },
   {
    "duration": 15,
    "start_time": "2022-12-09T19:40:44.914Z"
   },
   {
    "duration": 14,
    "start_time": "2022-12-09T19:41:08.852Z"
   },
   {
    "duration": 2578,
    "start_time": "2022-12-09T19:41:21.839Z"
   },
   {
    "duration": 1637,
    "start_time": "2022-12-09T19:41:24.420Z"
   },
   {
    "duration": 182,
    "start_time": "2022-12-09T19:41:26.058Z"
   },
   {
    "duration": 10,
    "start_time": "2022-12-09T19:41:26.244Z"
   },
   {
    "duration": 88,
    "start_time": "2022-12-09T19:41:26.256Z"
   },
   {
    "duration": 14,
    "start_time": "2022-12-09T19:41:26.348Z"
   },
   {
    "duration": 51,
    "start_time": "2022-12-09T19:41:26.365Z"
   },
   {
    "duration": 8,
    "start_time": "2022-12-09T19:41:26.417Z"
   },
   {
    "duration": 41,
    "start_time": "2022-12-09T19:41:26.426Z"
   },
   {
    "duration": 7,
    "start_time": "2022-12-09T19:41:26.470Z"
   },
   {
    "duration": 42,
    "start_time": "2022-12-09T19:41:26.480Z"
   },
   {
    "duration": 33,
    "start_time": "2022-12-09T19:41:26.524Z"
   },
   {
    "duration": 11,
    "start_time": "2022-12-09T19:41:26.559Z"
   },
   {
    "duration": 6,
    "start_time": "2022-12-09T19:41:26.572Z"
   },
   {
    "duration": 9,
    "start_time": "2022-12-09T19:41:26.580Z"
   },
   {
    "duration": 26,
    "start_time": "2022-12-09T19:41:26.591Z"
   },
   {
    "duration": 15,
    "start_time": "2022-12-09T19:41:26.619Z"
   },
   {
    "duration": 772,
    "start_time": "2022-12-09T19:41:26.635Z"
   },
   {
    "duration": 257,
    "start_time": "2022-12-09T19:41:27.409Z"
   },
   {
    "duration": 1205,
    "start_time": "2022-12-09T19:41:27.667Z"
   },
   {
    "duration": 1298,
    "start_time": "2022-12-09T19:41:28.873Z"
   },
   {
    "duration": 1116,
    "start_time": "2022-12-09T19:41:30.173Z"
   },
   {
    "duration": 6,
    "start_time": "2022-12-09T19:41:31.291Z"
   },
   {
    "duration": 858,
    "start_time": "2022-12-09T19:41:31.298Z"
   },
   {
    "duration": 5,
    "start_time": "2022-12-09T19:41:32.158Z"
   },
   {
    "duration": 719,
    "start_time": "2022-12-09T19:41:32.165Z"
   },
   {
    "duration": 5,
    "start_time": "2022-12-09T19:41:32.885Z"
   },
   {
    "duration": 6,
    "start_time": "2022-12-09T19:41:32.893Z"
   },
   {
    "duration": 16,
    "start_time": "2022-12-09T19:41:32.900Z"
   },
   {
    "duration": 33,
    "start_time": "2022-12-09T19:41:32.917Z"
   },
   {
    "duration": 528,
    "start_time": "2022-12-09T19:41:32.952Z"
   },
   {
    "duration": 35,
    "start_time": "2022-12-09T19:41:33.482Z"
   },
   {
    "duration": 401,
    "start_time": "2022-12-09T19:41:33.519Z"
   },
   {
    "duration": 7,
    "start_time": "2022-12-09T19:41:33.922Z"
   },
   {
    "duration": 24,
    "start_time": "2022-12-09T19:41:33.934Z"
   },
   {
    "duration": 6,
    "start_time": "2022-12-09T19:41:33.960Z"
   },
   {
    "duration": 24,
    "start_time": "2022-12-09T19:41:33.967Z"
   },
   {
    "duration": 467,
    "start_time": "2022-12-09T19:41:33.992Z"
   },
   {
    "duration": 4,
    "start_time": "2022-12-09T19:41:34.460Z"
   },
   {
    "duration": 14,
    "start_time": "2022-12-09T19:41:34.466Z"
   },
   {
    "duration": 11,
    "start_time": "2022-12-09T19:41:34.481Z"
   },
   {
    "duration": 134,
    "start_time": "2022-12-09T19:41:34.494Z"
   },
   {
    "duration": 0,
    "start_time": "2022-12-09T19:41:34.629Z"
   },
   {
    "duration": 0,
    "start_time": "2022-12-09T19:41:34.631Z"
   },
   {
    "duration": 11,
    "start_time": "2022-12-09T19:41:48.491Z"
   },
   {
    "duration": 8026,
    "start_time": "2022-12-09T19:42:03.339Z"
   },
   {
    "duration": 44,
    "start_time": "2022-12-09T19:42:25.165Z"
   },
   {
    "duration": 40,
    "start_time": "2022-12-09T19:42:29.529Z"
   },
   {
    "duration": 2009,
    "start_time": "2022-12-09T19:42:33.092Z"
   },
   {
    "duration": 21048,
    "start_time": "2022-12-09T19:43:00.733Z"
   },
   {
    "duration": 2130,
    "start_time": "2022-12-09T19:43:31.042Z"
   },
   {
    "duration": 220,
    "start_time": "2022-12-09T19:43:35.040Z"
   },
   {
    "duration": 2130,
    "start_time": "2022-12-09T19:43:38.941Z"
   },
   {
    "duration": 12,
    "start_time": "2022-12-09T19:48:58.061Z"
   },
   {
    "duration": 2135,
    "start_time": "2022-12-09T19:48:58.892Z"
   },
   {
    "duration": 75,
    "start_time": "2022-12-09T19:50:52.487Z"
   },
   {
    "duration": 2049,
    "start_time": "2022-12-09T19:52:29.577Z"
   },
   {
    "duration": 2389,
    "start_time": "2022-12-09T19:53:08.943Z"
   },
   {
    "duration": 1603,
    "start_time": "2022-12-09T19:53:33.540Z"
   },
   {
    "duration": 57,
    "start_time": "2022-12-09T19:53:46.115Z"
   },
   {
    "duration": 76,
    "start_time": "2022-12-09T19:53:52.978Z"
   },
   {
    "duration": 43,
    "start_time": "2022-12-09T19:53:57.763Z"
   },
   {
    "duration": 1139,
    "start_time": "2022-12-09T19:54:12.491Z"
   },
   {
    "duration": 3,
    "start_time": "2022-12-09T19:58:52.769Z"
   },
   {
    "duration": 1218,
    "start_time": "2022-12-09T19:59:03.533Z"
   },
   {
    "duration": 1314,
    "start_time": "2022-12-09T19:59:12.529Z"
   },
   {
    "duration": 1204,
    "start_time": "2022-12-09T19:59:59.252Z"
   },
   {
    "duration": 1206,
    "start_time": "2022-12-09T20:00:24.844Z"
   },
   {
    "duration": 25,
    "start_time": "2022-12-09T20:00:39.339Z"
   },
   {
    "duration": 4,
    "start_time": "2022-12-09T20:00:46.077Z"
   },
   {
    "duration": 205,
    "start_time": "2022-12-09T20:00:49.500Z"
   },
   {
    "duration": 1006,
    "start_time": "2022-12-09T20:00:56.454Z"
   },
   {
    "duration": 2005,
    "start_time": "2022-12-09T20:01:03.587Z"
   },
   {
    "duration": 1104,
    "start_time": "2022-12-09T20:01:19.909Z"
   },
   {
    "duration": 851,
    "start_time": "2022-12-09T20:02:40.670Z"
   },
   {
    "duration": 1366,
    "start_time": "2022-12-09T20:03:04.072Z"
   },
   {
    "duration": 2076,
    "start_time": "2022-12-09T20:03:51.140Z"
   },
   {
    "duration": 1225,
    "start_time": "2022-12-09T20:04:00.520Z"
   },
   {
    "duration": 11583,
    "start_time": "2022-12-09T20:04:43.733Z"
   },
   {
    "duration": 20,
    "start_time": "2022-12-09T20:06:28.411Z"
   },
   {
    "duration": 11,
    "start_time": "2022-12-09T20:06:36.763Z"
   },
   {
    "duration": 69,
    "start_time": "2022-12-09T20:06:45.803Z"
   },
   {
    "duration": 23,
    "start_time": "2022-12-09T20:06:58.580Z"
   },
   {
    "duration": 49,
    "start_time": "2022-12-09T20:07:39.732Z"
   },
   {
    "duration": 11501,
    "start_time": "2022-12-09T20:07:43.516Z"
   },
   {
    "duration": 14103,
    "start_time": "2022-12-09T20:07:59.341Z"
   },
   {
    "duration": 12749,
    "start_time": "2022-12-09T20:08:15.085Z"
   },
   {
    "duration": 0,
    "start_time": "2022-12-09T20:09:40.432Z"
   },
   {
    "duration": 69,
    "start_time": "2022-12-09T20:09:46.383Z"
   },
   {
    "duration": 11,
    "start_time": "2022-12-09T20:09:51.991Z"
   },
   {
    "duration": 9093,
    "start_time": "2022-12-09T20:10:02.559Z"
   },
   {
    "duration": 4,
    "start_time": "2022-12-09T20:10:26.688Z"
   },
   {
    "duration": 4,
    "start_time": "2022-12-09T20:12:18.410Z"
   },
   {
    "duration": 1317,
    "start_time": "2022-12-09T20:12:42.136Z"
   },
   {
    "duration": 32750,
    "start_time": "2022-12-09T20:13:26.836Z"
   },
   {
    "duration": 302159,
    "start_time": "2022-12-09T20:14:00.573Z"
   },
   {
    "duration": 401604,
    "start_time": "2022-12-09T20:23:42.752Z"
   },
   {
    "duration": 11074,
    "start_time": "2022-12-09T20:31:10.339Z"
   },
   {
    "duration": 238393,
    "start_time": "2022-12-09T20:31:24.164Z"
   },
   {
    "duration": 11144,
    "start_time": "2022-12-09T20:36:33.850Z"
   },
   {
    "duration": 33119,
    "start_time": "2022-12-09T20:37:01.315Z"
   },
   {
    "duration": 47727,
    "start_time": "2022-12-09T20:37:41.251Z"
   },
   {
    "duration": 7275,
    "start_time": "2022-12-09T20:39:06.332Z"
   },
   {
    "duration": 245684,
    "start_time": "2022-12-09T20:39:23.198Z"
   },
   {
    "duration": 33,
    "start_time": "2022-12-09T20:44:13.029Z"
   },
   {
    "duration": 3,
    "start_time": "2022-12-09T20:48:25.993Z"
   },
   {
    "duration": 41,
    "start_time": "2022-12-09T20:48:27.504Z"
   },
   {
    "duration": 18,
    "start_time": "2022-12-09T21:21:36.547Z"
   },
   {
    "duration": 5,
    "start_time": "2022-12-09T21:21:44.300Z"
   },
   {
    "duration": 10,
    "start_time": "2022-12-09T21:21:51.651Z"
   },
   {
    "duration": 53,
    "start_time": "2022-12-09T21:22:55.573Z"
   },
   {
    "duration": 19,
    "start_time": "2022-12-09T21:23:00.597Z"
   },
   {
    "duration": 11,
    "start_time": "2022-12-09T21:23:15.829Z"
   },
   {
    "duration": 76,
    "start_time": "2022-12-09T21:23:53.983Z"
   },
   {
    "duration": 7,
    "start_time": "2022-12-09T21:24:36.543Z"
   },
   {
    "duration": 7,
    "start_time": "2022-12-09T21:24:46.231Z"
   },
   {
    "duration": 261,
    "start_time": "2022-12-09T21:25:18.007Z"
   },
   {
    "duration": 205,
    "start_time": "2022-12-09T21:25:34.872Z"
   },
   {
    "duration": 208,
    "start_time": "2022-12-09T21:25:57.168Z"
   },
   {
    "duration": 259,
    "start_time": "2022-12-09T21:26:16.498Z"
   },
   {
    "duration": 255,
    "start_time": "2022-12-09T21:26:26.025Z"
   },
   {
    "duration": 2,
    "start_time": "2022-12-09T21:31:57.736Z"
   },
   {
    "duration": 9,
    "start_time": "2022-12-09T21:32:13.048Z"
   },
   {
    "duration": 1107,
    "start_time": "2022-12-09T21:33:47.514Z"
   },
   {
    "duration": 3,
    "start_time": "2022-12-09T21:33:56.348Z"
   },
   {
    "duration": 31,
    "start_time": "2022-12-09T21:34:01.244Z"
   },
   {
    "duration": 9,
    "start_time": "2022-12-09T21:34:34.916Z"
   },
   {
    "duration": 10,
    "start_time": "2022-12-09T21:34:56.547Z"
   },
   {
    "duration": 8,
    "start_time": "2022-12-09T21:35:11.476Z"
   },
   {
    "duration": 9,
    "start_time": "2022-12-09T21:35:56.205Z"
   },
   {
    "duration": 9,
    "start_time": "2022-12-09T21:36:30.126Z"
   },
   {
    "duration": 1116,
    "start_time": "2022-12-09T21:36:35.300Z"
   },
   {
    "duration": 3,
    "start_time": "2022-12-09T21:36:38.392Z"
   },
   {
    "duration": 34,
    "start_time": "2022-12-09T21:36:39.213Z"
   },
   {
    "duration": 17,
    "start_time": "2022-12-09T21:36:41.061Z"
   },
   {
    "duration": 13,
    "start_time": "2022-12-09T21:36:41.438Z"
   },
   {
    "duration": 314,
    "start_time": "2022-12-09T21:36:44.757Z"
   },
   {
    "duration": 3,
    "start_time": "2022-12-09T21:36:47.565Z"
   },
   {
    "duration": 8,
    "start_time": "2022-12-09T21:36:48.989Z"
   },
   {
    "duration": 1095,
    "start_time": "2022-12-09T21:37:09.526Z"
   },
   {
    "duration": 31,
    "start_time": "2022-12-09T21:37:18.807Z"
   },
   {
    "duration": 16,
    "start_time": "2022-12-09T21:37:20.106Z"
   },
   {
    "duration": 5,
    "start_time": "2022-12-09T21:37:21.031Z"
   },
   {
    "duration": 16,
    "start_time": "2022-12-09T21:37:27.607Z"
   },
   {
    "duration": 1284,
    "start_time": "2022-12-09T21:38:26.155Z"
   },
   {
    "duration": 689,
    "start_time": "2022-12-09T21:38:27.441Z"
   },
   {
    "duration": 59,
    "start_time": "2022-12-09T21:38:28.132Z"
   },
   {
    "duration": 4,
    "start_time": "2022-12-09T21:38:28.193Z"
   },
   {
    "duration": 19,
    "start_time": "2022-12-09T21:38:28.216Z"
   },
   {
    "duration": 3,
    "start_time": "2022-12-09T21:38:28.237Z"
   },
   {
    "duration": 7,
    "start_time": "2022-12-09T21:38:28.242Z"
   },
   {
    "duration": 7,
    "start_time": "2022-12-09T21:38:28.251Z"
   },
   {
    "duration": 7,
    "start_time": "2022-12-09T21:38:28.260Z"
   },
   {
    "duration": 6,
    "start_time": "2022-12-09T21:38:28.271Z"
   },
   {
    "duration": 39,
    "start_time": "2022-12-09T21:38:28.278Z"
   },
   {
    "duration": 12,
    "start_time": "2022-12-09T21:38:28.319Z"
   },
   {
    "duration": 8,
    "start_time": "2022-12-09T21:38:28.333Z"
   },
   {
    "duration": 5,
    "start_time": "2022-12-09T21:38:28.342Z"
   },
   {
    "duration": 7,
    "start_time": "2022-12-09T21:38:28.348Z"
   },
   {
    "duration": 11,
    "start_time": "2022-12-09T21:38:28.356Z"
   },
   {
    "duration": 9,
    "start_time": "2022-12-09T21:38:28.368Z"
   },
   {
    "duration": 703,
    "start_time": "2022-12-09T21:38:28.378Z"
   },
   {
    "duration": 218,
    "start_time": "2022-12-09T21:38:29.082Z"
   },
   {
    "duration": 1145,
    "start_time": "2022-12-09T21:38:29.301Z"
   },
   {
    "duration": 1304,
    "start_time": "2022-12-09T21:38:30.448Z"
   },
   {
    "duration": 1199,
    "start_time": "2022-12-09T21:38:31.754Z"
   },
   {
    "duration": 5,
    "start_time": "2022-12-09T21:38:32.955Z"
   },
   {
    "duration": 704,
    "start_time": "2022-12-09T21:38:32.962Z"
   },
   {
    "duration": 5,
    "start_time": "2022-12-09T21:38:33.668Z"
   },
   {
    "duration": 621,
    "start_time": "2022-12-09T21:38:33.675Z"
   },
   {
    "duration": 5,
    "start_time": "2022-12-09T21:38:34.297Z"
   },
   {
    "duration": 5,
    "start_time": "2022-12-09T21:38:34.315Z"
   },
   {
    "duration": 6,
    "start_time": "2022-12-09T21:38:34.321Z"
   },
   {
    "duration": 5,
    "start_time": "2022-12-09T21:38:34.328Z"
   },
   {
    "duration": 446,
    "start_time": "2022-12-09T21:38:34.335Z"
   },
   {
    "duration": 41,
    "start_time": "2022-12-09T21:38:34.782Z"
   },
   {
    "duration": 353,
    "start_time": "2022-12-09T21:38:34.825Z"
   },
   {
    "duration": 13,
    "start_time": "2022-12-09T21:38:35.179Z"
   },
   {
    "duration": 11,
    "start_time": "2022-12-09T21:38:35.194Z"
   },
   {
    "duration": 11,
    "start_time": "2022-12-09T21:38:35.206Z"
   },
   {
    "duration": 24,
    "start_time": "2022-12-09T21:38:35.219Z"
   },
   {
    "duration": 364,
    "start_time": "2022-12-09T21:38:35.245Z"
   },
   {
    "duration": 6,
    "start_time": "2022-12-09T21:38:35.610Z"
   },
   {
    "duration": 23,
    "start_time": "2022-12-09T21:38:35.617Z"
   },
   {
    "duration": 13,
    "start_time": "2022-12-09T21:38:35.641Z"
   },
   {
    "duration": 1261,
    "start_time": "2022-12-09T21:38:35.656Z"
   },
   {
    "duration": 101,
    "start_time": "2022-12-09T21:38:36.919Z"
   },
   {
    "duration": 0,
    "start_time": "2022-12-09T21:38:37.022Z"
   },
   {
    "duration": 0,
    "start_time": "2022-12-09T21:38:37.023Z"
   },
   {
    "duration": 0,
    "start_time": "2022-12-09T21:38:37.024Z"
   },
   {
    "duration": 0,
    "start_time": "2022-12-09T21:38:37.024Z"
   },
   {
    "duration": 219757,
    "start_time": "2022-12-09T21:39:05.553Z"
   },
   {
    "duration": 35,
    "start_time": "2022-12-09T21:42:45.317Z"
   },
   {
    "duration": 20,
    "start_time": "2022-12-09T21:42:45.354Z"
   },
   {
    "duration": 5,
    "start_time": "2022-12-09T21:42:45.376Z"
   },
   {
    "duration": 236,
    "start_time": "2022-12-09T21:42:45.383Z"
   },
   {
    "duration": 114,
    "start_time": "2022-12-09T21:44:20.863Z"
   },
   {
    "duration": 10,
    "start_time": "2022-12-09T21:47:29.940Z"
   },
   {
    "duration": 10,
    "start_time": "2022-12-09T21:47:36.588Z"
   },
   {
    "duration": 2,
    "start_time": "2022-12-09T21:47:40.860Z"
   },
   {
    "duration": 11,
    "start_time": "2022-12-09T21:47:41.347Z"
   },
   {
    "duration": 9,
    "start_time": "2022-12-09T21:48:12.302Z"
   },
   {
    "duration": 10,
    "start_time": "2022-12-09T21:48:18.344Z"
   },
   {
    "duration": 12,
    "start_time": "2022-12-09T21:48:49.022Z"
   },
   {
    "duration": 11,
    "start_time": "2022-12-09T21:48:59.173Z"
   },
   {
    "duration": 17,
    "start_time": "2022-12-09T21:53:30.324Z"
   },
   {
    "duration": 16,
    "start_time": "2022-12-09T21:53:39.477Z"
   },
   {
    "duration": 340,
    "start_time": "2022-12-09T21:54:28.350Z"
   },
   {
    "duration": 315,
    "start_time": "2022-12-09T21:54:41.878Z"
   },
   {
    "duration": 317,
    "start_time": "2022-12-09T21:54:54.800Z"
   },
   {
    "duration": 467,
    "start_time": "2022-12-09T21:55:26.038Z"
   },
   {
    "duration": 303,
    "start_time": "2022-12-09T21:56:02.801Z"
   },
   {
    "duration": 308,
    "start_time": "2022-12-09T21:56:29.344Z"
   },
   {
    "duration": 119,
    "start_time": "2022-12-09T21:57:10.168Z"
   },
   {
    "duration": 113,
    "start_time": "2022-12-09T21:57:40.121Z"
   },
   {
    "duration": 114,
    "start_time": "2022-12-09T21:57:46.398Z"
   },
   {
    "duration": 112,
    "start_time": "2022-12-09T21:57:50.417Z"
   },
   {
    "duration": 110,
    "start_time": "2022-12-09T21:58:09.562Z"
   },
   {
    "duration": 203,
    "start_time": "2022-12-09T21:58:13.465Z"
   },
   {
    "duration": 122,
    "start_time": "2022-12-09T21:58:59.859Z"
   },
   {
    "duration": 137,
    "start_time": "2022-12-09T21:59:18.867Z"
   },
   {
    "duration": 111,
    "start_time": "2022-12-09T21:59:25.316Z"
   },
   {
    "duration": 112,
    "start_time": "2022-12-09T21:59:39.828Z"
   },
   {
    "duration": 119,
    "start_time": "2022-12-09T21:59:50.164Z"
   },
   {
    "duration": 123,
    "start_time": "2022-12-09T21:59:53.828Z"
   },
   {
    "duration": 114,
    "start_time": "2022-12-09T22:00:01.947Z"
   },
   {
    "duration": 148,
    "start_time": "2022-12-09T22:00:45.981Z"
   },
   {
    "duration": 129,
    "start_time": "2022-12-09T22:01:10.438Z"
   },
   {
    "duration": 128,
    "start_time": "2022-12-09T22:01:23.438Z"
   },
   {
    "duration": 131,
    "start_time": "2022-12-09T22:01:39.993Z"
   },
   {
    "duration": 422,
    "start_time": "2022-12-09T22:01:49.943Z"
   },
   {
    "duration": 187,
    "start_time": "2022-12-09T22:01:55.119Z"
   },
   {
    "duration": 130,
    "start_time": "2022-12-09T22:02:00.656Z"
   },
   {
    "duration": 130,
    "start_time": "2022-12-09T22:02:05.631Z"
   },
   {
    "duration": 99,
    "start_time": "2022-12-09T22:02:09.942Z"
   },
   {
    "duration": 109,
    "start_time": "2022-12-09T22:02:48.493Z"
   },
   {
    "duration": 162,
    "start_time": "2022-12-09T22:02:55.448Z"
   },
   {
    "duration": 131,
    "start_time": "2022-12-09T22:13:12.637Z"
   },
   {
    "duration": 693,
    "start_time": "2022-12-09T22:13:57.898Z"
   },
   {
    "duration": 261,
    "start_time": "2022-12-09T22:14:06.161Z"
   },
   {
    "duration": 208,
    "start_time": "2022-12-09T22:14:18.831Z"
   },
   {
    "duration": 210,
    "start_time": "2022-12-09T22:14:23.958Z"
   },
   {
    "duration": 194,
    "start_time": "2022-12-09T22:14:28.126Z"
   },
   {
    "duration": 214,
    "start_time": "2022-12-09T22:14:31.510Z"
   },
   {
    "duration": 3,
    "start_time": "2022-12-09T22:16:03.073Z"
   },
   {
    "duration": 711,
    "start_time": "2022-12-09T22:16:04.201Z"
   },
   {
    "duration": 53,
    "start_time": "2022-12-09T22:16:05.505Z"
   },
   {
    "duration": 5,
    "start_time": "2022-12-09T22:16:07.809Z"
   },
   {
    "duration": 13,
    "start_time": "2022-12-09T22:16:08.266Z"
   },
   {
    "duration": 4,
    "start_time": "2022-12-09T22:16:08.657Z"
   },
   {
    "duration": 5,
    "start_time": "2022-12-09T22:16:14.023Z"
   },
   {
    "duration": 5,
    "start_time": "2022-12-09T22:16:14.344Z"
   },
   {
    "duration": 5,
    "start_time": "2022-12-09T22:16:14.696Z"
   },
   {
    "duration": 5,
    "start_time": "2022-12-09T22:16:15.280Z"
   },
   {
    "duration": 8,
    "start_time": "2022-12-09T22:16:16.504Z"
   },
   {
    "duration": 10,
    "start_time": "2022-12-09T22:16:17.073Z"
   },
   {
    "duration": 9,
    "start_time": "2022-12-09T22:16:17.103Z"
   },
   {
    "duration": 6,
    "start_time": "2022-12-09T22:16:17.151Z"
   },
   {
    "duration": 7,
    "start_time": "2022-12-09T22:16:17.191Z"
   },
   {
    "duration": 9,
    "start_time": "2022-12-09T22:16:17.223Z"
   },
   {
    "duration": 11,
    "start_time": "2022-12-09T22:16:17.251Z"
   },
   {
    "duration": 665,
    "start_time": "2022-12-09T22:16:17.289Z"
   },
   {
    "duration": 236,
    "start_time": "2022-12-09T22:16:17.956Z"
   },
   {
    "duration": 1159,
    "start_time": "2022-12-09T22:16:18.193Z"
   },
   {
    "duration": 1292,
    "start_time": "2022-12-09T22:16:19.354Z"
   },
   {
    "duration": 1103,
    "start_time": "2022-12-09T22:16:20.647Z"
   },
   {
    "duration": 5,
    "start_time": "2022-12-09T22:16:21.752Z"
   },
   {
    "duration": 753,
    "start_time": "2022-12-09T22:16:21.758Z"
   },
   {
    "duration": 6,
    "start_time": "2022-12-09T22:16:22.513Z"
   },
   {
    "duration": 589,
    "start_time": "2022-12-09T22:16:22.521Z"
   },
   {
    "duration": 5,
    "start_time": "2022-12-09T22:16:23.112Z"
   },
   {
    "duration": 12,
    "start_time": "2022-12-09T22:16:23.118Z"
   },
   {
    "duration": 6,
    "start_time": "2022-12-09T22:16:23.132Z"
   },
   {
    "duration": 6,
    "start_time": "2022-12-09T22:16:23.140Z"
   },
   {
    "duration": 447,
    "start_time": "2022-12-09T22:16:23.147Z"
   },
   {
    "duration": 29,
    "start_time": "2022-12-09T22:16:23.596Z"
   },
   {
    "duration": 343,
    "start_time": "2022-12-09T22:16:23.627Z"
   },
   {
    "duration": 6,
    "start_time": "2022-12-09T22:16:23.971Z"
   },
   {
    "duration": 18,
    "start_time": "2022-12-09T22:16:23.979Z"
   },
   {
    "duration": 8,
    "start_time": "2022-12-09T22:16:23.998Z"
   },
   {
    "duration": 26,
    "start_time": "2022-12-09T22:16:24.007Z"
   },
   {
    "duration": 354,
    "start_time": "2022-12-09T22:16:24.034Z"
   },
   {
    "duration": 4,
    "start_time": "2022-12-09T22:16:24.389Z"
   },
   {
    "duration": 11,
    "start_time": "2022-12-09T22:16:24.394Z"
   },
   {
    "duration": 7,
    "start_time": "2022-12-09T22:16:24.415Z"
   },
   {
    "duration": 1094,
    "start_time": "2022-12-09T22:16:24.423Z"
   },
   {
    "duration": 2509,
    "start_time": "2022-12-11T10:52:16.643Z"
   },
   {
    "duration": 744,
    "start_time": "2022-12-11T10:52:19.154Z"
   },
   {
    "duration": 86,
    "start_time": "2022-12-11T10:52:19.899Z"
   },
   {
    "duration": 6,
    "start_time": "2022-12-11T10:52:19.987Z"
   },
   {
    "duration": 43,
    "start_time": "2022-12-11T10:52:19.996Z"
   },
   {
    "duration": 28,
    "start_time": "2022-12-11T10:52:20.041Z"
   },
   {
    "duration": 9,
    "start_time": "2022-12-11T10:52:20.071Z"
   },
   {
    "duration": 16,
    "start_time": "2022-12-11T10:52:20.081Z"
   },
   {
    "duration": 22,
    "start_time": "2022-12-11T10:52:20.099Z"
   },
   {
    "duration": 65,
    "start_time": "2022-12-11T10:52:20.123Z"
   },
   {
    "duration": 26,
    "start_time": "2022-12-11T10:52:20.191Z"
   },
   {
    "duration": 29,
    "start_time": "2022-12-11T10:52:20.220Z"
   },
   {
    "duration": 51,
    "start_time": "2022-12-11T10:52:20.251Z"
   },
   {
    "duration": 13,
    "start_time": "2022-12-11T10:52:20.307Z"
   },
   {
    "duration": 29,
    "start_time": "2022-12-11T10:52:20.322Z"
   },
   {
    "duration": 32,
    "start_time": "2022-12-11T10:52:20.353Z"
   },
   {
    "duration": 30,
    "start_time": "2022-12-11T10:52:20.387Z"
   },
   {
    "duration": 867,
    "start_time": "2022-12-11T10:52:20.420Z"
   },
   {
    "duration": 261,
    "start_time": "2022-12-11T10:52:21.289Z"
   },
   {
    "duration": 1360,
    "start_time": "2022-12-11T10:52:21.551Z"
   },
   {
    "duration": 1200,
    "start_time": "2022-12-11T10:52:22.913Z"
   },
   {
    "duration": 1117,
    "start_time": "2022-12-11T10:52:24.115Z"
   },
   {
    "duration": 7,
    "start_time": "2022-12-11T10:52:25.234Z"
   },
   {
    "duration": 788,
    "start_time": "2022-12-11T10:52:25.243Z"
   },
   {
    "duration": 6,
    "start_time": "2022-12-11T10:52:26.033Z"
   },
   {
    "duration": 694,
    "start_time": "2022-12-11T10:52:26.040Z"
   },
   {
    "duration": 5,
    "start_time": "2022-12-11T10:52:26.735Z"
   },
   {
    "duration": 36,
    "start_time": "2022-12-11T10:52:26.742Z"
   },
   {
    "duration": 7,
    "start_time": "2022-12-11T10:52:26.780Z"
   },
   {
    "duration": 8,
    "start_time": "2022-12-11T10:52:26.789Z"
   },
   {
    "duration": 496,
    "start_time": "2022-12-11T10:52:26.798Z"
   },
   {
    "duration": 37,
    "start_time": "2022-12-11T10:52:27.296Z"
   },
   {
    "duration": 425,
    "start_time": "2022-12-11T10:52:27.335Z"
   },
   {
    "duration": 8,
    "start_time": "2022-12-11T10:52:27.762Z"
   },
   {
    "duration": 9,
    "start_time": "2022-12-11T10:52:27.772Z"
   },
   {
    "duration": 8,
    "start_time": "2022-12-11T10:52:27.784Z"
   },
   {
    "duration": 31,
    "start_time": "2022-12-11T10:52:27.795Z"
   },
   {
    "duration": 430,
    "start_time": "2022-12-11T10:52:27.828Z"
   },
   {
    "duration": 7,
    "start_time": "2022-12-11T10:52:28.260Z"
   },
   {
    "duration": 20,
    "start_time": "2022-12-11T10:52:28.273Z"
   },
   {
    "duration": 10,
    "start_time": "2022-12-11T10:52:28.297Z"
   },
   {
    "duration": 2164,
    "start_time": "2022-12-11T10:52:28.309Z"
   },
   {
    "duration": 246347,
    "start_time": "2022-12-11T10:52:30.484Z"
   },
   {
    "duration": 45,
    "start_time": "2022-12-11T10:56:36.832Z"
   },
   {
    "duration": 20,
    "start_time": "2022-12-11T10:56:36.879Z"
   },
   {
    "duration": 5,
    "start_time": "2022-12-11T10:56:36.901Z"
   },
   {
    "duration": 257,
    "start_time": "2022-12-11T10:56:36.908Z"
   },
   {
    "duration": 3,
    "start_time": "2022-12-11T10:56:37.169Z"
   },
   {
    "duration": 158,
    "start_time": "2022-12-11T10:56:37.173Z"
   },
   {
    "duration": 48,
    "start_time": "2022-12-11T18:08:11.487Z"
   },
   {
    "duration": 1710,
    "start_time": "2022-12-11T18:09:27.022Z"
   },
   {
    "duration": 2118,
    "start_time": "2022-12-11T18:09:28.734Z"
   },
   {
    "duration": 63,
    "start_time": "2022-12-11T18:09:30.854Z"
   },
   {
    "duration": 5,
    "start_time": "2022-12-11T18:09:30.919Z"
   },
   {
    "duration": 36,
    "start_time": "2022-12-11T18:09:30.925Z"
   },
   {
    "duration": 3,
    "start_time": "2022-12-11T18:09:30.962Z"
   },
   {
    "duration": 12,
    "start_time": "2022-12-11T18:09:30.967Z"
   },
   {
    "duration": 15,
    "start_time": "2022-12-11T18:09:30.981Z"
   },
   {
    "duration": 12,
    "start_time": "2022-12-11T18:09:30.998Z"
   },
   {
    "duration": 8,
    "start_time": "2022-12-11T18:09:31.013Z"
   },
   {
    "duration": 15,
    "start_time": "2022-12-11T18:09:31.023Z"
   },
   {
    "duration": 17,
    "start_time": "2022-12-11T18:09:31.040Z"
   },
   {
    "duration": 25,
    "start_time": "2022-12-11T18:09:31.058Z"
   },
   {
    "duration": 7,
    "start_time": "2022-12-11T18:09:31.085Z"
   },
   {
    "duration": 7,
    "start_time": "2022-12-11T18:09:31.094Z"
   },
   {
    "duration": 20,
    "start_time": "2022-12-11T18:09:31.103Z"
   },
   {
    "duration": 19,
    "start_time": "2022-12-11T18:09:31.125Z"
   },
   {
    "duration": 754,
    "start_time": "2022-12-11T18:09:31.146Z"
   },
   {
    "duration": 241,
    "start_time": "2022-12-11T18:09:31.902Z"
   },
   {
    "duration": 1145,
    "start_time": "2022-12-11T18:09:32.145Z"
   },
   {
    "duration": 1294,
    "start_time": "2022-12-11T18:09:33.292Z"
   },
   {
    "duration": 1207,
    "start_time": "2022-12-11T18:09:34.587Z"
   },
   {
    "duration": 6,
    "start_time": "2022-12-11T18:09:35.795Z"
   },
   {
    "duration": 739,
    "start_time": "2022-12-11T18:09:35.803Z"
   },
   {
    "duration": 6,
    "start_time": "2022-12-11T18:09:36.543Z"
   },
   {
    "duration": 680,
    "start_time": "2022-12-11T18:09:36.551Z"
   },
   {
    "duration": 5,
    "start_time": "2022-12-11T18:09:37.237Z"
   },
   {
    "duration": 6,
    "start_time": "2022-12-11T18:09:37.245Z"
   },
   {
    "duration": 7,
    "start_time": "2022-12-11T18:09:37.252Z"
   },
   {
    "duration": 7,
    "start_time": "2022-12-11T18:09:37.261Z"
   },
   {
    "duration": 522,
    "start_time": "2022-12-11T18:09:37.269Z"
   },
   {
    "duration": 45,
    "start_time": "2022-12-11T18:09:37.792Z"
   },
   {
    "duration": 422,
    "start_time": "2022-12-11T18:09:37.839Z"
   },
   {
    "duration": 7,
    "start_time": "2022-12-11T18:09:38.263Z"
   },
   {
    "duration": 8,
    "start_time": "2022-12-11T18:09:38.272Z"
   },
   {
    "duration": 14,
    "start_time": "2022-12-11T18:09:38.282Z"
   },
   {
    "duration": 45,
    "start_time": "2022-12-11T18:09:38.298Z"
   },
   {
    "duration": 400,
    "start_time": "2022-12-11T18:09:38.345Z"
   },
   {
    "duration": 4,
    "start_time": "2022-12-11T18:09:38.746Z"
   },
   {
    "duration": 12,
    "start_time": "2022-12-11T18:09:38.752Z"
   },
   {
    "duration": 9,
    "start_time": "2022-12-11T18:09:38.766Z"
   },
   {
    "duration": 1264,
    "start_time": "2022-12-11T18:09:38.777Z"
   },
   {
    "duration": 241610,
    "start_time": "2022-12-11T18:09:40.044Z"
   },
   {
    "duration": 37,
    "start_time": "2022-12-11T18:13:41.656Z"
   },
   {
    "duration": 22,
    "start_time": "2022-12-11T18:13:41.695Z"
   },
   {
    "duration": 22,
    "start_time": "2022-12-11T18:13:41.718Z"
   },
   {
    "duration": 259,
    "start_time": "2022-12-11T18:13:41.742Z"
   },
   {
    "duration": 3,
    "start_time": "2022-12-11T18:13:42.003Z"
   },
   {
    "duration": 167,
    "start_time": "2022-12-11T18:13:42.008Z"
   },
   {
    "duration": 756,
    "start_time": "2022-12-11T18:13:42.178Z"
   },
   {
    "duration": 1228,
    "start_time": "2022-12-11T18:14:41.101Z"
   },
   {
    "duration": 736,
    "start_time": "2022-12-11T18:14:47.797Z"
   },
   {
    "duration": 798,
    "start_time": "2022-12-11T18:14:52.173Z"
   },
   {
    "duration": 4,
    "start_time": "2022-12-11T18:14:52.973Z"
   },
   {
    "duration": 696,
    "start_time": "2022-12-11T18:15:36.163Z"
   },
   {
    "duration": 10,
    "start_time": "2022-12-11T18:16:16.159Z"
   },
   {
    "duration": 11,
    "start_time": "2022-12-11T18:16:37.490Z"
   },
   {
    "duration": 4,
    "start_time": "2022-12-11T18:16:41.303Z"
   },
   {
    "duration": 1215,
    "start_time": "2022-12-11T18:17:05.376Z"
   },
   {
    "duration": 79,
    "start_time": "2022-12-11T18:17:26.531Z"
   },
   {
    "duration": 785,
    "start_time": "2022-12-11T18:17:35.615Z"
   },
   {
    "duration": 677,
    "start_time": "2022-12-11T18:18:45.974Z"
   },
   {
    "duration": 677,
    "start_time": "2022-12-11T18:19:16.563Z"
   },
   {
    "duration": 1297,
    "start_time": "2022-12-11T18:19:57.124Z"
   },
   {
    "duration": 1017,
    "start_time": "2022-12-11T18:20:08.139Z"
   },
   {
    "duration": 728,
    "start_time": "2022-12-11T18:20:28.300Z"
   },
   {
    "duration": 746,
    "start_time": "2022-12-11T18:20:43.116Z"
   },
   {
    "duration": 682,
    "start_time": "2022-12-11T18:20:54.925Z"
   },
   {
    "duration": 812,
    "start_time": "2022-12-11T18:21:33.205Z"
   },
   {
    "duration": 642,
    "start_time": "2022-12-11T18:21:36.357Z"
   },
   {
    "duration": 77,
    "start_time": "2022-12-11T18:22:41.735Z"
   },
   {
    "duration": 3,
    "start_time": "2022-12-11T18:23:50.768Z"
   },
   {
    "duration": 2,
    "start_time": "2022-12-11T18:23:53.680Z"
   },
   {
    "duration": 10,
    "start_time": "2022-12-11T18:24:07.089Z"
   },
   {
    "duration": 2,
    "start_time": "2022-12-11T18:24:42.442Z"
   },
   {
    "duration": 14,
    "start_time": "2022-12-11T18:24:46.089Z"
   },
   {
    "duration": 15,
    "start_time": "2022-12-11T18:25:00.266Z"
   },
   {
    "duration": 13,
    "start_time": "2022-12-11T18:25:10.412Z"
   },
   {
    "duration": 7,
    "start_time": "2022-12-11T18:25:45.906Z"
   },
   {
    "duration": 1188,
    "start_time": "2022-12-11T18:28:25.430Z"
   },
   {
    "duration": 789,
    "start_time": "2022-12-11T18:28:31.415Z"
   },
   {
    "duration": 664,
    "start_time": "2022-12-11T18:28:59.384Z"
   },
   {
    "duration": 685,
    "start_time": "2022-12-11T18:29:33.803Z"
   },
   {
    "duration": 513,
    "start_time": "2022-12-11T18:30:05.464Z"
   },
   {
    "duration": 317,
    "start_time": "2022-12-11T18:30:15.465Z"
   },
   {
    "duration": 337,
    "start_time": "2022-12-11T18:30:41.883Z"
   },
   {
    "duration": 328,
    "start_time": "2022-12-11T18:30:56.946Z"
   },
   {
    "duration": 305,
    "start_time": "2022-12-11T18:31:10.347Z"
   },
   {
    "duration": 634,
    "start_time": "2022-12-11T18:31:14.555Z"
   },
   {
    "duration": 214,
    "start_time": "2022-12-11T18:31:20.436Z"
   },
   {
    "duration": 686,
    "start_time": "2022-12-11T18:31:38.707Z"
   },
   {
    "duration": 222,
    "start_time": "2022-12-11T18:31:43.276Z"
   },
   {
    "duration": 199,
    "start_time": "2022-12-11T18:32:07.159Z"
   },
   {
    "duration": 213,
    "start_time": "2022-12-11T18:32:11.643Z"
   },
   {
    "duration": 349,
    "start_time": "2022-12-11T18:32:16.012Z"
   },
   {
    "duration": 483,
    "start_time": "2022-12-11T18:32:25.971Z"
   },
   {
    "duration": 346,
    "start_time": "2022-12-11T18:32:35.100Z"
   },
   {
    "duration": 421,
    "start_time": "2022-12-11T18:32:38.716Z"
   },
   {
    "duration": 584,
    "start_time": "2022-12-11T18:33:17.122Z"
   },
   {
    "duration": 321,
    "start_time": "2022-12-11T18:33:20.325Z"
   },
   {
    "duration": 440,
    "start_time": "2022-12-11T18:33:25.205Z"
   },
   {
    "duration": 422,
    "start_time": "2022-12-11T18:33:29.854Z"
   },
   {
    "duration": 346,
    "start_time": "2022-12-11T18:33:34.285Z"
   },
   {
    "duration": 332,
    "start_time": "2022-12-11T18:33:39.142Z"
   },
   {
    "duration": 379,
    "start_time": "2022-12-11T18:33:48.581Z"
   },
   {
    "duration": 341,
    "start_time": "2022-12-11T18:34:33.054Z"
   },
   {
    "duration": 454,
    "start_time": "2022-12-11T18:34:45.183Z"
   },
   {
    "duration": 272,
    "start_time": "2022-12-11T18:34:52.526Z"
   },
   {
    "duration": 252,
    "start_time": "2022-12-11T18:34:57.095Z"
   },
   {
    "duration": 359,
    "start_time": "2022-12-11T18:34:59.871Z"
   },
   {
    "duration": 175,
    "start_time": "2022-12-11T18:35:02.264Z"
   },
   {
    "duration": 317,
    "start_time": "2022-12-11T18:35:06.143Z"
   },
   {
    "duration": 80,
    "start_time": "2022-12-11T18:40:24.638Z"
   },
   {
    "duration": 2,
    "start_time": "2022-12-11T18:40:28.879Z"
   },
   {
    "duration": 716,
    "start_time": "2022-12-11T18:40:30.422Z"
   },
   {
    "duration": 732,
    "start_time": "2022-12-11T18:40:36.807Z"
   },
   {
    "duration": 1535,
    "start_time": "2022-12-11T18:41:33.821Z"
   },
   {
    "duration": 717,
    "start_time": "2022-12-11T18:41:35.358Z"
   },
   {
    "duration": 84,
    "start_time": "2022-12-11T18:41:36.077Z"
   },
   {
    "duration": 6,
    "start_time": "2022-12-11T18:41:36.164Z"
   },
   {
    "duration": 30,
    "start_time": "2022-12-11T18:41:36.171Z"
   },
   {
    "duration": 3,
    "start_time": "2022-12-11T18:41:36.203Z"
   },
   {
    "duration": 8,
    "start_time": "2022-12-11T18:41:36.207Z"
   },
   {
    "duration": 25,
    "start_time": "2022-12-11T18:41:36.217Z"
   },
   {
    "duration": 14,
    "start_time": "2022-12-11T18:41:36.244Z"
   },
   {
    "duration": 7,
    "start_time": "2022-12-11T18:41:36.261Z"
   },
   {
    "duration": 7,
    "start_time": "2022-12-11T18:41:36.270Z"
   },
   {
    "duration": 11,
    "start_time": "2022-12-11T18:41:36.279Z"
   },
   {
    "duration": 14,
    "start_time": "2022-12-11T18:41:36.292Z"
   },
   {
    "duration": 29,
    "start_time": "2022-12-11T18:41:36.308Z"
   },
   {
    "duration": 8,
    "start_time": "2022-12-11T18:41:36.339Z"
   },
   {
    "duration": 9,
    "start_time": "2022-12-11T18:41:36.349Z"
   },
   {
    "duration": 10,
    "start_time": "2022-12-11T18:41:36.360Z"
   },
   {
    "duration": 747,
    "start_time": "2022-12-11T18:41:36.371Z"
   },
   {
    "duration": 242,
    "start_time": "2022-12-11T18:41:37.120Z"
   },
   {
    "duration": 1215,
    "start_time": "2022-12-11T18:41:37.364Z"
   },
   {
    "duration": 1322,
    "start_time": "2022-12-11T18:41:38.581Z"
   },
   {
    "duration": 1196,
    "start_time": "2022-12-11T18:41:39.905Z"
   },
   {
    "duration": 6,
    "start_time": "2022-12-11T18:41:41.102Z"
   },
   {
    "duration": 789,
    "start_time": "2022-12-11T18:41:41.110Z"
   },
   {
    "duration": 6,
    "start_time": "2022-12-11T18:41:41.901Z"
   },
   {
    "duration": 712,
    "start_time": "2022-12-11T18:41:41.909Z"
   },
   {
    "duration": 432,
    "start_time": "2022-12-11T18:41:42.623Z"
   },
   {
    "duration": 361,
    "start_time": "2022-12-11T18:41:43.059Z"
   },
   {
    "duration": 5,
    "start_time": "2022-12-11T18:41:43.422Z"
   },
   {
    "duration": 8,
    "start_time": "2022-12-11T18:41:43.437Z"
   },
   {
    "duration": 9,
    "start_time": "2022-12-11T18:41:43.447Z"
   },
   {
    "duration": 11,
    "start_time": "2022-12-11T18:41:43.458Z"
   },
   {
    "duration": 447,
    "start_time": "2022-12-11T18:41:43.471Z"
   },
   {
    "duration": 44,
    "start_time": "2022-12-11T18:41:43.920Z"
   },
   {
    "duration": 409,
    "start_time": "2022-12-11T18:41:43.965Z"
   },
   {
    "duration": 6,
    "start_time": "2022-12-11T18:41:44.375Z"
   },
   {
    "duration": 12,
    "start_time": "2022-12-11T18:41:44.383Z"
   },
   {
    "duration": 5,
    "start_time": "2022-12-11T18:41:44.397Z"
   },
   {
    "duration": 43,
    "start_time": "2022-12-11T18:41:44.403Z"
   },
   {
    "duration": 394,
    "start_time": "2022-12-11T18:41:44.448Z"
   },
   {
    "duration": 3,
    "start_time": "2022-12-11T18:41:44.844Z"
   },
   {
    "duration": 27,
    "start_time": "2022-12-11T18:41:44.849Z"
   },
   {
    "duration": 12,
    "start_time": "2022-12-11T18:41:44.877Z"
   },
   {
    "duration": 199,
    "start_time": "2022-12-11T18:41:44.891Z"
   },
   {
    "duration": 79,
    "start_time": "2022-12-11T18:41:45.092Z"
   },
   {
    "duration": 78,
    "start_time": "2022-12-11T18:41:45.172Z"
   },
   {
    "duration": 20,
    "start_time": "2022-12-11T18:41:45.251Z"
   },
   {
    "duration": 5,
    "start_time": "2022-12-11T18:41:45.273Z"
   },
   {
    "duration": 22,
    "start_time": "2022-12-11T18:41:45.279Z"
   },
   {
    "duration": 0,
    "start_time": "2022-12-11T18:41:45.303Z"
   },
   {
    "duration": 0,
    "start_time": "2022-12-11T18:41:45.304Z"
   },
   {
    "duration": 3,
    "start_time": "2022-12-11T18:43:13.505Z"
   },
   {
    "duration": 2,
    "start_time": "2022-12-11T18:43:14.661Z"
   },
   {
    "duration": 11,
    "start_time": "2022-12-11T18:44:08.020Z"
   },
   {
    "duration": 70,
    "start_time": "2022-12-11T18:44:17.963Z"
   },
   {
    "duration": 80,
    "start_time": "2022-12-11T18:44:55.932Z"
   },
   {
    "duration": 1484,
    "start_time": "2022-12-11T18:45:11.353Z"
   },
   {
    "duration": 721,
    "start_time": "2022-12-11T18:45:12.839Z"
   },
   {
    "duration": 76,
    "start_time": "2022-12-11T18:45:13.563Z"
   },
   {
    "duration": 6,
    "start_time": "2022-12-11T18:45:13.642Z"
   },
   {
    "duration": 26,
    "start_time": "2022-12-11T18:45:13.650Z"
   },
   {
    "duration": 3,
    "start_time": "2022-12-11T18:45:13.678Z"
   },
   {
    "duration": 8,
    "start_time": "2022-12-11T18:45:13.683Z"
   },
   {
    "duration": 8,
    "start_time": "2022-12-11T18:45:13.693Z"
   },
   {
    "duration": 8,
    "start_time": "2022-12-11T18:45:13.703Z"
   },
   {
    "duration": 5,
    "start_time": "2022-12-11T18:45:13.738Z"
   },
   {
    "duration": 9,
    "start_time": "2022-12-11T18:45:13.745Z"
   },
   {
    "duration": 13,
    "start_time": "2022-12-11T18:45:13.756Z"
   },
   {
    "duration": 10,
    "start_time": "2022-12-11T18:45:13.771Z"
   },
   {
    "duration": 6,
    "start_time": "2022-12-11T18:45:13.782Z"
   },
   {
    "duration": 9,
    "start_time": "2022-12-11T18:45:13.790Z"
   },
   {
    "duration": 45,
    "start_time": "2022-12-11T18:45:13.801Z"
   },
   {
    "duration": 12,
    "start_time": "2022-12-11T18:45:13.848Z"
   },
   {
    "duration": 801,
    "start_time": "2022-12-11T18:45:13.862Z"
   },
   {
    "duration": 242,
    "start_time": "2022-12-11T18:45:14.666Z"
   },
   {
    "duration": 1281,
    "start_time": "2022-12-11T18:45:14.910Z"
   },
   {
    "duration": 1301,
    "start_time": "2022-12-11T18:45:16.193Z"
   },
   {
    "duration": 1313,
    "start_time": "2022-12-11T18:45:17.496Z"
   },
   {
    "duration": 9,
    "start_time": "2022-12-11T18:45:18.811Z"
   },
   {
    "duration": 815,
    "start_time": "2022-12-11T18:45:18.839Z"
   },
   {
    "duration": 7,
    "start_time": "2022-12-11T18:45:19.655Z"
   },
   {
    "duration": 678,
    "start_time": "2022-12-11T18:45:19.663Z"
   },
   {
    "duration": 432,
    "start_time": "2022-12-11T18:45:20.343Z"
   },
   {
    "duration": 360,
    "start_time": "2022-12-11T18:45:20.780Z"
   },
   {
    "duration": 5,
    "start_time": "2022-12-11T18:45:21.142Z"
   },
   {
    "duration": 7,
    "start_time": "2022-12-11T18:45:21.149Z"
   },
   {
    "duration": 8,
    "start_time": "2022-12-11T18:45:21.157Z"
   },
   {
    "duration": 13,
    "start_time": "2022-12-11T18:45:21.166Z"
   },
   {
    "duration": 406,
    "start_time": "2022-12-11T18:45:21.181Z"
   },
   {
    "duration": 34,
    "start_time": "2022-12-11T18:45:21.589Z"
   },
   {
    "duration": 391,
    "start_time": "2022-12-11T18:45:21.638Z"
   },
   {
    "duration": 11,
    "start_time": "2022-12-11T18:45:22.031Z"
   },
   {
    "duration": 6,
    "start_time": "2022-12-11T18:45:22.044Z"
   },
   {
    "duration": 5,
    "start_time": "2022-12-11T18:45:22.052Z"
   },
   {
    "duration": 23,
    "start_time": "2022-12-11T18:45:22.059Z"
   },
   {
    "duration": 422,
    "start_time": "2022-12-11T18:45:22.083Z"
   },
   {
    "duration": 4,
    "start_time": "2022-12-11T18:45:22.506Z"
   },
   {
    "duration": 14,
    "start_time": "2022-12-11T18:45:22.511Z"
   },
   {
    "duration": 2,
    "start_time": "2022-12-11T18:45:22.538Z"
   },
   {
    "duration": 4,
    "start_time": "2022-12-11T18:45:22.542Z"
   },
   {
    "duration": 187,
    "start_time": "2022-12-11T18:45:22.547Z"
   },
   {
    "duration": 78,
    "start_time": "2022-12-11T18:45:22.735Z"
   },
   {
    "duration": 72,
    "start_time": "2022-12-11T18:45:22.815Z"
   },
   {
    "duration": 18,
    "start_time": "2022-12-11T18:45:22.889Z"
   },
   {
    "duration": 5,
    "start_time": "2022-12-11T18:45:22.909Z"
   },
   {
    "duration": 16,
    "start_time": "2022-12-11T18:45:22.915Z"
   },
   {
    "duration": 0,
    "start_time": "2022-12-11T18:45:22.933Z"
   },
   {
    "duration": 0,
    "start_time": "2022-12-11T18:45:22.935Z"
   },
   {
    "duration": 5,
    "start_time": "2022-12-11T18:47:50.257Z"
   },
   {
    "duration": 827,
    "start_time": "2022-12-11T18:47:54.712Z"
   },
   {
    "duration": 7,
    "start_time": "2022-12-11T18:48:06.457Z"
   },
   {
    "duration": 793,
    "start_time": "2022-12-11T18:48:07.952Z"
   },
   {
    "duration": 76,
    "start_time": "2022-12-11T18:49:18.611Z"
   },
   {
    "duration": 1460,
    "start_time": "2022-12-11T18:49:49.291Z"
   },
   {
    "duration": 6,
    "start_time": "2022-12-11T18:51:26.877Z"
   },
   {
    "duration": 6,
    "start_time": "2022-12-11T18:51:29.165Z"
   },
   {
    "duration": 13,
    "start_time": "2022-12-11T18:51:50.621Z"
   },
   {
    "duration": 7,
    "start_time": "2022-12-11T18:52:24.662Z"
   },
   {
    "duration": 3,
    "start_time": "2022-12-11T18:52:40.486Z"
   },
   {
    "duration": 7,
    "start_time": "2022-12-11T18:52:40.790Z"
   },
   {
    "duration": 728,
    "start_time": "2022-12-11T18:52:42.711Z"
   },
   {
    "duration": 83634,
    "start_time": "2022-12-11T18:52:46.118Z"
   },
   {
    "duration": 35,
    "start_time": "2022-12-11T18:54:09.755Z"
   },
   {
    "duration": 20,
    "start_time": "2022-12-11T18:54:09.792Z"
   },
   {
    "duration": 36,
    "start_time": "2022-12-11T18:54:09.814Z"
   },
   {
    "duration": 0,
    "start_time": "2022-12-11T18:54:09.853Z"
   },
   {
    "duration": 0,
    "start_time": "2022-12-11T18:54:09.854Z"
   },
   {
    "duration": 0,
    "start_time": "2022-12-11T18:54:09.855Z"
   },
   {
    "duration": 0,
    "start_time": "2022-12-11T18:54:09.857Z"
   },
   {
    "duration": 1100,
    "start_time": "2022-12-11T18:54:11.641Z"
   },
   {
    "duration": 32,
    "start_time": "2022-12-11T18:55:28.299Z"
   },
   {
    "duration": 21,
    "start_time": "2022-12-11T18:55:29.821Z"
   },
   {
    "duration": 5,
    "start_time": "2022-12-11T18:55:31.042Z"
   },
   {
    "duration": 16,
    "start_time": "2022-12-11T18:55:33.169Z"
   },
   {
    "duration": 10,
    "start_time": "2022-12-11T18:55:40.354Z"
   },
   {
    "duration": 141,
    "start_time": "2022-12-11T18:55:41.089Z"
   },
   {
    "duration": 1469,
    "start_time": "2022-12-11T18:56:09.261Z"
   },
   {
    "duration": 710,
    "start_time": "2022-12-11T18:56:10.732Z"
   },
   {
    "duration": 62,
    "start_time": "2022-12-11T18:56:11.444Z"
   },
   {
    "duration": 4,
    "start_time": "2022-12-11T18:56:11.509Z"
   },
   {
    "duration": 21,
    "start_time": "2022-12-11T18:56:11.538Z"
   },
   {
    "duration": 3,
    "start_time": "2022-12-11T18:56:11.561Z"
   },
   {
    "duration": 8,
    "start_time": "2022-12-11T18:56:11.566Z"
   },
   {
    "duration": 12,
    "start_time": "2022-12-11T18:56:11.576Z"
   },
   {
    "duration": 11,
    "start_time": "2022-12-11T18:56:11.590Z"
   },
   {
    "duration": 8,
    "start_time": "2022-12-11T18:56:11.604Z"
   },
   {
    "duration": 25,
    "start_time": "2022-12-11T18:56:11.614Z"
   },
   {
    "duration": 11,
    "start_time": "2022-12-11T18:56:11.641Z"
   },
   {
    "duration": 10,
    "start_time": "2022-12-11T18:56:11.654Z"
   },
   {
    "duration": 5,
    "start_time": "2022-12-11T18:56:11.665Z"
   },
   {
    "duration": 7,
    "start_time": "2022-12-11T18:56:11.672Z"
   },
   {
    "duration": 12,
    "start_time": "2022-12-11T18:56:11.681Z"
   },
   {
    "duration": 48,
    "start_time": "2022-12-11T18:56:11.694Z"
   },
   {
    "duration": 750,
    "start_time": "2022-12-11T18:56:11.743Z"
   },
   {
    "duration": 260,
    "start_time": "2022-12-11T18:56:12.494Z"
   },
   {
    "duration": 1236,
    "start_time": "2022-12-11T18:56:12.756Z"
   },
   {
    "duration": 1398,
    "start_time": "2022-12-11T18:56:13.994Z"
   },
   {
    "duration": 1318,
    "start_time": "2022-12-11T18:56:15.394Z"
   },
   {
    "duration": 7,
    "start_time": "2022-12-11T18:56:16.713Z"
   },
   {
    "duration": 749,
    "start_time": "2022-12-11T18:56:16.722Z"
   },
   {
    "duration": 5,
    "start_time": "2022-12-11T18:56:17.473Z"
   },
   {
    "duration": 702,
    "start_time": "2022-12-11T18:56:17.480Z"
   },
   {
    "duration": 423,
    "start_time": "2022-12-11T18:56:18.183Z"
   },
   {
    "duration": 403,
    "start_time": "2022-12-11T18:56:18.610Z"
   },
   {
    "duration": 6,
    "start_time": "2022-12-11T18:56:19.016Z"
   },
   {
    "duration": 20,
    "start_time": "2022-12-11T18:56:19.024Z"
   },
   {
    "duration": 12,
    "start_time": "2022-12-11T18:56:19.046Z"
   },
   {
    "duration": 14,
    "start_time": "2022-12-11T18:56:19.060Z"
   },
   {
    "duration": 430,
    "start_time": "2022-12-11T18:56:19.076Z"
   },
   {
    "duration": 40,
    "start_time": "2022-12-11T18:56:19.508Z"
   },
   {
    "duration": 389,
    "start_time": "2022-12-11T18:56:19.550Z"
   },
   {
    "duration": 7,
    "start_time": "2022-12-11T18:56:19.941Z"
   },
   {
    "duration": 12,
    "start_time": "2022-12-11T18:56:19.949Z"
   },
   {
    "duration": 11,
    "start_time": "2022-12-11T18:56:19.963Z"
   },
   {
    "duration": 23,
    "start_time": "2022-12-11T18:56:19.976Z"
   },
   {
    "duration": 409,
    "start_time": "2022-12-11T18:56:20.001Z"
   },
   {
    "duration": 4,
    "start_time": "2022-12-11T18:56:20.412Z"
   },
   {
    "duration": 26,
    "start_time": "2022-12-11T18:56:20.418Z"
   },
   {
    "duration": 19,
    "start_time": "2022-12-11T18:56:20.445Z"
   },
   {
    "duration": 12,
    "start_time": "2022-12-11T18:56:20.466Z"
   },
   {
    "duration": 4,
    "start_time": "2022-12-11T18:56:20.480Z"
   },
   {
    "duration": 1492,
    "start_time": "2022-12-11T18:56:20.486Z"
   },
   {
    "duration": 1582,
    "start_time": "2022-12-11T18:58:58.559Z"
   },
   {
    "duration": 749,
    "start_time": "2022-12-11T18:59:00.143Z"
   },
   {
    "duration": 79,
    "start_time": "2022-12-11T18:59:00.894Z"
   },
   {
    "duration": 6,
    "start_time": "2022-12-11T18:59:00.975Z"
   },
   {
    "duration": 25,
    "start_time": "2022-12-11T18:59:00.982Z"
   },
   {
    "duration": 10,
    "start_time": "2022-12-11T18:59:01.009Z"
   },
   {
    "duration": 4,
    "start_time": "2022-12-11T18:59:01.038Z"
   },
   {
    "duration": 15,
    "start_time": "2022-12-11T18:59:01.044Z"
   },
   {
    "duration": 7,
    "start_time": "2022-12-11T18:59:01.061Z"
   },
   {
    "duration": 7,
    "start_time": "2022-12-11T18:59:01.071Z"
   },
   {
    "duration": 7,
    "start_time": "2022-12-11T18:59:01.080Z"
   },
   {
    "duration": 18,
    "start_time": "2022-12-11T18:59:01.089Z"
   },
   {
    "duration": 30,
    "start_time": "2022-12-11T18:59:01.108Z"
   },
   {
    "duration": 5,
    "start_time": "2022-12-11T18:59:01.140Z"
   },
   {
    "duration": 13,
    "start_time": "2022-12-11T18:59:01.147Z"
   },
   {
    "duration": 13,
    "start_time": "2022-12-11T18:59:01.162Z"
   },
   {
    "duration": 11,
    "start_time": "2022-12-11T18:59:01.176Z"
   },
   {
    "duration": 769,
    "start_time": "2022-12-11T18:59:01.189Z"
   },
   {
    "duration": 237,
    "start_time": "2022-12-11T18:59:01.959Z"
   },
   {
    "duration": 1192,
    "start_time": "2022-12-11T18:59:02.198Z"
   },
   {
    "duration": 1313,
    "start_time": "2022-12-11T18:59:03.392Z"
   },
   {
    "duration": 1242,
    "start_time": "2022-12-11T18:59:04.707Z"
   },
   {
    "duration": 6,
    "start_time": "2022-12-11T18:59:05.951Z"
   },
   {
    "duration": 759,
    "start_time": "2022-12-11T18:59:05.958Z"
   },
   {
    "duration": 6,
    "start_time": "2022-12-11T18:59:06.718Z"
   },
   {
    "duration": 717,
    "start_time": "2022-12-11T18:59:06.725Z"
   },
   {
    "duration": 520,
    "start_time": "2022-12-11T18:59:07.444Z"
   },
   {
    "duration": 382,
    "start_time": "2022-12-11T18:59:07.968Z"
   },
   {
    "duration": 5,
    "start_time": "2022-12-11T18:59:08.352Z"
   },
   {
    "duration": 10,
    "start_time": "2022-12-11T18:59:08.358Z"
   },
   {
    "duration": 6,
    "start_time": "2022-12-11T18:59:08.369Z"
   },
   {
    "duration": 10,
    "start_time": "2022-12-11T18:59:08.376Z"
   },
   {
    "duration": 426,
    "start_time": "2022-12-11T18:59:08.387Z"
   },
   {
    "duration": 56,
    "start_time": "2022-12-11T18:59:08.815Z"
   },
   {
    "duration": 464,
    "start_time": "2022-12-11T18:59:08.873Z"
   },
   {
    "duration": 8,
    "start_time": "2022-12-11T18:59:09.339Z"
   },
   {
    "duration": 11,
    "start_time": "2022-12-11T18:59:09.348Z"
   },
   {
    "duration": 7,
    "start_time": "2022-12-11T18:59:09.361Z"
   },
   {
    "duration": 24,
    "start_time": "2022-12-11T18:59:09.370Z"
   },
   {
    "duration": 425,
    "start_time": "2022-12-11T18:59:09.396Z"
   },
   {
    "duration": 3,
    "start_time": "2022-12-11T18:59:09.823Z"
   },
   {
    "duration": 18,
    "start_time": "2022-12-11T18:59:09.828Z"
   },
   {
    "duration": 8,
    "start_time": "2022-12-11T18:59:09.848Z"
   },
   {
    "duration": 19,
    "start_time": "2022-12-11T18:59:09.858Z"
   },
   {
    "duration": 9,
    "start_time": "2022-12-11T18:59:09.880Z"
   },
   {
    "duration": 1250,
    "start_time": "2022-12-11T18:59:09.890Z"
   },
   {
    "duration": 244583,
    "start_time": "2022-12-11T18:59:11.142Z"
   },
   {
    "duration": 54,
    "start_time": "2022-12-11T19:03:15.727Z"
   },
   {
    "duration": 20,
    "start_time": "2022-12-11T19:03:15.784Z"
   },
   {
    "duration": 24,
    "start_time": "2022-12-11T19:03:15.806Z"
   },
   {
    "duration": 266,
    "start_time": "2022-12-11T19:03:15.833Z"
   },
   {
    "duration": 3,
    "start_time": "2022-12-11T19:03:16.100Z"
   },
   {
    "duration": 222,
    "start_time": "2022-12-11T19:03:16.105Z"
   },
   {
    "duration": 15,
    "start_time": "2022-12-11T19:11:39.830Z"
   },
   {
    "duration": 3,
    "start_time": "2022-12-11T19:11:41.983Z"
   },
   {
    "duration": 3,
    "start_time": "2022-12-11T19:11:42.397Z"
   },
   {
    "duration": 4,
    "start_time": "2022-12-11T19:11:44.277Z"
   },
   {
    "duration": 1473,
    "start_time": "2022-12-11T19:11:44.965Z"
   },
   {
    "duration": 252534,
    "start_time": "2022-12-11T19:11:57.414Z"
   },
   {
    "duration": 45,
    "start_time": "2022-12-11T19:16:19.024Z"
   },
   {
    "duration": 26,
    "start_time": "2022-12-11T19:16:20.699Z"
   },
   {
    "duration": 176,
    "start_time": "2022-12-11T19:16:21.475Z"
   },
   {
    "duration": 19,
    "start_time": "2022-12-11T19:16:21.875Z"
   },
   {
    "duration": 3,
    "start_time": "2022-12-11T19:16:23.395Z"
   },
   {
    "duration": 2,
    "start_time": "2022-12-11T19:19:10.183Z"
   },
   {
    "duration": 23,
    "start_time": "2022-12-11T19:19:12.431Z"
   },
   {
    "duration": 3,
    "start_time": "2022-12-11T19:19:19.311Z"
   },
   {
    "duration": 182,
    "start_time": "2022-12-11T19:19:19.911Z"
   },
   {
    "duration": 13,
    "start_time": "2022-12-11T19:21:34.883Z"
   },
   {
    "duration": 13,
    "start_time": "2022-12-11T19:21:52.796Z"
   },
   {
    "duration": 21,
    "start_time": "2022-12-11T19:21:56.235Z"
   },
   {
    "duration": 18,
    "start_time": "2022-12-11T19:21:58.923Z"
   },
   {
    "duration": 14,
    "start_time": "2022-12-11T19:22:04.611Z"
   },
   {
    "duration": 2,
    "start_time": "2022-12-11T19:22:09.204Z"
   },
   {
    "duration": 16,
    "start_time": "2022-12-11T19:22:11.995Z"
   },
   {
    "duration": 3,
    "start_time": "2022-12-11T19:23:20.463Z"
   },
   {
    "duration": 14,
    "start_time": "2022-12-11T19:23:33.214Z"
   },
   {
    "duration": 1478,
    "start_time": "2022-12-11T19:23:39.549Z"
   },
   {
    "duration": 727,
    "start_time": "2022-12-11T19:23:41.029Z"
   },
   {
    "duration": 85,
    "start_time": "2022-12-11T19:23:41.758Z"
   },
   {
    "duration": 5,
    "start_time": "2022-12-11T19:23:41.846Z"
   },
   {
    "duration": 29,
    "start_time": "2022-12-11T19:23:41.853Z"
   },
   {
    "duration": 3,
    "start_time": "2022-12-11T19:23:41.884Z"
   },
   {
    "duration": 9,
    "start_time": "2022-12-11T19:23:41.888Z"
   },
   {
    "duration": 6,
    "start_time": "2022-12-11T19:23:41.899Z"
   },
   {
    "duration": 33,
    "start_time": "2022-12-11T19:23:41.906Z"
   },
   {
    "duration": 11,
    "start_time": "2022-12-11T19:23:41.942Z"
   },
   {
    "duration": 11,
    "start_time": "2022-12-11T19:23:41.955Z"
   },
   {
    "duration": 12,
    "start_time": "2022-12-11T19:23:41.968Z"
   },
   {
    "duration": 9,
    "start_time": "2022-12-11T19:23:41.982Z"
   },
   {
    "duration": 7,
    "start_time": "2022-12-11T19:23:41.993Z"
   },
   {
    "duration": 35,
    "start_time": "2022-12-11T19:23:42.002Z"
   },
   {
    "duration": 13,
    "start_time": "2022-12-11T19:23:42.039Z"
   },
   {
    "duration": 11,
    "start_time": "2022-12-11T19:23:42.054Z"
   },
   {
    "duration": 771,
    "start_time": "2022-12-11T19:23:42.067Z"
   },
   {
    "duration": 240,
    "start_time": "2022-12-11T19:23:42.840Z"
   },
   {
    "duration": 1329,
    "start_time": "2022-12-11T19:23:43.082Z"
   },
   {
    "duration": 1177,
    "start_time": "2022-12-11T19:23:44.413Z"
   },
   {
    "duration": 1418,
    "start_time": "2022-12-11T19:23:45.592Z"
   },
   {
    "duration": 7,
    "start_time": "2022-12-11T19:23:47.012Z"
   },
   {
    "duration": 793,
    "start_time": "2022-12-11T19:23:47.020Z"
   },
   {
    "duration": 6,
    "start_time": "2022-12-11T19:23:47.815Z"
   },
   {
    "duration": 748,
    "start_time": "2022-12-11T19:23:47.823Z"
   },
   {
    "duration": 552,
    "start_time": "2022-12-11T19:23:48.573Z"
   },
   {
    "duration": 370,
    "start_time": "2022-12-11T19:23:49.137Z"
   },
   {
    "duration": 5,
    "start_time": "2022-12-11T19:23:49.508Z"
   },
   {
    "duration": 9,
    "start_time": "2022-12-11T19:23:49.514Z"
   },
   {
    "duration": 18,
    "start_time": "2022-12-11T19:23:49.525Z"
   },
   {
    "duration": 7,
    "start_time": "2022-12-11T19:23:49.544Z"
   },
   {
    "duration": 457,
    "start_time": "2022-12-11T19:23:49.553Z"
   },
   {
    "duration": 43,
    "start_time": "2022-12-11T19:23:50.012Z"
   },
   {
    "duration": 392,
    "start_time": "2022-12-11T19:23:50.057Z"
   },
   {
    "duration": 7,
    "start_time": "2022-12-11T19:23:50.451Z"
   },
   {
    "duration": 8,
    "start_time": "2022-12-11T19:23:50.460Z"
   },
   {
    "duration": 6,
    "start_time": "2022-12-11T19:23:50.470Z"
   },
   {
    "duration": 28,
    "start_time": "2022-12-11T19:23:50.478Z"
   },
   {
    "duration": 489,
    "start_time": "2022-12-11T19:23:50.508Z"
   },
   {
    "duration": 5,
    "start_time": "2022-12-11T19:23:50.998Z"
   },
   {
    "duration": 14,
    "start_time": "2022-12-11T19:23:51.005Z"
   },
   {
    "duration": 6,
    "start_time": "2022-12-11T19:23:51.021Z"
   },
   {
    "duration": 2,
    "start_time": "2022-12-11T19:23:51.038Z"
   },
   {
    "duration": 14,
    "start_time": "2022-12-11T19:23:51.042Z"
   },
   {
    "duration": 6,
    "start_time": "2022-12-11T19:23:51.057Z"
   },
   {
    "duration": 1780,
    "start_time": "2022-12-11T19:23:51.065Z"
   },
   {
    "duration": 343481,
    "start_time": "2022-12-11T19:23:52.847Z"
   },
   {
    "duration": 40,
    "start_time": "2022-12-11T19:29:36.338Z"
   },
   {
    "duration": 21,
    "start_time": "2022-12-11T19:29:36.380Z"
   },
   {
    "duration": 2,
    "start_time": "2022-12-11T19:29:36.403Z"
   },
   {
    "duration": 602,
    "start_time": "2022-12-11T19:29:36.407Z"
   },
   {
    "duration": 0,
    "start_time": "2022-12-11T19:29:37.010Z"
   },
   {
    "duration": 0,
    "start_time": "2022-12-11T19:29:37.012Z"
   },
   {
    "duration": 6,
    "start_time": "2022-12-11T19:29:48.253Z"
   },
   {
    "duration": 2,
    "start_time": "2022-12-11T19:29:56.255Z"
   },
   {
    "duration": 374,
    "start_time": "2022-12-11T19:39:28.494Z"
   },
   {
    "duration": 20,
    "start_time": "2022-12-11T19:41:27.886Z"
   },
   {
    "duration": 3,
    "start_time": "2022-12-11T19:41:28.901Z"
   },
   {
    "duration": 393,
    "start_time": "2022-12-11T19:41:32.646Z"
   },
   {
    "duration": 10,
    "start_time": "2022-12-11T19:41:35.254Z"
   },
   {
    "duration": 285,
    "start_time": "2022-12-11T19:41:36.301Z"
   },
   {
    "duration": 16,
    "start_time": "2022-12-11T19:43:04.280Z"
   },
   {
    "duration": 3,
    "start_time": "2022-12-11T19:43:09.176Z"
   },
   {
    "duration": 415,
    "start_time": "2022-12-11T19:43:13.440Z"
   },
   {
    "duration": 11,
    "start_time": "2022-12-11T19:43:28.785Z"
   },
   {
    "duration": 154,
    "start_time": "2022-12-11T19:43:31.841Z"
   },
   {
    "duration": 1498,
    "start_time": "2022-12-11T19:44:05.654Z"
   },
   {
    "duration": 776,
    "start_time": "2022-12-11T19:44:07.154Z"
   },
   {
    "duration": 70,
    "start_time": "2022-12-11T19:44:07.932Z"
   },
   {
    "duration": 34,
    "start_time": "2022-12-11T19:44:08.004Z"
   },
   {
    "duration": 36,
    "start_time": "2022-12-11T19:44:08.039Z"
   },
   {
    "duration": 6,
    "start_time": "2022-12-11T19:44:08.077Z"
   },
   {
    "duration": 37,
    "start_time": "2022-12-11T19:44:08.085Z"
   },
   {
    "duration": 43,
    "start_time": "2022-12-11T19:44:08.124Z"
   },
   {
    "duration": 28,
    "start_time": "2022-12-11T19:44:08.169Z"
   },
   {
    "duration": 27,
    "start_time": "2022-12-11T19:44:08.200Z"
   },
   {
    "duration": 44,
    "start_time": "2022-12-11T19:44:08.229Z"
   },
   {
    "duration": 30,
    "start_time": "2022-12-11T19:44:08.275Z"
   },
   {
    "duration": 48,
    "start_time": "2022-12-11T19:44:08.307Z"
   },
   {
    "duration": 27,
    "start_time": "2022-12-11T19:44:08.357Z"
   },
   {
    "duration": 46,
    "start_time": "2022-12-11T19:44:08.386Z"
   },
   {
    "duration": 44,
    "start_time": "2022-12-11T19:44:08.433Z"
   },
   {
    "duration": 47,
    "start_time": "2022-12-11T19:44:08.479Z"
   },
   {
    "duration": 890,
    "start_time": "2022-12-11T19:44:08.529Z"
   },
   {
    "duration": 252,
    "start_time": "2022-12-11T19:44:09.421Z"
   },
   {
    "duration": 1221,
    "start_time": "2022-12-11T19:44:09.675Z"
   },
   {
    "duration": 1296,
    "start_time": "2022-12-11T19:44:10.898Z"
   },
   {
    "duration": 1217,
    "start_time": "2022-12-11T19:44:12.196Z"
   },
   {
    "duration": 6,
    "start_time": "2022-12-11T19:44:13.415Z"
   },
   {
    "duration": 942,
    "start_time": "2022-12-11T19:44:13.422Z"
   },
   {
    "duration": 6,
    "start_time": "2022-12-11T19:44:14.366Z"
   },
   {
    "duration": 682,
    "start_time": "2022-12-11T19:44:14.374Z"
   },
   {
    "duration": 442,
    "start_time": "2022-12-11T19:44:15.059Z"
   },
   {
    "duration": 394,
    "start_time": "2022-12-11T19:44:15.506Z"
   },
   {
    "duration": 4,
    "start_time": "2022-12-11T19:44:15.903Z"
   },
   {
    "duration": 8,
    "start_time": "2022-12-11T19:44:15.909Z"
   },
   {
    "duration": 7,
    "start_time": "2022-12-11T19:44:15.918Z"
   },
   {
    "duration": 7,
    "start_time": "2022-12-11T19:44:15.938Z"
   },
   {
    "duration": 434,
    "start_time": "2022-12-11T19:44:15.947Z"
   },
   {
    "duration": 37,
    "start_time": "2022-12-11T19:44:16.383Z"
   },
   {
    "duration": 432,
    "start_time": "2022-12-11T19:44:16.423Z"
   },
   {
    "duration": 6,
    "start_time": "2022-12-11T19:44:16.857Z"
   },
   {
    "duration": 7,
    "start_time": "2022-12-11T19:44:16.865Z"
   },
   {
    "duration": 8,
    "start_time": "2022-12-11T19:44:16.874Z"
   },
   {
    "duration": 25,
    "start_time": "2022-12-11T19:44:16.884Z"
   },
   {
    "duration": 443,
    "start_time": "2022-12-11T19:44:16.911Z"
   },
   {
    "duration": 4,
    "start_time": "2022-12-11T19:44:17.355Z"
   },
   {
    "duration": 12,
    "start_time": "2022-12-11T19:44:17.361Z"
   },
   {
    "duration": 4,
    "start_time": "2022-12-11T19:44:17.375Z"
   },
   {
    "duration": 6,
    "start_time": "2022-12-11T19:44:17.380Z"
   },
   {
    "duration": 11,
    "start_time": "2022-12-11T19:44:17.388Z"
   },
   {
    "duration": 7,
    "start_time": "2022-12-11T19:44:17.401Z"
   },
   {
    "duration": 2429,
    "start_time": "2022-12-11T19:44:17.410Z"
   },
   {
    "duration": 51,
    "start_time": "2022-12-12T05:45:40.001Z"
   },
   {
    "duration": 4859,
    "start_time": "2022-12-13T06:04:36.742Z"
   },
   {
    "duration": 2871,
    "start_time": "2022-12-13T06:04:41.603Z"
   },
   {
    "duration": 56,
    "start_time": "2022-12-13T06:04:44.476Z"
   },
   {
    "duration": 4,
    "start_time": "2022-12-13T06:04:44.533Z"
   },
   {
    "duration": 21,
    "start_time": "2022-12-13T06:04:44.541Z"
   },
   {
    "duration": 3,
    "start_time": "2022-12-13T06:04:44.564Z"
   },
   {
    "duration": 16,
    "start_time": "2022-12-13T06:04:44.569Z"
   },
   {
    "duration": 11,
    "start_time": "2022-12-13T06:04:44.586Z"
   },
   {
    "duration": 14,
    "start_time": "2022-12-13T06:04:44.599Z"
   },
   {
    "duration": 8,
    "start_time": "2022-12-13T06:04:44.615Z"
   },
   {
    "duration": 8,
    "start_time": "2022-12-13T06:04:44.624Z"
   },
   {
    "duration": 10,
    "start_time": "2022-12-13T06:04:44.634Z"
   },
   {
    "duration": 12,
    "start_time": "2022-12-13T06:04:44.646Z"
   },
   {
    "duration": 4,
    "start_time": "2022-12-13T06:04:44.661Z"
   },
   {
    "duration": 8,
    "start_time": "2022-12-13T06:04:44.667Z"
   },
   {
    "duration": 10,
    "start_time": "2022-12-13T06:04:44.676Z"
   },
   {
    "duration": 39,
    "start_time": "2022-12-13T06:04:44.687Z"
   },
   {
    "duration": 727,
    "start_time": "2022-12-13T06:04:44.728Z"
   },
   {
    "duration": 219,
    "start_time": "2022-12-13T06:04:45.457Z"
   },
   {
    "duration": 1080,
    "start_time": "2022-12-13T06:04:45.678Z"
   },
   {
    "duration": 1084,
    "start_time": "2022-12-13T06:04:46.760Z"
   },
   {
    "duration": 1103,
    "start_time": "2022-12-13T06:04:47.846Z"
   },
   {
    "duration": 5,
    "start_time": "2022-12-13T06:04:48.951Z"
   },
   {
    "duration": 696,
    "start_time": "2022-12-13T06:04:48.958Z"
   },
   {
    "duration": 5,
    "start_time": "2022-12-13T06:04:49.656Z"
   },
   {
    "duration": 608,
    "start_time": "2022-12-13T06:04:49.662Z"
   },
   {
    "duration": 388,
    "start_time": "2022-12-13T06:04:50.272Z"
   },
   {
    "duration": 297,
    "start_time": "2022-12-13T06:04:50.661Z"
   },
   {
    "duration": 4,
    "start_time": "2022-12-13T06:04:50.960Z"
   },
   {
    "duration": 8,
    "start_time": "2022-12-13T06:04:50.965Z"
   },
   {
    "duration": 12,
    "start_time": "2022-12-13T06:04:50.974Z"
   },
   {
    "duration": 13,
    "start_time": "2022-12-13T06:04:50.988Z"
   },
   {
    "duration": 374,
    "start_time": "2022-12-13T06:04:51.003Z"
   },
   {
    "duration": 44,
    "start_time": "2022-12-13T06:04:51.379Z"
   },
   {
    "duration": 376,
    "start_time": "2022-12-13T06:04:51.425Z"
   },
   {
    "duration": 5,
    "start_time": "2022-12-13T06:04:51.803Z"
   },
   {
    "duration": 17,
    "start_time": "2022-12-13T06:04:51.809Z"
   },
   {
    "duration": 8,
    "start_time": "2022-12-13T06:04:51.828Z"
   },
   {
    "duration": 35,
    "start_time": "2022-12-13T06:04:51.837Z"
   },
   {
    "duration": 387,
    "start_time": "2022-12-13T06:04:51.874Z"
   },
   {
    "duration": 3,
    "start_time": "2022-12-13T06:04:52.265Z"
   },
   {
    "duration": 26,
    "start_time": "2022-12-13T06:04:52.270Z"
   },
   {
    "duration": 19,
    "start_time": "2022-12-13T06:04:52.298Z"
   },
   {
    "duration": 15,
    "start_time": "2022-12-13T06:04:52.318Z"
   },
   {
    "duration": 15,
    "start_time": "2022-12-13T06:04:52.334Z"
   },
   {
    "duration": 12,
    "start_time": "2022-12-13T06:04:52.350Z"
   },
   {
    "duration": 1565,
    "start_time": "2022-12-13T06:04:52.363Z"
   },
   {
    "duration": 310275,
    "start_time": "2022-12-13T06:04:53.931Z"
   },
   {
    "duration": 40,
    "start_time": "2022-12-13T06:10:04.208Z"
   },
   {
    "duration": 19,
    "start_time": "2022-12-13T06:10:04.249Z"
   },
   {
    "duration": 3,
    "start_time": "2022-12-13T06:10:04.269Z"
   },
   {
    "duration": 507,
    "start_time": "2022-12-13T06:10:04.274Z"
   },
   {
    "duration": 0,
    "start_time": "2022-12-13T06:10:04.783Z"
   },
   {
    "duration": 0,
    "start_time": "2022-12-13T06:10:04.785Z"
   },
   {
    "duration": 5,
    "start_time": "2022-12-13T06:16:53.141Z"
   },
   {
    "duration": 10,
    "start_time": "2022-12-13T06:16:57.253Z"
   },
   {
    "duration": 5,
    "start_time": "2022-12-13T06:17:04.488Z"
   },
   {
    "duration": 28,
    "start_time": "2022-12-13T06:17:33.448Z"
   },
   {
    "duration": 43,
    "start_time": "2022-12-13T07:25:03.401Z"
   },
   {
    "duration": 1472,
    "start_time": "2022-12-13T07:25:15.183Z"
   },
   {
    "duration": 2196,
    "start_time": "2022-12-13T07:25:16.657Z"
   },
   {
    "duration": 58,
    "start_time": "2022-12-13T07:25:18.854Z"
   },
   {
    "duration": 5,
    "start_time": "2022-12-13T07:25:18.913Z"
   },
   {
    "duration": 24,
    "start_time": "2022-12-13T07:25:18.919Z"
   },
   {
    "duration": 4,
    "start_time": "2022-12-13T07:25:18.945Z"
   },
   {
    "duration": 12,
    "start_time": "2022-12-13T07:25:18.950Z"
   },
   {
    "duration": 9,
    "start_time": "2022-12-13T07:25:18.963Z"
   },
   {
    "duration": 7,
    "start_time": "2022-12-13T07:25:18.973Z"
   },
   {
    "duration": 5,
    "start_time": "2022-12-13T07:25:18.983Z"
   },
   {
    "duration": 9,
    "start_time": "2022-12-13T07:25:18.989Z"
   },
   {
    "duration": 31,
    "start_time": "2022-12-13T07:25:19.000Z"
   },
   {
    "duration": 12,
    "start_time": "2022-12-13T07:25:19.033Z"
   },
   {
    "duration": 7,
    "start_time": "2022-12-13T07:25:19.047Z"
   },
   {
    "duration": 8,
    "start_time": "2022-12-13T07:25:19.056Z"
   },
   {
    "duration": 9,
    "start_time": "2022-12-13T07:25:19.065Z"
   },
   {
    "duration": 12,
    "start_time": "2022-12-13T07:25:19.076Z"
   },
   {
    "duration": 692,
    "start_time": "2022-12-13T07:25:19.089Z"
   },
   {
    "duration": 229,
    "start_time": "2022-12-13T07:25:19.783Z"
   },
   {
    "duration": 1142,
    "start_time": "2022-12-13T07:25:20.014Z"
   },
   {
    "duration": 1198,
    "start_time": "2022-12-13T07:25:21.158Z"
   },
   {
    "duration": 1103,
    "start_time": "2022-12-13T07:25:22.358Z"
   },
   {
    "duration": 6,
    "start_time": "2022-12-13T07:25:23.464Z"
   },
   {
    "duration": 673,
    "start_time": "2022-12-13T07:25:23.472Z"
   },
   {
    "duration": 4,
    "start_time": "2022-12-13T07:25:24.147Z"
   },
   {
    "duration": 600,
    "start_time": "2022-12-13T07:25:24.153Z"
   },
   {
    "duration": 384,
    "start_time": "2022-12-13T07:25:24.754Z"
   },
   {
    "duration": 299,
    "start_time": "2022-12-13T07:25:25.141Z"
   },
   {
    "duration": 5,
    "start_time": "2022-12-13T07:25:25.441Z"
   },
   {
    "duration": 12,
    "start_time": "2022-12-13T07:25:25.448Z"
   },
   {
    "duration": 9,
    "start_time": "2022-12-13T07:25:25.462Z"
   },
   {
    "duration": 19,
    "start_time": "2022-12-13T07:25:25.473Z"
   },
   {
    "duration": 357,
    "start_time": "2022-12-13T07:25:25.494Z"
   },
   {
    "duration": 34,
    "start_time": "2022-12-13T07:25:25.853Z"
   },
   {
    "duration": 355,
    "start_time": "2022-12-13T07:25:25.889Z"
   },
   {
    "duration": 5,
    "start_time": "2022-12-13T07:25:26.246Z"
   },
   {
    "duration": 14,
    "start_time": "2022-12-13T07:25:26.252Z"
   },
   {
    "duration": 13,
    "start_time": "2022-12-13T07:25:26.268Z"
   },
   {
    "duration": 24,
    "start_time": "2022-12-13T07:25:26.282Z"
   },
   {
    "duration": 336,
    "start_time": "2022-12-13T07:25:26.308Z"
   },
   {
    "duration": 3,
    "start_time": "2022-12-13T07:25:26.645Z"
   },
   {
    "duration": 12,
    "start_time": "2022-12-13T07:25:26.650Z"
   },
   {
    "duration": 6,
    "start_time": "2022-12-13T07:25:26.664Z"
   },
   {
    "duration": 4,
    "start_time": "2022-12-13T07:25:26.672Z"
   },
   {
    "duration": 8,
    "start_time": "2022-12-13T07:25:26.678Z"
   },
   {
    "duration": 5,
    "start_time": "2022-12-13T07:25:26.688Z"
   },
   {
    "duration": 1433,
    "start_time": "2022-12-13T07:25:26.695Z"
   },
   {
    "duration": 290623,
    "start_time": "2022-12-13T07:25:28.132Z"
   },
   {
    "duration": 34,
    "start_time": "2022-12-13T07:30:18.757Z"
   },
   {
    "duration": 16,
    "start_time": "2022-12-13T07:30:18.792Z"
   },
   {
    "duration": 16,
    "start_time": "2022-12-13T07:30:18.810Z"
   },
   {
    "duration": 151,
    "start_time": "2022-12-13T07:30:18.829Z"
   },
   {
    "duration": 0,
    "start_time": "2022-12-13T07:30:18.982Z"
   },
   {
    "duration": 0,
    "start_time": "2022-12-13T07:30:18.983Z"
   },
   {
    "duration": 0,
    "start_time": "2022-12-13T07:30:18.984Z"
   },
   {
    "duration": 136,
    "start_time": "2022-12-13T07:30:33.420Z"
   },
   {
    "duration": 17,
    "start_time": "2022-12-13T07:30:36.189Z"
   },
   {
    "duration": 32,
    "start_time": "2022-12-13T11:43:31.866Z"
   },
   {
    "duration": 5042,
    "start_time": "2022-12-14T06:48:01.455Z"
   },
   {
    "duration": 2617,
    "start_time": "2022-12-14T06:48:06.499Z"
   },
   {
    "duration": 67,
    "start_time": "2022-12-14T06:48:09.117Z"
   },
   {
    "duration": 29,
    "start_time": "2022-12-14T06:48:09.187Z"
   },
   {
    "duration": 33,
    "start_time": "2022-12-14T06:48:09.218Z"
   },
   {
    "duration": 3,
    "start_time": "2022-12-14T06:48:09.253Z"
   },
   {
    "duration": 8,
    "start_time": "2022-12-14T06:48:09.257Z"
   },
   {
    "duration": 17,
    "start_time": "2022-12-14T06:48:09.267Z"
   },
   {
    "duration": 16,
    "start_time": "2022-12-14T06:48:09.286Z"
   },
   {
    "duration": 4,
    "start_time": "2022-12-14T06:48:09.305Z"
   },
   {
    "duration": 6,
    "start_time": "2022-12-14T06:48:09.315Z"
   },
   {
    "duration": 19,
    "start_time": "2022-12-14T06:48:09.323Z"
   },
   {
    "duration": 12,
    "start_time": "2022-12-14T06:48:09.344Z"
   },
   {
    "duration": 6,
    "start_time": "2022-12-14T06:48:09.358Z"
   },
   {
    "duration": 12,
    "start_time": "2022-12-14T06:48:09.366Z"
   },
   {
    "duration": 37,
    "start_time": "2022-12-14T06:48:09.380Z"
   },
   {
    "duration": 13,
    "start_time": "2022-12-14T06:48:09.419Z"
   },
   {
    "duration": 717,
    "start_time": "2022-12-14T06:48:09.434Z"
   },
   {
    "duration": 229,
    "start_time": "2022-12-14T06:48:10.153Z"
   },
   {
    "duration": 1174,
    "start_time": "2022-12-14T06:48:10.384Z"
   },
   {
    "duration": 1207,
    "start_time": "2022-12-14T06:48:11.560Z"
   },
   {
    "duration": 1200,
    "start_time": "2022-12-14T06:48:12.769Z"
   },
   {
    "duration": 6,
    "start_time": "2022-12-14T06:48:13.971Z"
   },
   {
    "duration": 715,
    "start_time": "2022-12-14T06:48:13.979Z"
   },
   {
    "duration": 6,
    "start_time": "2022-12-14T06:48:14.695Z"
   },
   {
    "duration": 631,
    "start_time": "2022-12-14T06:48:14.715Z"
   },
   {
    "duration": 412,
    "start_time": "2022-12-14T06:48:15.347Z"
   },
   {
    "duration": 309,
    "start_time": "2022-12-14T06:48:15.762Z"
   },
   {
    "duration": 4,
    "start_time": "2022-12-14T06:48:16.073Z"
   },
   {
    "duration": 10,
    "start_time": "2022-12-14T06:48:16.079Z"
   },
   {
    "duration": 6,
    "start_time": "2022-12-14T06:48:16.091Z"
   },
   {
    "duration": 22,
    "start_time": "2022-12-14T06:48:16.099Z"
   },
   {
    "duration": 419,
    "start_time": "2022-12-14T06:48:16.123Z"
   },
   {
    "duration": 33,
    "start_time": "2022-12-14T06:48:16.544Z"
   },
   {
    "duration": 393,
    "start_time": "2022-12-14T06:48:16.579Z"
   },
   {
    "duration": 5,
    "start_time": "2022-12-14T06:48:16.974Z"
   },
   {
    "duration": 20,
    "start_time": "2022-12-14T06:48:16.981Z"
   },
   {
    "duration": 6,
    "start_time": "2022-12-14T06:48:17.003Z"
   },
   {
    "duration": 20,
    "start_time": "2022-12-14T06:48:17.015Z"
   },
   {
    "duration": 372,
    "start_time": "2022-12-14T06:48:17.036Z"
   },
   {
    "duration": 6,
    "start_time": "2022-12-14T06:48:17.410Z"
   },
   {
    "duration": 12,
    "start_time": "2022-12-14T06:48:17.417Z"
   },
   {
    "duration": 9,
    "start_time": "2022-12-14T06:48:17.431Z"
   },
   {
    "duration": 4,
    "start_time": "2022-12-14T06:48:17.442Z"
   },
   {
    "duration": 9,
    "start_time": "2022-12-14T06:48:17.447Z"
   },
   {
    "duration": 3,
    "start_time": "2022-12-14T06:48:17.457Z"
   },
   {
    "duration": 1555,
    "start_time": "2022-12-14T06:48:17.461Z"
   },
   {
    "duration": 322683,
    "start_time": "2022-12-14T06:48:19.018Z"
   },
   {
    "duration": 40,
    "start_time": "2022-12-14T06:53:41.702Z"
   },
   {
    "duration": 18,
    "start_time": "2022-12-14T06:53:41.744Z"
   },
   {
    "duration": 2,
    "start_time": "2022-12-14T06:53:41.764Z"
   },
   {
    "duration": 136,
    "start_time": "2022-12-14T06:53:41.768Z"
   },
   {
    "duration": 0,
    "start_time": "2022-12-14T06:53:41.906Z"
   },
   {
    "duration": 0,
    "start_time": "2022-12-14T06:53:41.907Z"
   },
   {
    "duration": 28,
    "start_time": "2022-12-14T06:58:41.960Z"
   },
   {
    "duration": 26,
    "start_time": "2022-12-14T06:58:54.674Z"
   },
   {
    "duration": 49,
    "start_time": "2022-12-14T09:00:19.277Z"
   },
   {
    "duration": 1665,
    "start_time": "2022-12-14T09:01:09.386Z"
   },
   {
    "duration": 2598,
    "start_time": "2022-12-14T09:01:13.370Z"
   },
   {
    "duration": 58,
    "start_time": "2022-12-14T09:01:15.969Z"
   },
   {
    "duration": 5,
    "start_time": "2022-12-14T09:01:17.514Z"
   },
   {
    "duration": 19,
    "start_time": "2022-12-14T09:01:17.805Z"
   },
   {
    "duration": 3,
    "start_time": "2022-12-14T09:01:18.108Z"
   },
   {
    "duration": 5,
    "start_time": "2022-12-14T09:01:18.409Z"
   },
   {
    "duration": 5,
    "start_time": "2022-12-14T09:01:18.721Z"
   },
   {
    "duration": 6,
    "start_time": "2022-12-14T09:01:19.097Z"
   },
   {
    "duration": 6,
    "start_time": "2022-12-14T09:01:19.919Z"
   },
   {
    "duration": 7,
    "start_time": "2022-12-14T09:01:21.606Z"
   },
   {
    "duration": 9,
    "start_time": "2022-12-14T09:01:22.528Z"
   },
   {
    "duration": 10,
    "start_time": "2022-12-14T09:01:22.824Z"
   },
   {
    "duration": 8,
    "start_time": "2022-12-14T09:01:23.112Z"
   },
   {
    "duration": 8,
    "start_time": "2022-12-14T09:01:23.612Z"
   },
   {
    "duration": 9,
    "start_time": "2022-12-14T09:01:23.666Z"
   },
   {
    "duration": 10,
    "start_time": "2022-12-14T09:01:23.707Z"
   },
   {
    "duration": 722,
    "start_time": "2022-12-14T09:01:23.719Z"
   },
   {
    "duration": 226,
    "start_time": "2022-12-14T09:01:24.443Z"
   },
   {
    "duration": 1065,
    "start_time": "2022-12-14T09:01:24.670Z"
   },
   {
    "duration": 1193,
    "start_time": "2022-12-14T09:01:25.737Z"
   },
   {
    "duration": 1202,
    "start_time": "2022-12-14T09:01:26.932Z"
   },
   {
    "duration": 7,
    "start_time": "2022-12-14T09:01:28.135Z"
   },
   {
    "duration": 713,
    "start_time": "2022-12-14T09:01:28.143Z"
   },
   {
    "duration": 6,
    "start_time": "2022-12-14T09:01:28.859Z"
   },
   {
    "duration": 706,
    "start_time": "2022-12-14T09:01:28.866Z"
   },
   {
    "duration": 428,
    "start_time": "2022-12-14T09:01:29.574Z"
   },
   {
    "duration": 335,
    "start_time": "2022-12-14T09:01:30.003Z"
   },
   {
    "duration": 5,
    "start_time": "2022-12-14T09:01:30.341Z"
   },
   {
    "duration": 34,
    "start_time": "2022-12-14T09:01:30.347Z"
   },
   {
    "duration": 6,
    "start_time": "2022-12-14T09:01:33.824Z"
   },
   {
    "duration": 7,
    "start_time": "2022-12-14T09:01:35.367Z"
   },
   {
    "duration": 463,
    "start_time": "2022-12-14T09:01:35.854Z"
   },
   {
    "duration": 33,
    "start_time": "2022-12-14T09:01:36.632Z"
   },
   {
    "duration": 363,
    "start_time": "2022-12-14T09:01:36.912Z"
   },
   {
    "duration": 6,
    "start_time": "2022-12-14T09:01:37.508Z"
   },
   {
    "duration": 7,
    "start_time": "2022-12-14T09:01:38.015Z"
   },
   {
    "duration": 6,
    "start_time": "2022-12-14T09:01:38.536Z"
   },
   {
    "duration": 27,
    "start_time": "2022-12-14T09:01:39.101Z"
   },
   {
    "duration": 353,
    "start_time": "2022-12-14T09:01:39.374Z"
   },
   {
    "duration": 4,
    "start_time": "2022-12-14T09:01:41.505Z"
   },
   {
    "duration": 9,
    "start_time": "2022-12-14T09:01:43.403Z"
   },
   {
    "duration": 2,
    "start_time": "2022-12-14T09:01:44.117Z"
   },
   {
    "duration": 2,
    "start_time": "2022-12-14T09:01:59.040Z"
   },
   {
    "duration": 7,
    "start_time": "2022-12-14T09:01:59.513Z"
   },
   {
    "duration": 2,
    "start_time": "2022-12-14T09:02:12.515Z"
   },
   {
    "duration": 1320,
    "start_time": "2022-12-14T09:02:13.177Z"
   },
   {
    "duration": 36,
    "start_time": "2022-12-14T09:02:35.478Z"
   },
   {
    "duration": 17,
    "start_time": "2022-12-14T09:02:45.083Z"
   },
   {
    "duration": 17,
    "start_time": "2022-12-14T09:02:54.870Z"
   },
   {
    "duration": 3,
    "start_time": "2022-12-14T09:02:56.687Z"
   },
   {
    "duration": 124,
    "start_time": "2022-12-14T09:08:26.475Z"
   },
   {
    "duration": 9,
    "start_time": "2022-12-14T09:14:14.864Z"
   },
   {
    "duration": 5,
    "start_time": "2022-12-14T09:14:41.841Z"
   },
   {
    "duration": 12,
    "start_time": "2022-12-14T09:15:32.707Z"
   },
   {
    "duration": 12,
    "start_time": "2022-12-14T09:18:14.470Z"
   },
   {
    "duration": 12,
    "start_time": "2022-12-14T09:18:38.495Z"
   },
   {
    "duration": 47,
    "start_time": "2022-12-14T09:18:46.743Z"
   },
   {
    "duration": 4,
    "start_time": "2022-12-14T09:18:57.926Z"
   },
   {
    "duration": 14,
    "start_time": "2022-12-14T09:19:17.282Z"
   },
   {
    "duration": 3,
    "start_time": "2022-12-14T09:19:26.991Z"
   },
   {
    "duration": 22,
    "start_time": "2022-12-14T09:19:33.639Z"
   },
   {
    "duration": 6,
    "start_time": "2022-12-14T09:19:42.966Z"
   },
   {
    "duration": 2,
    "start_time": "2022-12-14T09:19:51.928Z"
   },
   {
    "duration": 5,
    "start_time": "2022-12-14T09:20:27.825Z"
   },
   {
    "duration": 12,
    "start_time": "2022-12-14T09:20:34.401Z"
   },
   {
    "duration": 11,
    "start_time": "2022-12-14T09:20:39.817Z"
   },
   {
    "duration": 9,
    "start_time": "2022-12-14T09:20:51.024Z"
   },
   {
    "duration": 17,
    "start_time": "2022-12-14T09:20:54.410Z"
   },
   {
    "duration": 4,
    "start_time": "2022-12-14T09:21:12.121Z"
   },
   {
    "duration": 4,
    "start_time": "2022-12-14T09:21:15.459Z"
   },
   {
    "duration": 4,
    "start_time": "2022-12-14T09:21:22.818Z"
   },
   {
    "duration": 8,
    "start_time": "2022-12-14T09:21:49.266Z"
   },
   {
    "duration": 4,
    "start_time": "2022-12-14T09:21:49.487Z"
   },
   {
    "duration": 4,
    "start_time": "2022-12-14T09:21:51.529Z"
   },
   {
    "duration": 5,
    "start_time": "2022-12-14T09:21:56.071Z"
   },
   {
    "duration": 4,
    "start_time": "2022-12-14T09:21:56.506Z"
   },
   {
    "duration": 29,
    "start_time": "2022-12-14T09:32:33.520Z"
   },
   {
    "duration": 11,
    "start_time": "2022-12-14T09:32:47.481Z"
   },
   {
    "duration": 16,
    "start_time": "2022-12-14T09:34:00.270Z"
   },
   {
    "duration": 6,
    "start_time": "2022-12-14T09:34:25.168Z"
   },
   {
    "duration": 4,
    "start_time": "2022-12-14T09:34:26.897Z"
   },
   {
    "duration": 5,
    "start_time": "2022-12-14T09:34:27.721Z"
   },
   {
    "duration": 5,
    "start_time": "2022-12-14T09:35:00.870Z"
   },
   {
    "duration": 1352,
    "start_time": "2022-12-14T09:37:17.927Z"
   },
   {
    "duration": 652,
    "start_time": "2022-12-14T09:37:19.281Z"
   },
   {
    "duration": 76,
    "start_time": "2022-12-14T09:37:19.935Z"
   },
   {
    "duration": 4,
    "start_time": "2022-12-14T09:37:20.014Z"
   },
   {
    "duration": 25,
    "start_time": "2022-12-14T09:37:20.020Z"
   },
   {
    "duration": 3,
    "start_time": "2022-12-14T09:37:20.047Z"
   },
   {
    "duration": 18,
    "start_time": "2022-12-14T09:37:20.051Z"
   },
   {
    "duration": 13,
    "start_time": "2022-12-14T09:37:20.070Z"
   },
   {
    "duration": 14,
    "start_time": "2022-12-14T09:37:20.084Z"
   },
   {
    "duration": 7,
    "start_time": "2022-12-14T09:37:20.101Z"
   },
   {
    "duration": 26,
    "start_time": "2022-12-14T09:37:20.110Z"
   },
   {
    "duration": 25,
    "start_time": "2022-12-14T09:37:20.137Z"
   },
   {
    "duration": 23,
    "start_time": "2022-12-14T09:37:20.164Z"
   },
   {
    "duration": 7,
    "start_time": "2022-12-14T09:37:20.188Z"
   },
   {
    "duration": 21,
    "start_time": "2022-12-14T09:37:20.196Z"
   },
   {
    "duration": 10,
    "start_time": "2022-12-14T09:37:20.219Z"
   },
   {
    "duration": 13,
    "start_time": "2022-12-14T09:37:20.231Z"
   },
   {
    "duration": 776,
    "start_time": "2022-12-14T09:37:20.245Z"
   },
   {
    "duration": 226,
    "start_time": "2022-12-14T09:37:21.023Z"
   },
   {
    "duration": 1187,
    "start_time": "2022-12-14T09:37:21.251Z"
   },
   {
    "duration": 1202,
    "start_time": "2022-12-14T09:37:22.440Z"
   },
   {
    "duration": 1099,
    "start_time": "2022-12-14T09:37:23.644Z"
   },
   {
    "duration": 7,
    "start_time": "2022-12-14T09:37:24.745Z"
   },
   {
    "duration": 781,
    "start_time": "2022-12-14T09:37:24.754Z"
   },
   {
    "duration": 6,
    "start_time": "2022-12-14T09:37:25.536Z"
   },
   {
    "duration": 787,
    "start_time": "2022-12-14T09:37:25.544Z"
   },
   {
    "duration": 434,
    "start_time": "2022-12-14T09:37:26.332Z"
   },
   {
    "duration": 338,
    "start_time": "2022-12-14T09:37:26.770Z"
   },
   {
    "duration": 5,
    "start_time": "2022-12-14T09:37:27.109Z"
   },
   {
    "duration": 10,
    "start_time": "2022-12-14T09:37:27.115Z"
   },
   {
    "duration": 7,
    "start_time": "2022-12-14T09:37:27.127Z"
   },
   {
    "duration": 10,
    "start_time": "2022-12-14T09:37:27.135Z"
   },
   {
    "duration": 395,
    "start_time": "2022-12-14T09:37:27.147Z"
   },
   {
    "duration": 33,
    "start_time": "2022-12-14T09:37:27.544Z"
   },
   {
    "duration": 408,
    "start_time": "2022-12-14T09:37:27.579Z"
   },
   {
    "duration": 11,
    "start_time": "2022-12-14T09:37:27.988Z"
   },
   {
    "duration": 10,
    "start_time": "2022-12-14T09:37:28.000Z"
   },
   {
    "duration": 6,
    "start_time": "2022-12-14T09:37:28.012Z"
   },
   {
    "duration": 24,
    "start_time": "2022-12-14T09:37:28.019Z"
   },
   {
    "duration": 397,
    "start_time": "2022-12-14T09:37:28.044Z"
   },
   {
    "duration": 4,
    "start_time": "2022-12-14T09:37:28.443Z"
   },
   {
    "duration": 14,
    "start_time": "2022-12-14T09:37:28.449Z"
   },
   {
    "duration": 5,
    "start_time": "2022-12-14T09:37:28.464Z"
   },
   {
    "duration": 6,
    "start_time": "2022-12-14T09:37:28.470Z"
   },
   {
    "duration": 20,
    "start_time": "2022-12-14T09:37:28.478Z"
   },
   {
    "duration": 3,
    "start_time": "2022-12-14T09:37:28.500Z"
   },
   {
    "duration": 1593,
    "start_time": "2022-12-14T09:37:28.504Z"
   },
   {
    "duration": 303979,
    "start_time": "2022-12-14T09:37:30.099Z"
   },
   {
    "duration": 44,
    "start_time": "2022-12-14T09:42:34.079Z"
   },
   {
    "duration": 117,
    "start_time": "2022-12-14T09:42:34.124Z"
   },
   {
    "duration": 0,
    "start_time": "2022-12-14T09:42:34.242Z"
   },
   {
    "duration": 0,
    "start_time": "2022-12-14T09:42:34.244Z"
   },
   {
    "duration": 0,
    "start_time": "2022-12-14T09:42:34.245Z"
   },
   {
    "duration": 0,
    "start_time": "2022-12-14T09:42:34.245Z"
   },
   {
    "duration": 0,
    "start_time": "2022-12-14T09:42:34.246Z"
   },
   {
    "duration": 0,
    "start_time": "2022-12-14T09:42:34.247Z"
   },
   {
    "duration": 0,
    "start_time": "2022-12-14T09:42:34.248Z"
   },
   {
    "duration": 0,
    "start_time": "2022-12-14T09:42:34.249Z"
   },
   {
    "duration": 17,
    "start_time": "2022-12-14T09:45:07.808Z"
   },
   {
    "duration": 19,
    "start_time": "2022-12-14T09:45:18.582Z"
   },
   {
    "duration": 913,
    "start_time": "2022-12-14T09:45:55.865Z"
   },
   {
    "duration": 1032,
    "start_time": "2022-12-14T09:46:07.864Z"
   },
   {
    "duration": 5,
    "start_time": "2022-12-14T09:46:19.528Z"
   },
   {
    "duration": 17,
    "start_time": "2022-12-14T09:46:52.777Z"
   },
   {
    "duration": 13,
    "start_time": "2022-12-14T09:46:53.612Z"
   },
   {
    "duration": 4,
    "start_time": "2022-12-14T09:48:20.915Z"
   },
   {
    "duration": 5,
    "start_time": "2022-12-14T09:48:30.541Z"
   },
   {
    "duration": 4,
    "start_time": "2022-12-14T09:48:33.850Z"
   },
   {
    "duration": 3,
    "start_time": "2022-12-14T09:48:34.267Z"
   },
   {
    "duration": 17,
    "start_time": "2022-12-14T09:49:50.476Z"
   },
   {
    "duration": 42,
    "start_time": "2022-12-14T10:07:04.060Z"
   },
   {
    "duration": 10,
    "start_time": "2022-12-14T10:07:12.011Z"
   },
   {
    "duration": 9,
    "start_time": "2022-12-14T10:07:17.323Z"
   },
   {
    "duration": 1631,
    "start_time": "2022-12-14T10:10:30.271Z"
   },
   {
    "duration": 1374,
    "start_time": "2022-12-14T10:10:43.847Z"
   },
   {
    "duration": 685,
    "start_time": "2022-12-14T10:10:45.223Z"
   },
   {
    "duration": 67,
    "start_time": "2022-12-14T10:10:45.910Z"
   },
   {
    "duration": 5,
    "start_time": "2022-12-14T10:10:45.995Z"
   },
   {
    "duration": 27,
    "start_time": "2022-12-14T10:10:46.002Z"
   },
   {
    "duration": 4,
    "start_time": "2022-12-14T10:10:46.030Z"
   },
   {
    "duration": 11,
    "start_time": "2022-12-14T10:10:46.036Z"
   },
   {
    "duration": 17,
    "start_time": "2022-12-14T10:10:46.049Z"
   },
   {
    "duration": 15,
    "start_time": "2022-12-14T10:10:46.069Z"
   },
   {
    "duration": 16,
    "start_time": "2022-12-14T10:10:46.096Z"
   },
   {
    "duration": 23,
    "start_time": "2022-12-14T10:10:46.114Z"
   },
   {
    "duration": 24,
    "start_time": "2022-12-14T10:10:46.140Z"
   },
   {
    "duration": 16,
    "start_time": "2022-12-14T10:10:46.166Z"
   },
   {
    "duration": 20,
    "start_time": "2022-12-14T10:10:46.185Z"
   },
   {
    "duration": 10,
    "start_time": "2022-12-14T10:10:46.208Z"
   },
   {
    "duration": 10,
    "start_time": "2022-12-14T10:10:46.220Z"
   },
   {
    "duration": 13,
    "start_time": "2022-12-14T10:10:46.232Z"
   },
   {
    "duration": 757,
    "start_time": "2022-12-14T10:10:46.247Z"
   },
   {
    "duration": 222,
    "start_time": "2022-12-14T10:10:47.006Z"
   },
   {
    "duration": 1100,
    "start_time": "2022-12-14T10:10:47.229Z"
   },
   {
    "duration": 1325,
    "start_time": "2022-12-14T10:10:48.330Z"
   },
   {
    "duration": 1321,
    "start_time": "2022-12-14T10:10:49.657Z"
   },
   {
    "duration": 5,
    "start_time": "2022-12-14T10:10:50.980Z"
   },
   {
    "duration": 740,
    "start_time": "2022-12-14T10:10:50.996Z"
   },
   {
    "duration": 5,
    "start_time": "2022-12-14T10:10:51.738Z"
   },
   {
    "duration": 675,
    "start_time": "2022-12-14T10:10:51.744Z"
   },
   {
    "duration": 419,
    "start_time": "2022-12-14T10:10:52.421Z"
   },
   {
    "duration": 353,
    "start_time": "2022-12-14T10:10:52.843Z"
   },
   {
    "duration": 5,
    "start_time": "2022-12-14T10:10:53.198Z"
   },
   {
    "duration": 19,
    "start_time": "2022-12-14T10:10:53.204Z"
   },
   {
    "duration": 9,
    "start_time": "2022-12-14T10:10:53.225Z"
   },
   {
    "duration": 13,
    "start_time": "2022-12-14T10:10:53.236Z"
   },
   {
    "duration": 400,
    "start_time": "2022-12-14T10:10:53.251Z"
   },
   {
    "duration": 48,
    "start_time": "2022-12-14T10:10:53.654Z"
   },
   {
    "duration": 433,
    "start_time": "2022-12-14T10:10:53.704Z"
   },
   {
    "duration": 6,
    "start_time": "2022-12-14T10:10:54.139Z"
   },
   {
    "duration": 23,
    "start_time": "2022-12-14T10:10:54.147Z"
   },
   {
    "duration": 8,
    "start_time": "2022-12-14T10:10:54.172Z"
   },
   {
    "duration": 29,
    "start_time": "2022-12-14T10:10:54.182Z"
   },
   {
    "duration": 381,
    "start_time": "2022-12-14T10:10:54.213Z"
   },
   {
    "duration": 4,
    "start_time": "2022-12-14T10:10:54.595Z"
   },
   {
    "duration": 12,
    "start_time": "2022-12-14T10:10:54.600Z"
   },
   {
    "duration": 8,
    "start_time": "2022-12-14T10:10:54.613Z"
   },
   {
    "duration": 6,
    "start_time": "2022-12-14T10:10:54.622Z"
   },
   {
    "duration": 4,
    "start_time": "2022-12-14T10:10:54.629Z"
   },
   {
    "duration": 155,
    "start_time": "2022-12-14T10:10:54.635Z"
   },
   {
    "duration": 50,
    "start_time": "2022-12-14T10:10:54.793Z"
   },
   {
    "duration": 58,
    "start_time": "2022-12-14T10:10:54.845Z"
   },
   {
    "duration": 10,
    "start_time": "2022-12-14T10:10:54.904Z"
   },
   {
    "duration": 0,
    "start_time": "2022-12-14T10:10:54.916Z"
   },
   {
    "duration": 0,
    "start_time": "2022-12-14T10:10:54.917Z"
   },
   {
    "duration": 0,
    "start_time": "2022-12-14T10:10:54.918Z"
   },
   {
    "duration": 0,
    "start_time": "2022-12-14T10:10:54.919Z"
   },
   {
    "duration": 0,
    "start_time": "2022-12-14T10:10:54.920Z"
   },
   {
    "duration": 0,
    "start_time": "2022-12-14T10:10:54.921Z"
   },
   {
    "duration": 0,
    "start_time": "2022-12-14T10:10:54.923Z"
   },
   {
    "duration": 0,
    "start_time": "2022-12-14T10:10:54.924Z"
   },
   {
    "duration": 0,
    "start_time": "2022-12-14T10:10:54.925Z"
   },
   {
    "duration": 0,
    "start_time": "2022-12-14T10:10:54.926Z"
   },
   {
    "duration": 51,
    "start_time": "2022-12-14T10:11:56.076Z"
   },
   {
    "duration": 292,
    "start_time": "2022-12-14T10:12:06.834Z"
   },
   {
    "duration": 1275,
    "start_time": "2022-12-14T10:12:28.026Z"
   },
   {
    "duration": 59002,
    "start_time": "2022-12-14T10:15:47.239Z"
   },
   {
    "duration": 61247,
    "start_time": "2022-12-14T10:22:46.335Z"
   },
   {
    "duration": 14,
    "start_time": "2022-12-14T10:38:59.092Z"
   },
   {
    "duration": 387,
    "start_time": "2022-12-14T10:47:53.328Z"
   },
   {
    "duration": 11,
    "start_time": "2022-12-14T10:51:10.723Z"
   },
   {
    "duration": 15,
    "start_time": "2022-12-14T10:51:39.771Z"
   },
   {
    "duration": 4,
    "start_time": "2022-12-14T10:51:52.420Z"
   },
   {
    "duration": 3,
    "start_time": "2022-12-14T10:52:02.388Z"
   },
   {
    "duration": 24,
    "start_time": "2022-12-14T10:53:34.270Z"
   },
   {
    "duration": 1407,
    "start_time": "2022-12-14T10:54:01.641Z"
   },
   {
    "duration": 673,
    "start_time": "2022-12-14T10:54:03.050Z"
   },
   {
    "duration": 73,
    "start_time": "2022-12-14T10:54:03.725Z"
   },
   {
    "duration": 4,
    "start_time": "2022-12-14T10:54:03.800Z"
   },
   {
    "duration": 22,
    "start_time": "2022-12-14T10:54:03.806Z"
   },
   {
    "duration": 3,
    "start_time": "2022-12-14T10:54:03.830Z"
   },
   {
    "duration": 8,
    "start_time": "2022-12-14T10:54:03.834Z"
   },
   {
    "duration": 6,
    "start_time": "2022-12-14T10:54:03.843Z"
   },
   {
    "duration": 12,
    "start_time": "2022-12-14T10:54:03.851Z"
   },
   {
    "duration": 5,
    "start_time": "2022-12-14T10:54:03.865Z"
   },
   {
    "duration": 31,
    "start_time": "2022-12-14T10:54:03.871Z"
   },
   {
    "duration": 12,
    "start_time": "2022-12-14T10:54:03.904Z"
   },
   {
    "duration": 10,
    "start_time": "2022-12-14T10:54:03.918Z"
   },
   {
    "duration": 6,
    "start_time": "2022-12-14T10:54:03.930Z"
   },
   {
    "duration": 19,
    "start_time": "2022-12-14T10:54:03.938Z"
   },
   {
    "duration": 37,
    "start_time": "2022-12-14T10:54:03.959Z"
   },
   {
    "duration": 11,
    "start_time": "2022-12-14T10:54:03.998Z"
   },
   {
    "duration": 723,
    "start_time": "2022-12-14T10:54:04.011Z"
   },
   {
    "duration": 230,
    "start_time": "2022-12-14T10:54:04.736Z"
   },
   {
    "duration": 1217,
    "start_time": "2022-12-14T10:54:04.967Z"
   },
   {
    "duration": 1150,
    "start_time": "2022-12-14T10:54:06.186Z"
   },
   {
    "duration": 1114,
    "start_time": "2022-12-14T10:54:07.337Z"
   },
   {
    "duration": 8,
    "start_time": "2022-12-14T10:54:08.452Z"
   },
   {
    "duration": 737,
    "start_time": "2022-12-14T10:54:08.462Z"
   },
   {
    "duration": 6,
    "start_time": "2022-12-14T10:54:09.200Z"
   },
   {
    "duration": 646,
    "start_time": "2022-12-14T10:54:09.208Z"
   },
   {
    "duration": 410,
    "start_time": "2022-12-14T10:54:09.856Z"
   },
   {
    "duration": 327,
    "start_time": "2022-12-14T10:54:10.271Z"
   },
   {
    "duration": 3,
    "start_time": "2022-12-14T10:54:10.600Z"
   },
   {
    "duration": 7,
    "start_time": "2022-12-14T10:54:10.605Z"
   },
   {
    "duration": 17,
    "start_time": "2022-12-14T10:54:10.614Z"
   },
   {
    "duration": 22,
    "start_time": "2022-12-14T10:54:10.633Z"
   },
   {
    "duration": 376,
    "start_time": "2022-12-14T10:54:10.657Z"
   },
   {
    "duration": 34,
    "start_time": "2022-12-14T10:54:11.035Z"
   },
   {
    "duration": 380,
    "start_time": "2022-12-14T10:54:11.071Z"
   },
   {
    "duration": 5,
    "start_time": "2022-12-14T10:54:11.453Z"
   },
   {
    "duration": 7,
    "start_time": "2022-12-14T10:54:11.460Z"
   },
   {
    "duration": 7,
    "start_time": "2022-12-14T10:54:11.469Z"
   },
   {
    "duration": 37,
    "start_time": "2022-12-14T10:54:11.478Z"
   },
   {
    "duration": 376,
    "start_time": "2022-12-14T10:54:11.517Z"
   },
   {
    "duration": 4,
    "start_time": "2022-12-14T10:54:11.895Z"
   },
   {
    "duration": 6,
    "start_time": "2022-12-14T10:54:11.900Z"
   },
   {
    "duration": 139,
    "start_time": "2022-12-14T10:54:11.908Z"
   },
   {
    "duration": 0,
    "start_time": "2022-12-14T10:54:12.049Z"
   },
   {
    "duration": 0,
    "start_time": "2022-12-14T10:54:12.050Z"
   },
   {
    "duration": 0,
    "start_time": "2022-12-14T10:54:12.051Z"
   },
   {
    "duration": 0,
    "start_time": "2022-12-14T10:54:12.052Z"
   },
   {
    "duration": 0,
    "start_time": "2022-12-14T10:54:12.053Z"
   },
   {
    "duration": 0,
    "start_time": "2022-12-14T10:54:12.054Z"
   },
   {
    "duration": 0,
    "start_time": "2022-12-14T10:54:12.055Z"
   },
   {
    "duration": 0,
    "start_time": "2022-12-14T10:54:12.057Z"
   },
   {
    "duration": 0,
    "start_time": "2022-12-14T10:54:12.057Z"
   },
   {
    "duration": 0,
    "start_time": "2022-12-14T10:54:12.059Z"
   },
   {
    "duration": 0,
    "start_time": "2022-12-14T10:54:12.059Z"
   },
   {
    "duration": 0,
    "start_time": "2022-12-14T10:54:12.061Z"
   },
   {
    "duration": 0,
    "start_time": "2022-12-14T10:54:12.062Z"
   },
   {
    "duration": 0,
    "start_time": "2022-12-14T10:54:12.063Z"
   },
   {
    "duration": 0,
    "start_time": "2022-12-14T10:54:12.064Z"
   },
   {
    "duration": 0,
    "start_time": "2022-12-14T10:54:12.065Z"
   },
   {
    "duration": 0,
    "start_time": "2022-12-14T10:54:12.066Z"
   },
   {
    "duration": 11,
    "start_time": "2022-12-14T10:59:53.582Z"
   },
   {
    "duration": 51,
    "start_time": "2022-12-14T11:01:11.001Z"
   },
   {
    "duration": 58,
    "start_time": "2022-12-14T11:01:15.409Z"
   },
   {
    "duration": 54,
    "start_time": "2022-12-14T11:01:17.985Z"
   },
   {
    "duration": 7,
    "start_time": "2022-12-14T11:01:57.457Z"
   },
   {
    "duration": 47,
    "start_time": "2022-12-14T11:01:58.728Z"
   },
   {
    "duration": 1132,
    "start_time": "2022-12-14T11:02:09.466Z"
   },
   {
    "duration": 1313,
    "start_time": "2022-12-14T11:07:39.585Z"
   },
   {
    "duration": 11,
    "start_time": "2022-12-14T11:07:48.057Z"
   },
   {
    "duration": 3,
    "start_time": "2022-12-14T11:07:56.674Z"
   },
   {
    "duration": 9,
    "start_time": "2022-12-14T11:08:39.362Z"
   },
   {
    "duration": 10,
    "start_time": "2022-12-14T11:08:50.778Z"
   },
   {
    "duration": 1495,
    "start_time": "2022-12-14T11:08:54.003Z"
   },
   {
    "duration": 8,
    "start_time": "2022-12-14T11:09:20.018Z"
   },
   {
    "duration": 1169,
    "start_time": "2022-12-14T11:09:23.734Z"
   },
   {
    "duration": 11,
    "start_time": "2022-12-14T11:09:27.554Z"
   },
   {
    "duration": 5,
    "start_time": "2022-12-14T11:09:34.178Z"
   },
   {
    "duration": 11,
    "start_time": "2022-12-14T11:09:51.570Z"
   },
   {
    "duration": 9,
    "start_time": "2022-12-14T11:09:56.580Z"
   },
   {
    "duration": 8,
    "start_time": "2022-12-14T11:11:16.430Z"
   },
   {
    "duration": 1054,
    "start_time": "2022-12-14T11:11:23.150Z"
   },
   {
    "duration": 9,
    "start_time": "2022-12-14T11:12:12.494Z"
   },
   {
    "duration": 1337,
    "start_time": "2022-12-14T11:12:14.574Z"
   },
   {
    "duration": 10,
    "start_time": "2022-12-14T11:13:00.240Z"
   },
   {
    "duration": 13,
    "start_time": "2022-12-14T11:13:57.777Z"
   },
   {
    "duration": 3,
    "start_time": "2022-12-14T11:15:00.821Z"
   },
   {
    "duration": 5,
    "start_time": "2022-12-14T11:15:16.540Z"
   },
   {
    "duration": 893,
    "start_time": "2022-12-14T11:17:25.830Z"
   },
   {
    "duration": 880,
    "start_time": "2022-12-14T11:17:32.574Z"
   },
   {
    "duration": 792,
    "start_time": "2022-12-14T11:17:38.429Z"
   },
   {
    "duration": 1017,
    "start_time": "2022-12-14T11:17:42.965Z"
   },
   {
    "duration": 1012,
    "start_time": "2022-12-14T11:17:49.382Z"
   },
   {
    "duration": 8,
    "start_time": "2022-12-14T11:18:44.392Z"
   },
   {
    "duration": 17,
    "start_time": "2022-12-14T11:18:55.126Z"
   },
   {
    "duration": 8,
    "start_time": "2022-12-14T11:19:45.880Z"
   },
   {
    "duration": 8,
    "start_time": "2022-12-14T11:19:51.576Z"
   },
   {
    "duration": 969,
    "start_time": "2022-12-14T11:19:53.528Z"
   },
   {
    "duration": 9,
    "start_time": "2022-12-14T11:19:58.145Z"
   },
   {
    "duration": 10667,
    "start_time": "2022-12-14T11:20:07.394Z"
   },
   {
    "duration": 216272,
    "start_time": "2022-12-14T11:21:04.395Z"
   },
   {
    "duration": 35,
    "start_time": "2022-12-14T11:25:09.503Z"
   },
   {
    "duration": 9,
    "start_time": "2022-12-14T11:25:13.079Z"
   },
   {
    "duration": 18,
    "start_time": "2022-12-14T11:25:31.865Z"
   },
   {
    "duration": 5,
    "start_time": "2022-12-14T11:27:33.011Z"
   },
   {
    "duration": 4,
    "start_time": "2022-12-14T11:28:02.786Z"
   },
   {
    "duration": 4,
    "start_time": "2022-12-14T11:28:03.386Z"
   },
   {
    "duration": 9,
    "start_time": "2022-12-14T11:29:42.020Z"
   },
   {
    "duration": 3,
    "start_time": "2022-12-14T11:32:20.969Z"
   },
   {
    "duration": 4,
    "start_time": "2022-12-14T11:32:30.032Z"
   },
   {
    "duration": 252,
    "start_time": "2022-12-14T11:33:56.474Z"
   },
   {
    "duration": 15,
    "start_time": "2022-12-14T11:34:35.778Z"
   },
   {
    "duration": 13,
    "start_time": "2022-12-14T11:34:36.435Z"
   },
   {
    "duration": 16,
    "start_time": "2022-12-14T11:34:52.740Z"
   },
   {
    "duration": 6,
    "start_time": "2022-12-14T11:34:53.076Z"
   },
   {
    "duration": 5,
    "start_time": "2022-12-14T11:34:55.683Z"
   },
   {
    "duration": 3,
    "start_time": "2022-12-14T11:36:31.079Z"
   },
   {
    "duration": 12,
    "start_time": "2022-12-14T11:36:36.550Z"
   },
   {
    "duration": 11,
    "start_time": "2022-12-14T11:36:44.454Z"
   },
   {
    "duration": 12,
    "start_time": "2022-12-14T11:36:52.438Z"
   },
   {
    "duration": 17,
    "start_time": "2022-12-14T11:43:10.645Z"
   },
   {
    "duration": 11,
    "start_time": "2022-12-14T11:43:10.990Z"
   },
   {
    "duration": 16,
    "start_time": "2022-12-14T11:43:42.160Z"
   },
   {
    "duration": 6,
    "start_time": "2022-12-14T11:43:43.526Z"
   },
   {
    "duration": 5,
    "start_time": "2022-12-14T11:43:53.847Z"
   },
   {
    "duration": 13,
    "start_time": "2022-12-14T11:44:09.079Z"
   },
   {
    "duration": 11,
    "start_time": "2022-12-14T11:44:09.656Z"
   },
   {
    "duration": 21,
    "start_time": "2022-12-14T11:44:14.104Z"
   },
   {
    "duration": 20,
    "start_time": "2022-12-14T11:44:18.000Z"
   },
   {
    "duration": 1407,
    "start_time": "2022-12-14T11:44:26.506Z"
   },
   {
    "duration": 693,
    "start_time": "2022-12-14T11:44:27.915Z"
   },
   {
    "duration": 99,
    "start_time": "2022-12-14T11:44:28.610Z"
   },
   {
    "duration": 6,
    "start_time": "2022-12-14T11:44:28.712Z"
   },
   {
    "duration": 23,
    "start_time": "2022-12-14T11:44:28.720Z"
   },
   {
    "duration": 4,
    "start_time": "2022-12-14T11:44:28.744Z"
   },
   {
    "duration": 12,
    "start_time": "2022-12-14T11:44:28.749Z"
   },
   {
    "duration": 7,
    "start_time": "2022-12-14T11:44:28.763Z"
   },
   {
    "duration": 28,
    "start_time": "2022-12-14T11:44:28.772Z"
   },
   {
    "duration": 10,
    "start_time": "2022-12-14T11:44:28.803Z"
   },
   {
    "duration": 7,
    "start_time": "2022-12-14T11:44:28.815Z"
   },
   {
    "duration": 11,
    "start_time": "2022-12-14T11:44:28.824Z"
   },
   {
    "duration": 14,
    "start_time": "2022-12-14T11:44:28.836Z"
   },
   {
    "duration": 5,
    "start_time": "2022-12-14T11:44:28.852Z"
   },
   {
    "duration": 19,
    "start_time": "2022-12-14T11:44:28.859Z"
   },
   {
    "duration": 26,
    "start_time": "2022-12-14T11:44:28.880Z"
   },
   {
    "duration": 12,
    "start_time": "2022-12-14T11:44:28.908Z"
   },
   {
    "duration": 744,
    "start_time": "2022-12-14T11:44:28.922Z"
   },
   {
    "duration": 238,
    "start_time": "2022-12-14T11:44:29.667Z"
   },
   {
    "duration": 1132,
    "start_time": "2022-12-14T11:44:29.907Z"
   },
   {
    "duration": 1190,
    "start_time": "2022-12-14T11:44:31.041Z"
   },
   {
    "duration": 1093,
    "start_time": "2022-12-14T11:44:32.232Z"
   },
   {
    "duration": 7,
    "start_time": "2022-12-14T11:44:33.326Z"
   },
   {
    "duration": 699,
    "start_time": "2022-12-14T11:44:33.334Z"
   },
   {
    "duration": 6,
    "start_time": "2022-12-14T11:44:34.035Z"
   },
   {
    "duration": 625,
    "start_time": "2022-12-14T11:44:34.042Z"
   },
   {
    "duration": 403,
    "start_time": "2022-12-14T11:44:34.669Z"
   },
   {
    "duration": 321,
    "start_time": "2022-12-14T11:44:35.075Z"
   },
   {
    "duration": 4,
    "start_time": "2022-12-14T11:44:35.398Z"
   },
   {
    "duration": 8,
    "start_time": "2022-12-14T11:44:35.404Z"
   },
   {
    "duration": 7,
    "start_time": "2022-12-14T11:44:35.413Z"
   },
   {
    "duration": 5,
    "start_time": "2022-12-14T11:44:35.422Z"
   },
   {
    "duration": 403,
    "start_time": "2022-12-14T11:44:35.428Z"
   },
   {
    "duration": 35,
    "start_time": "2022-12-14T11:44:35.833Z"
   },
   {
    "duration": 442,
    "start_time": "2022-12-14T11:44:35.870Z"
   },
   {
    "duration": 7,
    "start_time": "2022-12-14T11:44:36.313Z"
   },
   {
    "duration": 11,
    "start_time": "2022-12-14T11:44:36.321Z"
   },
   {
    "duration": 6,
    "start_time": "2022-12-14T11:44:36.334Z"
   },
   {
    "duration": 23,
    "start_time": "2022-12-14T11:44:36.341Z"
   },
   {
    "duration": 385,
    "start_time": "2022-12-14T11:44:36.366Z"
   },
   {
    "duration": 3,
    "start_time": "2022-12-14T11:44:36.753Z"
   },
   {
    "duration": 22,
    "start_time": "2022-12-14T11:44:36.758Z"
   },
   {
    "duration": 11,
    "start_time": "2022-12-14T11:44:36.781Z"
   },
   {
    "duration": 1005,
    "start_time": "2022-12-14T11:44:36.793Z"
   },
   {
    "duration": 221083,
    "start_time": "2022-12-14T11:44:37.799Z"
   },
   {
    "duration": 39,
    "start_time": "2022-12-14T11:48:18.884Z"
   },
   {
    "duration": 25,
    "start_time": "2022-12-14T11:48:18.925Z"
   },
   {
    "duration": 6,
    "start_time": "2022-12-14T11:48:18.951Z"
   },
   {
    "duration": 31,
    "start_time": "2022-12-14T11:48:18.959Z"
   },
   {
    "duration": 17,
    "start_time": "2022-12-14T11:48:18.992Z"
   },
   {
    "duration": 13,
    "start_time": "2022-12-14T11:48:19.011Z"
   },
   {
    "duration": 248,
    "start_time": "2022-12-14T11:48:19.027Z"
   },
   {
    "duration": 3,
    "start_time": "2022-12-14T11:48:19.277Z"
   },
   {
    "duration": 146,
    "start_time": "2022-12-14T11:48:19.295Z"
   },
   {
    "duration": 4,
    "start_time": "2022-12-14T11:51:37.865Z"
   },
   {
    "duration": 4,
    "start_time": "2022-12-14T11:51:48.442Z"
   },
   {
    "duration": 2,
    "start_time": "2022-12-14T12:09:06.425Z"
   },
   {
    "duration": 3,
    "start_time": "2022-12-14T12:09:07.590Z"
   },
   {
    "duration": 6,
    "start_time": "2022-12-14T12:09:39.024Z"
   },
   {
    "duration": 1501,
    "start_time": "2022-12-14T12:09:57.995Z"
   },
   {
    "duration": 1102,
    "start_time": "2022-12-14T12:09:59.498Z"
   },
   {
    "duration": 199,
    "start_time": "2022-12-14T12:10:00.602Z"
   },
   {
    "duration": 6,
    "start_time": "2022-12-14T12:10:00.803Z"
   },
   {
    "duration": 104,
    "start_time": "2022-12-14T12:10:00.810Z"
   },
   {
    "duration": 4,
    "start_time": "2022-12-14T12:10:00.916Z"
   },
   {
    "duration": 28,
    "start_time": "2022-12-14T12:10:00.922Z"
   },
   {
    "duration": 56,
    "start_time": "2022-12-14T12:10:00.953Z"
   },
   {
    "duration": 87,
    "start_time": "2022-12-14T12:10:01.011Z"
   },
   {
    "duration": 21,
    "start_time": "2022-12-14T12:10:01.102Z"
   },
   {
    "duration": 31,
    "start_time": "2022-12-14T12:10:01.124Z"
   },
   {
    "duration": 49,
    "start_time": "2022-12-14T12:10:01.157Z"
   },
   {
    "duration": 20,
    "start_time": "2022-12-14T12:10:01.208Z"
   },
   {
    "duration": 68,
    "start_time": "2022-12-14T12:10:01.229Z"
   },
   {
    "duration": 8,
    "start_time": "2022-12-14T12:10:01.299Z"
   },
   {
    "duration": 44,
    "start_time": "2022-12-14T12:10:01.308Z"
   },
   {
    "duration": 16,
    "start_time": "2022-12-14T12:10:01.395Z"
   },
   {
    "duration": 917,
    "start_time": "2022-12-14T12:10:01.414Z"
   },
   {
    "duration": 241,
    "start_time": "2022-12-14T12:10:02.334Z"
   },
   {
    "duration": 1080,
    "start_time": "2022-12-14T12:10:02.576Z"
   },
   {
    "duration": 1502,
    "start_time": "2022-12-14T12:10:03.658Z"
   },
   {
    "duration": 1141,
    "start_time": "2022-12-14T12:10:05.162Z"
   },
   {
    "duration": 8,
    "start_time": "2022-12-14T12:10:06.306Z"
   },
   {
    "duration": 768,
    "start_time": "2022-12-14T12:10:06.318Z"
   },
   {
    "duration": 12,
    "start_time": "2022-12-14T12:10:07.088Z"
   },
   {
    "duration": 641,
    "start_time": "2022-12-14T12:10:07.102Z"
   },
   {
    "duration": 412,
    "start_time": "2022-12-14T12:10:07.744Z"
   },
   {
    "duration": 318,
    "start_time": "2022-12-14T12:10:08.159Z"
   },
   {
    "duration": 4,
    "start_time": "2022-12-14T12:10:08.478Z"
   },
   {
    "duration": 21,
    "start_time": "2022-12-14T12:10:08.483Z"
   },
   {
    "duration": 6,
    "start_time": "2022-12-14T12:10:08.506Z"
   },
   {
    "duration": 5,
    "start_time": "2022-12-14T12:10:08.514Z"
   },
   {
    "duration": 395,
    "start_time": "2022-12-14T12:10:08.521Z"
   },
   {
    "duration": 37,
    "start_time": "2022-12-14T12:10:08.918Z"
   },
   {
    "duration": 384,
    "start_time": "2022-12-14T12:10:08.957Z"
   },
   {
    "duration": 6,
    "start_time": "2022-12-14T12:10:09.343Z"
   },
   {
    "duration": 6,
    "start_time": "2022-12-14T12:10:09.350Z"
   },
   {
    "duration": 6,
    "start_time": "2022-12-14T12:10:09.358Z"
   },
   {
    "duration": 39,
    "start_time": "2022-12-14T12:10:09.366Z"
   },
   {
    "duration": 376,
    "start_time": "2022-12-14T12:10:09.406Z"
   },
   {
    "duration": 3,
    "start_time": "2022-12-14T12:10:09.784Z"
   },
   {
    "duration": 16,
    "start_time": "2022-12-14T12:10:09.789Z"
   },
   {
    "duration": 9,
    "start_time": "2022-12-14T12:10:09.807Z"
   },
   {
    "duration": 2091,
    "start_time": "2022-12-14T12:10:09.818Z"
   },
   {
    "duration": 305286,
    "start_time": "2022-12-14T12:10:11.912Z"
   },
   {
    "duration": 36,
    "start_time": "2022-12-14T12:15:17.199Z"
   },
   {
    "duration": 18,
    "start_time": "2022-12-14T12:15:17.237Z"
   },
   {
    "duration": 5,
    "start_time": "2022-12-14T12:15:17.257Z"
   },
   {
    "duration": 9,
    "start_time": "2022-12-14T12:15:17.264Z"
   },
   {
    "duration": 23,
    "start_time": "2022-12-14T12:15:17.274Z"
   },
   {
    "duration": 31,
    "start_time": "2022-12-14T12:15:17.299Z"
   },
   {
    "duration": 110,
    "start_time": "2022-12-14T12:15:17.332Z"
   },
   {
    "duration": 0,
    "start_time": "2022-12-14T12:15:17.443Z"
   },
   {
    "duration": 0,
    "start_time": "2022-12-14T12:15:17.445Z"
   },
   {
    "duration": 0,
    "start_time": "2022-12-14T12:15:17.445Z"
   },
   {
    "duration": 3,
    "start_time": "2022-12-14T12:18:25.554Z"
   },
   {
    "duration": 218,
    "start_time": "2022-12-14T12:18:26.546Z"
   },
   {
    "duration": 3,
    "start_time": "2022-12-14T12:18:27.874Z"
   },
   {
    "duration": 132,
    "start_time": "2022-12-14T12:18:29.211Z"
   },
   {
    "duration": 3,
    "start_time": "2022-12-14T12:18:44.162Z"
   },
   {
    "duration": 4,
    "start_time": "2022-12-14T12:18:48.451Z"
   },
   {
    "duration": 1501,
    "start_time": "2022-12-14T12:23:54.934Z"
   },
   {
    "duration": 725,
    "start_time": "2022-12-14T12:23:56.437Z"
   },
   {
    "duration": 70,
    "start_time": "2022-12-14T12:23:57.164Z"
   },
   {
    "duration": 5,
    "start_time": "2022-12-14T12:23:57.236Z"
   },
   {
    "duration": 26,
    "start_time": "2022-12-14T12:23:57.242Z"
   },
   {
    "duration": 3,
    "start_time": "2022-12-14T12:23:57.270Z"
   },
   {
    "duration": 27,
    "start_time": "2022-12-14T12:23:57.274Z"
   },
   {
    "duration": 9,
    "start_time": "2022-12-14T12:23:57.303Z"
   },
   {
    "duration": 7,
    "start_time": "2022-12-14T12:23:57.314Z"
   },
   {
    "duration": 5,
    "start_time": "2022-12-14T12:23:57.323Z"
   },
   {
    "duration": 8,
    "start_time": "2022-12-14T12:23:57.330Z"
   },
   {
    "duration": 13,
    "start_time": "2022-12-14T12:23:57.340Z"
   },
   {
    "duration": 44,
    "start_time": "2022-12-14T12:23:57.355Z"
   },
   {
    "duration": 6,
    "start_time": "2022-12-14T12:23:57.401Z"
   },
   {
    "duration": 12,
    "start_time": "2022-12-14T12:23:57.409Z"
   },
   {
    "duration": 11,
    "start_time": "2022-12-14T12:23:57.423Z"
   },
   {
    "duration": 13,
    "start_time": "2022-12-14T12:23:57.436Z"
   },
   {
    "duration": 774,
    "start_time": "2022-12-14T12:23:57.451Z"
   },
   {
    "duration": 230,
    "start_time": "2022-12-14T12:23:58.227Z"
   },
   {
    "duration": 1193,
    "start_time": "2022-12-14T12:23:58.459Z"
   },
   {
    "duration": 1181,
    "start_time": "2022-12-14T12:23:59.654Z"
   },
   {
    "duration": 1107,
    "start_time": "2022-12-14T12:24:00.837Z"
   },
   {
    "duration": 6,
    "start_time": "2022-12-14T12:24:01.948Z"
   },
   {
    "duration": 710,
    "start_time": "2022-12-14T12:24:01.956Z"
   },
   {
    "duration": 5,
    "start_time": "2022-12-14T12:24:02.668Z"
   },
   {
    "duration": 645,
    "start_time": "2022-12-14T12:24:02.674Z"
   },
   {
    "duration": 413,
    "start_time": "2022-12-14T12:24:03.320Z"
   },
   {
    "duration": 336,
    "start_time": "2022-12-14T12:24:03.734Z"
   },
   {
    "duration": 5,
    "start_time": "2022-12-14T12:24:04.071Z"
   },
   {
    "duration": 19,
    "start_time": "2022-12-14T12:24:04.077Z"
   },
   {
    "duration": 6,
    "start_time": "2022-12-14T12:24:04.098Z"
   },
   {
    "duration": 14,
    "start_time": "2022-12-14T12:24:04.105Z"
   },
   {
    "duration": 378,
    "start_time": "2022-12-14T12:24:04.121Z"
   },
   {
    "duration": 36,
    "start_time": "2022-12-14T12:24:04.501Z"
   },
   {
    "duration": 388,
    "start_time": "2022-12-14T12:24:04.539Z"
   },
   {
    "duration": 5,
    "start_time": "2022-12-14T12:24:04.929Z"
   },
   {
    "duration": 7,
    "start_time": "2022-12-14T12:24:04.937Z"
   },
   {
    "duration": 10,
    "start_time": "2022-12-14T12:24:04.946Z"
   },
   {
    "duration": 37,
    "start_time": "2022-12-14T12:24:04.959Z"
   },
   {
    "duration": 391,
    "start_time": "2022-12-14T12:24:04.998Z"
   },
   {
    "duration": 3,
    "start_time": "2022-12-14T12:24:05.391Z"
   },
   {
    "duration": 13,
    "start_time": "2022-12-14T12:24:05.396Z"
   },
   {
    "duration": 8,
    "start_time": "2022-12-14T12:24:05.411Z"
   },
   {
    "duration": 1387,
    "start_time": "2022-12-14T12:24:05.421Z"
   },
   {
    "duration": 303886,
    "start_time": "2022-12-14T12:24:06.810Z"
   },
   {
    "duration": 36,
    "start_time": "2022-12-14T12:29:10.698Z"
   },
   {
    "duration": 19,
    "start_time": "2022-12-14T12:29:10.736Z"
   },
   {
    "duration": 5,
    "start_time": "2022-12-14T12:29:10.756Z"
   },
   {
    "duration": 8,
    "start_time": "2022-12-14T12:29:10.762Z"
   },
   {
    "duration": 26,
    "start_time": "2022-12-14T12:29:10.771Z"
   },
   {
    "duration": 2,
    "start_time": "2022-12-14T12:29:10.799Z"
   },
   {
    "duration": 248,
    "start_time": "2022-12-14T12:29:10.802Z"
   },
   {
    "duration": 3,
    "start_time": "2022-12-14T12:29:11.051Z"
   },
   {
    "duration": 6,
    "start_time": "2022-12-14T12:29:11.056Z"
   },
   {
    "duration": 162,
    "start_time": "2022-12-14T12:29:11.064Z"
   },
   {
    "duration": 247,
    "start_time": "2022-12-14T12:30:04.281Z"
   }
  ],
  "kernelspec": {
   "display_name": "Python 3 (ipykernel)",
   "language": "python",
   "name": "python3"
  },
  "language_info": {
   "codemirror_mode": {
    "name": "ipython",
    "version": 3
   },
   "file_extension": ".py",
   "mimetype": "text/x-python",
   "name": "python",
   "nbconvert_exporter": "python",
   "pygments_lexer": "ipython3",
   "version": "3.9.5"
  },
  "toc": {
   "base_numbering": 1,
   "nav_menu": {},
   "number_sections": true,
   "sideBar": true,
   "skip_h1_title": true,
   "title_cell": "Содержание",
   "title_sidebar": "Contents",
   "toc_cell": true,
   "toc_position": {
    "height": "calc(100% - 180px)",
    "left": "10px",
    "top": "150px",
    "width": "303px"
   },
   "toc_section_display": true,
   "toc_window_display": false
  }
 },
 "nbformat": 4,
 "nbformat_minor": 2
}
