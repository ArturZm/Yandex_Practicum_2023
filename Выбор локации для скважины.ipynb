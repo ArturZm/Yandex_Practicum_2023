{
 "cells": [
  {
   "cell_type": "markdown",
   "metadata": {},
   "source": [
    "<div style=\"border:solid Chocolate 2px; padding: 40px\">\n",
    "\n",
    "<b>Привет, Артур!👋</b>\n",
    "\n",
    "Меня зовут Зуева Юлия, можно просто Юля 😏 Я буду ревьюером твоего проекта. Предлагаю обращаться на \"ты\", но если это неудобно, пожалуйста, скажи об этом!\n",
    "    \n",
    "Моя основная цель - помочь тебе стать компетентным Data Scientist'ом: вместе преодолеть трудности и еще больше развить твои сильные навыки 💪 В твоей работе я оставила комментарии, которые должны в этом помочь. Для твоего удобства комментарии раскрашены разными цветами: \n",
    "<br/>\n",
    "<div class=\"alert alert-success\">\n",
    "<h3> Комментарий ревьюера <a class=\"tocSkip\"> </h3>\n",
    "    \n",
    "<b>Все отлично!👍:</b> Решение полностью правильное, или я посчитала нужным тебя за что-то похвалить :) На такие решения можно опираться в будущих проектах.\n",
    "</div>\n",
    "\n",
    "<div class=\"alert alert-warning\">\n",
    "<h3> Комментарий ревьюера <a class=\"tocSkip\"> </h3>\n",
    "    \n",
    "<b>Некоторые замечания и рекомендации💡:</b> Решение станет еще лучше, если внести небольшие коррективы. Ты можешь учесть эти комментарии при выполнении будущих заданий или доработать проект сейчас (но это не обязательно).\n",
    "</div>\n",
    "<div class=\"alert alert-block alert-danger\">\n",
    "<h3> Комментарий ревьюера <a class=\"tocSkip\"></h3>\n",
    " \n",
    "<b>На доработку🤔:</b> Решение требует существенной переработки. Напомню, что проект не может быть принят с первого раза, если ревью содержит комментарии, рекомендующие доработать шаги.\n",
    "</div>\n",
    "<br/>\n",
    "Чтобы наша с тобой работа была еще эффективнее, ты точно так же можешь оставлять комментарии и задавать мне вопросы. Для таких случаев, пожалуйста, выбери собственное оформление комментариев, которое будет отличаться от моего, чтобы не создавалась путаница. По этой же причине попрошу тебя не удалять и не изменять мои комментарии. Все это позволит лучше ориентироваться в нашем с тобой диалоге, а повторную проверку (в случае ее необходимости) выполнять оперативнее 🚀\n",
    "\n",
    "Не спеши расстраиваться, если что-то не удалось с первого раза. Вместе мы обязательно разберемся со всеми трудностями! 🤓 "
   ]
  },
  {
   "cell_type": "markdown",
   "metadata": {},
   "source": [
    "<div class=\"alert alert-block alert-danger\">\n",
    "<b>Комментарий ревьюера 4:</b> Артур, сейчас в твоей работе имеются подозрения на списывание. Сегодня мне пришла на проверку работа с практически идентичным содержанием. В виду того, какие сейчас имеются проблемы с внесением необходимых корректировок, смею предполагать, что списаны обе. Во-первых, пожалуйста, прокомментируй, почему могло возникнуть такое совпадение. Во-вторых, предупреждаю, что текущий вариант работы проверен с большей строгостью, чтобы по исправлениям я смогла оценить уровень твоих собственных знаний, а не заимствованных."
   ]
  },
  {
   "cell_type": "markdown",
   "metadata": {},
   "source": [
    "# Выбор локации для скважины"
   ]
  },
  {
   "cell_type": "markdown",
   "metadata": {},
   "source": [
    "Добывающая компании «ГлавРосГосНефть». Перед нами стоит задача - где бурить новую скважину.\n",
    "\n",
    "Нам предоставлены пробы нефти в трёх регионах: в каждом 10 000 месторождений, где измерили качество нефти и объём её запасов. Мы построим модель машинного обучения, которая поможет определить регион, где добыча принесёт наибольшую прибыль. Проанализируйем возможную прибыль и риски техникой *Bootstrap.*\n",
    "\n",
    "Шаги для выбора локации:\n",
    "\n",
    "- В избранном регионе найдём месторождения, для каждого определим значения признаков;\n",
    "- Построим модель и оценим объём запасов;\n",
    "- Выберим месторождения с самыми высокими оценками значений. Количество месторождений зависит от бюджета компании и стоимости разработки одной скважины;\n",
    "- Прибыль равна суммарной прибыли отобранных месторождений."
   ]
  },
  {
   "cell_type": "markdown",
   "metadata": {},
   "source": [
    "<div class=\"alert alert-warning\">\n",
    "<h3> Комментарий ревьюера <a class=\"tocSkip\"> </h3>\n",
    "    \n",
    "<b>Некоторые замечания и рекомендации💡:</b>  Очень хорошо, что оставляешь в начале проекта его описание! Любой, кто захочет взглянуть на работу, сможет сразу погрузиться в суть задачи. Будет немного лучше, если ты его чуть-чуть перефрзируешь, изложишь задачу своми словами, так работа станет похожа на настоящий исследовательский проект, а не выполненное домашнее задание :)"
   ]
  },
  {
   "cell_type": "markdown",
   "metadata": {},
   "source": [
    "<br/>\n",
    "<div class=\"alert alert-success\">\n",
    "<h3> Комментарий студента <a class=\"tocSkip\"> </h3>\n",
    "    \n",
    "<b>ИСПРАВИЛ</b>\n",
    "</div>"
   ]
  },
  {
   "cell_type": "markdown",
   "metadata": {},
   "source": [
    "<div class=\"alert alert-success\">\n",
    "<h3> Комментарий ревьюера 2<a class=\"tocSkip\"> </h3> \n",
    "    \n",
    "<b>Все отлично! 👍:</b> Класс!"
   ]
  },
  {
   "cell_type": "markdown",
   "metadata": {},
   "source": [
    "## Загрузка и подготовка данных"
   ]
  },
  {
   "cell_type": "markdown",
   "metadata": {},
   "source": [
    "Загрузим библиотеки"
   ]
  },
  {
   "cell_type": "code",
   "execution_count": 1,
   "metadata": {},
   "outputs": [],
   "source": [
    "import pandas as pd\n",
    "from sklearn.model_selection import train_test_split\n",
    "from sklearn.linear_model import LinearRegression\n",
    "from sklearn.preprocessing import StandardScaler\n",
    "from sklearn.metrics import accuracy_score\n",
    "from scipy import stats as st\n",
    "import numpy as np\n",
    "from sklearn.metrics import mean_squared_error, r2_score\n",
    "from tqdm.notebook import tqdm\n",
    "import matplotlib.pyplot as plt\n",
    "import seaborn as sns\n",
    "from sklearn.utils import shuffle\n",
    "from sklearn.preprocessing import OrdinalEncoder "
   ]
  },
  {
   "cell_type": "markdown",
   "metadata": {},
   "source": [
    "<div class=\"alert alert-warning\">\n",
    "<h3> Комментарий ревьюера <a class=\"tocSkip\"> </h3>\n",
    "    \n",
    "<b>Некоторые замечания и рекомендации💡:</b> Ты сейчас загружаешь несколько функций, которые в данном проекте не используются. Так лучше не далать, это съедает ценные ресурсы оперативной памяти.\n",
    "    \n",
    "Также здесь могу еще немного рассказать про стандарты оформления и наведение красоты. Существует некий свод общих рекомендаций по оформлению кода PEP-8, где среди всего прочего есть <a href=\"https://pythonworld.ru/osnovy/pep-8-rukovodstvo-po-napisaniyu-koda-na-python.html#section-8\">раздел</a> про оформление импортов. Данные рекомендации (не строгие правила) направлены на то, чтобы сделать код более единообразным и удобочитаемым. Всегда необходимо учитывать, что код читается гораздо чаще чем пишется. Поэтому в отношении импортов помимо общих рекомендаций можно еще взять себе за правило делить их на тематические группы (например, обработка, графики, модели, метрики и т.д.) и сортировать по алфавиту. Это особенно помогает, когда импортов набирается достаточно много.\n",
    "    \n",
    "Для того, чтобы не заморачиваться с форматированием кода сомостоятельно, существуют специальные алгоритмы-линетры, например, flake8, pylint, autopep8, autoflake, isort, black, YAPF и многие другие (информацию по ним найти не сложно). Если ты преимущественно работаешь прямо здесь в тетрадке, а не локально, то можно подключить <a href = 'https://stackoverflow.com/questions/26126853/verifying-pep8-in-ipython-notebook-code'>flake8</a> или <a href = 'https://stackoverflow.com/questions/50358327/using-pylint-in-ipython-jupyter-notebook'>pylint</a>, но нужно учитывать, что оценивать они будут каждую ячейку по отдельно, а не весь проект целиком."
   ]
  },
  {
   "cell_type": "markdown",
   "metadata": {},
   "source": [
    "<br/>\n",
    "<div class=\"alert alert-success\">\n",
    "<h3> Комментарий студента <a class=\"tocSkip\"> </h3>\n",
    "    \n",
    "<b>ПОСТАРАЮСЬ РАЗОБРАТЬСЯ С ЭТИМ НЕМНОЖКО ПОЗЖЕ</b>\n",
    "</div>"
   ]
  },
  {
   "cell_type": "markdown",
   "metadata": {},
   "source": [
    "<div class=\"alert alert-success\">\n",
    "<b>Комментарий ревьюера 2:</b> Договорились :)"
   ]
  },
  {
   "cell_type": "markdown",
   "metadata": {},
   "source": [
    "Згрузим данные геологоразведки трёх регионов"
   ]
  },
  {
   "cell_type": "code",
   "execution_count": 2,
   "metadata": {},
   "outputs": [],
   "source": [
    "data_0 = pd.read_csv('/datasets/geo_data_0.csv')\n",
    "data_1 = pd.read_csv('/datasets/geo_data_1.csv')\n",
    "data_2 = pd.read_csv('/datasets/geo_data_2.csv')"
   ]
  },
  {
   "cell_type": "markdown",
   "metadata": {},
   "source": [
    "Посмотрим данные 1 региона"
   ]
  },
  {
   "cell_type": "code",
   "execution_count": 3,
   "metadata": {},
   "outputs": [
    {
     "data": {
      "text/html": [
       "<div>\n",
       "<style scoped>\n",
       "    .dataframe tbody tr th:only-of-type {\n",
       "        vertical-align: middle;\n",
       "    }\n",
       "\n",
       "    .dataframe tbody tr th {\n",
       "        vertical-align: top;\n",
       "    }\n",
       "\n",
       "    .dataframe thead th {\n",
       "        text-align: right;\n",
       "    }\n",
       "</style>\n",
       "<table border=\"1\" class=\"dataframe\">\n",
       "  <thead>\n",
       "    <tr style=\"text-align: right;\">\n",
       "      <th></th>\n",
       "      <th>id</th>\n",
       "      <th>f0</th>\n",
       "      <th>f1</th>\n",
       "      <th>f2</th>\n",
       "      <th>product</th>\n",
       "    </tr>\n",
       "  </thead>\n",
       "  <tbody>\n",
       "    <tr>\n",
       "      <th>0</th>\n",
       "      <td>txEyH</td>\n",
       "      <td>0.705745</td>\n",
       "      <td>-0.497823</td>\n",
       "      <td>1.221170</td>\n",
       "      <td>105.280062</td>\n",
       "    </tr>\n",
       "    <tr>\n",
       "      <th>1</th>\n",
       "      <td>2acmU</td>\n",
       "      <td>1.334711</td>\n",
       "      <td>-0.340164</td>\n",
       "      <td>4.365080</td>\n",
       "      <td>73.037750</td>\n",
       "    </tr>\n",
       "    <tr>\n",
       "      <th>2</th>\n",
       "      <td>409Wp</td>\n",
       "      <td>1.022732</td>\n",
       "      <td>0.151990</td>\n",
       "      <td>1.419926</td>\n",
       "      <td>85.265647</td>\n",
       "    </tr>\n",
       "    <tr>\n",
       "      <th>3</th>\n",
       "      <td>iJLyR</td>\n",
       "      <td>-0.032172</td>\n",
       "      <td>0.139033</td>\n",
       "      <td>2.978566</td>\n",
       "      <td>168.620776</td>\n",
       "    </tr>\n",
       "    <tr>\n",
       "      <th>4</th>\n",
       "      <td>Xdl7t</td>\n",
       "      <td>1.988431</td>\n",
       "      <td>0.155413</td>\n",
       "      <td>4.751769</td>\n",
       "      <td>154.036647</td>\n",
       "    </tr>\n",
       "  </tbody>\n",
       "</table>\n",
       "</div>"
      ],
      "text/plain": [
       "      id        f0        f1        f2     product\n",
       "0  txEyH  0.705745 -0.497823  1.221170  105.280062\n",
       "1  2acmU  1.334711 -0.340164  4.365080   73.037750\n",
       "2  409Wp  1.022732  0.151990  1.419926   85.265647\n",
       "3  iJLyR -0.032172  0.139033  2.978566  168.620776\n",
       "4  Xdl7t  1.988431  0.155413  4.751769  154.036647"
      ]
     },
     "execution_count": 3,
     "metadata": {},
     "output_type": "execute_result"
    }
   ],
   "source": [
    "data_0.head()"
   ]
  },
  {
   "cell_type": "code",
   "execution_count": 4,
   "metadata": {},
   "outputs": [
    {
     "data": {
      "text/html": [
       "<style  type=\"text/css\" >\n",
       "#T_8860c_row0_col0,#T_8860c_row1_col1,#T_8860c_row2_col2,#T_8860c_row3_col3{\n",
       "            background-color:  #b40426;\n",
       "            color:  #f1f1f1;\n",
       "        }#T_8860c_row0_col1,#T_8860c_row0_col2,#T_8860c_row1_col0,#T_8860c_row1_col3{\n",
       "            background-color:  #3b4cc0;\n",
       "            color:  #f1f1f1;\n",
       "        }#T_8860c_row0_col3{\n",
       "            background-color:  #98b9ff;\n",
       "            color:  #000000;\n",
       "        }#T_8860c_row1_col2{\n",
       "            background-color:  #3c4ec2;\n",
       "            color:  #f1f1f1;\n",
       "        }#T_8860c_row2_col0{\n",
       "            background-color:  #9fbfff;\n",
       "            color:  #000000;\n",
       "        }#T_8860c_row2_col1{\n",
       "            background-color:  #a1c0ff;\n",
       "            color:  #000000;\n",
       "        }#T_8860c_row2_col3{\n",
       "            background-color:  #edd2c3;\n",
       "            color:  #000000;\n",
       "        }#T_8860c_row3_col0{\n",
       "            background-color:  #c1d4f4;\n",
       "            color:  #000000;\n",
       "        }#T_8860c_row3_col1{\n",
       "            background-color:  #7295f4;\n",
       "            color:  #000000;\n",
       "        }#T_8860c_row3_col2{\n",
       "            background-color:  #d9dce1;\n",
       "            color:  #000000;\n",
       "        }</style><table id=\"T_8860c_\" ><thead>    <tr>        <th class=\"blank level0\" ></th>        <th class=\"col_heading level0 col0\" >f0</th>        <th class=\"col_heading level0 col1\" >f1</th>        <th class=\"col_heading level0 col2\" >f2</th>        <th class=\"col_heading level0 col3\" >product</th>    </tr></thead><tbody>\n",
       "                <tr>\n",
       "                        <th id=\"T_8860c_level0_row0\" class=\"row_heading level0 row0\" >f0</th>\n",
       "                        <td id=\"T_8860c_row0_col0\" class=\"data row0 col0\" >1.000000</td>\n",
       "                        <td id=\"T_8860c_row0_col1\" class=\"data row0 col1\" >-0.440723</td>\n",
       "                        <td id=\"T_8860c_row0_col2\" class=\"data row0 col2\" >-0.003153</td>\n",
       "                        <td id=\"T_8860c_row0_col3\" class=\"data row0 col3\" >0.143536</td>\n",
       "            </tr>\n",
       "            <tr>\n",
       "                        <th id=\"T_8860c_level0_row1\" class=\"row_heading level0 row1\" >f1</th>\n",
       "                        <td id=\"T_8860c_row1_col0\" class=\"data row1 col0\" >-0.440723</td>\n",
       "                        <td id=\"T_8860c_row1_col1\" class=\"data row1 col1\" >1.000000</td>\n",
       "                        <td id=\"T_8860c_row1_col2\" class=\"data row1 col2\" >0.001724</td>\n",
       "                        <td id=\"T_8860c_row1_col3\" class=\"data row1 col3\" >-0.192356</td>\n",
       "            </tr>\n",
       "            <tr>\n",
       "                        <th id=\"T_8860c_level0_row2\" class=\"row_heading level0 row2\" >f2</th>\n",
       "                        <td id=\"T_8860c_row2_col0\" class=\"data row2 col0\" >-0.003153</td>\n",
       "                        <td id=\"T_8860c_row2_col1\" class=\"data row2 col1\" >0.001724</td>\n",
       "                        <td id=\"T_8860c_row2_col2\" class=\"data row2 col2\" >1.000000</td>\n",
       "                        <td id=\"T_8860c_row2_col3\" class=\"data row2 col3\" >0.483663</td>\n",
       "            </tr>\n",
       "            <tr>\n",
       "                        <th id=\"T_8860c_level0_row3\" class=\"row_heading level0 row3\" >product</th>\n",
       "                        <td id=\"T_8860c_row3_col0\" class=\"data row3 col0\" >0.143536</td>\n",
       "                        <td id=\"T_8860c_row3_col1\" class=\"data row3 col1\" >-0.192356</td>\n",
       "                        <td id=\"T_8860c_row3_col2\" class=\"data row3 col2\" >0.483663</td>\n",
       "                        <td id=\"T_8860c_row3_col3\" class=\"data row3 col3\" >1.000000</td>\n",
       "            </tr>\n",
       "    </tbody></table>"
      ],
      "text/plain": [
       "<pandas.io.formats.style.Styler at 0x7f01a2129790>"
      ]
     },
     "execution_count": 4,
     "metadata": {},
     "output_type": "execute_result"
    }
   ],
   "source": [
    "data_0\\\n",
    "    .corr()\\\n",
    "    .style\\\n",
    "    .background_gradient(cmap='coolwarm')"
   ]
  },
  {
   "cell_type": "code",
   "execution_count": 5,
   "metadata": {},
   "outputs": [
    {
     "data": {
      "text/html": [
       "<div>\n",
       "<style scoped>\n",
       "    .dataframe tbody tr th:only-of-type {\n",
       "        vertical-align: middle;\n",
       "    }\n",
       "\n",
       "    .dataframe tbody tr th {\n",
       "        vertical-align: top;\n",
       "    }\n",
       "\n",
       "    .dataframe thead th {\n",
       "        text-align: right;\n",
       "    }\n",
       "</style>\n",
       "<table border=\"1\" class=\"dataframe\">\n",
       "  <thead>\n",
       "    <tr style=\"text-align: right;\">\n",
       "      <th></th>\n",
       "      <th>f0</th>\n",
       "      <th>f1</th>\n",
       "      <th>f2</th>\n",
       "      <th>product</th>\n",
       "    </tr>\n",
       "  </thead>\n",
       "  <tbody>\n",
       "    <tr>\n",
       "      <th>count</th>\n",
       "      <td>100000.000000</td>\n",
       "      <td>100000.000000</td>\n",
       "      <td>100000.000000</td>\n",
       "      <td>100000.000000</td>\n",
       "    </tr>\n",
       "    <tr>\n",
       "      <th>mean</th>\n",
       "      <td>0.500419</td>\n",
       "      <td>0.250143</td>\n",
       "      <td>2.502647</td>\n",
       "      <td>92.500000</td>\n",
       "    </tr>\n",
       "    <tr>\n",
       "      <th>std</th>\n",
       "      <td>0.871832</td>\n",
       "      <td>0.504433</td>\n",
       "      <td>3.248248</td>\n",
       "      <td>44.288691</td>\n",
       "    </tr>\n",
       "    <tr>\n",
       "      <th>min</th>\n",
       "      <td>-1.408605</td>\n",
       "      <td>-0.848218</td>\n",
       "      <td>-12.088328</td>\n",
       "      <td>0.000000</td>\n",
       "    </tr>\n",
       "    <tr>\n",
       "      <th>25%</th>\n",
       "      <td>-0.072580</td>\n",
       "      <td>-0.200881</td>\n",
       "      <td>0.287748</td>\n",
       "      <td>56.497507</td>\n",
       "    </tr>\n",
       "    <tr>\n",
       "      <th>50%</th>\n",
       "      <td>0.502360</td>\n",
       "      <td>0.250252</td>\n",
       "      <td>2.515969</td>\n",
       "      <td>91.849972</td>\n",
       "    </tr>\n",
       "    <tr>\n",
       "      <th>75%</th>\n",
       "      <td>1.073581</td>\n",
       "      <td>0.700646</td>\n",
       "      <td>4.715088</td>\n",
       "      <td>128.564089</td>\n",
       "    </tr>\n",
       "    <tr>\n",
       "      <th>max</th>\n",
       "      <td>2.362331</td>\n",
       "      <td>1.343769</td>\n",
       "      <td>16.003790</td>\n",
       "      <td>185.364347</td>\n",
       "    </tr>\n",
       "  </tbody>\n",
       "</table>\n",
       "</div>"
      ],
      "text/plain": [
       "                  f0             f1             f2        product\n",
       "count  100000.000000  100000.000000  100000.000000  100000.000000\n",
       "mean        0.500419       0.250143       2.502647      92.500000\n",
       "std         0.871832       0.504433       3.248248      44.288691\n",
       "min        -1.408605      -0.848218     -12.088328       0.000000\n",
       "25%        -0.072580      -0.200881       0.287748      56.497507\n",
       "50%         0.502360       0.250252       2.515969      91.849972\n",
       "75%         1.073581       0.700646       4.715088     128.564089\n",
       "max         2.362331       1.343769      16.003790     185.364347"
      ]
     },
     "execution_count": 5,
     "metadata": {},
     "output_type": "execute_result"
    }
   ],
   "source": [
    "data_0.describe()"
   ]
  },
  {
   "cell_type": "markdown",
   "metadata": {},
   "source": [
    "Посмотрим данные 2 региона"
   ]
  },
  {
   "cell_type": "code",
   "execution_count": 6,
   "metadata": {},
   "outputs": [
    {
     "data": {
      "text/html": [
       "<div>\n",
       "<style scoped>\n",
       "    .dataframe tbody tr th:only-of-type {\n",
       "        vertical-align: middle;\n",
       "    }\n",
       "\n",
       "    .dataframe tbody tr th {\n",
       "        vertical-align: top;\n",
       "    }\n",
       "\n",
       "    .dataframe thead th {\n",
       "        text-align: right;\n",
       "    }\n",
       "</style>\n",
       "<table border=\"1\" class=\"dataframe\">\n",
       "  <thead>\n",
       "    <tr style=\"text-align: right;\">\n",
       "      <th></th>\n",
       "      <th>id</th>\n",
       "      <th>f0</th>\n",
       "      <th>f1</th>\n",
       "      <th>f2</th>\n",
       "      <th>product</th>\n",
       "    </tr>\n",
       "  </thead>\n",
       "  <tbody>\n",
       "    <tr>\n",
       "      <th>0</th>\n",
       "      <td>kBEdx</td>\n",
       "      <td>-15.001348</td>\n",
       "      <td>-8.276000</td>\n",
       "      <td>-0.005876</td>\n",
       "      <td>3.179103</td>\n",
       "    </tr>\n",
       "    <tr>\n",
       "      <th>1</th>\n",
       "      <td>62mP7</td>\n",
       "      <td>14.272088</td>\n",
       "      <td>-3.475083</td>\n",
       "      <td>0.999183</td>\n",
       "      <td>26.953261</td>\n",
       "    </tr>\n",
       "    <tr>\n",
       "      <th>2</th>\n",
       "      <td>vyE1P</td>\n",
       "      <td>6.263187</td>\n",
       "      <td>-5.948386</td>\n",
       "      <td>5.001160</td>\n",
       "      <td>134.766305</td>\n",
       "    </tr>\n",
       "    <tr>\n",
       "      <th>3</th>\n",
       "      <td>KcrkZ</td>\n",
       "      <td>-13.081196</td>\n",
       "      <td>-11.506057</td>\n",
       "      <td>4.999415</td>\n",
       "      <td>137.945408</td>\n",
       "    </tr>\n",
       "    <tr>\n",
       "      <th>4</th>\n",
       "      <td>AHL4O</td>\n",
       "      <td>12.702195</td>\n",
       "      <td>-8.147433</td>\n",
       "      <td>5.004363</td>\n",
       "      <td>134.766305</td>\n",
       "    </tr>\n",
       "  </tbody>\n",
       "</table>\n",
       "</div>"
      ],
      "text/plain": [
       "      id         f0         f1        f2     product\n",
       "0  kBEdx -15.001348  -8.276000 -0.005876    3.179103\n",
       "1  62mP7  14.272088  -3.475083  0.999183   26.953261\n",
       "2  vyE1P   6.263187  -5.948386  5.001160  134.766305\n",
       "3  KcrkZ -13.081196 -11.506057  4.999415  137.945408\n",
       "4  AHL4O  12.702195  -8.147433  5.004363  134.766305"
      ]
     },
     "execution_count": 6,
     "metadata": {},
     "output_type": "execute_result"
    }
   ],
   "source": [
    "data_1.head()"
   ]
  },
  {
   "cell_type": "code",
   "execution_count": 7,
   "metadata": {},
   "outputs": [
    {
     "name": "stdout",
     "output_type": "stream",
     "text": [
      "<class 'pandas.core.frame.DataFrame'>\n",
      "RangeIndex: 100000 entries, 0 to 99999\n",
      "Data columns (total 5 columns):\n",
      " #   Column   Non-Null Count   Dtype  \n",
      "---  ------   --------------   -----  \n",
      " 0   id       100000 non-null  object \n",
      " 1   f0       100000 non-null  float64\n",
      " 2   f1       100000 non-null  float64\n",
      " 3   f2       100000 non-null  float64\n",
      " 4   product  100000 non-null  float64\n",
      "dtypes: float64(4), object(1)\n",
      "memory usage: 3.8+ MB\n"
     ]
    }
   ],
   "source": [
    "data_1.info()"
   ]
  },
  {
   "cell_type": "code",
   "execution_count": 8,
   "metadata": {},
   "outputs": [
    {
     "data": {
      "text/html": [
       "<div>\n",
       "<style scoped>\n",
       "    .dataframe tbody tr th:only-of-type {\n",
       "        vertical-align: middle;\n",
       "    }\n",
       "\n",
       "    .dataframe tbody tr th {\n",
       "        vertical-align: top;\n",
       "    }\n",
       "\n",
       "    .dataframe thead th {\n",
       "        text-align: right;\n",
       "    }\n",
       "</style>\n",
       "<table border=\"1\" class=\"dataframe\">\n",
       "  <thead>\n",
       "    <tr style=\"text-align: right;\">\n",
       "      <th></th>\n",
       "      <th>f0</th>\n",
       "      <th>f1</th>\n",
       "      <th>f2</th>\n",
       "      <th>product</th>\n",
       "    </tr>\n",
       "  </thead>\n",
       "  <tbody>\n",
       "    <tr>\n",
       "      <th>count</th>\n",
       "      <td>100000.000000</td>\n",
       "      <td>100000.000000</td>\n",
       "      <td>100000.000000</td>\n",
       "      <td>100000.000000</td>\n",
       "    </tr>\n",
       "    <tr>\n",
       "      <th>mean</th>\n",
       "      <td>1.141296</td>\n",
       "      <td>-4.796579</td>\n",
       "      <td>2.494541</td>\n",
       "      <td>68.825000</td>\n",
       "    </tr>\n",
       "    <tr>\n",
       "      <th>std</th>\n",
       "      <td>8.965932</td>\n",
       "      <td>5.119872</td>\n",
       "      <td>1.703572</td>\n",
       "      <td>45.944423</td>\n",
       "    </tr>\n",
       "    <tr>\n",
       "      <th>min</th>\n",
       "      <td>-31.609576</td>\n",
       "      <td>-26.358598</td>\n",
       "      <td>-0.018144</td>\n",
       "      <td>0.000000</td>\n",
       "    </tr>\n",
       "    <tr>\n",
       "      <th>25%</th>\n",
       "      <td>-6.298551</td>\n",
       "      <td>-8.267985</td>\n",
       "      <td>1.000021</td>\n",
       "      <td>26.953261</td>\n",
       "    </tr>\n",
       "    <tr>\n",
       "      <th>50%</th>\n",
       "      <td>1.153055</td>\n",
       "      <td>-4.813172</td>\n",
       "      <td>2.011479</td>\n",
       "      <td>57.085625</td>\n",
       "    </tr>\n",
       "    <tr>\n",
       "      <th>75%</th>\n",
       "      <td>8.621015</td>\n",
       "      <td>-1.332816</td>\n",
       "      <td>3.999904</td>\n",
       "      <td>107.813044</td>\n",
       "    </tr>\n",
       "    <tr>\n",
       "      <th>max</th>\n",
       "      <td>29.421755</td>\n",
       "      <td>18.734063</td>\n",
       "      <td>5.019721</td>\n",
       "      <td>137.945408</td>\n",
       "    </tr>\n",
       "  </tbody>\n",
       "</table>\n",
       "</div>"
      ],
      "text/plain": [
       "                  f0             f1             f2        product\n",
       "count  100000.000000  100000.000000  100000.000000  100000.000000\n",
       "mean        1.141296      -4.796579       2.494541      68.825000\n",
       "std         8.965932       5.119872       1.703572      45.944423\n",
       "min       -31.609576     -26.358598      -0.018144       0.000000\n",
       "25%        -6.298551      -8.267985       1.000021      26.953261\n",
       "50%         1.153055      -4.813172       2.011479      57.085625\n",
       "75%         8.621015      -1.332816       3.999904     107.813044\n",
       "max        29.421755      18.734063       5.019721     137.945408"
      ]
     },
     "execution_count": 8,
     "metadata": {},
     "output_type": "execute_result"
    }
   ],
   "source": [
    "data_1.describe()"
   ]
  },
  {
   "cell_type": "code",
   "execution_count": 9,
   "metadata": {},
   "outputs": [
    {
     "data": {
      "text/html": [
       "<style  type=\"text/css\" >\n",
       "#T_f4c41_row0_col0,#T_f4c41_row1_col1,#T_f4c41_row2_col2,#T_f4c41_row2_col3,#T_f4c41_row3_col2,#T_f4c41_row3_col3{\n",
       "            background-color:  #b40426;\n",
       "            color:  #f1f1f1;\n",
       "        }#T_f4c41_row0_col1{\n",
       "            background-color:  #779af7;\n",
       "            color:  #000000;\n",
       "        }#T_f4c41_row0_col2,#T_f4c41_row0_col3,#T_f4c41_row1_col2,#T_f4c41_row3_col0,#T_f4c41_row3_col1{\n",
       "            background-color:  #3b4cc0;\n",
       "            color:  #f1f1f1;\n",
       "        }#T_f4c41_row1_col0{\n",
       "            background-color:  #7da0f9;\n",
       "            color:  #000000;\n",
       "        }#T_f4c41_row1_col3{\n",
       "            background-color:  #4055c8;\n",
       "            color:  #f1f1f1;\n",
       "        }#T_f4c41_row2_col0{\n",
       "            background-color:  #4358cb;\n",
       "            color:  #f1f1f1;\n",
       "        }#T_f4c41_row2_col1{\n",
       "            background-color:  #3c4ec2;\n",
       "            color:  #f1f1f1;\n",
       "        }</style><table id=\"T_f4c41_\" ><thead>    <tr>        <th class=\"blank level0\" ></th>        <th class=\"col_heading level0 col0\" >f0</th>        <th class=\"col_heading level0 col1\" >f1</th>        <th class=\"col_heading level0 col2\" >f2</th>        <th class=\"col_heading level0 col3\" >product</th>    </tr></thead><tbody>\n",
       "                <tr>\n",
       "                        <th id=\"T_f4c41_level0_row0\" class=\"row_heading level0 row0\" >f0</th>\n",
       "                        <td id=\"T_f4c41_row0_col0\" class=\"data row0 col0\" >1.000000</td>\n",
       "                        <td id=\"T_f4c41_row0_col1\" class=\"data row0 col1\" >0.182287</td>\n",
       "                        <td id=\"T_f4c41_row0_col2\" class=\"data row0 col2\" >-0.001777</td>\n",
       "                        <td id=\"T_f4c41_row0_col3\" class=\"data row0 col3\" >-0.030491</td>\n",
       "            </tr>\n",
       "            <tr>\n",
       "                        <th id=\"T_f4c41_level0_row1\" class=\"row_heading level0 row1\" >f1</th>\n",
       "                        <td id=\"T_f4c41_row1_col0\" class=\"data row1 col0\" >0.182287</td>\n",
       "                        <td id=\"T_f4c41_row1_col1\" class=\"data row1 col1\" >1.000000</td>\n",
       "                        <td id=\"T_f4c41_row1_col2\" class=\"data row1 col2\" >-0.002595</td>\n",
       "                        <td id=\"T_f4c41_row1_col3\" class=\"data row1 col3\" >-0.010155</td>\n",
       "            </tr>\n",
       "            <tr>\n",
       "                        <th id=\"T_f4c41_level0_row2\" class=\"row_heading level0 row2\" >f2</th>\n",
       "                        <td id=\"T_f4c41_row2_col0\" class=\"data row2 col0\" >-0.001777</td>\n",
       "                        <td id=\"T_f4c41_row2_col1\" class=\"data row2 col1\" >-0.002595</td>\n",
       "                        <td id=\"T_f4c41_row2_col2\" class=\"data row2 col2\" >1.000000</td>\n",
       "                        <td id=\"T_f4c41_row2_col3\" class=\"data row2 col3\" >0.999397</td>\n",
       "            </tr>\n",
       "            <tr>\n",
       "                        <th id=\"T_f4c41_level0_row3\" class=\"row_heading level0 row3\" >product</th>\n",
       "                        <td id=\"T_f4c41_row3_col0\" class=\"data row3 col0\" >-0.030491</td>\n",
       "                        <td id=\"T_f4c41_row3_col1\" class=\"data row3 col1\" >-0.010155</td>\n",
       "                        <td id=\"T_f4c41_row3_col2\" class=\"data row3 col2\" >0.999397</td>\n",
       "                        <td id=\"T_f4c41_row3_col3\" class=\"data row3 col3\" >1.000000</td>\n",
       "            </tr>\n",
       "    </tbody></table>"
      ],
      "text/plain": [
       "<pandas.io.formats.style.Styler at 0x7f01a1f7d730>"
      ]
     },
     "execution_count": 9,
     "metadata": {},
     "output_type": "execute_result"
    }
   ],
   "source": [
    "data_1\\\n",
    "    .corr()\\\n",
    "    .style\\\n",
    "    .background_gradient(cmap='coolwarm')"
   ]
  },
  {
   "cell_type": "markdown",
   "metadata": {},
   "source": [
    "Посмотрим данные 3 региона"
   ]
  },
  {
   "cell_type": "code",
   "execution_count": 10,
   "metadata": {},
   "outputs": [
    {
     "data": {
      "text/html": [
       "<div>\n",
       "<style scoped>\n",
       "    .dataframe tbody tr th:only-of-type {\n",
       "        vertical-align: middle;\n",
       "    }\n",
       "\n",
       "    .dataframe tbody tr th {\n",
       "        vertical-align: top;\n",
       "    }\n",
       "\n",
       "    .dataframe thead th {\n",
       "        text-align: right;\n",
       "    }\n",
       "</style>\n",
       "<table border=\"1\" class=\"dataframe\">\n",
       "  <thead>\n",
       "    <tr style=\"text-align: right;\">\n",
       "      <th></th>\n",
       "      <th>id</th>\n",
       "      <th>f0</th>\n",
       "      <th>f1</th>\n",
       "      <th>f2</th>\n",
       "      <th>product</th>\n",
       "    </tr>\n",
       "  </thead>\n",
       "  <tbody>\n",
       "    <tr>\n",
       "      <th>0</th>\n",
       "      <td>fwXo0</td>\n",
       "      <td>-1.146987</td>\n",
       "      <td>0.963328</td>\n",
       "      <td>-0.828965</td>\n",
       "      <td>27.758673</td>\n",
       "    </tr>\n",
       "    <tr>\n",
       "      <th>1</th>\n",
       "      <td>WJtFt</td>\n",
       "      <td>0.262778</td>\n",
       "      <td>0.269839</td>\n",
       "      <td>-2.530187</td>\n",
       "      <td>56.069697</td>\n",
       "    </tr>\n",
       "    <tr>\n",
       "      <th>2</th>\n",
       "      <td>ovLUW</td>\n",
       "      <td>0.194587</td>\n",
       "      <td>0.289035</td>\n",
       "      <td>-5.586433</td>\n",
       "      <td>62.871910</td>\n",
       "    </tr>\n",
       "    <tr>\n",
       "      <th>3</th>\n",
       "      <td>q6cA6</td>\n",
       "      <td>2.236060</td>\n",
       "      <td>-0.553760</td>\n",
       "      <td>0.930038</td>\n",
       "      <td>114.572842</td>\n",
       "    </tr>\n",
       "    <tr>\n",
       "      <th>4</th>\n",
       "      <td>WPMUX</td>\n",
       "      <td>-0.515993</td>\n",
       "      <td>1.716266</td>\n",
       "      <td>5.899011</td>\n",
       "      <td>149.600746</td>\n",
       "    </tr>\n",
       "  </tbody>\n",
       "</table>\n",
       "</div>"
      ],
      "text/plain": [
       "      id        f0        f1        f2     product\n",
       "0  fwXo0 -1.146987  0.963328 -0.828965   27.758673\n",
       "1  WJtFt  0.262778  0.269839 -2.530187   56.069697\n",
       "2  ovLUW  0.194587  0.289035 -5.586433   62.871910\n",
       "3  q6cA6  2.236060 -0.553760  0.930038  114.572842\n",
       "4  WPMUX -0.515993  1.716266  5.899011  149.600746"
      ]
     },
     "execution_count": 10,
     "metadata": {},
     "output_type": "execute_result"
    }
   ],
   "source": [
    "data_2.head()"
   ]
  },
  {
   "cell_type": "code",
   "execution_count": 11,
   "metadata": {},
   "outputs": [
    {
     "name": "stdout",
     "output_type": "stream",
     "text": [
      "<class 'pandas.core.frame.DataFrame'>\n",
      "RangeIndex: 100000 entries, 0 to 99999\n",
      "Data columns (total 5 columns):\n",
      " #   Column   Non-Null Count   Dtype  \n",
      "---  ------   --------------   -----  \n",
      " 0   id       100000 non-null  object \n",
      " 1   f0       100000 non-null  float64\n",
      " 2   f1       100000 non-null  float64\n",
      " 3   f2       100000 non-null  float64\n",
      " 4   product  100000 non-null  float64\n",
      "dtypes: float64(4), object(1)\n",
      "memory usage: 3.8+ MB\n"
     ]
    }
   ],
   "source": [
    "data_2.info()"
   ]
  },
  {
   "cell_type": "code",
   "execution_count": 12,
   "metadata": {},
   "outputs": [
    {
     "data": {
      "text/html": [
       "<div>\n",
       "<style scoped>\n",
       "    .dataframe tbody tr th:only-of-type {\n",
       "        vertical-align: middle;\n",
       "    }\n",
       "\n",
       "    .dataframe tbody tr th {\n",
       "        vertical-align: top;\n",
       "    }\n",
       "\n",
       "    .dataframe thead th {\n",
       "        text-align: right;\n",
       "    }\n",
       "</style>\n",
       "<table border=\"1\" class=\"dataframe\">\n",
       "  <thead>\n",
       "    <tr style=\"text-align: right;\">\n",
       "      <th></th>\n",
       "      <th>f0</th>\n",
       "      <th>f1</th>\n",
       "      <th>f2</th>\n",
       "      <th>product</th>\n",
       "    </tr>\n",
       "  </thead>\n",
       "  <tbody>\n",
       "    <tr>\n",
       "      <th>count</th>\n",
       "      <td>100000.000000</td>\n",
       "      <td>100000.000000</td>\n",
       "      <td>100000.000000</td>\n",
       "      <td>100000.000000</td>\n",
       "    </tr>\n",
       "    <tr>\n",
       "      <th>mean</th>\n",
       "      <td>0.002023</td>\n",
       "      <td>-0.002081</td>\n",
       "      <td>2.495128</td>\n",
       "      <td>95.000000</td>\n",
       "    </tr>\n",
       "    <tr>\n",
       "      <th>std</th>\n",
       "      <td>1.732045</td>\n",
       "      <td>1.730417</td>\n",
       "      <td>3.473445</td>\n",
       "      <td>44.749921</td>\n",
       "    </tr>\n",
       "    <tr>\n",
       "      <th>min</th>\n",
       "      <td>-8.760004</td>\n",
       "      <td>-7.084020</td>\n",
       "      <td>-11.970335</td>\n",
       "      <td>0.000000</td>\n",
       "    </tr>\n",
       "    <tr>\n",
       "      <th>25%</th>\n",
       "      <td>-1.162288</td>\n",
       "      <td>-1.174820</td>\n",
       "      <td>0.130359</td>\n",
       "      <td>59.450441</td>\n",
       "    </tr>\n",
       "    <tr>\n",
       "      <th>50%</th>\n",
       "      <td>0.009424</td>\n",
       "      <td>-0.009482</td>\n",
       "      <td>2.484236</td>\n",
       "      <td>94.925613</td>\n",
       "    </tr>\n",
       "    <tr>\n",
       "      <th>75%</th>\n",
       "      <td>1.158535</td>\n",
       "      <td>1.163678</td>\n",
       "      <td>4.858794</td>\n",
       "      <td>130.595027</td>\n",
       "    </tr>\n",
       "    <tr>\n",
       "      <th>max</th>\n",
       "      <td>7.238262</td>\n",
       "      <td>7.844801</td>\n",
       "      <td>16.739402</td>\n",
       "      <td>190.029838</td>\n",
       "    </tr>\n",
       "  </tbody>\n",
       "</table>\n",
       "</div>"
      ],
      "text/plain": [
       "                  f0             f1             f2        product\n",
       "count  100000.000000  100000.000000  100000.000000  100000.000000\n",
       "mean        0.002023      -0.002081       2.495128      95.000000\n",
       "std         1.732045       1.730417       3.473445      44.749921\n",
       "min        -8.760004      -7.084020     -11.970335       0.000000\n",
       "25%        -1.162288      -1.174820       0.130359      59.450441\n",
       "50%         0.009424      -0.009482       2.484236      94.925613\n",
       "75%         1.158535       1.163678       4.858794     130.595027\n",
       "max         7.238262       7.844801      16.739402     190.029838"
      ]
     },
     "execution_count": 12,
     "metadata": {},
     "output_type": "execute_result"
    }
   ],
   "source": [
    "data_2.describe()"
   ]
  },
  {
   "cell_type": "code",
   "execution_count": 13,
   "metadata": {},
   "outputs": [
    {
     "data": {
      "text/html": [
       "<style  type=\"text/css\" >\n",
       "#T_68b7d_row0_col0,#T_68b7d_row1_col1,#T_68b7d_row2_col2,#T_68b7d_row3_col3{\n",
       "            background-color:  #b40426;\n",
       "            color:  #f1f1f1;\n",
       "        }#T_68b7d_row0_col1,#T_68b7d_row0_col2,#T_68b7d_row0_col3,#T_68b7d_row1_col0,#T_68b7d_row1_col2,#T_68b7d_row1_col3,#T_68b7d_row2_col0,#T_68b7d_row2_col1,#T_68b7d_row3_col0,#T_68b7d_row3_col1{\n",
       "            background-color:  #3b4cc0;\n",
       "            color:  #f1f1f1;\n",
       "        }#T_68b7d_row2_col3,#T_68b7d_row3_col2{\n",
       "            background-color:  #cedaeb;\n",
       "            color:  #000000;\n",
       "        }</style><table id=\"T_68b7d_\" ><thead>    <tr>        <th class=\"blank level0\" ></th>        <th class=\"col_heading level0 col0\" >f0</th>        <th class=\"col_heading level0 col1\" >f1</th>        <th class=\"col_heading level0 col2\" >f2</th>        <th class=\"col_heading level0 col3\" >product</th>    </tr></thead><tbody>\n",
       "                <tr>\n",
       "                        <th id=\"T_68b7d_level0_row0\" class=\"row_heading level0 row0\" >f0</th>\n",
       "                        <td id=\"T_68b7d_row0_col0\" class=\"data row0 col0\" >1.000000</td>\n",
       "                        <td id=\"T_68b7d_row0_col1\" class=\"data row0 col1\" >0.000528</td>\n",
       "                        <td id=\"T_68b7d_row0_col2\" class=\"data row0 col2\" >-0.000448</td>\n",
       "                        <td id=\"T_68b7d_row0_col3\" class=\"data row0 col3\" >-0.001987</td>\n",
       "            </tr>\n",
       "            <tr>\n",
       "                        <th id=\"T_68b7d_level0_row1\" class=\"row_heading level0 row1\" >f1</th>\n",
       "                        <td id=\"T_68b7d_row1_col0\" class=\"data row1 col0\" >0.000528</td>\n",
       "                        <td id=\"T_68b7d_row1_col1\" class=\"data row1 col1\" >1.000000</td>\n",
       "                        <td id=\"T_68b7d_row1_col2\" class=\"data row1 col2\" >0.000779</td>\n",
       "                        <td id=\"T_68b7d_row1_col3\" class=\"data row1 col3\" >-0.001012</td>\n",
       "            </tr>\n",
       "            <tr>\n",
       "                        <th id=\"T_68b7d_level0_row2\" class=\"row_heading level0 row2\" >f2</th>\n",
       "                        <td id=\"T_68b7d_row2_col0\" class=\"data row2 col0\" >-0.000448</td>\n",
       "                        <td id=\"T_68b7d_row2_col1\" class=\"data row2 col1\" >0.000779</td>\n",
       "                        <td id=\"T_68b7d_row2_col2\" class=\"data row2 col2\" >1.000000</td>\n",
       "                        <td id=\"T_68b7d_row2_col3\" class=\"data row2 col3\" >0.445871</td>\n",
       "            </tr>\n",
       "            <tr>\n",
       "                        <th id=\"T_68b7d_level0_row3\" class=\"row_heading level0 row3\" >product</th>\n",
       "                        <td id=\"T_68b7d_row3_col0\" class=\"data row3 col0\" >-0.001987</td>\n",
       "                        <td id=\"T_68b7d_row3_col1\" class=\"data row3 col1\" >-0.001012</td>\n",
       "                        <td id=\"T_68b7d_row3_col2\" class=\"data row3 col2\" >0.445871</td>\n",
       "                        <td id=\"T_68b7d_row3_col3\" class=\"data row3 col3\" >1.000000</td>\n",
       "            </tr>\n",
       "    </tbody></table>"
      ],
      "text/plain": [
       "<pandas.io.formats.style.Styler at 0x7f01a1fb0f70>"
      ]
     },
     "execution_count": 13,
     "metadata": {},
     "output_type": "execute_result"
    }
   ],
   "source": [
    "data_2\\\n",
    "    .corr()\\\n",
    "    .style\\\n",
    "    .background_gradient(cmap='coolwarm')"
   ]
  },
  {
   "cell_type": "code",
   "execution_count": 14,
   "metadata": {},
   "outputs": [
    {
     "name": "stdout",
     "output_type": "stream",
     "text": [
      "Shape:    (100000, 5)\n",
      "Na's:          0\n",
      "duplicates:    0\n",
      "\n",
      "Распределение признаков:\n"
     ]
    },
    {
     "data": {
      "image/png": "[encoded data removed]",
      "text/plain": [
       "<Figure size 432x288 with 4 Axes>"
      ]
     },
     "metadata": {
      "needs_background": "light"
     },
     "output_type": "display_data"
    },
    {
     "name": "stdout",
     "output_type": "stream",
     "text": [
      "Shape:    (100000, 5)\n",
      "Na's:          0\n",
      "duplicates:    0\n",
      "\n",
      "Распределение признаков:\n"
     ]
    },
    {
     "data": {
      "image/png": "[encoded data removed]",
      "text/plain": [
       "<Figure size 432x288 with 4 Axes>"
      ]
     },
     "metadata": {
      "needs_background": "light"
     },
     "output_type": "display_data"
    },
    {
     "name": "stdout",
     "output_type": "stream",
     "text": [
      "Shape:    (100000, 5)\n",
      "Na's:          0\n",
      "duplicates:    0\n",
      "\n",
      "Распределение признаков:\n"
     ]
    },
    {
     "data": {
      "image/png": "[encoded data removed]",
      "text/plain": [
       "<Figure size 432x288 with 4 Axes>"
      ]
     },
     "metadata": {
      "needs_background": "light"
     },
     "output_type": "display_data"
    }
   ],
   "source": [
    "def exploratory(data):\n",
    "    print(f\"Shape:    {data.shape}\")\n",
    "    print(\"Na's:         \", data.isna().sum().sum())\n",
    "    print(\"duplicates:   \", data.duplicated().sum())\n",
    "    print(\"\\nРаспределение признаков:\")\n",
    "    data[[\"f0\",\"f1\",\"f2\"]].hist()\n",
    "    plt.show()\n",
    "\n",
    "exploratory(data_0)\n",
    "exploratory(data_1)\n",
    "exploratory(data_2)"
   ]
  },
  {
   "cell_type": "code",
   "execution_count": 15,
   "metadata": {},
   "outputs": [
    {
     "data": {
      "image/png": "[encoded data removed]",
      "text/plain": [
       "<Figure size 864x504 with 1 Axes>"
      ]
     },
     "metadata": {
      "needs_background": "light"
     },
     "output_type": "display_data"
    }
   ],
   "source": [
    "plt.title('Графики распределения запасов сырья в регионах')\n",
    "ax=data_0['product'].plot(kind='hist',figsize=(12,7),grid=True, legend=True, alpha=0.7, histtype='step', linewidth=5, label='1 регион')\n",
    "ax1=data_1['product'].plot(kind='hist',figsize=(12,7),grid=True, legend=True, alpha=0.7,histtype='step', linewidth=5, label='2 регион', ax=ax)\n",
    "data_2['product'].plot(kind='hist',figsize=(12,7),grid=True, legend=True, alpha=0.7,histtype='step', linewidth=5, label='3 регион', ax=ax1)\n",
    "plt.xlabel('Распределение данных по запасам сырья в регионах')\n",
    "plt.ylabel('Запасы сырья, тыс.баррелей')\n",
    "plt.show()"
   ]
  },
  {
   "cell_type": "markdown",
   "metadata": {},
   "source": [
    "Данные мы загрузили, как мы видим, они не требуют предподготовки. Мы видим визуальное представление о распределении данных по запасам в регионах. На графике видно отличие 2 региона от остальных. Корреляция данных второго региона имеет сильную зависимость целевого показателя 'profit' от 'f0'. я думаю, что эта зависимость даст нам высокие баллы предсказания."
   ]
  },
  {
   "cell_type": "markdown",
   "metadata": {},
   "source": [
    "<div class=\"alert alert-success\">\n",
    "<h3> Комментарий ревьюера <a class=\"tocSkip\"> </h3> \n",
    "    \n",
    "<b>Все отлично! 👍:</b> Супер, с данными познакомились, теперь смело можем двигаться дальше!"
   ]
  },
  {
   "cell_type": "code",
   "execution_count": 16,
   "metadata": {},
   "outputs": [
    {
     "data": {
      "text/html": [
       "<div>\n",
       "<style scoped>\n",
       "    .dataframe tbody tr th:only-of-type {\n",
       "        vertical-align: middle;\n",
       "    }\n",
       "\n",
       "    .dataframe tbody tr th {\n",
       "        vertical-align: top;\n",
       "    }\n",
       "\n",
       "    .dataframe thead th {\n",
       "        text-align: right;\n",
       "    }\n",
       "</style>\n",
       "<table border=\"1\" class=\"dataframe\">\n",
       "  <thead>\n",
       "    <tr style=\"text-align: right;\">\n",
       "      <th></th>\n",
       "      <th>f0</th>\n",
       "      <th>f1</th>\n",
       "      <th>f2</th>\n",
       "      <th>product</th>\n",
       "    </tr>\n",
       "  </thead>\n",
       "  <tbody>\n",
       "    <tr>\n",
       "      <th>0</th>\n",
       "      <td>-1.146987</td>\n",
       "      <td>0.963328</td>\n",
       "      <td>-0.828965</td>\n",
       "      <td>27.758673</td>\n",
       "    </tr>\n",
       "    <tr>\n",
       "      <th>1</th>\n",
       "      <td>0.262778</td>\n",
       "      <td>0.269839</td>\n",
       "      <td>-2.530187</td>\n",
       "      <td>56.069697</td>\n",
       "    </tr>\n",
       "    <tr>\n",
       "      <th>2</th>\n",
       "      <td>0.194587</td>\n",
       "      <td>0.289035</td>\n",
       "      <td>-5.586433</td>\n",
       "      <td>62.871910</td>\n",
       "    </tr>\n",
       "    <tr>\n",
       "      <th>3</th>\n",
       "      <td>2.236060</td>\n",
       "      <td>-0.553760</td>\n",
       "      <td>0.930038</td>\n",
       "      <td>114.572842</td>\n",
       "    </tr>\n",
       "    <tr>\n",
       "      <th>4</th>\n",
       "      <td>-0.515993</td>\n",
       "      <td>1.716266</td>\n",
       "      <td>5.899011</td>\n",
       "      <td>149.600746</td>\n",
       "    </tr>\n",
       "  </tbody>\n",
       "</table>\n",
       "</div>"
      ],
      "text/plain": [
       "         f0        f1        f2     product\n",
       "0 -1.146987  0.963328 -0.828965   27.758673\n",
       "1  0.262778  0.269839 -2.530187   56.069697\n",
       "2  0.194587  0.289035 -5.586433   62.871910\n",
       "3  2.236060 -0.553760  0.930038  114.572842\n",
       "4 -0.515993  1.716266  5.899011  149.600746"
      ]
     },
     "execution_count": 16,
     "metadata": {},
     "output_type": "execute_result"
    }
   ],
   "source": [
    "data_0 = data_0.drop('id', axis=1)\n",
    "data_1 = data_1.drop('id', axis=1)\n",
    "data_2 = data_2.drop('id', axis=1)\n",
    "\n",
    "data_0.head()\n",
    "data_1.head()\n",
    "data_2.head()"
   ]
  },
  {
   "cell_type": "markdown",
   "metadata": {},
   "source": [
    "<div class=\"alert alert-success\">\n",
    "<h3> Комментарий ревьюера 2<a class=\"tocSkip\"> </h3> \n",
    "    \n",
    "<b>Все отлично! 👍:</b> Молодец, что отбрасываешь `id`: в разного рода задачах уникальный идентификатор нам нужен в таких случаях, как, например, проверка дубликатов или объединение таблиц между собой, но для обучения моделей этот признак никакой дополнительной информации не принесет."
   ]
  },
  {
   "cell_type": "markdown",
   "metadata": {},
   "source": [
    "<div class=\"alert alert-warning\">\n",
    "<h3> Комментарий ревьюера <a class=\"tocSkip\"> </h3>\n",
    "    \n",
    "<b>Некоторые замечания и рекомендации💡:</b>\n",
    "    \n",
    "* Для наглядности матрицу корреляций удобно также выводить с помощью тепловой карты.\n",
    "        \n",
    "        \n",
    "* Функция corr() по дефолту считает корреляцию Пирсона. Но данный вид корреляции, во-первых, способен улавливать только линейные взаимосвязи, во-вторых, основан на предположениях, что переменные распределены нормально и однородны (представляют одну генеральную совокупность, не имеют выбросов), что далеко не всегда выполняется. Нарушение данных предположений может приводить к некорректной оценке степени корреляции, что может вводить нас в заблуждение. \n",
    "        \n",
    "    Помимо корреляции Пирсона интересно также проверять <a href = 'https://towardsdatascience.com/phik-k-get-familiar-with-the-latest-correlation-coefficient-9ba0032b37e7#:~:text=Phik%20(%F0%9D%9C%99k)%20is%20a%20new,a%20bivariate%20normal%20input%20distribution.'>Phik корреляцию</a>, у которой нет таких строгих предположений, и к тому же она способно улавливать нелинейные взаимосвязи, которые будут моделироваться в линейной регрессии немного иначе в зависимости от хараетера взаимосвязи (то есть ели phik обнаруживает какую-то более сильную взаимосвязь, чем линейный corr, значит есть смысл изучить характер взаимосвязи подробнее и постараться его учесть при моделировании)."
   ]
  },
  {
   "cell_type": "markdown",
   "metadata": {},
   "source": [
    "## Обучение и проверка модели"
   ]
  },
  {
   "cell_type": "markdown",
   "metadata": {},
   "source": [
    "Перед разбивкой данных и обучением моделей, применим технику порядкового кодирования при помощи функции OrdinalEncoder\n",
    "\n",
    "Порядковое кодирование по 1 региону"
   ]
  },
  {
   "cell_type": "code",
   "execution_count": 17,
   "metadata": {},
   "outputs": [],
   "source": [
    "#encoder_0 = OrdinalEncoder() \n",
    "#encoder_0.fit(data_0)\n",
    "#data_ordinal_0 = pd.DataFrame(encoder_0.transform(data_0), columns=data_0.columns)\n",
    "#\n",
    "#data_0.head()"
   ]
  },
  {
   "cell_type": "markdown",
   "metadata": {},
   "source": [
    "Порядковое кодирование по 2 региону"
   ]
  },
  {
   "cell_type": "code",
   "execution_count": 18,
   "metadata": {},
   "outputs": [],
   "source": [
    "#encoder_1 = OrdinalEncoder() \n",
    "#encoder_1.fit(data_1)\n",
    "#data_ordinal_1 = pd.DataFrame(encoder_1.transform(data_1), columns=data_1.columns)10\n",
    "#\n",
    "#data_1.head()"
   ]
  },
  {
   "cell_type": "markdown",
   "metadata": {},
   "source": [
    "Порядковое кодирование по 3 региону"
   ]
  },
  {
   "cell_type": "code",
   "execution_count": 19,
   "metadata": {},
   "outputs": [],
   "source": [
    "#encoder_2 = OrdinalEncoder() \n",
    "#encoder_2.fit(data_2)\n",
    "#data_ordinal_2 = pd.DataFrame(encoder_2.transform(data_2), columns=data_2.columns)\n",
    "#\n",
    "#data_2.head()"
   ]
  },
  {
   "cell_type": "markdown",
   "metadata": {},
   "source": [
    "<div class=\"alert alert-block alert-danger\">\n",
    "<h3> Комментарий ревьюера 2<a class=\"tocSkip\"></h3>\n",
    " \n",
    "<b>На доработку🤔:</b> OrdinalEncoder можно применять только когда категории имеют какую-то упорядоченность (больше/меньше, лучше/хуже), например, упорядоченными можно считать категории плохой, средний, хороший, очень хороший. Айди скважин не является чем-то упорядоченным, поэтому его кодирование бессмысленно."
   ]
  },
  {
   "cell_type": "markdown",
   "metadata": {},
   "source": [
    "<div class=\"alert alert-block alert-danger\">\n",
    "<h3> Комментарий ревьюера 3<a class=\"tocSkip\"></h3>\n",
    " \n",
    "<b>На доработку🤔:</b> OrdinalEncoder корректнее вообще убрать, так как с числовыми переменными он ничего не делает."
   ]
  },
  {
   "cell_type": "markdown",
   "metadata": {},
   "source": [
    "<br/>\n",
    "<div class=\"alert alert-success\">\n",
    "<h3> Комментарий студента 3 <a class=\"tocSkip\"> </h3>\n",
    "    \n",
    "<b>УБРАЛ ПОЛНОСТЬЮ</b>\n",
    "</div>"
   ]
  },
  {
   "cell_type": "markdown",
   "metadata": {},
   "source": [
    "<div class=\"alert alert-success\">\n",
    "<h3> Комментарий ревьюера 5<a class=\"tocSkip\"> </h3> \n",
    "    \n",
    "<b>Все отлично! 👍:</b> Отлично!"
   ]
  },
  {
   "cell_type": "markdown",
   "metadata": {},
   "source": [
    "Разобьём данные на обучающую и валидационную выборки в соотношении 75:25"
   ]
  },
  {
   "cell_type": "code",
   "execution_count": 20,
   "metadata": {},
   "outputs": [],
   "source": [
    "target_0=data_0['product']\n",
    "features_0=data_0.drop(['product'], axis=1)\n",
    "\n",
    "target_1=data_1['product']\n",
    "features_1=data_1.drop(['product'], axis=1)\n",
    "\n",
    "target_2=data_2['product']\n",
    "features_2=data_2.drop(['product'], axis=1)"
   ]
  },
  {
   "cell_type": "markdown",
   "metadata": {},
   "source": [
    "Регион 1"
   ]
  },
  {
   "cell_type": "code",
   "execution_count": 21,
   "metadata": {},
   "outputs": [
    {
     "name": "stdout",
     "output_type": "stream",
     "text": [
      "Размер тренировочной выборки- 75%\n",
      "Размер валидационной выборки - 25%\n"
     ]
    }
   ],
   "source": [
    "features_train_0, features_valid_0, target_train_0, target_valid_0 = train_test_split(features_0, target_0, test_size=0.25, random_state=42)\n",
    "tv=target_valid_0.shape[0]/target_0.shape[0]\n",
    "tt=target_train_0.shape[0]/target_0.shape[0]\n",
    "\n",
    "print('Размер тренировочной выборки- {:.0%}'.format(tt))\n",
    "print('Размер валидационной выборки - {:.0%}'.format(tv))"
   ]
  },
  {
   "cell_type": "markdown",
   "metadata": {},
   "source": [
    "Регион 2"
   ]
  },
  {
   "cell_type": "code",
   "execution_count": 22,
   "metadata": {},
   "outputs": [
    {
     "name": "stdout",
     "output_type": "stream",
     "text": [
      "Размер тренировочной выборки- 75%\n",
      "Размер валидационной выборки - 25%\n"
     ]
    }
   ],
   "source": [
    "features_train_1, features_valid_1, target_train_1, target_valid_1 = train_test_split(features_1, target_1, test_size=0.25, random_state=42)\n",
    "tv=target_valid_1.shape[0]/target_1.shape[0]\n",
    "tt=target_train_1.shape[0]/target_1.shape[0]\n",
    "\n",
    "print('Размер тренировочной выборки- {:.0%}'.format(tt))\n",
    "print('Размер валидационной выборки - {:.0%}'.format(tv))"
   ]
  },
  {
   "cell_type": "markdown",
   "metadata": {},
   "source": [
    "Обучим модель и сделаем предсказания на валидационной выборке, а так же оценим качество модели техникой RMSEи коэффициентом детерминации R2"
   ]
  },
  {
   "cell_type": "markdown",
   "metadata": {},
   "source": [
    "Регион 3"
   ]
  },
  {
   "cell_type": "code",
   "execution_count": 23,
   "metadata": {},
   "outputs": [
    {
     "name": "stdout",
     "output_type": "stream",
     "text": [
      "Размер тренировочной выборки- 75%\n",
      "Размер валидационной выборки - 25%\n"
     ]
    }
   ],
   "source": [
    "features_train_2, features_valid_2, target_train_2, target_valid_2 = train_test_split(features_2, target_2, test_size=0.25, random_state=42)\n",
    "tv=target_valid_2.shape[0]/target_2.shape[0]\n",
    "tt=target_train_2.shape[0]/target_2.shape[0]\n",
    "\n",
    "print('Размер тренировочной выборки- {:.0%}'.format(tt))\n",
    "print('Размер валидационной выборки - {:.0%}'.format(tv))"
   ]
  },
  {
   "cell_type": "code",
   "execution_count": 24,
   "metadata": {},
   "outputs": [
    {
     "name": "stdout",
     "output_type": "stream",
     "text": [
      "RMSE: 40.15\n",
      "Коэффициент детерминации: 0.20\n"
     ]
    }
   ],
   "source": [
    "# 3 регион\n",
    "model_2=LinearRegression()\n",
    "model_2.fit(features_train_2,target_train_2)\n",
    "predict_2=model_2.predict(features_valid_2)\n",
    "rmse_2 = mean_squared_error(target_valid_2, predict_2)**0.5\n",
    "print('RMSE: %.2f'% rmse_2)\n",
    "print('Коэффициент детерминации: %.2f' % r2_score(target_valid_2, predict_2))"
   ]
  },
  {
   "cell_type": "code",
   "execution_count": 25,
   "metadata": {},
   "outputs": [
    {
     "name": "stdout",
     "output_type": "stream",
     "text": [
      "RMSE: 37.76\n",
      "Коэффициент детерминации: 0.27\n"
     ]
    }
   ],
   "source": [
    "# 1 регион\n",
    "model_0=LinearRegression()\n",
    "model_0.fit(features_train_0,target_train_0)\n",
    "predict_0=model_0.predict(features_valid_0)\n",
    "rmse_0 = mean_squared_error(target_valid_0, predict_0)**0.5\n",
    "print('RMSE: %.2f'% rmse_0)\n",
    "print('Коэффициент детерминации: %.2f' % r2_score(target_valid_0, predict_0))"
   ]
  },
  {
   "cell_type": "code",
   "execution_count": 26,
   "metadata": {},
   "outputs": [
    {
     "name": "stdout",
     "output_type": "stream",
     "text": [
      "RMSE: 0.89\n",
      "Коэффициент детерминации: 1.00\n"
     ]
    }
   ],
   "source": [
    "# 2 регион\n",
    "model_1=LinearRegression()\n",
    "model_1.fit(features_train_1,target_train_1)\n",
    "predict_1=model_1.predict(features_valid_1)\n",
    "rmse_1=mean_squared_error(target_valid_1, predict_1)**0.5\n",
    "print('RMSE: %.2f' % rmse_1)\n",
    "print('Коэффициент детерминации: %.2f' % r2_score(target_valid_1, predict_1))"
   ]
  },
  {
   "cell_type": "markdown",
   "metadata": {},
   "source": [
    "<div class=\"alert alert-warning\">\n",
    "<h3> Комментарий ревьюера 2<a class=\"tocSkip\"> </h3>\n",
    "    \n",
    "<b>Некоторые замечания и рекомендации💡:</b> Хочу обратить твое внимание на то, что у тебя сейчас появилось достаточно много повторяющихся строчек кода, что немного нагромождает работу и повышает риск ошибок/опечаток. Чтобы повысить эффективность кода, мы можем, например, зациклить выполнение повторяющихся действий или создать для этого специальную функцию с шаблоном."
   ]
  },
  {
   "cell_type": "code",
   "execution_count": 27,
   "metadata": {},
   "outputs": [
    {
     "name": "stdout",
     "output_type": "stream",
     "text": [
      "1 регион:\n",
      "- предсказания модели: \"predict_0\"\n",
      "- правильные ответы: \"target_valid_0\"\n",
      "\n",
      "2 регион:\n",
      "- предсказания модели: \"predict_1\"\n",
      "- правильные ответы: \"target_valid_1\"\n",
      "\n",
      "3 регион:\n",
      "- предсказания модели: \"predict_2\"\n",
      "- правильные ответы: \"target_valid_2\"\n"
     ]
    }
   ],
   "source": [
    "print('1 регион:\\n- предсказания модели: \"predict_0\"\\n- правильные ответы: \"target_valid_0\"')\n",
    "print()\n",
    "print('2 регион:\\n- предсказания модели: \"predict_1\"\\n- правильные ответы: \"target_valid_1\"')\n",
    "print()\n",
    "print('3 регион:\\n- предсказания модели: \"predict_2\"\\n- правильные ответы: \"target_valid_2\"')"
   ]
  },
  {
   "cell_type": "markdown",
   "metadata": {},
   "source": [
    "Средний запас предсказанного сырья и RMSE модели"
   ]
  },
  {
   "cell_type": "code",
   "execution_count": 28,
   "metadata": {},
   "outputs": [
    {
     "data": {
      "text/html": [
       "<div>\n",
       "<style scoped>\n",
       "    .dataframe tbody tr th:only-of-type {\n",
       "        vertical-align: middle;\n",
       "    }\n",
       "\n",
       "    .dataframe tbody tr th {\n",
       "        vertical-align: top;\n",
       "    }\n",
       "\n",
       "    .dataframe thead th {\n",
       "        text-align: right;\n",
       "    }\n",
       "</style>\n",
       "<table border=\"1\" class=\"dataframe\">\n",
       "  <thead>\n",
       "    <tr style=\"text-align: right;\">\n",
       "      <th></th>\n",
       "      <th>1 регион</th>\n",
       "      <th>2 регион</th>\n",
       "      <th>3 регион</th>\n",
       "    </tr>\n",
       "  </thead>\n",
       "  <tbody>\n",
       "    <tr>\n",
       "      <th>средний запас предсказанного сырья</th>\n",
       "      <td>92.3988</td>\n",
       "      <td>68.712878</td>\n",
       "      <td>94.771024</td>\n",
       "    </tr>\n",
       "    <tr>\n",
       "      <th>RMSE модели</th>\n",
       "      <td>37.7566</td>\n",
       "      <td>0.890280</td>\n",
       "      <td>40.145872</td>\n",
       "    </tr>\n",
       "  </tbody>\n",
       "</table>\n",
       "</div>"
      ],
      "text/plain": [
       "                                    1 регион   2 регион   3 регион\n",
       "средний запас предсказанного сырья   92.3988  68.712878  94.771024\n",
       "RMSE модели                          37.7566   0.890280  40.145872"
      ]
     },
     "execution_count": 28,
     "metadata": {},
     "output_type": "execute_result"
    }
   ],
   "source": [
    "comparison_tabl = pd.DataFrame(index=['средний запас предсказанного сырья','RMSE модели'], columns=['1 регион','2 регион','3 регион'])\n",
    "comparison_tabl['1 регион'] = predict_0.mean(), rmse_0\n",
    "comparison_tabl['2 регион'] = predict_1.mean(), rmse_1\n",
    "comparison_tabl['3 регион'] = predict_2.mean(), rmse_2\n",
    "comparison_tabl"
   ]
  },
  {
   "cell_type": "markdown",
   "metadata": {},
   "source": [
    "Вывод\n",
    "\n",
    "Модели обучены и проверены на качество предсказания метрикой RMSE, которая определяет величину среднеквадратичной ошибки в предсказании модели. Исходя из полученных данный в нашей сводной таблицы, можно заметить, что величина RMSE во втором регионе сильно отличается от двух других, это связано с тем, что модель обучилась на практически равных по величине данных, и величина ошибки этой модели не может сильно варьирываться."
   ]
  },
  {
   "cell_type": "markdown",
   "metadata": {},
   "source": [
    "<div class=\"alert alert-success\">\n",
    "<h3> Комментарий ревьюера <a class=\"tocSkip\"> </h3> \n",
    "    \n",
    "<b>Все отлично! 👍:</b> Обучение и валидацию проводишь верно! Круто, что создаешь специальные функции для выполнения повторяющихся действий, это позволяет сделать код более аккуратным и эффективным. С этого момента бывают подводные камни. Мы получили валидационные подвыборки с помощью `train_test_split`, индексы при этом будут хаотичны в них (соответсвовать исходному датасету), а предсказания у нас упорядочены. За этим надо следить в данном проекте, чтобы потом правильно ставилось соответствие таргета и предсказания, именно для одной и той же скважины, поэтому здорово, что ты с этим сразу разобрался :)"
   ]
  },
  {
   "cell_type": "markdown",
   "metadata": {},
   "source": [
    "## Подготовка к расчёту прибыли"
   ]
  },
  {
   "cell_type": "markdown",
   "metadata": {},
   "source": [
    "### Все ключевые значения для расчётов сохраним в отдельных переменных"
   ]
  },
  {
   "cell_type": "code",
   "execution_count": 29,
   "metadata": {},
   "outputs": [],
   "source": [
    "BUDGET = 10000000 # Бюджет, тыс.руб\n",
    "INCOME_ONE_PROD = 450 # Доход с каждой единицы продукта составляет 450 тыс. рублей\n",
    "target_probability_losses = 2.5/100 # Вероятность убытков меньше 2,5%\n",
    "product_mean_0 = data_0['product'].mean()\n",
    "product_mean_1 = data_1['product'].mean()\n",
    "product_mean_2 = data_2['product'].mean()"
   ]
  },
  {
   "cell_type": "markdown",
   "metadata": {},
   "source": [
    "### Рассчитаем средний объём сырья в каждом регионе"
   ]
  },
  {
   "cell_type": "code",
   "execution_count": 30,
   "metadata": {},
   "outputs": [
    {
     "name": "stdout",
     "output_type": "stream",
     "text": [
      "Cредний запас в 1 регионе: 92.50 млн.бар\n",
      "Cредний запас в 2 регионе: 68.83 млн.бар\n",
      "Cредний запас в 3 регионе: 95.00 млн.бар\n"
     ]
    }
   ],
   "source": [
    "print('Cредний запас в 1 регионе: %.2f млн.бар'%product_mean_0)\n",
    "print('Cредний запас в 2 регионе: %.2f млн.бар'%product_mean_1)\n",
    "print('Cредний запас в 3 регионе: %.2f млн.бар'%product_mean_2)"
   ]
  },
  {
   "cell_type": "code",
   "execution_count": 31,
   "metadata": {},
   "outputs": [
    {
     "name": "stdout",
     "output_type": "stream",
     "text": [
      "Бюджет на разработку одной скважины: 50.0 млн.руб\n"
     ]
    }
   ],
   "source": [
    "budg_per_1_point=(BUDGET/200)# тыс.руб\n",
    "print('Бюджет на разработку одной скважины:', budg_per_1_point/1000,'млн.руб')"
   ]
  },
  {
   "cell_type": "markdown",
   "metadata": {},
   "source": [
    "#### Рассчитаем достаточный объём сырья для безубыточной разработки новой скважины"
   ]
  },
  {
   "cell_type": "code",
   "execution_count": 32,
   "metadata": {},
   "outputs": [
    {
     "name": "stdout",
     "output_type": "stream",
     "text": [
      "Объём каждой скважины для безубыточной разработки должен составлять не менее: 111.11 тыс.баррелей\n"
     ]
    }
   ],
   "source": [
    "v_prod=budg_per_1_point/INCOME_ONE_PROD\n",
    "print('Объём каждой скважины для безубыточной разработки должен составлять не менее: %.2f'%v_prod,'тыс.баррелей')"
   ]
  },
  {
   "cell_type": "markdown",
   "metadata": {},
   "source": [
    "#### Сравним полученный объём сырья со средним запасом в каждом регионе"
   ]
  },
  {
   "cell_type": "markdown",
   "metadata": {},
   "source": [
    "Регион 1"
   ]
  },
  {
   "cell_type": "code",
   "execution_count": 33,
   "metadata": {},
   "outputs": [
    {
     "data": {
      "text/html": [
       "<div>\n",
       "<style scoped>\n",
       "    .dataframe tbody tr th:only-of-type {\n",
       "        vertical-align: middle;\n",
       "    }\n",
       "\n",
       "    .dataframe tbody tr th {\n",
       "        vertical-align: top;\n",
       "    }\n",
       "\n",
       "    .dataframe thead th {\n",
       "        text-align: right;\n",
       "    }\n",
       "</style>\n",
       "<table border=\"1\" class=\"dataframe\">\n",
       "  <thead>\n",
       "    <tr style=\"text-align: right;\">\n",
       "      <th></th>\n",
       "      <th>f0</th>\n",
       "      <th>f1</th>\n",
       "      <th>f2</th>\n",
       "      <th>product</th>\n",
       "      <th>profit</th>\n",
       "    </tr>\n",
       "  </thead>\n",
       "  <tbody>\n",
       "    <tr>\n",
       "      <th>0</th>\n",
       "      <td>0.705745</td>\n",
       "      <td>-0.497823</td>\n",
       "      <td>1.221170</td>\n",
       "      <td>105.280062</td>\n",
       "      <td>47376.03</td>\n",
       "    </tr>\n",
       "    <tr>\n",
       "      <th>1</th>\n",
       "      <td>1.334711</td>\n",
       "      <td>-0.340164</td>\n",
       "      <td>4.365080</td>\n",
       "      <td>73.037750</td>\n",
       "      <td>32866.99</td>\n",
       "    </tr>\n",
       "    <tr>\n",
       "      <th>2</th>\n",
       "      <td>1.022732</td>\n",
       "      <td>0.151990</td>\n",
       "      <td>1.419926</td>\n",
       "      <td>85.265647</td>\n",
       "      <td>38369.54</td>\n",
       "    </tr>\n",
       "    <tr>\n",
       "      <th>3</th>\n",
       "      <td>-0.032172</td>\n",
       "      <td>0.139033</td>\n",
       "      <td>2.978566</td>\n",
       "      <td>168.620776</td>\n",
       "      <td>75879.35</td>\n",
       "    </tr>\n",
       "    <tr>\n",
       "      <th>4</th>\n",
       "      <td>1.988431</td>\n",
       "      <td>0.155413</td>\n",
       "      <td>4.751769</td>\n",
       "      <td>154.036647</td>\n",
       "      <td>69316.49</td>\n",
       "    </tr>\n",
       "  </tbody>\n",
       "</table>\n",
       "</div>"
      ],
      "text/plain": [
       "         f0        f1        f2     product    profit\n",
       "0  0.705745 -0.497823  1.221170  105.280062  47376.03\n",
       "1  1.334711 -0.340164  4.365080   73.037750  32866.99\n",
       "2  1.022732  0.151990  1.419926   85.265647  38369.54\n",
       "3 -0.032172  0.139033  2.978566  168.620776  75879.35\n",
       "4  1.988431  0.155413  4.751769  154.036647  69316.49"
      ]
     },
     "execution_count": 33,
     "metadata": {},
     "output_type": "execute_result"
    }
   ],
   "source": [
    "data_0['profit']=(data_0['product']*(INCOME_ONE_PROD)).round(2) # profit, тыс.руб\n",
    "data_0.head()"
   ]
  },
  {
   "cell_type": "code",
   "execution_count": 34,
   "metadata": {},
   "outputs": [
    {
     "data": {
      "text/html": [
       "<div>\n",
       "<style scoped>\n",
       "    .dataframe tbody tr th:only-of-type {\n",
       "        vertical-align: middle;\n",
       "    }\n",
       "\n",
       "    .dataframe tbody tr th {\n",
       "        vertical-align: top;\n",
       "    }\n",
       "\n",
       "    .dataframe thead th {\n",
       "        text-align: right;\n",
       "    }\n",
       "</style>\n",
       "<table border=\"1\" class=\"dataframe\">\n",
       "  <thead>\n",
       "    <tr style=\"text-align: right;\">\n",
       "      <th></th>\n",
       "      <th>f0</th>\n",
       "      <th>f1</th>\n",
       "      <th>f2</th>\n",
       "      <th>product</th>\n",
       "      <th>profit</th>\n",
       "      <th>roi_%</th>\n",
       "    </tr>\n",
       "  </thead>\n",
       "  <tbody>\n",
       "    <tr>\n",
       "      <th>0</th>\n",
       "      <td>0.705745</td>\n",
       "      <td>-0.497823</td>\n",
       "      <td>1.221170</td>\n",
       "      <td>105.280062</td>\n",
       "      <td>47376.03</td>\n",
       "      <td>-5.25</td>\n",
       "    </tr>\n",
       "    <tr>\n",
       "      <th>1</th>\n",
       "      <td>1.334711</td>\n",
       "      <td>-0.340164</td>\n",
       "      <td>4.365080</td>\n",
       "      <td>73.037750</td>\n",
       "      <td>32866.99</td>\n",
       "      <td>-34.27</td>\n",
       "    </tr>\n",
       "    <tr>\n",
       "      <th>2</th>\n",
       "      <td>1.022732</td>\n",
       "      <td>0.151990</td>\n",
       "      <td>1.419926</td>\n",
       "      <td>85.265647</td>\n",
       "      <td>38369.54</td>\n",
       "      <td>-23.26</td>\n",
       "    </tr>\n",
       "    <tr>\n",
       "      <th>3</th>\n",
       "      <td>-0.032172</td>\n",
       "      <td>0.139033</td>\n",
       "      <td>2.978566</td>\n",
       "      <td>168.620776</td>\n",
       "      <td>75879.35</td>\n",
       "      <td>51.76</td>\n",
       "    </tr>\n",
       "    <tr>\n",
       "      <th>4</th>\n",
       "      <td>1.988431</td>\n",
       "      <td>0.155413</td>\n",
       "      <td>4.751769</td>\n",
       "      <td>154.036647</td>\n",
       "      <td>69316.49</td>\n",
       "      <td>38.63</td>\n",
       "    </tr>\n",
       "  </tbody>\n",
       "</table>\n",
       "</div>"
      ],
      "text/plain": [
       "         f0        f1        f2     product    profit  roi_%\n",
       "0  0.705745 -0.497823  1.221170  105.280062  47376.03  -5.25\n",
       "1  1.334711 -0.340164  4.365080   73.037750  32866.99 -34.27\n",
       "2  1.022732  0.151990  1.419926   85.265647  38369.54 -23.26\n",
       "3 -0.032172  0.139033  2.978566  168.620776  75879.35  51.76\n",
       "4  1.988431  0.155413  4.751769  154.036647  69316.49  38.63"
      ]
     },
     "execution_count": 34,
     "metadata": {},
     "output_type": "execute_result"
    }
   ],
   "source": [
    "# Определим значение ROI для каждой скважины по отношению к затратам на разработку\n",
    "data_0['roi_%']=((data_0['profit']-budg_per_1_point)/budg_per_1_point*100).round(2)\n",
    "data_0.head()"
   ]
  },
  {
   "cell_type": "code",
   "execution_count": 35,
   "metadata": {},
   "outputs": [
    {
     "name": "stdout",
     "output_type": "stream",
     "text": [
      "Разница объёма сырья для безубыточной разработки скважины относительно среднего значения по 1 региону составляет: -16.75%\n",
      "Или 18.61 тыс.баррелей\n"
     ]
    }
   ],
   "source": [
    "print('Разница объёма сырья для безубыточной разработки скважины относительно среднего значения по 1 региону составляет: {:.2%}'.format(product_mean_0/v_prod-1))\n",
    "print('Или {:.2f} тыс.баррелей'.format(v_prod-product_mean_0))"
   ]
  },
  {
   "cell_type": "markdown",
   "metadata": {},
   "source": [
    "Регион 2"
   ]
  },
  {
   "cell_type": "code",
   "execution_count": 36,
   "metadata": {},
   "outputs": [
    {
     "data": {
      "text/html": [
       "<div>\n",
       "<style scoped>\n",
       "    .dataframe tbody tr th:only-of-type {\n",
       "        vertical-align: middle;\n",
       "    }\n",
       "\n",
       "    .dataframe tbody tr th {\n",
       "        vertical-align: top;\n",
       "    }\n",
       "\n",
       "    .dataframe thead th {\n",
       "        text-align: right;\n",
       "    }\n",
       "</style>\n",
       "<table border=\"1\" class=\"dataframe\">\n",
       "  <thead>\n",
       "    <tr style=\"text-align: right;\">\n",
       "      <th></th>\n",
       "      <th>f0</th>\n",
       "      <th>f1</th>\n",
       "      <th>f2</th>\n",
       "      <th>product</th>\n",
       "      <th>profit</th>\n",
       "    </tr>\n",
       "  </thead>\n",
       "  <tbody>\n",
       "    <tr>\n",
       "      <th>0</th>\n",
       "      <td>-15.001348</td>\n",
       "      <td>-8.276000</td>\n",
       "      <td>-0.005876</td>\n",
       "      <td>3.179103</td>\n",
       "      <td>1430.60</td>\n",
       "    </tr>\n",
       "    <tr>\n",
       "      <th>1</th>\n",
       "      <td>14.272088</td>\n",
       "      <td>-3.475083</td>\n",
       "      <td>0.999183</td>\n",
       "      <td>26.953261</td>\n",
       "      <td>12128.97</td>\n",
       "    </tr>\n",
       "    <tr>\n",
       "      <th>2</th>\n",
       "      <td>6.263187</td>\n",
       "      <td>-5.948386</td>\n",
       "      <td>5.001160</td>\n",
       "      <td>134.766305</td>\n",
       "      <td>60644.84</td>\n",
       "    </tr>\n",
       "    <tr>\n",
       "      <th>3</th>\n",
       "      <td>-13.081196</td>\n",
       "      <td>-11.506057</td>\n",
       "      <td>4.999415</td>\n",
       "      <td>137.945408</td>\n",
       "      <td>62075.43</td>\n",
       "    </tr>\n",
       "    <tr>\n",
       "      <th>4</th>\n",
       "      <td>12.702195</td>\n",
       "      <td>-8.147433</td>\n",
       "      <td>5.004363</td>\n",
       "      <td>134.766305</td>\n",
       "      <td>60644.84</td>\n",
       "    </tr>\n",
       "  </tbody>\n",
       "</table>\n",
       "</div>"
      ],
      "text/plain": [
       "          f0         f1        f2     product    profit\n",
       "0 -15.001348  -8.276000 -0.005876    3.179103   1430.60\n",
       "1  14.272088  -3.475083  0.999183   26.953261  12128.97\n",
       "2   6.263187  -5.948386  5.001160  134.766305  60644.84\n",
       "3 -13.081196 -11.506057  4.999415  137.945408  62075.43\n",
       "4  12.702195  -8.147433  5.004363  134.766305  60644.84"
      ]
     },
     "execution_count": 36,
     "metadata": {},
     "output_type": "execute_result"
    }
   ],
   "source": [
    "data_1['profit']=(data_1['product']*INCOME_ONE_PROD).round(2) # profit, тыс.руб\n",
    "data_1.head()"
   ]
  },
  {
   "cell_type": "code",
   "execution_count": 37,
   "metadata": {},
   "outputs": [
    {
     "data": {
      "text/html": [
       "<div>\n",
       "<style scoped>\n",
       "    .dataframe tbody tr th:only-of-type {\n",
       "        vertical-align: middle;\n",
       "    }\n",
       "\n",
       "    .dataframe tbody tr th {\n",
       "        vertical-align: top;\n",
       "    }\n",
       "\n",
       "    .dataframe thead th {\n",
       "        text-align: right;\n",
       "    }\n",
       "</style>\n",
       "<table border=\"1\" class=\"dataframe\">\n",
       "  <thead>\n",
       "    <tr style=\"text-align: right;\">\n",
       "      <th></th>\n",
       "      <th>f0</th>\n",
       "      <th>f1</th>\n",
       "      <th>f2</th>\n",
       "      <th>product</th>\n",
       "      <th>profit</th>\n",
       "      <th>roi_%</th>\n",
       "    </tr>\n",
       "  </thead>\n",
       "  <tbody>\n",
       "    <tr>\n",
       "      <th>0</th>\n",
       "      <td>-15.001348</td>\n",
       "      <td>-8.276000</td>\n",
       "      <td>-0.005876</td>\n",
       "      <td>3.179103</td>\n",
       "      <td>1430.60</td>\n",
       "      <td>-97.14</td>\n",
       "    </tr>\n",
       "    <tr>\n",
       "      <th>1</th>\n",
       "      <td>14.272088</td>\n",
       "      <td>-3.475083</td>\n",
       "      <td>0.999183</td>\n",
       "      <td>26.953261</td>\n",
       "      <td>12128.97</td>\n",
       "      <td>-75.74</td>\n",
       "    </tr>\n",
       "    <tr>\n",
       "      <th>2</th>\n",
       "      <td>6.263187</td>\n",
       "      <td>-5.948386</td>\n",
       "      <td>5.001160</td>\n",
       "      <td>134.766305</td>\n",
       "      <td>60644.84</td>\n",
       "      <td>21.29</td>\n",
       "    </tr>\n",
       "    <tr>\n",
       "      <th>3</th>\n",
       "      <td>-13.081196</td>\n",
       "      <td>-11.506057</td>\n",
       "      <td>4.999415</td>\n",
       "      <td>137.945408</td>\n",
       "      <td>62075.43</td>\n",
       "      <td>24.15</td>\n",
       "    </tr>\n",
       "    <tr>\n",
       "      <th>4</th>\n",
       "      <td>12.702195</td>\n",
       "      <td>-8.147433</td>\n",
       "      <td>5.004363</td>\n",
       "      <td>134.766305</td>\n",
       "      <td>60644.84</td>\n",
       "      <td>21.29</td>\n",
       "    </tr>\n",
       "  </tbody>\n",
       "</table>\n",
       "</div>"
      ],
      "text/plain": [
       "          f0         f1        f2     product    profit  roi_%\n",
       "0 -15.001348  -8.276000 -0.005876    3.179103   1430.60 -97.14\n",
       "1  14.272088  -3.475083  0.999183   26.953261  12128.97 -75.74\n",
       "2   6.263187  -5.948386  5.001160  134.766305  60644.84  21.29\n",
       "3 -13.081196 -11.506057  4.999415  137.945408  62075.43  24.15\n",
       "4  12.702195  -8.147433  5.004363  134.766305  60644.84  21.29"
      ]
     },
     "execution_count": 37,
     "metadata": {},
     "output_type": "execute_result"
    }
   ],
   "source": [
    "# Определим значение ROI для каждой скважины по отношению к затратам на разработку\n",
    "data_1['roi_%']=((data_1['profit']-budg_per_1_point)/budg_per_1_point*100).round(2)\n",
    "data_1.head()"
   ]
  },
  {
   "cell_type": "code",
   "execution_count": 38,
   "metadata": {},
   "outputs": [
    {
     "name": "stdout",
     "output_type": "stream",
     "text": [
      "Разница объёма сырья для безубыточной разработки скважины относительно среднего значения по 2 региону составляет: -38.06%\n",
      "Или 42.29 тыс.баррелей\n"
     ]
    }
   ],
   "source": [
    "print('Разница объёма сырья для безубыточной разработки скважины относительно среднего значения по 2 региону составляет: {:.2%}'.format(product_mean_1/v_prod-1))\n",
    "print('Или {:.2f} тыс.баррелей'.format(v_prod-product_mean_1))"
   ]
  },
  {
   "cell_type": "markdown",
   "metadata": {},
   "source": [
    "Регион 3"
   ]
  },
  {
   "cell_type": "code",
   "execution_count": 39,
   "metadata": {},
   "outputs": [
    {
     "data": {
      "text/html": [
       "<div>\n",
       "<style scoped>\n",
       "    .dataframe tbody tr th:only-of-type {\n",
       "        vertical-align: middle;\n",
       "    }\n",
       "\n",
       "    .dataframe tbody tr th {\n",
       "        vertical-align: top;\n",
       "    }\n",
       "\n",
       "    .dataframe thead th {\n",
       "        text-align: right;\n",
       "    }\n",
       "</style>\n",
       "<table border=\"1\" class=\"dataframe\">\n",
       "  <thead>\n",
       "    <tr style=\"text-align: right;\">\n",
       "      <th></th>\n",
       "      <th>f0</th>\n",
       "      <th>f1</th>\n",
       "      <th>f2</th>\n",
       "      <th>product</th>\n",
       "      <th>profit</th>\n",
       "    </tr>\n",
       "  </thead>\n",
       "  <tbody>\n",
       "    <tr>\n",
       "      <th>0</th>\n",
       "      <td>-1.146987</td>\n",
       "      <td>0.963328</td>\n",
       "      <td>-0.828965</td>\n",
       "      <td>27.758673</td>\n",
       "      <td>12491.40</td>\n",
       "    </tr>\n",
       "    <tr>\n",
       "      <th>1</th>\n",
       "      <td>0.262778</td>\n",
       "      <td>0.269839</td>\n",
       "      <td>-2.530187</td>\n",
       "      <td>56.069697</td>\n",
       "      <td>25231.36</td>\n",
       "    </tr>\n",
       "    <tr>\n",
       "      <th>2</th>\n",
       "      <td>0.194587</td>\n",
       "      <td>0.289035</td>\n",
       "      <td>-5.586433</td>\n",
       "      <td>62.871910</td>\n",
       "      <td>28292.36</td>\n",
       "    </tr>\n",
       "    <tr>\n",
       "      <th>3</th>\n",
       "      <td>2.236060</td>\n",
       "      <td>-0.553760</td>\n",
       "      <td>0.930038</td>\n",
       "      <td>114.572842</td>\n",
       "      <td>51557.78</td>\n",
       "    </tr>\n",
       "    <tr>\n",
       "      <th>4</th>\n",
       "      <td>-0.515993</td>\n",
       "      <td>1.716266</td>\n",
       "      <td>5.899011</td>\n",
       "      <td>149.600746</td>\n",
       "      <td>67320.34</td>\n",
       "    </tr>\n",
       "  </tbody>\n",
       "</table>\n",
       "</div>"
      ],
      "text/plain": [
       "         f0        f1        f2     product    profit\n",
       "0 -1.146987  0.963328 -0.828965   27.758673  12491.40\n",
       "1  0.262778  0.269839 -2.530187   56.069697  25231.36\n",
       "2  0.194587  0.289035 -5.586433   62.871910  28292.36\n",
       "3  2.236060 -0.553760  0.930038  114.572842  51557.78\n",
       "4 -0.515993  1.716266  5.899011  149.600746  67320.34"
      ]
     },
     "execution_count": 39,
     "metadata": {},
     "output_type": "execute_result"
    }
   ],
   "source": [
    "data_2['profit']=(data_2['product']*INCOME_ONE_PROD).round(2) # profit, тыс.руб\n",
    "data_2.head()"
   ]
  },
  {
   "cell_type": "code",
   "execution_count": 40,
   "metadata": {},
   "outputs": [
    {
     "data": {
      "text/html": [
       "<div>\n",
       "<style scoped>\n",
       "    .dataframe tbody tr th:only-of-type {\n",
       "        vertical-align: middle;\n",
       "    }\n",
       "\n",
       "    .dataframe tbody tr th {\n",
       "        vertical-align: top;\n",
       "    }\n",
       "\n",
       "    .dataframe thead th {\n",
       "        text-align: right;\n",
       "    }\n",
       "</style>\n",
       "<table border=\"1\" class=\"dataframe\">\n",
       "  <thead>\n",
       "    <tr style=\"text-align: right;\">\n",
       "      <th></th>\n",
       "      <th>f0</th>\n",
       "      <th>f1</th>\n",
       "      <th>f2</th>\n",
       "      <th>product</th>\n",
       "      <th>profit</th>\n",
       "      <th>roi_%</th>\n",
       "    </tr>\n",
       "  </thead>\n",
       "  <tbody>\n",
       "    <tr>\n",
       "      <th>0</th>\n",
       "      <td>-1.146987</td>\n",
       "      <td>0.963328</td>\n",
       "      <td>-0.828965</td>\n",
       "      <td>27.758673</td>\n",
       "      <td>12491.40</td>\n",
       "      <td>-75.02</td>\n",
       "    </tr>\n",
       "    <tr>\n",
       "      <th>1</th>\n",
       "      <td>0.262778</td>\n",
       "      <td>0.269839</td>\n",
       "      <td>-2.530187</td>\n",
       "      <td>56.069697</td>\n",
       "      <td>25231.36</td>\n",
       "      <td>-49.54</td>\n",
       "    </tr>\n",
       "    <tr>\n",
       "      <th>2</th>\n",
       "      <td>0.194587</td>\n",
       "      <td>0.289035</td>\n",
       "      <td>-5.586433</td>\n",
       "      <td>62.871910</td>\n",
       "      <td>28292.36</td>\n",
       "      <td>-43.42</td>\n",
       "    </tr>\n",
       "    <tr>\n",
       "      <th>3</th>\n",
       "      <td>2.236060</td>\n",
       "      <td>-0.553760</td>\n",
       "      <td>0.930038</td>\n",
       "      <td>114.572842</td>\n",
       "      <td>51557.78</td>\n",
       "      <td>3.12</td>\n",
       "    </tr>\n",
       "    <tr>\n",
       "      <th>4</th>\n",
       "      <td>-0.515993</td>\n",
       "      <td>1.716266</td>\n",
       "      <td>5.899011</td>\n",
       "      <td>149.600746</td>\n",
       "      <td>67320.34</td>\n",
       "      <td>34.64</td>\n",
       "    </tr>\n",
       "  </tbody>\n",
       "</table>\n",
       "</div>"
      ],
      "text/plain": [
       "         f0        f1        f2     product    profit  roi_%\n",
       "0 -1.146987  0.963328 -0.828965   27.758673  12491.40 -75.02\n",
       "1  0.262778  0.269839 -2.530187   56.069697  25231.36 -49.54\n",
       "2  0.194587  0.289035 -5.586433   62.871910  28292.36 -43.42\n",
       "3  2.236060 -0.553760  0.930038  114.572842  51557.78   3.12\n",
       "4 -0.515993  1.716266  5.899011  149.600746  67320.34  34.64"
      ]
     },
     "execution_count": 40,
     "metadata": {},
     "output_type": "execute_result"
    }
   ],
   "source": [
    "# Определим значение ROI для каждой скважины по отношению к затратам на разработку\n",
    "data_2['roi_%']=((data_2['profit']-budg_per_1_point)/budg_per_1_point*100).round(2)\n",
    "data_2.head()"
   ]
  },
  {
   "cell_type": "code",
   "execution_count": 41,
   "metadata": {},
   "outputs": [
    {
     "name": "stdout",
     "output_type": "stream",
     "text": [
      "Разница объёма сырья для безубыточной разработки скважины относительно среднего значения по 3 региону составляет: -14.50%\n",
      "Или 16.11 тыс.баррелей\n"
     ]
    }
   ],
   "source": [
    "print('Разница объёма сырья для безубыточной разработки скважины относительно среднего значения по 3 региону составляет: {:.2%}'.format(product_mean_2/v_prod-1))\n",
    "print('Или {:.2f} тыс.баррелей'.format(v_prod-product_mean_2))"
   ]
  },
  {
   "cell_type": "markdown",
   "metadata": {},
   "source": [
    "### Вывод\n",
    "\n",
    "Исходя из полученных данных становится очевидно, что среднее количество запасов сырья по регионам недостаточное даже для окупаемости разработки, требуется выбрать скважины с максимальными запасами"
   ]
  },
  {
   "cell_type": "markdown",
   "metadata": {},
   "source": [
    "## Функция для расчёта прибыли по выбранным скважинам и предсказаниям модели:\n",
    "\n",
    "### Выберем скважины с максимальными значениями предсказаний"
   ]
  },
  {
   "cell_type": "code",
   "execution_count": 42,
   "metadata": {},
   "outputs": [
    {
     "data": {
      "text/plain": [
       "array([101.90101715,  78.21777385, 115.26690103, ...,  82.54439653,\n",
       "        81.82668931,  93.12106221])"
      ]
     },
     "execution_count": 42,
     "metadata": {},
     "output_type": "execute_result"
    }
   ],
   "source": [
    "predict_0"
   ]
  },
  {
   "cell_type": "code",
   "execution_count": 43,
   "metadata": {},
   "outputs": [
    {
     "data": {
      "text/plain": [
       "46784    176.536104\n",
       "27658    176.274510\n",
       "6496     173.249504\n",
       "65743    172.802708\n",
       "93716    172.744977\n",
       "            ...    \n",
       "14042    146.952653\n",
       "65925    146.948764\n",
       "65549    146.947483\n",
       "9462     146.946515\n",
       "39838    146.874947\n",
       "Length: 200, dtype: float64"
      ]
     },
     "execution_count": 43,
     "metadata": {},
     "output_type": "execute_result"
    }
   ],
   "source": [
    "probs_sorted_0 = pd.Series(predict_0, index=target_valid_0.index).sort_values(ascending=False)\n",
    "selected_max_0 = probs_sorted_0[:200]\n",
    "selected_max_0"
   ]
  },
  {
   "cell_type": "markdown",
   "metadata": {},
   "source": [
    "### Просуммируем целевое значение объёма сырья, соответствующее этим предсказаниям"
   ]
  },
  {
   "cell_type": "code",
   "execution_count": 44,
   "metadata": {},
   "outputs": [
    {
     "name": "stdout",
     "output_type": "stream",
     "text": [
      "Суммарный запас сырья в 200 лучших скважинах составит: 30881.46 тыс.баррелей\n"
     ]
    }
   ],
   "source": [
    "selected_max_0_sum = selected_max_0.sum()\n",
    "print('Суммарный запас сырья в 200 лучших скважинах составит: %.2f тыс.баррелей'%selected_max_0_sum)"
   ]
  },
  {
   "cell_type": "markdown",
   "metadata": {},
   "source": [
    "### Рассчитаем прибыль для полученного объёма сырья"
   ]
  },
  {
   "cell_type": "code",
   "execution_count": 45,
   "metadata": {},
   "outputs": [
    {
     "name": "stdout",
     "output_type": "stream",
     "text": [
      "Прибыль для полученного объёма сырья составит 3896658.48 тыс.рублей\n"
     ]
    }
   ],
   "source": [
    "profit_pred_0=(selected_max_0_sum*INCOME_ONE_PROD)-BUDGET\n",
    "print('Прибыль для полученного объёма сырья составит %.2f тыс.рублей'%profit_pred_0)"
   ]
  },
  {
   "cell_type": "markdown",
   "metadata": {},
   "source": [
    "## Посчитаем риски и прибыль для каждого региона"
   ]
  },
  {
   "cell_type": "markdown",
   "metadata": {},
   "source": [
    "### Применим технику Boootatrap с 1000 выборок, чтобы найти распределение прибыли"
   ]
  },
  {
   "cell_type": "markdown",
   "metadata": {},
   "source": [
    "<div class=\"alert alert-warning\">\n",
    "<h3> Комментарий ревьюера <a class=\"tocSkip\"> </h3>\n",
    "    \n",
    "<b>Некоторые замечания и рекомендации💡:</b> \n",
    "    \n",
    "* Согласно стандартам оформления <a href = 'https://pythonworld.ru/osnovy/pep-8-rukovodstvo-po-napisaniyu-koda-na-python.html#section-29'>PEP-8</a> названия констант принято задавать заглавными буквами (например, BUDGET). Также на будущее скажу, что стандарты разработки рекомендуют объявлять их в начале пректа: сначала идут импорты, затем константы, потом пользовательские функции и классы (с комментариями, для чего каждый из созданных объектов предназначен). К исследовательским проектам это применяется реже, но в некоторых случаях действительно оказывается полезным.\n",
    "    \n",
    "    \n",
    "* Кроме как через степень (10**10 = 1e10) большие числа еще можно записывать так: 10_000_000_000. \n",
    "    \n",
    "    \n",
    "* Было бы неплохо задать константы для количества исследуемых и обрабатываемых скважин, чтобы при изменении стратении можно было быстро и корректно пересчитать результаты."
   ]
  },
  {
   "cell_type": "markdown",
   "metadata": {},
   "source": [
    "<div class=\"alert alert-success\">\n",
    "<h3> Комментарий ревьюера <a class=\"tocSkip\"> </h3> \n",
    "    \n",
    "<b>Все отлично! 👍:</b> Все верно! Во всех регионах средняя концентрация продукта слишком низкая, чтобы выбирать точки случайно, поэтому нужен хороший механизм для отбора."
   ]
  },
  {
   "cell_type": "code",
   "execution_count": 46,
   "metadata": {},
   "outputs": [],
   "source": [
    "def profit_for_vp2(predict,target, count):\n",
    "    probs_sorted = pd.Series(predict).sort_values(ascending=False)[:200]\n",
    "    selected_points = target[probs_sorted.index][:count]\n",
    "    product = selected_points.sum()\n",
    "    revenue = product * INCOME_ONE_PROD\n",
    "    return revenue - BUDGET"
   ]
  },
  {
   "cell_type": "code",
   "execution_count": 47,
   "metadata": {},
   "outputs": [],
   "source": [
    "target_valid_0 = target_valid_0.reset_index(drop=True)\n",
    "target_valid_1 = target_valid_1.reset_index(drop=True)\n",
    "target_valid_2 = target_valid_2.reset_index(drop=True)\n",
    "\n",
    "target_valid_test = [target_valid_0, target_valid_1, target_valid_2]\n",
    "predict_test = [predict_0, predict_1, predict_2]"
   ]
  },
  {
   "cell_type": "markdown",
   "metadata": {},
   "source": [
    "<div class=\"alert alert-success\">\n",
    "<h3> # Комментарий студента 5 <a class=\"tocSkip\"> </h3>\n",
    "    \n",
    "<b>Уважаемый ревьюер, Юлия! Надеюсь я вас правильно понял и сбросил индексы непосредственно перед функцией. Может быть я сделал лишнюю работу, но решил добавить списки.</b>\n",
    "</div>"
   ]
  },
  {
   "cell_type": "markdown",
   "metadata": {},
   "source": [
    "<div class=\"alert alert-block alert-danger\">\n",
    "<h3> Комментарий ревьюера 6<a class=\"tocSkip\"></h3>\n",
    " \n",
    "<b>На доработку🤔:</b> Отлично, мы разобрались, как сбрасывать индексы! Это дейсвительно важно делать перед началом проведения бутстрепа чтобы настроить соответствие таргета и предсказаний, но эта проблема у тебя уже решалась ниже немного иным способом. Основная же проблема, которую мы так долго страраемся решить - это проблема, которая возникает **во время** проведения бутстрепа:\n",
    "    \n",
    "1. На каждой из 1000 итераций мы формируем сабсемпл таргета с помощью функции `sample`, но из-за того, что нам нужна выборка с возвращением (`replace = True`), у нас образуются повторения в индексах.\n",
    "    \n",
    "    \n",
    "2. Далее мы формируем сабсемпл предсказаний, и в нем тоже оказываются повторения.\n",
    "    \n",
    "    \n",
    "3. **С повторениями в индексах идти дальше считать прибыль нельзя - это приведет к завышению прибыли и занижению рисков, поэтому на этом моменте нам нужно сбросить эти повторяющиейся индексы у обоих сабсемплов.**\n",
    "    \n",
    "    \n",
    "4. Только теперь мы можем отправлять наши сабсемплы с новенькими уникальными индексами в функцию прибыли.\n",
    "    \n",
    "    \n",
    "    \n",
    "Списки - очень хорошая идея! Теперь можно удобно зацикливать проведение бутстреапа :)"
   ]
  },
  {
   "cell_type": "code",
   "execution_count": 48,
   "metadata": {},
   "outputs": [],
   "source": [
    "def bootstap(target,predict):\n",
    "    values = []\n",
    "    count=0\n",
    "    state = np.random.RandomState(12345)\n",
    "    \n",
    "    predict_e = pd.Series(predict, index=target.index)\n",
    "    \n",
    "    for i in range(1000):\n",
    "        target_subsample = target.sample(n=500,replace=True, random_state=state)                     \n",
    "        probs_subsample = predict_e[target_subsample.index] \n",
    "        \n",
    "        \n",
    "        \n",
    "        # 1 вариант\n",
    "        target_subsample.reset_index(drop=True, inplace = True) #!!!!!! перенёс сброс индексации после формирования двух сабсэмплов\n",
    "        probs_subsample.reset_index(drop=True, inplace = True)  #!!!!!!\n",
    "        \n",
    "        \n",
    "        # 2 вариант\n",
    "        # target_subsample = target_subsample.reset_index(drop=True)\n",
    "        # probs_subsample = probs_subsample.reset_index(drop=True)\n",
    "        \n",
    "        values.append(profit_for_vp2(probs_subsample,target_subsample, 200))\n",
    "    for i in values:\n",
    "        if i < 0:\n",
    "            count +=1\n",
    "            \n",
    "    values = pd.Series(values)\n",
    "    mean = values.mean()\n",
    "    confidence_interval = st.t.interval(0.95, len(values)-1, values.mean(), values.sem())\n",
    "\n",
    "    lower = values.quantile(0.025)\n",
    "    upper = values.quantile(0.975)\n",
    "    \n",
    "    print(\"Средняя прибыль: {:.1f} млн.руб\".format(mean/1000))    \n",
    "    print('С вероятностью 95% прибыль в данном регионе будет составлять от: {:.1f} млн.руб до: {:.1f} млн.руб'.format((lower/1000),(upper/1000)))\n",
    "    print(\"95%-ый доверительный интервал: от {:.1f} млн.руб до {:.1f} млн.руб\". format((confidence_interval[0]/1000),(confidence_interval[1]/1000)))\n",
    "    print ('Процент вероятности убытка в данном регионе составит {:.1%}'.format(count/1000))"
   ]
  },
  {
   "cell_type": "markdown",
   "metadata": {},
   "source": [
    "<div class=\"alert alert-success\">\n",
    "<h3> Комментарий студента # 6 <a class=\"tocSkip\"> </h3>\n",
    "    \n",
    "<b>Уважаемый ревьюер, скинул индексы subsamle`s закоментировал действия !!!!!!!!!!!!!!. Прогщу ваших комментариев.</b>\n",
    "</div>"
   ]
  },
  {
   "cell_type": "markdown",
   "metadata": {},
   "source": [
    "<div class=\"alert alert-block alert-danger\">\n",
    "<h3> Комментарий ревьюера 7<a class=\"tocSkip\"></h3>\n",
    " \n",
    "<b>На доработку🤔:</b> Первый сброс индексов не на своем месте: если мы сбросим индексы сабсемпла таргета до того, как сформируем сабсемпл предсказаний, то мы потеряем связь между таргетом и предсказаниями, значит второй сабсемпл будет сформирован некорретно.\n",
    "    \n",
    "    \n",
    "Необходимо сначала сформировать **оба** сабсемпла, потом только сбросить у **обоих**.\n",
    "    \n",
    "    \n",
    "    \n",
    "Также заметь, что по дефолту параметр `inplace` в функции `reset_index` равен `False`, то есть изменения сами собой в векторе не сохранятся. Нужно либо поменять данные параметр на `True`, либо производить прямое сохранение изменений через `=`"
   ]
  },
  {
   "cell_type": "markdown",
   "metadata": {},
   "source": [
    "<div class=\"alert alert-success\">\n",
    "<h3> Комментарий студента # 7 <a class=\"tocSkip\"> </h3>\n",
    "    \n",
    "<b>Уважаемый ревьюер, сначала сформировал сабсэмплы, потом скинул индексы, порядок изменил на должный.\n",
    "    Единственное чего я не смог в действительности найти, это inplace  про который вы говорите. С уважением, студент!</b>\n",
    "</div>"
   ]
  },
  {
   "cell_type": "markdown",
   "metadata": {},
   "source": [
    "<div class=\"alert alert-block alert-danger\">\n",
    "<h3> Комментарий ревьюера 8<a class=\"tocSkip\"></h3>\n",
    " \n",
    "<b>На доработку🤔:</b> Теперь порядок верный, но индексы сбрасываются без сохранения.\n",
    "Функция <a href = 'https://pandas.pydata.org/docs/reference/api/pandas.DataFrame.reset_index.html'>reset_index</a> имеет несколько параметров (к ним, например, относится и drop, который ты устанвливаешь на True), среди которых есть тот самый inplace. По дефолту он установлен как False, то есть данный параметр нам говорит, что функция выполнится, но она не изменит хранящийся в памяти объект, поэтому при следующем обращении к сабсемплу мы будем обращаться все к тому же объекту с теми же старыми индексами. Чтобы результаты сохранялись, нам нужно поменять дефолтное значение парметра inplace на True (`vector.reset_index(drop = True, inplace = True)`), либо мы можем просто принудетельно сохранить в памяти новый объект с новыми индексами: `vector = vector.reset_index(drop = True)`"
   ]
  },
  {
   "cell_type": "markdown",
   "metadata": {},
   "source": [
    "<div class=\"alert alert-success\">\n",
    "<h3> Комментарий ревьюера 9<a class=\"tocSkip\"> </h3> \n",
    "    \n",
    "<b>Все отлично! 👍:</b> Супер, теперь все работает корректно!"
   ]
  },
  {
   "cell_type": "code",
   "execution_count": 49,
   "metadata": {},
   "outputs": [
    {
     "name": "stdout",
     "output_type": "stream",
     "text": [
      "Средняя прибыль: 406.3 млн.руб\n",
      "С вероятностью 95% прибыль в данном регионе будет составлять от: -117.7 млн.руб до: 911.7 млн.руб\n",
      "95%-ый доверительный интервал: от 390.0 млн.руб до 422.6 млн.руб\n",
      "Процент вероятности убытка в данном регионе составит 6.7%\n"
     ]
    }
   ],
   "source": [
    "# Распределение прибыли 1 регион\n",
    "#bootstap(target_valid_0,predict_0);\n",
    "bootstap(target_valid_test[0], predict_0);"
   ]
  },
  {
   "cell_type": "code",
   "execution_count": 50,
   "metadata": {},
   "outputs": [
    {
     "name": "stdout",
     "output_type": "stream",
     "text": [
      "Средняя прибыль: 432.6 млн.руб\n",
      "С вероятностью 95% прибыль в данном регионе будет составлять от: 16.8 млн.руб до: 816.0 млн.руб\n",
      "95%-ый доверительный интервал: от 420.0 млн.руб до 445.2 млн.руб\n",
      "Процент вероятности убытка в данном регионе составит 1.9%\n"
     ]
    }
   ],
   "source": [
    "# Распределение прибыли 2 регион\n",
    "#bootstap(target_valid_1,predict_1);\n",
    "bootstap(target_valid_test[1],predict_test[1]);"
   ]
  },
  {
   "cell_type": "markdown",
   "metadata": {},
   "source": [
    "<div class=\"alert alert-block alert-danger\">\n",
    "<h3> Комментарий ревьюера 7<a class=\"tocSkip\"></h3>\n",
    " \n",
    "<b>На доработку🤔:</b> Обрати внимание, что в ячейке выше ты изучаешь прибыль второго региона, а предсказания взял для первого региона."
   ]
  },
  {
   "cell_type": "markdown",
   "metadata": {},
   "source": [
    "<div class=\"alert alert-success\">\n",
    "<h3> Комментарий студента 7 <a class=\"tocSkip\"> </h3>\n",
    "    \n",
    "<b>Поправил!</b>\n",
    "</div>"
   ]
  },
  {
   "cell_type": "markdown",
   "metadata": {},
   "source": [
    "<div class=\"alert alert-success\">\n",
    "<h3> Комментарий ревьюера 8<a class=\"tocSkip\"> </h3> \n",
    "    \n",
    "<b>Все отлично! 👍:</b> Отлично!"
   ]
  },
  {
   "cell_type": "code",
   "execution_count": 51,
   "metadata": {},
   "outputs": [
    {
     "name": "stdout",
     "output_type": "stream",
     "text": [
      "Средняя прибыль: 377.4 млн.руб\n",
      "С вероятностью 95% прибыль в данном регионе будет составлять от: -170.8 млн.руб до: 901.8 млн.руб\n",
      "95%-ый доверительный интервал: от 360.6 млн.руб до 394.1 млн.руб\n",
      "Процент вероятности убытка в данном регионе составит 7.4%\n"
     ]
    }
   ],
   "source": [
    "# Распределение прибыли 3 регион\n",
    "#bootstap(target_valid_2,predict_2);\n",
    "bootstap(target_valid_test[2],predict_test[2]);"
   ]
  },
  {
   "cell_type": "code",
   "execution_count": 52,
   "metadata": {},
   "outputs": [],
   "source": [
    "def reg_bootstrap(region_num): \n",
    "    print(f'Регион {region_num}')\n",
    "    bootstap(target_valid_test[region_num], predict_test[region_num])"
   ]
  },
  {
   "cell_type": "code",
   "execution_count": 53,
   "metadata": {},
   "outputs": [
    {
     "name": "stdout",
     "output_type": "stream",
     "text": [
      "Введите номер региона 1\n",
      "Регион 1\n",
      "Средняя прибыль: 432.6 млн.руб\n",
      "С вероятностью 95% прибыль в данном регионе будет составлять от: 16.8 млн.руб до: 816.0 млн.руб\n",
      "95%-ый доверительный интервал: от 420.0 млн.руб до 445.2 млн.руб\n",
      "Процент вероятности убытка в данном регионе составит 1.9%\n"
     ]
    },
    {
     "ename": "TypeError",
     "evalue": "unsupported operand type(s) for -: 'NoneType' and 'int'",
     "output_type": "error",
     "traceback": [
      "\u001b[0;31m---------------------------------------------------------------------------\u001b[0m",
      "\u001b[0;31mTypeError\u001b[0m                                 Traceback (most recent call last)",
      "\u001b[0;32m/tmp/ipykernel_48/1210326867.py\u001b[0m in \u001b[0;36m<module>\u001b[0;34m\u001b[0m\n\u001b[0;32m----> 1\u001b[0;31m \u001b[0ma\u001b[0m \u001b[0;34m=\u001b[0m \u001b[0mreg_bootstrap\u001b[0m\u001b[0;34m(\u001b[0m\u001b[0mint\u001b[0m\u001b[0;34m(\u001b[0m\u001b[0minput\u001b[0m\u001b[0;34m(\u001b[0m\u001b[0;34m'Введите номер региона '\u001b[0m\u001b[0;34m)\u001b[0m\u001b[0;34m)\u001b[0m\u001b[0;34m)\u001b[0m\u001b[0;34m-\u001b[0m\u001b[0;36m1\u001b[0m\u001b[0;34m\u001b[0m\u001b[0;34m\u001b[0m\u001b[0m\n\u001b[0m\u001b[1;32m      2\u001b[0m \u001b[0mprint\u001b[0m\u001b[0;34m(\u001b[0m\u001b[0;34m{\u001b[0m\u001b[0ma\u001b[0m\u001b[0;34m}\u001b[0m\u001b[0;34m)\u001b[0m\u001b[0;34m\u001b[0m\u001b[0;34m\u001b[0m\u001b[0m\n",
      "\u001b[0;31mTypeError\u001b[0m: unsupported operand type(s) for -: 'NoneType' and 'int'"
     ]
    }
   ],
   "source": [
    "a = reg_bootstrap(int(input('Введите номер региона ')))-1\n",
    "print({a})"
   ]
  },
  {
   "cell_type": "markdown",
   "metadata": {},
   "source": [
    "<div class=\"alert alert-success\">\n",
    "<h3> Комментарий студента 7 <a class=\"tocSkip\"> </h3>\n",
    "    \n",
    "<b>Постарался сделать то, что очень хотел бы видеть в своей работе!</b>\n",
    "</div>"
   ]
  },
  {
   "cell_type": "markdown",
   "metadata": {},
   "source": [
    "<div class=\"alert alert-success\">\n",
    "<b>Комментарий ревьюера 8:</b> Ошибка вылезает из-за того, что ты пытаешься вычесть единицу из результата бутстрепа. Если ты хочешь, чтобы изменялся номер региона на единицу, ее необходимо вычетать внутри скобок бутсрепа.\n",
    "    \n",
    "Также замечу, что ни твоя функция bootstap, ни соответственно моя функция reg_bootstrap не предусматривают сохранения каких-то результатов в переменные (для вывода результатов в функциях предусматрен оператор return, во-первых, для функции это сигнал завершения работы, во-вторых, после него перечисляется, все, что мы потом хотели бы сохранить в переменные). Все, что нужно, у тебя и напечатается и так, поскольку внутри функций уже прописаны print."
   ]
  },
  {
   "cell_type": "code",
   "execution_count": null,
   "metadata": {},
   "outputs": [],
   "source": []
  },
  {
   "cell_type": "markdown",
   "metadata": {},
   "source": [
    "<div class=\"alert alert-success\">\n",
    "<h3> Комментарий студента 5 <a class=\"tocSkip\"> </h3>\n",
    "    \n",
    "<b>Уважаемый ревьюер, Юлия! Также хотел бы написать функцию, при вставке номера региона, выводился бы bootstap.</b>\n",
    "</div>"
   ]
  },
  {
   "cell_type": "markdown",
   "metadata": {},
   "source": [
    "<div class=\"alert alert-success\">\n",
    "<b>Комментарий ревьюера 6:</b> Что-то вроде такого?\n",
    "    \n",
    "```python\n",
    "def reg_bootstrap(region_num):\n",
    "    print(f'Регион {region_num}')\n",
    "    bootstap(target_valid_test[region_num], predict_test[region_num])\n",
    "```"
   ]
  },
  {
   "cell_type": "code",
   "execution_count": 54,
   "metadata": {},
   "outputs": [
    {
     "data": {
      "text/html": [
       "<div>\n",
       "<style scoped>\n",
       "    .dataframe tbody tr th:only-of-type {\n",
       "        vertical-align: middle;\n",
       "    }\n",
       "\n",
       "    .dataframe tbody tr th {\n",
       "        vertical-align: top;\n",
       "    }\n",
       "\n",
       "    .dataframe thead th {\n",
       "        text-align: right;\n",
       "    }\n",
       "</style>\n",
       "<table border=\"1\" class=\"dataframe\">\n",
       "  <thead>\n",
       "    <tr style=\"text-align: right;\">\n",
       "      <th></th>\n",
       "      <th>1 регион</th>\n",
       "      <th>2 регион</th>\n",
       "      <th>3 регион</th>\n",
       "    </tr>\n",
       "  </thead>\n",
       "  <tbody>\n",
       "    <tr>\n",
       "      <th>Средняя прибыль в регионе, млн.руб</th>\n",
       "      <td>435.8</td>\n",
       "      <td>489.6</td>\n",
       "      <td>403.9</td>\n",
       "    </tr>\n",
       "    <tr>\n",
       "      <th>С вероятностью 95% прибыль в данном регионе будет составлять от:</th>\n",
       "      <td>-116.2 до: 966.5 млн.руб</td>\n",
       "      <td>55.1 до: 905.7 млн.руб</td>\n",
       "      <td>-153.1 до: 952.8 млн.руб</td>\n",
       "    </tr>\n",
       "    <tr>\n",
       "      <th>95%-ый доверительный интервал от:</th>\n",
       "      <td>418.7 до 453.1 млн.руб</td>\n",
       "      <td>476.2 до 503.0 млн.руб</td>\n",
       "      <td>386.2 до 421.1 млн.руб</td>\n",
       "    </tr>\n",
       "    <tr>\n",
       "      <th>Процент вероятности убытка в данном регионе составит</th>\n",
       "      <td>6.1%</td>\n",
       "      <td>1.1%</td>\n",
       "      <td>7.1%</td>\n",
       "    </tr>\n",
       "  </tbody>\n",
       "</table>\n",
       "</div>"
      ],
      "text/plain": [
       "                                                                    1 регион  \\\n",
       "Средняя прибыль в регионе, млн.руб                                     435.8   \n",
       "С вероятностью 95% прибыль в данном регионе буд...  -116.2 до: 966.5 млн.руб   \n",
       "95%-ый доверительный интервал от:                     418.7 до 453.1 млн.руб   \n",
       "Процент вероятности убытка в данном регионе сос...                      6.1%   \n",
       "\n",
       "                                                                  2 регион  \\\n",
       "Средняя прибыль в регионе, млн.руб                                   489.6   \n",
       "С вероятностью 95% прибыль в данном регионе буд...  55.1 до: 905.7 млн.руб   \n",
       "95%-ый доверительный интервал от:                   476.2 до 503.0 млн.руб   \n",
       "Процент вероятности убытка в данном регионе сос...                    1.1%   \n",
       "\n",
       "                                                                    3 регион  \n",
       "Средняя прибыль в регионе, млн.руб                                     403.9  \n",
       "С вероятностью 95% прибыль в данном регионе буд...  -153.1 до: 952.8 млн.руб  \n",
       "95%-ый доверительный интервал от:                     386.2 до 421.1 млн.руб  \n",
       "Процент вероятности убытка в данном регионе сос...                      7.1%  "
      ]
     },
     "execution_count": 54,
     "metadata": {},
     "output_type": "execute_result"
    }
   ],
   "source": [
    "table = pd.DataFrame(index=['Средняя прибыль в регионе, млн.руб','С вероятностью 95% прибыль в данном регионе будет составлять от:','95%-ый доверительный интервал от:', 'Процент вероятности убытка в данном регионе составит'], columns=['1 регион','2 регион','3 регион'])\n",
    "table['1 регион'] = '435.8', '-116.2 до: 966.5 млн.руб','418.7 до 453.1 млн.руб', '6.1%'\n",
    "table['2 регион'] = '489.6', '55.1 до: 905.7 млн.руб','476.2 до 503.0 млн.руб', '1.1%'\n",
    "table['3 регион'] = '403.9', '-153.1 до: 952.8 млн.руб','386.2 до 421.1 млн.руб', '7.1%'\n",
    "table"
   ]
  },
  {
   "cell_type": "markdown",
   "metadata": {},
   "source": [
    "Выбор региона\n",
    "\n",
    "После оценки рисков оставим лишь те регионы, в которых вероятность убытков меньше 2.5%. Среди них выберем регион с наибольшей средней прибылью\n",
    "\n",
    "Сравним среднюю прибыль, вероятность убытка и суммарный запас сырья трёх представленных регионов в таблице"
   ]
  },
  {
   "cell_type": "code",
   "execution_count": 55,
   "metadata": {},
   "outputs": [
    {
     "data": {
      "text/html": [
       "<div>\n",
       "<style scoped>\n",
       "    .dataframe tbody tr th:only-of-type {\n",
       "        vertical-align: middle;\n",
       "    }\n",
       "\n",
       "    .dataframe tbody tr th {\n",
       "        vertical-align: top;\n",
       "    }\n",
       "\n",
       "    .dataframe thead th {\n",
       "        text-align: right;\n",
       "    }\n",
       "</style>\n",
       "<table border=\"1\" class=\"dataframe\">\n",
       "  <thead>\n",
       "    <tr style=\"text-align: right;\">\n",
       "      <th></th>\n",
       "      <th>1 регион</th>\n",
       "      <th>2 регион</th>\n",
       "      <th>3 регион</th>\n",
       "    </tr>\n",
       "  </thead>\n",
       "  <tbody>\n",
       "    <tr>\n",
       "      <th>Средняя прибыль в регионе, млн.руб</th>\n",
       "      <td>435.84</td>\n",
       "      <td>489.66</td>\n",
       "      <td>403.95</td>\n",
       "    </tr>\n",
       "    <tr>\n",
       "      <th>Суммарный запас сырья, тыс.баррелей</th>\n",
       "      <td>30881.96</td>\n",
       "      <td>27748.75</td>\n",
       "      <td>29730.68</td>\n",
       "    </tr>\n",
       "    <tr>\n",
       "      <th>Вероятность убытка, %</th>\n",
       "      <td>6.2</td>\n",
       "      <td>1.1</td>\n",
       "      <td>7.0</td>\n",
       "    </tr>\n",
       "  </tbody>\n",
       "</table>\n",
       "</div>"
      ],
      "text/plain": [
       "                                     1 регион  2 регион  3 регион\n",
       "Средняя прибыль в регионе, млн.руб     435.84    489.66    403.95\n",
       "Суммарный запас сырья, тыс.баррелей  30881.96  27748.75  29730.68\n",
       "Вероятность убытка, %                     6.2       1.1       7.0"
      ]
     },
     "execution_count": 55,
     "metadata": {},
     "output_type": "execute_result"
    }
   ],
   "source": [
    "comparison_tabl = pd.DataFrame(index=['Средняя прибыль в регионе, млн.руб','Суммарный запас сырья, тыс.баррелей','Вероятность убытка, %'], columns=['1 регион','2 регион','3 регион'])\n",
    "comparison_tabl['1 регион'] = '435.84', '30881.96','6.2'\n",
    "comparison_tabl['2 регион'] = '489.66', '27748.75','1.1'\n",
    "comparison_tabl['3 регион'] = '403.95', '29730.68','7.0'\n",
    "comparison_tabl"
   ]
  },
  {
   "cell_type": "code",
   "execution_count": 56,
   "metadata": {},
   "outputs": [
    {
     "data": {
      "image/png": "[encoded data removed]",
      "text/plain": [
       "<Figure size 720x432 with 1 Axes>"
      ]
     },
     "metadata": {
      "needs_background": "light"
     },
     "output_type": "display_data"
    }
   ],
   "source": [
    "comparison_tabl.astype('float').iloc[0,:].plot(color='k', kind=\"bar\", figsize=(10,6), grid=True, alpha=0.7, subplots=True)\n",
    "plt.title('Средняя прибыль трёх представленных регионов')\n",
    "plt.ylabel('Средняя прибыль в регионе, млн.руб')\n",
    "plt.show()"
   ]
  },
  {
   "cell_type": "code",
   "execution_count": 57,
   "metadata": {},
   "outputs": [
    {
     "data": {
      "image/png": "[encoded data removed]",
      "text/plain": [
       "<Figure size 504x504 with 1 Axes>"
      ]
     },
     "metadata": {},
     "output_type": "display_data"
    }
   ],
   "source": [
    "comparison_tabl.astype('float').iloc[1,:].plot(kind='pie', figsize=(7,7),autopct='%1.1f%%', subplots=True)\n",
    "plt.title('Суммарный запас сырья, тыс.баррелей')\n",
    "plt.ylabel('')\n",
    "plt.show()"
   ]
  },
  {
   "cell_type": "markdown",
   "metadata": {},
   "source": [
    "Вывод\n",
    "\n",
    "Как мы видим, самым прибыльным оказался 2 регион, средняя прибыль здесь составляет 489.66 млн.рублей. Два других региона не прошли отбор по минимально допустимому порогу убытка в 2,5%. Таким образом не смотря на сравнительно меньшие запасы сырья, по сравнению с другими регионами, средняя доходность со скважин во втором регионе прогнозируется выше других."
   ]
  },
  {
   "cell_type": "markdown",
   "metadata": {},
   "source": [
    "<div class=\"alert alert-block alert-danger\">\n",
    "<h3> Комментарий ревьюера<a class=\"tocSkip\"></h3>\n",
    " \n",
    "<b>На доработку🤔:</b> Поскольку у нас выборка с возвращением, в target_subsample у нас будет несколько одинаковых строк с одинаковым индексом, и если мы захотим достать эту строку (при отборе по индексам probs_subsample в функции прибыли), то по значению индекса выведутся сразу все одинаковы строки с таким индексом, хотя нам нужна только одна. \n",
    "\n",
    "Чтобы убедиться в этом, попробуй прогнать такой код:\n",
    "\n",
    "```python\n",
    "a = pd.Series([2, 2, 2, 3], index = [1, 1, 1, 2])\n",
    "print(a[1])\n",
    "print(a[a.index])\n",
    "a = a.reset_index(drop = True)\n",
    "print(a[1])\n",
    "print(a[a.index])\n",
    "```\n",
    "Здесь у нас в векторе `а` несколько значений с одинаковыми индексами. Потом мы пробуем достать значения по индексам, и замечаем, что при единоразовом обращении по индексу у нас достаются сразу все строки с этим индексом, из-за чего финальный вектор сильно разрастается (в нашем случае это приводит к завышению суммарной прибыли).\n",
    "\n",
    "Чтобы избежать данной проблемы, нам нужно либо перед функцией прибыли сбросить у обоих сабсемплов индексы (чтобы каждое повторяющееся значения стало считаться уникальным за счет индекса, и при этом между векторами не нарушилась сопоставимость), либо не сбрасывать индексы, но в функцию прибыли передавать полный валидационный вектор таргета, в котором индексы не дублируются и соотвествуют индексам предсказаний (обозначают одни и те же скважины)."
   ]
  },
  {
   "cell_type": "code",
   "execution_count": 58,
   "metadata": {},
   "outputs": [
    {
     "name": "stdout",
     "output_type": "stream",
     "text": [
      "1    2\n",
      "1    2\n",
      "1    2\n",
      "dtype: int64\n",
      "1    2\n",
      "1    2\n",
      "1    2\n",
      "1    2\n",
      "1    2\n",
      "1    2\n",
      "1    2\n",
      "1    2\n",
      "1    2\n",
      "2    3\n",
      "dtype: int64\n",
      "2\n",
      "0    2\n",
      "1    2\n",
      "2    2\n",
      "3    3\n",
      "dtype: int64\n"
     ]
    }
   ],
   "source": [
    "a = pd.Series([2, 2, 2, 3], index = [1, 1, 1, 2])\n",
    "print(a[1])\n",
    "print(a[a.index])\n",
    "a = a.reset_index(drop = True)\n",
    "print(a[1])\n",
    "print(a[a.index])"
   ]
  },
  {
   "cell_type": "markdown",
   "metadata": {},
   "source": [
    "<div class=\"alert alert-warning\">\n",
    "<h3> Комментарий ревьюера <a class=\"tocSkip\"> </h3>\n",
    "    \n",
    "<b>Некоторые замечания и рекомендации💡:</b> \n",
    "    \n",
    "* Поскольку значения прибыли у нас хранятся в объекте типа pandas Series, мы можем посчитать риски через функцию mean(). Для этого нам нужно сравнить вектор с 0, после чего мы получим вектор, состоящий из True False, что эквивалентно 1 и 0, а затем считаем среднее данного вектора: `(values < 0).mean()`. Получается всего 2 действия, это гораздо эффективнее, чем обновлять счетчик на каждой итерации.\n",
    "\n",
    "* Поясню подробнее по поводу доверительного интервала: сейчас у тебя посчитаны два варианта, для прибыли и для ее среднего значения между подвыборками. Но нас на самом деле не интересует то, насколько широк диапазон возможных средних значений (ДИ среднего значения прибыли). В реальности мы ведь окажемся только в одной из всех параллельных вселенных (если считать, что каждая итерация бутстрепа - это одна независимая вселенная, в которой было исследовано только 500 точек, а про остальные потенциальные ничего не известно). Поэтому нам, скорее, интресно узнать диапазон возможных значений дохода (ДИ прибыли): какие значения мы сможем получить с 95% вероятностью. \n",
    "    \n",
    "    В нашем случае прибыль как раз и является точечной оценкой, и мы использовали бутстреп, чтобы оценить ее распределение, поэтому с 95% вероятностью (эквивалентно тому, что площадь под кривой плотности распределения прибыли равна 0.95) мы получим прибыль между 0.025 и 0.975 квантилями, это называется перцентильным (квантильным) подходом. Также есть еще метод стандартного отклонения (который ты сейчас применяешь для оценки доверительного интевала среднего значения прибыли): это когда мы задаем предположение о том, что наша статистика подчиняется нормальному распределению, а значит с 95% вероятностью она будет находится в пределах двух стандартных отклонений распределения данной статистики от ее среднего. \n",
    "\n",
    "    Но для второго подхода есть одна особенность: распределение статистики нам не всегда известно. В таких случаях мы исходим из предположения, что стандартная ошибка случайной величины (sem) может служить репрезентацией стандартного отклонения самой статистики (std). Поскольку ты сейчас рассчитываешь sem, ты определяешь стандартное отклонение среднего значения прибыли, а не самой прибыли, поэтому и получил ДИ для среднего. Чтобы методом стандартного отклонения (через st.t.interval) можно было определить ДИ всей прибыли, необходимо было вместо sem находить std, не забывая про корректировку степеней своботы (ddof = 1).\n",
    "\n",
    "    Вот <a href = 'https://stackoverflow.com/questions/28242593/correct-way-to-obtain-confidence-interval-with-scipy'>тут</a> обсуждался тот же самый вопрос, возможно, поможет чуть лучше понять мой комментарий :)"
   ]
  },
  {
   "cell_type": "markdown",
   "metadata": {},
   "source": [
    "<div class=\"alert alert-success\">\n",
    "<h3> Комментарий ревьюера <a class=\"tocSkip\"> </h3> \n",
    "    \n",
    "<b>Все отлично! 👍:</b> \n",
    "    \n",
    "Ты верно делаешь, что при семплировании данных устанавливаешь параметр **replace = True**. Особенностью техники бутстреп является семплирование с возвратом, то есть наблюдение в выборку может попасть несколько раз. Это необходимо для того, чтобы добиться независимости при каждом выборе, иначе вероятность достать элемент из выборки будет с каждым разом увеличиваться. Причем чем больше размер подвыборки, тем выраженнее будет зависимость. Для подвыборки размера 1, например, в крайнем случае, мы возрат можем не делать, так уж и быть, а вот для подвыборки размером с семплируемую, без возврата ну никак не получится получить разнообразные варианты, а подвыборку большего размера вообще — не получить.\n",
    "    \n",
    "Все это может показаться немного странным для понимания: как будто одна скважина может буриться несколько раз. Но давай вспомним, что выборка - это лишь некоторое представление о генеральной совокупности. Вполне возможно, что где-то в регионе существуют и другие потенциальные точки добычи, о которых мы даже не подозреваем, но они являются частью генеральной сововкупности. В таком случае повторяющиеся наблюдения можно рассматривать как разные точки добычи из всей генеральной совокупности, просто они имеют близкие характеристики. "
   ]
  },
  {
   "cell_type": "markdown",
   "metadata": {},
   "source": [
    "<div class=\"alert alert-success\">\n",
    "<h3> Комментарий студента <a class=\"tocSkip\"> </h3> \n",
    "    \n",
    "<b>Замечания исправил! 👍:</b> "
   ]
  },
  {
   "cell_type": "markdown",
   "metadata": {},
   "source": [
    "<div class=\"alert alert-block alert-danger\">\n",
    "<h3> Комментарий ревьюера 2<a class=\"tocSkip\"></h3>\n",
    " \n",
    "<b>На доработку🤔:</b> Проблема с дублированием индексов все так же осталась."
   ]
  },
  {
   "cell_type": "markdown",
   "metadata": {},
   "source": [
    "<div class=\"alert alert-success\">\n",
    "<h3> Комментарий студента 2<a class=\"tocSkip\"> </h3> \n",
    "    \n",
    "<b>Прошу вас помочь! Немного запутался.:</b> "
   ]
  },
  {
   "cell_type": "markdown",
   "metadata": {},
   "source": [
    "<div class=\"alert alert-block alert-danger\">\n",
    "<h3> Комментарий ревьюера 3<a class=\"tocSkip\"></h3>\n",
    " \n",
    "<b>На доработку🤔:</b> Мой код из позапрошлого красного комментария был лишь примером проблемы, которую мы можем наблюдать и у нас при подсчете прибыли. После применения функции sample у нас образуется вектор таргета с повторениями (за счет параметра replace = True), индексы наследуются от родительского вектора таргета, поэтому они тоже дублируются. Затем мы используем этот таргет_сабсемпл для формирования сабсемпла предсказаний, соответственно, в нем тоже будут повторения в индексах. Вот на этом моменте нужно остановиться и подумать: если мы отправим полученные сабсемплы в функцию прибыли в том виде, в котором они есть сейчас, с повторяющимися индексами, то когда мы внутри функции прибыли обрежем сабсемпл предсказаний до 200 значений, повторения, скорее всего останутся. Затем у нас по плану использовать индексы этих оставшихся 200 предсказаний для отбора соответсвующих значений таргета. Но в таргете у нас тоже повторяются индексы, поэтому при отборе у нас могут достаться вместо 200 значений, например, 250, потому что по каждому индексу предсказания, который имел дубликат, будут вытягиваться сразу все его повторения, из-за чего количество таргетов у нас неоправданно разрастается, а прибыль завышается. Чтобы всего этого не происходило, нам нужно, чтобы каждое значение сабсемплов таргета и предсказаний имели свой уникальный индекс, чтобы по одному уникальному индексу у нас доставалось только одно конкретное повторение из всех (а не все сразу). Для того, чтобы все значения сабсемплов таргета и предсказаний начали иметь свой уникальный индекс, перед тем, как отправлять их в функцию прибыли, необходимо сбросить старую индексацию."
   ]
  },
  {
   "cell_type": "markdown",
   "metadata": {},
   "source": [
    "<div class=\"alert alert-success\">\n",
    "<h3> Комментарий студента 3<a class=\"tocSkip\"> </h3> \n",
    "    \n",
    "<b>Дорогой ревьюер, прошу вас помочь. Большую часть своего проекта я переделал и переписал как вы просили, что-то с индексацией у меня никак не получается </b> "
   ]
  },
  {
   "cell_type": "markdown",
   "metadata": {},
   "source": [
    "<div class=\"alert alert-block alert-danger\">\n",
    "<h3> Комментарий ревьюера 5<a class=\"tocSkip\"></h3>\n",
    " \n",
    "<b>На доработку🤔:</b> В конце работы подробно разобрала логику перехода индексов, надеюсь, это поможет разобраться, что необходимо сделать, чтобы исправить проблему в твоем решении."
   ]
  },
  {
   "cell_type": "markdown",
   "metadata": {},
   "source": [
    "## Чек-лист готовности проекта"
   ]
  },
  {
   "cell_type": "markdown",
   "metadata": {},
   "source": [
    "Поставьте 'x' в выполненных пунктах. Далее нажмите Shift+Enter."
   ]
  },
  {
   "cell_type": "markdown",
   "metadata": {},
   "source": [
    "- [x]  Jupyter Notebook открыт\n",
    "- [X]  Весь код выполняется без ошибок\n",
    "- [X]  Ячейки с кодом расположены в порядке исполнения\n",
    "- [X]  Выполнен шаг 1: данные подготовлены\n",
    "- [X]  Выполнен шаг 2: модели обучены и проверены\n",
    "    - [X]  Данные корректно разбиты на обучающую и валидационную выборки\n",
    "    - [X]  Модели обучены, предсказания сделаны\n",
    "    - [X]  Предсказания и правильные ответы на валидационной выборке сохранены\n",
    "    - [X]  На экране напечатаны результаты\n",
    "    - [X]  Сделаны выводы\n",
    "- [X]  Выполнен шаг 3: проведена подготовка к расчёту прибыли\n",
    "    - [X]  Для всех ключевых значений созданы константы Python\n",
    "    - [X]  Посчитано минимальное среднее количество продукта в месторождениях региона, достаточное для разработки\n",
    "    - [X]  По предыдущему пункту сделаны выводы\n",
    "    - [X]  Написана функция расчёта прибыли\n",
    "- [X]  Выполнен шаг 4: посчитаны риски и прибыль\n",
    "    - [X]  Проведена процедура *Bootstrap*\n",
    "    - [X]  Все параметры бутстрепа соответствуют условию\n",
    "    - [X]  Найдены все нужные величины\n",
    "    - [X]  Предложен регион для разработки месторождения\n",
    "    - [X]  Выбор региона обоснован"
   ]
  },
  {
   "cell_type": "markdown",
   "metadata": {},
   "source": [
    "<div style=\"border:solid Chocolate 2px; padding: 40px\">\n",
    "\n",
    "**Общий вывод по проекту**\n",
    "\n",
    "Артур, спасибо за твой проект! У тебя замечательная работа! В тебе виден будущий профессионал своего дела :) \n",
    "    \n",
    "Кратко пройдусь по впечатлениям. \n",
    "\n",
    "**Отмечу отдельные положительные моменты проекта🙂**:\n",
    " \n",
    "* Прекрасное владение инструментами обработки данных!\n",
    "* Умелое проведение машинного обучения!\n",
    "* Потрясающие навыки использования функций и циклов для повышения эффективности работы!\n",
    "* Дополнение своими идеями - очень круто!\n",
    "* Все этапы работы проделаны очень осмысленно! Каждый шаг снабжен пояснениями и выводами!\n",
    "* Работа имеет четкую структуру и выполнена аккуратно, проверять - одно удовольствие!\n",
    "\n",
    "    \n",
    "**На что стоит обратить внимание🤓**:\n",
    "   \n",
    "* Скалирование в данном проекте не привносит какого-то вклада.\n",
    "* При подсчете прибыли помним про индексы: важно, чтобы они не дублировались.\n",
    "* Оставила для тебя также некоторые рекомендаций по улучшению оформления и эффективности кода.\n",
    "    \n",
    "\n",
    "**Желаю удачи и жду твой проект на повторное ревью!**😉\n",
    "    \n",
    "<img src=\"https://99px.ru/sstorage/86/2015/12/image_86271215043043632690.gif\" />"
   ]
  },
  {
   "cell_type": "markdown",
   "metadata": {},
   "source": [
    "<div class=\"alert alert-success\">\n",
    "<b>Комментарий ревьюера 5:</b> Ниже провожу более подробный разбор своих объяснений про повторяющиеся индексы."
   ]
  },
  {
   "cell_type": "markdown",
   "metadata": {},
   "source": [
    "Создадим небольшой вектор таргета для примера (вектор - упорядоченный список значений). Тип данных pandas Series позволяет каждому значению вектора присвоить его собственное название - индекс. По индексу мы можем обращаться к конкретному значению вектора (для простоты восприятия сделаем вектор, в котором значение равно индексу)."
   ]
  },
  {
   "cell_type": "code",
   "execution_count": null,
   "metadata": {},
   "outputs": [],
   "source": [
    "target = pd.Series([0, 1, 2, 3, 4, 5, 6, 7, 8, 9], \n",
    "           index = [0, 1, 2, 3, 4, 5, 6, 7, 8, 9])"
   ]
  },
  {
   "cell_type": "markdown",
   "metadata": {},
   "source": [
    "Как и в проекте, разделим таргет на тренировочную и тестовую выборку."
   ]
  },
  {
   "cell_type": "code",
   "execution_count": null,
   "metadata": {},
   "outputs": [],
   "source": [
    "target_train, target_test = train_test_split(target, test_size = 0.5, random_state = 42)\n",
    "target_test"
   ]
  },
  {
   "cell_type": "markdown",
   "metadata": {},
   "source": [
    "Можем заметить, что в тестовой выборке индексы продолжают соответствовать исходному таргету (как мы и задали, значения равны их индексу), но теперь они расположены хаотично.\n",
    "\n",
    "Представим, что мы провели машинное обучение и получили вектор предсказаний. Функция predict выдает вектор в формате numpy array, поэтому нам нужно будет перевести его в формат pandas Series, чтобы у таргета и предсказаний были одинаковые типы. Для простоты восприятия представим, что все предсказания оказались выше таргета на 0.5."
   ]
  },
  {
   "cell_type": "code",
   "execution_count": null,
   "metadata": {},
   "outputs": [],
   "source": [
    "pred = pd.Series(np.array([8.5, 1.5, 5.5, 0.5, 7.5]))\n",
    "pred"
   ]
  },
  {
   "cell_type": "markdown",
   "metadata": {},
   "source": [
    "Как видим, предсказания у нас в том же порядке, что и таргет, но индексы разные. Из-за этого мы не сможем проводить вычисления с этими векторами. Ниже пример, вычисление произвелось только для одинаковых индексов."
   ]
  },
  {
   "cell_type": "code",
   "execution_count": null,
   "metadata": {},
   "outputs": [],
   "source": [
    "target_test-pred"
   ]
  },
  {
   "cell_type": "markdown",
   "metadata": {},
   "source": [
    "Сбросим у таргета индексы, чтобы они соотвествовали индексам предсказаний."
   ]
  },
  {
   "cell_type": "code",
   "execution_count": null,
   "metadata": {},
   "outputs": [],
   "source": [
    "target_test = target_test.reset_index(drop = True)\n",
    "target_test"
   ]
  },
  {
   "cell_type": "markdown",
   "metadata": {},
   "source": [
    "Теперь дальше по плану у нас семплирование для бутстрепа. Проведем только одну итерацию из 1000 (они все аналогично проходят) и посмотрим, что внутри нее происходит. Отбирать будем 4 наблюдения (в проекте мы отбирали 500)."
   ]
  },
  {
   "cell_type": "code",
   "execution_count": null,
   "metadata": {},
   "outputs": [],
   "source": [
    "target_sample = target_test.sample(n = 4, replace = True, random_state = 42)\n",
    "target_sample"
   ]
  },
  {
   "cell_type": "markdown",
   "metadata": {},
   "source": [
    "Как видим, в сэмпл таргета у нас попало 2 одинаковых значения. Теперь нам нужно сформироваль сэмпл предсказаний, для этого выберем из вектора предсказаний значения в том же порядке, что и в семплированном таргете согласно индексам."
   ]
  },
  {
   "cell_type": "code",
   "execution_count": null,
   "metadata": {},
   "outputs": [],
   "source": [
    "pred_sample = pred[target_sample.index]\n",
    "pred_sample"
   ]
  },
  {
   "cell_type": "markdown",
   "metadata": {},
   "source": [
    "Отлично, семплы сформированы. Теперь нам нужно посчитать прибыль. Сначала посмторим, что будет, если не переустанавливать индексы в семплированных выборках. Для прибыли будем выбирать 3 лучших скважины."
   ]
  },
  {
   "cell_type": "code",
   "execution_count": null,
   "metadata": {},
   "outputs": [],
   "source": [
    "pred_sample2 = pred_sample.sort_values(ascending = False)[:3]\n",
    "pred_sample2"
   ]
  },
  {
   "cell_type": "markdown",
   "metadata": {},
   "source": [
    "Теперь достанем эти же скважины из таргета по индексам."
   ]
  },
  {
   "cell_type": "code",
   "execution_count": null,
   "metadata": {},
   "outputs": [],
   "source": [
    "target_sample2 = target_sample[pred_sample2.index]\n",
    "target_sample2"
   ]
  },
  {
   "cell_type": "markdown",
   "metadata": {},
   "source": [
    "Мы ожидали получить только 3 скважины, а получили 5 из-за того, что каждый раз, когда мы обращались к сеплированному таргету по индексу 4, то у нас доставалось сразу два значения, так как в сеплированном таргете два значения с таким индексом."
   ]
  },
  {
   "cell_type": "code",
   "execution_count": null,
   "metadata": {},
   "outputs": [],
   "source": [
    "print(target_sample)\n",
    "target_sample[4]"
   ]
  },
  {
   "cell_type": "markdown",
   "metadata": {},
   "source": [
    "Такой исход нас не устраивает, так как мы выбрали только 3 скважины, а прибыль считаем как будто для 5, поэтому нам важно после семплирования переустановить индексы."
   ]
  },
  {
   "cell_type": "code",
   "execution_count": null,
   "metadata": {},
   "outputs": [],
   "source": [
    "print('Было:\\n', target_sample, '\\n', pred_sample)\n",
    "target_sample = target_sample.reset_index(drop = True)\n",
    "pred_sample = pred_sample.reset_index(drop = True)\n",
    "print('\\nСтало:\\n', target_sample, '\\n', pred_sample)"
   ]
  },
  {
   "cell_type": "markdown",
   "metadata": {},
   "source": [
    "Теперь попробуем отобрать 3 лучших скважины для подсчета прибыли."
   ]
  },
  {
   "cell_type": "code",
   "execution_count": null,
   "metadata": {},
   "outputs": [],
   "source": [
    "pred_sample2 = pred_sample.sort_values(ascending = False)[:3]\n",
    "pred_sample2"
   ]
  },
  {
   "cell_type": "code",
   "execution_count": null,
   "metadata": {},
   "outputs": [],
   "source": [
    "target_sample2 = target_sample[pred_sample2.index]\n",
    "target_sample2"
   ]
  },
  {
   "cell_type": "markdown",
   "metadata": {},
   "source": [
    "Теперь, как мы и ожидали, у нас выводятся 3 скважины."
   ]
  },
  {
   "cell_type": "markdown",
   "metadata": {},
   "source": [
    "<div class=\"alert alert-success\">\n",
    "<b>Комментарий ревьюера 5:</b> Надеюсь, такой разбор будет немного понятнее :) "
   ]
  },
  {
   "cell_type": "code",
   "execution_count": null,
   "metadata": {},
   "outputs": [],
   "source": []
  },
  {
   "cell_type": "markdown",
   "metadata": {},
   "source": [
    "<div class=\"alert alert-success\">\n",
    "<b>Комментарий ревьюера 9:</b> Проект принимается! Следующие проекты, пожалуйста, старайся выполнять самостоятельно, либо обращайся за помощью к наставникам и преподавателям. Списывание знаний не прибавляет, в итоге остаются огромные пробелы, которые с каждым более сложным проектом все наслаиваются и наслаиваются, и разом их потом не разгребешь. Желаю огромных успехов в дальнейшем обучении и карьерных достижений! 🍀"
   ]
  },
  {
   "cell_type": "code",
   "execution_count": null,
   "metadata": {},
   "outputs": [],
   "source": []
  }
 ],
 "metadata": {
  "ExecuteTimeLog": [
   {
    "duration": 1761,
    "start_time": "2022-11-26T21:09:06.326Z"
   },
   {
    "duration": 5,
    "start_time": "2022-11-26T21:09:11.779Z"
   },
   {
    "duration": 73,
    "start_time": "2022-11-26T21:09:39.521Z"
   },
   {
    "duration": 1863,
    "start_time": "2022-11-26T21:09:52.428Z"
   },
   {
    "duration": 4,
    "start_time": "2022-11-26T21:12:08.669Z"
   },
   {
    "duration": 398,
    "start_time": "2022-11-26T21:13:18.571Z"
   },
   {
    "duration": 150,
    "start_time": "2022-11-26T21:13:37.345Z"
   },
   {
    "duration": 9,
    "start_time": "2022-11-26T21:13:44.857Z"
   },
   {
    "duration": 9,
    "start_time": "2022-11-26T21:13:47.969Z"
   },
   {
    "duration": 14,
    "start_time": "2022-11-26T21:13:50.992Z"
   },
   {
    "duration": 18,
    "start_time": "2022-11-26T21:14:28.898Z"
   },
   {
    "duration": 12,
    "start_time": "2022-11-26T21:14:48.050Z"
   },
   {
    "duration": 84,
    "start_time": "2022-11-26T21:14:50.546Z"
   },
   {
    "duration": 29,
    "start_time": "2022-11-26T21:15:19.403Z"
   },
   {
    "duration": 36,
    "start_time": "2022-11-26T21:15:25.426Z"
   },
   {
    "duration": 371,
    "start_time": "2022-11-26T21:15:45.828Z"
   },
   {
    "duration": 72,
    "start_time": "2022-11-26T21:16:05.869Z"
   },
   {
    "duration": 8,
    "start_time": "2022-11-26T21:16:16.390Z"
   },
   {
    "duration": 22,
    "start_time": "2022-11-26T21:16:17.685Z"
   },
   {
    "duration": 44,
    "start_time": "2022-11-26T21:16:19.099Z"
   },
   {
    "duration": 43,
    "start_time": "2022-11-26T21:16:21.524Z"
   },
   {
    "duration": 68,
    "start_time": "2022-11-26T21:17:18.486Z"
   },
   {
    "duration": 72,
    "start_time": "2022-11-26T21:17:44.791Z"
   },
   {
    "duration": 10,
    "start_time": "2022-11-26T21:18:18.911Z"
   },
   {
    "duration": 19,
    "start_time": "2022-11-26T21:18:19.910Z"
   },
   {
    "duration": 40,
    "start_time": "2022-11-26T21:18:20.570Z"
   },
   {
    "duration": 26,
    "start_time": "2022-11-26T21:18:21.750Z"
   },
   {
    "duration": 23,
    "start_time": "2022-11-26T21:18:26.439Z"
   },
   {
    "duration": 111,
    "start_time": "2022-11-26T21:18:37.657Z"
   },
   {
    "duration": 17,
    "start_time": "2022-11-26T21:18:51.592Z"
   },
   {
    "duration": 10,
    "start_time": "2022-11-26T21:18:53.856Z"
   },
   {
    "duration": 16,
    "start_time": "2022-11-26T21:19:01.856Z"
   },
   {
    "duration": 20,
    "start_time": "2022-11-26T21:19:12.336Z"
   },
   {
    "duration": 13,
    "start_time": "2022-11-26T21:19:23.869Z"
   },
   {
    "duration": 43,
    "start_time": "2022-11-26T21:19:25.125Z"
   },
   {
    "duration": 46,
    "start_time": "2022-11-26T21:19:28.593Z"
   },
   {
    "duration": 19,
    "start_time": "2022-11-26T21:19:29.784Z"
   },
   {
    "duration": 15,
    "start_time": "2022-11-26T21:20:43.746Z"
   },
   {
    "duration": 1046,
    "start_time": "2022-11-26T21:22:06.181Z"
   },
   {
    "duration": 922,
    "start_time": "2022-11-26T21:23:12.269Z"
   },
   {
    "duration": 301,
    "start_time": "2022-11-26T21:23:16.037Z"
   },
   {
    "duration": 345,
    "start_time": "2022-11-26T21:23:48.687Z"
   },
   {
    "duration": 90,
    "start_time": "2022-11-26T21:55:48.600Z"
   },
   {
    "duration": 824,
    "start_time": "2022-11-26T21:56:00.281Z"
   },
   {
    "duration": 218,
    "start_time": "2022-11-26T21:56:21.369Z"
   },
   {
    "duration": 725,
    "start_time": "2022-11-26T21:56:29.506Z"
   },
   {
    "duration": 530,
    "start_time": "2022-11-26T21:56:41.752Z"
   },
   {
    "duration": 27,
    "start_time": "2022-11-26T21:58:02.139Z"
   },
   {
    "duration": 14,
    "start_time": "2022-11-26T21:59:07.757Z"
   },
   {
    "duration": 235,
    "start_time": "2022-11-26T21:59:08.573Z"
   },
   {
    "duration": 204,
    "start_time": "2022-11-26T21:59:10.020Z"
   },
   {
    "duration": 231,
    "start_time": "2022-11-26T21:59:11.044Z"
   },
   {
    "duration": 44,
    "start_time": "2022-11-26T21:59:14.269Z"
   },
   {
    "duration": 32,
    "start_time": "2022-11-26T21:59:26.084Z"
   },
   {
    "duration": 106,
    "start_time": "2022-11-26T22:02:18.699Z"
   },
   {
    "duration": 43,
    "start_time": "2022-11-26T22:02:34.784Z"
   },
   {
    "duration": 22,
    "start_time": "2022-11-26T22:02:43.753Z"
   },
   {
    "duration": 19,
    "start_time": "2022-11-26T22:03:05.346Z"
   },
   {
    "duration": 26,
    "start_time": "2022-11-26T22:03:38.114Z"
   },
   {
    "duration": 6,
    "start_time": "2022-11-26T22:03:51.707Z"
   },
   {
    "duration": 16,
    "start_time": "2022-11-26T22:04:00.995Z"
   },
   {
    "duration": 15,
    "start_time": "2022-11-26T22:04:10.322Z"
   },
   {
    "duration": 73,
    "start_time": "2022-11-26T22:07:07.031Z"
   },
   {
    "duration": 6,
    "start_time": "2022-11-26T22:09:27.673Z"
   },
   {
    "duration": 7,
    "start_time": "2022-11-26T22:09:45.834Z"
   },
   {
    "duration": 7,
    "start_time": "2022-11-26T22:09:57.906Z"
   },
   {
    "duration": 13,
    "start_time": "2022-11-26T22:10:39.843Z"
   },
   {
    "duration": 21,
    "start_time": "2022-11-26T22:10:57.204Z"
   },
   {
    "duration": 9,
    "start_time": "2022-11-26T22:11:09.069Z"
   },
   {
    "duration": 5,
    "start_time": "2022-11-26T22:12:18.369Z"
   },
   {
    "duration": 386,
    "start_time": "2022-11-26T22:12:19.772Z"
   },
   {
    "duration": 10,
    "start_time": "2022-11-26T22:12:20.477Z"
   },
   {
    "duration": 20,
    "start_time": "2022-11-26T22:12:20.829Z"
   },
   {
    "duration": 37,
    "start_time": "2022-11-26T22:12:21.093Z"
   },
   {
    "duration": 9,
    "start_time": "2022-11-26T22:12:21.629Z"
   },
   {
    "duration": 17,
    "start_time": "2022-11-26T22:12:21.941Z"
   },
   {
    "duration": 36,
    "start_time": "2022-11-26T22:12:22.157Z"
   },
   {
    "duration": 21,
    "start_time": "2022-11-26T22:12:22.420Z"
   },
   {
    "duration": 8,
    "start_time": "2022-11-26T22:12:22.950Z"
   },
   {
    "duration": 16,
    "start_time": "2022-11-26T22:12:23.215Z"
   },
   {
    "duration": 34,
    "start_time": "2022-11-26T22:12:23.494Z"
   },
   {
    "duration": 20,
    "start_time": "2022-11-26T22:12:23.781Z"
   },
   {
    "duration": 945,
    "start_time": "2022-11-26T22:12:24.054Z"
   },
   {
    "duration": 259,
    "start_time": "2022-11-26T22:12:25.004Z"
   },
   {
    "duration": 11,
    "start_time": "2022-11-26T22:12:25.981Z"
   },
   {
    "duration": 520,
    "start_time": "2022-11-26T22:12:26.269Z"
   },
   {
    "duration": 510,
    "start_time": "2022-11-26T22:12:26.792Z"
   },
   {
    "duration": 567,
    "start_time": "2022-11-26T22:12:27.304Z"
   },
   {
    "duration": 52,
    "start_time": "2022-11-26T22:12:27.873Z"
   },
   {
    "duration": 45,
    "start_time": "2022-11-26T22:12:28.197Z"
   },
   {
    "duration": 42,
    "start_time": "2022-11-26T22:12:28.477Z"
   },
   {
    "duration": 30,
    "start_time": "2022-11-26T22:12:28.750Z"
   },
   {
    "duration": 12,
    "start_time": "2022-11-26T22:12:29.017Z"
   },
   {
    "duration": 48,
    "start_time": "2022-11-26T22:13:51.869Z"
   },
   {
    "duration": 70,
    "start_time": "2022-11-26T22:14:53.089Z"
   },
   {
    "duration": 89,
    "start_time": "2022-11-26T22:14:56.129Z"
   },
   {
    "duration": 77,
    "start_time": "2022-11-26T22:15:09.174Z"
   },
   {
    "duration": 61,
    "start_time": "2022-11-26T22:15:16.289Z"
   },
   {
    "duration": 36,
    "start_time": "2022-11-26T22:15:26.986Z"
   },
   {
    "duration": 20,
    "start_time": "2022-11-26T22:16:37.507Z"
   },
   {
    "duration": 5,
    "start_time": "2022-11-26T22:16:40.675Z"
   },
   {
    "duration": 10,
    "start_time": "2022-11-26T22:16:46.228Z"
   },
   {
    "duration": 26,
    "start_time": "2022-11-26T22:17:27.996Z"
   },
   {
    "duration": 4,
    "start_time": "2022-11-26T22:17:54.870Z"
   },
   {
    "duration": 401,
    "start_time": "2022-11-26T22:17:56.285Z"
   },
   {
    "duration": 9,
    "start_time": "2022-11-26T22:17:56.981Z"
   },
   {
    "duration": 22,
    "start_time": "2022-11-26T22:17:57.445Z"
   },
   {
    "duration": 34,
    "start_time": "2022-11-26T22:17:57.814Z"
   },
   {
    "duration": 10,
    "start_time": "2022-11-26T22:17:58.380Z"
   },
   {
    "duration": 14,
    "start_time": "2022-11-26T22:17:58.628Z"
   },
   {
    "duration": 32,
    "start_time": "2022-11-26T22:17:59.132Z"
   },
   {
    "duration": 17,
    "start_time": "2022-11-26T22:17:59.173Z"
   },
   {
    "duration": 8,
    "start_time": "2022-11-26T22:17:59.243Z"
   },
   {
    "duration": 13,
    "start_time": "2022-11-26T22:17:59.275Z"
   },
   {
    "duration": 33,
    "start_time": "2022-11-26T22:17:59.313Z"
   },
   {
    "duration": 20,
    "start_time": "2022-11-26T22:17:59.347Z"
   },
   {
    "duration": 1088,
    "start_time": "2022-11-26T22:17:59.371Z"
   },
   {
    "duration": 262,
    "start_time": "2022-11-26T22:18:00.461Z"
   },
   {
    "duration": 5,
    "start_time": "2022-11-26T22:18:00.725Z"
   },
   {
    "duration": 483,
    "start_time": "2022-11-26T22:18:00.731Z"
   },
   {
    "duration": 12,
    "start_time": "2022-11-26T22:18:01.216Z"
   },
   {
    "duration": 134,
    "start_time": "2022-11-26T22:18:01.230Z"
   },
   {
    "duration": 55,
    "start_time": "2022-11-26T22:18:01.365Z"
   },
   {
    "duration": 44,
    "start_time": "2022-11-26T22:18:01.422Z"
   },
   {
    "duration": 3,
    "start_time": "2022-11-26T22:20:04.031Z"
   },
   {
    "duration": 3,
    "start_time": "2022-11-26T22:20:11.072Z"
   },
   {
    "duration": 3,
    "start_time": "2022-11-26T22:20:17.545Z"
   },
   {
    "duration": 3,
    "start_time": "2022-11-26T22:20:48.146Z"
   },
   {
    "duration": 3,
    "start_time": "2022-11-26T22:20:55.976Z"
   },
   {
    "duration": 5,
    "start_time": "2022-11-26T22:21:03.345Z"
   },
   {
    "duration": 9,
    "start_time": "2022-11-26T22:21:11.457Z"
   },
   {
    "duration": 14,
    "start_time": "2022-11-26T22:22:41.946Z"
   },
   {
    "duration": 4,
    "start_time": "2022-11-26T22:23:17.852Z"
   },
   {
    "duration": 12,
    "start_time": "2022-11-26T22:23:26.156Z"
   },
   {
    "duration": 3,
    "start_time": "2022-11-26T22:23:36.740Z"
   },
   {
    "duration": 3,
    "start_time": "2022-11-26T22:24:02.071Z"
   },
   {
    "duration": 5,
    "start_time": "2022-11-26T22:24:19.160Z"
   },
   {
    "duration": 8,
    "start_time": "2022-11-26T22:24:27.453Z"
   },
   {
    "duration": 7,
    "start_time": "2022-11-26T22:24:30.970Z"
   },
   {
    "duration": 7,
    "start_time": "2022-11-26T22:24:33.920Z"
   },
   {
    "duration": 6,
    "start_time": "2022-11-26T22:24:41.741Z"
   },
   {
    "duration": 6,
    "start_time": "2022-11-26T22:24:48.838Z"
   },
   {
    "duration": 6,
    "start_time": "2022-11-26T22:24:55.534Z"
   },
   {
    "duration": 4,
    "start_time": "2022-11-26T22:26:19.879Z"
   },
   {
    "duration": 7,
    "start_time": "2022-11-26T22:26:30.873Z"
   },
   {
    "duration": 1614,
    "start_time": "2022-11-26T22:26:51.432Z"
   },
   {
    "duration": 1611,
    "start_time": "2022-11-26T22:26:57.920Z"
   },
   {
    "duration": 69,
    "start_time": "2022-11-26T22:27:07.337Z"
   },
   {
    "duration": 1772,
    "start_time": "2022-11-26T22:27:26.825Z"
   },
   {
    "duration": 1656,
    "start_time": "2022-11-26T22:27:51.674Z"
   },
   {
    "duration": 1781,
    "start_time": "2022-11-26T22:27:58.269Z"
   },
   {
    "duration": 1882,
    "start_time": "2022-11-26T22:28:02.129Z"
   },
   {
    "duration": 10,
    "start_time": "2022-11-26T22:28:24.691Z"
   },
   {
    "duration": 11,
    "start_time": "2022-11-26T22:28:31.483Z"
   },
   {
    "duration": 216,
    "start_time": "2022-11-26T22:28:38.843Z"
   },
   {
    "duration": 234,
    "start_time": "2022-11-26T22:28:49.231Z"
   },
   {
    "duration": 234,
    "start_time": "2022-11-26T22:28:52.851Z"
   },
   {
    "duration": 78,
    "start_time": "2022-11-26T22:29:03.084Z"
   },
   {
    "duration": 79,
    "start_time": "2022-11-28T17:37:55.763Z"
   },
   {
    "duration": 1389,
    "start_time": "2022-11-28T18:25:10.407Z"
   },
   {
    "duration": 355,
    "start_time": "2022-11-28T18:25:11.798Z"
   },
   {
    "duration": 14,
    "start_time": "2022-11-28T18:25:12.155Z"
   },
   {
    "duration": 58,
    "start_time": "2022-11-28T18:25:12.171Z"
   },
   {
    "duration": 38,
    "start_time": "2022-11-28T18:25:12.231Z"
   },
   {
    "duration": 9,
    "start_time": "2022-11-28T18:25:12.270Z"
   },
   {
    "duration": 35,
    "start_time": "2022-11-28T18:25:12.280Z"
   },
   {
    "duration": 37,
    "start_time": "2022-11-28T18:25:12.317Z"
   },
   {
    "duration": 23,
    "start_time": "2022-11-28T18:25:12.355Z"
   },
   {
    "duration": 9,
    "start_time": "2022-11-28T18:25:12.380Z"
   },
   {
    "duration": 20,
    "start_time": "2022-11-28T18:25:12.414Z"
   },
   {
    "duration": 36,
    "start_time": "2022-11-28T18:25:12.435Z"
   },
   {
    "duration": 41,
    "start_time": "2022-11-28T18:25:12.473Z"
   },
   {
    "duration": 1079,
    "start_time": "2022-11-28T18:25:12.516Z"
   },
   {
    "duration": 272,
    "start_time": "2022-11-28T18:25:13.596Z"
   },
   {
    "duration": 6,
    "start_time": "2022-11-28T18:25:13.870Z"
   },
   {
    "duration": 444,
    "start_time": "2022-11-28T18:25:13.877Z"
   },
   {
    "duration": 3,
    "start_time": "2022-11-28T18:25:14.323Z"
   },
   {
    "duration": 103,
    "start_time": "2022-11-28T18:25:14.414Z"
   },
   {
    "duration": 10,
    "start_time": "2022-11-28T18:25:14.519Z"
   },
   {
    "duration": 119,
    "start_time": "2022-11-28T18:25:14.530Z"
   },
   {
    "duration": 0,
    "start_time": "2022-11-28T18:25:14.651Z"
   },
   {
    "duration": 0,
    "start_time": "2022-11-28T18:25:14.653Z"
   },
   {
    "duration": 0,
    "start_time": "2022-11-28T18:25:14.654Z"
   },
   {
    "duration": 0,
    "start_time": "2022-11-28T18:25:14.655Z"
   },
   {
    "duration": 0,
    "start_time": "2022-11-28T18:25:14.657Z"
   },
   {
    "duration": 0,
    "start_time": "2022-11-28T18:25:14.658Z"
   },
   {
    "duration": 0,
    "start_time": "2022-11-28T18:25:14.660Z"
   },
   {
    "duration": 0,
    "start_time": "2022-11-28T18:25:14.661Z"
   },
   {
    "duration": 0,
    "start_time": "2022-11-28T18:25:14.662Z"
   },
   {
    "duration": 0,
    "start_time": "2022-11-28T18:25:14.663Z"
   },
   {
    "duration": 0,
    "start_time": "2022-11-28T18:25:14.664Z"
   },
   {
    "duration": 0,
    "start_time": "2022-11-28T18:25:14.666Z"
   },
   {
    "duration": 0,
    "start_time": "2022-11-28T18:25:14.667Z"
   },
   {
    "duration": 0,
    "start_time": "2022-11-28T18:25:14.668Z"
   },
   {
    "duration": 3,
    "start_time": "2022-11-28T18:25:48.025Z"
   },
   {
    "duration": 9,
    "start_time": "2022-11-28T18:25:48.804Z"
   },
   {
    "duration": 9,
    "start_time": "2022-11-28T18:26:59.389Z"
   },
   {
    "duration": 9,
    "start_time": "2022-11-28T18:27:13.732Z"
   },
   {
    "duration": 9,
    "start_time": "2022-11-28T18:27:21.014Z"
   },
   {
    "duration": 9,
    "start_time": "2022-11-28T18:27:49.342Z"
   },
   {
    "duration": 10,
    "start_time": "2022-11-28T18:27:54.102Z"
   },
   {
    "duration": 10,
    "start_time": "2022-11-28T18:28:01.487Z"
   },
   {
    "duration": 355,
    "start_time": "2022-11-28T18:30:19.177Z"
   },
   {
    "duration": 9,
    "start_time": "2022-11-28T18:30:22.810Z"
   },
   {
    "duration": 9,
    "start_time": "2022-11-28T18:30:33.218Z"
   },
   {
    "duration": 10,
    "start_time": "2022-11-28T18:32:33.885Z"
   },
   {
    "duration": 539,
    "start_time": "2022-11-28T18:39:14.670Z"
   },
   {
    "duration": 514,
    "start_time": "2022-11-28T18:39:40.599Z"
   },
   {
    "duration": 169,
    "start_time": "2022-11-28T18:40:06.801Z"
   },
   {
    "duration": 102,
    "start_time": "2022-11-28T18:40:17.976Z"
   },
   {
    "duration": 510,
    "start_time": "2022-11-28T18:40:23.159Z"
   },
   {
    "duration": 10,
    "start_time": "2022-11-28T18:40:40.521Z"
   },
   {
    "duration": 16,
    "start_time": "2022-11-28T18:41:02.984Z"
   },
   {
    "duration": 114,
    "start_time": "2022-11-28T18:41:23.313Z"
   },
   {
    "duration": 16,
    "start_time": "2022-11-28T18:41:31.833Z"
   },
   {
    "duration": 16,
    "start_time": "2022-11-28T18:41:54.161Z"
   },
   {
    "duration": 22,
    "start_time": "2022-11-28T18:42:54.915Z"
   },
   {
    "duration": 18,
    "start_time": "2022-11-28T18:43:12.356Z"
   },
   {
    "duration": 16,
    "start_time": "2022-11-28T18:43:29.619Z"
   },
   {
    "duration": 4,
    "start_time": "2022-11-28T18:43:43.004Z"
   },
   {
    "duration": 73,
    "start_time": "2022-11-28T18:44:06.028Z"
   },
   {
    "duration": 11,
    "start_time": "2022-11-28T18:44:20.597Z"
   },
   {
    "duration": 71,
    "start_time": "2022-11-28T18:44:34.460Z"
   },
   {
    "duration": 5,
    "start_time": "2022-11-28T18:45:20.622Z"
   },
   {
    "duration": 5,
    "start_time": "2022-11-28T18:45:23.806Z"
   },
   {
    "duration": 4,
    "start_time": "2022-11-28T18:45:32.089Z"
   },
   {
    "duration": 4,
    "start_time": "2022-11-28T18:45:39.284Z"
   },
   {
    "duration": 4,
    "start_time": "2022-11-28T18:45:40.613Z"
   },
   {
    "duration": 4,
    "start_time": "2022-11-28T18:46:23.517Z"
   },
   {
    "duration": 75,
    "start_time": "2022-11-28T18:47:01.897Z"
   },
   {
    "duration": 12,
    "start_time": "2022-11-28T18:47:13.353Z"
   },
   {
    "duration": 14,
    "start_time": "2022-11-28T18:47:31.361Z"
   },
   {
    "duration": 13,
    "start_time": "2022-11-28T18:47:37.626Z"
   },
   {
    "duration": 3,
    "start_time": "2022-11-28T18:47:44.586Z"
   },
   {
    "duration": 11,
    "start_time": "2022-11-28T18:48:10.481Z"
   },
   {
    "duration": 13,
    "start_time": "2022-11-28T18:48:21.740Z"
   },
   {
    "duration": 4,
    "start_time": "2022-11-28T18:48:29.363Z"
   },
   {
    "duration": 12,
    "start_time": "2022-11-28T18:48:48.890Z"
   },
   {
    "duration": 13,
    "start_time": "2022-11-28T18:48:56.170Z"
   },
   {
    "duration": 3,
    "start_time": "2022-11-28T18:49:06.731Z"
   },
   {
    "duration": 4,
    "start_time": "2022-11-28T18:49:09.202Z"
   },
   {
    "duration": 74,
    "start_time": "2022-11-28T18:49:25.056Z"
   },
   {
    "duration": 5,
    "start_time": "2022-11-28T18:50:44.077Z"
   },
   {
    "duration": 9,
    "start_time": "2022-11-28T18:51:06.726Z"
   },
   {
    "duration": 4,
    "start_time": "2022-11-28T18:51:39.066Z"
   },
   {
    "duration": 3,
    "start_time": "2022-11-28T18:52:11.824Z"
   },
   {
    "duration": 4,
    "start_time": "2022-11-28T18:52:30.591Z"
   },
   {
    "duration": 6,
    "start_time": "2022-11-28T18:53:08.088Z"
   },
   {
    "duration": 7,
    "start_time": "2022-11-28T18:53:25.905Z"
   },
   {
    "duration": 7,
    "start_time": "2022-11-28T18:53:33.488Z"
   },
   {
    "duration": 79,
    "start_time": "2022-11-28T18:53:45.691Z"
   },
   {
    "duration": 4,
    "start_time": "2022-11-28T18:55:40.383Z"
   },
   {
    "duration": 6,
    "start_time": "2022-11-28T18:55:48.820Z"
   },
   {
    "duration": 1568,
    "start_time": "2022-11-28T18:56:13.260Z"
   },
   {
    "duration": 1581,
    "start_time": "2022-11-28T18:56:49.381Z"
   },
   {
    "duration": 1553,
    "start_time": "2022-11-28T18:57:10.871Z"
   },
   {
    "duration": 1616,
    "start_time": "2022-11-28T18:57:18.313Z"
   },
   {
    "duration": 10,
    "start_time": "2022-11-28T18:57:54.298Z"
   },
   {
    "duration": 114,
    "start_time": "2022-11-28T18:58:05.943Z"
   },
   {
    "duration": 97,
    "start_time": "2022-11-28T18:58:16.320Z"
   },
   {
    "duration": 70,
    "start_time": "2022-11-28T19:01:18.930Z"
   },
   {
    "duration": 4,
    "start_time": "2022-11-28T19:03:33.647Z"
   },
   {
    "duration": 346,
    "start_time": "2022-11-28T19:03:36.014Z"
   },
   {
    "duration": 1348,
    "start_time": "2022-11-28T19:03:42.854Z"
   },
   {
    "duration": 355,
    "start_time": "2022-11-28T19:03:44.204Z"
   },
   {
    "duration": 13,
    "start_time": "2022-11-28T19:03:44.561Z"
   },
   {
    "duration": 69,
    "start_time": "2022-11-28T19:03:44.576Z"
   },
   {
    "duration": 46,
    "start_time": "2022-11-28T19:03:44.648Z"
   },
   {
    "duration": 17,
    "start_time": "2022-11-28T19:03:44.712Z"
   },
   {
    "duration": 28,
    "start_time": "2022-11-28T19:03:44.731Z"
   },
   {
    "duration": 34,
    "start_time": "2022-11-28T19:03:44.760Z"
   },
   {
    "duration": 23,
    "start_time": "2022-11-28T19:03:44.796Z"
   },
   {
    "duration": 8,
    "start_time": "2022-11-28T19:03:44.820Z"
   },
   {
    "duration": 15,
    "start_time": "2022-11-28T19:03:44.830Z"
   },
   {
    "duration": 33,
    "start_time": "2022-11-28T19:03:44.847Z"
   },
   {
    "duration": 40,
    "start_time": "2022-11-28T19:03:44.881Z"
   },
   {
    "duration": 1039,
    "start_time": "2022-11-28T19:03:44.924Z"
   },
   {
    "duration": 253,
    "start_time": "2022-11-28T19:03:45.965Z"
   },
   {
    "duration": 526,
    "start_time": "2022-11-28T19:03:46.220Z"
   },
   {
    "duration": 509,
    "start_time": "2022-11-28T19:03:46.747Z"
   },
   {
    "duration": 532,
    "start_time": "2022-11-28T19:03:47.258Z"
   },
   {
    "duration": 10,
    "start_time": "2022-11-28T19:03:47.792Z"
   },
   {
    "duration": 23,
    "start_time": "2022-11-28T19:03:47.804Z"
   },
   {
    "duration": 18,
    "start_time": "2022-11-28T19:03:47.828Z"
   },
   {
    "duration": 16,
    "start_time": "2022-11-28T19:03:47.848Z"
   },
   {
    "duration": 54,
    "start_time": "2022-11-28T19:03:47.866Z"
   },
   {
    "duration": 104,
    "start_time": "2022-11-28T19:03:47.922Z"
   },
   {
    "duration": 189,
    "start_time": "2022-11-28T19:03:48.027Z"
   },
   {
    "duration": 100,
    "start_time": "2022-11-28T19:03:48.218Z"
   },
   {
    "duration": 18,
    "start_time": "2022-11-28T19:03:48.320Z"
   },
   {
    "duration": 7,
    "start_time": "2022-11-28T19:03:48.340Z"
   },
   {
    "duration": 6,
    "start_time": "2022-11-28T19:03:48.349Z"
   },
   {
    "duration": 8,
    "start_time": "2022-11-28T19:03:48.357Z"
   },
   {
    "duration": 47,
    "start_time": "2022-11-28T19:03:48.366Z"
   },
   {
    "duration": 15,
    "start_time": "2022-11-28T19:03:48.415Z"
   },
   {
    "duration": 13,
    "start_time": "2022-11-28T19:03:48.432Z"
   },
   {
    "duration": 3,
    "start_time": "2022-11-28T19:03:48.446Z"
   },
   {
    "duration": 14,
    "start_time": "2022-11-28T19:03:48.451Z"
   },
   {
    "duration": 48,
    "start_time": "2022-11-28T19:03:48.466Z"
   },
   {
    "duration": 4,
    "start_time": "2022-11-28T19:03:48.515Z"
   },
   {
    "duration": 16,
    "start_time": "2022-11-28T19:03:48.520Z"
   },
   {
    "duration": 14,
    "start_time": "2022-11-28T19:03:48.537Z"
   },
   {
    "duration": 3,
    "start_time": "2022-11-28T19:03:48.552Z"
   },
   {
    "duration": 22,
    "start_time": "2022-11-28T19:03:48.559Z"
   },
   {
    "duration": 14,
    "start_time": "2022-11-28T19:03:48.583Z"
   },
   {
    "duration": 17,
    "start_time": "2022-11-28T19:03:48.599Z"
   },
   {
    "duration": 8,
    "start_time": "2022-11-28T19:03:48.618Z"
   },
   {
    "duration": 6,
    "start_time": "2022-11-28T19:03:48.627Z"
   },
   {
    "duration": 12,
    "start_time": "2022-11-28T19:03:48.635Z"
   },
   {
    "duration": 7,
    "start_time": "2022-11-28T19:03:48.649Z"
   },
   {
    "duration": 8,
    "start_time": "2022-11-28T19:03:48.658Z"
   },
   {
    "duration": 3,
    "start_time": "2022-11-28T19:03:48.667Z"
   },
   {
    "duration": 8,
    "start_time": "2022-11-28T19:03:48.672Z"
   },
   {
    "duration": 1678,
    "start_time": "2022-11-28T19:03:48.713Z"
   },
   {
    "duration": 1582,
    "start_time": "2022-11-28T19:03:50.395Z"
   },
   {
    "duration": 1567,
    "start_time": "2022-11-28T19:03:51.978Z"
   },
   {
    "duration": 9,
    "start_time": "2022-11-28T19:03:53.547Z"
   },
   {
    "duration": 134,
    "start_time": "2022-11-28T19:03:53.558Z"
   },
   {
    "duration": 92,
    "start_time": "2022-11-28T19:03:53.694Z"
   },
   {
    "duration": 1345,
    "start_time": "2022-11-28T19:09:25.038Z"
   },
   {
    "duration": 363,
    "start_time": "2022-11-28T19:09:26.385Z"
   },
   {
    "duration": 13,
    "start_time": "2022-11-28T19:09:26.750Z"
   },
   {
    "duration": 60,
    "start_time": "2022-11-28T19:09:26.765Z"
   },
   {
    "duration": 38,
    "start_time": "2022-11-28T19:09:26.826Z"
   },
   {
    "duration": 9,
    "start_time": "2022-11-28T19:09:26.865Z"
   },
   {
    "duration": 39,
    "start_time": "2022-11-28T19:09:26.875Z"
   },
   {
    "duration": 40,
    "start_time": "2022-11-28T19:09:26.916Z"
   },
   {
    "duration": 23,
    "start_time": "2022-11-28T19:09:26.957Z"
   },
   {
    "duration": 31,
    "start_time": "2022-11-28T19:09:26.982Z"
   },
   {
    "duration": 14,
    "start_time": "2022-11-28T19:09:27.014Z"
   },
   {
    "duration": 34,
    "start_time": "2022-11-28T19:09:27.030Z"
   },
   {
    "duration": 18,
    "start_time": "2022-11-28T19:09:27.065Z"
   },
   {
    "duration": 1058,
    "start_time": "2022-11-28T19:09:27.085Z"
   },
   {
    "duration": 260,
    "start_time": "2022-11-28T19:09:28.145Z"
   },
   {
    "duration": 506,
    "start_time": "2022-11-28T19:09:28.407Z"
   },
   {
    "duration": 500,
    "start_time": "2022-11-28T19:09:28.915Z"
   },
   {
    "duration": 504,
    "start_time": "2022-11-28T19:09:29.417Z"
   },
   {
    "duration": 10,
    "start_time": "2022-11-28T19:09:29.923Z"
   },
   {
    "duration": 17,
    "start_time": "2022-11-28T19:09:29.935Z"
   },
   {
    "duration": 16,
    "start_time": "2022-11-28T19:09:29.954Z"
   },
   {
    "duration": 42,
    "start_time": "2022-11-28T19:09:29.971Z"
   },
   {
    "duration": 98,
    "start_time": "2022-11-28T19:09:30.014Z"
   },
   {
    "duration": 109,
    "start_time": "2022-11-28T19:09:30.116Z"
   },
   {
    "duration": 188,
    "start_time": "2022-11-28T19:09:30.229Z"
   },
   {
    "duration": 205,
    "start_time": "2022-11-28T19:09:30.419Z"
   },
   {
    "duration": 18,
    "start_time": "2022-11-28T19:09:30.626Z"
   },
   {
    "duration": 12,
    "start_time": "2022-11-28T19:09:30.647Z"
   },
   {
    "duration": 12,
    "start_time": "2022-11-28T19:09:30.661Z"
   },
   {
    "duration": 9,
    "start_time": "2022-11-28T19:09:30.676Z"
   },
   {
    "duration": 34,
    "start_time": "2022-11-28T19:09:30.686Z"
   },
   {
    "duration": 23,
    "start_time": "2022-11-28T19:09:30.723Z"
   },
   {
    "duration": 27,
    "start_time": "2022-11-28T19:09:30.747Z"
   },
   {
    "duration": 11,
    "start_time": "2022-11-28T19:09:30.775Z"
   },
   {
    "duration": 20,
    "start_time": "2022-11-28T19:09:30.788Z"
   },
   {
    "duration": 22,
    "start_time": "2022-11-28T19:09:30.809Z"
   },
   {
    "duration": 7,
    "start_time": "2022-11-28T19:09:30.833Z"
   },
   {
    "duration": 25,
    "start_time": "2022-11-28T19:09:30.842Z"
   },
   {
    "duration": 17,
    "start_time": "2022-11-28T19:09:30.869Z"
   },
   {
    "duration": 18,
    "start_time": "2022-11-28T19:09:30.887Z"
   },
   {
    "duration": 13,
    "start_time": "2022-11-28T19:09:30.907Z"
   },
   {
    "duration": 13,
    "start_time": "2022-11-28T19:09:30.922Z"
   },
   {
    "duration": 17,
    "start_time": "2022-11-28T19:09:30.936Z"
   },
   {
    "duration": 22,
    "start_time": "2022-11-28T19:09:30.955Z"
   },
   {
    "duration": 16,
    "start_time": "2022-11-28T19:09:30.979Z"
   },
   {
    "duration": 13,
    "start_time": "2022-11-28T19:09:30.997Z"
   },
   {
    "duration": 18,
    "start_time": "2022-11-28T19:09:31.011Z"
   },
   {
    "duration": 10,
    "start_time": "2022-11-28T19:09:31.030Z"
   },
   {
    "duration": 12,
    "start_time": "2022-11-28T19:09:31.042Z"
   },
   {
    "duration": 27,
    "start_time": "2022-11-28T19:09:31.056Z"
   },
   {
    "duration": 1606,
    "start_time": "2022-11-28T19:09:31.084Z"
   },
   {
    "duration": 1677,
    "start_time": "2022-11-28T19:09:32.692Z"
   },
   {
    "duration": 1639,
    "start_time": "2022-11-28T19:09:34.371Z"
   },
   {
    "duration": 11,
    "start_time": "2022-11-28T19:09:36.013Z"
   },
   {
    "duration": 132,
    "start_time": "2022-11-28T19:09:36.025Z"
   },
   {
    "duration": 102,
    "start_time": "2022-11-28T19:09:36.159Z"
   },
   {
    "duration": 3,
    "start_time": "2022-11-29T18:49:49.974Z"
   },
   {
    "duration": 2,
    "start_time": "2022-11-29T18:50:00.558Z"
   },
   {
    "duration": 3,
    "start_time": "2022-11-29T18:50:07.774Z"
   },
   {
    "duration": 10,
    "start_time": "2022-11-29T18:55:39.273Z"
   },
   {
    "duration": 45,
    "start_time": "2022-11-29T18:55:42.884Z"
   },
   {
    "duration": 1571,
    "start_time": "2022-11-29T18:56:02.904Z"
   },
   {
    "duration": 1638,
    "start_time": "2022-11-29T18:56:04.478Z"
   },
   {
    "duration": 14,
    "start_time": "2022-11-29T18:56:06.118Z"
   },
   {
    "duration": 57,
    "start_time": "2022-11-29T18:56:06.134Z"
   },
   {
    "duration": 50,
    "start_time": "2022-11-29T18:56:06.193Z"
   },
   {
    "duration": 9,
    "start_time": "2022-11-29T18:56:06.244Z"
   },
   {
    "duration": 18,
    "start_time": "2022-11-29T18:56:06.255Z"
   },
   {
    "duration": 61,
    "start_time": "2022-11-29T18:56:06.274Z"
   },
   {
    "duration": 20,
    "start_time": "2022-11-29T18:56:06.337Z"
   },
   {
    "duration": 9,
    "start_time": "2022-11-29T18:56:06.360Z"
   },
   {
    "duration": 17,
    "start_time": "2022-11-29T18:56:06.370Z"
   },
   {
    "duration": 34,
    "start_time": "2022-11-29T18:56:06.413Z"
   },
   {
    "duration": 20,
    "start_time": "2022-11-29T18:56:06.449Z"
   },
   {
    "duration": 1111,
    "start_time": "2022-11-29T18:56:06.471Z"
   },
   {
    "duration": 261,
    "start_time": "2022-11-29T18:56:07.584Z"
   },
   {
    "duration": 3,
    "start_time": "2022-11-29T18:56:07.847Z"
   },
   {
    "duration": 10,
    "start_time": "2022-11-29T18:56:07.852Z"
   },
   {
    "duration": 23,
    "start_time": "2022-11-29T18:56:07.864Z"
   },
   {
    "duration": 34,
    "start_time": "2022-11-29T18:56:07.889Z"
   },
   {
    "duration": 25,
    "start_time": "2022-11-29T18:56:07.925Z"
   },
   {
    "duration": 28,
    "start_time": "2022-11-29T18:56:07.952Z"
   },
   {
    "duration": 31,
    "start_time": "2022-11-29T18:56:07.982Z"
   },
   {
    "duration": 142,
    "start_time": "2022-11-29T18:56:08.016Z"
   },
   {
    "duration": 0,
    "start_time": "2022-11-29T18:56:08.161Z"
   },
   {
    "duration": 0,
    "start_time": "2022-11-29T18:56:08.163Z"
   },
   {
    "duration": 0,
    "start_time": "2022-11-29T18:56:08.164Z"
   },
   {
    "duration": 0,
    "start_time": "2022-11-29T18:56:08.166Z"
   },
   {
    "duration": 0,
    "start_time": "2022-11-29T18:56:08.167Z"
   },
   {
    "duration": 0,
    "start_time": "2022-11-29T18:56:08.170Z"
   },
   {
    "duration": 0,
    "start_time": "2022-11-29T18:56:08.171Z"
   },
   {
    "duration": 0,
    "start_time": "2022-11-29T18:56:08.173Z"
   },
   {
    "duration": 0,
    "start_time": "2022-11-29T18:56:08.174Z"
   },
   {
    "duration": 0,
    "start_time": "2022-11-29T18:56:08.175Z"
   },
   {
    "duration": 0,
    "start_time": "2022-11-29T18:56:08.177Z"
   },
   {
    "duration": 0,
    "start_time": "2022-11-29T18:56:08.178Z"
   },
   {
    "duration": 0,
    "start_time": "2022-11-29T18:56:08.179Z"
   },
   {
    "duration": 0,
    "start_time": "2022-11-29T18:56:08.213Z"
   },
   {
    "duration": 0,
    "start_time": "2022-11-29T18:56:08.215Z"
   },
   {
    "duration": 0,
    "start_time": "2022-11-29T18:56:08.217Z"
   },
   {
    "duration": 0,
    "start_time": "2022-11-29T18:56:08.218Z"
   },
   {
    "duration": 0,
    "start_time": "2022-11-29T18:56:08.219Z"
   },
   {
    "duration": 0,
    "start_time": "2022-11-29T18:56:08.221Z"
   },
   {
    "duration": 0,
    "start_time": "2022-11-29T18:56:08.222Z"
   },
   {
    "duration": 0,
    "start_time": "2022-11-29T18:56:08.224Z"
   },
   {
    "duration": 0,
    "start_time": "2022-11-29T18:56:08.225Z"
   },
   {
    "duration": 0,
    "start_time": "2022-11-29T18:56:08.226Z"
   },
   {
    "duration": 0,
    "start_time": "2022-11-29T18:56:08.228Z"
   },
   {
    "duration": 0,
    "start_time": "2022-11-29T18:56:08.229Z"
   },
   {
    "duration": 0,
    "start_time": "2022-11-29T18:56:08.231Z"
   },
   {
    "duration": 0,
    "start_time": "2022-11-29T18:56:08.233Z"
   },
   {
    "duration": 0,
    "start_time": "2022-11-29T18:56:08.236Z"
   },
   {
    "duration": 0,
    "start_time": "2022-11-29T18:56:08.237Z"
   },
   {
    "duration": 0,
    "start_time": "2022-11-29T18:56:08.238Z"
   },
   {
    "duration": 0,
    "start_time": "2022-11-29T18:56:08.240Z"
   },
   {
    "duration": 0,
    "start_time": "2022-11-29T18:56:08.241Z"
   },
   {
    "duration": 0,
    "start_time": "2022-11-29T18:56:08.243Z"
   },
   {
    "duration": 583,
    "start_time": "2022-11-29T18:58:18.745Z"
   },
   {
    "duration": 513,
    "start_time": "2022-11-29T18:58:35.233Z"
   },
   {
    "duration": 518,
    "start_time": "2022-11-29T18:58:36.369Z"
   },
   {
    "duration": 169,
    "start_time": "2022-11-29T18:59:26.011Z"
   },
   {
    "duration": 11,
    "start_time": "2022-11-29T18:59:27.617Z"
   },
   {
    "duration": 14,
    "start_time": "2022-11-29T18:59:28.609Z"
   },
   {
    "duration": 16,
    "start_time": "2022-11-29T18:59:29.401Z"
   },
   {
    "duration": 16,
    "start_time": "2022-11-29T18:59:30.200Z"
   },
   {
    "duration": 18,
    "start_time": "2022-11-29T18:59:31.361Z"
   },
   {
    "duration": 16,
    "start_time": "2022-11-29T18:59:39.027Z"
   },
   {
    "duration": 17,
    "start_time": "2022-11-29T18:59:39.577Z"
   },
   {
    "duration": 3,
    "start_time": "2022-11-29T18:59:42.889Z"
   },
   {
    "duration": 12,
    "start_time": "2022-11-29T18:59:43.873Z"
   },
   {
    "duration": 5,
    "start_time": "2022-11-29T18:59:46.665Z"
   },
   {
    "duration": 5,
    "start_time": "2022-11-29T18:59:46.937Z"
   },
   {
    "duration": 4,
    "start_time": "2022-11-29T18:59:47.634Z"
   },
   {
    "duration": 4,
    "start_time": "2022-11-29T18:59:48.505Z"
   },
   {
    "duration": 12,
    "start_time": "2022-11-29T18:59:49.537Z"
   },
   {
    "duration": 13,
    "start_time": "2022-11-29T18:59:49.897Z"
   },
   {
    "duration": 4,
    "start_time": "2022-11-29T18:59:50.321Z"
   },
   {
    "duration": 12,
    "start_time": "2022-11-29T18:59:50.889Z"
   },
   {
    "duration": 13,
    "start_time": "2022-11-29T18:59:51.193Z"
   },
   {
    "duration": 4,
    "start_time": "2022-11-29T18:59:51.489Z"
   },
   {
    "duration": 12,
    "start_time": "2022-11-29T18:59:52.080Z"
   },
   {
    "duration": 13,
    "start_time": "2022-11-29T18:59:52.369Z"
   },
   {
    "duration": 4,
    "start_time": "2022-11-29T18:59:52.697Z"
   },
   {
    "duration": 5,
    "start_time": "2022-11-29T18:59:53.617Z"
   },
   {
    "duration": 9,
    "start_time": "2022-11-29T18:59:53.648Z"
   },
   {
    "duration": 3,
    "start_time": "2022-11-29T18:59:53.724Z"
   },
   {
    "duration": 3,
    "start_time": "2022-11-29T18:59:53.795Z"
   },
   {
    "duration": 3,
    "start_time": "2022-11-29T18:59:53.826Z"
   },
   {
    "duration": 6,
    "start_time": "2022-11-29T18:59:53.857Z"
   },
   {
    "duration": 8,
    "start_time": "2022-11-29T18:59:53.886Z"
   },
   {
    "duration": 7,
    "start_time": "2022-11-29T18:59:53.914Z"
   },
   {
    "duration": 4,
    "start_time": "2022-11-29T18:59:54.127Z"
   },
   {
    "duration": 8,
    "start_time": "2022-11-29T18:59:54.190Z"
   },
   {
    "duration": 1629,
    "start_time": "2022-11-29T18:59:54.220Z"
   },
   {
    "duration": 1612,
    "start_time": "2022-11-29T18:59:55.851Z"
   },
   {
    "duration": 1609,
    "start_time": "2022-11-29T18:59:57.465Z"
   },
   {
    "duration": 10,
    "start_time": "2022-11-29T18:59:59.076Z"
   },
   {
    "duration": 135,
    "start_time": "2022-11-29T18:59:59.087Z"
   },
   {
    "duration": 108,
    "start_time": "2022-11-29T18:59:59.223Z"
   },
   {
    "duration": 101,
    "start_time": "2022-11-29T19:01:38.693Z"
   },
   {
    "duration": 1594,
    "start_time": "2022-11-29T19:01:40.976Z"
   },
   {
    "duration": 1598,
    "start_time": "2022-11-29T19:01:46.780Z"
   },
   {
    "duration": 1717,
    "start_time": "2022-11-29T19:01:48.380Z"
   },
   {
    "duration": 10,
    "start_time": "2022-11-29T19:01:52.492Z"
   },
   {
    "duration": 117,
    "start_time": "2022-11-29T19:01:53.692Z"
   },
   {
    "duration": 103,
    "start_time": "2022-11-29T19:01:54.644Z"
   },
   {
    "duration": 16,
    "start_time": "2022-11-29T19:04:16.745Z"
   },
   {
    "duration": 11,
    "start_time": "2022-11-29T19:04:28.617Z"
   },
   {
    "duration": 6,
    "start_time": "2022-11-29T19:04:31.817Z"
   },
   {
    "duration": 10,
    "start_time": "2022-11-29T19:04:32.319Z"
   },
   {
    "duration": 8,
    "start_time": "2022-11-29T19:04:48.362Z"
   },
   {
    "duration": 1675,
    "start_time": "2022-11-29T19:04:58.397Z"
   },
   {
    "duration": 13,
    "start_time": "2022-11-29T19:06:20.076Z"
   },
   {
    "duration": 1631,
    "start_time": "2022-11-29T19:06:23.859Z"
   },
   {
    "duration": 7,
    "start_time": "2022-11-29T19:07:20.165Z"
   },
   {
    "duration": 586,
    "start_time": "2022-11-29T19:10:01.937Z"
   },
   {
    "duration": 685,
    "start_time": "2022-11-29T19:10:14.304Z"
   },
   {
    "duration": 629,
    "start_time": "2022-11-29T19:10:19.352Z"
   },
   {
    "duration": 533,
    "start_time": "2022-11-29T19:10:31.705Z"
   },
   {
    "duration": 588,
    "start_time": "2022-11-29T19:10:34.266Z"
   },
   {
    "duration": 567,
    "start_time": "2022-11-29T19:10:41.090Z"
   },
   {
    "duration": 570,
    "start_time": "2022-11-29T19:11:57.650Z"
   },
   {
    "duration": 571,
    "start_time": "2022-11-29T19:11:58.858Z"
   },
   {
    "duration": 696,
    "start_time": "2022-11-29T19:11:59.986Z"
   },
   {
    "duration": 10,
    "start_time": "2022-11-29T19:15:46.616Z"
   },
   {
    "duration": 11,
    "start_time": "2022-11-29T19:16:15.960Z"
   },
   {
    "duration": 603,
    "start_time": "2022-11-29T19:16:39.656Z"
   },
   {
    "duration": 567,
    "start_time": "2022-11-29T19:16:41.761Z"
   },
   {
    "duration": 528,
    "start_time": "2022-11-29T19:16:42.330Z"
   },
   {
    "duration": 541,
    "start_time": "2022-11-29T19:18:47.219Z"
   },
   {
    "duration": 21,
    "start_time": "2022-11-29T19:20:13.421Z"
   },
   {
    "duration": 18,
    "start_time": "2022-11-29T19:20:22.005Z"
   },
   {
    "duration": 17,
    "start_time": "2022-11-29T19:20:26.973Z"
   },
   {
    "duration": 1445,
    "start_time": "2022-11-29T19:20:49.015Z"
   },
   {
    "duration": 423,
    "start_time": "2022-11-29T19:20:50.462Z"
   },
   {
    "duration": 14,
    "start_time": "2022-11-29T19:20:50.887Z"
   },
   {
    "duration": 67,
    "start_time": "2022-11-29T19:20:50.902Z"
   },
   {
    "duration": 49,
    "start_time": "2022-11-29T19:20:50.970Z"
   },
   {
    "duration": 8,
    "start_time": "2022-11-29T19:20:51.021Z"
   },
   {
    "duration": 17,
    "start_time": "2022-11-29T19:20:51.031Z"
   },
   {
    "duration": 34,
    "start_time": "2022-11-29T19:20:51.049Z"
   },
   {
    "duration": 42,
    "start_time": "2022-11-29T19:20:51.085Z"
   },
   {
    "duration": 9,
    "start_time": "2022-11-29T19:20:51.130Z"
   },
   {
    "duration": 18,
    "start_time": "2022-11-29T19:20:51.141Z"
   },
   {
    "duration": 32,
    "start_time": "2022-11-29T19:20:51.160Z"
   },
   {
    "duration": 20,
    "start_time": "2022-11-29T19:20:51.213Z"
   },
   {
    "duration": 1055,
    "start_time": "2022-11-29T19:20:51.234Z"
   },
   {
    "duration": 261,
    "start_time": "2022-11-29T19:20:52.291Z"
   },
   {
    "duration": 306,
    "start_time": "2022-11-29T19:20:52.553Z"
   },
   {
    "duration": 310,
    "start_time": "2022-11-29T19:20:52.861Z"
   },
   {
    "duration": 326,
    "start_time": "2022-11-29T19:20:53.173Z"
   },
   {
    "duration": 26,
    "start_time": "2022-11-29T19:20:53.501Z"
   },
   {
    "duration": 1396,
    "start_time": "2022-11-29T19:20:53.529Z"
   },
   {
    "duration": 0,
    "start_time": "2022-11-29T19:20:54.927Z"
   },
   {
    "duration": 0,
    "start_time": "2022-11-29T19:20:54.928Z"
   },
   {
    "duration": 0,
    "start_time": "2022-11-29T19:20:54.930Z"
   },
   {
    "duration": 0,
    "start_time": "2022-11-29T19:20:54.932Z"
   },
   {
    "duration": 0,
    "start_time": "2022-11-29T19:20:54.934Z"
   },
   {
    "duration": 0,
    "start_time": "2022-11-29T19:20:54.936Z"
   },
   {
    "duration": 0,
    "start_time": "2022-11-29T19:20:54.937Z"
   },
   {
    "duration": 0,
    "start_time": "2022-11-29T19:20:54.938Z"
   },
   {
    "duration": 0,
    "start_time": "2022-11-29T19:20:54.940Z"
   },
   {
    "duration": 0,
    "start_time": "2022-11-29T19:20:54.941Z"
   },
   {
    "duration": 0,
    "start_time": "2022-11-29T19:20:54.942Z"
   },
   {
    "duration": 0,
    "start_time": "2022-11-29T19:20:54.944Z"
   },
   {
    "duration": 0,
    "start_time": "2022-11-29T19:20:54.945Z"
   },
   {
    "duration": 0,
    "start_time": "2022-11-29T19:20:54.946Z"
   },
   {
    "duration": 0,
    "start_time": "2022-11-29T19:20:54.948Z"
   },
   {
    "duration": 0,
    "start_time": "2022-11-29T19:20:54.949Z"
   },
   {
    "duration": 0,
    "start_time": "2022-11-29T19:20:54.951Z"
   },
   {
    "duration": 0,
    "start_time": "2022-11-29T19:20:54.952Z"
   },
   {
    "duration": 0,
    "start_time": "2022-11-29T19:20:54.953Z"
   },
   {
    "duration": 0,
    "start_time": "2022-11-29T19:20:54.954Z"
   },
   {
    "duration": 0,
    "start_time": "2022-11-29T19:20:54.956Z"
   },
   {
    "duration": 0,
    "start_time": "2022-11-29T19:20:54.957Z"
   },
   {
    "duration": 0,
    "start_time": "2022-11-29T19:20:54.959Z"
   },
   {
    "duration": 0,
    "start_time": "2022-11-29T19:20:54.960Z"
   },
   {
    "duration": 0,
    "start_time": "2022-11-29T19:20:54.961Z"
   },
   {
    "duration": 0,
    "start_time": "2022-11-29T19:20:54.962Z"
   },
   {
    "duration": 0,
    "start_time": "2022-11-29T19:20:54.963Z"
   },
   {
    "duration": 0,
    "start_time": "2022-11-29T19:20:54.964Z"
   },
   {
    "duration": 1,
    "start_time": "2022-11-29T19:20:55.012Z"
   },
   {
    "duration": 0,
    "start_time": "2022-11-29T19:20:55.014Z"
   },
   {
    "duration": 0,
    "start_time": "2022-11-29T19:20:55.015Z"
   },
   {
    "duration": 0,
    "start_time": "2022-11-29T19:20:55.016Z"
   },
   {
    "duration": 0,
    "start_time": "2022-11-29T19:20:55.018Z"
   },
   {
    "duration": 0,
    "start_time": "2022-11-29T19:20:55.019Z"
   },
   {
    "duration": 1,
    "start_time": "2022-11-29T19:20:55.019Z"
   },
   {
    "duration": 0,
    "start_time": "2022-11-29T19:20:55.020Z"
   },
   {
    "duration": 0,
    "start_time": "2022-11-29T19:20:55.022Z"
   },
   {
    "duration": 0,
    "start_time": "2022-11-29T19:20:55.023Z"
   },
   {
    "duration": 0,
    "start_time": "2022-11-29T19:20:55.024Z"
   },
   {
    "duration": 0,
    "start_time": "2022-11-29T19:20:55.024Z"
   },
   {
    "duration": 16,
    "start_time": "2022-11-29T19:21:36.623Z"
   },
   {
    "duration": 1323,
    "start_time": "2022-11-29T19:21:44.756Z"
   },
   {
    "duration": 364,
    "start_time": "2022-11-29T19:21:46.081Z"
   },
   {
    "duration": 13,
    "start_time": "2022-11-29T19:21:46.447Z"
   },
   {
    "duration": 62,
    "start_time": "2022-11-29T19:21:46.462Z"
   },
   {
    "duration": 38,
    "start_time": "2022-11-29T19:21:46.526Z"
   },
   {
    "duration": 9,
    "start_time": "2022-11-29T19:21:46.566Z"
   },
   {
    "duration": 15,
    "start_time": "2022-11-29T19:21:46.577Z"
   },
   {
    "duration": 37,
    "start_time": "2022-11-29T19:21:46.613Z"
   },
   {
    "duration": 19,
    "start_time": "2022-11-29T19:21:46.652Z"
   },
   {
    "duration": 9,
    "start_time": "2022-11-29T19:21:46.673Z"
   },
   {
    "duration": 41,
    "start_time": "2022-11-29T19:21:46.684Z"
   },
   {
    "duration": 34,
    "start_time": "2022-11-29T19:21:46.727Z"
   },
   {
    "duration": 26,
    "start_time": "2022-11-29T19:21:46.763Z"
   },
   {
    "duration": 1112,
    "start_time": "2022-11-29T19:21:46.791Z"
   },
   {
    "duration": 258,
    "start_time": "2022-11-29T19:21:47.905Z"
   },
   {
    "duration": 315,
    "start_time": "2022-11-29T19:21:48.164Z"
   },
   {
    "duration": 318,
    "start_time": "2022-11-29T19:21:48.481Z"
   },
   {
    "duration": 350,
    "start_time": "2022-11-29T19:21:48.801Z"
   },
   {
    "duration": 19,
    "start_time": "2022-11-29T19:21:49.153Z"
   },
   {
    "duration": 1577,
    "start_time": "2022-11-29T19:21:49.174Z"
   },
   {
    "duration": 0,
    "start_time": "2022-11-29T19:21:50.753Z"
   },
   {
    "duration": 0,
    "start_time": "2022-11-29T19:21:50.755Z"
   },
   {
    "duration": 0,
    "start_time": "2022-11-29T19:21:50.756Z"
   },
   {
    "duration": 1,
    "start_time": "2022-11-29T19:21:50.757Z"
   },
   {
    "duration": 0,
    "start_time": "2022-11-29T19:21:50.760Z"
   },
   {
    "duration": 0,
    "start_time": "2022-11-29T19:21:50.761Z"
   },
   {
    "duration": 0,
    "start_time": "2022-11-29T19:21:50.763Z"
   },
   {
    "duration": 0,
    "start_time": "2022-11-29T19:21:50.764Z"
   },
   {
    "duration": 0,
    "start_time": "2022-11-29T19:21:50.765Z"
   },
   {
    "duration": 0,
    "start_time": "2022-11-29T19:21:50.766Z"
   },
   {
    "duration": 0,
    "start_time": "2022-11-29T19:21:50.768Z"
   },
   {
    "duration": 0,
    "start_time": "2022-11-29T19:21:50.769Z"
   },
   {
    "duration": 0,
    "start_time": "2022-11-29T19:21:50.771Z"
   },
   {
    "duration": 0,
    "start_time": "2022-11-29T19:21:50.772Z"
   },
   {
    "duration": 0,
    "start_time": "2022-11-29T19:21:50.773Z"
   },
   {
    "duration": 0,
    "start_time": "2022-11-29T19:21:50.775Z"
   },
   {
    "duration": 0,
    "start_time": "2022-11-29T19:21:50.777Z"
   },
   {
    "duration": 0,
    "start_time": "2022-11-29T19:21:50.778Z"
   },
   {
    "duration": 0,
    "start_time": "2022-11-29T19:21:50.779Z"
   },
   {
    "duration": 0,
    "start_time": "2022-11-29T19:21:50.780Z"
   },
   {
    "duration": 0,
    "start_time": "2022-11-29T19:21:50.781Z"
   },
   {
    "duration": 0,
    "start_time": "2022-11-29T19:21:50.782Z"
   },
   {
    "duration": 0,
    "start_time": "2022-11-29T19:21:50.783Z"
   },
   {
    "duration": 0,
    "start_time": "2022-11-29T19:21:50.784Z"
   },
   {
    "duration": 0,
    "start_time": "2022-11-29T19:21:50.785Z"
   },
   {
    "duration": 0,
    "start_time": "2022-11-29T19:21:50.786Z"
   },
   {
    "duration": 0,
    "start_time": "2022-11-29T19:21:50.787Z"
   },
   {
    "duration": 0,
    "start_time": "2022-11-29T19:21:50.788Z"
   },
   {
    "duration": 0,
    "start_time": "2022-11-29T19:21:50.789Z"
   },
   {
    "duration": 0,
    "start_time": "2022-11-29T19:21:50.791Z"
   },
   {
    "duration": 0,
    "start_time": "2022-11-29T19:21:50.813Z"
   },
   {
    "duration": 0,
    "start_time": "2022-11-29T19:21:50.814Z"
   },
   {
    "duration": 0,
    "start_time": "2022-11-29T19:21:50.816Z"
   },
   {
    "duration": 0,
    "start_time": "2022-11-29T19:21:50.817Z"
   },
   {
    "duration": 0,
    "start_time": "2022-11-29T19:21:50.818Z"
   },
   {
    "duration": 0,
    "start_time": "2022-11-29T19:21:50.819Z"
   },
   {
    "duration": 0,
    "start_time": "2022-11-29T19:21:50.820Z"
   },
   {
    "duration": 0,
    "start_time": "2022-11-29T19:21:50.821Z"
   },
   {
    "duration": 0,
    "start_time": "2022-11-29T19:21:50.822Z"
   },
   {
    "duration": 0,
    "start_time": "2022-11-29T19:21:50.823Z"
   },
   {
    "duration": 136,
    "start_time": "2022-11-29T19:22:43.681Z"
   },
   {
    "duration": 116,
    "start_time": "2022-11-29T19:22:48.105Z"
   },
   {
    "duration": 135,
    "start_time": "2022-11-29T19:22:54.120Z"
   },
   {
    "duration": 9,
    "start_time": "2022-11-29T19:23:30.376Z"
   },
   {
    "duration": 12,
    "start_time": "2022-11-29T19:23:31.800Z"
   },
   {
    "duration": 14,
    "start_time": "2022-11-29T19:23:32.775Z"
   },
   {
    "duration": 15,
    "start_time": "2022-11-29T19:23:34.744Z"
   },
   {
    "duration": 23,
    "start_time": "2022-11-29T19:23:35.320Z"
   },
   {
    "duration": 15,
    "start_time": "2022-11-29T19:23:35.935Z"
   },
   {
    "duration": 15,
    "start_time": "2022-11-29T19:23:37.312Z"
   },
   {
    "duration": 4,
    "start_time": "2022-11-29T19:23:45.825Z"
   },
   {
    "duration": 12,
    "start_time": "2022-11-29T19:23:46.880Z"
   },
   {
    "duration": 5,
    "start_time": "2022-11-29T19:23:49.288Z"
   },
   {
    "duration": 4,
    "start_time": "2022-11-29T19:23:49.680Z"
   },
   {
    "duration": 4,
    "start_time": "2022-11-29T19:23:50.120Z"
   },
   {
    "duration": 3,
    "start_time": "2022-11-29T19:23:51.160Z"
   },
   {
    "duration": 14,
    "start_time": "2022-11-29T19:23:52.088Z"
   },
   {
    "duration": 13,
    "start_time": "2022-11-29T19:23:52.392Z"
   },
   {
    "duration": 3,
    "start_time": "2022-11-29T19:23:52.689Z"
   },
   {
    "duration": 13,
    "start_time": "2022-11-29T19:23:53.328Z"
   },
   {
    "duration": 13,
    "start_time": "2022-11-29T19:23:53.617Z"
   },
   {
    "duration": 3,
    "start_time": "2022-11-29T19:23:54.089Z"
   },
   {
    "duration": 12,
    "start_time": "2022-11-29T19:23:54.840Z"
   },
   {
    "duration": 14,
    "start_time": "2022-11-29T19:23:55.320Z"
   },
   {
    "duration": 3,
    "start_time": "2022-11-29T19:23:56.033Z"
   },
   {
    "duration": 4,
    "start_time": "2022-11-29T19:23:58.128Z"
   },
   {
    "duration": 10,
    "start_time": "2022-11-29T19:23:59.369Z"
   },
   {
    "duration": 4,
    "start_time": "2022-11-29T19:24:00.017Z"
   },
   {
    "duration": 3,
    "start_time": "2022-11-29T19:24:00.801Z"
   },
   {
    "duration": 3,
    "start_time": "2022-11-29T19:24:01.066Z"
   },
   {
    "duration": 7,
    "start_time": "2022-11-29T19:24:01.345Z"
   },
   {
    "duration": 7,
    "start_time": "2022-11-29T19:24:01.616Z"
   },
   {
    "duration": 7,
    "start_time": "2022-11-29T19:24:02.018Z"
   },
   {
    "duration": 4,
    "start_time": "2022-11-29T19:24:06.320Z"
   },
   {
    "duration": 8,
    "start_time": "2022-11-29T19:24:07.194Z"
   },
   {
    "duration": 1552,
    "start_time": "2022-11-29T19:24:08.329Z"
   },
   {
    "duration": 1591,
    "start_time": "2022-11-29T19:24:12.321Z"
   },
   {
    "duration": 1641,
    "start_time": "2022-11-29T19:24:14.194Z"
   },
   {
    "duration": 11,
    "start_time": "2022-11-29T19:24:17.153Z"
   },
   {
    "duration": 225,
    "start_time": "2022-11-29T19:24:17.561Z"
   },
   {
    "duration": 84,
    "start_time": "2022-11-29T19:24:17.945Z"
   },
   {
    "duration": 1449,
    "start_time": "2022-11-29T19:25:39.524Z"
   },
   {
    "duration": 361,
    "start_time": "2022-11-29T19:25:40.975Z"
   },
   {
    "duration": 13,
    "start_time": "2022-11-29T19:25:41.338Z"
   },
   {
    "duration": 61,
    "start_time": "2022-11-29T19:25:41.353Z"
   },
   {
    "duration": 38,
    "start_time": "2022-11-29T19:25:41.415Z"
   },
   {
    "duration": 8,
    "start_time": "2022-11-29T19:25:41.455Z"
   },
   {
    "duration": 16,
    "start_time": "2022-11-29T19:25:41.464Z"
   },
   {
    "duration": 59,
    "start_time": "2022-11-29T19:25:41.481Z"
   },
   {
    "duration": 18,
    "start_time": "2022-11-29T19:25:41.541Z"
   },
   {
    "duration": 9,
    "start_time": "2022-11-29T19:25:41.562Z"
   },
   {
    "duration": 17,
    "start_time": "2022-11-29T19:25:41.572Z"
   },
   {
    "duration": 52,
    "start_time": "2022-11-29T19:25:41.591Z"
   },
   {
    "duration": 18,
    "start_time": "2022-11-29T19:25:41.645Z"
   },
   {
    "duration": 1055,
    "start_time": "2022-11-29T19:25:41.665Z"
   },
   {
    "duration": 271,
    "start_time": "2022-11-29T19:25:42.722Z"
   },
   {
    "duration": 338,
    "start_time": "2022-11-29T19:25:42.995Z"
   },
   {
    "duration": 293,
    "start_time": "2022-11-29T19:25:43.335Z"
   },
   {
    "duration": 290,
    "start_time": "2022-11-29T19:25:43.630Z"
   },
   {
    "duration": 19,
    "start_time": "2022-11-29T19:25:43.922Z"
   },
   {
    "duration": 179,
    "start_time": "2022-11-29T19:25:43.942Z"
   },
   {
    "duration": 121,
    "start_time": "2022-11-29T19:25:44.123Z"
   },
   {
    "duration": 150,
    "start_time": "2022-11-29T19:25:44.246Z"
   },
   {
    "duration": 8,
    "start_time": "2022-11-29T19:25:44.397Z"
   },
   {
    "duration": 28,
    "start_time": "2022-11-29T19:25:44.413Z"
   },
   {
    "duration": 14,
    "start_time": "2022-11-29T19:25:44.442Z"
   },
   {
    "duration": 22,
    "start_time": "2022-11-29T19:25:44.457Z"
   },
   {
    "duration": 36,
    "start_time": "2022-11-29T19:25:44.480Z"
   },
   {
    "duration": 115,
    "start_time": "2022-11-29T19:25:44.612Z"
   },
   {
    "duration": 94,
    "start_time": "2022-11-29T19:25:44.729Z"
   },
   {
    "duration": 105,
    "start_time": "2022-11-29T19:25:44.914Z"
   },
   {
    "duration": 14,
    "start_time": "2022-11-29T19:25:45.021Z"
   },
   {
    "duration": 6,
    "start_time": "2022-11-29T19:25:45.037Z"
   },
   {
    "duration": 5,
    "start_time": "2022-11-29T19:25:45.045Z"
   },
   {
    "duration": 5,
    "start_time": "2022-11-29T19:25:45.051Z"
   },
   {
    "duration": 7,
    "start_time": "2022-11-29T19:25:45.058Z"
   },
   {
    "duration": 16,
    "start_time": "2022-11-29T19:25:45.066Z"
   },
   {
    "duration": 39,
    "start_time": "2022-11-29T19:25:45.084Z"
   },
   {
    "duration": 3,
    "start_time": "2022-11-29T19:25:45.124Z"
   },
   {
    "duration": 14,
    "start_time": "2022-11-29T19:25:45.129Z"
   },
   {
    "duration": 11,
    "start_time": "2022-11-29T19:25:45.145Z"
   },
   {
    "duration": 4,
    "start_time": "2022-11-29T19:25:45.158Z"
   },
   {
    "duration": 15,
    "start_time": "2022-11-29T19:25:45.163Z"
   },
   {
    "duration": 44,
    "start_time": "2022-11-29T19:25:45.179Z"
   },
   {
    "duration": 3,
    "start_time": "2022-11-29T19:25:45.225Z"
   },
   {
    "duration": 11,
    "start_time": "2022-11-29T19:25:45.230Z"
   },
   {
    "duration": 13,
    "start_time": "2022-11-29T19:25:45.243Z"
   },
   {
    "duration": 2,
    "start_time": "2022-11-29T19:25:45.258Z"
   },
   {
    "duration": 8,
    "start_time": "2022-11-29T19:25:45.262Z"
   },
   {
    "duration": 5,
    "start_time": "2022-11-29T19:25:45.271Z"
   },
   {
    "duration": 8,
    "start_time": "2022-11-29T19:25:45.278Z"
   },
   {
    "duration": 7,
    "start_time": "2022-11-29T19:25:45.312Z"
   },
   {
    "duration": 6,
    "start_time": "2022-11-29T19:25:45.320Z"
   },
   {
    "duration": 3,
    "start_time": "2022-11-29T19:25:45.328Z"
   },
   {
    "duration": 7,
    "start_time": "2022-11-29T19:25:45.333Z"
   },
   {
    "duration": 1572,
    "start_time": "2022-11-29T19:25:45.342Z"
   },
   {
    "duration": 1570,
    "start_time": "2022-11-29T19:25:46.916Z"
   },
   {
    "duration": 1578,
    "start_time": "2022-11-29T19:25:48.487Z"
   },
   {
    "duration": 10,
    "start_time": "2022-11-29T19:25:50.066Z"
   },
   {
    "duration": 139,
    "start_time": "2022-11-29T19:25:50.078Z"
   },
   {
    "duration": 257,
    "start_time": "2022-11-29T19:25:50.219Z"
   },
   {
    "duration": 15,
    "start_time": "2022-12-01T17:02:37.414Z"
   },
   {
    "duration": 56,
    "start_time": "2022-12-01T17:02:39.811Z"
   },
   {
    "duration": 6,
    "start_time": "2022-12-01T17:02:42.070Z"
   },
   {
    "duration": 7,
    "start_time": "2022-12-01T17:02:42.452Z"
   },
   {
    "duration": 8,
    "start_time": "2022-12-01T17:02:43.076Z"
   },
   {
    "duration": 9,
    "start_time": "2022-12-01T17:02:43.374Z"
   },
   {
    "duration": 7,
    "start_time": "2022-12-01T17:02:43.642Z"
   },
   {
    "duration": 1660,
    "start_time": "2022-12-01T17:03:01.164Z"
   },
   {
    "duration": 1674,
    "start_time": "2022-12-01T17:03:02.827Z"
   },
   {
    "duration": 16,
    "start_time": "2022-12-01T17:03:04.503Z"
   },
   {
    "duration": 72,
    "start_time": "2022-12-01T17:03:04.522Z"
   },
   {
    "duration": 41,
    "start_time": "2022-12-01T17:03:04.596Z"
   },
   {
    "duration": 11,
    "start_time": "2022-12-01T17:03:04.651Z"
   },
   {
    "duration": 24,
    "start_time": "2022-12-01T17:03:04.664Z"
   },
   {
    "duration": 39,
    "start_time": "2022-12-01T17:03:04.690Z"
   },
   {
    "duration": 22,
    "start_time": "2022-12-01T17:03:04.750Z"
   },
   {
    "duration": 10,
    "start_time": "2022-12-01T17:03:04.775Z"
   },
   {
    "duration": 22,
    "start_time": "2022-12-01T17:03:04.787Z"
   },
   {
    "duration": 64,
    "start_time": "2022-12-01T17:03:04.811Z"
   },
   {
    "duration": 22,
    "start_time": "2022-12-01T17:03:04.877Z"
   },
   {
    "duration": 1224,
    "start_time": "2022-12-01T17:03:04.901Z"
   },
   {
    "duration": 299,
    "start_time": "2022-12-01T17:03:06.127Z"
   },
   {
    "duration": 399,
    "start_time": "2022-12-01T17:03:06.428Z"
   },
   {
    "duration": 353,
    "start_time": "2022-12-01T17:03:06.829Z"
   },
   {
    "duration": 339,
    "start_time": "2022-12-01T17:03:07.184Z"
   },
   {
    "duration": 39,
    "start_time": "2022-12-01T17:03:07.525Z"
   },
   {
    "duration": 177,
    "start_time": "2022-12-01T17:03:07.566Z"
   },
   {
    "duration": 149,
    "start_time": "2022-12-01T17:03:07.745Z"
   },
   {
    "duration": 168,
    "start_time": "2022-12-01T17:03:07.896Z"
   },
   {
    "duration": 9,
    "start_time": "2022-12-01T17:03:08.066Z"
   },
   {
    "duration": 30,
    "start_time": "2022-12-01T17:03:08.078Z"
   },
   {
    "duration": 18,
    "start_time": "2022-12-01T17:03:08.110Z"
   },
   {
    "duration": 38,
    "start_time": "2022-12-01T17:03:08.130Z"
   },
   {
    "duration": 186,
    "start_time": "2022-12-01T17:03:08.170Z"
   },
   {
    "duration": 108,
    "start_time": "2022-12-01T17:03:08.450Z"
   },
   {
    "duration": 194,
    "start_time": "2022-12-01T17:03:08.560Z"
   },
   {
    "duration": 96,
    "start_time": "2022-12-01T17:03:08.757Z"
   },
   {
    "duration": 22,
    "start_time": "2022-12-01T17:03:08.855Z"
   },
   {
    "duration": 12,
    "start_time": "2022-12-01T17:03:08.879Z"
   },
   {
    "duration": 6,
    "start_time": "2022-12-01T17:03:08.892Z"
   },
   {
    "duration": 11,
    "start_time": "2022-12-01T17:03:08.900Z"
   },
   {
    "duration": 15,
    "start_time": "2022-12-01T17:03:08.913Z"
   },
   {
    "duration": 27,
    "start_time": "2022-12-01T17:03:08.930Z"
   },
   {
    "duration": 22,
    "start_time": "2022-12-01T17:03:08.959Z"
   },
   {
    "duration": 4,
    "start_time": "2022-12-01T17:03:08.983Z"
   },
   {
    "duration": 20,
    "start_time": "2022-12-01T17:03:08.989Z"
   },
   {
    "duration": 41,
    "start_time": "2022-12-01T17:03:09.011Z"
   },
   {
    "duration": 4,
    "start_time": "2022-12-01T17:03:09.054Z"
   },
   {
    "duration": 15,
    "start_time": "2022-12-01T17:03:09.060Z"
   },
   {
    "duration": 14,
    "start_time": "2022-12-01T17:03:09.077Z"
   },
   {
    "duration": 4,
    "start_time": "2022-12-01T17:03:09.092Z"
   },
   {
    "duration": 8,
    "start_time": "2022-12-01T17:03:09.097Z"
   },
   {
    "duration": 50,
    "start_time": "2022-12-01T17:03:09.106Z"
   },
   {
    "duration": 4,
    "start_time": "2022-12-01T17:03:09.158Z"
   },
   {
    "duration": 9,
    "start_time": "2022-12-01T17:03:09.164Z"
   },
   {
    "duration": 9,
    "start_time": "2022-12-01T17:03:09.174Z"
   },
   {
    "duration": 12,
    "start_time": "2022-12-01T17:03:09.185Z"
   },
   {
    "duration": 8,
    "start_time": "2022-12-01T17:03:09.200Z"
   },
   {
    "duration": 41,
    "start_time": "2022-12-01T17:03:09.210Z"
   },
   {
    "duration": 6,
    "start_time": "2022-12-01T17:03:09.253Z"
   },
   {
    "duration": 10,
    "start_time": "2022-12-01T17:03:09.261Z"
   },
   {
    "duration": 2014,
    "start_time": "2022-12-01T17:03:09.273Z"
   },
   {
    "duration": 1898,
    "start_time": "2022-12-01T17:03:11.289Z"
   },
   {
    "duration": 1980,
    "start_time": "2022-12-01T17:03:13.189Z"
   },
   {
    "duration": 12,
    "start_time": "2022-12-01T17:03:15.171Z"
   },
   {
    "duration": 159,
    "start_time": "2022-12-01T17:03:15.184Z"
   },
   {
    "duration": 107,
    "start_time": "2022-12-01T17:03:15.351Z"
   },
   {
    "duration": 71,
    "start_time": "2022-12-01T17:04:23.925Z"
   },
   {
    "duration": 53,
    "start_time": "2022-12-02T17:44:05.523Z"
   },
   {
    "duration": 1710,
    "start_time": "2022-12-02T17:44:13.010Z"
   },
   {
    "duration": 716,
    "start_time": "2022-12-02T17:44:14.724Z"
   },
   {
    "duration": 18,
    "start_time": "2022-12-02T17:44:15.442Z"
   },
   {
    "duration": 62,
    "start_time": "2022-12-02T17:44:15.462Z"
   },
   {
    "duration": 54,
    "start_time": "2022-12-02T17:44:15.526Z"
   },
   {
    "duration": 8,
    "start_time": "2022-12-02T17:44:15.582Z"
   },
   {
    "duration": 21,
    "start_time": "2022-12-02T17:44:15.592Z"
   },
   {
    "duration": 63,
    "start_time": "2022-12-02T17:44:15.615Z"
   },
   {
    "duration": 23,
    "start_time": "2022-12-02T17:44:15.680Z"
   },
   {
    "duration": 15,
    "start_time": "2022-12-02T17:44:15.706Z"
   },
   {
    "duration": 45,
    "start_time": "2022-12-02T17:44:15.723Z"
   },
   {
    "duration": 48,
    "start_time": "2022-12-02T17:44:15.770Z"
   },
   {
    "duration": 42,
    "start_time": "2022-12-02T17:44:15.820Z"
   },
   {
    "duration": 1154,
    "start_time": "2022-12-02T17:44:15.864Z"
   },
   {
    "duration": 289,
    "start_time": "2022-12-02T17:44:17.020Z"
   },
   {
    "duration": 18,
    "start_time": "2022-12-02T17:44:17.310Z"
   },
   {
    "duration": 175,
    "start_time": "2022-12-02T17:44:17.330Z"
   },
   {
    "duration": 135,
    "start_time": "2022-12-02T17:44:17.506Z"
   },
   {
    "duration": 171,
    "start_time": "2022-12-02T17:44:17.643Z"
   },
   {
    "duration": 10,
    "start_time": "2022-12-02T17:44:17.817Z"
   },
   {
    "duration": 34,
    "start_time": "2022-12-02T17:44:17.829Z"
   },
   {
    "duration": 16,
    "start_time": "2022-12-02T17:44:17.868Z"
   },
   {
    "duration": 26,
    "start_time": "2022-12-02T17:44:17.886Z"
   },
   {
    "duration": 143,
    "start_time": "2022-12-02T17:44:17.914Z"
   },
   {
    "duration": 112,
    "start_time": "2022-12-02T17:44:18.058Z"
   },
   {
    "duration": 97,
    "start_time": "2022-12-02T17:44:18.175Z"
   },
   {
    "duration": 90,
    "start_time": "2022-12-02T17:44:18.275Z"
   },
   {
    "duration": 101,
    "start_time": "2022-12-02T17:44:18.371Z"
   },
   {
    "duration": 11,
    "start_time": "2022-12-02T17:44:18.474Z"
   },
   {
    "duration": 6,
    "start_time": "2022-12-02T17:44:18.487Z"
   },
   {
    "duration": 6,
    "start_time": "2022-12-02T17:44:18.495Z"
   },
   {
    "duration": 11,
    "start_time": "2022-12-02T17:44:18.503Z"
   },
   {
    "duration": 17,
    "start_time": "2022-12-02T17:44:18.515Z"
   },
   {
    "duration": 36,
    "start_time": "2022-12-02T17:44:18.534Z"
   },
   {
    "duration": 4,
    "start_time": "2022-12-02T17:44:18.572Z"
   },
   {
    "duration": 17,
    "start_time": "2022-12-02T17:44:18.578Z"
   },
   {
    "duration": 14,
    "start_time": "2022-12-02T17:44:18.597Z"
   },
   {
    "duration": 4,
    "start_time": "2022-12-02T17:44:18.613Z"
   },
   {
    "duration": 44,
    "start_time": "2022-12-02T17:44:18.619Z"
   },
   {
    "duration": 14,
    "start_time": "2022-12-02T17:44:18.665Z"
   },
   {
    "duration": 5,
    "start_time": "2022-12-02T17:44:18.681Z"
   },
   {
    "duration": 18,
    "start_time": "2022-12-02T17:44:18.688Z"
   },
   {
    "duration": 16,
    "start_time": "2022-12-02T17:44:18.708Z"
   },
   {
    "duration": 5,
    "start_time": "2022-12-02T17:44:18.755Z"
   },
   {
    "duration": 9,
    "start_time": "2022-12-02T17:44:18.762Z"
   },
   {
    "duration": 15,
    "start_time": "2022-12-02T17:44:18.773Z"
   },
   {
    "duration": 12,
    "start_time": "2022-12-02T17:44:18.790Z"
   },
   {
    "duration": 8,
    "start_time": "2022-12-02T17:44:18.804Z"
   },
   {
    "duration": 11,
    "start_time": "2022-12-02T17:44:18.814Z"
   },
   {
    "duration": 5,
    "start_time": "2022-12-02T17:44:18.854Z"
   },
   {
    "duration": 11,
    "start_time": "2022-12-02T17:44:18.862Z"
   },
   {
    "duration": 1844,
    "start_time": "2022-12-02T17:44:18.875Z"
   },
   {
    "duration": 1940,
    "start_time": "2022-12-02T17:44:20.721Z"
   },
   {
    "duration": 1795,
    "start_time": "2022-12-02T17:44:22.663Z"
   },
   {
    "duration": 11,
    "start_time": "2022-12-02T17:44:24.460Z"
   },
   {
    "duration": 172,
    "start_time": "2022-12-02T17:44:24.472Z"
   },
   {
    "duration": 132,
    "start_time": "2022-12-02T17:44:24.648Z"
   },
   {
    "duration": 3,
    "start_time": "2022-12-02T17:45:17.772Z"
   },
   {
    "duration": 3,
    "start_time": "2022-12-02T17:45:26.260Z"
   },
   {
    "duration": 2,
    "start_time": "2022-12-02T17:45:33.844Z"
   },
   {
    "duration": 50,
    "start_time": "2022-12-02T17:46:06.341Z"
   },
   {
    "duration": 27,
    "start_time": "2022-12-02T17:46:16.821Z"
   },
   {
    "duration": 15,
    "start_time": "2022-12-02T17:46:19.476Z"
   },
   {
    "duration": 15,
    "start_time": "2022-12-02T17:46:20.973Z"
   },
   {
    "duration": 14,
    "start_time": "2022-12-02T17:46:22.245Z"
   },
   {
    "duration": 64,
    "start_time": "2022-12-02T17:46:23.596Z"
   },
   {
    "duration": 22,
    "start_time": "2022-12-02T17:46:24.558Z"
   },
   {
    "duration": 19,
    "start_time": "2022-12-02T17:46:25.532Z"
   },
   {
    "duration": 17,
    "start_time": "2022-12-02T17:47:01.567Z"
   },
   {
    "duration": 21,
    "start_time": "2022-12-02T17:47:02.126Z"
   },
   {
    "duration": 19,
    "start_time": "2022-12-02T17:47:02.509Z"
   },
   {
    "duration": 21,
    "start_time": "2022-12-02T17:47:30.543Z"
   },
   {
    "duration": 20,
    "start_time": "2022-12-02T17:47:40.055Z"
   },
   {
    "duration": 19,
    "start_time": "2022-12-02T17:47:41.375Z"
   },
   {
    "duration": 19,
    "start_time": "2022-12-02T17:47:44.039Z"
   },
   {
    "duration": 19,
    "start_time": "2022-12-02T17:47:45.814Z"
   },
   {
    "duration": 22,
    "start_time": "2022-12-02T17:48:14.036Z"
   },
   {
    "duration": 4,
    "start_time": "2022-12-02T17:48:15.311Z"
   },
   {
    "duration": 13,
    "start_time": "2022-12-02T17:48:17.711Z"
   },
   {
    "duration": 7,
    "start_time": "2022-12-02T17:48:24.432Z"
   },
   {
    "duration": 5,
    "start_time": "2022-12-02T17:49:37.274Z"
   },
   {
    "duration": 5,
    "start_time": "2022-12-02T17:50:03.467Z"
   },
   {
    "duration": 4,
    "start_time": "2022-12-02T17:50:14.725Z"
   },
   {
    "duration": 3,
    "start_time": "2022-12-02T17:50:17.530Z"
   },
   {
    "duration": 13,
    "start_time": "2022-12-02T17:50:20.724Z"
   },
   {
    "duration": 13,
    "start_time": "2022-12-02T17:50:22.131Z"
   },
   {
    "duration": 5,
    "start_time": "2022-12-02T17:50:23.326Z"
   },
   {
    "duration": 13,
    "start_time": "2022-12-02T17:50:24.441Z"
   },
   {
    "duration": 14,
    "start_time": "2022-12-02T17:50:25.458Z"
   },
   {
    "duration": 4,
    "start_time": "2022-12-02T17:50:25.825Z"
   },
   {
    "duration": 13,
    "start_time": "2022-12-02T17:50:27.417Z"
   },
   {
    "duration": 15,
    "start_time": "2022-12-02T17:50:28.986Z"
   },
   {
    "duration": 3,
    "start_time": "2022-12-02T17:50:39.379Z"
   },
   {
    "duration": 4,
    "start_time": "2022-12-02T17:50:48.066Z"
   },
   {
    "duration": 10,
    "start_time": "2022-12-02T17:50:49.162Z"
   },
   {
    "duration": 5,
    "start_time": "2022-12-02T17:51:01.138Z"
   },
   {
    "duration": 4,
    "start_time": "2022-12-02T17:51:02.115Z"
   },
   {
    "duration": 6,
    "start_time": "2022-12-02T17:51:10.234Z"
   },
   {
    "duration": 8,
    "start_time": "2022-12-02T17:51:20.963Z"
   },
   {
    "duration": 10,
    "start_time": "2022-12-02T17:51:21.843Z"
   },
   {
    "duration": 8,
    "start_time": "2022-12-02T17:51:22.284Z"
   },
   {
    "duration": 107,
    "start_time": "2022-12-02T18:03:07.027Z"
   },
   {
    "duration": 15,
    "start_time": "2022-12-02T18:03:11.650Z"
   },
   {
    "duration": 112,
    "start_time": "2022-12-02T18:03:30.435Z"
   },
   {
    "duration": 3,
    "start_time": "2022-12-02T18:04:14.083Z"
   },
   {
    "duration": 3,
    "start_time": "2022-12-02T18:04:17.021Z"
   },
   {
    "duration": 3,
    "start_time": "2022-12-02T18:05:11.141Z"
   },
   {
    "duration": 3,
    "start_time": "2022-12-02T18:05:11.645Z"
   },
   {
    "duration": 3,
    "start_time": "2022-12-02T18:05:21.198Z"
   },
   {
    "duration": 5,
    "start_time": "2022-12-02T18:05:28.230Z"
   },
   {
    "duration": 3,
    "start_time": "2022-12-02T18:05:34.782Z"
   },
   {
    "duration": 9,
    "start_time": "2022-12-02T18:05:42.526Z"
   },
   {
    "duration": 4,
    "start_time": "2022-12-02T18:07:00.112Z"
   },
   {
    "duration": 9,
    "start_time": "2022-12-02T18:07:01.598Z"
   },
   {
    "duration": 1804,
    "start_time": "2022-12-02T18:07:02.110Z"
   },
   {
    "duration": 1870,
    "start_time": "2022-12-02T18:07:03.916Z"
   },
   {
    "duration": 1827,
    "start_time": "2022-12-02T18:07:05.788Z"
   },
   {
    "duration": 10,
    "start_time": "2022-12-02T18:07:07.617Z"
   },
   {
    "duration": 131,
    "start_time": "2022-12-02T18:07:07.871Z"
   },
   {
    "duration": 103,
    "start_time": "2022-12-02T18:07:08.774Z"
   },
   {
    "duration": 8,
    "start_time": "2022-12-02T18:08:53.302Z"
   },
   {
    "duration": 1853,
    "start_time": "2022-12-02T18:09:04.267Z"
   },
   {
    "duration": 3,
    "start_time": "2022-12-02T18:23:42.148Z"
   },
   {
    "duration": 6,
    "start_time": "2022-12-02T18:24:29.197Z"
   },
   {
    "duration": 5,
    "start_time": "2022-12-02T18:25:21.342Z"
   },
   {
    "duration": 2,
    "start_time": "2022-12-02T18:26:07.472Z"
   },
   {
    "duration": 3,
    "start_time": "2022-12-02T18:26:07.838Z"
   },
   {
    "duration": 3,
    "start_time": "2022-12-02T18:26:53.120Z"
   },
   {
    "duration": 5,
    "start_time": "2022-12-02T18:31:41.725Z"
   },
   {
    "duration": 9,
    "start_time": "2022-12-02T18:31:42.244Z"
   },
   {
    "duration": 3,
    "start_time": "2022-12-02T18:32:18.830Z"
   },
   {
    "duration": 2,
    "start_time": "2022-12-02T18:32:29.806Z"
   },
   {
    "duration": 5,
    "start_time": "2022-12-02T18:42:07.546Z"
   },
   {
    "duration": 5,
    "start_time": "2022-12-02T18:42:09.295Z"
   },
   {
    "duration": 4,
    "start_time": "2022-12-02T18:42:10.460Z"
   },
   {
    "duration": 4,
    "start_time": "2022-12-02T18:42:11.632Z"
   },
   {
    "duration": 19,
    "start_time": "2022-12-02T18:42:13.322Z"
   },
   {
    "duration": 18,
    "start_time": "2022-12-02T18:42:14.122Z"
   },
   {
    "duration": 5,
    "start_time": "2022-12-02T18:42:14.834Z"
   },
   {
    "duration": 13,
    "start_time": "2022-12-02T18:42:15.608Z"
   },
   {
    "duration": 19,
    "start_time": "2022-12-02T18:42:16.017Z"
   },
   {
    "duration": 4,
    "start_time": "2022-12-02T18:42:16.545Z"
   },
   {
    "duration": 14,
    "start_time": "2022-12-02T18:42:17.395Z"
   },
   {
    "duration": 15,
    "start_time": "2022-12-02T18:42:17.790Z"
   },
   {
    "duration": 5,
    "start_time": "2022-12-02T18:42:18.225Z"
   },
   {
    "duration": 6,
    "start_time": "2022-12-02T18:43:01.801Z"
   },
   {
    "duration": 13,
    "start_time": "2022-12-02T18:43:02.555Z"
   },
   {
    "duration": 4,
    "start_time": "2022-12-02T18:43:03.546Z"
   },
   {
    "duration": 4,
    "start_time": "2022-12-02T18:43:05.370Z"
   },
   {
    "duration": 3,
    "start_time": "2022-12-02T18:44:21.237Z"
   },
   {
    "duration": 10,
    "start_time": "2022-12-02T19:07:44.482Z"
   },
   {
    "duration": 15,
    "start_time": "2022-12-02T19:07:55.057Z"
   },
   {
    "duration": 8,
    "start_time": "2022-12-02T19:09:25.700Z"
   },
   {
    "duration": 13,
    "start_time": "2022-12-02T19:09:54.581Z"
   },
   {
    "duration": 13,
    "start_time": "2022-12-02T19:09:56.484Z"
   },
   {
    "duration": 14,
    "start_time": "2022-12-02T19:09:57.195Z"
   },
   {
    "duration": 12,
    "start_time": "2022-12-02T19:12:04.851Z"
   },
   {
    "duration": 15,
    "start_time": "2022-12-02T19:12:06.191Z"
   },
   {
    "duration": 8,
    "start_time": "2022-12-02T19:12:23.000Z"
   },
   {
    "duration": 14,
    "start_time": "2022-12-02T19:12:23.976Z"
   },
   {
    "duration": 9,
    "start_time": "2022-12-02T19:13:29.145Z"
   },
   {
    "duration": 14,
    "start_time": "2022-12-02T19:13:30.177Z"
   },
   {
    "duration": 8,
    "start_time": "2022-12-02T19:13:37.833Z"
   },
   {
    "duration": 15,
    "start_time": "2022-12-02T19:13:39.568Z"
   },
   {
    "duration": 8,
    "start_time": "2022-12-02T19:14:40.779Z"
   },
   {
    "duration": 16,
    "start_time": "2022-12-02T19:14:41.627Z"
   },
   {
    "duration": 9,
    "start_time": "2022-12-02T19:14:55.403Z"
   },
   {
    "duration": 14,
    "start_time": "2022-12-02T19:14:56.266Z"
   },
   {
    "duration": 11,
    "start_time": "2022-12-02T19:16:25.868Z"
   },
   {
    "duration": 12,
    "start_time": "2022-12-02T19:18:55.263Z"
   },
   {
    "duration": 12,
    "start_time": "2022-12-02T19:20:58.937Z"
   },
   {
    "duration": 11,
    "start_time": "2022-12-02T19:21:08.111Z"
   },
   {
    "duration": 28,
    "start_time": "2022-12-02T19:21:31.571Z"
   },
   {
    "duration": 5,
    "start_time": "2022-12-02T19:31:22.022Z"
   },
   {
    "duration": 4,
    "start_time": "2022-12-02T19:32:58.673Z"
   },
   {
    "duration": 40,
    "start_time": "2022-12-02T19:33:14.698Z"
   },
   {
    "duration": 13,
    "start_time": "2022-12-02T19:33:24.629Z"
   },
   {
    "duration": 13,
    "start_time": "2022-12-02T19:33:36.338Z"
   },
   {
    "duration": 5,
    "start_time": "2022-12-02T19:34:18.804Z"
   },
   {
    "duration": 3,
    "start_time": "2022-12-02T19:34:19.218Z"
   },
   {
    "duration": 13,
    "start_time": "2022-12-02T19:34:19.555Z"
   },
   {
    "duration": 5,
    "start_time": "2022-12-02T19:34:27.763Z"
   },
   {
    "duration": 3,
    "start_time": "2022-12-02T19:34:29.099Z"
   },
   {
    "duration": 13,
    "start_time": "2022-12-02T19:34:30.107Z"
   },
   {
    "duration": 5,
    "start_time": "2022-12-02T19:34:33.971Z"
   },
   {
    "duration": 4,
    "start_time": "2022-12-02T19:34:34.267Z"
   },
   {
    "duration": 4,
    "start_time": "2022-12-02T19:34:47.899Z"
   },
   {
    "duration": 4,
    "start_time": "2022-12-02T19:34:48.267Z"
   },
   {
    "duration": 14,
    "start_time": "2022-12-02T19:34:48.636Z"
   },
   {
    "duration": 4,
    "start_time": "2022-12-02T19:35:00.981Z"
   },
   {
    "duration": 13,
    "start_time": "2022-12-02T19:35:01.562Z"
   },
   {
    "duration": 4,
    "start_time": "2022-12-02T19:35:04.947Z"
   },
   {
    "duration": 4,
    "start_time": "2022-12-02T19:35:07.571Z"
   },
   {
    "duration": 14,
    "start_time": "2022-12-02T19:35:08.075Z"
   },
   {
    "duration": 7,
    "start_time": "2022-12-02T19:44:15.576Z"
   },
   {
    "duration": 35,
    "start_time": "2022-12-02T19:44:19.906Z"
   },
   {
    "duration": 7,
    "start_time": "2022-12-02T19:45:02.489Z"
   },
   {
    "duration": 36,
    "start_time": "2022-12-02T19:45:04.056Z"
   },
   {
    "duration": 7,
    "start_time": "2022-12-02T19:45:36.396Z"
   },
   {
    "duration": 36,
    "start_time": "2022-12-02T19:45:37.595Z"
   },
   {
    "duration": 5,
    "start_time": "2022-12-02T19:46:37.137Z"
   },
   {
    "duration": 3,
    "start_time": "2022-12-02T19:46:37.609Z"
   },
   {
    "duration": 14,
    "start_time": "2022-12-02T19:46:38.801Z"
   },
   {
    "duration": 5,
    "start_time": "2022-12-02T19:46:53.737Z"
   },
   {
    "duration": 3,
    "start_time": "2022-12-02T19:46:54.306Z"
   },
   {
    "duration": 20,
    "start_time": "2022-12-02T19:46:54.913Z"
   },
   {
    "duration": 16,
    "start_time": "2022-12-02T19:47:46.067Z"
   },
   {
    "duration": 3,
    "start_time": "2022-12-02T19:57:17.407Z"
   },
   {
    "duration": 7,
    "start_time": "2022-12-02T19:57:18.973Z"
   },
   {
    "duration": 7,
    "start_time": "2022-12-02T19:57:28.780Z"
   },
   {
    "duration": 9,
    "start_time": "2022-12-02T19:57:28.963Z"
   },
   {
    "duration": 1420,
    "start_time": "2022-12-02T19:59:17.490Z"
   },
   {
    "duration": 428,
    "start_time": "2022-12-02T19:59:18.912Z"
   },
   {
    "duration": 29,
    "start_time": "2022-12-02T19:59:19.342Z"
   },
   {
    "duration": 63,
    "start_time": "2022-12-02T19:59:19.373Z"
   },
   {
    "duration": 53,
    "start_time": "2022-12-02T19:59:19.438Z"
   },
   {
    "duration": 9,
    "start_time": "2022-12-02T19:59:19.492Z"
   },
   {
    "duration": 18,
    "start_time": "2022-12-02T19:59:19.503Z"
   },
   {
    "duration": 53,
    "start_time": "2022-12-02T19:59:19.522Z"
   },
   {
    "duration": 20,
    "start_time": "2022-12-02T19:59:19.577Z"
   },
   {
    "duration": 9,
    "start_time": "2022-12-02T19:59:19.600Z"
   },
   {
    "duration": 19,
    "start_time": "2022-12-02T19:59:19.611Z"
   },
   {
    "duration": 42,
    "start_time": "2022-12-02T19:59:19.654Z"
   },
   {
    "duration": 21,
    "start_time": "2022-12-02T19:59:19.697Z"
   },
   {
    "duration": 1171,
    "start_time": "2022-12-02T19:59:19.720Z"
   },
   {
    "duration": 295,
    "start_time": "2022-12-02T19:59:20.892Z"
   },
   {
    "duration": 19,
    "start_time": "2022-12-02T19:59:21.188Z"
   },
   {
    "duration": 5,
    "start_time": "2022-12-02T19:59:21.209Z"
   },
   {
    "duration": 6,
    "start_time": "2022-12-02T19:59:21.215Z"
   },
   {
    "duration": 5,
    "start_time": "2022-12-02T19:59:21.222Z"
   },
   {
    "duration": 37,
    "start_time": "2022-12-02T19:59:21.228Z"
   },
   {
    "duration": 17,
    "start_time": "2022-12-02T19:59:21.267Z"
   },
   {
    "duration": 14,
    "start_time": "2022-12-02T19:59:21.285Z"
   },
   {
    "duration": 14,
    "start_time": "2022-12-02T19:59:21.300Z"
   },
   {
    "duration": 46,
    "start_time": "2022-12-02T19:59:21.316Z"
   },
   {
    "duration": 111,
    "start_time": "2022-12-02T19:59:21.364Z"
   },
   {
    "duration": 196,
    "start_time": "2022-12-02T19:59:21.477Z"
   },
   {
    "duration": 97,
    "start_time": "2022-12-02T19:59:21.677Z"
   },
   {
    "duration": 13,
    "start_time": "2022-12-02T19:59:21.870Z"
   },
   {
    "duration": 9,
    "start_time": "2022-12-02T19:59:21.885Z"
   },
   {
    "duration": 7,
    "start_time": "2022-12-02T19:59:21.896Z"
   },
   {
    "duration": 5,
    "start_time": "2022-12-02T19:59:21.904Z"
   },
   {
    "duration": 9,
    "start_time": "2022-12-02T19:59:21.911Z"
   },
   {
    "duration": 17,
    "start_time": "2022-12-02T19:59:21.921Z"
   },
   {
    "duration": 29,
    "start_time": "2022-12-02T19:59:21.940Z"
   },
   {
    "duration": 6,
    "start_time": "2022-12-02T19:59:21.971Z"
   },
   {
    "duration": 13,
    "start_time": "2022-12-02T19:59:21.978Z"
   },
   {
    "duration": 15,
    "start_time": "2022-12-02T19:59:21.992Z"
   },
   {
    "duration": 4,
    "start_time": "2022-12-02T19:59:22.008Z"
   },
   {
    "duration": 51,
    "start_time": "2022-12-02T19:59:22.014Z"
   },
   {
    "duration": 14,
    "start_time": "2022-12-02T19:59:22.069Z"
   },
   {
    "duration": 4,
    "start_time": "2022-12-02T19:59:22.084Z"
   },
   {
    "duration": 9,
    "start_time": "2022-12-02T19:59:22.089Z"
   },
   {
    "duration": 12,
    "start_time": "2022-12-02T19:59:22.099Z"
   },
   {
    "duration": 4,
    "start_time": "2022-12-02T19:59:22.112Z"
   },
   {
    "duration": 7,
    "start_time": "2022-12-02T19:59:22.118Z"
   },
   {
    "duration": 5,
    "start_time": "2022-12-02T19:59:22.127Z"
   },
   {
    "duration": 43,
    "start_time": "2022-12-02T19:59:22.133Z"
   },
   {
    "duration": 146,
    "start_time": "2022-12-02T19:59:22.178Z"
   },
   {
    "duration": 0,
    "start_time": "2022-12-02T19:59:22.325Z"
   },
   {
    "duration": 0,
    "start_time": "2022-12-02T19:59:22.326Z"
   },
   {
    "duration": 0,
    "start_time": "2022-12-02T19:59:22.327Z"
   },
   {
    "duration": 0,
    "start_time": "2022-12-02T19:59:22.328Z"
   },
   {
    "duration": 0,
    "start_time": "2022-12-02T19:59:22.329Z"
   },
   {
    "duration": 17,
    "start_time": "2022-12-02T19:59:50.249Z"
   },
   {
    "duration": 1767,
    "start_time": "2022-12-02T19:59:50.898Z"
   },
   {
    "duration": 1834,
    "start_time": "2022-12-02T19:59:54.538Z"
   },
   {
    "duration": 7,
    "start_time": "2022-12-02T20:00:26.188Z"
   },
   {
    "duration": 1773,
    "start_time": "2022-12-02T20:00:26.997Z"
   },
   {
    "duration": 9,
    "start_time": "2022-12-02T20:01:55.245Z"
   },
   {
    "duration": 1766,
    "start_time": "2022-12-02T20:01:56.005Z"
   },
   {
    "duration": 1800,
    "start_time": "2022-12-02T20:02:17.267Z"
   },
   {
    "duration": 1765,
    "start_time": "2022-12-02T20:02:20.524Z"
   },
   {
    "duration": 11,
    "start_time": "2022-12-02T20:02:29.933Z"
   },
   {
    "duration": 231,
    "start_time": "2022-12-02T20:02:31.108Z"
   },
   {
    "duration": 99,
    "start_time": "2022-12-02T20:02:33.021Z"
   },
   {
    "duration": 7,
    "start_time": "2022-12-02T20:03:47.318Z"
   },
   {
    "duration": 33,
    "start_time": "2022-12-02T20:03:48.606Z"
   },
   {
    "duration": 7,
    "start_time": "2022-12-02T20:08:30.421Z"
   },
   {
    "duration": 44,
    "start_time": "2022-12-02T20:08:30.853Z"
   },
   {
    "duration": 6,
    "start_time": "2022-12-02T20:08:47.758Z"
   },
   {
    "duration": 8,
    "start_time": "2022-12-02T20:08:48.092Z"
   },
   {
    "duration": 31,
    "start_time": "2022-12-02T20:08:49.812Z"
   },
   {
    "duration": 6,
    "start_time": "2022-12-02T20:09:07.190Z"
   },
   {
    "duration": 46,
    "start_time": "2022-12-02T20:09:07.581Z"
   },
   {
    "duration": 8,
    "start_time": "2022-12-02T20:09:12.173Z"
   },
   {
    "duration": 40,
    "start_time": "2022-12-02T20:09:12.938Z"
   },
   {
    "duration": 7,
    "start_time": "2022-12-02T20:09:18.324Z"
   },
   {
    "duration": 1800,
    "start_time": "2022-12-02T20:09:20.302Z"
   },
   {
    "duration": 12,
    "start_time": "2022-12-02T20:10:13.055Z"
   },
   {
    "duration": 1803,
    "start_time": "2022-12-02T20:10:13.485Z"
   },
   {
    "duration": 1848,
    "start_time": "2022-12-02T20:10:24.142Z"
   },
   {
    "duration": 1780,
    "start_time": "2022-12-02T20:10:25.992Z"
   },
   {
    "duration": 13,
    "start_time": "2022-12-02T20:17:29.440Z"
   },
   {
    "duration": 7,
    "start_time": "2022-12-02T20:18:22.313Z"
   },
   {
    "duration": 6,
    "start_time": "2022-12-02T20:24:52.514Z"
   },
   {
    "duration": 1798,
    "start_time": "2022-12-02T20:24:53.105Z"
   },
   {
    "duration": 6,
    "start_time": "2022-12-02T20:25:20.114Z"
   },
   {
    "duration": 1693,
    "start_time": "2022-12-02T20:25:20.595Z"
   },
   {
    "duration": 1759,
    "start_time": "2022-12-02T20:25:23.785Z"
   },
   {
    "duration": 1774,
    "start_time": "2022-12-02T20:25:25.934Z"
   },
   {
    "duration": 11,
    "start_time": "2022-12-02T20:25:30.977Z"
   },
   {
    "duration": 129,
    "start_time": "2022-12-02T20:25:36.778Z"
   },
   {
    "duration": 197,
    "start_time": "2022-12-02T20:25:37.089Z"
   },
   {
    "duration": 9,
    "start_time": "2022-12-02T20:32:31.051Z"
   },
   {
    "duration": 1548,
    "start_time": "2022-12-02T20:32:31.434Z"
   },
   {
    "duration": 1561,
    "start_time": "2022-12-02T20:32:34.035Z"
   },
   {
    "duration": 1525,
    "start_time": "2022-12-02T20:32:36.219Z"
   },
   {
    "duration": 12,
    "start_time": "2022-12-02T20:32:39.450Z"
   },
   {
    "duration": 124,
    "start_time": "2022-12-02T20:32:40.667Z"
   },
   {
    "duration": 92,
    "start_time": "2022-12-02T20:32:41.490Z"
   },
   {
    "duration": 94,
    "start_time": "2022-12-02T20:35:46.142Z"
   },
   {
    "duration": 95,
    "start_time": "2022-12-02T20:35:52.397Z"
   },
   {
    "duration": 89,
    "start_time": "2022-12-02T20:35:57.230Z"
   },
   {
    "duration": 1721,
    "start_time": "2022-12-02T20:36:05.265Z"
   },
   {
    "duration": 108,
    "start_time": "2022-12-02T20:36:18.423Z"
   },
   {
    "duration": 114,
    "start_time": "2022-12-02T20:36:30.095Z"
   },
   {
    "duration": 13,
    "start_time": "2022-12-02T20:36:45.623Z"
   },
   {
    "duration": 106,
    "start_time": "2022-12-02T20:37:02.527Z"
   },
   {
    "duration": 13,
    "start_time": "2022-12-02T20:37:05.591Z"
   },
   {
    "duration": 139,
    "start_time": "2022-12-02T20:37:07.768Z"
   },
   {
    "duration": 10,
    "start_time": "2022-12-02T20:37:19.137Z"
   },
   {
    "duration": 129,
    "start_time": "2022-12-02T20:37:22.521Z"
   },
   {
    "duration": 99,
    "start_time": "2022-12-02T20:37:23.071Z"
   },
   {
    "duration": 174,
    "start_time": "2022-12-02T20:37:34.951Z"
   },
   {
    "duration": 52,
    "start_time": "2022-12-03T18:54:34.394Z"
   },
   {
    "duration": 1743,
    "start_time": "2022-12-03T18:54:45.482Z"
   },
   {
    "duration": 3,
    "start_time": "2022-12-03T18:54:53.338Z"
   },
   {
    "duration": 9,
    "start_time": "2022-12-03T18:54:55.100Z"
   },
   {
    "duration": 5,
    "start_time": "2022-12-03T18:54:55.837Z"
   },
   {
    "duration": 8,
    "start_time": "2022-12-03T18:54:56.697Z"
   },
   {
    "duration": 6,
    "start_time": "2022-12-03T18:54:57.505Z"
   },
   {
    "duration": 5,
    "start_time": "2022-12-03T18:54:58.224Z"
   },
   {
    "duration": 6,
    "start_time": "2022-12-03T18:54:59.004Z"
   },
   {
    "duration": 6,
    "start_time": "2022-12-03T18:54:59.815Z"
   },
   {
    "duration": 6,
    "start_time": "2022-12-03T18:55:00.730Z"
   },
   {
    "duration": 6,
    "start_time": "2022-12-03T18:55:02.789Z"
   },
   {
    "duration": 8,
    "start_time": "2022-12-03T18:55:04.989Z"
   },
   {
    "duration": 6,
    "start_time": "2022-12-03T18:55:07.834Z"
   },
   {
    "duration": 5,
    "start_time": "2022-12-03T18:55:08.419Z"
   },
   {
    "duration": 10,
    "start_time": "2022-12-05T16:28:17.040Z"
   },
   {
    "duration": 7,
    "start_time": "2022-12-05T16:28:29.825Z"
   },
   {
    "duration": 40,
    "start_time": "2022-12-05T16:28:30.152Z"
   },
   {
    "duration": 5,
    "start_time": "2022-12-05T16:29:46.403Z"
   },
   {
    "duration": 6,
    "start_time": "2022-12-05T16:29:46.809Z"
   },
   {
    "duration": 5,
    "start_time": "2022-12-05T16:30:03.139Z"
   },
   {
    "duration": 1481,
    "start_time": "2022-12-05T16:30:10.037Z"
   },
   {
    "duration": 1917,
    "start_time": "2022-12-05T16:30:11.520Z"
   },
   {
    "duration": 13,
    "start_time": "2022-12-05T16:30:13.439Z"
   },
   {
    "duration": 62,
    "start_time": "2022-12-05T16:30:13.454Z"
   },
   {
    "duration": 41,
    "start_time": "2022-12-05T16:30:13.518Z"
   },
   {
    "duration": 9,
    "start_time": "2022-12-05T16:30:13.562Z"
   },
   {
    "duration": 38,
    "start_time": "2022-12-05T16:30:13.573Z"
   },
   {
    "duration": 68,
    "start_time": "2022-12-05T16:30:13.613Z"
   },
   {
    "duration": 20,
    "start_time": "2022-12-05T16:30:13.685Z"
   },
   {
    "duration": 13,
    "start_time": "2022-12-05T16:30:13.707Z"
   },
   {
    "duration": 31,
    "start_time": "2022-12-05T16:30:13.722Z"
   },
   {
    "duration": 39,
    "start_time": "2022-12-05T16:30:13.756Z"
   },
   {
    "duration": 31,
    "start_time": "2022-12-05T16:30:13.797Z"
   },
   {
    "duration": 1060,
    "start_time": "2022-12-05T16:30:13.831Z"
   },
   {
    "duration": 255,
    "start_time": "2022-12-05T16:30:14.893Z"
   },
   {
    "duration": 16,
    "start_time": "2022-12-05T16:30:15.150Z"
   },
   {
    "duration": 3,
    "start_time": "2022-12-05T16:30:15.168Z"
   },
   {
    "duration": 5,
    "start_time": "2022-12-05T16:30:15.173Z"
   },
   {
    "duration": 6,
    "start_time": "2022-12-05T16:30:15.179Z"
   },
   {
    "duration": 15,
    "start_time": "2022-12-05T16:30:15.187Z"
   },
   {
    "duration": 30,
    "start_time": "2022-12-05T16:30:15.204Z"
   },
   {
    "duration": 13,
    "start_time": "2022-12-05T16:30:15.236Z"
   },
   {
    "duration": 14,
    "start_time": "2022-12-05T16:30:15.250Z"
   },
   {
    "duration": 161,
    "start_time": "2022-12-05T16:30:15.266Z"
   },
   {
    "duration": 107,
    "start_time": "2022-12-05T16:30:15.429Z"
   },
   {
    "duration": 199,
    "start_time": "2022-12-05T16:30:15.540Z"
   },
   {
    "duration": 194,
    "start_time": "2022-12-05T16:30:15.741Z"
   },
   {
    "duration": 21,
    "start_time": "2022-12-05T16:30:15.936Z"
   },
   {
    "duration": 10,
    "start_time": "2022-12-05T16:30:15.959Z"
   },
   {
    "duration": 19,
    "start_time": "2022-12-05T16:30:15.970Z"
   },
   {
    "duration": 14,
    "start_time": "2022-12-05T16:30:15.991Z"
   },
   {
    "duration": 27,
    "start_time": "2022-12-05T16:30:16.007Z"
   },
   {
    "duration": 28,
    "start_time": "2022-12-05T16:30:16.036Z"
   },
   {
    "duration": 18,
    "start_time": "2022-12-05T16:30:16.066Z"
   },
   {
    "duration": 10,
    "start_time": "2022-12-05T16:30:16.086Z"
   },
   {
    "duration": 24,
    "start_time": "2022-12-05T16:30:16.097Z"
   },
   {
    "duration": 12,
    "start_time": "2022-12-05T16:30:16.123Z"
   },
   {
    "duration": 14,
    "start_time": "2022-12-05T16:30:16.136Z"
   },
   {
    "duration": 14,
    "start_time": "2022-12-05T16:30:16.152Z"
   },
   {
    "duration": 26,
    "start_time": "2022-12-05T16:30:16.168Z"
   },
   {
    "duration": 23,
    "start_time": "2022-12-05T16:30:16.198Z"
   },
   {
    "duration": 11,
    "start_time": "2022-12-05T16:30:16.223Z"
   },
   {
    "duration": 23,
    "start_time": "2022-12-05T16:30:16.236Z"
   },
   {
    "duration": 10,
    "start_time": "2022-12-05T16:30:16.260Z"
   },
   {
    "duration": 19,
    "start_time": "2022-12-05T16:30:16.271Z"
   },
   {
    "duration": 14,
    "start_time": "2022-12-05T16:30:16.292Z"
   },
   {
    "duration": 18,
    "start_time": "2022-12-05T16:30:16.307Z"
   },
   {
    "duration": 1403,
    "start_time": "2022-12-05T16:30:16.326Z"
   },
   {
    "duration": 1390,
    "start_time": "2022-12-05T16:30:17.730Z"
   },
   {
    "duration": 1361,
    "start_time": "2022-12-05T16:30:19.127Z"
   },
   {
    "duration": 10,
    "start_time": "2022-12-05T16:30:20.489Z"
   },
   {
    "duration": 139,
    "start_time": "2022-12-05T16:30:20.500Z"
   },
   {
    "duration": 170,
    "start_time": "2022-12-05T16:30:20.641Z"
   },
   {
    "duration": 5,
    "start_time": "2022-12-05T16:30:20.813Z"
   },
   {
    "duration": 9,
    "start_time": "2022-12-05T16:30:20.820Z"
   },
   {
    "duration": 8,
    "start_time": "2022-12-05T16:30:20.831Z"
   },
   {
    "duration": 13,
    "start_time": "2022-12-05T16:30:20.840Z"
   },
   {
    "duration": 6,
    "start_time": "2022-12-05T16:30:20.854Z"
   },
   {
    "duration": 7,
    "start_time": "2022-12-05T16:30:20.862Z"
   },
   {
    "duration": 9,
    "start_time": "2022-12-05T16:30:20.870Z"
   },
   {
    "duration": 8,
    "start_time": "2022-12-05T16:30:20.880Z"
   },
   {
    "duration": 10,
    "start_time": "2022-12-05T16:30:20.889Z"
   },
   {
    "duration": 12,
    "start_time": "2022-12-05T16:30:20.900Z"
   },
   {
    "duration": 19,
    "start_time": "2022-12-05T16:30:20.914Z"
   },
   {
    "duration": 11,
    "start_time": "2022-12-05T16:30:20.935Z"
   },
   {
    "duration": 12,
    "start_time": "2022-12-05T16:30:20.948Z"
   },
   {
    "duration": 7,
    "start_time": "2022-12-05T16:36:29.385Z"
   },
   {
    "duration": 1278,
    "start_time": "2022-12-05T16:36:30.270Z"
   },
   {
    "duration": 1315,
    "start_time": "2022-12-05T16:36:31.551Z"
   },
   {
    "duration": 1304,
    "start_time": "2022-12-05T16:36:32.869Z"
   },
   {
    "duration": 5,
    "start_time": "2022-12-05T16:37:40.125Z"
   },
   {
    "duration": 114,
    "start_time": "2022-12-05T16:37:40.947Z"
   },
   {
    "duration": 5,
    "start_time": "2022-12-05T16:37:53.677Z"
   },
   {
    "duration": 1225,
    "start_time": "2022-12-05T16:37:54.100Z"
   },
   {
    "duration": 1201,
    "start_time": "2022-12-05T16:38:26.509Z"
   },
   {
    "duration": 1224,
    "start_time": "2022-12-05T16:39:01.030Z"
   },
   {
    "duration": 12,
    "start_time": "2022-12-05T16:54:52.738Z"
   },
   {
    "duration": 12,
    "start_time": "2022-12-05T16:55:26.442Z"
   },
   {
    "duration": 11,
    "start_time": "2022-12-05T16:55:52.746Z"
   },
   {
    "duration": 10,
    "start_time": "2022-12-05T16:56:05.883Z"
   },
   {
    "duration": 16,
    "start_time": "2022-12-05T16:59:01.982Z"
   },
   {
    "duration": 17,
    "start_time": "2022-12-05T17:00:02.913Z"
   },
   {
    "duration": 16,
    "start_time": "2022-12-05T17:00:54.782Z"
   },
   {
    "duration": 4,
    "start_time": "2022-12-05T17:01:21.395Z"
   },
   {
    "duration": 16,
    "start_time": "2022-12-05T17:01:29.419Z"
   },
   {
    "duration": 15,
    "start_time": "2022-12-05T17:02:50.788Z"
   },
   {
    "duration": 18,
    "start_time": "2022-12-05T17:04:25.285Z"
   },
   {
    "duration": 3,
    "start_time": "2022-12-05T17:25:02.686Z"
   },
   {
    "duration": 4,
    "start_time": "2022-12-05T17:28:57.891Z"
   },
   {
    "duration": 17,
    "start_time": "2022-12-05T17:29:03.835Z"
   },
   {
    "duration": 107,
    "start_time": "2022-12-05T17:29:29.982Z"
   },
   {
    "duration": 6,
    "start_time": "2022-12-05T17:29:42.213Z"
   },
   {
    "duration": 20,
    "start_time": "2022-12-05T17:29:46.076Z"
   },
   {
    "duration": 7,
    "start_time": "2022-12-05T17:30:15.678Z"
   },
   {
    "duration": 17,
    "start_time": "2022-12-05T17:30:18.717Z"
   },
   {
    "duration": 4,
    "start_time": "2022-12-05T17:31:58.760Z"
   },
   {
    "duration": 6,
    "start_time": "2022-12-05T17:31:59.271Z"
   },
   {
    "duration": 1312,
    "start_time": "2022-12-05T17:32:00.297Z"
   },
   {
    "duration": 1299,
    "start_time": "2022-12-05T17:32:12.279Z"
   },
   {
    "duration": 1263,
    "start_time": "2022-12-05T17:32:13.966Z"
   },
   {
    "duration": 11,
    "start_time": "2022-12-05T17:32:17.304Z"
   },
   {
    "duration": 115,
    "start_time": "2022-12-05T17:32:18.614Z"
   },
   {
    "duration": 4,
    "start_time": "2022-12-05T17:32:32.183Z"
   },
   {
    "duration": 3,
    "start_time": "2022-12-05T17:33:37.745Z"
   },
   {
    "duration": 5,
    "start_time": "2022-12-05T17:33:38.520Z"
   },
   {
    "duration": 1097,
    "start_time": "2022-12-05T17:33:40.071Z"
   },
   {
    "duration": 3,
    "start_time": "2022-12-05T17:35:47.509Z"
   },
   {
    "duration": 6,
    "start_time": "2022-12-05T17:35:48.218Z"
   },
   {
    "duration": 21,
    "start_time": "2022-12-05T17:35:48.810Z"
   },
   {
    "duration": 6,
    "start_time": "2022-12-05T17:36:28.820Z"
   },
   {
    "duration": 6,
    "start_time": "2022-12-05T17:36:29.212Z"
   },
   {
    "duration": 1176,
    "start_time": "2022-12-05T17:36:29.685Z"
   },
   {
    "duration": 5,
    "start_time": "2022-12-05T17:37:55.590Z"
   },
   {
    "duration": 5,
    "start_time": "2022-12-05T17:37:56.982Z"
   },
   {
    "duration": 22,
    "start_time": "2022-12-05T17:37:57.989Z"
   },
   {
    "duration": 4,
    "start_time": "2022-12-05T17:45:45.048Z"
   },
   {
    "duration": 6,
    "start_time": "2022-12-05T17:45:48.392Z"
   },
   {
    "duration": 25,
    "start_time": "2022-12-05T17:45:50.801Z"
   },
   {
    "duration": 24,
    "start_time": "2022-12-05T17:45:57.775Z"
   },
   {
    "duration": 4,
    "start_time": "2022-12-05T17:46:31.312Z"
   },
   {
    "duration": 6,
    "start_time": "2022-12-05T17:46:32.546Z"
   },
   {
    "duration": 21,
    "start_time": "2022-12-05T17:46:33.385Z"
   },
   {
    "duration": 4,
    "start_time": "2022-12-05T17:46:45.241Z"
   },
   {
    "duration": 6,
    "start_time": "2022-12-05T17:46:46.096Z"
   },
   {
    "duration": 21,
    "start_time": "2022-12-05T17:46:46.666Z"
   },
   {
    "duration": 3,
    "start_time": "2022-12-05T17:47:42.890Z"
   },
   {
    "duration": 5,
    "start_time": "2022-12-05T17:47:43.258Z"
   },
   {
    "duration": 21,
    "start_time": "2022-12-05T17:47:43.859Z"
   },
   {
    "duration": 3,
    "start_time": "2022-12-05T17:53:11.954Z"
   },
   {
    "duration": 6,
    "start_time": "2022-12-05T17:53:12.345Z"
   },
   {
    "duration": 1109,
    "start_time": "2022-12-05T17:53:12.691Z"
   },
   {
    "duration": 1057,
    "start_time": "2022-12-05T17:53:14.041Z"
   },
   {
    "duration": 8,
    "start_time": "2022-12-05T17:54:14.795Z"
   },
   {
    "duration": 12,
    "start_time": "2022-12-05T18:10:21.784Z"
   },
   {
    "duration": 6,
    "start_time": "2022-12-05T18:10:43.049Z"
   },
   {
    "duration": 1159,
    "start_time": "2022-12-05T18:10:44.065Z"
   },
   {
    "duration": 6,
    "start_time": "2022-12-05T18:11:33.090Z"
   },
   {
    "duration": 1155,
    "start_time": "2022-12-05T18:11:34.826Z"
   },
   {
    "duration": 6,
    "start_time": "2022-12-05T18:11:41.298Z"
   },
   {
    "duration": 1117,
    "start_time": "2022-12-05T18:11:42.082Z"
   },
   {
    "duration": 13,
    "start_time": "2022-12-05T18:15:23.191Z"
   },
   {
    "duration": 6,
    "start_time": "2022-12-05T18:15:38.439Z"
   },
   {
    "duration": 1248,
    "start_time": "2022-12-05T18:15:39.584Z"
   },
   {
    "duration": 6,
    "start_time": "2022-12-05T18:16:10.648Z"
   },
   {
    "duration": 1313,
    "start_time": "2022-12-05T18:16:11.352Z"
   },
   {
    "duration": 7,
    "start_time": "2022-12-05T18:17:48.658Z"
   },
   {
    "duration": 11,
    "start_time": "2022-12-05T18:17:49.314Z"
   },
   {
    "duration": 7,
    "start_time": "2022-12-05T18:18:22.210Z"
   },
   {
    "duration": 1333,
    "start_time": "2022-12-05T18:18:23.328Z"
   },
   {
    "duration": 76,
    "start_time": "2022-12-05T18:19:00.790Z"
   },
   {
    "duration": 5,
    "start_time": "2022-12-05T18:19:09.060Z"
   },
   {
    "duration": 1259,
    "start_time": "2022-12-05T18:19:09.642Z"
   },
   {
    "duration": 6,
    "start_time": "2022-12-05T18:21:46.332Z"
   },
   {
    "duration": 18,
    "start_time": "2022-12-05T18:21:46.802Z"
   },
   {
    "duration": 7,
    "start_time": "2022-12-05T18:22:09.592Z"
   },
   {
    "duration": 1349,
    "start_time": "2022-12-05T18:22:09.940Z"
   },
   {
    "duration": 205,
    "start_time": "2022-12-05T18:31:51.828Z"
   },
   {
    "duration": 148,
    "start_time": "2022-12-05T18:32:02.523Z"
   },
   {
    "duration": 88,
    "start_time": "2022-12-05T18:32:27.309Z"
   },
   {
    "duration": 6,
    "start_time": "2022-12-05T18:32:30.660Z"
   },
   {
    "duration": 6,
    "start_time": "2022-12-05T18:32:33.460Z"
   },
   {
    "duration": 1376,
    "start_time": "2022-12-05T18:32:34.667Z"
   },
   {
    "duration": 8,
    "start_time": "2022-12-05T18:32:39.837Z"
   },
   {
    "duration": 1297,
    "start_time": "2022-12-05T18:32:40.917Z"
   },
   {
    "duration": 3,
    "start_time": "2022-12-05T18:33:52.527Z"
   },
   {
    "duration": 4,
    "start_time": "2022-12-05T18:35:08.864Z"
   },
   {
    "duration": 6,
    "start_time": "2022-12-05T18:35:10.938Z"
   },
   {
    "duration": 6,
    "start_time": "2022-12-05T18:35:26.520Z"
   },
   {
    "duration": 1112,
    "start_time": "2022-12-05T18:35:27.480Z"
   },
   {
    "duration": 9,
    "start_time": "2022-12-05T18:44:53.348Z"
   },
   {
    "duration": 69,
    "start_time": "2022-12-05T18:45:06.118Z"
   },
   {
    "duration": 4,
    "start_time": "2022-12-05T18:45:12.268Z"
   },
   {
    "duration": 6,
    "start_time": "2022-12-05T18:45:12.796Z"
   },
   {
    "duration": 1109,
    "start_time": "2022-12-05T18:45:13.540Z"
   },
   {
    "duration": 1120,
    "start_time": "2022-12-05T18:45:33.732Z"
   },
   {
    "duration": 1159,
    "start_time": "2022-12-05T18:46:01.016Z"
   },
   {
    "duration": 11,
    "start_time": "2022-12-05T18:48:11.648Z"
   },
   {
    "duration": 4,
    "start_time": "2022-12-05T18:48:29.577Z"
   },
   {
    "duration": 6,
    "start_time": "2022-12-05T18:48:30.257Z"
   },
   {
    "duration": 1174,
    "start_time": "2022-12-05T18:48:30.960Z"
   },
   {
    "duration": 1123,
    "start_time": "2022-12-05T18:48:32.847Z"
   },
   {
    "duration": 1112,
    "start_time": "2022-12-05T18:48:33.972Z"
   },
   {
    "duration": 10,
    "start_time": "2022-12-05T18:48:39.111Z"
   },
   {
    "duration": 130,
    "start_time": "2022-12-05T18:48:41.065Z"
   },
   {
    "duration": 3,
    "start_time": "2022-12-05T18:48:57.761Z"
   },
   {
    "duration": 72,
    "start_time": "2022-12-05T18:49:36.530Z"
   },
   {
    "duration": 4,
    "start_time": "2022-12-05T18:49:43.066Z"
   },
   {
    "duration": 1137,
    "start_time": "2022-12-05T18:53:39.847Z"
   },
   {
    "duration": 12,
    "start_time": "2022-12-05T18:59:15.359Z"
   },
   {
    "duration": 13,
    "start_time": "2022-12-05T18:59:37.847Z"
   },
   {
    "duration": 191,
    "start_time": "2022-12-05T19:02:56.035Z"
   },
   {
    "duration": 216,
    "start_time": "2022-12-05T19:03:15.555Z"
   },
   {
    "duration": 116,
    "start_time": "2022-12-05T19:03:30.212Z"
   },
   {
    "duration": 130,
    "start_time": "2022-12-05T19:03:48.139Z"
   },
   {
    "duration": 130,
    "start_time": "2022-12-05T19:03:52.277Z"
   },
   {
    "duration": 11,
    "start_time": "2022-12-05T19:05:41.351Z"
   },
   {
    "duration": 148,
    "start_time": "2022-12-05T19:05:51.166Z"
   },
   {
    "duration": 113,
    "start_time": "2022-12-05T19:05:56.039Z"
   },
   {
    "duration": 5,
    "start_time": "2022-12-05T19:07:02.976Z"
   },
   {
    "duration": 1279,
    "start_time": "2022-12-05T19:07:15.481Z"
   },
   {
    "duration": 1112,
    "start_time": "2022-12-05T19:08:57.820Z"
   },
   {
    "duration": 2237,
    "start_time": "2022-12-05T19:09:08.339Z"
   },
   {
    "duration": 1101,
    "start_time": "2022-12-05T19:09:30.307Z"
   },
   {
    "duration": 3,
    "start_time": "2022-12-05T19:09:59.475Z"
   },
   {
    "duration": 6,
    "start_time": "2022-12-05T19:10:14.380Z"
   },
   {
    "duration": 1219,
    "start_time": "2022-12-05T19:10:14.789Z"
   },
   {
    "duration": 5,
    "start_time": "2022-12-05T19:10:28.781Z"
   },
   {
    "duration": 1163,
    "start_time": "2022-12-05T19:10:29.540Z"
   },
   {
    "duration": 1109,
    "start_time": "2022-12-05T19:10:35.869Z"
   },
   {
    "duration": 1145,
    "start_time": "2022-12-05T19:10:36.980Z"
   },
   {
    "duration": 10,
    "start_time": "2022-12-05T19:10:42.236Z"
   },
   {
    "duration": 12,
    "start_time": "2022-12-05T19:11:13.029Z"
   },
   {
    "duration": 10,
    "start_time": "2022-12-05T19:11:32.783Z"
   },
   {
    "duration": 16,
    "start_time": "2022-12-05T19:11:45.751Z"
   },
   {
    "duration": 10,
    "start_time": "2022-12-05T19:12:32.920Z"
   },
   {
    "duration": 120,
    "start_time": "2022-12-05T19:12:56.535Z"
   },
   {
    "duration": 79,
    "start_time": "2022-12-05T19:13:03.063Z"
   },
   {
    "duration": 113,
    "start_time": "2022-12-05T19:13:06.343Z"
   },
   {
    "duration": 89,
    "start_time": "2022-12-05T19:13:13.455Z"
   },
   {
    "duration": 11,
    "start_time": "2022-12-05T19:15:22.517Z"
   },
   {
    "duration": 6,
    "start_time": "2022-12-05T19:15:34.763Z"
   },
   {
    "duration": 1304,
    "start_time": "2022-12-05T19:16:08.164Z"
   },
   {
    "duration": 343,
    "start_time": "2022-12-05T19:16:09.470Z"
   },
   {
    "duration": 15,
    "start_time": "2022-12-05T19:16:09.815Z"
   },
   {
    "duration": 72,
    "start_time": "2022-12-05T19:16:09.833Z"
   },
   {
    "duration": 36,
    "start_time": "2022-12-05T19:16:09.906Z"
   },
   {
    "duration": 10,
    "start_time": "2022-12-05T19:16:09.944Z"
   },
   {
    "duration": 23,
    "start_time": "2022-12-05T19:16:09.955Z"
   },
   {
    "duration": 39,
    "start_time": "2022-12-05T19:16:09.980Z"
   },
   {
    "duration": 19,
    "start_time": "2022-12-05T19:16:10.025Z"
   },
   {
    "duration": 24,
    "start_time": "2022-12-05T19:16:10.047Z"
   },
   {
    "duration": 38,
    "start_time": "2022-12-05T19:16:10.072Z"
   },
   {
    "duration": 39,
    "start_time": "2022-12-05T19:16:10.112Z"
   },
   {
    "duration": 18,
    "start_time": "2022-12-05T19:16:10.152Z"
   },
   {
    "duration": 999,
    "start_time": "2022-12-05T19:16:10.172Z"
   },
   {
    "duration": 242,
    "start_time": "2022-12-05T19:16:11.173Z"
   },
   {
    "duration": 18,
    "start_time": "2022-12-05T19:16:11.417Z"
   },
   {
    "duration": 11,
    "start_time": "2022-12-05T19:16:11.437Z"
   },
   {
    "duration": 28,
    "start_time": "2022-12-05T19:16:11.449Z"
   },
   {
    "duration": 20,
    "start_time": "2022-12-05T19:16:11.478Z"
   },
   {
    "duration": 28,
    "start_time": "2022-12-05T19:16:11.500Z"
   },
   {
    "duration": 33,
    "start_time": "2022-12-05T19:16:11.531Z"
   },
   {
    "duration": 29,
    "start_time": "2022-12-05T19:16:11.566Z"
   },
   {
    "duration": 48,
    "start_time": "2022-12-05T19:16:11.597Z"
   },
   {
    "duration": 83,
    "start_time": "2022-12-05T19:16:11.646Z"
   },
   {
    "duration": 112,
    "start_time": "2022-12-05T19:16:11.730Z"
   },
   {
    "duration": 223,
    "start_time": "2022-12-05T19:16:11.844Z"
   },
   {
    "duration": 168,
    "start_time": "2022-12-05T19:16:12.071Z"
   },
   {
    "duration": 25,
    "start_time": "2022-12-05T19:16:12.244Z"
   },
   {
    "duration": 12,
    "start_time": "2022-12-05T19:16:12.270Z"
   },
   {
    "duration": 15,
    "start_time": "2022-12-05T19:16:12.284Z"
   },
   {
    "duration": 14,
    "start_time": "2022-12-05T19:16:12.300Z"
   },
   {
    "duration": 16,
    "start_time": "2022-12-05T19:16:12.316Z"
   },
   {
    "duration": 32,
    "start_time": "2022-12-05T19:16:12.333Z"
   },
   {
    "duration": 22,
    "start_time": "2022-12-05T19:16:12.366Z"
   },
   {
    "duration": 11,
    "start_time": "2022-12-05T19:16:12.390Z"
   },
   {
    "duration": 33,
    "start_time": "2022-12-05T19:16:12.403Z"
   },
   {
    "duration": 16,
    "start_time": "2022-12-05T19:16:12.438Z"
   },
   {
    "duration": 22,
    "start_time": "2022-12-05T19:16:12.456Z"
   },
   {
    "duration": 39,
    "start_time": "2022-12-05T19:16:12.481Z"
   },
   {
    "duration": 25,
    "start_time": "2022-12-05T19:16:12.521Z"
   },
   {
    "duration": 27,
    "start_time": "2022-12-05T19:16:12.547Z"
   },
   {
    "duration": 17,
    "start_time": "2022-12-05T19:16:12.575Z"
   },
   {
    "duration": 29,
    "start_time": "2022-12-05T19:16:12.594Z"
   },
   {
    "duration": 7,
    "start_time": "2022-12-05T19:16:12.625Z"
   },
   {
    "duration": 32,
    "start_time": "2022-12-05T19:16:12.633Z"
   },
   {
    "duration": 21,
    "start_time": "2022-12-05T19:16:12.667Z"
   },
   {
    "duration": 13,
    "start_time": "2022-12-05T19:16:12.690Z"
   },
   {
    "duration": 40,
    "start_time": "2022-12-05T19:16:12.705Z"
   },
   {
    "duration": 1159,
    "start_time": "2022-12-05T19:16:12.747Z"
   },
   {
    "duration": 1397,
    "start_time": "2022-12-05T19:16:13.908Z"
   },
   {
    "duration": 1173,
    "start_time": "2022-12-05T19:16:15.307Z"
   },
   {
    "duration": 10,
    "start_time": "2022-12-05T19:16:16.481Z"
   },
   {
    "duration": 13,
    "start_time": "2022-12-05T19:16:16.492Z"
   },
   {
    "duration": 133,
    "start_time": "2022-12-05T19:16:16.507Z"
   },
   {
    "duration": 97,
    "start_time": "2022-12-05T19:16:16.642Z"
   },
   {
    "duration": 9,
    "start_time": "2022-12-05T19:16:16.740Z"
   },
   {
    "duration": 12,
    "start_time": "2022-12-05T19:16:16.750Z"
   },
   {
    "duration": 10,
    "start_time": "2022-12-05T19:16:16.764Z"
   },
   {
    "duration": 14,
    "start_time": "2022-12-05T19:16:16.776Z"
   },
   {
    "duration": 10,
    "start_time": "2022-12-05T19:16:16.791Z"
   },
   {
    "duration": 20,
    "start_time": "2022-12-05T19:16:16.802Z"
   },
   {
    "duration": 11,
    "start_time": "2022-12-05T19:16:16.823Z"
   },
   {
    "duration": 8,
    "start_time": "2022-12-05T19:16:16.836Z"
   },
   {
    "duration": 8,
    "start_time": "2022-12-05T19:16:16.845Z"
   },
   {
    "duration": 6,
    "start_time": "2022-12-05T19:16:16.855Z"
   },
   {
    "duration": 5,
    "start_time": "2022-12-05T19:16:16.863Z"
   },
   {
    "duration": 14,
    "start_time": "2022-12-05T19:16:16.869Z"
   },
   {
    "duration": 6,
    "start_time": "2022-12-05T19:16:16.885Z"
   },
   {
    "duration": 8,
    "start_time": "2022-12-05T19:16:16.892Z"
   },
   {
    "duration": 2376,
    "start_time": "2022-12-06T15:27:52.822Z"
   },
   {
    "duration": 640,
    "start_time": "2022-12-06T15:27:55.201Z"
   },
   {
    "duration": 13,
    "start_time": "2022-12-06T15:27:55.842Z"
   },
   {
    "duration": 55,
    "start_time": "2022-12-06T15:27:55.857Z"
   },
   {
    "duration": 40,
    "start_time": "2022-12-06T15:27:55.914Z"
   },
   {
    "duration": 8,
    "start_time": "2022-12-06T15:27:56.026Z"
   },
   {
    "duration": 15,
    "start_time": "2022-12-06T15:27:56.311Z"
   },
   {
    "duration": 34,
    "start_time": "2022-12-06T15:27:56.551Z"
   },
   {
    "duration": 25,
    "start_time": "2022-12-06T15:27:56.719Z"
   },
   {
    "duration": 9,
    "start_time": "2022-12-06T15:27:57.303Z"
   },
   {
    "duration": 16,
    "start_time": "2022-12-06T15:27:57.551Z"
   },
   {
    "duration": 34,
    "start_time": "2022-12-06T15:27:57.782Z"
   },
   {
    "duration": 19,
    "start_time": "2022-12-06T15:27:57.989Z"
   },
   {
    "duration": 994,
    "start_time": "2022-12-06T15:27:58.194Z"
   },
   {
    "duration": 253,
    "start_time": "2022-12-06T15:27:59.196Z"
   },
   {
    "duration": 15,
    "start_time": "2022-12-06T15:27:59.451Z"
   },
   {
    "duration": 3,
    "start_time": "2022-12-06T15:28:01.098Z"
   },
   {
    "duration": 2,
    "start_time": "2022-12-06T15:28:01.829Z"
   },
   {
    "duration": 2,
    "start_time": "2022-12-06T15:28:02.405Z"
   },
   {
    "duration": 11,
    "start_time": "2022-12-06T15:28:04.010Z"
   },
   {
    "duration": 14,
    "start_time": "2022-12-06T15:28:05.134Z"
   },
   {
    "duration": 15,
    "start_time": "2022-12-06T15:28:05.755Z"
   },
   {
    "duration": 14,
    "start_time": "2022-12-06T15:28:06.732Z"
   },
   {
    "duration": 90,
    "start_time": "2022-12-06T15:28:07.011Z"
   },
   {
    "duration": 15,
    "start_time": "2022-12-06T15:28:07.297Z"
   },
   {
    "duration": 14,
    "start_time": "2022-12-06T15:28:07.588Z"
   },
   {
    "duration": 4,
    "start_time": "2022-12-06T15:28:08.910Z"
   },
   {
    "duration": 11,
    "start_time": "2022-12-06T15:28:09.547Z"
   },
   {
    "duration": 5,
    "start_time": "2022-12-06T15:28:11.235Z"
   },
   {
    "duration": 4,
    "start_time": "2022-12-06T15:28:11.811Z"
   },
   {
    "duration": 4,
    "start_time": "2022-12-06T15:28:12.079Z"
   },
   {
    "duration": 4,
    "start_time": "2022-12-06T15:28:12.704Z"
   },
   {
    "duration": 13,
    "start_time": "2022-12-06T15:28:13.936Z"
   },
   {
    "duration": 12,
    "start_time": "2022-12-06T15:28:14.253Z"
   },
   {
    "duration": 3,
    "start_time": "2022-12-06T15:28:14.859Z"
   },
   {
    "duration": 11,
    "start_time": "2022-12-06T15:28:15.734Z"
   },
   {
    "duration": 13,
    "start_time": "2022-12-06T15:28:16.021Z"
   },
   {
    "duration": 3,
    "start_time": "2022-12-06T15:28:16.425Z"
   },
   {
    "duration": 12,
    "start_time": "2022-12-06T15:28:17.270Z"
   },
   {
    "duration": 12,
    "start_time": "2022-12-06T15:28:17.560Z"
   },
   {
    "duration": 4,
    "start_time": "2022-12-06T15:28:18.008Z"
   },
   {
    "duration": 5,
    "start_time": "2022-12-06T15:28:19.358Z"
   },
   {
    "duration": 10,
    "start_time": "2022-12-06T15:28:19.625Z"
   },
   {
    "duration": 4,
    "start_time": "2022-12-06T15:28:20.113Z"
   },
   {
    "duration": 3,
    "start_time": "2022-12-06T15:28:20.927Z"
   },
   {
    "duration": 3,
    "start_time": "2022-12-06T15:28:22.691Z"
   },
   {
    "duration": 4,
    "start_time": "2022-12-06T15:28:24.578Z"
   },
   {
    "duration": 16,
    "start_time": "2022-12-06T18:09:30.388Z"
   },
   {
    "duration": 51,
    "start_time": "2022-12-06T18:09:31.008Z"
   },
   {
    "duration": 6,
    "start_time": "2022-12-06T18:10:06.834Z"
   },
   {
    "duration": 7,
    "start_time": "2022-12-06T18:10:08.963Z"
   },
   {
    "duration": 7,
    "start_time": "2022-12-06T18:10:09.425Z"
   },
   {
    "duration": 8,
    "start_time": "2022-12-06T18:10:21.346Z"
   },
   {
    "duration": 6,
    "start_time": "2022-12-06T18:10:21.786Z"
   },
   {
    "duration": 7,
    "start_time": "2022-12-06T18:10:34.330Z"
   },
   {
    "duration": 10,
    "start_time": "2022-12-06T18:10:35.050Z"
   },
   {
    "duration": 6,
    "start_time": "2022-12-06T18:11:10.590Z"
   },
   {
    "duration": 6,
    "start_time": "2022-12-06T18:11:11.067Z"
   },
   {
    "duration": 6,
    "start_time": "2022-12-06T18:11:11.643Z"
   },
   {
    "duration": 6,
    "start_time": "2022-12-06T18:13:28.151Z"
   },
   {
    "duration": 6,
    "start_time": "2022-12-06T18:14:15.168Z"
   },
   {
    "duration": 7,
    "start_time": "2022-12-06T18:14:15.583Z"
   },
   {
    "duration": 6,
    "start_time": "2022-12-06T18:14:26.985Z"
   },
   {
    "duration": 7,
    "start_time": "2022-12-06T18:14:28.035Z"
   },
   {
    "duration": 8,
    "start_time": "2022-12-06T18:15:43.858Z"
   },
   {
    "duration": 1895,
    "start_time": "2022-12-06T18:16:51.124Z"
   },
   {
    "duration": 627,
    "start_time": "2022-12-06T18:16:53.023Z"
   },
   {
    "duration": 15,
    "start_time": "2022-12-06T18:16:53.652Z"
   },
   {
    "duration": 64,
    "start_time": "2022-12-06T18:16:53.669Z"
   },
   {
    "duration": 69,
    "start_time": "2022-12-06T18:16:53.735Z"
   },
   {
    "duration": 16,
    "start_time": "2022-12-06T18:16:53.808Z"
   },
   {
    "duration": 22,
    "start_time": "2022-12-06T18:16:53.827Z"
   },
   {
    "duration": 59,
    "start_time": "2022-12-06T18:16:53.851Z"
   },
   {
    "duration": 27,
    "start_time": "2022-12-06T18:16:53.913Z"
   },
   {
    "duration": 13,
    "start_time": "2022-12-06T18:16:53.944Z"
   },
   {
    "duration": 21,
    "start_time": "2022-12-06T18:16:53.977Z"
   },
   {
    "duration": 36,
    "start_time": "2022-12-06T18:16:54.000Z"
   },
   {
    "duration": 48,
    "start_time": "2022-12-06T18:16:54.038Z"
   },
   {
    "duration": 1173,
    "start_time": "2022-12-06T18:16:54.087Z"
   },
   {
    "duration": 290,
    "start_time": "2022-12-06T18:16:55.261Z"
   },
   {
    "duration": 35,
    "start_time": "2022-12-06T18:16:55.554Z"
   },
   {
    "duration": 3,
    "start_time": "2022-12-06T18:16:55.591Z"
   },
   {
    "duration": 8,
    "start_time": "2022-12-06T18:16:55.596Z"
   },
   {
    "duration": 8,
    "start_time": "2022-12-06T18:16:55.606Z"
   },
   {
    "duration": 19,
    "start_time": "2022-12-06T18:16:55.616Z"
   },
   {
    "duration": 17,
    "start_time": "2022-12-06T18:16:55.637Z"
   },
   {
    "duration": 34,
    "start_time": "2022-12-06T18:16:55.656Z"
   },
   {
    "duration": 26,
    "start_time": "2022-12-06T18:16:55.692Z"
   },
   {
    "duration": 157,
    "start_time": "2022-12-06T18:16:55.721Z"
   },
   {
    "duration": 19,
    "start_time": "2022-12-06T18:16:55.880Z"
   },
   {
    "duration": 105,
    "start_time": "2022-12-06T18:16:55.979Z"
   },
   {
    "duration": 5,
    "start_time": "2022-12-06T18:16:56.086Z"
   },
   {
    "duration": 93,
    "start_time": "2022-12-06T18:16:56.095Z"
   },
   {
    "duration": 86,
    "start_time": "2022-12-06T18:16:56.191Z"
   },
   {
    "duration": 7,
    "start_time": "2022-12-06T18:16:56.280Z"
   },
   {
    "duration": 5,
    "start_time": "2022-12-06T18:16:56.289Z"
   },
   {
    "duration": 10,
    "start_time": "2022-12-06T18:16:56.296Z"
   },
   {
    "duration": 20,
    "start_time": "2022-12-06T18:16:56.309Z"
   },
   {
    "duration": 12,
    "start_time": "2022-12-06T18:16:56.331Z"
   },
   {
    "duration": 33,
    "start_time": "2022-12-06T18:16:56.345Z"
   },
   {
    "duration": 15,
    "start_time": "2022-12-06T18:16:56.380Z"
   },
   {
    "duration": 13,
    "start_time": "2022-12-06T18:16:56.397Z"
   },
   {
    "duration": 4,
    "start_time": "2022-12-06T18:16:56.412Z"
   },
   {
    "duration": 16,
    "start_time": "2022-12-06T18:16:56.418Z"
   },
   {
    "duration": 48,
    "start_time": "2022-12-06T18:16:56.436Z"
   },
   {
    "duration": 3,
    "start_time": "2022-12-06T18:16:56.486Z"
   },
   {
    "duration": 8,
    "start_time": "2022-12-06T18:16:56.491Z"
   },
   {
    "duration": 15,
    "start_time": "2022-12-06T18:16:56.501Z"
   },
   {
    "duration": 4,
    "start_time": "2022-12-06T18:16:56.518Z"
   },
   {
    "duration": 5,
    "start_time": "2022-12-06T18:16:56.524Z"
   },
   {
    "duration": 7,
    "start_time": "2022-12-06T18:16:56.531Z"
   },
   {
    "duration": 41,
    "start_time": "2022-12-06T18:16:56.539Z"
   },
   {
    "duration": 7,
    "start_time": "2022-12-06T18:16:56.582Z"
   },
   {
    "duration": 1280,
    "start_time": "2022-12-06T18:16:56.590Z"
   },
   {
    "duration": 1377,
    "start_time": "2022-12-06T18:16:57.872Z"
   },
   {
    "duration": 1225,
    "start_time": "2022-12-06T18:16:59.251Z"
   },
   {
    "duration": 12,
    "start_time": "2022-12-06T18:17:00.478Z"
   },
   {
    "duration": 54,
    "start_time": "2022-12-06T18:17:00.491Z"
   },
   {
    "duration": 176,
    "start_time": "2022-12-06T18:17:00.547Z"
   },
   {
    "duration": 127,
    "start_time": "2022-12-06T18:17:00.725Z"
   },
   {
    "duration": 22,
    "start_time": "2022-12-06T18:17:00.856Z"
   },
   {
    "duration": 4,
    "start_time": "2022-12-06T18:17:00.881Z"
   },
   {
    "duration": 46,
    "start_time": "2022-12-06T18:17:00.887Z"
   },
   {
    "duration": 40,
    "start_time": "2022-12-06T18:17:00.936Z"
   },
   {
    "duration": 50,
    "start_time": "2022-12-06T18:17:00.978Z"
   },
   {
    "duration": 33,
    "start_time": "2022-12-06T18:17:01.032Z"
   },
   {
    "duration": 10,
    "start_time": "2022-12-06T18:17:01.067Z"
   },
   {
    "duration": 9,
    "start_time": "2022-12-06T18:17:01.080Z"
   },
   {
    "duration": 30,
    "start_time": "2022-12-06T18:17:01.091Z"
   },
   {
    "duration": 12,
    "start_time": "2022-12-06T18:17:01.123Z"
   },
   {
    "duration": 7,
    "start_time": "2022-12-06T18:17:01.137Z"
   },
   {
    "duration": 16,
    "start_time": "2022-12-06T18:17:01.146Z"
   },
   {
    "duration": 17,
    "start_time": "2022-12-06T18:17:01.164Z"
   },
   {
    "duration": 12,
    "start_time": "2022-12-06T18:17:01.183Z"
   },
   {
    "duration": 8,
    "start_time": "2022-12-06T18:19:04.623Z"
   },
   {
    "duration": 1582,
    "start_time": "2022-12-06T18:19:05.294Z"
   },
   {
    "duration": 7,
    "start_time": "2022-12-06T18:19:21.312Z"
   },
   {
    "duration": 1440,
    "start_time": "2022-12-06T18:19:22.118Z"
   },
   {
    "duration": 7,
    "start_time": "2022-12-06T18:19:46.520Z"
   },
   {
    "duration": 7,
    "start_time": "2022-12-06T18:43:53.530Z"
   },
   {
    "duration": 1454,
    "start_time": "2022-12-06T18:44:05.311Z"
   },
   {
    "duration": 1474,
    "start_time": "2022-12-06T18:44:06.767Z"
   },
   {
    "duration": 1509,
    "start_time": "2022-12-06T18:44:08.244Z"
   },
   {
    "duration": 1670,
    "start_time": "2022-12-07T17:46:30.718Z"
   },
   {
    "duration": 613,
    "start_time": "2022-12-07T17:46:32.390Z"
   },
   {
    "duration": 14,
    "start_time": "2022-12-07T17:46:33.005Z"
   },
   {
    "duration": 56,
    "start_time": "2022-12-07T17:46:33.021Z"
   },
   {
    "duration": 46,
    "start_time": "2022-12-07T17:46:33.079Z"
   },
   {
    "duration": 9,
    "start_time": "2022-12-07T17:46:33.126Z"
   },
   {
    "duration": 18,
    "start_time": "2022-12-07T17:46:33.136Z"
   },
   {
    "duration": 34,
    "start_time": "2022-12-07T17:46:33.155Z"
   },
   {
    "duration": 46,
    "start_time": "2022-12-07T17:46:33.191Z"
   },
   {
    "duration": 8,
    "start_time": "2022-12-07T17:46:33.240Z"
   },
   {
    "duration": 19,
    "start_time": "2022-12-07T17:46:33.250Z"
   },
   {
    "duration": 63,
    "start_time": "2022-12-07T17:46:33.271Z"
   },
   {
    "duration": 21,
    "start_time": "2022-12-07T17:46:33.336Z"
   },
   {
    "duration": 1053,
    "start_time": "2022-12-07T17:46:33.359Z"
   },
   {
    "duration": 260,
    "start_time": "2022-12-07T17:46:34.414Z"
   },
   {
    "duration": 16,
    "start_time": "2022-12-07T17:46:34.675Z"
   },
   {
    "duration": 5,
    "start_time": "2022-12-07T17:46:34.693Z"
   },
   {
    "duration": 21,
    "start_time": "2022-12-07T17:46:34.700Z"
   },
   {
    "duration": 2,
    "start_time": "2022-12-07T17:46:34.723Z"
   },
   {
    "duration": 16,
    "start_time": "2022-12-07T17:46:34.726Z"
   },
   {
    "duration": 19,
    "start_time": "2022-12-07T17:46:34.744Z"
   },
   {
    "duration": 14,
    "start_time": "2022-12-07T17:46:34.765Z"
   },
   {
    "duration": 44,
    "start_time": "2022-12-07T17:46:34.781Z"
   },
   {
    "duration": 98,
    "start_time": "2022-12-07T17:46:34.826Z"
   },
   {
    "duration": 115,
    "start_time": "2022-12-07T17:46:34.927Z"
   },
   {
    "duration": 180,
    "start_time": "2022-12-07T17:46:35.045Z"
   },
   {
    "duration": 99,
    "start_time": "2022-12-07T17:46:35.227Z"
   },
   {
    "duration": 25,
    "start_time": "2022-12-07T17:46:35.331Z"
   },
   {
    "duration": 6,
    "start_time": "2022-12-07T17:46:35.358Z"
   },
   {
    "duration": 15,
    "start_time": "2022-12-07T17:46:35.366Z"
   },
   {
    "duration": 5,
    "start_time": "2022-12-07T17:46:35.421Z"
   },
   {
    "duration": 16,
    "start_time": "2022-12-07T17:46:35.428Z"
   },
   {
    "duration": 21,
    "start_time": "2022-12-07T17:46:35.445Z"
   },
   {
    "duration": 18,
    "start_time": "2022-12-07T17:46:35.468Z"
   },
   {
    "duration": 13,
    "start_time": "2022-12-07T17:46:35.488Z"
   },
   {
    "duration": 13,
    "start_time": "2022-12-07T17:46:35.522Z"
   },
   {
    "duration": 21,
    "start_time": "2022-12-07T17:46:35.537Z"
   },
   {
    "duration": 8,
    "start_time": "2022-12-07T17:46:35.560Z"
   },
   {
    "duration": 20,
    "start_time": "2022-12-07T17:46:35.570Z"
   },
   {
    "duration": 37,
    "start_time": "2022-12-07T17:46:35.592Z"
   },
   {
    "duration": 3,
    "start_time": "2022-12-07T17:46:35.631Z"
   },
   {
    "duration": 9,
    "start_time": "2022-12-07T17:46:35.636Z"
   },
   {
    "duration": 11,
    "start_time": "2022-12-07T17:46:35.647Z"
   },
   {
    "duration": 5,
    "start_time": "2022-12-07T17:46:35.660Z"
   },
   {
    "duration": 8,
    "start_time": "2022-12-07T17:46:35.666Z"
   },
   {
    "duration": 10,
    "start_time": "2022-12-07T17:46:35.676Z"
   },
   {
    "duration": 33,
    "start_time": "2022-12-07T17:46:35.688Z"
   },
   {
    "duration": 25,
    "start_time": "2022-12-07T17:46:35.723Z"
   },
   {
    "duration": 1324,
    "start_time": "2022-12-07T17:46:35.750Z"
   },
   {
    "duration": 1260,
    "start_time": "2022-12-07T17:46:37.076Z"
   },
   {
    "duration": 1274,
    "start_time": "2022-12-07T17:46:38.337Z"
   },
   {
    "duration": 18,
    "start_time": "2022-12-07T17:46:39.613Z"
   },
   {
    "duration": 17,
    "start_time": "2022-12-07T17:46:39.632Z"
   },
   {
    "duration": 140,
    "start_time": "2022-12-07T17:46:39.651Z"
   },
   {
    "duration": 104,
    "start_time": "2022-12-07T17:46:39.793Z"
   },
   {
    "duration": 23,
    "start_time": "2022-12-07T17:46:39.899Z"
   },
   {
    "duration": 4,
    "start_time": "2022-12-07T17:46:39.923Z"
   },
   {
    "duration": 9,
    "start_time": "2022-12-07T17:46:39.928Z"
   },
   {
    "duration": 7,
    "start_time": "2022-12-07T17:46:39.939Z"
   },
   {
    "duration": 9,
    "start_time": "2022-12-07T17:46:39.947Z"
   },
   {
    "duration": 8,
    "start_time": "2022-12-07T17:46:39.957Z"
   },
   {
    "duration": 6,
    "start_time": "2022-12-07T17:46:39.966Z"
   },
   {
    "duration": 15,
    "start_time": "2022-12-07T17:46:39.974Z"
   },
   {
    "duration": 19,
    "start_time": "2022-12-07T17:46:40.022Z"
   },
   {
    "duration": 19,
    "start_time": "2022-12-07T17:46:40.043Z"
   },
   {
    "duration": 13,
    "start_time": "2022-12-07T17:46:40.064Z"
   },
   {
    "duration": 11,
    "start_time": "2022-12-07T17:46:40.079Z"
   },
   {
    "duration": 11,
    "start_time": "2022-12-07T17:46:40.091Z"
   },
   {
    "duration": 8,
    "start_time": "2022-12-07T17:46:40.103Z"
   },
   {
    "duration": 1277,
    "start_time": "2022-12-07T17:49:20.244Z"
   },
   {
    "duration": 1708,
    "start_time": "2022-12-07T17:51:01.113Z"
   },
   {
    "duration": 400,
    "start_time": "2022-12-07T17:51:02.823Z"
   },
   {
    "duration": 15,
    "start_time": "2022-12-07T17:51:03.225Z"
   },
   {
    "duration": 77,
    "start_time": "2022-12-07T17:51:03.243Z"
   },
   {
    "duration": 44,
    "start_time": "2022-12-07T17:51:03.322Z"
   },
   {
    "duration": 10,
    "start_time": "2022-12-07T17:51:03.368Z"
   },
   {
    "duration": 71,
    "start_time": "2022-12-07T17:51:03.380Z"
   },
   {
    "duration": 51,
    "start_time": "2022-12-07T17:51:03.453Z"
   },
   {
    "duration": 36,
    "start_time": "2022-12-07T17:51:03.506Z"
   },
   {
    "duration": 10,
    "start_time": "2022-12-07T17:51:03.545Z"
   },
   {
    "duration": 24,
    "start_time": "2022-12-07T17:51:03.558Z"
   },
   {
    "duration": 58,
    "start_time": "2022-12-07T17:51:03.585Z"
   },
   {
    "duration": 25,
    "start_time": "2022-12-07T17:51:03.645Z"
   },
   {
    "duration": 1093,
    "start_time": "2022-12-07T17:51:03.672Z"
   },
   {
    "duration": 264,
    "start_time": "2022-12-07T17:51:04.768Z"
   },
   {
    "duration": 16,
    "start_time": "2022-12-07T17:51:05.034Z"
   },
   {
    "duration": 6,
    "start_time": "2022-12-07T17:51:05.052Z"
   },
   {
    "duration": 10,
    "start_time": "2022-12-07T17:51:05.059Z"
   },
   {
    "duration": 5,
    "start_time": "2022-12-07T17:51:05.071Z"
   },
   {
    "duration": 17,
    "start_time": "2022-12-07T17:51:05.078Z"
   },
   {
    "duration": 19,
    "start_time": "2022-12-07T17:51:05.122Z"
   },
   {
    "duration": 14,
    "start_time": "2022-12-07T17:51:05.142Z"
   },
   {
    "duration": 19,
    "start_time": "2022-12-07T17:51:05.158Z"
   },
   {
    "duration": 67,
    "start_time": "2022-12-07T17:51:05.179Z"
   },
   {
    "duration": 79,
    "start_time": "2022-12-07T17:51:05.249Z"
   },
   {
    "duration": 99,
    "start_time": "2022-12-07T17:51:05.333Z"
   },
   {
    "duration": 188,
    "start_time": "2022-12-07T17:51:05.436Z"
   },
   {
    "duration": 16,
    "start_time": "2022-12-07T17:51:05.630Z"
   },
   {
    "duration": 5,
    "start_time": "2022-12-07T17:51:05.648Z"
   },
   {
    "duration": 10,
    "start_time": "2022-12-07T17:51:05.655Z"
   },
   {
    "duration": 11,
    "start_time": "2022-12-07T17:51:05.667Z"
   },
   {
    "duration": 10,
    "start_time": "2022-12-07T17:51:05.679Z"
   },
   {
    "duration": 43,
    "start_time": "2022-12-07T17:51:05.690Z"
   },
   {
    "duration": 13,
    "start_time": "2022-12-07T17:51:05.734Z"
   },
   {
    "duration": 3,
    "start_time": "2022-12-07T17:51:05.749Z"
   },
   {
    "duration": 16,
    "start_time": "2022-12-07T17:51:05.754Z"
   },
   {
    "duration": 61,
    "start_time": "2022-12-07T17:51:05.772Z"
   },
   {
    "duration": 5,
    "start_time": "2022-12-07T17:51:05.835Z"
   },
   {
    "duration": 38,
    "start_time": "2022-12-07T17:51:05.842Z"
   },
   {
    "duration": 26,
    "start_time": "2022-12-07T17:51:05.882Z"
   },
   {
    "duration": 4,
    "start_time": "2022-12-07T17:51:05.910Z"
   },
   {
    "duration": 17,
    "start_time": "2022-12-07T17:51:05.916Z"
   },
   {
    "duration": 15,
    "start_time": "2022-12-07T17:51:05.935Z"
   },
   {
    "duration": 4,
    "start_time": "2022-12-07T17:51:05.952Z"
   },
   {
    "duration": 18,
    "start_time": "2022-12-07T17:51:05.958Z"
   },
   {
    "duration": 9,
    "start_time": "2022-12-07T17:51:05.978Z"
   },
   {
    "duration": 12,
    "start_time": "2022-12-07T17:51:05.988Z"
   },
   {
    "duration": 19,
    "start_time": "2022-12-07T17:51:06.002Z"
   },
   {
    "duration": 1347,
    "start_time": "2022-12-07T17:51:06.023Z"
   },
   {
    "duration": 1314,
    "start_time": "2022-12-07T17:51:07.372Z"
   },
   {
    "duration": 1327,
    "start_time": "2022-12-07T17:51:08.688Z"
   },
   {
    "duration": 10,
    "start_time": "2022-12-07T17:51:10.017Z"
   },
   {
    "duration": 33,
    "start_time": "2022-12-07T17:51:10.029Z"
   },
   {
    "duration": 181,
    "start_time": "2022-12-07T17:51:10.064Z"
   },
   {
    "duration": 109,
    "start_time": "2022-12-07T17:51:10.247Z"
   },
   {
    "duration": 10,
    "start_time": "2022-12-07T17:51:10.358Z"
   },
   {
    "duration": 13,
    "start_time": "2022-12-07T17:51:10.370Z"
   },
   {
    "duration": 10,
    "start_time": "2022-12-07T17:51:10.385Z"
   },
   {
    "duration": 33,
    "start_time": "2022-12-07T17:51:10.397Z"
   },
   {
    "duration": 9,
    "start_time": "2022-12-07T17:51:10.432Z"
   },
   {
    "duration": 12,
    "start_time": "2022-12-07T17:51:10.442Z"
   },
   {
    "duration": 12,
    "start_time": "2022-12-07T17:51:10.456Z"
   },
   {
    "duration": 8,
    "start_time": "2022-12-07T17:51:10.470Z"
   },
   {
    "duration": 8,
    "start_time": "2022-12-07T17:51:10.480Z"
   },
   {
    "duration": 38,
    "start_time": "2022-12-07T17:51:10.490Z"
   },
   {
    "duration": 8,
    "start_time": "2022-12-07T17:51:10.530Z"
   },
   {
    "duration": 10,
    "start_time": "2022-12-07T17:51:10.540Z"
   },
   {
    "duration": 21,
    "start_time": "2022-12-07T17:51:10.552Z"
   },
   {
    "duration": 20,
    "start_time": "2022-12-07T17:51:10.575Z"
   },
   {
    "duration": 52,
    "start_time": "2022-12-07T18:14:34.379Z"
   },
   {
    "duration": 1733,
    "start_time": "2022-12-07T18:14:41.502Z"
   },
   {
    "duration": 1707,
    "start_time": "2022-12-07T18:14:43.238Z"
   },
   {
    "duration": 17,
    "start_time": "2022-12-07T18:14:44.946Z"
   },
   {
    "duration": 68,
    "start_time": "2022-12-07T18:14:44.965Z"
   },
   {
    "duration": 57,
    "start_time": "2022-12-07T18:14:45.035Z"
   },
   {
    "duration": 13,
    "start_time": "2022-12-07T18:14:45.095Z"
   },
   {
    "duration": 47,
    "start_time": "2022-12-07T18:14:45.110Z"
   },
   {
    "duration": 54,
    "start_time": "2022-12-07T18:14:45.159Z"
   },
   {
    "duration": 50,
    "start_time": "2022-12-07T18:14:45.215Z"
   },
   {
    "duration": 14,
    "start_time": "2022-12-07T18:14:45.269Z"
   },
   {
    "duration": 26,
    "start_time": "2022-12-07T18:14:45.285Z"
   },
   {
    "duration": 60,
    "start_time": "2022-12-07T18:14:45.313Z"
   },
   {
    "duration": 22,
    "start_time": "2022-12-07T18:14:45.375Z"
   },
   {
    "duration": 1274,
    "start_time": "2022-12-07T18:14:45.399Z"
   },
   {
    "duration": 304,
    "start_time": "2022-12-07T18:14:46.674Z"
   },
   {
    "duration": 24,
    "start_time": "2022-12-07T18:14:46.980Z"
   },
   {
    "duration": 5,
    "start_time": "2022-12-07T18:14:47.006Z"
   },
   {
    "duration": 5,
    "start_time": "2022-12-07T18:14:47.014Z"
   },
   {
    "duration": 7,
    "start_time": "2022-12-07T18:14:47.020Z"
   },
   {
    "duration": 32,
    "start_time": "2022-12-07T18:14:47.028Z"
   },
   {
    "duration": 19,
    "start_time": "2022-12-07T18:14:47.062Z"
   },
   {
    "duration": 18,
    "start_time": "2022-12-07T18:14:47.083Z"
   },
   {
    "duration": 16,
    "start_time": "2022-12-07T18:14:47.104Z"
   },
   {
    "duration": 108,
    "start_time": "2022-12-07T18:14:47.151Z"
   },
   {
    "duration": 106,
    "start_time": "2022-12-07T18:14:47.261Z"
   },
   {
    "duration": 183,
    "start_time": "2022-12-07T18:14:47.369Z"
   },
   {
    "duration": 103,
    "start_time": "2022-12-07T18:14:47.554Z"
   },
   {
    "duration": 20,
    "start_time": "2022-12-07T18:14:47.662Z"
   },
   {
    "duration": 6,
    "start_time": "2022-12-07T18:14:47.684Z"
   },
   {
    "duration": 5,
    "start_time": "2022-12-07T18:14:47.692Z"
   },
   {
    "duration": 6,
    "start_time": "2022-12-07T18:14:47.699Z"
   },
   {
    "duration": 8,
    "start_time": "2022-12-07T18:14:47.708Z"
   },
   {
    "duration": 15,
    "start_time": "2022-12-07T18:14:47.751Z"
   },
   {
    "duration": 16,
    "start_time": "2022-12-07T18:14:47.768Z"
   },
   {
    "duration": 4,
    "start_time": "2022-12-07T18:14:47.786Z"
   },
   {
    "duration": 17,
    "start_time": "2022-12-07T18:14:47.792Z"
   },
   {
    "duration": 47,
    "start_time": "2022-12-07T18:14:47.811Z"
   },
   {
    "duration": 5,
    "start_time": "2022-12-07T18:14:47.860Z"
   },
   {
    "duration": 20,
    "start_time": "2022-12-07T18:14:47.867Z"
   },
   {
    "duration": 17,
    "start_time": "2022-12-07T18:14:47.889Z"
   },
   {
    "duration": 5,
    "start_time": "2022-12-07T18:14:47.908Z"
   },
   {
    "duration": 41,
    "start_time": "2022-12-07T18:14:47.915Z"
   },
   {
    "duration": 19,
    "start_time": "2022-12-07T18:14:47.958Z"
   },
   {
    "duration": 4,
    "start_time": "2022-12-07T18:14:47.979Z"
   },
   {
    "duration": 5,
    "start_time": "2022-12-07T18:14:47.986Z"
   },
   {
    "duration": 7,
    "start_time": "2022-12-07T18:14:47.993Z"
   },
   {
    "duration": 11,
    "start_time": "2022-12-07T18:14:48.002Z"
   },
   {
    "duration": 10,
    "start_time": "2022-12-07T18:14:48.015Z"
   },
   {
    "duration": 1609,
    "start_time": "2022-12-07T18:14:48.027Z"
   },
   {
    "duration": 1533,
    "start_time": "2022-12-07T18:14:49.639Z"
   },
   {
    "duration": 1447,
    "start_time": "2022-12-07T18:14:51.174Z"
   },
   {
    "duration": 12,
    "start_time": "2022-12-07T18:14:52.623Z"
   },
   {
    "duration": 30,
    "start_time": "2022-12-07T18:14:52.636Z"
   },
   {
    "duration": 157,
    "start_time": "2022-12-07T18:14:52.668Z"
   },
   {
    "duration": 130,
    "start_time": "2022-12-07T18:14:52.827Z"
   },
   {
    "duration": 9,
    "start_time": "2022-12-07T18:14:52.959Z"
   },
   {
    "duration": 11,
    "start_time": "2022-12-07T18:14:52.969Z"
   },
   {
    "duration": 17,
    "start_time": "2022-12-07T18:14:52.982Z"
   },
   {
    "duration": 10,
    "start_time": "2022-12-07T18:14:53.001Z"
   },
   {
    "duration": 15,
    "start_time": "2022-12-07T18:14:53.013Z"
   },
   {
    "duration": 22,
    "start_time": "2022-12-07T18:14:53.030Z"
   },
   {
    "duration": 7,
    "start_time": "2022-12-07T18:14:53.054Z"
   },
   {
    "duration": 9,
    "start_time": "2022-12-07T18:14:53.062Z"
   },
   {
    "duration": 12,
    "start_time": "2022-12-07T18:14:53.073Z"
   },
   {
    "duration": 9,
    "start_time": "2022-12-07T18:14:53.087Z"
   },
   {
    "duration": 8,
    "start_time": "2022-12-07T18:14:53.098Z"
   },
   {
    "duration": 44,
    "start_time": "2022-12-07T18:14:53.108Z"
   },
   {
    "duration": 12,
    "start_time": "2022-12-07T18:14:53.154Z"
   },
   {
    "duration": 10,
    "start_time": "2022-12-07T18:14:53.168Z"
   },
   {
    "duration": 107,
    "start_time": "2022-12-07T18:15:38.290Z"
   },
   {
    "duration": 4,
    "start_time": "2022-12-07T18:24:00.346Z"
   },
   {
    "duration": 5,
    "start_time": "2022-12-07T18:24:01.043Z"
   },
   {
    "duration": 9,
    "start_time": "2022-12-07T18:24:02.898Z"
   },
   {
    "duration": 1453,
    "start_time": "2022-12-07T18:24:05.610Z"
   },
   {
    "duration": 1473,
    "start_time": "2022-12-07T18:24:07.065Z"
   },
   {
    "duration": 1620,
    "start_time": "2022-12-07T18:24:08.541Z"
   },
   {
    "duration": 14,
    "start_time": "2022-12-07T18:24:10.163Z"
   },
   {
    "duration": 1535,
    "start_time": "2022-12-07T18:24:56.228Z"
   },
   {
    "duration": 4,
    "start_time": "2022-12-07T18:25:05.302Z"
   },
   {
    "duration": 3,
    "start_time": "2022-12-07T18:25:07.279Z"
   },
   {
    "duration": 5,
    "start_time": "2022-12-07T18:25:26.773Z"
   },
   {
    "duration": 124,
    "start_time": "2022-12-07T18:25:31.277Z"
   },
   {
    "duration": 14,
    "start_time": "2022-12-07T18:26:25.352Z"
   },
   {
    "duration": 1428,
    "start_time": "2022-12-07T18:26:42.623Z"
   },
   {
    "duration": 107,
    "start_time": "2022-12-07T18:28:47.898Z"
   },
   {
    "duration": 4,
    "start_time": "2022-12-07T18:29:05.362Z"
   },
   {
    "duration": 4562,
    "start_time": "2022-12-07T18:29:16.402Z"
   },
   {
    "duration": 4,
    "start_time": "2022-12-07T18:30:48.564Z"
   },
   {
    "duration": 10,
    "start_time": "2022-12-07T18:30:53.556Z"
   },
   {
    "duration": 1439,
    "start_time": "2022-12-07T18:31:01.364Z"
   },
   {
    "duration": 1398,
    "start_time": "2022-12-07T18:31:12.341Z"
   },
   {
    "duration": 1371,
    "start_time": "2022-12-07T18:31:37.693Z"
   },
   {
    "duration": 1399,
    "start_time": "2022-12-07T18:31:41.836Z"
   },
   {
    "duration": 14,
    "start_time": "2022-12-07T18:31:46.853Z"
   },
   {
    "duration": 1418,
    "start_time": "2022-12-07T18:31:54.285Z"
   },
   {
    "duration": 1436,
    "start_time": "2022-12-07T18:31:59.937Z"
   },
   {
    "duration": 1403,
    "start_time": "2022-12-07T18:32:03.197Z"
   },
   {
    "duration": 4,
    "start_time": "2022-12-07T18:34:58.249Z"
   },
   {
    "duration": 4,
    "start_time": "2022-12-07T18:35:05.418Z"
   },
   {
    "duration": 5,
    "start_time": "2022-12-07T18:35:23.505Z"
   },
   {
    "duration": 1604,
    "start_time": "2022-12-07T18:35:48.923Z"
   },
   {
    "duration": 11,
    "start_time": "2022-12-07T18:35:54.730Z"
   },
   {
    "duration": 1489,
    "start_time": "2022-12-07T18:36:07.786Z"
   },
   {
    "duration": 6,
    "start_time": "2022-12-07T18:37:26.908Z"
   },
   {
    "duration": 5,
    "start_time": "2022-12-07T18:37:53.756Z"
   },
   {
    "duration": 4,
    "start_time": "2022-12-07T18:38:27.263Z"
   },
   {
    "duration": 0,
    "start_time": "2022-12-07T18:39:45.329Z"
   },
   {
    "duration": 2431,
    "start_time": "2022-12-07T18:40:21.423Z"
   },
   {
    "duration": 2518,
    "start_time": "2022-12-07T18:40:30.703Z"
   },
   {
    "duration": 0,
    "start_time": "2022-12-07T18:41:22.529Z"
   },
   {
    "duration": 0,
    "start_time": "2022-12-07T18:42:13.673Z"
   },
   {
    "duration": 110,
    "start_time": "2022-12-07T18:42:59.043Z"
   },
   {
    "duration": 130,
    "start_time": "2022-12-07T18:43:21.011Z"
   },
   {
    "duration": 2445,
    "start_time": "2022-12-07T18:43:26.667Z"
   },
   {
    "duration": 32111,
    "start_time": "2022-12-07T18:43:33.084Z"
   },
   {
    "duration": 104,
    "start_time": "2022-12-07T18:44:05.197Z"
   },
   {
    "duration": 0,
    "start_time": "2022-12-07T18:44:47.190Z"
   },
   {
    "duration": 126,
    "start_time": "2022-12-07T18:44:59.262Z"
   },
   {
    "duration": 100,
    "start_time": "2022-12-07T18:45:12.042Z"
   },
   {
    "duration": 135,
    "start_time": "2022-12-07T18:45:20.509Z"
   },
   {
    "duration": 103,
    "start_time": "2022-12-07T18:45:29.182Z"
   },
   {
    "duration": 4,
    "start_time": "2022-12-07T18:46:04.719Z"
   },
   {
    "duration": 120,
    "start_time": "2022-12-07T18:46:14.944Z"
   },
   {
    "duration": 4,
    "start_time": "2022-12-07T18:46:21.951Z"
   },
   {
    "duration": 105,
    "start_time": "2022-12-07T18:47:10.680Z"
   },
   {
    "duration": 4,
    "start_time": "2022-12-07T18:47:16.192Z"
   },
   {
    "duration": 1635,
    "start_time": "2022-12-07T18:48:19.099Z"
   },
   {
    "duration": 0,
    "start_time": "2022-12-07T18:49:04.344Z"
   },
   {
    "duration": 2052,
    "start_time": "2022-12-07T18:49:06.314Z"
   },
   {
    "duration": 1941,
    "start_time": "2022-12-07T18:49:27.195Z"
   },
   {
    "duration": 4,
    "start_time": "2022-12-07T18:51:36.245Z"
   },
   {
    "duration": 3,
    "start_time": "2022-12-07T18:52:03.174Z"
   },
   {
    "duration": 3,
    "start_time": "2022-12-07T18:52:15.303Z"
   },
   {
    "duration": 4,
    "start_time": "2022-12-07T18:52:34.854Z"
   },
   {
    "duration": 3,
    "start_time": "2022-12-07T18:52:43.743Z"
   },
   {
    "duration": 3,
    "start_time": "2022-12-07T18:52:54.055Z"
   },
   {
    "duration": 3,
    "start_time": "2022-12-07T18:53:04.183Z"
   },
   {
    "duration": 3300,
    "start_time": "2022-12-07T18:53:05.592Z"
   },
   {
    "duration": 2015,
    "start_time": "2022-12-07T18:53:17.199Z"
   },
   {
    "duration": 4,
    "start_time": "2022-12-07T18:53:30.023Z"
   },
   {
    "duration": 3,
    "start_time": "2022-12-07T18:54:03.969Z"
   },
   {
    "duration": 4,
    "start_time": "2022-12-07T18:54:13.859Z"
   },
   {
    "duration": 3,
    "start_time": "2022-12-07T18:54:55.417Z"
   },
   {
    "duration": 4,
    "start_time": "2022-12-07T18:55:10.945Z"
   },
   {
    "duration": 152,
    "start_time": "2022-12-07T18:55:20.994Z"
   },
   {
    "duration": 2701,
    "start_time": "2022-12-07T18:55:25.898Z"
   },
   {
    "duration": 2119,
    "start_time": "2022-12-07T18:55:44.811Z"
   },
   {
    "duration": 2014,
    "start_time": "2022-12-07T18:55:51.306Z"
   },
   {
    "duration": 4,
    "start_time": "2022-12-07T18:56:00.170Z"
   },
   {
    "duration": 1449,
    "start_time": "2022-12-07T18:56:08.083Z"
   },
   {
    "duration": 3,
    "start_time": "2022-12-07T18:56:43.653Z"
   },
   {
    "duration": 3,
    "start_time": "2022-12-07T18:57:16.045Z"
   },
   {
    "duration": 1734,
    "start_time": "2022-12-07T18:57:26.468Z"
   },
   {
    "duration": 9,
    "start_time": "2022-12-07T18:57:38.725Z"
   },
   {
    "duration": 1339,
    "start_time": "2022-12-07T18:58:01.510Z"
   },
   {
    "duration": 2295,
    "start_time": "2022-12-07T18:58:28.623Z"
   },
   {
    "duration": 1798,
    "start_time": "2022-12-07T18:58:49.303Z"
   },
   {
    "duration": 1424,
    "start_time": "2022-12-07T18:59:03.687Z"
   },
   {
    "duration": 2328,
    "start_time": "2022-12-07T18:59:46.847Z"
   },
   {
    "duration": 2675,
    "start_time": "2022-12-07T19:00:09.316Z"
   },
   {
    "duration": 102,
    "start_time": "2022-12-07T19:00:47.577Z"
   },
   {
    "duration": 104,
    "start_time": "2022-12-07T19:00:54.089Z"
   },
   {
    "duration": 8753,
    "start_time": "2022-12-07T19:01:02.656Z"
   },
   {
    "duration": 1390,
    "start_time": "2022-12-07T19:01:16.729Z"
   },
   {
    "duration": 4799,
    "start_time": "2022-12-07T19:01:32.770Z"
   },
   {
    "duration": 4042,
    "start_time": "2022-12-07T19:02:51.324Z"
   },
   {
    "duration": 3512,
    "start_time": "2022-12-07T19:03:00.340Z"
   },
   {
    "duration": 2205,
    "start_time": "2022-12-07T19:03:06.123Z"
   },
   {
    "duration": 5817,
    "start_time": "2022-12-07T19:03:19.805Z"
   },
   {
    "duration": 0,
    "start_time": "2022-12-07T19:04:46.030Z"
   },
   {
    "duration": 5092,
    "start_time": "2022-12-07T19:04:46.342Z"
   },
   {
    "duration": 17843,
    "start_time": "2022-12-07T19:05:02.582Z"
   },
   {
    "duration": 2759,
    "start_time": "2022-12-07T19:05:29.158Z"
   },
   {
    "duration": 2473,
    "start_time": "2022-12-07T19:05:33.543Z"
   },
   {
    "duration": 105,
    "start_time": "2022-12-07T19:06:15.623Z"
   },
   {
    "duration": 3,
    "start_time": "2022-12-07T19:06:20.983Z"
   },
   {
    "duration": 3279,
    "start_time": "2022-12-07T19:06:22.055Z"
   },
   {
    "duration": 1492,
    "start_time": "2022-12-07T19:06:45.033Z"
   },
   {
    "duration": 3,
    "start_time": "2022-12-07T19:06:46.528Z"
   },
   {
    "duration": 4771,
    "start_time": "2022-12-07T19:06:46.533Z"
   },
   {
    "duration": 0,
    "start_time": "2022-12-07T19:08:55.599Z"
   },
   {
    "duration": 3975,
    "start_time": "2022-12-07T19:09:00.403Z"
   },
   {
    "duration": 3353,
    "start_time": "2022-12-07T19:09:13.579Z"
   },
   {
    "duration": 3767,
    "start_time": "2022-12-07T19:09:38.835Z"
   },
   {
    "duration": 3286,
    "start_time": "2022-12-07T19:09:49.187Z"
   },
   {
    "duration": 3248,
    "start_time": "2022-12-07T19:09:54.323Z"
   },
   {
    "duration": 2643,
    "start_time": "2022-12-07T19:10:20.813Z"
   },
   {
    "duration": 2962,
    "start_time": "2022-12-07T19:10:36.460Z"
   },
   {
    "duration": 2728,
    "start_time": "2022-12-07T19:10:43.064Z"
   },
   {
    "duration": 2867,
    "start_time": "2022-12-07T19:10:47.541Z"
   },
   {
    "duration": 0,
    "start_time": "2022-12-07T19:11:05.360Z"
   },
   {
    "duration": 3462,
    "start_time": "2022-12-07T19:11:16.247Z"
   },
   {
    "duration": 2992,
    "start_time": "2022-12-07T19:11:49.206Z"
   },
   {
    "duration": 103,
    "start_time": "2022-12-07T19:12:18.479Z"
   },
   {
    "duration": 3205,
    "start_time": "2022-12-07T19:12:25.142Z"
   },
   {
    "duration": 2552,
    "start_time": "2022-12-07T19:12:46.167Z"
   },
   {
    "duration": 2749,
    "start_time": "2022-12-07T19:13:00.399Z"
   },
   {
    "duration": 0,
    "start_time": "2022-12-07T19:13:32.391Z"
   },
   {
    "duration": 4,
    "start_time": "2022-12-07T19:13:39.080Z"
   },
   {
    "duration": 3021,
    "start_time": "2022-12-07T19:13:51.240Z"
   },
   {
    "duration": 2596,
    "start_time": "2022-12-07T19:14:17.721Z"
   },
   {
    "duration": 1077,
    "start_time": "2022-12-07T19:14:29.354Z"
   },
   {
    "duration": 918,
    "start_time": "2022-12-07T19:14:32.089Z"
   },
   {
    "duration": 3035,
    "start_time": "2022-12-07T19:14:39.265Z"
   },
   {
    "duration": 0,
    "start_time": "2022-12-07T19:15:05.214Z"
   },
   {
    "duration": 0,
    "start_time": "2022-12-07T19:15:05.216Z"
   },
   {
    "duration": 0,
    "start_time": "2022-12-07T19:15:05.217Z"
   },
   {
    "duration": 2702,
    "start_time": "2022-12-07T19:15:06.968Z"
   },
   {
    "duration": 699,
    "start_time": "2022-12-07T19:15:13.121Z"
   },
   {
    "duration": 717,
    "start_time": "2022-12-07T19:15:14.473Z"
   },
   {
    "duration": 2624,
    "start_time": "2022-12-07T19:15:22.242Z"
   },
   {
    "duration": 1609,
    "start_time": "2022-12-07T19:15:31.272Z"
   },
   {
    "duration": 405,
    "start_time": "2022-12-07T19:15:32.883Z"
   },
   {
    "duration": 14,
    "start_time": "2022-12-07T19:15:33.290Z"
   },
   {
    "duration": 72,
    "start_time": "2022-12-07T19:15:33.307Z"
   },
   {
    "duration": 49,
    "start_time": "2022-12-07T19:15:33.380Z"
   },
   {
    "duration": 22,
    "start_time": "2022-12-07T19:15:33.430Z"
   },
   {
    "duration": 18,
    "start_time": "2022-12-07T19:15:33.454Z"
   },
   {
    "duration": 39,
    "start_time": "2022-12-07T19:15:33.473Z"
   },
   {
    "duration": 46,
    "start_time": "2022-12-07T19:15:33.514Z"
   },
   {
    "duration": 12,
    "start_time": "2022-12-07T19:15:33.563Z"
   },
   {
    "duration": 28,
    "start_time": "2022-12-07T19:15:33.577Z"
   },
   {
    "duration": 63,
    "start_time": "2022-12-07T19:15:33.607Z"
   },
   {
    "duration": 25,
    "start_time": "2022-12-07T19:15:33.672Z"
   },
   {
    "duration": 1169,
    "start_time": "2022-12-07T19:15:33.699Z"
   },
   {
    "duration": 319,
    "start_time": "2022-12-07T19:15:34.870Z"
   },
   {
    "duration": 25,
    "start_time": "2022-12-07T19:15:35.193Z"
   },
   {
    "duration": 20,
    "start_time": "2022-12-07T19:15:35.220Z"
   },
   {
    "duration": 10,
    "start_time": "2022-12-07T19:15:35.242Z"
   },
   {
    "duration": 13,
    "start_time": "2022-12-07T19:15:35.254Z"
   },
   {
    "duration": 32,
    "start_time": "2022-12-07T19:15:35.269Z"
   },
   {
    "duration": 19,
    "start_time": "2022-12-07T19:15:35.302Z"
   },
   {
    "duration": 15,
    "start_time": "2022-12-07T19:15:35.322Z"
   },
   {
    "duration": 18,
    "start_time": "2022-12-07T19:15:35.339Z"
   },
   {
    "duration": 92,
    "start_time": "2022-12-07T19:15:35.359Z"
   },
   {
    "duration": 107,
    "start_time": "2022-12-07T19:15:35.454Z"
   },
   {
    "duration": 189,
    "start_time": "2022-12-07T19:15:35.563Z"
   },
   {
    "duration": 6,
    "start_time": "2022-12-07T19:15:35.754Z"
   },
   {
    "duration": 24,
    "start_time": "2022-12-07T19:15:35.851Z"
   },
   {
    "duration": 9,
    "start_time": "2022-12-07T19:15:35.877Z"
   },
   {
    "duration": 14,
    "start_time": "2022-12-07T19:15:35.888Z"
   },
   {
    "duration": 8,
    "start_time": "2022-12-07T19:15:35.903Z"
   },
   {
    "duration": 7,
    "start_time": "2022-12-07T19:15:35.913Z"
   },
   {
    "duration": 17,
    "start_time": "2022-12-07T19:15:35.922Z"
   },
   {
    "duration": 21,
    "start_time": "2022-12-07T19:15:35.941Z"
   },
   {
    "duration": 3,
    "start_time": "2022-12-07T19:15:35.964Z"
   },
   {
    "duration": 21,
    "start_time": "2022-12-07T19:15:35.969Z"
   },
   {
    "duration": 15,
    "start_time": "2022-12-07T19:15:35.991Z"
   },
   {
    "duration": 3,
    "start_time": "2022-12-07T19:15:36.008Z"
   },
   {
    "duration": 45,
    "start_time": "2022-12-07T19:15:36.013Z"
   },
   {
    "duration": 14,
    "start_time": "2022-12-07T19:15:36.060Z"
   },
   {
    "duration": 4,
    "start_time": "2022-12-07T19:15:36.076Z"
   },
   {
    "duration": 21,
    "start_time": "2022-12-07T19:15:36.082Z"
   },
   {
    "duration": 13,
    "start_time": "2022-12-07T19:15:36.105Z"
   },
   {
    "duration": 3,
    "start_time": "2022-12-07T19:15:36.120Z"
   },
   {
    "duration": 11,
    "start_time": "2022-12-07T19:15:36.125Z"
   },
   {
    "duration": 6,
    "start_time": "2022-12-07T19:15:36.150Z"
   },
   {
    "duration": 16,
    "start_time": "2022-12-07T19:15:36.158Z"
   },
   {
    "duration": 7,
    "start_time": "2022-12-07T19:15:36.176Z"
   },
   {
    "duration": 1403,
    "start_time": "2022-12-07T19:15:36.185Z"
   },
   {
    "duration": 1453,
    "start_time": "2022-12-07T19:15:37.589Z"
   },
   {
    "duration": 1573,
    "start_time": "2022-12-07T19:15:39.050Z"
   },
   {
    "duration": 3,
    "start_time": "2022-12-07T19:15:40.626Z"
   },
   {
    "duration": 16135,
    "start_time": "2022-12-07T19:15:40.630Z"
   },
   {
    "duration": 0,
    "start_time": "2022-12-07T19:15:56.766Z"
   },
   {
    "duration": 0,
    "start_time": "2022-12-07T19:15:56.768Z"
   },
   {
    "duration": 0,
    "start_time": "2022-12-07T19:15:56.769Z"
   },
   {
    "duration": 0,
    "start_time": "2022-12-07T19:15:56.770Z"
   },
   {
    "duration": 0,
    "start_time": "2022-12-07T19:15:56.771Z"
   },
   {
    "duration": 0,
    "start_time": "2022-12-07T19:15:56.772Z"
   },
   {
    "duration": 0,
    "start_time": "2022-12-07T19:15:56.774Z"
   },
   {
    "duration": 0,
    "start_time": "2022-12-07T19:15:56.775Z"
   },
   {
    "duration": 0,
    "start_time": "2022-12-07T19:15:56.776Z"
   },
   {
    "duration": 0,
    "start_time": "2022-12-07T19:15:56.777Z"
   },
   {
    "duration": 0,
    "start_time": "2022-12-07T19:15:56.778Z"
   },
   {
    "duration": 0,
    "start_time": "2022-12-07T19:15:56.779Z"
   },
   {
    "duration": 0,
    "start_time": "2022-12-07T19:15:56.780Z"
   },
   {
    "duration": 0,
    "start_time": "2022-12-07T19:15:56.781Z"
   },
   {
    "duration": 0,
    "start_time": "2022-12-07T19:15:56.782Z"
   },
   {
    "duration": 0,
    "start_time": "2022-12-07T19:15:56.783Z"
   },
   {
    "duration": 0,
    "start_time": "2022-12-07T19:15:56.785Z"
   },
   {
    "duration": 0,
    "start_time": "2022-12-07T19:15:56.786Z"
   },
   {
    "duration": 12,
    "start_time": "2022-12-07T19:16:01.811Z"
   },
   {
    "duration": 10,
    "start_time": "2022-12-07T19:16:03.546Z"
   },
   {
    "duration": 141,
    "start_time": "2022-12-07T19:16:03.865Z"
   },
   {
    "duration": 100,
    "start_time": "2022-12-07T19:16:04.210Z"
   },
   {
    "duration": 8,
    "start_time": "2022-12-07T19:16:06.233Z"
   },
   {
    "duration": 3,
    "start_time": "2022-12-07T19:16:11.265Z"
   },
   {
    "duration": 7,
    "start_time": "2022-12-07T19:16:11.841Z"
   },
   {
    "duration": 5,
    "start_time": "2022-12-07T19:16:12.649Z"
   },
   {
    "duration": 7,
    "start_time": "2022-12-07T19:16:12.723Z"
   },
   {
    "duration": 5,
    "start_time": "2022-12-07T19:16:12.813Z"
   },
   {
    "duration": 5,
    "start_time": "2022-12-07T19:16:12.884Z"
   },
   {
    "duration": 7,
    "start_time": "2022-12-07T19:16:12.952Z"
   },
   {
    "duration": 7,
    "start_time": "2022-12-07T19:16:13.022Z"
   },
   {
    "duration": 7,
    "start_time": "2022-12-07T19:16:13.092Z"
   },
   {
    "duration": 6,
    "start_time": "2022-12-07T19:16:13.182Z"
   },
   {
    "duration": 7,
    "start_time": "2022-12-07T19:16:13.268Z"
   },
   {
    "duration": 6,
    "start_time": "2022-12-07T19:16:13.337Z"
   },
   {
    "duration": 6,
    "start_time": "2022-12-07T19:16:13.376Z"
   },
   {
    "duration": 8,
    "start_time": "2022-12-07T19:17:19.085Z"
   },
   {
    "duration": 4,
    "start_time": "2022-12-07T20:21:22.230Z"
   },
   {
    "duration": 363,
    "start_time": "2022-12-07T20:21:23.446Z"
   },
   {
    "duration": 13,
    "start_time": "2022-12-07T20:21:23.812Z"
   },
   {
    "duration": 27,
    "start_time": "2022-12-07T20:21:23.912Z"
   },
   {
    "duration": 38,
    "start_time": "2022-12-07T20:21:24.100Z"
   },
   {
    "duration": 11,
    "start_time": "2022-12-07T20:21:24.412Z"
   },
   {
    "duration": 17,
    "start_time": "2022-12-07T20:21:24.570Z"
   },
   {
    "duration": 40,
    "start_time": "2022-12-07T20:21:24.731Z"
   },
   {
    "duration": 20,
    "start_time": "2022-12-07T20:21:24.904Z"
   },
   {
    "duration": 9,
    "start_time": "2022-12-07T20:21:25.237Z"
   },
   {
    "duration": 19,
    "start_time": "2022-12-07T20:21:25.413Z"
   },
   {
    "duration": 44,
    "start_time": "2022-12-07T20:21:25.586Z"
   },
   {
    "duration": 24,
    "start_time": "2022-12-07T20:21:25.757Z"
   },
   {
    "duration": 1032,
    "start_time": "2022-12-07T20:21:25.918Z"
   },
   {
    "duration": 258,
    "start_time": "2022-12-07T20:21:26.951Z"
   },
   {
    "duration": 20,
    "start_time": "2022-12-07T20:21:27.211Z"
   },
   {
    "duration": 3,
    "start_time": "2022-12-07T20:21:27.601Z"
   },
   {
    "duration": 2,
    "start_time": "2022-12-07T20:21:27.936Z"
   },
   {
    "duration": 2,
    "start_time": "2022-12-07T20:21:28.272Z"
   },
   {
    "duration": 7,
    "start_time": "2022-12-07T20:21:29.240Z"
   },
   {
    "duration": 13,
    "start_time": "2022-12-07T20:21:29.564Z"
   },
   {
    "duration": 11,
    "start_time": "2022-12-07T20:21:29.835Z"
   },
   {
    "duration": 12,
    "start_time": "2022-12-07T20:21:30.487Z"
   },
   {
    "duration": 21,
    "start_time": "2022-12-07T20:21:30.640Z"
   },
   {
    "duration": 15,
    "start_time": "2022-12-07T20:21:30.822Z"
   },
   {
    "duration": 101,
    "start_time": "2022-12-07T20:21:31.020Z"
   },
   {
    "duration": 4,
    "start_time": "2022-12-07T20:21:31.689Z"
   },
   {
    "duration": 11,
    "start_time": "2022-12-07T20:21:32.046Z"
   },
   {
    "duration": 6,
    "start_time": "2022-12-07T20:21:32.954Z"
   },
   {
    "duration": 5,
    "start_time": "2022-12-07T20:21:33.272Z"
   },
   {
    "duration": 4,
    "start_time": "2022-12-07T20:21:33.542Z"
   },
   {
    "duration": 3,
    "start_time": "2022-12-07T20:21:33.866Z"
   },
   {
    "duration": 11,
    "start_time": "2022-12-07T20:21:34.529Z"
   },
   {
    "duration": 12,
    "start_time": "2022-12-07T20:21:34.702Z"
   },
   {
    "duration": 4,
    "start_time": "2022-12-07T20:21:34.888Z"
   },
   {
    "duration": 14,
    "start_time": "2022-12-07T20:21:35.262Z"
   },
   {
    "duration": 16,
    "start_time": "2022-12-07T20:21:35.440Z"
   },
   {
    "duration": 4,
    "start_time": "2022-12-07T20:21:35.635Z"
   },
   {
    "duration": 10,
    "start_time": "2022-12-07T20:21:35.979Z"
   },
   {
    "duration": 13,
    "start_time": "2022-12-07T20:21:36.156Z"
   },
   {
    "duration": 4,
    "start_time": "2022-12-07T20:21:36.373Z"
   },
   {
    "duration": 4,
    "start_time": "2022-12-07T20:21:37.191Z"
   },
   {
    "duration": 9,
    "start_time": "2022-12-07T20:21:37.526Z"
   },
   {
    "duration": 4,
    "start_time": "2022-12-07T20:21:38.557Z"
   },
   {
    "duration": 4,
    "start_time": "2022-12-07T20:21:39.001Z"
   },
   {
    "duration": 4,
    "start_time": "2022-12-07T20:21:40.009Z"
   },
   {
    "duration": 5,
    "start_time": "2022-12-07T20:21:40.220Z"
   },
   {
    "duration": 9,
    "start_time": "2022-12-07T20:21:41.227Z"
   },
   {
    "duration": 3963,
    "start_time": "2022-12-07T20:22:31.721Z"
   },
   {
    "duration": 11,
    "start_time": "2022-12-07T21:19:46.258Z"
   },
   {
    "duration": 46,
    "start_time": "2022-12-07T21:19:48.691Z"
   },
   {
    "duration": 1749,
    "start_time": "2022-12-07T21:20:00.001Z"
   },
   {
    "duration": 1761,
    "start_time": "2022-12-07T21:20:01.752Z"
   },
   {
    "duration": 19,
    "start_time": "2022-12-07T21:20:03.515Z"
   },
   {
    "duration": 68,
    "start_time": "2022-12-07T21:20:03.540Z"
   },
   {
    "duration": 45,
    "start_time": "2022-12-07T21:20:03.610Z"
   },
   {
    "duration": 10,
    "start_time": "2022-12-07T21:20:03.656Z"
   },
   {
    "duration": 23,
    "start_time": "2022-12-07T21:20:03.667Z"
   },
   {
    "duration": 56,
    "start_time": "2022-12-07T21:20:03.691Z"
   },
   {
    "duration": 21,
    "start_time": "2022-12-07T21:20:03.749Z"
   },
   {
    "duration": 11,
    "start_time": "2022-12-07T21:20:03.772Z"
   },
   {
    "duration": 39,
    "start_time": "2022-12-07T21:20:03.785Z"
   },
   {
    "duration": 48,
    "start_time": "2022-12-07T21:20:03.832Z"
   },
   {
    "duration": 19,
    "start_time": "2022-12-07T21:20:03.882Z"
   },
   {
    "duration": 1214,
    "start_time": "2022-12-07T21:20:03.903Z"
   },
   {
    "duration": 265,
    "start_time": "2022-12-07T21:20:05.122Z"
   },
   {
    "duration": 19,
    "start_time": "2022-12-07T21:20:05.389Z"
   },
   {
    "duration": 28,
    "start_time": "2022-12-07T21:20:05.409Z"
   },
   {
    "duration": 14,
    "start_time": "2022-12-07T21:20:05.439Z"
   },
   {
    "duration": 11,
    "start_time": "2022-12-07T21:20:05.454Z"
   },
   {
    "duration": 19,
    "start_time": "2022-12-07T21:20:05.467Z"
   },
   {
    "duration": 16,
    "start_time": "2022-12-07T21:20:05.488Z"
   },
   {
    "duration": 27,
    "start_time": "2022-12-07T21:20:05.506Z"
   },
   {
    "duration": 36,
    "start_time": "2022-12-07T21:20:05.535Z"
   },
   {
    "duration": 75,
    "start_time": "2022-12-07T21:20:05.572Z"
   },
   {
    "duration": 274,
    "start_time": "2022-12-07T21:20:05.649Z"
   },
   {
    "duration": 110,
    "start_time": "2022-12-07T21:20:05.929Z"
   },
   {
    "duration": 82,
    "start_time": "2022-12-07T21:20:06.048Z"
   },
   {
    "duration": 15,
    "start_time": "2022-12-07T21:20:06.221Z"
   },
   {
    "duration": 23,
    "start_time": "2022-12-07T21:20:06.238Z"
   },
   {
    "duration": 17,
    "start_time": "2022-12-07T21:20:06.263Z"
   },
   {
    "duration": 19,
    "start_time": "2022-12-07T21:20:06.282Z"
   },
   {
    "duration": 14,
    "start_time": "2022-12-07T21:20:06.303Z"
   },
   {
    "duration": 38,
    "start_time": "2022-12-07T21:20:06.318Z"
   },
   {
    "duration": 41,
    "start_time": "2022-12-07T21:20:06.358Z"
   },
   {
    "duration": 4,
    "start_time": "2022-12-07T21:20:06.401Z"
   },
   {
    "duration": 24,
    "start_time": "2022-12-07T21:20:06.406Z"
   },
   {
    "duration": 27,
    "start_time": "2022-12-07T21:20:06.432Z"
   },
   {
    "duration": 4,
    "start_time": "2022-12-07T21:20:06.460Z"
   },
   {
    "duration": 18,
    "start_time": "2022-12-07T21:20:06.466Z"
   },
   {
    "duration": 15,
    "start_time": "2022-12-07T21:20:06.486Z"
   },
   {
    "duration": 4,
    "start_time": "2022-12-07T21:20:06.503Z"
   },
   {
    "duration": 22,
    "start_time": "2022-12-07T21:20:06.522Z"
   },
   {
    "duration": 14,
    "start_time": "2022-12-07T21:20:06.545Z"
   },
   {
    "duration": 11,
    "start_time": "2022-12-07T21:20:06.561Z"
   },
   {
    "duration": 11,
    "start_time": "2022-12-07T21:20:06.573Z"
   },
   {
    "duration": 22,
    "start_time": "2022-12-07T21:20:06.586Z"
   },
   {
    "duration": 19,
    "start_time": "2022-12-07T21:20:06.609Z"
   },
   {
    "duration": 15,
    "start_time": "2022-12-07T21:20:06.630Z"
   },
   {
    "duration": 1094,
    "start_time": "2022-12-07T21:20:06.647Z"
   },
   {
    "duration": 1173,
    "start_time": "2022-12-07T21:20:07.743Z"
   },
   {
    "duration": 1123,
    "start_time": "2022-12-07T21:20:08.918Z"
   },
   {
    "duration": 2,
    "start_time": "2022-12-07T21:20:10.043Z"
   },
   {
    "duration": 4520,
    "start_time": "2022-12-07T21:20:10.047Z"
   },
   {
    "duration": 0,
    "start_time": "2022-12-07T21:20:14.569Z"
   },
   {
    "duration": 0,
    "start_time": "2022-12-07T21:20:14.570Z"
   },
   {
    "duration": 0,
    "start_time": "2022-12-07T21:20:14.571Z"
   },
   {
    "duration": 0,
    "start_time": "2022-12-07T21:20:14.572Z"
   },
   {
    "duration": 0,
    "start_time": "2022-12-07T21:20:14.573Z"
   },
   {
    "duration": 0,
    "start_time": "2022-12-07T21:20:14.574Z"
   },
   {
    "duration": 0,
    "start_time": "2022-12-07T21:20:14.576Z"
   },
   {
    "duration": 0,
    "start_time": "2022-12-07T21:20:14.577Z"
   },
   {
    "duration": 0,
    "start_time": "2022-12-07T21:20:14.578Z"
   },
   {
    "duration": 0,
    "start_time": "2022-12-07T21:20:14.580Z"
   },
   {
    "duration": 0,
    "start_time": "2022-12-07T21:20:14.581Z"
   },
   {
    "duration": 0,
    "start_time": "2022-12-07T21:20:14.581Z"
   },
   {
    "duration": 0,
    "start_time": "2022-12-07T21:20:14.582Z"
   },
   {
    "duration": 0,
    "start_time": "2022-12-07T21:20:14.584Z"
   },
   {
    "duration": 0,
    "start_time": "2022-12-07T21:20:14.585Z"
   },
   {
    "duration": 0,
    "start_time": "2022-12-07T21:20:14.586Z"
   },
   {
    "duration": 0,
    "start_time": "2022-12-07T21:20:14.587Z"
   },
   {
    "duration": 0,
    "start_time": "2022-12-07T21:20:14.588Z"
   },
   {
    "duration": 14,
    "start_time": "2022-12-07T21:20:43.320Z"
   },
   {
    "duration": 12,
    "start_time": "2022-12-07T21:20:44.318Z"
   },
   {
    "duration": 134,
    "start_time": "2022-12-07T21:20:44.542Z"
   },
   {
    "duration": 106,
    "start_time": "2022-12-07T21:20:44.887Z"
   },
   {
    "duration": 11,
    "start_time": "2022-12-07T21:20:46.495Z"
   }
  ],
  "kernelspec": {
   "display_name": "Python 3 (ipykernel)",
   "language": "python",
   "name": "python3"
  },
  "language_info": {
   "codemirror_mode": {
    "name": "ipython",
    "version": 3
   },
   "file_extension": ".py",
   "mimetype": "text/x-python",
   "name": "python",
   "nbconvert_exporter": "python",
   "pygments_lexer": "ipython3",
   "version": "3.9.5"
  },
  "toc": {
   "base_numbering": 1,
   "nav_menu": {},
   "number_sections": true,
   "sideBar": true,
   "skip_h1_title": true,
   "title_cell": "Table of Contents",
   "title_sidebar": "Contents",
   "toc_cell": false,
   "toc_position": {},
   "toc_section_display": true,
   "toc_window_display": false
  }
 },
 "nbformat": 4,
 "nbformat_minor": 2
}
